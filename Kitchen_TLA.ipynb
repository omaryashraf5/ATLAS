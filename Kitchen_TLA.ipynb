{
 "cells": [
  {
   "cell_type": "code",
   "execution_count": null,
   "metadata": {
    "collapsed": true
   },
   "outputs": [],
   "source": []
  },
  {
   "cell_type": "code",
   "execution_count": null,
   "metadata": {
    "collapsed": true
   },
   "outputs": [],
   "source": []
  },
  {
   "cell_type": "code",
   "execution_count": 1,
   "metadata": {
    "collapsed": true
   },
   "outputs": [],
   "source": [
    "import nltk\n",
    "from nltk.corpus import sentiwordnet as swn\n",
    "import graphlab\n",
    "import pandas\n",
    "import sklearn\n",
    "import scipy\n",
    "import matplotlib"
   ]
  },
  {
   "cell_type": "code",
   "execution_count": 2,
   "metadata": {
    "collapsed": true
   },
   "outputs": [],
   "source": [
    "import xml.etree.ElementTree as ET\n",
    "import pandas as pd\n",
    "import string\n",
    "#xml_data = open('/home/omar/data/train-data/kitchen/positive.review').read()\n",
    "\n",
    "def xml2df(xml_data):\n",
    "    root = ET.XML(xml_data) # element tree\n",
    "    all_records = []\n",
    "    for i, child in enumerate(root):\n",
    "        record = {}\n",
    "        for subchild in child:\n",
    "            record[subchild.tag] = subchild.text\n",
    "            all_records.append(record)\n",
    "    return pd.DataFrame(all_records)\n",
    "from pathlib2 import Path\n",
    "def extract(xml_data):\n",
    "    #/home/omar/data/train-data/books/positive.review\n",
    "    #\"/home/omar/data/train-data/books/unlabeled.review\"\n",
    "    with open(xml_data) as f:\n",
    "        File = f.readlines()\n",
    "    data=[]\n",
    "    datacheck=[]\n",
    "    revtext=\"\"\n",
    "    inreview=False\n",
    "    review = False\n",
    "    #contents = Path(xml_data).read_text()\n",
    "    for l in File:  #File\n",
    "        l = l.replace('\\n', '')\n",
    "        #l = l.replace(\"'\\u001a'\",'')\n",
    "        \n",
    "    \n",
    "        #l = l.replace('\\t', '')\n",
    "        #l = l.replace('\"', '')\n",
    "        if review and \"</review_text>\" not in l:\n",
    "            revtext+=l\n",
    "            #data.append(l)\n",
    "            \n",
    "        \n",
    "        if \"<review_text>\" in l:\n",
    "            review = True\n",
    "        if \"</review_text>\" in l:\n",
    "            data.append(revtext)\n",
    "            revtext=\"\"\n",
    "            review = False\n",
    "        \n",
    "    return data\n",
    "        \n",
    "\n",
    "\n",
    "def extract_summarized(xml_data):\n",
    "    #/home/omar/data/train-data/books/positive.review\n",
    "    #\"/home/omar/data/train-data/books/unlabeled.review\"\n",
    "    with open(xml_data) as f:\n",
    "        File = f.readlines()\n",
    "    data=[]\n",
    "    revtext=\"\"\n",
    "    inreview=False\n",
    "    for l in File:\n",
    "        l = l.replace('\\n', '')\n",
    "        \n",
    "        \n",
    "        ##if '<' not in l and '>' not in l and not l.isdigit():\n",
    "            ##data.append(l)\n",
    "        ##if review:\n",
    "            ##data.append(l)\n",
    "            ##review = False\n",
    "        if inreview:\n",
    "            data.append(l)\n",
    "            inreview=False\n",
    "        #\"xxxxABCDyyyy\".find(\"ABCD\") != -1:\n",
    "        if l.find(\"<review_text>\")!=-1:\n",
    "            inreview=True\n",
    "            \n",
    "        #if \"</review_text>\" in l:\n",
    "            #data.append(revtext)\n",
    "            #revtext=\"\"\n",
    "            #inreview=False\n",
    "    return data\n",
    "\n",
    "def Advanced_Extract(xml_data):\n",
    "    #/home/omar/data/train-data/books/positive.review\n",
    "    #\"/home/omar/data/train-data/books/unlabeled.review\"\n",
    "    with open(xml_data) as f:\n",
    "        File = f.readlines()\n",
    "    data=[]\n",
    "    revtext=\"\"\n",
    "    inreview=False\n",
    "    for l in File:\n",
    "        revtext+=l\n",
    "    subtext=\"\"\n",
    "    for word in revtext.split(\" \"):\n",
    "        if inreview:\n",
    "            subtext+=word + \" \"\n",
    "        if \"<review_text> \" in word:\n",
    "            inreview=True\n",
    "        if \"</review_text> \" in word:\n",
    "            inreview=False\n",
    "            data.append(subtext)\n",
    "            subtext=\"\"\n",
    "    return data\n",
    "        "
   ]
  },
  {
   "cell_type": "code",
   "execution_count": 3,
   "metadata": {
    "collapsed": true
   },
   "outputs": [],
   "source": [
    "xml_data_kp=\"D:/users/omar/Documents/DissertationResearch/OriginalBlitzerData/sorted_data/kitchen_&_housewares/positive.review\"\n",
    "#xml_data_kp=\"/home/omar/FullKitchenBlitzer/positive.review\"\n",
    "xml_data_kn=\"D:/users/omar/Documents/DissertationResearch/OriginalBlitzerData/sorted_data/kitchen_&_housewares/negative.review\"\n",
    "#xml_data_kn=\"/home/omar/FullKitchenBlitzer/negative.review\"\n",
    "xml_data_kul = \"D:/users/omar/Documents/DissertationResearch/OriginalBlitzerData/sorted_data/kitchen_&_housewares/unlabeled.review\"\n",
    "\n",
    "kitechenpos = extract(xml_data_kp)\n",
    "kitechenneg = extract(xml_data_kn)\n",
    "Kitchenunlabeled = extract(xml_data_kul)"
   ]
  },
  {
   "cell_type": "code",
   "execution_count": 4,
   "metadata": {
    "collapsed": true
   },
   "outputs": [],
   "source": [
    "xml_data_bp=\"D:/users/omar/Documents/DissertationResearch/OriginalBlitzerData/sorted_data/books/positive.review\"\n",
    "xml_data_bn=\"D:/users/omar/Documents/DissertationResearch/OriginalBlitzerData/sorted_data/books/negative.review\"\n",
    "xml_data_bul=\"D:/users/omar/Documents/DissertationResearch/OriginalBlitzerData/sorted_data/books/unlabeled.review\"\n",
    "bookspos = extract(xml_data_bp)\n",
    "\n",
    "\n",
    "booksneg = extract(xml_data_bn)\n",
    "\n",
    "booksunlabeled = extract(xml_data_bul)"
   ]
  },
  {
   "cell_type": "code",
   "execution_count": 5,
   "metadata": {
    "collapsed": true
   },
   "outputs": [],
   "source": [
    "xml_data_bp=\"D:/users/omar/Documents/DissertationResearch/OriginalBlitzerData/sorted_data/electronics/positive.review\"\n",
    "xml_data_bn=\"D:/users/omar/Documents/DissertationResearch/OriginalBlitzerData/sorted_data/electronics/negative.review\"\n",
    "xml_data_bul=\"D:/users/omar/Documents/DissertationResearch/OriginalBlitzerData/sorted_data/electronics/unlabeled.review\"\n",
    "electronicspos = extract(xml_data_bp)\n",
    "\n",
    "\n",
    "electronicsneg = extract(xml_data_bn)\n",
    "\n",
    "electronicsunlabeled = extract(xml_data_bul)"
   ]
  },
  {
   "cell_type": "code",
   "execution_count": 7,
   "metadata": {
    "collapsed": true
   },
   "outputs": [],
   "source": [
    "xml_data_bp=\"D:/users/omar/Documents/DissertationResearch/OriginalBlitzerData/sorted_data/dvd/positive.review\"\n",
    "xml_data_bn=\"D:/users/omar/Documents/DissertationResearch/OriginalBlitzerData/sorted_data/dvd/negative.review\"\n",
    "xml_data_bul=\"D:/users/omar/Documents/DissertationResearch/OriginalBlitzerData/sorted_data/dvd/unlabeled.review\"\n",
    "dvdpos = extract(xml_data_bp)\n",
    "\n",
    "\n",
    "dvdneg = extract(xml_data_bn)\n",
    "\n",
    "dvdunlabeled = extract(xml_data_bul)"
   ]
  },
  {
   "cell_type": "code",
   "execution_count": 8,
   "metadata": {
    "collapsed": false
   },
   "outputs": [
    {
     "name": "stdout",
     "output_type": "stream",
     "text": [
      "dvdpos\n",
      "1000\n",
      "dvdneg\n",
      "1000\n",
      "dvdunlabled\n",
      "122438\n",
      "bookpos\n",
      "1000\n",
      "bookneg\n",
      "1000\n",
      "bookunlabled\n",
      "973194\n",
      "kitechenpos\n",
      "1000\n",
      "kitechenneg\n",
      "1000\n",
      "Kitchenunlabeled\n",
      "17856\n",
      "electronicspos\n",
      "1000\n",
      "electronicsneg\n",
      "1000\n",
      "electronicsunlabeled\n",
      "21009\n"
     ]
    }
   ],
   "source": [
    "#len(dvdspos)\n",
    "#dvd_pos_reviews\n",
    "#len(electronicspos)\n",
    "xml_data_bp=\"D:/users/omar/Documents/DissertationResearch/OriginalBlitzerData/sorted_data/dvd/positive.review\"\n",
    "\n",
    "dvdspos = extract(xml_data_bp)\n",
    "print \"dvdpos\"\n",
    "print len(dvdpos)\n",
    "print \"dvdneg\"\n",
    "print len(dvdneg)\n",
    "print \"dvdunlabled\"\n",
    "print len(dvdunlabeled)\n",
    "\n",
    "print \"bookpos\"\n",
    "print len(bookspos)\n",
    "print \"bookneg\"\n",
    "print len(booksneg)\n",
    "print \"bookunlabled\"\n",
    "print len(booksunlabeled)\n",
    "\n",
    "print \"kitechenpos\"\n",
    "print len(kitechenpos)\n",
    "print \"kitechenneg\"\n",
    "print len(kitechenneg)\n",
    "print \"Kitchenunlabeled\"\n",
    "print len(Kitchenunlabeled)\n",
    "\n",
    "print \"electronicspos\"\n",
    "print len(electronicspos)\n",
    "print \"electronicsneg\"\n",
    "print len(electronicsneg)\n",
    "print \"electronicsunlabeled\"\n",
    "print len(electronicsunlabeled)\n",
    "\n"
   ]
  },
  {
   "cell_type": "code",
   "execution_count": 9,
   "metadata": {
    "collapsed": false
   },
   "outputs": [
    {
     "name": "stdout",
     "output_type": "stream",
     "text": [
      "apparelpos\n",
      "1000\n",
      "apparelneg\n",
      "1000\n",
      "apparelunlabeled\n",
      "7252\n"
     ]
    }
   ],
   "source": [
    "xml_data_bp=\"D:/users/omar/Documents/DissertationResearch/OriginalBlitzerData/sorted_data/apparel/positive.review\"\n",
    "xml_data_bn=\"D:/users/omar/Documents/DissertationResearch/OriginalBlitzerData/sorted_data/apparel/negative.review\"\n",
    "xml_data_bul=\"D:/users/omar/Documents/DissertationResearch/OriginalBlitzerData/sorted_data/apparel/unlabeled.review\"\n",
    "apparelpos = extract(xml_data_bp)\n",
    "\n",
    "\n",
    "apparelneg = extract(xml_data_bn)\n",
    "\n",
    "apparelunlabeled = extract(xml_data_bul)\n",
    "\n",
    "print \"apparelpos\"\n",
    "print len(apparelpos)\n",
    "\n",
    "print \"apparelneg\"\n",
    "print len(apparelneg)\n",
    "\n",
    "print \"apparelunlabeled\"\n",
    "print len(apparelunlabeled)"
   ]
  },
  {
   "cell_type": "code",
   "execution_count": 10,
   "metadata": {
    "collapsed": false
   },
   "outputs": [
    {
     "name": "stdout",
     "output_type": "stream",
     "text": [
      "automotivepos\n",
      "584\n",
      "automotiveneg\n",
      "152\n",
      "automotiveunlabeled\n",
      "0\n"
     ]
    }
   ],
   "source": [
    "xml_data_bp=\"D:/users/omar/Documents/DissertationResearch/OriginalBlitzerData/sorted_data/automotive/positive.review\"\n",
    "xml_data_bn=\"D:/users/omar/Documents/DissertationResearch/OriginalBlitzerData/sorted_data/automotive/negative.review\"\n",
    "xml_data_bul=\"D:/users/omar/Documents/DissertationResearch/OriginalBlitzerData/sorted_data/automotive/unlabeled.review\"\n",
    "automotivepos = extract(xml_data_bp)\n",
    "\n",
    "\n",
    "automotiveneg = extract(xml_data_bn)\n",
    "\n",
    "automotiveunlabeled = extract(xml_data_bul)\n",
    "\n",
    "print \"automotivepos\"\n",
    "print len(automotivepos)\n",
    "\n",
    "print \"automotiveneg\"\n",
    "print len(automotiveneg)\n",
    "\n",
    "print \"automotiveunlabeled\"\n",
    "print len(automotiveunlabeled)"
   ]
  },
  {
   "cell_type": "code",
   "execution_count": 11,
   "metadata": {
    "collapsed": false
   },
   "outputs": [
    {
     "name": "stdout",
     "output_type": "stream",
     "text": [
      "babypos\n",
      "1000\n",
      "babyneg\n",
      "900\n",
      "babyunlabeled\n",
      "2356\n"
     ]
    }
   ],
   "source": [
    "xml_data_bp=\"D:/users/omar/Documents/DissertationResearch/OriginalBlitzerData/sorted_data/baby/positive.review\"\n",
    "xml_data_bn=\"D:/users/omar/Documents/DissertationResearch/OriginalBlitzerData/sorted_data/baby/negative.review\"\n",
    "xml_data_bul=\"D:/users/omar/Documents/DissertationResearch/OriginalBlitzerData/sorted_data/baby/unlabeled.review\"\n",
    "babypos = extract(xml_data_bp)\n",
    "\n",
    "\n",
    "babyneg = extract(xml_data_bn)\n",
    "\n",
    "babyunlabeled = extract(xml_data_bul)\n",
    "print \"babypos\"\n",
    "print len(babypos)\n",
    "\n",
    "print \"babyneg\"\n",
    "print len(babyneg)\n",
    "\n",
    "print \"babyunlabeled\"\n",
    "print len(babyunlabeled)"
   ]
  },
  {
   "cell_type": "code",
   "execution_count": 12,
   "metadata": {
    "collapsed": false
   },
   "outputs": [
    {
     "name": "stdout",
     "output_type": "stream",
     "text": [
      "beautypos\n",
      "1000\n",
      "beautyneg\n",
      "493\n",
      "beautyunlabeled\n",
      "1391\n"
     ]
    }
   ],
   "source": [
    "xml_data_bp=\"D:/users/omar/Documents/DissertationResearch/OriginalBlitzerData/sorted_data/beauty/positive.review\"\n",
    "xml_data_bn=\"D:/users/omar/Documents/DissertationResearch/OriginalBlitzerData/sorted_data/beauty/negative.review\"\n",
    "xml_data_bul=\"D:/users/omar/Documents/DissertationResearch/OriginalBlitzerData/sorted_data/beauty/unlabeled.review\"\n",
    "beautypos = extract(xml_data_bp)\n",
    "\n",
    "\n",
    "beautyneg = extract(xml_data_bn)\n",
    "\n",
    "beautyunlabeled = extract(xml_data_bul)\n",
    "\n",
    "print \"beautypos\"\n",
    "print len(beautypos)\n",
    "\n",
    "print \"beautyneg\"\n",
    "print len(beautyneg)\n",
    "\n",
    "print \"beautyunlabeled\"\n",
    "print len(beautyunlabeled)"
   ]
  },
  {
   "cell_type": "code",
   "execution_count": 13,
   "metadata": {
    "collapsed": false
   },
   "outputs": [
    {
     "name": "stdout",
     "output_type": "stream",
     "text": [
      "cameraphotopos\n",
      "1000\n",
      "cameraphotoneg\n",
      "999\n",
      "cameraphotounlabeled\n",
      "5409\n"
     ]
    }
   ],
   "source": [
    "xml_data_bp=\"D:/users/omar/Documents/DissertationResearch/OriginalBlitzerData/sorted_data/camera_&_photo/positive.review\"\n",
    "xml_data_bn=\"D:/users/omar/Documents/DissertationResearch/OriginalBlitzerData/sorted_data/camera_&_photo/negative.review\"\n",
    "xml_data_bul=\"D:/users/omar/Documents/DissertationResearch/OriginalBlitzerData/sorted_data/camera_&_photo/unlabeled.review\"\n",
    "cameraphotopos = extract(xml_data_bp)\n",
    "\n",
    "\n",
    "cameraphotoneg = extract(xml_data_bn)\n",
    "\n",
    "cameraphotounlabeled = extract(xml_data_bul)\n",
    "\n",
    "print \"cameraphotopos\"\n",
    "print len(cameraphotopos)\n",
    "\n",
    "print \"cameraphotoneg\"\n",
    "print len(cameraphotoneg)\n",
    "\n",
    "print \"cameraphotounlabeled\"\n",
    "print len(cameraphotounlabeled)"
   ]
  },
  {
   "cell_type": "code",
   "execution_count": 14,
   "metadata": {
    "collapsed": false
   },
   "outputs": [
    {
     "name": "stdout",
     "output_type": "stream",
     "text": [
      "computervideo_gamespos\n",
      "1000\n",
      "computervideo_gamesneg\n",
      "458\n",
      "computervideo_gamesunlabeled\n",
      "1313\n"
     ]
    }
   ],
   "source": [
    "xml_data_bp=\"D:/users/omar/Documents/DissertationResearch/OriginalBlitzerData/sorted_data/computer_&_video_games/positive.review\"\n",
    "xml_data_bn=\"D:/users/omar/Documents/DissertationResearch/OriginalBlitzerData/sorted_data/computer_&_video_games/negative.review\"\n",
    "xml_data_bul=\"D:/users/omar/Documents/DissertationResearch/OriginalBlitzerData/sorted_data/computer_&_video_games/unlabeled.review\"\n",
    "computervideo_gamespos = extract(xml_data_bp)\n",
    "\n",
    "\n",
    "computervideo_gamesneg = extract(xml_data_bn)\n",
    "\n",
    "computervideo_gamesunlabeled = extract(xml_data_bul)\n",
    "\n",
    "print \"computervideo_gamespos\"\n",
    "print len(computervideo_gamespos)\n",
    "\n",
    "print \"computervideo_gamesneg\"\n",
    "print len(computervideo_gamesneg)\n",
    "\n",
    "print \"computervideo_gamesunlabeled\"\n",
    "print len(computervideo_gamesunlabeled)"
   ]
  },
  {
   "cell_type": "code",
   "execution_count": 15,
   "metadata": {
    "collapsed": false
   },
   "outputs": [
    {
     "name": "stdout",
     "output_type": "stream",
     "text": [
      "gourmet_foodpos\n",
      "1000\n",
      "gourmet_foodneg\n",
      "208\n",
      "gourmet_foodunlabeled\n",
      "367\n"
     ]
    }
   ],
   "source": [
    "xml_data_bp=\"D:/users/omar/Documents/DissertationResearch/OriginalBlitzerData/sorted_data/gourmet_food/positive.review\"\n",
    "xml_data_bn=\"D:/users/omar/Documents/DissertationResearch/OriginalBlitzerData/sorted_data/gourmet_food/negative.review\"\n",
    "xml_data_bul=\"D:/users/omar/Documents/DissertationResearch/OriginalBlitzerData/sorted_data/gourmet_food/unlabeled.review\"\n",
    "gourmet_foodpos = extract(xml_data_bp)\n",
    "\n",
    "\n",
    "gourmet_foodneg = extract(xml_data_bn)\n",
    "\n",
    "gourmet_foodunlabeled = extract(xml_data_bul)\n",
    "\n",
    "print \"gourmet_foodpos\"\n",
    "print len(gourmet_foodpos)\n",
    "\n",
    "print \"gourmet_foodneg\"\n",
    "print len(gourmet_foodneg)\n",
    "\n",
    "print \"gourmet_foodunlabeled\"\n",
    "print len(gourmet_foodunlabeled)"
   ]
  },
  {
   "cell_type": "code",
   "execution_count": 16,
   "metadata": {
    "collapsed": false
   },
   "outputs": [
    {
     "name": "stdout",
     "output_type": "stream",
     "text": [
      "grocerypos\n",
      "1000\n",
      "groceryneg\n",
      "352\n",
      "groceryunlabeled\n",
      "1280\n"
     ]
    }
   ],
   "source": [
    "xml_data_bp=\"D:/users/omar/Documents/DissertationResearch/OriginalBlitzerData/sorted_data/grocery/positive.review\"\n",
    "xml_data_bn=\"D:/users/omar/Documents/DissertationResearch/OriginalBlitzerData/sorted_data/grocery/negative.review\"\n",
    "xml_data_bul=\"D:/users/omar/Documents/DissertationResearch/OriginalBlitzerData/sorted_data/grocery/unlabeled.review\"\n",
    "grocerypos = extract(xml_data_bp)\n",
    "\n",
    "\n",
    "groceryneg = extract(xml_data_bn)\n",
    "\n",
    "groceryunlabeled = extract(xml_data_bul)\n",
    "\n",
    "print \"grocerypos\"\n",
    "print len(grocerypos)\n",
    "\n",
    "print \"groceryneg\"\n",
    "print len(groceryneg)\n",
    "\n",
    "print \"groceryunlabeled\"\n",
    "print len(groceryunlabeled)"
   ]
  },
  {
   "cell_type": "code",
   "execution_count": 17,
   "metadata": {
    "collapsed": false
   },
   "outputs": [
    {
     "name": "stdout",
     "output_type": "stream",
     "text": [
      "healthpersonal_carepos\n",
      "1000\n",
      "healthpersonal_careneg\n",
      "1000\n",
      "healthpersonal_careunlabeled\n",
      "5225\n"
     ]
    }
   ],
   "source": [
    "xml_data_bp=\"D:/users/omar/Documents/DissertationResearch/OriginalBlitzerData/sorted_data/health_&_personal_care/positive.review\"\n",
    "xml_data_bn=\"D:/users/omar/Documents/DissertationResearch/OriginalBlitzerData/sorted_data/health_&_personal_care/negative.review\"\n",
    "xml_data_bul=\"D:/users/omar/Documents/DissertationResearch/OriginalBlitzerData/sorted_data/health_&_personal_care/unlabeled.review\"\n",
    "healthpersonal_carepos = extract(xml_data_bp)\n",
    "\n",
    "\n",
    "healthpersonal_careneg = extract(xml_data_bn)\n",
    "\n",
    "healthpersonal_careunlabeled = extract(xml_data_bul)\n",
    "\n",
    "print \"healthpersonal_carepos\"\n",
    "print len(healthpersonal_carepos)\n",
    "\n",
    "print \"healthpersonal_careneg\"\n",
    "print len(healthpersonal_careneg)\n",
    "\n",
    "print \"healthpersonal_careunlabeled\"\n",
    "print len(healthpersonal_careunlabeled)"
   ]
  },
  {
   "cell_type": "code",
   "execution_count": 18,
   "metadata": {
    "collapsed": false
   },
   "outputs": [
    {
     "name": "stdout",
     "output_type": "stream",
     "text": [
      "jewelrywatchespos\n",
      "1000\n",
      "jewelrywatchesneg\n",
      "292\n",
      "jewelrywatchesunlabeled\n",
      "689\n"
     ]
    }
   ],
   "source": [
    "xml_data_bp=\"D:/users/omar/Documents/DissertationResearch/OriginalBlitzerData/sorted_data/jewelry_&_watches/positive.review\"\n",
    "xml_data_bn=\"D:/users/omar/Documents/DissertationResearch/OriginalBlitzerData/sorted_data/jewelry_&_watches/negative.review\"\n",
    "xml_data_bul=\"D:/users/omar/Documents/DissertationResearch/OriginalBlitzerData/sorted_data/jewelry_&_watches/unlabeled.review\"\n",
    "jewelrywatchespos = extract(xml_data_bp)\n",
    "\n",
    "\n",
    "jewelrywatchesneg = extract(xml_data_bn)\n",
    "\n",
    "jewelrywatchesunlabeled = extract(xml_data_bul)\n",
    "\n",
    "print \"jewelrywatchespos\"\n",
    "print len(jewelrywatchespos)\n",
    "\n",
    "print \"jewelrywatchesneg\"\n",
    "print len(jewelrywatchesneg)\n",
    "\n",
    "print \"jewelrywatchesunlabeled\"\n",
    "print len(jewelrywatchesunlabeled)"
   ]
  },
  {
   "cell_type": "code",
   "execution_count": 18,
   "metadata": {
    "collapsed": true
   },
   "outputs": [],
   "source": [
    "import pandas as pd\n",
    "Kitchen_pos_reviews = pd.DataFrame(kitechenpos,columns=['review'])\n",
    "books_pos_reviews = pd.DataFrame(bookspos,columns=['review'])\n",
    "Kitchen_neg_reviews = pd.DataFrame(kitechenneg,columns=['review'])\n",
    "Kitchen_ul_reviews = pd.DataFrame(Kitchenunlabeled,columns=['review'])\n",
    "books_neg_reviews = pd.DataFrame(booksneg,columns=['review'])\n",
    "\n",
    "## Newly added - 10 categories\n",
    "import pandas as pd\n",
    "apparel_pos_reviews = pd.DataFrame(apparelpos,columns=['review'])\n",
    "apparel_neg_reviews = pd.DataFrame(apparelneg,columns=['review'])\n",
    "apparel_ul_reviews = pd.DataFrame(apparelunlabeled,columns=['review'])\n",
    "\n",
    "automotive_pos_reviews = pd.DataFrame(automotivepos,columns=['review'])\n",
    "automotive_neg_reviews = pd.DataFrame(automotiveneg,columns=['review'])\n",
    "automotive_ul_reviews = pd.DataFrame(automotiveunlabeled,columns=['review'])\n",
    "\n",
    "baby_pos_reviews = pd.DataFrame(babypos,columns=['review'])\n",
    "baby_neg_reviews = pd.DataFrame(babyneg,columns=['review'])\n",
    "baby_ul_reviews = pd.DataFrame(babyunlabeled,columns=['review'])\n",
    "\n",
    "beauty_pos_reviews = pd.DataFrame(beautypos,columns=['review'])\n",
    "beauty_neg_reviews = pd.DataFrame(beautyneg,columns=['review'])\n",
    "beauty_ul_reviews = pd.DataFrame(beautyunlabeled,columns=['review'])\n",
    "\n",
    "cameraphoto_pos_reviews = pd.DataFrame(cameraphotopos,columns=['review'])\n",
    "cameraphoto_neg_reviews = pd.DataFrame(cameraphotoneg,columns=['review'])\n",
    "cameraphoto_ul_reviews = pd.DataFrame(cameraphotounlabeled,columns=['review'])\n",
    "\n",
    "computervideo_games_pos_reviews = pd.DataFrame(computervideo_gamespos,columns=['review'])\n",
    "computervideo_games_neg_reviews = pd.DataFrame(computervideo_gamesneg,columns=['review'])\n",
    "computervideo_games_ul_reviews = pd.DataFrame(computervideo_gamesunlabeled,columns=['review'])\n",
    "\n",
    "gourmet_food_pos_reviews = pd.DataFrame(gourmet_foodpos,columns=['review'])\n",
    "gourmet_food_neg_reviews = pd.DataFrame(gourmet_foodneg,columns=['review'])\n",
    "gourmet_food_ul_reviews = pd.DataFrame(gourmet_foodunlabeled,columns=['review'])\n",
    "\n",
    "grocery_pos_reviews = pd.DataFrame(grocerypos,columns=['review'])\n",
    "grocery_neg_reviews = pd.DataFrame(groceryneg,columns=['review'])\n",
    "grocery_ul_reviews = pd.DataFrame(groceryunlabeled,columns=['review'])\n",
    "\n",
    "healthpersonal_care_pos_reviews = pd.DataFrame(healthpersonal_carepos,columns=['review'])\n",
    "healthpersonal_care_neg_reviews = pd.DataFrame(healthpersonal_careneg,columns=['review'])\n",
    "healthpersonal_care_ul_reviews = pd.DataFrame(healthpersonal_careunlabeled,columns=['review'])\n",
    "\n",
    "jewelrywatches_pos_reviews = pd.DataFrame(jewelrywatchespos,columns=['review'])\n",
    "jewelrywatches_neg_reviews = pd.DataFrame(jewelrywatchesneg,columns=['review'])\n",
    "jewelrywatches_ul_reviews = pd.DataFrame(jewelrywatchesunlabeled,columns=['review'])\n"
   ]
  },
  {
   "cell_type": "code",
   "execution_count": 19,
   "metadata": {
    "collapsed": true
   },
   "outputs": [],
   "source": [
    "\n",
    "\n",
    "apparel_pos_reviews['label'] = 1\n",
    "apparel_neg_reviews['label'] = 0\n",
    "apparel_ul_reviews['label'] = -1\n",
    "\n",
    "apparel_reviews = apparel_pos_reviews\n",
    "apparel_reviews = apparel_reviews.append(apparel_neg_reviews)\n",
    "apparel_reviews = apparel_reviews.append(apparel_ul_reviews)\n",
    "\n",
    "apparel_reviews.to_csv('apparel_reviews.csv',index=False)\n",
    "\n",
    "\n",
    "automotive_pos_reviews['label'] = 1\n",
    "automotive_neg_reviews['label'] = 0\n",
    "automotive_ul_reviews['label'] = -1\n",
    "\n",
    "automotive_reviews = automotive_pos_reviews\n",
    "automotive_reviews = automotive_reviews.append(automotive_neg_reviews)\n",
    "automotive_reviews = automotive_reviews.append(automotive_ul_reviews)\n",
    "\n",
    "automotive_reviews.to_csv('automotive_reviews.csv',index=False)\n",
    "\n",
    "\n",
    "\n",
    "baby_pos_reviews['label'] = 1\n",
    "baby_neg_reviews['label'] = 0\n",
    "baby_ul_reviews['label'] = -1\n",
    "\n",
    "baby_reviews = baby_pos_reviews\n",
    "baby_reviews = baby_reviews.append(baby_neg_reviews)\n",
    "baby_reviews = baby_reviews.append(baby_ul_reviews)\n",
    "\n",
    "baby_reviews.to_csv('baby_reviews.csv',index=False)\n",
    "\n",
    "\n",
    "beauty_pos_reviews['label'] = 1\n",
    "beauty_neg_reviews['label'] = 0\n",
    "beauty_ul_reviews['label'] = -1\n",
    "\n",
    "beauty_reviews = beauty_pos_reviews\n",
    "beauty_reviews = beauty_reviews.append(beauty_neg_reviews)\n",
    "beauty_reviews = beauty_reviews.append(beauty_ul_reviews)\n",
    "\n",
    "beauty_reviews.to_csv('beauty_reviews.csv',index=False)\n",
    "\n",
    "\n",
    "cameraphoto_pos_reviews['label'] = 1\n",
    "cameraphoto_neg_reviews['label'] = 0\n",
    "cameraphoto_ul_reviews['label'] = -1\n",
    "\n",
    "cameraphoto_reviews = cameraphoto_pos_reviews\n",
    "cameraphoto_reviews = cameraphoto_reviews.append(cameraphoto_neg_reviews)\n",
    "cameraphoto_reviews = cameraphoto_reviews.append(cameraphoto_ul_reviews)\n",
    "\n",
    "cameraphoto_reviews.to_csv('cameraphoto_reviews.csv',index=False)\n",
    "\n",
    "\n",
    "computervideo_games_pos_reviews['label'] = 1\n",
    "computervideo_games_neg_reviews['label'] = 0\n",
    "computervideo_games_ul_reviews['label'] = -1\n",
    "\n",
    "computervideo_games_reviews = computervideo_games_pos_reviews\n",
    "computervideo_games_reviews = computervideo_games_reviews.append(computervideo_games_neg_reviews)\n",
    "computervideo_games_reviews = computervideo_games_reviews.append(computervideo_games_ul_reviews)\n",
    "\n",
    "computervideo_games_reviews.to_csv('computervideo_games_reviews.csv',index=False)\n",
    "\n",
    "\n",
    "gourmet_food_pos_reviews['label'] = 1\n",
    "gourmet_food_neg_reviews['label'] = 0\n",
    "gourmet_food_ul_reviews['label'] = -1\n",
    "\n",
    "gourmet_food_reviews = gourmet_food_pos_reviews\n",
    "gourmet_food_reviews = gourmet_food_reviews.append(gourmet_food_neg_reviews)\n",
    "gourmet_food_reviews = gourmet_food_reviews.append(gourmet_food_ul_reviews)\n",
    "\n",
    "gourmet_food_reviews.to_csv('gourmet_food_reviews.csv',index=False)\n",
    "\n",
    "\n",
    "grocery_pos_reviews['label'] = 1\n",
    "grocery_neg_reviews['label'] = 0\n",
    "grocery_ul_reviews['label'] = -1\n",
    "\n",
    "grocery_reviews = grocery_pos_reviews\n",
    "grocery_reviews = grocery_reviews.append(grocery_neg_reviews)\n",
    "grocery_reviews = grocery_reviews.append(grocery_ul_reviews)\n",
    "\n",
    "grocery_reviews.to_csv('grocery_reviews.csv',index=False)\n",
    "\n",
    "\n",
    "healthpersonal_care_pos_reviews['label'] = 1\n",
    "healthpersonal_care_neg_reviews['label'] = 0\n",
    "healthpersonal_care_ul_reviews['label'] = -1\n",
    "\n",
    "healthpersonal_care_reviews = healthpersonal_care_pos_reviews\n",
    "healthpersonal_care_reviews = healthpersonal_care_reviews.append(healthpersonal_care_neg_reviews)\n",
    "healthpersonal_care_reviews = healthpersonal_care_reviews.append(healthpersonal_care_ul_reviews)\n",
    "\n",
    "healthpersonal_care_reviews.to_csv('healthpersonal_care_reviews.csv',index=False)\n",
    "\n",
    "\n",
    "jewelrywatches_pos_reviews['label'] = 1\n",
    "jewelrywatches_neg_reviews['label'] = 0\n",
    "jewelrywatches_ul_reviews['label'] = -1\n",
    "\n",
    "jewelrywatches_reviews = jewelrywatches_pos_reviews\n",
    "jewelrywatches_reviews = jewelrywatches_reviews.append(jewelrywatches_neg_reviews)\n",
    "jewelrywatches_reviews = jewelrywatches_reviews.append(jewelrywatches_ul_reviews)\n",
    "\n",
    "jewelrywatches_reviews.to_csv('jewelrywatches_reviews.csv',index=False)\n",
    "\n"
   ]
  },
  {
   "cell_type": "code",
   "execution_count": 20,
   "metadata": {
    "collapsed": true
   },
   "outputs": [],
   "source": [
    "books_ul_reviews = pd.DataFrame(booksunlabeled,columns=['review'])\n",
    "\n",
    "\n",
    "dvd_pos_reviews = pd.DataFrame(dvdspos,columns=['review'])\n",
    "dvd_neg_reviews = pd.DataFrame(dvdneg,columns=['review'])\n",
    "dvd_ul_reviews = pd.DataFrame(dvdunlabeled,columns=['review'])\n",
    "\n",
    "electronics_pos_reviews = pd.DataFrame(electronicspos,columns=['review'])\n",
    "electronics_neg_reviews = pd.DataFrame(electronicsneg,columns=['review'])\n",
    "electronics_ul_reviews = pd.DataFrame(electronicsunlabeled,columns=['review'])\n",
    "kitechen_pos_reviews = pd.DataFrame(kitechenpos,columns=['review'])\n",
    "kitechen_neg_reviews = pd.DataFrame(kitechenneg,columns=['review'])\n",
    "kitechen_ul_reviews = pd.DataFrame(Kitchenunlabeled,columns=['review'])\n",
    "\n",
    "kitechen_pos_reviews['label'] = 1\n",
    "kitechen_neg_reviews['label'] = 0\n",
    "kitechen_ul_reviews['label'] = -1\n",
    "\n",
    "kitechen_reviews = kitechen_pos_reviews\n",
    "kitechen_reviews = kitechen_reviews.append(kitechen_neg_reviews)\n",
    "kitechen_reviews = kitechen_reviews.append(kitechen_ul_reviews)\n",
    "kitechen_reviews.to_csv('kitechen_reviews.csv',index=False)\n",
    "\n",
    "dvd_pos_reviews['label'] = 1\n",
    "dvd_neg_reviews['label'] = 0\n",
    "dvd_ul_reviews['label'] = -1\n",
    "\n",
    "electronics_pos_reviews['label'] = 1\n",
    "electronics_neg_reviews['label'] = 0\n",
    "electronics_ul_reviews['label'] = -1\n",
    "\n",
    "\n",
    "electronics_reviews = electronics_pos_reviews\n",
    "electronics_reviews = electronics_reviews.append(electronics_neg_reviews)\n",
    "electronics_reviews = electronics_reviews.append(electronics_ul_reviews)\n",
    "\n",
    "dvd_reviews = dvd_pos_reviews\n",
    "dvd_reviews = dvd_reviews.append(dvd_neg_reviews)\n",
    "dvd_reviews = dvd_reviews.append(dvd_ul_reviews)\n",
    "\n",
    "electronics_reviews.to_csv('electronics_reviews.csv',index=False)\n",
    "dvd_reviews.to_csv('dvd_reviews.csv',index=False)\n",
    "\n",
    "books_pos_reviews['label'] = 1\n",
    "books_neg_reviews['label'] = 0\n",
    "books_ul_reviews['label'] = -1\n",
    "books_reviews = books_pos_reviews\n",
    "books_reviews = books_reviews.append(books_neg_reviews)\n",
    "books_reviews = books_reviews.append(books_ul_reviews)\n",
    "\n",
    "books_reviews.to_csv('books_reviews.csv',index=False)"
   ]
  },
  {
   "cell_type": "code",
   "execution_count": null,
   "metadata": {
    "collapsed": true
   },
   "outputs": [],
   "source": []
  },
  {
   "cell_type": "code",
   "execution_count": 24,
   "metadata": {
    "collapsed": false
   },
   "outputs": [
    {
     "data": {
      "text/html": [
       "<pre>Finished parsing file C:\\Users\\Omar\\kitechen_reviews.csv</pre>"
      ],
      "text/plain": [
       "Finished parsing file C:\\Users\\Omar\\kitechen_reviews.csv"
      ]
     },
     "metadata": {},
     "output_type": "display_data"
    },
    {
     "data": {
      "text/html": [
       "<pre>Parsing completed. Parsed 100 lines in 0.055162 secs.</pre>"
      ],
      "text/plain": [
       "Parsing completed. Parsed 100 lines in 0.055162 secs."
      ]
     },
     "metadata": {},
     "output_type": "display_data"
    },
    {
     "name": "stdout",
     "output_type": "stream",
     "text": [
      "------------------------------------------------------\n",
      "Inferred types from first 100 line(s) of file as \n",
      "column_type_hints=[str,long]\n",
      "If parsing fails due to incorrect types, you can correct\n",
      "the inferred type list above and pass it to read_csv in\n",
      "the column_type_hints argument\n",
      "------------------------------------------------------\n"
     ]
    },
    {
     "data": {
      "text/html": [
       "<pre>Finished parsing file C:\\Users\\Omar\\kitechen_reviews.csv</pre>"
      ],
      "text/plain": [
       "Finished parsing file C:\\Users\\Omar\\kitechen_reviews.csv"
      ]
     },
     "metadata": {},
     "output_type": "display_data"
    },
    {
     "data": {
      "text/html": [
       "<pre>Parsing completed. Parsed 19856 lines in 0.089094 secs.</pre>"
      ],
      "text/plain": [
       "Parsing completed. Parsed 19856 lines in 0.089094 secs."
      ]
     },
     "metadata": {},
     "output_type": "display_data"
    },
    {
     "data": {
      "text/html": [
       "<pre>Finished parsing file C:\\Users\\Omar\\books_reviews.csv</pre>"
      ],
      "text/plain": [
       "Finished parsing file C:\\Users\\Omar\\books_reviews.csv"
      ]
     },
     "metadata": {},
     "output_type": "display_data"
    },
    {
     "data": {
      "text/html": [
       "<pre>Parsing completed. Parsed 100 lines in 0.215149 secs.</pre>"
      ],
      "text/plain": [
       "Parsing completed. Parsed 100 lines in 0.215149 secs."
      ]
     },
     "metadata": {},
     "output_type": "display_data"
    },
    {
     "name": "stdout",
     "output_type": "stream",
     "text": [
      "------------------------------------------------------\n",
      "Inferred types from first 100 line(s) of file as \n",
      "column_type_hints=[str,long]\n",
      "If parsing fails due to incorrect types, you can correct\n",
      "the inferred type list above and pass it to read_csv in\n",
      "the column_type_hints argument\n",
      "------------------------------------------------------\n"
     ]
    },
    {
     "data": {
      "text/html": [
       "<pre>Read 54835 lines. Lines per second: 115687</pre>"
      ],
      "text/plain": [
       "Read 54835 lines. Lines per second: 115687"
      ]
     },
     "metadata": {},
     "output_type": "display_data"
    },
    {
     "data": {
      "text/html": [
       "<pre>Unable to parse line \"\"I remember listening to this audio CD about a year ago on the way home from a friend's home in the back country late at night.  I figured what harm could there be... it's about cats... what could Stephen King do there?  Who was I kidding?!  Suffice it to ...\"</pre>"
      ],
      "text/plain": [
       "Unable to parse line \"\"I remember listening to this audio CD about a year ago on the way home from a friend's home in the back country late at night.  I figured what harm could there be... it's about cats... what could Stephen King do there?  Who was I kidding?!  Suffice it to ...\""
      ]
     },
     "metadata": {},
     "output_type": "display_data"
    },
    {
     "data": {
      "text/html": [
       "<pre>Unable to parse line \"\"I remember listening to this audio CD about a year ago on the way home from a friend's home in the back country late at night.  I figured what harm could there be... it's about cats... what could Stephen King do there?  Who was I kidding?!  Suffice it to ...\"</pre>"
      ],
      "text/plain": [
       "Unable to parse line \"\"I remember listening to this audio CD about a year ago on the way home from a friend's home in the back country late at night.  I figured what harm could there be... it's about cats... what could Stephen King do there?  Who was I kidding?!  Suffice it to ...\""
      ]
     },
     "metadata": {},
     "output_type": "display_data"
    },
    {
     "data": {
      "text/html": [
       "<pre>Unable to parse line \"\"A most circumspect, articulate and historically (non-revisionist) accurate evaluaton of our political, environmental and practical lives in the US of A today.Important and enlightening info in an age of increasing civil rights suppression and heightened f...\"</pre>"
      ],
      "text/plain": [
       "Unable to parse line \"\"A most circumspect, articulate and historically (non-revisionist) accurate evaluaton of our political, environmental and practical lives in the US of A today.Important and enlightening info in an age of increasing civil rights suppression and heightened f...\""
      ]
     },
     "metadata": {},
     "output_type": "display_data"
    },
    {
     "data": {
      "text/html": [
       "<pre>Unable to parse line \"\"I loved this story all the way through!  I \"\"read\"\" while I drive, so I did the audio CD, (unabridged), and it was delightful!  The storline was so fun and quirky and did have me laughing at so many parts... I do like Maz!  This is a woman we all know!  S...\"</pre>"
      ],
      "text/plain": [
       "Unable to parse line \"\"I loved this story all the way through!  I \"\"read\"\" while I drive, so I did the audio CD, (unabridged), and it was delightful!  The storline was so fun and quirky and did have me laughing at so many parts... I do like Maz!  This is a woman we all know!  S...\""
      ]
     },
     "metadata": {},
     "output_type": "display_data"
    },
    {
     "data": {
      "text/html": [
       "<pre>Unable to parse line \"\"I thoroughly enjoyed this book and had a hard time putting it down.  All of the characters were very enjoyable and Natalie aka: Cressida was a gas!  Such a girlfriend!  She was believable, at least in my world!, and I could totally see myself falling into...\"</pre>"
      ],
      "text/plain": [
       "Unable to parse line \"\"I thoroughly enjoyed this book and had a hard time putting it down.  All of the characters were very enjoyable and Natalie aka: Cressida was a gas!  Such a girlfriend!  She was believable, at least in my world!, and I could totally see myself falling into...\""
      ]
     },
     "metadata": {},
     "output_type": "display_data"
    },
    {
     "data": {
      "text/html": [
       "<pre>Read 932044 lines. Lines per second: 159744</pre>"
      ],
      "text/plain": [
       "Read 932044 lines. Lines per second: 159744"
      ]
     },
     "metadata": {},
     "output_type": "display_data"
    },
    {
     "data": {
      "text/html": [
       "<pre>5 lines failed to parse correctly</pre>"
      ],
      "text/plain": [
       "5 lines failed to parse correctly"
      ]
     },
     "metadata": {},
     "output_type": "display_data"
    },
    {
     "data": {
      "text/html": [
       "<pre>Finished parsing file C:\\Users\\Omar\\books_reviews.csv</pre>"
      ],
      "text/plain": [
       "Finished parsing file C:\\Users\\Omar\\books_reviews.csv"
      ]
     },
     "metadata": {},
     "output_type": "display_data"
    },
    {
     "data": {
      "text/html": [
       "<pre>Parsing completed. Parsed 975189 lines in 6.01105 secs.</pre>"
      ],
      "text/plain": [
       "Parsing completed. Parsed 975189 lines in 6.01105 secs."
      ]
     },
     "metadata": {},
     "output_type": "display_data"
    },
    {
     "data": {
      "text/html": [
       "<pre>Finished parsing file C:\\Users\\Omar\\electronics_reviews.csv</pre>"
      ],
      "text/plain": [
       "Finished parsing file C:\\Users\\Omar\\electronics_reviews.csv"
      ]
     },
     "metadata": {},
     "output_type": "display_data"
    },
    {
     "data": {
      "text/html": [
       "<pre>Parsing completed. Parsed 100 lines in 0.064092 secs.</pre>"
      ],
      "text/plain": [
       "Parsing completed. Parsed 100 lines in 0.064092 secs."
      ]
     },
     "metadata": {},
     "output_type": "display_data"
    },
    {
     "name": "stdout",
     "output_type": "stream",
     "text": [
      "------------------------------------------------------\n",
      "Inferred types from first 100 line(s) of file as \n",
      "column_type_hints=[str,long]\n",
      "If parsing fails due to incorrect types, you can correct\n",
      "the inferred type list above and pass it to read_csv in\n",
      "the column_type_hints argument\n",
      "------------------------------------------------------\n"
     ]
    },
    {
     "data": {
      "text/html": [
       "<pre>Finished parsing file C:\\Users\\Omar\\electronics_reviews.csv</pre>"
      ],
      "text/plain": [
       "Finished parsing file C:\\Users\\Omar\\electronics_reviews.csv"
      ]
     },
     "metadata": {},
     "output_type": "display_data"
    },
    {
     "data": {
      "text/html": [
       "<pre>Parsing completed. Parsed 23009 lines in 0.109869 secs.</pre>"
      ],
      "text/plain": [
       "Parsing completed. Parsed 23009 lines in 0.109869 secs."
      ]
     },
     "metadata": {},
     "output_type": "display_data"
    },
    {
     "data": {
      "text/html": [
       "<pre>Finished parsing file C:\\Users\\Omar\\dvd_reviews.csv</pre>"
      ],
      "text/plain": [
       "Finished parsing file C:\\Users\\Omar\\dvd_reviews.csv"
      ]
     },
     "metadata": {},
     "output_type": "display_data"
    },
    {
     "data": {
      "text/html": [
       "<pre>Parsing completed. Parsed 100 lines in 0.188014 secs.</pre>"
      ],
      "text/plain": [
       "Parsing completed. Parsed 100 lines in 0.188014 secs."
      ]
     },
     "metadata": {},
     "output_type": "display_data"
    },
    {
     "name": "stdout",
     "output_type": "stream",
     "text": [
      "------------------------------------------------------\n",
      "Inferred types from first 100 line(s) of file as \n",
      "column_type_hints=[str,long]\n",
      "If parsing fails due to incorrect types, you can correct\n",
      "the inferred type list above and pass it to read_csv in\n",
      "the column_type_hints argument\n",
      "------------------------------------------------------\n"
     ]
    },
    {
     "data": {
      "text/html": [
       "<pre>Finished parsing file C:\\Users\\Omar\\dvd_reviews.csv</pre>"
      ],
      "text/plain": [
       "Finished parsing file C:\\Users\\Omar\\dvd_reviews.csv"
      ]
     },
     "metadata": {},
     "output_type": "display_data"
    },
    {
     "data": {
      "text/html": [
       "<pre>Parsing completed. Parsed 124438 lines in 0.77465 secs.</pre>"
      ],
      "text/plain": [
       "Parsing completed. Parsed 124438 lines in 0.77465 secs."
      ]
     },
     "metadata": {},
     "output_type": "display_data"
    },
    {
     "data": {
      "text/html": [
       "<pre>Finished parsing file C:\\Users\\Omar\\apparel_reviews.csv</pre>"
      ],
      "text/plain": [
       "Finished parsing file C:\\Users\\Omar\\apparel_reviews.csv"
      ]
     },
     "metadata": {},
     "output_type": "display_data"
    },
    {
     "data": {
      "text/html": [
       "<pre>Parsing completed. Parsed 100 lines in 0.028723 secs.</pre>"
      ],
      "text/plain": [
       "Parsing completed. Parsed 100 lines in 0.028723 secs."
      ]
     },
     "metadata": {},
     "output_type": "display_data"
    },
    {
     "name": "stdout",
     "output_type": "stream",
     "text": [
      "------------------------------------------------------\n",
      "Inferred types from first 100 line(s) of file as \n",
      "column_type_hints=[str,long]\n",
      "If parsing fails due to incorrect types, you can correct\n",
      "the inferred type list above and pass it to read_csv in\n",
      "the column_type_hints argument\n",
      "------------------------------------------------------\n"
     ]
    },
    {
     "data": {
      "text/html": [
       "<pre>Finished parsing file C:\\Users\\Omar\\apparel_reviews.csv</pre>"
      ],
      "text/plain": [
       "Finished parsing file C:\\Users\\Omar\\apparel_reviews.csv"
      ]
     },
     "metadata": {},
     "output_type": "display_data"
    },
    {
     "data": {
      "text/html": [
       "<pre>Parsing completed. Parsed 9252 lines in 0.040862 secs.</pre>"
      ],
      "text/plain": [
       "Parsing completed. Parsed 9252 lines in 0.040862 secs."
      ]
     },
     "metadata": {},
     "output_type": "display_data"
    },
    {
     "data": {
      "text/html": [
       "<pre>Finished parsing file C:\\Users\\Omar\\automotive_reviews.csv</pre>"
      ],
      "text/plain": [
       "Finished parsing file C:\\Users\\Omar\\automotive_reviews.csv"
      ]
     },
     "metadata": {},
     "output_type": "display_data"
    },
    {
     "data": {
      "text/html": [
       "<pre>Parsing completed. Parsed 100 lines in 0.017628 secs.</pre>"
      ],
      "text/plain": [
       "Parsing completed. Parsed 100 lines in 0.017628 secs."
      ]
     },
     "metadata": {},
     "output_type": "display_data"
    },
    {
     "name": "stdout",
     "output_type": "stream",
     "text": [
      "------------------------------------------------------\n",
      "Inferred types from first 100 line(s) of file as \n",
      "column_type_hints=[str,long]\n",
      "If parsing fails due to incorrect types, you can correct\n",
      "the inferred type list above and pass it to read_csv in\n",
      "the column_type_hints argument\n",
      "------------------------------------------------------\n"
     ]
    },
    {
     "data": {
      "text/html": [
       "<pre>Finished parsing file C:\\Users\\Omar\\automotive_reviews.csv</pre>"
      ],
      "text/plain": [
       "Finished parsing file C:\\Users\\Omar\\automotive_reviews.csv"
      ]
     },
     "metadata": {},
     "output_type": "display_data"
    },
    {
     "data": {
      "text/html": [
       "<pre>Parsing completed. Parsed 184 lines in 0.015997 secs.</pre>"
      ],
      "text/plain": [
       "Parsing completed. Parsed 184 lines in 0.015997 secs."
      ]
     },
     "metadata": {},
     "output_type": "display_data"
    },
    {
     "data": {
      "text/html": [
       "<pre>Finished parsing file C:\\Users\\Omar\\baby_reviews.csv</pre>"
      ],
      "text/plain": [
       "Finished parsing file C:\\Users\\Omar\\baby_reviews.csv"
      ]
     },
     "metadata": {},
     "output_type": "display_data"
    },
    {
     "data": {
      "text/html": [
       "<pre>Parsing completed. Parsed 100 lines in 0.029569 secs.</pre>"
      ],
      "text/plain": [
       "Parsing completed. Parsed 100 lines in 0.029569 secs."
      ]
     },
     "metadata": {},
     "output_type": "display_data"
    },
    {
     "name": "stdout",
     "output_type": "stream",
     "text": [
      "------------------------------------------------------\n",
      "Inferred types from first 100 line(s) of file as \n",
      "column_type_hints=[str,long]\n",
      "If parsing fails due to incorrect types, you can correct\n",
      "the inferred type list above and pass it to read_csv in\n",
      "the column_type_hints argument\n",
      "------------------------------------------------------\n"
     ]
    },
    {
     "data": {
      "text/html": [
       "<pre>Finished parsing file C:\\Users\\Omar\\baby_reviews.csv</pre>"
      ],
      "text/plain": [
       "Finished parsing file C:\\Users\\Omar\\baby_reviews.csv"
      ]
     },
     "metadata": {},
     "output_type": "display_data"
    },
    {
     "data": {
      "text/html": [
       "<pre>Parsing completed. Parsed 3955 lines in 0.035571 secs.</pre>"
      ],
      "text/plain": [
       "Parsing completed. Parsed 3955 lines in 0.035571 secs."
      ]
     },
     "metadata": {},
     "output_type": "display_data"
    },
    {
     "data": {
      "text/html": [
       "<pre>Finished parsing file C:\\Users\\Omar\\beauty_reviews.csv</pre>"
      ],
      "text/plain": [
       "Finished parsing file C:\\Users\\Omar\\beauty_reviews.csv"
      ]
     },
     "metadata": {},
     "output_type": "display_data"
    },
    {
     "data": {
      "text/html": [
       "<pre>Parsing completed. Parsed 100 lines in 0.024488 secs.</pre>"
      ],
      "text/plain": [
       "Parsing completed. Parsed 100 lines in 0.024488 secs."
      ]
     },
     "metadata": {},
     "output_type": "display_data"
    },
    {
     "name": "stdout",
     "output_type": "stream",
     "text": [
      "------------------------------------------------------\n",
      "Inferred types from first 100 line(s) of file as \n",
      "column_type_hints=[str,long]\n",
      "If parsing fails due to incorrect types, you can correct\n",
      "the inferred type list above and pass it to read_csv in\n",
      "the column_type_hints argument\n",
      "------------------------------------------------------\n"
     ]
    },
    {
     "data": {
      "text/html": [
       "<pre>Finished parsing file C:\\Users\\Omar\\beauty_reviews.csv</pre>"
      ],
      "text/plain": [
       "Finished parsing file C:\\Users\\Omar\\beauty_reviews.csv"
      ]
     },
     "metadata": {},
     "output_type": "display_data"
    },
    {
     "data": {
      "text/html": [
       "<pre>Parsing completed. Parsed 2884 lines in 0.026569 secs.</pre>"
      ],
      "text/plain": [
       "Parsing completed. Parsed 2884 lines in 0.026569 secs."
      ]
     },
     "metadata": {},
     "output_type": "display_data"
    },
    {
     "data": {
      "text/html": [
       "<pre>Finished parsing file C:\\Users\\Omar\\cameraphoto_reviews.csv</pre>"
      ],
      "text/plain": [
       "Finished parsing file C:\\Users\\Omar\\cameraphoto_reviews.csv"
      ]
     },
     "metadata": {},
     "output_type": "display_data"
    },
    {
     "data": {
      "text/html": [
       "<pre>Parsing completed. Parsed 100 lines in 0.035032 secs.</pre>"
      ],
      "text/plain": [
       "Parsing completed. Parsed 100 lines in 0.035032 secs."
      ]
     },
     "metadata": {},
     "output_type": "display_data"
    },
    {
     "name": "stdout",
     "output_type": "stream",
     "text": [
      "------------------------------------------------------\n",
      "Inferred types from first 100 line(s) of file as \n",
      "column_type_hints=[str,long]\n",
      "If parsing fails due to incorrect types, you can correct\n",
      "the inferred type list above and pass it to read_csv in\n",
      "the column_type_hints argument\n",
      "------------------------------------------------------\n"
     ]
    },
    {
     "data": {
      "text/html": [
       "<pre>Finished parsing file C:\\Users\\Omar\\cameraphoto_reviews.csv</pre>"
      ],
      "text/plain": [
       "Finished parsing file C:\\Users\\Omar\\cameraphoto_reviews.csv"
      ]
     },
     "metadata": {},
     "output_type": "display_data"
    },
    {
     "data": {
      "text/html": [
       "<pre>Parsing completed. Parsed 7408 lines in 0.047372 secs.</pre>"
      ],
      "text/plain": [
       "Parsing completed. Parsed 7408 lines in 0.047372 secs."
      ]
     },
     "metadata": {},
     "output_type": "display_data"
    },
    {
     "data": {
      "text/html": [
       "<pre>Unable to parse line \"\"This is a really fun game. It's got quite a lot. Graphics, length, characters, story...Graphics: 8/10 Dayum! Reminds me of Dating Sims...But, nice. The characters are crisp and have the special ingredient known as anime eyes!Sound: 7/10 The voices (or lac...\"</pre>"
      ],
      "text/plain": [
       "Unable to parse line \"\"This is a really fun game. It's got quite a lot. Graphics, length, characters, story...Graphics: 8/10 Dayum! Reminds me of Dating Sims...But, nice. The characters are crisp and have the special ingredient known as anime eyes!Sound: 7/10 The voices (or lac...\""
      ]
     },
     "metadata": {},
     "output_type": "display_data"
    },
    {
     "data": {
      "text/html": [
       "<pre>Unable to parse line \"\"This is a really fun game. It's got quite a lot. Graphics, length, characters, story...Graphics: 8/10 Dayum! Reminds me of Dating Sims...But, nice. The characters are crisp and have the special ingredient known as anime eyes!Sound: 7/10 The voices (or lac...\"</pre>"
      ],
      "text/plain": [
       "Unable to parse line \"\"This is a really fun game. It's got quite a lot. Graphics, length, characters, story...Graphics: 8/10 Dayum! Reminds me of Dating Sims...But, nice. The characters are crisp and have the special ingredient known as anime eyes!Sound: 7/10 The voices (or lac...\""
      ]
     },
     "metadata": {},
     "output_type": "display_data"
    },
    {
     "data": {
      "text/html": [
       "<pre>2 lines failed to parse correctly</pre>"
      ],
      "text/plain": [
       "2 lines failed to parse correctly"
      ]
     },
     "metadata": {},
     "output_type": "display_data"
    },
    {
     "data": {
      "text/html": [
       "<pre>Finished parsing file C:\\Users\\Omar\\computervideo_games_reviews.csv</pre>"
      ],
      "text/plain": [
       "Finished parsing file C:\\Users\\Omar\\computervideo_games_reviews.csv"
      ]
     },
     "metadata": {},
     "output_type": "display_data"
    },
    {
     "data": {
      "text/html": [
       "<pre>Parsing completed. Parsed 100 lines in 0.026986 secs.</pre>"
      ],
      "text/plain": [
       "Parsing completed. Parsed 100 lines in 0.026986 secs."
      ]
     },
     "metadata": {},
     "output_type": "display_data"
    },
    {
     "name": "stdout",
     "output_type": "stream",
     "text": [
      "------------------------------------------------------\n",
      "Inferred types from first 100 line(s) of file as \n",
      "column_type_hints=[str,long]\n",
      "If parsing fails due to incorrect types, you can correct\n",
      "the inferred type list above and pass it to read_csv in\n",
      "the column_type_hints argument\n",
      "------------------------------------------------------\n"
     ]
    },
    {
     "data": {
      "text/html": [
       "<pre>Unable to parse line \"\"This is a really fun game. It's got quite a lot. Graphics, length, characters, story...Graphics: 8/10 Dayum! Reminds me of Dating Sims...But, nice. The characters are crisp and have the special ingredient known as anime eyes!Sound: 7/10 The voices (or lac...\"</pre>"
      ],
      "text/plain": [
       "Unable to parse line \"\"This is a really fun game. It's got quite a lot. Graphics, length, characters, story...Graphics: 8/10 Dayum! Reminds me of Dating Sims...But, nice. The characters are crisp and have the special ingredient known as anime eyes!Sound: 7/10 The voices (or lac...\""
      ]
     },
     "metadata": {},
     "output_type": "display_data"
    },
    {
     "data": {
      "text/html": [
       "<pre>Unable to parse line \"\"This is a really fun game. It's got quite a lot. Graphics, length, characters, story...Graphics: 8/10 Dayum! Reminds me of Dating Sims...But, nice. The characters are crisp and have the special ingredient known as anime eyes!Sound: 7/10 The voices (or lac...\"</pre>"
      ],
      "text/plain": [
       "Unable to parse line \"\"This is a really fun game. It's got quite a lot. Graphics, length, characters, story...Graphics: 8/10 Dayum! Reminds me of Dating Sims...But, nice. The characters are crisp and have the special ingredient known as anime eyes!Sound: 7/10 The voices (or lac...\""
      ]
     },
     "metadata": {},
     "output_type": "display_data"
    },
    {
     "data": {
      "text/html": [
       "<pre>2 lines failed to parse correctly</pre>"
      ],
      "text/plain": [
       "2 lines failed to parse correctly"
      ]
     },
     "metadata": {},
     "output_type": "display_data"
    },
    {
     "data": {
      "text/html": [
       "<pre>Finished parsing file C:\\Users\\Omar\\computervideo_games_reviews.csv</pre>"
      ],
      "text/plain": [
       "Finished parsing file C:\\Users\\Omar\\computervideo_games_reviews.csv"
      ]
     },
     "metadata": {},
     "output_type": "display_data"
    },
    {
     "data": {
      "text/html": [
       "<pre>Parsing completed. Parsed 2769 lines in 0.036064 secs.</pre>"
      ],
      "text/plain": [
       "Parsing completed. Parsed 2769 lines in 0.036064 secs."
      ]
     },
     "metadata": {},
     "output_type": "display_data"
    },
    {
     "data": {
      "text/html": [
       "<pre>Finished parsing file C:\\Users\\Omar\\gourmet_food_reviews.csv</pre>"
      ],
      "text/plain": [
       "Finished parsing file C:\\Users\\Omar\\gourmet_food_reviews.csv"
      ]
     },
     "metadata": {},
     "output_type": "display_data"
    },
    {
     "data": {
      "text/html": [
       "<pre>Parsing completed. Parsed 100 lines in 0.018603 secs.</pre>"
      ],
      "text/plain": [
       "Parsing completed. Parsed 100 lines in 0.018603 secs."
      ]
     },
     "metadata": {},
     "output_type": "display_data"
    },
    {
     "name": "stdout",
     "output_type": "stream",
     "text": [
      "------------------------------------------------------\n",
      "Inferred types from first 100 line(s) of file as \n",
      "column_type_hints=[str,long]\n",
      "If parsing fails due to incorrect types, you can correct\n",
      "the inferred type list above and pass it to read_csv in\n",
      "the column_type_hints argument\n",
      "------------------------------------------------------\n"
     ]
    },
    {
     "data": {
      "text/html": [
       "<pre>Finished parsing file C:\\Users\\Omar\\gourmet_food_reviews.csv</pre>"
      ],
      "text/plain": [
       "Finished parsing file C:\\Users\\Omar\\gourmet_food_reviews.csv"
      ]
     },
     "metadata": {},
     "output_type": "display_data"
    },
    {
     "data": {
      "text/html": [
       "<pre>Parsing completed. Parsed 1575 lines in 0.014138 secs.</pre>"
      ],
      "text/plain": [
       "Parsing completed. Parsed 1575 lines in 0.014138 secs."
      ]
     },
     "metadata": {},
     "output_type": "display_data"
    },
    {
     "data": {
      "text/html": [
       "<pre>Finished parsing file C:\\Users\\Omar\\grocery_reviews.csv</pre>"
      ],
      "text/plain": [
       "Finished parsing file C:\\Users\\Omar\\grocery_reviews.csv"
      ]
     },
     "metadata": {},
     "output_type": "display_data"
    },
    {
     "data": {
      "text/html": [
       "<pre>Parsing completed. Parsed 100 lines in 0.014085 secs.</pre>"
      ],
      "text/plain": [
       "Parsing completed. Parsed 100 lines in 0.014085 secs."
      ]
     },
     "metadata": {},
     "output_type": "display_data"
    },
    {
     "name": "stdout",
     "output_type": "stream",
     "text": [
      "------------------------------------------------------\n",
      "Inferred types from first 100 line(s) of file as \n",
      "column_type_hints=[str,long]\n",
      "If parsing fails due to incorrect types, you can correct\n",
      "the inferred type list above and pass it to read_csv in\n",
      "the column_type_hints argument\n",
      "------------------------------------------------------\n"
     ]
    },
    {
     "data": {
      "text/html": [
       "<pre>Finished parsing file C:\\Users\\Omar\\grocery_reviews.csv</pre>"
      ],
      "text/plain": [
       "Finished parsing file C:\\Users\\Omar\\grocery_reviews.csv"
      ]
     },
     "metadata": {},
     "output_type": "display_data"
    },
    {
     "data": {
      "text/html": [
       "<pre>Parsing completed. Parsed 2632 lines in 0.02473 secs.</pre>"
      ],
      "text/plain": [
       "Parsing completed. Parsed 2632 lines in 0.02473 secs."
      ]
     },
     "metadata": {},
     "output_type": "display_data"
    },
    {
     "data": {
      "text/html": [
       "<pre>Finished parsing file C:\\Users\\Omar\\healthpersonal_care_reviews.csv</pre>"
      ],
      "text/plain": [
       "Finished parsing file C:\\Users\\Omar\\healthpersonal_care_reviews.csv"
      ]
     },
     "metadata": {},
     "output_type": "display_data"
    },
    {
     "data": {
      "text/html": [
       "<pre>Parsing completed. Parsed 100 lines in 0.028526 secs.</pre>"
      ],
      "text/plain": [
       "Parsing completed. Parsed 100 lines in 0.028526 secs."
      ]
     },
     "metadata": {},
     "output_type": "display_data"
    },
    {
     "name": "stdout",
     "output_type": "stream",
     "text": [
      "------------------------------------------------------\n",
      "Inferred types from first 100 line(s) of file as \n",
      "column_type_hints=[str,long]\n",
      "If parsing fails due to incorrect types, you can correct\n",
      "the inferred type list above and pass it to read_csv in\n",
      "the column_type_hints argument\n",
      "------------------------------------------------------\n"
     ]
    },
    {
     "data": {
      "text/html": [
       "<pre>Finished parsing file C:\\Users\\Omar\\healthpersonal_care_reviews.csv</pre>"
      ],
      "text/plain": [
       "Finished parsing file C:\\Users\\Omar\\healthpersonal_care_reviews.csv"
      ]
     },
     "metadata": {},
     "output_type": "display_data"
    },
    {
     "data": {
      "text/html": [
       "<pre>Parsing completed. Parsed 7225 lines in 0.032956 secs.</pre>"
      ],
      "text/plain": [
       "Parsing completed. Parsed 7225 lines in 0.032956 secs."
      ]
     },
     "metadata": {},
     "output_type": "display_data"
    },
    {
     "data": {
      "text/html": [
       "<pre>Finished parsing file C:\\Users\\Omar\\jewelrywatches_reviews.csv</pre>"
      ],
      "text/plain": [
       "Finished parsing file C:\\Users\\Omar\\jewelrywatches_reviews.csv"
      ]
     },
     "metadata": {},
     "output_type": "display_data"
    },
    {
     "data": {
      "text/html": [
       "<pre>Parsing completed. Parsed 100 lines in 0.020413 secs.</pre>"
      ],
      "text/plain": [
       "Parsing completed. Parsed 100 lines in 0.020413 secs."
      ]
     },
     "metadata": {},
     "output_type": "display_data"
    },
    {
     "name": "stdout",
     "output_type": "stream",
     "text": [
      "------------------------------------------------------\n",
      "Inferred types from first 100 line(s) of file as \n",
      "column_type_hints=[str,long]\n",
      "If parsing fails due to incorrect types, you can correct\n",
      "the inferred type list above and pass it to read_csv in\n",
      "the column_type_hints argument\n",
      "------------------------------------------------------\n"
     ]
    },
    {
     "data": {
      "text/html": [
       "<pre>Finished parsing file C:\\Users\\Omar\\jewelrywatches_reviews.csv</pre>"
      ],
      "text/plain": [
       "Finished parsing file C:\\Users\\Omar\\jewelrywatches_reviews.csv"
      ]
     },
     "metadata": {},
     "output_type": "display_data"
    },
    {
     "data": {
      "text/html": [
       "<pre>Parsing completed. Parsed 1981 lines in 0.025327 secs.</pre>"
      ],
      "text/plain": [
       "Parsing completed. Parsed 1981 lines in 0.025327 secs."
      ]
     },
     "metadata": {},
     "output_type": "display_data"
    }
   ],
   "source": [
    "from collections import defaultdict\n",
    "\n",
    "domains = defaultdict(str)\n",
    "domainnames = ['booksgl','electronicsgl','dvdgl','apparelgl','automotivegl','babygl','beautygl','cameraphotogl','computervideo_gamesgl',\n",
    "           'gourmet_foodgl','grocerygl','healthpersonal_caregl','jewelrywatchesgl']\n",
    "\n",
    "import graphlab as gl\n",
    "\n",
    "kitchengl = gl.SFrame('kitechen_reviews.csv')\n",
    "booksgl = gl.SFrame('books_reviews.csv')\n",
    "domains['booksgl'] = booksgl\n",
    "electronicsgl = gl.SFrame('electronics_reviews.csv')\n",
    "domains['electronicsgl'] = electronicsgl\n",
    "dvdgl = gl.SFrame('dvd_reviews.csv')\n",
    "domains['dvdgl'] = dvdgl\n",
    "\n",
    "apparelgl = gl.SFrame('apparel_reviews.csv')\n",
    "domains['apparelgl'] = apparelgl\n",
    "automotivegl = gl.SFrame('automotive_reviews.csv')\n",
    "domains['automotivegl'] = automotivegl\n",
    "babygl = gl.SFrame('baby_reviews.csv')\n",
    "domains['babygl'] = babygl\n",
    "\n",
    "beautygl = gl.SFrame('beauty_reviews.csv')\n",
    "domains['beautygl'] = beautygl\n",
    "cameraphotogl = gl.SFrame('cameraphoto_reviews.csv')\n",
    "domains['cameraphotogl'] = cameraphotogl\n",
    "computervideo_gamesgl = gl.SFrame('computervideo_games_reviews.csv')\n",
    "domains['computervideo_gamesgl'] = computervideo_gamesgl\n",
    "\n",
    "gourmet_foodgl = gl.SFrame('gourmet_food_reviews.csv')\n",
    "domains['gourmet_foodgl'] = gourmet_foodgl\n",
    "grocerygl = gl.SFrame('grocery_reviews.csv')\n",
    "domains['grocerygl'] = grocerygl\n",
    "healthpersonal_caregl = gl.SFrame('healthpersonal_care_reviews.csv')\n",
    "domains['healthpersonal_caregl'] = healthpersonal_caregl\n",
    "\n",
    "jewelrywatchesgl = gl.SFrame('jewelrywatches_reviews.csv')\n",
    "domains['jewelrywatchesgl'] = jewelrywatchesgl\n"
   ]
  },
  {
   "cell_type": "code",
   "execution_count": 2,
   "metadata": {
    "collapsed": false
   },
   "outputs": [
    {
     "name": "stderr",
     "output_type": "stream",
     "text": [
      "[INFO] graphlab.cython.cy_server: GraphLab Create v2.1 started. Logging: C:\\Users\\Omar\\AppData\\Local\\Temp\\graphlab_server_1537984655.log.0\n"
     ]
    },
    {
     "name": "stdout",
     "output_type": "stream",
     "text": [
      "This non-commercial license of GraphLab Create for academic use is assigned to oaabde01@louisville.edu and will expire on September 24, 2019.\n"
     ]
    },
    {
     "data": {
      "text/html": [
       "<pre>Finished parsing file C:\\Users\\Omar\\kitechen_reviews.csv</pre>"
      ],
      "text/plain": [
       "Finished parsing file C:\\Users\\Omar\\kitechen_reviews.csv"
      ]
     },
     "metadata": {},
     "output_type": "display_data"
    },
    {
     "data": {
      "text/html": [
       "<pre>Parsing completed. Parsed 100 lines in 0.065963 secs.</pre>"
      ],
      "text/plain": [
       "Parsing completed. Parsed 100 lines in 0.065963 secs."
      ]
     },
     "metadata": {},
     "output_type": "display_data"
    },
    {
     "name": "stdout",
     "output_type": "stream",
     "text": [
      "------------------------------------------------------\n",
      "Inferred types from first 100 line(s) of file as \n",
      "column_type_hints=[str,long]\n",
      "If parsing fails due to incorrect types, you can correct\n",
      "the inferred type list above and pass it to read_csv in\n",
      "the column_type_hints argument\n",
      "------------------------------------------------------\n"
     ]
    },
    {
     "data": {
      "text/html": [
       "<pre>Finished parsing file C:\\Users\\Omar\\kitechen_reviews.csv</pre>"
      ],
      "text/plain": [
       "Finished parsing file C:\\Users\\Omar\\kitechen_reviews.csv"
      ]
     },
     "metadata": {},
     "output_type": "display_data"
    },
    {
     "data": {
      "text/html": [
       "<pre>Parsing completed. Parsed 19856 lines in 0.083951 secs.</pre>"
      ],
      "text/plain": [
       "Parsing completed. Parsed 19856 lines in 0.083951 secs."
      ]
     },
     "metadata": {},
     "output_type": "display_data"
    },
    {
     "data": {
      "text/html": [
       "<pre>Finished parsing file C:\\Users\\Omar\\books_reviews.csv</pre>"
      ],
      "text/plain": [
       "Finished parsing file C:\\Users\\Omar\\books_reviews.csv"
      ]
     },
     "metadata": {},
     "output_type": "display_data"
    },
    {
     "data": {
      "text/html": [
       "<pre>Parsing completed. Parsed 100 lines in 0.3458 secs.</pre>"
      ],
      "text/plain": [
       "Parsing completed. Parsed 100 lines in 0.3458 secs."
      ]
     },
     "metadata": {},
     "output_type": "display_data"
    },
    {
     "name": "stdout",
     "output_type": "stream",
     "text": [
      "------------------------------------------------------\n",
      "Inferred types from first 100 line(s) of file as \n",
      "column_type_hints=[str,long]\n",
      "If parsing fails due to incorrect types, you can correct\n",
      "the inferred type list above and pass it to read_csv in\n",
      "the column_type_hints argument\n",
      "------------------------------------------------------\n"
     ]
    },
    {
     "data": {
      "text/html": [
       "<pre>Read 54835 lines. Lines per second: 118801</pre>"
      ],
      "text/plain": [
       "Read 54835 lines. Lines per second: 118801"
      ]
     },
     "metadata": {},
     "output_type": "display_data"
    },
    {
     "data": {
      "text/html": [
       "<pre>Unable to parse line \"\"I remember listening to this audio CD about a year ago on the way home from a friend's home in the back country late at night.  I figured what harm could there be... it's about cats... what could Stephen King do there?  Who was I kidding?!  Suffice it to ...\"</pre>"
      ],
      "text/plain": [
       "Unable to parse line \"\"I remember listening to this audio CD about a year ago on the way home from a friend's home in the back country late at night.  I figured what harm could there be... it's about cats... what could Stephen King do there?  Who was I kidding?!  Suffice it to ...\""
      ]
     },
     "metadata": {},
     "output_type": "display_data"
    },
    {
     "data": {
      "text/html": [
       "<pre>Unable to parse line \"\"I remember listening to this audio CD about a year ago on the way home from a friend's home in the back country late at night.  I figured what harm could there be... it's about cats... what could Stephen King do there?  Who was I kidding?!  Suffice it to ...\"</pre>"
      ],
      "text/plain": [
       "Unable to parse line \"\"I remember listening to this audio CD about a year ago on the way home from a friend's home in the back country late at night.  I figured what harm could there be... it's about cats... what could Stephen King do there?  Who was I kidding?!  Suffice it to ...\""
      ]
     },
     "metadata": {},
     "output_type": "display_data"
    },
    {
     "data": {
      "text/html": [
       "<pre>Unable to parse line \"\"A most circumspect, articulate and historically (non-revisionist) accurate evaluaton of our political, environmental and practical lives in the US of A today.Important and enlightening info in an age of increasing civil rights suppression and heightened f...\"</pre>"
      ],
      "text/plain": [
       "Unable to parse line \"\"A most circumspect, articulate and historically (non-revisionist) accurate evaluaton of our political, environmental and practical lives in the US of A today.Important and enlightening info in an age of increasing civil rights suppression and heightened f...\""
      ]
     },
     "metadata": {},
     "output_type": "display_data"
    },
    {
     "data": {
      "text/html": [
       "<pre>Unable to parse line \"\"I loved this story all the way through!  I \"\"read\"\" while I drive, so I did the audio CD, (unabridged), and it was delightful!  The storline was so fun and quirky and did have me laughing at so many parts... I do like Maz!  This is a woman we all know!  S...\"</pre>"
      ],
      "text/plain": [
       "Unable to parse line \"\"I loved this story all the way through!  I \"\"read\"\" while I drive, so I did the audio CD, (unabridged), and it was delightful!  The storline was so fun and quirky and did have me laughing at so many parts... I do like Maz!  This is a woman we all know!  S...\""
      ]
     },
     "metadata": {},
     "output_type": "display_data"
    },
    {
     "data": {
      "text/html": [
       "<pre>Unable to parse line \"\"I thoroughly enjoyed this book and had a hard time putting it down.  All of the characters were very enjoyable and Natalie aka: Cressida was a gas!  Such a girlfriend!  She was believable, at least in my world!, and I could totally see myself falling into...\"</pre>"
      ],
      "text/plain": [
       "Unable to parse line \"\"I thoroughly enjoyed this book and had a hard time putting it down.  All of the characters were very enjoyable and Natalie aka: Cressida was a gas!  Such a girlfriend!  She was believable, at least in my world!, and I could totally see myself falling into...\""
      ]
     },
     "metadata": {},
     "output_type": "display_data"
    },
    {
     "data": {
      "text/html": [
       "<pre>5 lines failed to parse correctly</pre>"
      ],
      "text/plain": [
       "5 lines failed to parse correctly"
      ]
     },
     "metadata": {},
     "output_type": "display_data"
    },
    {
     "data": {
      "text/html": [
       "<pre>Finished parsing file C:\\Users\\Omar\\books_reviews.csv</pre>"
      ],
      "text/plain": [
       "Finished parsing file C:\\Users\\Omar\\books_reviews.csv"
      ]
     },
     "metadata": {},
     "output_type": "display_data"
    },
    {
     "data": {
      "text/html": [
       "<pre>Parsing completed. Parsed 975189 lines in 5.36284 secs.</pre>"
      ],
      "text/plain": [
       "Parsing completed. Parsed 975189 lines in 5.36284 secs."
      ]
     },
     "metadata": {},
     "output_type": "display_data"
    },
    {
     "data": {
      "text/html": [
       "<pre>Finished parsing file C:\\Users\\Omar\\electronics_reviews.csv</pre>"
      ],
      "text/plain": [
       "Finished parsing file C:\\Users\\Omar\\electronics_reviews.csv"
      ]
     },
     "metadata": {},
     "output_type": "display_data"
    },
    {
     "data": {
      "text/html": [
       "<pre>Parsing completed. Parsed 100 lines in 0.062964 secs.</pre>"
      ],
      "text/plain": [
       "Parsing completed. Parsed 100 lines in 0.062964 secs."
      ]
     },
     "metadata": {},
     "output_type": "display_data"
    },
    {
     "name": "stdout",
     "output_type": "stream",
     "text": [
      "------------------------------------------------------\n",
      "Inferred types from first 100 line(s) of file as \n",
      "column_type_hints=[str,long]\n",
      "If parsing fails due to incorrect types, you can correct\n",
      "the inferred type list above and pass it to read_csv in\n",
      "the column_type_hints argument\n",
      "------------------------------------------------------\n"
     ]
    },
    {
     "data": {
      "text/html": [
       "<pre>Finished parsing file C:\\Users\\Omar\\electronics_reviews.csv</pre>"
      ],
      "text/plain": [
       "Finished parsing file C:\\Users\\Omar\\electronics_reviews.csv"
      ]
     },
     "metadata": {},
     "output_type": "display_data"
    },
    {
     "data": {
      "text/html": [
       "<pre>Parsing completed. Parsed 23009 lines in 0.10394 secs.</pre>"
      ],
      "text/plain": [
       "Parsing completed. Parsed 23009 lines in 0.10394 secs."
      ]
     },
     "metadata": {},
     "output_type": "display_data"
    },
    {
     "data": {
      "text/html": [
       "<pre>Finished parsing file C:\\Users\\Omar\\dvd_reviews.csv</pre>"
      ],
      "text/plain": [
       "Finished parsing file C:\\Users\\Omar\\dvd_reviews.csv"
      ]
     },
     "metadata": {},
     "output_type": "display_data"
    },
    {
     "data": {
      "text/html": [
       "<pre>Parsing completed. Parsed 100 lines in 0.186169 secs.</pre>"
      ],
      "text/plain": [
       "Parsing completed. Parsed 100 lines in 0.186169 secs."
      ]
     },
     "metadata": {},
     "output_type": "display_data"
    },
    {
     "name": "stdout",
     "output_type": "stream",
     "text": [
      "------------------------------------------------------\n",
      "Inferred types from first 100 line(s) of file as \n",
      "column_type_hints=[str,long]\n",
      "If parsing fails due to incorrect types, you can correct\n",
      "the inferred type list above and pass it to read_csv in\n",
      "the column_type_hints argument\n",
      "------------------------------------------------------\n"
     ]
    },
    {
     "data": {
      "text/html": [
       "<pre>Read 52466 lines. Lines per second: 116856</pre>"
      ],
      "text/plain": [
       "Read 52466 lines. Lines per second: 116856"
      ]
     },
     "metadata": {},
     "output_type": "display_data"
    },
    {
     "data": {
      "text/html": [
       "<pre>Finished parsing file C:\\Users\\Omar\\dvd_reviews.csv</pre>"
      ],
      "text/plain": [
       "Finished parsing file C:\\Users\\Omar\\dvd_reviews.csv"
      ]
     },
     "metadata": {},
     "output_type": "display_data"
    },
    {
     "data": {
      "text/html": [
       "<pre>Parsing completed. Parsed 124438 lines in 0.762021 secs.</pre>"
      ],
      "text/plain": [
       "Parsing completed. Parsed 124438 lines in 0.762021 secs."
      ]
     },
     "metadata": {},
     "output_type": "display_data"
    },
    {
     "data": {
      "text/html": [
       "<pre>Finished parsing file C:\\Users\\Omar\\apparel_reviews.csv</pre>"
      ],
      "text/plain": [
       "Finished parsing file C:\\Users\\Omar\\apparel_reviews.csv"
      ]
     },
     "metadata": {},
     "output_type": "display_data"
    },
    {
     "data": {
      "text/html": [
       "<pre>Parsing completed. Parsed 100 lines in 0.028 secs.</pre>"
      ],
      "text/plain": [
       "Parsing completed. Parsed 100 lines in 0.028 secs."
      ]
     },
     "metadata": {},
     "output_type": "display_data"
    },
    {
     "name": "stdout",
     "output_type": "stream",
     "text": [
      "------------------------------------------------------\n",
      "Inferred types from first 100 line(s) of file as \n",
      "column_type_hints=[str,long]\n",
      "If parsing fails due to incorrect types, you can correct\n",
      "the inferred type list above and pass it to read_csv in\n",
      "the column_type_hints argument\n",
      "------------------------------------------------------\n"
     ]
    },
    {
     "data": {
      "text/html": [
       "<pre>Finished parsing file C:\\Users\\Omar\\apparel_reviews.csv</pre>"
      ],
      "text/plain": [
       "Finished parsing file C:\\Users\\Omar\\apparel_reviews.csv"
      ]
     },
     "metadata": {},
     "output_type": "display_data"
    },
    {
     "data": {
      "text/html": [
       "<pre>Parsing completed. Parsed 9252 lines in 0.037991 secs.</pre>"
      ],
      "text/plain": [
       "Parsing completed. Parsed 9252 lines in 0.037991 secs."
      ]
     },
     "metadata": {},
     "output_type": "display_data"
    },
    {
     "data": {
      "text/html": [
       "<pre>Finished parsing file C:\\Users\\Omar\\automotive_reviews.csv</pre>"
      ],
      "text/plain": [
       "Finished parsing file C:\\Users\\Omar\\automotive_reviews.csv"
      ]
     },
     "metadata": {},
     "output_type": "display_data"
    },
    {
     "data": {
      "text/html": [
       "<pre>Parsing completed. Parsed 100 lines in 0.018989 secs.</pre>"
      ],
      "text/plain": [
       "Parsing completed. Parsed 100 lines in 0.018989 secs."
      ]
     },
     "metadata": {},
     "output_type": "display_data"
    },
    {
     "name": "stdout",
     "output_type": "stream",
     "text": [
      "------------------------------------------------------\n",
      "Inferred types from first 100 line(s) of file as \n",
      "column_type_hints=[str,long]\n",
      "If parsing fails due to incorrect types, you can correct\n",
      "the inferred type list above and pass it to read_csv in\n",
      "the column_type_hints argument\n",
      "------------------------------------------------------\n"
     ]
    },
    {
     "data": {
      "text/html": [
       "<pre>Finished parsing file C:\\Users\\Omar\\automotive_reviews.csv</pre>"
      ],
      "text/plain": [
       "Finished parsing file C:\\Users\\Omar\\automotive_reviews.csv"
      ]
     },
     "metadata": {},
     "output_type": "display_data"
    },
    {
     "data": {
      "text/html": [
       "<pre>Parsing completed. Parsed 736 lines in 0.019006 secs.</pre>"
      ],
      "text/plain": [
       "Parsing completed. Parsed 736 lines in 0.019006 secs."
      ]
     },
     "metadata": {},
     "output_type": "display_data"
    },
    {
     "data": {
      "text/html": [
       "<pre>Finished parsing file C:\\Users\\Omar\\baby_reviewsUpdated.csv</pre>"
      ],
      "text/plain": [
       "Finished parsing file C:\\Users\\Omar\\baby_reviewsUpdated.csv"
      ]
     },
     "metadata": {},
     "output_type": "display_data"
    },
    {
     "data": {
      "text/html": [
       "<pre>Parsing completed. Parsed 100 lines in 0.025975 secs.</pre>"
      ],
      "text/plain": [
       "Parsing completed. Parsed 100 lines in 0.025975 secs."
      ]
     },
     "metadata": {},
     "output_type": "display_data"
    },
    {
     "name": "stdout",
     "output_type": "stream",
     "text": [
      "------------------------------------------------------\n",
      "Inferred types from first 100 line(s) of file as \n",
      "column_type_hints=[str,long]\n",
      "If parsing fails due to incorrect types, you can correct\n",
      "the inferred type list above and pass it to read_csv in\n",
      "the column_type_hints argument\n",
      "------------------------------------------------------\n"
     ]
    },
    {
     "data": {
      "text/html": [
       "<pre>Finished parsing file C:\\Users\\Omar\\baby_reviewsUpdated.csv</pre>"
      ],
      "text/plain": [
       "Finished parsing file C:\\Users\\Omar\\baby_reviewsUpdated.csv"
      ]
     },
     "metadata": {},
     "output_type": "display_data"
    },
    {
     "data": {
      "text/html": [
       "<pre>Parsing completed. Parsed 4256 lines in 0.034129 secs.</pre>"
      ],
      "text/plain": [
       "Parsing completed. Parsed 4256 lines in 0.034129 secs."
      ]
     },
     "metadata": {},
     "output_type": "display_data"
    },
    {
     "data": {
      "text/html": [
       "<pre>Finished parsing file C:\\Users\\Omar\\beauty_reviews.csv</pre>"
      ],
      "text/plain": [
       "Finished parsing file C:\\Users\\Omar\\beauty_reviews.csv"
      ]
     },
     "metadata": {},
     "output_type": "display_data"
    },
    {
     "data": {
      "text/html": [
       "<pre>Parsing completed. Parsed 100 lines in 0.023993 secs.</pre>"
      ],
      "text/plain": [
       "Parsing completed. Parsed 100 lines in 0.023993 secs."
      ]
     },
     "metadata": {},
     "output_type": "display_data"
    },
    {
     "name": "stdout",
     "output_type": "stream",
     "text": [
      "------------------------------------------------------\n",
      "Inferred types from first 100 line(s) of file as \n",
      "column_type_hints=[str,long]\n",
      "If parsing fails due to incorrect types, you can correct\n",
      "the inferred type list above and pass it to read_csv in\n",
      "the column_type_hints argument\n",
      "------------------------------------------------------\n"
     ]
    },
    {
     "data": {
      "text/html": [
       "<pre>Finished parsing file C:\\Users\\Omar\\beauty_reviews.csv</pre>"
      ],
      "text/plain": [
       "Finished parsing file C:\\Users\\Omar\\beauty_reviews.csv"
      ]
     },
     "metadata": {},
     "output_type": "display_data"
    },
    {
     "data": {
      "text/html": [
       "<pre>Parsing completed. Parsed 2884 lines in 0.033039 secs.</pre>"
      ],
      "text/plain": [
       "Parsing completed. Parsed 2884 lines in 0.033039 secs."
      ]
     },
     "metadata": {},
     "output_type": "display_data"
    },
    {
     "data": {
      "text/html": [
       "<pre>Finished parsing file C:\\Users\\Omar\\cameraphoto_reviews.csv</pre>"
      ],
      "text/plain": [
       "Finished parsing file C:\\Users\\Omar\\cameraphoto_reviews.csv"
      ]
     },
     "metadata": {},
     "output_type": "display_data"
    },
    {
     "data": {
      "text/html": [
       "<pre>Parsing completed. Parsed 100 lines in 0.035979 secs.</pre>"
      ],
      "text/plain": [
       "Parsing completed. Parsed 100 lines in 0.035979 secs."
      ]
     },
     "metadata": {},
     "output_type": "display_data"
    },
    {
     "name": "stdout",
     "output_type": "stream",
     "text": [
      "------------------------------------------------------\n",
      "Inferred types from first 100 line(s) of file as \n",
      "column_type_hints=[str,long]\n",
      "If parsing fails due to incorrect types, you can correct\n",
      "the inferred type list above and pass it to read_csv in\n",
      "the column_type_hints argument\n",
      "------------------------------------------------------\n"
     ]
    },
    {
     "data": {
      "text/html": [
       "<pre>Finished parsing file C:\\Users\\Omar\\cameraphoto_reviews.csv</pre>"
      ],
      "text/plain": [
       "Finished parsing file C:\\Users\\Omar\\cameraphoto_reviews.csv"
      ]
     },
     "metadata": {},
     "output_type": "display_data"
    },
    {
     "data": {
      "text/html": [
       "<pre>Parsing completed. Parsed 7408 lines in 0.052969 secs.</pre>"
      ],
      "text/plain": [
       "Parsing completed. Parsed 7408 lines in 0.052969 secs."
      ]
     },
     "metadata": {},
     "output_type": "display_data"
    },
    {
     "data": {
      "text/html": [
       "<pre>Finished parsing file C:\\Users\\Omar\\gourmet_food_reviews.csv</pre>"
      ],
      "text/plain": [
       "Finished parsing file C:\\Users\\Omar\\gourmet_food_reviews.csv"
      ]
     },
     "metadata": {},
     "output_type": "display_data"
    },
    {
     "data": {
      "text/html": [
       "<pre>Parsing completed. Parsed 100 lines in 0.02099 secs.</pre>"
      ],
      "text/plain": [
       "Parsing completed. Parsed 100 lines in 0.02099 secs."
      ]
     },
     "metadata": {},
     "output_type": "display_data"
    },
    {
     "name": "stdout",
     "output_type": "stream",
     "text": [
      "------------------------------------------------------\n",
      "Inferred types from first 100 line(s) of file as \n",
      "column_type_hints=[str,long]\n",
      "If parsing fails due to incorrect types, you can correct\n",
      "the inferred type list above and pass it to read_csv in\n",
      "the column_type_hints argument\n",
      "------------------------------------------------------\n"
     ]
    },
    {
     "data": {
      "text/html": [
       "<pre>Finished parsing file C:\\Users\\Omar\\gourmet_food_reviews.csv</pre>"
      ],
      "text/plain": [
       "Finished parsing file C:\\Users\\Omar\\gourmet_food_reviews.csv"
      ]
     },
     "metadata": {},
     "output_type": "display_data"
    },
    {
     "data": {
      "text/html": [
       "<pre>Parsing completed. Parsed 1575 lines in 0.023995 secs.</pre>"
      ],
      "text/plain": [
       "Parsing completed. Parsed 1575 lines in 0.023995 secs."
      ]
     },
     "metadata": {},
     "output_type": "display_data"
    },
    {
     "data": {
      "text/html": [
       "<pre>Finished parsing file C:\\Users\\Omar\\grocery_reviews.csv</pre>"
      ],
      "text/plain": [
       "Finished parsing file C:\\Users\\Omar\\grocery_reviews.csv"
      ]
     },
     "metadata": {},
     "output_type": "display_data"
    },
    {
     "data": {
      "text/html": [
       "<pre>Parsing completed. Parsed 100 lines in 0.024021 secs.</pre>"
      ],
      "text/plain": [
       "Parsing completed. Parsed 100 lines in 0.024021 secs."
      ]
     },
     "metadata": {},
     "output_type": "display_data"
    },
    {
     "name": "stdout",
     "output_type": "stream",
     "text": [
      "------------------------------------------------------\n",
      "Inferred types from first 100 line(s) of file as \n",
      "column_type_hints=[str,long]\n",
      "If parsing fails due to incorrect types, you can correct\n",
      "the inferred type list above and pass it to read_csv in\n",
      "the column_type_hints argument\n",
      "------------------------------------------------------\n"
     ]
    },
    {
     "data": {
      "text/html": [
       "<pre>Finished parsing file C:\\Users\\Omar\\grocery_reviews.csv</pre>"
      ],
      "text/plain": [
       "Finished parsing file C:\\Users\\Omar\\grocery_reviews.csv"
      ]
     },
     "metadata": {},
     "output_type": "display_data"
    },
    {
     "data": {
      "text/html": [
       "<pre>Parsing completed. Parsed 2632 lines in 0.025985 secs.</pre>"
      ],
      "text/plain": [
       "Parsing completed. Parsed 2632 lines in 0.025985 secs."
      ]
     },
     "metadata": {},
     "output_type": "display_data"
    },
    {
     "data": {
      "text/html": [
       "<pre>Finished parsing file C:\\Users\\Omar\\healthpersonal_care_reviews.csv</pre>"
      ],
      "text/plain": [
       "Finished parsing file C:\\Users\\Omar\\healthpersonal_care_reviews.csv"
      ]
     },
     "metadata": {},
     "output_type": "display_data"
    },
    {
     "data": {
      "text/html": [
       "<pre>Parsing completed. Parsed 100 lines in 0.033979 secs.</pre>"
      ],
      "text/plain": [
       "Parsing completed. Parsed 100 lines in 0.033979 secs."
      ]
     },
     "metadata": {},
     "output_type": "display_data"
    },
    {
     "name": "stdout",
     "output_type": "stream",
     "text": [
      "------------------------------------------------------\n",
      "Inferred types from first 100 line(s) of file as \n",
      "column_type_hints=[str,long]\n",
      "If parsing fails due to incorrect types, you can correct\n",
      "the inferred type list above and pass it to read_csv in\n",
      "the column_type_hints argument\n",
      "------------------------------------------------------\n"
     ]
    },
    {
     "data": {
      "text/html": [
       "<pre>Finished parsing file C:\\Users\\Omar\\healthpersonal_care_reviews.csv</pre>"
      ],
      "text/plain": [
       "Finished parsing file C:\\Users\\Omar\\healthpersonal_care_reviews.csv"
      ]
     },
     "metadata": {},
     "output_type": "display_data"
    },
    {
     "data": {
      "text/html": [
       "<pre>Parsing completed. Parsed 7225 lines in 0.038977 secs.</pre>"
      ],
      "text/plain": [
       "Parsing completed. Parsed 7225 lines in 0.038977 secs."
      ]
     },
     "metadata": {},
     "output_type": "display_data"
    },
    {
     "data": {
      "text/html": [
       "<pre>Finished parsing file C:\\Users\\Omar\\jewelrywatches_reviews.csv</pre>"
      ],
      "text/plain": [
       "Finished parsing file C:\\Users\\Omar\\jewelrywatches_reviews.csv"
      ]
     },
     "metadata": {},
     "output_type": "display_data"
    },
    {
     "data": {
      "text/html": [
       "<pre>Parsing completed. Parsed 100 lines in 0.020987 secs.</pre>"
      ],
      "text/plain": [
       "Parsing completed. Parsed 100 lines in 0.020987 secs."
      ]
     },
     "metadata": {},
     "output_type": "display_data"
    },
    {
     "name": "stdout",
     "output_type": "stream",
     "text": [
      "------------------------------------------------------\n",
      "Inferred types from first 100 line(s) of file as \n",
      "column_type_hints=[str,long]\n",
      "If parsing fails due to incorrect types, you can correct\n",
      "the inferred type list above and pass it to read_csv in\n",
      "the column_type_hints argument\n",
      "------------------------------------------------------\n"
     ]
    },
    {
     "data": {
      "text/html": [
       "<pre>Finished parsing file C:\\Users\\Omar\\jewelrywatches_reviews.csv</pre>"
      ],
      "text/plain": [
       "Finished parsing file C:\\Users\\Omar\\jewelrywatches_reviews.csv"
      ]
     },
     "metadata": {},
     "output_type": "display_data"
    },
    {
     "data": {
      "text/html": [
       "<pre>Parsing completed. Parsed 1981 lines in 0.021987 secs.</pre>"
      ],
      "text/plain": [
       "Parsing completed. Parsed 1981 lines in 0.021987 secs."
      ]
     },
     "metadata": {},
     "output_type": "display_data"
    }
   ],
   "source": [
    "from collections import defaultdict\n",
    "##original\n",
    "import pandas as pd\n",
    "import graphlab as gl\n",
    "domains = defaultdict(str)\n",
    "domainnames = ['booksgl','electronicsgl','dvdgl','apparelgl','automotivegl','babygl','beautygl','cameraphotogl','computervideo_gamesgl',\n",
    "           'gourmet_foodgl','grocerygl','healthpersonal_caregl','jewelrywatchesgl']\n",
    "\n",
    "import graphlab as gl\n",
    "\n",
    "kitchengl = gl.SFrame('kitechen_reviews.csv')\n",
    "booksgl = gl.SFrame('books_reviews.csv')\n",
    "domains['booksgl'] = booksgl\n",
    "electronicsgl = gl.SFrame('electronics_reviews.csv')\n",
    "domains['electronicsgl'] = electronicsgl\n",
    "dvdgl = gl.SFrame('dvd_reviews.csv')\n",
    "domains['dvdgl'] = dvdgl\n",
    "\n",
    "apparelgl = gl.SFrame('apparel_reviews.csv')\n",
    "domains['apparelgl'] = apparelgl\n",
    "automotivegl = gl.SFrame('automotive_reviews.csv')\n",
    "domains['automotivegl'] = automotivegl\n",
    "babygl = gl.SFrame('baby_reviewsUpdated.csv')\n",
    "domains['babygl'] = babygl\n",
    "\n",
    "beautygl = gl.SFrame('beauty_reviews.csv')\n",
    "domains['beautygl'] = beautygl\n",
    "cameraphotogl = gl.SFrame('cameraphoto_reviews.csv')\n",
    "domains['cameraphotogl'] = cameraphotogl\n",
    "#computervideo_gamesgl = gl.SFrame('computervideo_games_reviews.csv')\n",
    "computervideo_gamesdf = pd.read_csv('computervideo_games_reviews.csv')\n",
    "computervideo_gamesgl = gl.SFrame(data=computervideo_gamesdf)\n",
    "domains['computervideo_gamesgl'] = computervideo_gamesgl\n",
    "\n",
    "gourmet_foodgl = gl.SFrame('gourmet_food_reviews.csv')\n",
    "domains['gourmet_foodgl'] = gourmet_foodgl\n",
    "grocerygl = gl.SFrame('grocery_reviews.csv')\n",
    "domains['grocerygl'] = grocerygl\n",
    "healthpersonal_caregl = gl.SFrame('healthpersonal_care_reviews.csv')\n",
    "domains['healthpersonal_caregl'] = healthpersonal_caregl\n",
    "\n",
    "jewelrywatchesgl = gl.SFrame('jewelrywatches_reviews.csv')\n",
    "domains['jewelrywatchesgl'] = jewelrywatchesgl\n"
   ]
  },
  {
   "cell_type": "code",
   "execution_count": 25,
   "metadata": {
    "collapsed": true
   },
   "outputs": [],
   "source": [
    "apparelgl['word_count'] = gl.text_analytics.count_words(apparelgl['review'])\n",
    "automotivegl['word_count'] = gl.text_analytics.count_words(automotivegl['review'])\n",
    "babygl['word_count'] = gl.text_analytics.count_words(babygl['review'])\n",
    "beautygl['word_count'] = gl.text_analytics.count_words(beautygl['review'])\n",
    "cameraphotogl['word_count'] = gl.text_analytics.count_words(cameraphotogl['review'])\n",
    "computervideo_gamesgl['word_count'] = gl.text_analytics.count_words(computervideo_gamesgl['review'])\n",
    "gourmet_foodgl['word_count'] = gl.text_analytics.count_words(gourmet_foodgl['review'])\n",
    "grocerygl['word_count'] = gl.text_analytics.count_words(grocerygl['review'])\n",
    "\n",
    "healthpersonal_caregl['word_count'] = gl.text_analytics.count_words(healthpersonal_caregl['review'])\n",
    "jewelrywatchesgl['word_count'] = gl.text_analytics.count_words(jewelrywatchesgl['review'])\n",
    "\n",
    "import graphlab\n",
    "apparelgl['3-grams'] = graphlab.text_analytics.count_ngrams(apparelgl['review'], 3)\n",
    "apparelgl['2-grams'] = graphlab.text_analytics.count_ngrams(apparelgl['review'], 2)\n",
    "apparelgl['1-grams'] = graphlab.text_analytics.count_ngrams(apparelgl['review'], 1)\n",
    "\n",
    "automotivegl['3-grams'] = graphlab.text_analytics.count_ngrams(automotivegl['review'], 3)\n",
    "automotivegl['2-grams'] = graphlab.text_analytics.count_ngrams(automotivegl['review'], 2)\n",
    "automotivegl['1-grams'] = graphlab.text_analytics.count_ngrams(automotivegl['review'], 1)\n",
    "\n",
    "babygl['3-grams'] = graphlab.text_analytics.count_ngrams(babygl['review'], 3)\n",
    "babygl['2-grams'] = graphlab.text_analytics.count_ngrams(babygl['review'], 2)\n",
    "babygl['1-grams'] = graphlab.text_analytics.count_ngrams(babygl['review'], 1)\n",
    "\n",
    "beautygl['3-grams'] = graphlab.text_analytics.count_ngrams(beautygl['review'], 3)\n",
    "beautygl['2-grams'] = graphlab.text_analytics.count_ngrams(beautygl['review'], 2)\n",
    "beautygl['1-grams'] = graphlab.text_analytics.count_ngrams(beautygl['review'], 1)\n",
    "\n",
    "cameraphotogl['3-grams'] = graphlab.text_analytics.count_ngrams(cameraphotogl['review'], 3)\n",
    "cameraphotogl['2-grams'] = graphlab.text_analytics.count_ngrams(cameraphotogl['review'], 2)\n",
    "cameraphotogl['1-grams'] = graphlab.text_analytics.count_ngrams(cameraphotogl['review'], 1)\n",
    "\n",
    "computervideo_gamesgl['3-grams'] = graphlab.text_analytics.count_ngrams(computervideo_gamesgl['review'], 3)\n",
    "computervideo_gamesgl['2-grams'] = graphlab.text_analytics.count_ngrams(computervideo_gamesgl['review'], 2)\n",
    "computervideo_gamesgl['1-grams'] = graphlab.text_analytics.count_ngrams(computervideo_gamesgl['review'], 1)\n",
    "\n",
    "gourmet_foodgl['3-grams'] = graphlab.text_analytics.count_ngrams(gourmet_foodgl['review'], 3)\n",
    "gourmet_foodgl['2-grams'] = graphlab.text_analytics.count_ngrams(gourmet_foodgl['review'], 2)\n",
    "gourmet_foodgl['1-grams'] = graphlab.text_analytics.count_ngrams(gourmet_foodgl['review'], 1)\n",
    "\n",
    "grocerygl['3-grams'] = graphlab.text_analytics.count_ngrams(grocerygl['review'], 3)\n",
    "grocerygl['2-grams'] = graphlab.text_analytics.count_ngrams(grocerygl['review'], 2)\n",
    "grocerygl['1-grams'] = graphlab.text_analytics.count_ngrams(grocerygl['review'], 1)\n",
    "\n",
    "healthpersonal_caregl['3-grams'] = graphlab.text_analytics.count_ngrams(healthpersonal_caregl['review'], 3)\n",
    "healthpersonal_caregl['2-grams'] = graphlab.text_analytics.count_ngrams(healthpersonal_caregl['review'], 2)\n",
    "healthpersonal_caregl['1-grams'] = graphlab.text_analytics.count_ngrams(healthpersonal_caregl['review'], 1)\n",
    "\n",
    "jewelrywatchesgl['3-grams'] = graphlab.text_analytics.count_ngrams(jewelrywatchesgl['review'], 3)\n",
    "jewelrywatchesgl['2-grams'] = graphlab.text_analytics.count_ngrams(jewelrywatchesgl['review'], 2)\n",
    "jewelrywatchesgl['1-grams'] = graphlab.text_analytics.count_ngrams(jewelrywatchesgl['review'], 1)\n",
    "\n",
    "\n",
    "apparelgl['tfidf'] = gl.text_analytics.tf_idf(apparelgl['word_count'])\n",
    "\n",
    "automotivegl['tfidf'] = gl.text_analytics.tf_idf(automotivegl['word_count'])\n",
    "babygl['tfidf'] = gl.text_analytics.tf_idf(babygl['word_count'])\n",
    "beautygl['tfidf'] = gl.text_analytics.tf_idf(beautygl['word_count'])\n",
    "\n",
    "cameraphotogl['tfidf'] = gl.text_analytics.tf_idf(cameraphotogl['word_count'])\n",
    "\n",
    "computervideo_gamesgl['tfidf'] = gl.text_analytics.tf_idf(computervideo_gamesgl['word_count'])\n",
    "gourmet_foodgl['tfidf'] = gl.text_analytics.tf_idf(gourmet_foodgl['word_count'])\n",
    "grocerygl['tfidf'] = gl.text_analytics.tf_idf(grocerygl['word_count'])\n",
    "\n",
    "healthpersonal_caregl['tfidf'] = gl.text_analytics.tf_idf(healthpersonal_caregl['word_count'])\n",
    "jewelrywatchesgl['tfidf'] = gl.text_analytics.tf_idf(jewelrywatchesgl['word_count'])"
   ]
  },
  {
   "cell_type": "code",
   "execution_count": null,
   "metadata": {
    "collapsed": true
   },
   "outputs": [],
   "source": [
    "#for d in domainnames:\n",
    "    #print domains[d]['review']\n",
    "    #break\n",
    "#emptyreviews = domains['jewelrywatchesgl'][domains['jewelrywatchesgl']['review']=='']\n",
    "\n",
    "cleardomains = defaultdict(str)\n",
    "for d in domainnames:\n",
    "    cleardomains[d] = domains[d][domains[d]['review']!='']\n",
    "    #cleardomains[d] = domains[d]"
   ]
  },
  {
   "cell_type": "code",
   "execution_count": 26,
   "metadata": {
    "collapsed": false
   },
   "outputs": [],
   "source": [
    "electronicsgl['word_count'] = gl.text_analytics.count_words(electronicsgl['review'])\n",
    "kitchengl['word_count'] = gl.text_analytics.count_words(kitchengl['review'])\n",
    "booksgl['word_count'] = gl.text_analytics.count_words(booksgl['review'])\n",
    "dvdgl['word_count'] = gl.text_analytics.count_words(dvdgl['review'])\n",
    "electronicsgl['3-grams'] = graphlab.text_analytics.count_ngrams(electronicsgl['review'], 3)\n",
    "electronicsgl['2-grams'] = graphlab.text_analytics.count_ngrams(electronicsgl['review'], 2)\n",
    "electronicsgl['1-grams'] = graphlab.text_analytics.count_ngrams(electronicsgl['review'], 1)\n",
    "\n",
    "kitchengl['3-grams'] = graphlab.text_analytics.count_ngrams(kitchengl['review'], 3)\n",
    "kitchengl['2-grams'] = graphlab.text_analytics.count_ngrams(kitchengl['review'], 2)\n",
    "kitchengl['1-grams'] = graphlab.text_analytics.count_ngrams(kitchengl['review'], 1)\n",
    "\n",
    "booksgl['3-grams'] = graphlab.text_analytics.count_ngrams(booksgl['review'], 3)\n",
    "booksgl['2-grams'] = graphlab.text_analytics.count_ngrams(booksgl['review'], 2)\n",
    "booksgl['1-grams'] = graphlab.text_analytics.count_ngrams(booksgl['review'], 1)\n",
    "\n",
    "dvdgl['3-grams'] = graphlab.text_analytics.count_ngrams(dvdgl['review'], 3)\n",
    "dvdgl['2-grams'] = graphlab.text_analytics.count_ngrams(dvdgl['review'], 2)\n",
    "dvdgl['1-grams'] = graphlab.text_analytics.count_ngrams(dvdgl['review'], 1)\n",
    "\n",
    "electronicsgl['tfidf'] = gl.text_analytics.tf_idf(electronicsgl['word_count'])\n",
    "\n",
    "kitchengl['tfidf'] = gl.text_analytics.tf_idf(kitchengl['review'])\n",
    "booksgl['tfidf'] = gl.text_analytics.tf_idf(booksgl['review'])\n",
    "dvdgl['tfidf'] = gl.text_analytics.tf_idf(dvdgl['review'])"
   ]
  },
  {
   "cell_type": "code",
   "execution_count": 2,
   "metadata": {
    "collapsed": true
   },
   "outputs": [],
   "source": [
    "#electronicsgl\n",
    "\n",
    "import re\n",
    "from collections import Counter\n",
    "def reviewcleaner(text):\n",
    "    #postags = ['JJ', 'JJR', 'JJS','VB', 'VBD', 'VBG', 'VBN', 'VBP', 'VBZ','RB', 'RBR', 'RBS']\n",
    "    postags = ['JJ','VB','RB']\n",
    "    #Nountags = ['NN', 'NNP', 'NNS']\n",
    "    Nountags = ['NN']\n",
    "    #text = \"I love books in general\"\n",
    "\n",
    "    #print words\n",
    "    text = preprocess(text)\n",
    "    raw_words = text.split(\" \")\n",
    "    raw_words2 = text.split(\" \")\n",
    "    #nltk.word_tokenize(text)\n",
    "    try:\n",
    "        words = nltk.pos_tag(raw_words)\n",
    "    except:\n",
    "        return \"\"\n",
    "    \n",
    "    newsentence=[]\n",
    "    for i in range(len(raw_words)):\n",
    "\n",
    "        #print raw_words[i]\n",
    "        #print words[i][1]\n",
    "        #print words\n",
    "        #print raw_words\n",
    "        ##if len(raw_words) != len(words):\n",
    "            ##print words\n",
    "            ##print raw_words\n",
    "            ##break\n",
    "        if words[i][1] in postags:\n",
    "            try:\n",
    "                sentiments = swn.senti_synsets(str(raw_words[i]))\n",
    "                if len(list(sentiments))>0:\n",
    "                    hsentiments0 = list(sentiments)[0]\n",
    "                    if hsentiments0.pos_score > 0.80 or hsentiments0.neg_score > 0.80:\n",
    "                        newsentence.append(raw_words[i])\n",
    "            except:\n",
    "                continue\n",
    "            ##newsentence.append(raw_words[i])\n",
    "        elif words[i][1] in Nountags:\n",
    "            try:\n",
    "                sentiments = swn.senti_synsets(str(raw_words[i]))\n",
    "                if len(list(sentiments))>0:\n",
    "                    hsentiments0 = list(sentiments)[0]\n",
    "                    if hsentiments0.pos_score > 0.80 or hsentiments0.neg_score > 0.80:\n",
    "                        newsentence.append(raw_words[i])\n",
    "            except:\n",
    "                continue\n",
    "    return  (str(\" \".join(newsentence)))\n",
    "\n",
    "def word_counter(textfilepath):\n",
    "    \n",
    "    \n",
    "    #'your_file.txt'\n",
    "    with open(textfilepath) as f:\n",
    "        passage = f.readlines()\n",
    "\n",
    "    words = re.findall(r'\\w+', str(passage))\n",
    "\n",
    "    cap_words = [word.upper() for word in words]\n",
    "\n",
    "    word_counts = Counter(cap_words)\n",
    "    return word_counts\n"
   ]
  },
  {
   "cell_type": "code",
   "execution_count": 3,
   "metadata": {
    "collapsed": false
   },
   "outputs": [
    {
     "name": "stdout",
     "output_type": "stream",
     "text": [
      "received kingston 256mb sd card advertised unit came mail exactly 2 days iordered worked perfectly satisfied\n",
      "16\n",
      "16\n"
     ]
    }
   ],
   "source": [
    "import string\n",
    "import nltk\n",
    "from nltk.tokenize import RegexpTokenizer\n",
    "from nltk.corpus import stopwords\n",
    "import re\n",
    "import nltk\n",
    "words = set(nltk.corpus.words.words())\n",
    "\n",
    "\n",
    "def preprocess(sentence):\n",
    "    sentence = sentence.lower()\n",
    "    \n",
    "    #sentence = \" \".join(w for w in nltk.wordpunct_tokenize(sentence) if w.lower() in words or not w.isalpha())\n",
    "    tokenizer = RegexpTokenizer(r'\\w+')\n",
    "    tokens = tokenizer.tokenize(sentence)\n",
    "    filtered_words = filter(lambda token: token not in stopwords.words('english'), tokens)\n",
    "    ##sentence = \" \".join(filtered_words)\n",
    "    #filtered_words = \" \".join(w for w in nltk.wordpunct_tokenize(sentence) if w.lower() in words or not w.isalpha())\n",
    "    #filtered_words = [w for w in tokens if not w in stopwords.words('english')]\n",
    "    ##return filtered_words\n",
    "    return \" \".join(filtered_words)\n",
    "\n",
    "\n",
    "\n",
    "#sentence = \"At eight o'clock on Thursday morning Arthur didn't feel very good. French-Fries\"\n",
    "sentence = \"I received my Kingston 256MB SD card just as advertised.The unit came in the mail exactly 2 days after Iordered. Worked perfectly and I'm very satisfied\"\n",
    "#sentence = \"like many\"\n",
    "print preprocess(sentence)\n",
    "text = preprocess(sentence)\n",
    "raw_words = text.split(\" \")\n",
    "words = nltk.pos_tag(nltk.word_tokenize(text))\n",
    "print len(raw_words)\n",
    "print len(words)"
   ]
  },
  {
   "cell_type": "code",
   "execution_count": 9,
   "metadata": {
    "collapsed": false
   },
   "outputs": [],
   "source": [
    "kitchengl['review_clean'] = kitchengl['review'].apply(lambda x: reviewcleaner(x))"
   ]
  },
  {
   "cell_type": "code",
   "execution_count": 10,
   "metadata": {
    "collapsed": true
   },
   "outputs": [],
   "source": [
    "kitchengl_unlabeled = kitchengl[kitchengl['label']==-1]"
   ]
  },
  {
   "cell_type": "code",
   "execution_count": 11,
   "metadata": {
    "collapsed": true
   },
   "outputs": [],
   "source": [
    "del kitchengl_unlabeled['review']\n",
    "del kitchengl_unlabeled['label']\n"
   ]
  },
  {
   "cell_type": "code",
   "execution_count": 12,
   "metadata": {
    "collapsed": true
   },
   "outputs": [],
   "source": [
    "kitchengl_unlabeled.save('kitchenglcleanreview_compact_unlabeled.csv')"
   ]
  },
  {
   "cell_type": "code",
   "execution_count": null,
   "metadata": {
    "collapsed": true
   },
   "outputs": [],
   "source": []
  },
  {
   "cell_type": "code",
   "execution_count": 5,
   "metadata": {
    "collapsed": false
   },
   "outputs": [
    {
     "name": "stderr",
     "output_type": "stream",
     "text": [
      "C:\\Users\\Omar\\Anaconda2\\envs\\gl-env\\lib\\site-packages\\ipykernel\\__main__.py:16: UnicodeWarning: Unicode equal comparison failed to convert both arguments to Unicode - interpreting them as being unequal\n"
     ]
    }
   ],
   "source": [
    "dvdgl['review_clean'] = dvdgl['review'].apply(lambda x: reviewcleaner(x))\n",
    "kitchengl['review_clean'] = kitchengl['review'].apply(lambda x: reviewcleaner(x))\n",
    "booksgl['review_clean'] = booksgl['review'].apply(lambda x: reviewcleaner(x))\n",
    "\n",
    "apparelgl['review_clean'] = apparelgl['review'].apply(lambda x: reviewcleaner(x))\n",
    "automotivegl['review_clean'] = automotivegl['review'].apply(lambda x: reviewcleaner(x))\n",
    "babygl['review_clean'] = babygl['review'].apply(lambda x: reviewcleaner(x))\n",
    "beautygl['review_clean'] = beautygl['review'].apply(lambda x: reviewcleaner(x))\n",
    "cameraphotogl['review_clean'] = cameraphotogl['review'].apply(lambda x: reviewcleaner(x))\n",
    "computervideo_gamesgl['review_clean'] = computervideo_gamesgl['review'].apply(lambda x: reviewcleaner(x))\n",
    "gourmet_foodgl['review_clean'] = gourmet_foodgl['review'].apply(lambda x: reviewcleaner(x))\n",
    "grocerygl['review_clean'] = grocerygl['review'].apply(lambda x: reviewcleaner(x))\n",
    "healthpersonal_caregl['review_clean'] = healthpersonal_caregl['review'].apply(lambda x: reviewcleaner(x))\n",
    "jewelrywatchesgl['review_clean'] = jewelrywatchesgl['review'].apply(lambda x: reviewcleaner(x))"
   ]
  },
  {
   "cell_type": "code",
   "execution_count": 3,
   "metadata": {
    "collapsed": true
   },
   "outputs": [],
   "source": [
    "import pandas as pd\n",
    "kitchengl = gl.SFrame('kitechen_reviews.csv')\n",
    "booksgl = gl.SFrame('books_reviews.csv')\n",
    "dvdgl = gl.SFrame('dvd_reviews.csv')"
   ]
  },
  {
   "cell_type": "code",
   "execution_count": 5,
   "metadata": {
    "collapsed": false
   },
   "outputs": [
    {
     "name": "stderr",
     "output_type": "stream",
     "text": [
      "C:\\Users\\Omar\\Anaconda2\\envs\\gl-env\\lib\\site-packages\\ipykernel\\__main__.py:16: UnicodeWarning: Unicode equal comparison failed to convert both arguments to Unicode - interpreting them as being unequal\n"
     ]
    }
   ],
   "source": [
    "dvdgl['review_clean'] = dvdgl['review'].apply(lambda x: reviewcleaner(x))\n",
    "kitchengl['review_clean'] = kitchengl['review'].apply(lambda x: reviewcleaner(x))\n",
    "booksgl['review_clean'] = booksgl['review'].apply(lambda x: reviewcleaner(x))"
   ]
  },
  {
   "cell_type": "code",
   "execution_count": null,
   "metadata": {
    "collapsed": true
   },
   "outputs": [],
   "source": [
    "apparelgl\n",
    "automotivegl\n",
    "babygl\n",
    "beautygl\n",
    "cameraphotogl\n",
    "computervideo_gamesgl\n",
    "gourmet_foodgl\n",
    "grocerygl\n",
    "healthpersonal_caregl\n",
    "jewelrywatchesgl"
   ]
  },
  {
   "cell_type": "code",
   "execution_count": null,
   "metadata": {
    "collapsed": false
   },
   "outputs": [],
   "source": []
  },
  {
   "cell_type": "code",
   "execution_count": 27,
   "metadata": {
    "collapsed": true
   },
   "outputs": [],
   "source": [
    "del apparelgl['label']\n",
    "\n",
    "del apparelgl['review']\n",
    "\n",
    "apparelgl.save(\"apparelglcleanreview_compact_nolexicon.csv\",format='csv')\n",
    "\n",
    "del automotivegl['label']\n",
    "\n",
    "del automotivegl['review']\n",
    "\n",
    "automotivegl.save(\"automotiveglcleanreview_compact_nolexicon.csv\",format='csv')\n",
    "\n",
    "del babygl['label']\n",
    "\n",
    "del babygl['review']\n",
    "\n",
    "babygl.save(\"babyglcleanreview_compact_nolexicon.csv\",format='csv')\n",
    "\n",
    "del beautygl['label']\n",
    "\n",
    "del beautygl['review']\n",
    "\n",
    "beautygl.save(\"beautyglcleanreview_compact_nolexicon.csv\",format='csv')\n",
    "\n",
    "del cameraphotogl['label']\n",
    "\n",
    "del cameraphotogl['review']\n",
    "\n",
    "cameraphotogl.save(\"cameraphotoglcleanreview_compact_nolexicon.csv\",format='csv')\n",
    "\n",
    "del computervideo_gamesgl['label']\n",
    "\n",
    "del computervideo_gamesgl['review']\n",
    "\n",
    "computervideo_gamesgl.save(\"computervideo_gamesglcleanreview_compact_nolexicon.csv\",format='csv')\n",
    "\n",
    "del gourmet_foodgl['label']\n",
    "\n",
    "del gourmet_foodgl['review']\n",
    "\n",
    "gourmet_foodgl.save(\"gourmet_foodglcleanreview_compact_nolexicon.csv\",format='csv')\n",
    "\n",
    "del grocerygl['label']\n",
    "\n",
    "del grocerygl['review']\n",
    "\n",
    "grocerygl.save(\"groceryglcleanreview_compact_nolexicon.csv\",format='csv')\n",
    "\n",
    "del healthpersonal_caregl['label']\n",
    "\n",
    "del healthpersonal_caregl['review']\n",
    "\n",
    "healthpersonal_caregl.save(\"healthpersonal_careglcleanreview_compact_nolexicon.csv\",format='csv')\n",
    "\n",
    "del jewelrywatchesgl['label']\n",
    "\n",
    "del jewelrywatchesgl['review']\n",
    "\n",
    "jewelrywatchesgl.save(\"jewelrywatchesglcleanreview_compact_nolexicon.csv\",format='csv')"
   ]
  },
  {
   "cell_type": "code",
   "execution_count": null,
   "metadata": {
    "collapsed": true
   },
   "outputs": [],
   "source": [
    "del electronicsgl['label']\n",
    "\n",
    "del electronicsgl['review']\n",
    "\n",
    "electronicsgl.save(\"electronicglcleanreview_compact_nolexicon.csv\",format='csv')\n",
    "\n",
    "del dvdgl['label']\n",
    "\n",
    "del dvdgl['review']\n",
    "\n",
    "dvdgl.save(\"dvdglcleanreview_compact_nolexicon.csv\",format='csv')\n",
    "\n",
    "#kitchengl\n",
    "del kitchengl['label']\n",
    "\n",
    "del kitchengl['review']\n",
    "\n",
    "kitchengl.save(\"kitchenglcleanreview_compact_nolexicon.csv\",format='csv')"
   ]
  },
  {
   "cell_type": "code",
   "execution_count": null,
   "metadata": {
    "collapsed": true
   },
   "outputs": [],
   "source": [
    "del dvdgl['label']\n",
    "\n",
    "del dvdgl['review']\n",
    "\n",
    "dvdgl.save(\"dvdglcleanreview_compact_nolexicon.csv\",format='csv')"
   ]
  },
  {
   "cell_type": "code",
   "execution_count": 6,
   "metadata": {
    "collapsed": true
   },
   "outputs": [],
   "source": [
    "#kitchengl\n",
    "del kitchengl['label']\n",
    "\n",
    "del kitchengl['review']\n",
    "\n",
    "kitchengl.save(\"kitchenglcleanreview_compact_nolexicon.csv\",format='csv')"
   ]
  },
  {
   "cell_type": "code",
   "execution_count": null,
   "metadata": {
    "collapsed": true
   },
   "outputs": [],
   "source": [
    "\n",
    "\n",
    "\n",
    "\n",
    "#booksgl\n",
    "del booksgl['label']\n",
    "\n",
    "del booksgl['review']\n",
    "\n",
    "booksgl.save(\"booksglcleanreview_compact_nolexicon.csv\",format='csv')"
   ]
  },
  {
   "cell_type": "code",
   "execution_count": 16,
   "metadata": {
    "collapsed": false
   },
   "outputs": [
    {
     "data": {
      "text/html": [
       "<div style=\"max-height:1000px;max-width:1500px;overflow:auto;\"><table frame=\"box\" rules=\"cols\">\n",
       "    <tr>\n",
       "    </tr>\n",
       "</table>\n",
       "[0 rows x 0 columns]<br/>\n",
       "</div>"
      ],
      "text/plain": [
       "Columns:\n",
       "\tNone\n",
       "\n",
       "Rows: 0\n",
       "\n",
       "Data:\n",
       "\t[]"
      ]
     },
     "execution_count": 16,
     "metadata": {},
     "output_type": "execute_result"
    }
   ],
   "source": [
    "booksgl"
   ]
  },
  {
   "cell_type": "code",
   "execution_count": null,
   "metadata": {
    "collapsed": true
   },
   "outputs": [],
   "source": [
    "booksgl = gl.SFrame(\"booksglcleanreview_compact_nolexicon.csv\")"
   ]
  },
  {
   "cell_type": "code",
   "execution_count": 32,
   "metadata": {
    "collapsed": false
   },
   "outputs": [],
   "source": [
    "electronics_wordcount = word_counter(\"electronicglcleanreview.csv\")\n",
    "dvdgl_wordcount = word_counter(\"dvdglcleanreview.csv\")\n",
    "kitchengl_wordcount = word_counter(\"kitchenglcleanreview.csv\")\n",
    "booksgl_wordcount = word_counter(\"booksglcleanreview.csv\")"
   ]
  },
  {
   "cell_type": "code",
   "execution_count": 4,
   "metadata": {
    "collapsed": true
   },
   "outputs": [],
   "source": [
    "electronics_wordcount = word_counter(\"electronicsgl_compact_unlabeled.csv\")\n",
    "#\n",
    "dvdgl_wordcount = word_counter(\"dvdglcleanreview_compact_unlabeled.csv\")\n",
    "kitchengl_wordcount = word_counter(\"kitchenglcleanreview_compact_unlabeled.csv\")\n",
    "booksgl_wordcount = word_counter(\"booksglcleanreview_compact_unlabeled.csv\")"
   ]
  },
  {
   "cell_type": "code",
   "execution_count": 7,
   "metadata": {
    "collapsed": true
   },
   "outputs": [],
   "source": [
    "electronics_wordcount = word_counter(\"electronicglcleanreview_compact_nolexicon.csv\")\n",
    "dvdgl_wordcount = word_counter(\"dvdglcleanreview_compact_nolexicon.csv\")\n",
    "kitchengl_wordcount = word_counter(\"kitchenglcleanreview_compact_nolexicon.csv\")\n",
    "booksgl_wordcount = word_counter(\"booksglcleanreview_compact_nolexicon.csv\")"
   ]
  },
  {
   "cell_type": "code",
   "execution_count": 39,
   "metadata": {
    "collapsed": true
   },
   "outputs": [],
   "source": [
    "electronics_wordcount = word_counter(\"electronicglcleanreview_compact.csv\")\n",
    "dvdgl_wordcount = word_counter(\"dvdglcleanreview_compact.csv\")\n",
    "kitchengl_wordcount = word_counter(\"kitchenglcleanreview_compact.csv\")\n",
    "booksgl_wordcount = word_counter(\"booksglcleanreview_compact.csv\")"
   ]
  },
  {
   "cell_type": "code",
   "execution_count": 5,
   "metadata": {
    "collapsed": true
   },
   "outputs": [],
   "source": [
    "apparelgl_wordcount = word_counter(\"apparelglcleanreview_compact2.csv\")\n",
    "automotivegl_wordcount = word_counter(\"automotiveglcleanreview_compact2.csv\")\n",
    "babygl_wordcount = word_counter(\"babyglcleanreview_compact2.csv\")\n",
    "beautygl_wordcount = word_counter(\"beautyglcleanreview_compact2.csv\")\n",
    "cameraphotogl_wordcount = word_counter(\"cameraphotoglcleanreview_compact2.csv\")\n",
    "computervideo_gamesgl_wordcount = word_counter(\"computervideo_gamesglcleanreview_compact2.csv\")\n",
    "gourmet_foodgl_wordcount = word_counter(\"gourmet_foodglcleanreview_compact2.csv\")\n",
    "grocerygl_wordcount = word_counter(\"groceryglcleanreview_compact2.csv\")\n",
    "healthpersonal_caregl_wordcount = word_counter(\"healthpersonal_careglcleanreview_compact2.csv\")\n",
    "jewelrywatchesgl_wordcount = word_counter(\"jewelrywatchesglcleanreview_compact2.csv\")"
   ]
  },
  {
   "cell_type": "code",
   "execution_count": 8,
   "metadata": {
    "collapsed": true
   },
   "outputs": [],
   "source": [
    "apparelgl_wordcount = word_counter(\"apparelglcleanreview_compact_nolexicon.csv\")\n",
    "automotivegl_wordcount = word_counter(\"automotiveglcleanreview_compact_nolexicon.csv\")\n",
    "babygl_wordcount = word_counter(\"babyglcleanreview_compact_nolexicon.csv\")\n",
    "beautygl_wordcount = word_counter(\"beautyglcleanreview_compact_nolexicon.csv\")\n",
    "cameraphotogl_wordcount = word_counter(\"cameraphotoglcleanreview_compact_nolexicon.csv\")\n",
    "computervideo_gamesgl_wordcount = word_counter(\"computervideo_gamesglcleanreview_compact_nolexicon.csv\")\n",
    "gourmet_foodgl_wordcount = word_counter(\"gourmet_foodglcleanreview_compact_nolexicon.csv\")\n",
    "grocerygl_wordcount = word_counter(\"groceryglcleanreview_compact_nolexicon.csv\")\n",
    "healthpersonal_caregl_wordcount = word_counter(\"healthpersonal_careglcleanreview_compact_nolexicon.csv\")\n",
    "jewelrywatchesgl_wordcount = word_counter(\"jewelrywatchesglcleanreview_compact_nolexicon.csv\")"
   ]
  },
  {
   "cell_type": "code",
   "execution_count": 12,
   "metadata": {
    "collapsed": false
   },
   "outputs": [],
   "source": [
    "#dvd_electronics_distance = gl.distances.cosine(electronics_wordcount,dvdgl_wordcount)\n",
    "import graphlab as gl\n",
    "fscore={}\n",
    "accuracies={}\n",
    "euclidean_distances_tokitchen={}\n",
    "#kitchen_electronics_distance = gl.distances.euclidean(electronics_wordcount,kitchengl_wordcount)\n",
    "euclidean_distances_tokitchen['electronics'] = gl.distances.euclidean(kitchengl_wordcount,electronics_wordcount)\n",
    "#dvd_kitchen_distance = gl.distances.euclidean(kitchengl_wordcount,dvdgl_wordcount)\n",
    "euclidean_distances_tokitchen['dvd'] = gl.distances.euclidean(kitchengl_wordcount,dvdgl_wordcount)\n",
    "#books_kitchen_distance = gl.distances.euclidean(kitchengl_wordcount,booksgl_wordcount)\n",
    "euclidean_distances_tokitchen['book'] = gl.distances.euclidean(kitchengl_wordcount,booksgl_wordcount)\n",
    "\n",
    "#apparel_kitchen_distance = gl.distances.euclidean(kitchengl_wordcount,apparelgl_wordcount)\n",
    "euclidean_distances_tokitchen['apparel'] = gl.distances.euclidean(kitchengl_wordcount,apparelgl_wordcount)\n",
    "#automotive_kitchen_distance = gl.distances.euclidean(kitchengl_wordcount,automotivegl_wordcount)\n",
    "euclidean_distances_tokitchen['automotive'] = gl.distances.euclidean(kitchengl_wordcount,automotivegl_wordcount)\n",
    "#baby_kitchen_distance = gl.distances.euclidean(kitchengl_wordcount,babygl_wordcount)\n",
    "euclidean_distances_tokitchen['baby'] = gl.distances.euclidean(kitchengl_wordcount,babygl_wordcount)\n",
    "#beauty_kitchen_distance = gl.distances.euclidean(kitchengl_wordcount,beautygl_wordcount)\n",
    "euclidean_distances_tokitchen['beauty'] = gl.distances.euclidean(kitchengl_wordcount,beautygl_wordcount)\n",
    "#cameraphoto_kitchen_distance = gl.distances.euclidean(kitchengl_wordcount,cameraphotogl_wordcount)\n",
    "euclidean_distances_tokitchen['cameraphoto'] = gl.distances.euclidean(kitchengl_wordcount,cameraphotogl_wordcount)\n",
    "#computervideo_games_kitchen_distance = gl.distances.euclidean(kitchengl_wordcount,computervideo_gamesgl_wordcount)\n",
    "euclidean_distances_tokitchen['computervideo'] = gl.distances.euclidean(kitchengl_wordcount,computervideo_gamesgl_wordcount)\n",
    "#gourmet_food_kitchen_distance = gl.distances.euclidean(kitchengl_wordcount,gourmet_foodgl_wordcount)\n",
    "euclidean_distances_tokitchen['gourmet'] = gl.distances.euclidean(kitchengl_wordcount,gourmet_foodgl_wordcount)\n",
    "#grocery_kitchen_distance = gl.distances.euclidean(kitchengl_wordcount,grocerygl_wordcount)\n",
    "euclidean_distances_tokitchen['grocery'] = gl.distances.euclidean(kitchengl_wordcount,grocerygl_wordcount)\n",
    "#healthpersonal_care_kitchen_distance = gl.distances.euclidean(kitchengl_wordcount,healthpersonal_caregl_wordcount)\n",
    "euclidean_distances_tokitchen['healthpersonal'] = gl.distances.euclidean(kitchengl_wordcount,healthpersonal_caregl_wordcount)\n",
    "#jewelrywatches_kitchen_distance = gl.distances.euclidean(kitchengl_wordcount,jewelrywatchesgl_wordcount)\n",
    "euclidean_distances_tokitchen['jewelrywatches'] = gl.distances.euclidean(kitchengl_wordcount,jewelrywatchesgl_wordcount)\n",
    "\n",
    "kitchen_dist_domains = ['electronics','dvd','book','apparel','automotive','baby','beauty','cameraphoto','computervideo','gourmet','grocery','healthpersonal','jewelrywatches']\n",
    "    \n",
    "\n",
    "\n",
    "\n",
    "\n",
    "\n",
    "\n",
    "\n",
    "\n",
    "\n",
    "\n",
    "\n",
    "\n",
    "\n",
    "\n",
    "#apparelgl_wordcount\n",
    "#automotivegl_wordcount\n",
    "#babygl_wordcount\n",
    "#beautygl_wordcount\n",
    "#cameraphotogl_wordcount\n",
    "#computervideo_gamesgl_wordcount\n",
    "#gourmet_foodgl_wordcount\n",
    "#grocerygl_wordcount\n",
    "#healthpersonal_caregl_wordcount\n",
    "#jewelrywatchesgl_wordcount\n",
    "\n",
    "\n",
    "##print \"euclidean distances\"\n",
    "##print \"kitchen_electronics distance\"\n",
    "##print kitchen_electronics_distance\n",
    "##print \"dvd_kitchen distance\"\n",
    "##print dvd_kitchen_distance\n",
    "##print \"books_kitchen distance\"\n",
    "##print books_kitchen_distance\n",
    "\n",
    "\n",
    "##print \"apparel_kitchen distance\"\n",
    "##print apparel_kitchen_distance\n",
    "##print \"automotive_kitchen distance\"\n",
    "##print automotive_kitchen_distance\n",
    "##print \"baby_kitchen distance\"\n",
    "##print baby_kitchen_distance\n",
    "##print \"beauty_kitchen distance\"\n",
    "##print beauty_kitchen_distance\n",
    "##print \"cameraphoto_kitchen distance\"\n",
    "##print cameraphoto_kitchen_distance\n",
    "##print \"computervideo_games_kitchen distance\"\n",
    "##print computervideo_games_kitchen_distance\n",
    "##print \"gourmet_food_kitchen distance\"\n",
    "##print gourmet_food_kitchen_distance\n",
    "##print \"grocery_kitchen distance\"\n",
    "##print grocery_kitchen_distance\n",
    "##print \"healthpersonal_care_kitchen distance\"\n",
    "##print healthpersonal_care_kitchen_distance\n",
    "##print \"jewelrywatches_kitchen distance\"\n",
    "##print jewelrywatches_kitchen_distance\n"
   ]
  },
  {
   "cell_type": "code",
   "execution_count": 6,
   "metadata": {
    "collapsed": false
   },
   "outputs": [
    {
     "name": "stderr",
     "output_type": "stream",
     "text": [
      "[INFO] graphlab.cython.cy_server: GraphLab Create v2.1 started. Logging: C:\\Users\\Omar\\AppData\\Local\\Temp\\graphlab_server_1537990962.log.0\n"
     ]
    },
    {
     "name": "stdout",
     "output_type": "stream",
     "text": [
      "This non-commercial license of GraphLab Create for academic use is assigned to oaabde01@louisville.edu and will expire on September 24, 2019.\n"
     ]
    },
    {
     "data": {
      "text/html": [
       "<pre>Finished parsing file C:\\Users\\Omar\\Kitchen_test_predictions3.csv</pre>"
      ],
      "text/plain": [
       "Finished parsing file C:\\Users\\Omar\\Kitchen_test_predictions3.csv"
      ]
     },
     "metadata": {},
     "output_type": "display_data"
    },
    {
     "data": {
      "text/html": [
       "<pre>Parsing completed. Parsed 100 lines in 0.044894 secs.</pre>"
      ],
      "text/plain": [
       "Parsing completed. Parsed 100 lines in 0.044894 secs."
      ]
     },
     "metadata": {},
     "output_type": "display_data"
    },
    {
     "name": "stdout",
     "output_type": "stream",
     "text": [
      "------------------------------------------------------\n",
      "Inferred types from first 100 line(s) of file as \n",
      "column_type_hints=[str,long,str,str,str,str,str,long,long,long,long,long,long,long,long,long,long,long,long,long]\n",
      "If parsing fails due to incorrect types, you can correct\n",
      "the inferred type list above and pass it to read_csv in\n",
      "the column_type_hints argument\n",
      "------------------------------------------------------\n"
     ]
    },
    {
     "data": {
      "text/html": [
       "<pre>Finished parsing file C:\\Users\\Omar\\Kitchen_test_predictions3.csv</pre>"
      ],
      "text/plain": [
       "Finished parsing file C:\\Users\\Omar\\Kitchen_test_predictions3.csv"
      ]
     },
     "metadata": {},
     "output_type": "display_data"
    },
    {
     "data": {
      "text/html": [
       "<pre>Parsing completed. Parsed 400 lines in 0.031987 secs.</pre>"
      ],
      "text/plain": [
       "Parsing completed. Parsed 400 lines in 0.031987 secs."
      ]
     },
     "metadata": {},
     "output_type": "display_data"
    }
   ],
   "source": [
    "kitchentestgl = graphlab.SFrame('Kitchen_test_predictions3.csv')\n",
    "#kitchentestgl = graphlab.SFrame('kitchentestgl_random.csv')"
   ]
  },
  {
   "cell_type": "code",
   "execution_count": 7,
   "metadata": {
    "collapsed": false
   },
   "outputs": [
    {
     "data": {
      "text/html": [
       "<div style=\"max-height:1000px;max-width:1500px;overflow:auto;\"><table frame=\"box\" rules=\"cols\">\n",
       "    <tr>\n",
       "        <th style=\"padding-left: 1em; padding-right: 1em; text-align: center\">review</th>\n",
       "        <th style=\"padding-left: 1em; padding-right: 1em; text-align: center\">label</th>\n",
       "        <th style=\"padding-left: 1em; padding-right: 1em; text-align: center\">word_count</th>\n",
       "        <th style=\"padding-left: 1em; padding-right: 1em; text-align: center\">3-grams</th>\n",
       "    </tr>\n",
       "    <tr>\n",
       "        <td style=\"padding-left: 1em; padding-right: 1em; text-align: center; vertical-align: top\">Its a traditional<br>serveware for serving ...</td>\n",
       "        <td style=\"padding-left: 1em; padding-right: 1em; text-align: center; vertical-align: top\">1</td>\n",
       "        <td style=\"padding-left: 1em; padding-right: 1em; text-align: center; vertical-align: top\">{\"little\":1,\"elegant\":1,\"<br>but\":1,\"an\":1,\"gives\" ...</td>\n",
       "        <td style=\"padding-left: 1em; padding-right: 1em; text-align: center; vertical-align: top\">{\"little overpriced<br>text\":1,\"but it ...</td>\n",
       "    </tr>\n",
       "    <tr>\n",
       "        <td style=\"padding-left: 1em; padding-right: 1em; text-align: center; vertical-align: top\">I used metal muffin pans<br>before, the muffins will ...</td>\n",
       "        <td style=\"padding-left: 1em; padding-right: 1em; text-align: center; vertical-align: top\">1</td>\n",
       "        <td style=\"padding-left: 1em; padding-right: 1em; text-align: center; vertical-align: top\">{\"sprayed.&lt;/text&gt;\":1,\"was<br>\":1,\"pan\":1,\"even\":1, ...</td>\n",
       "        <td style=\"padding-left: 1em; padding-right: 1em; text-align: center; vertical-align: top\">{\"was sprayed<br>text\":1,\"pan was ...</td>\n",
       "    </tr>\n",
       "    <tr>\n",
       "        <td style=\"padding-left: 1em; padding-right: 1em; text-align: center; vertical-align: top\">I've had my Keurig for<br>about two months now and ...</td>\n",
       "        <td style=\"padding-left: 1em; padding-right: 1em; text-align: center; vertical-align: top\">1</td>\n",
       "        <td style=\"padding-left: 1em; padding-right: 1em; text-align: center; vertical-align: top\">{\"extra\":1,\"the\":1,\"well\"<br>:1,\"months\":1,\"about\" ...</td>\n",
       "        <td style=\"padding-left: 1em; padding-right: 1em; text-align: center; vertical-align: top\">{\"the extra money\":1,\"was<br>well worth\":1,\"it was ...</td>\n",
       "    </tr>\n",
       "    <tr>\n",
       "        <td style=\"padding-left: 1em; padding-right: 1em; text-align: center; vertical-align: top\">I ordered these just to<br>make my $25.  I'm sure ...</td>\n",
       "        <td style=\"padding-left: 1em; padding-right: 1em; text-align: center; vertical-align: top\">1</td>\n",
       "        <td style=\"padding-left: 1em; padding-right: 1em; text-align: center; vertical-align: top\">{\"gifts&lt;/text&gt;\":1,\"use\":1<br>,\"will\":1,\"family.\":1 ...</td>\n",
       "        <td style=\"padding-left: 1em; padding-right: 1em; text-align: center; vertical-align: top\">{\"for gifts text\":1,\"them<br>for gifts\":1,\"will use ...</td>\n",
       "    </tr>\n",
       "    <tr>\n",
       "        <td style=\"padding-left: 1em; padding-right: 1em; text-align: center; vertical-align: top\">This is the Best Blender<br>I have ever used. It ...</td>\n",
       "        <td style=\"padding-left: 1em; padding-right: 1em; text-align: center; vertical-align: top\">1</td>\n",
       "        <td style=\"padding-left: 1em; padding-right: 1em; text-align: center; vertical-align: top\">{\"to\":1,\"easy\":1,\"plastic<br>\":1,\"months,\":1,\"5\":1 ...</td>\n",
       "        <td style=\"padding-left: 1em; padding-right: 1em; text-align: center; vertical-align: top\">{\"and clean text\":1,\"to<br>handle and\":1,\"mixture ...</td>\n",
       "    </tr>\n",
       "    <tr>\n",
       "        <td style=\"padding-left: 1em; padding-right: 1em; text-align: center; vertical-align: top\">this is the best steam<br>cleaner it really gets ...</td>\n",
       "        <td style=\"padding-left: 1em; padding-right: 1em; text-align: center; vertical-align: top\">1</td>\n",
       "        <td style=\"padding-left: 1em; padding-right: 1em; text-align: center; vertical-align: top\">{\"cleaner.&lt;/text&gt;\":1,\"bre<br>eze!\":1,\"mechianicall ...</td>\n",
       "        <td style=\"padding-left: 1em; padding-right: 1em; text-align: center; vertical-align: top\">{\"love my<br>cleaner\":1,\"breeze i ...</td>\n",
       "    </tr>\n",
       "    <tr>\n",
       "        <td style=\"padding-left: 1em; padding-right: 1em; text-align: center; vertical-align: top\">How many men do you know<br>who rave about irons? ...</td>\n",
       "        <td style=\"padding-left: 1em; padding-right: 1em; text-align: center; vertical-align: top\">1</td>\n",
       "        <td style=\"padding-left: 1em; padding-right: 1em; text-align: center; vertical-align: top\">{\"too&lt;/text&gt;\":1,\"beat\":1,<br>\"price\":1,\"steam\":1,\" ...</td>\n",
       "        <td style=\"padding-left: 1em; padding-right: 1em; text-align: center; vertical-align: top\">{\"t beat the\":1,\"you can<br>t\":1,\"steam function ...</td>\n",
       "    </tr>\n",
       "    <tr>\n",
       "        <td style=\"padding-left: 1em; padding-right: 1em; text-align: center; vertical-align: top\">They are very big, the<br>spoons are very ...</td>\n",
       "        <td style=\"padding-left: 1em; padding-right: 1em; text-align: center; vertical-align: top\">1</td>\n",
       "        <td style=\"padding-left: 1em; padding-right: 1em; text-align: center; vertical-align: top\">{\"a\":1,\"smaller.\":1,\"been<br>\":1,\"grip&lt;/text&gt;\":1,\" ...</td>\n",
       "        <td style=\"padding-left: 1em; padding-right: 1em; text-align: center; vertical-align: top\">{\"and a<br>better\":1,\"smaller and ...</td>\n",
       "    </tr>\n",
       "    <tr>\n",
       "        <td style=\"padding-left: 1em; padding-right: 1em; text-align: center; vertical-align: top\">I have several of these<br>pieces in various sizes ...</td>\n",
       "        <td style=\"padding-left: 1em; padding-right: 1em; text-align: center; vertical-align: top\">1</td>\n",
       "        <td style=\"padding-left: 1em; padding-right: 1em; text-align: center; vertical-align: top\">{\"them&lt;/text&gt;\":1,\"clean\":<br>1,\"all\":1,\"them\":1,\"i ...</td>\n",
       "        <td style=\"padding-left: 1em; padding-right: 1em; text-align: center; vertical-align: top\">{\"recommend them<br>text\":1,\"have several ...</td>\n",
       "    </tr>\n",
       "    <tr>\n",
       "        <td style=\"padding-left: 1em; padding-right: 1em; text-align: center; vertical-align: top\">I splurged and bought<br>this product for my ...</td>\n",
       "        <td style=\"padding-left: 1em; padding-right: 1em; text-align: center; vertical-align: top\">1</td>\n",
       "        <td style=\"padding-left: 1em; padding-right: 1em; text-align: center; vertical-align: top\">{\"on\":1,\"stock\":1,\"to\":1,<br>\"need\":1,\"size\":1,\"ha ...</td>\n",
       "        <td style=\"padding-left: 1em; padding-right: 1em; text-align: center; vertical-align: top\">{\"on chargers<br>text\":1,\"for 35 ...</td>\n",
       "    </tr>\n",
       "</table>\n",
       "<table frame=\"box\" rules=\"cols\">\n",
       "    <tr>\n",
       "        <th style=\"padding-left: 1em; padding-right: 1em; text-align: center\">2-grams</th>\n",
       "        <th style=\"padding-left: 1em; padding-right: 1em; text-align: center\">1-grams</th>\n",
       "        <th style=\"padding-left: 1em; padding-right: 1em; text-align: center\">tfidf</th>\n",
       "        <th style=\"padding-left: 1em; padding-right: 1em; text-align: center\">book_predictions</th>\n",
       "        <th style=\"padding-left: 1em; padding-right: 1em; text-align: center\">dvd_predictions</th>\n",
       "    </tr>\n",
       "    <tr>\n",
       "        <td style=\"padding-left: 1em; padding-right: 1em; text-align: center; vertical-align: top\">{\"overpriced<br>text\":1,\"appears ...</td>\n",
       "        <td style=\"padding-left: 1em; padding-right: 1em; text-align: center; vertical-align: top\">{\"text\":1,\"dinnerwares\":1<br>,\"serve\":1,\"amp\":1,\"f ...</td>\n",
       "        <td style=\"padding-left: 1em; padding-right: 1em; text-align: center; vertical-align: top\">{\"little\":2.4651,\"elegant<br>\":5.29832,\"but\":1.078 ...</td>\n",
       "        <td style=\"padding-left: 1em; padding-right: 1em; text-align: center; vertical-align: top\">0</td>\n",
       "        <td style=\"padding-left: 1em; padding-right: 1em; text-align: center; vertical-align: top\">1</td>\n",
       "    </tr>\n",
       "    <tr>\n",
       "        <td style=\"padding-left: 1em; padding-right: 1em; text-align: center; vertical-align: top\">{\"sprayed text\":1,\"of<br>a\":1,\"knife ...</td>\n",
       "        <td style=\"padding-left: 1em; padding-right: 1em; text-align: center; vertical-align: top\">{\"sprayed\":1,\"pan\":1,\"tex<br>t\":1,\"even\":1,\"was\":1 ...</td>\n",
       "        <td style=\"padding-left: 1em; padding-right: 1em; text-align: center; vertical-align: top\">{\"sprayed.&lt;/text&gt;\":5.9914<br>6,\"was\":1.23787,\"pan\" ...</td>\n",
       "        <td style=\"padding-left: 1em; padding-right: 1em; text-align: center; vertical-align: top\">0</td>\n",
       "        <td style=\"padding-left: 1em; padding-right: 1em; text-align: center; vertical-align: top\">1</td>\n",
       "    </tr>\n",
       "    <tr>\n",
       "        <td style=\"padding-left: 1em; padding-right: 1em; text-align: center; vertical-align: top\">{\"the extra\":1,\"so<br>it\":1,\"or so\":1,\"now ...</td>\n",
       "        <td style=\"padding-left: 1em; padding-right: 1em; text-align: center; vertical-align: top\">{\"text\":1,\"money\":1,\"extr<br>a\":1,\"now\":1,\"for\":1, ...</td>\n",
       "        <td style=\"padding-left: 1em; padding-right: 1em; text-align: center; vertical-align: top\">{\"extra\":3.42652,\"the\":0.<br>136393,\"well\":2.30259 ...</td>\n",
       "        <td style=\"padding-left: 1em; padding-right: 1em; text-align: center; vertical-align: top\">1</td>\n",
       "        <td style=\"padding-left: 1em; padding-right: 1em; text-align: center; vertical-align: top\">1</td>\n",
       "    </tr>\n",
       "    <tr>\n",
       "        <td style=\"padding-left: 1em; padding-right: 1em; text-align: center; vertical-align: top\">{\"gifts text\":1,\"them<br>for\":1,\"use them\":1,\" ...</td>\n",
       "        <td style=\"padding-left: 1em; padding-right: 1em; text-align: center; vertical-align: top\">{\"text\":1,\"gifts\":1,\"fami<br>ly\":1,\"will\":1,\"two\": ...</td>\n",
       "        <td style=\"padding-left: 1em; padding-right: 1em; text-align: center; vertical-align: top\">{\"gifts&lt;/text&gt;\":5.99146,\"<br>use\":1.70101,\"will\":1 ...</td>\n",
       "        <td style=\"padding-left: 1em; padding-right: 1em; text-align: center; vertical-align: top\">1</td>\n",
       "        <td style=\"padding-left: 1em; padding-right: 1em; text-align: center; vertical-align: top\">1</td>\n",
       "    </tr>\n",
       "    <tr>\n",
       "        <td style=\"padding-left: 1em; padding-right: 1em; text-align: center; vertical-align: top\">{\"clean text\":1,\"and<br>clean\":1,\"handle ...</td>\n",
       "        <td style=\"padding-left: 1em; padding-right: 1em; text-align: center; vertical-align: top\">{\"text\":1,\"to\":1,\"easy\":1<br>,\"jar\":1,\"problems\":1 ...</td>\n",
       "        <td style=\"padding-left: 1em; padding-right: 1em; text-align: center; vertical-align: top\">{\"to\":0.360253,\"easy\":2.3<br>8055,\"plastic\":2.9957 ...</td>\n",
       "        <td style=\"padding-left: 1em; padding-right: 1em; text-align: center; vertical-align: top\">1</td>\n",
       "        <td style=\"padding-left: 1em; padding-right: 1em; text-align: center; vertical-align: top\">1</td>\n",
       "    </tr>\n",
       "    <tr>\n",
       "        <td style=\"padding-left: 1em; padding-right: 1em; text-align: center; vertical-align: top\">{\"cleaner text\":1,\"my<br>cleaner\":1,\"breeze ...</td>\n",
       "        <td style=\"padding-left: 1em; padding-right: 1em; text-align: center; vertical-align: top\">{\"text\":1,\"soooo\":1,\"but\"<br>:1,\"am\":1,\"too\":1,\"wa ...</td>\n",
       "        <td style=\"padding-left: 1em; padding-right: 1em; text-align: center; vertical-align: top\">{\"cleaner.&lt;/text&gt;\":5.9914<br>6,\"breeze!\":5.99146,\" ...</td>\n",
       "        <td style=\"padding-left: 1em; padding-right: 1em; text-align: center; vertical-align: top\">1</td>\n",
       "        <td style=\"padding-left: 1em; padding-right: 1em; text-align: center; vertical-align: top\">1</td>\n",
       "    </tr>\n",
       "    <tr>\n",
       "        <td style=\"padding-left: 1em; padding-right: 1em; text-align: center; vertical-align: top\">{\"too text\":1,\"price<br>too\":1,\"t beat\":1,\"can ...</td>\n",
       "        <td style=\"padding-left: 1em; padding-right: 1em; text-align: center; vertical-align: top\">{\"text\":1,\"price\":1,\"beat<br>\":1,\"can\":1,\"function ...</td>\n",
       "        <td style=\"padding-left: 1em; padding-right: 1em; text-align: center; vertical-align: top\">{\"too&lt;/text&gt;\":4.38203,\"be<br>at\":4.89285,\"price\":2 ...</td>\n",
       "        <td style=\"padding-left: 1em; padding-right: 1em; text-align: center; vertical-align: top\">1</td>\n",
       "        <td style=\"padding-left: 1em; padding-right: 1em; text-align: center; vertical-align: top\">1</td>\n",
       "    </tr>\n",
       "    <tr>\n",
       "        <td style=\"padding-left: 1em; padding-right: 1em; text-align: center; vertical-align: top\">{\"and a\":1,\"smaller<br>and\":1,\"better ...</td>\n",
       "        <td style=\"padding-left: 1em; padding-right: 1em; text-align: center; vertical-align: top\">{\"text\":1,\"grip\":1,\"a\":1,<br>\"and\":1,\"smaller\":1,\" ...</td>\n",
       "        <td style=\"padding-left: 1em; padding-right: 1em; text-align: center; vertical-align: top\">{\"a\":0.381993,\"smaller.\":<br>5.99146,\"been\":2.4651 ...</td>\n",
       "        <td style=\"padding-left: 1em; padding-right: 1em; text-align: center; vertical-align: top\">0</td>\n",
       "        <td style=\"padding-left: 1em; padding-right: 1em; text-align: center; vertical-align: top\">0</td>\n",
       "    </tr>\n",
       "    <tr>\n",
       "        <td style=\"padding-left: 1em; padding-right: 1em; text-align: center; vertical-align: top\">{\"them text\":1,\"highly<br>recommend\":1,\"i ...</td>\n",
       "        <td style=\"padding-left: 1em; padding-right: 1em; text-align: center; vertical-align: top\">{\"recommend\":1,\"beautiful<br>ly\":1,\"up\":1,\"they\":1 ...</td>\n",
       "        <td style=\"padding-left: 1em; padding-right: 1em; text-align: center; vertical-align: top\">{\"them&lt;/text&gt;\":4.89285,\"c<br>lean\":2.73337,\"all\":1 ...</td>\n",
       "        <td style=\"padding-left: 1em; padding-right: 1em; text-align: center; vertical-align: top\">1</td>\n",
       "        <td style=\"padding-left: 1em; padding-right: 1em; text-align: center; vertical-align: top\">1</td>\n",
       "    </tr>\n",
       "    <tr>\n",
       "        <td style=\"padding-left: 1em; padding-right: 1em; text-align: center; vertical-align: top\">{\"on chargers\":1,\"model<br>for\":1,\"you get\":1,\"pint ...</td>\n",
       "        <td style=\"padding-left: 1em; padding-right: 1em; text-align: center; vertical-align: top\">{\"text\":1,\"on\":1,\"charger<br>s\":1,\"to\":1,\"need\":1, ...</td>\n",
       "        <td style=\"padding-left: 1em; padding-right: 1em; text-align: center; vertical-align: top\">{\"on\":1.17928,\"stock\":5.9<br>9146,\"to\":0.360253,\"n ...</td>\n",
       "        <td style=\"padding-left: 1em; padding-right: 1em; text-align: center; vertical-align: top\">0</td>\n",
       "        <td style=\"padding-left: 1em; padding-right: 1em; text-align: center; vertical-align: top\">1</td>\n",
       "    </tr>\n",
       "</table>\n",
       "<table frame=\"box\" rules=\"cols\">\n",
       "    <tr>\n",
       "        <th style=\"padding-left: 1em; padding-right: 1em; text-align: center\">electronics_predictions</th>\n",
       "        <th style=\"padding-left: 1em; padding-right: 1em; text-align: center\">apparel_predictions</th>\n",
       "        <th style=\"padding-left: 1em; padding-right: 1em; text-align: center\">automotive_predictions</th>\n",
       "        <th style=\"padding-left: 1em; padding-right: 1em; text-align: center\">baby_predictions</th>\n",
       "        <th style=\"padding-left: 1em; padding-right: 1em; text-align: center\">beauty_predictions</th>\n",
       "        <th style=\"padding-left: 1em; padding-right: 1em; text-align: center\">cameraphoto_predictions</th>\n",
       "    </tr>\n",
       "    <tr>\n",
       "        <td style=\"padding-left: 1em; padding-right: 1em; text-align: center; vertical-align: top\">1</td>\n",
       "        <td style=\"padding-left: 1em; padding-right: 1em; text-align: center; vertical-align: top\">1</td>\n",
       "        <td style=\"padding-left: 1em; padding-right: 1em; text-align: center; vertical-align: top\">0</td>\n",
       "        <td style=\"padding-left: 1em; padding-right: 1em; text-align: center; vertical-align: top\">1</td>\n",
       "        <td style=\"padding-left: 1em; padding-right: 1em; text-align: center; vertical-align: top\">1</td>\n",
       "        <td style=\"padding-left: 1em; padding-right: 1em; text-align: center; vertical-align: top\">1</td>\n",
       "    </tr>\n",
       "    <tr>\n",
       "        <td style=\"padding-left: 1em; padding-right: 1em; text-align: center; vertical-align: top\">0</td>\n",
       "        <td style=\"padding-left: 1em; padding-right: 1em; text-align: center; vertical-align: top\">0</td>\n",
       "        <td style=\"padding-left: 1em; padding-right: 1em; text-align: center; vertical-align: top\">0</td>\n",
       "        <td style=\"padding-left: 1em; padding-right: 1em; text-align: center; vertical-align: top\">1</td>\n",
       "        <td style=\"padding-left: 1em; padding-right: 1em; text-align: center; vertical-align: top\">1</td>\n",
       "        <td style=\"padding-left: 1em; padding-right: 1em; text-align: center; vertical-align: top\">0</td>\n",
       "    </tr>\n",
       "    <tr>\n",
       "        <td style=\"padding-left: 1em; padding-right: 1em; text-align: center; vertical-align: top\">1</td>\n",
       "        <td style=\"padding-left: 1em; padding-right: 1em; text-align: center; vertical-align: top\">1</td>\n",
       "        <td style=\"padding-left: 1em; padding-right: 1em; text-align: center; vertical-align: top\">0</td>\n",
       "        <td style=\"padding-left: 1em; padding-right: 1em; text-align: center; vertical-align: top\">1</td>\n",
       "        <td style=\"padding-left: 1em; padding-right: 1em; text-align: center; vertical-align: top\">1</td>\n",
       "        <td style=\"padding-left: 1em; padding-right: 1em; text-align: center; vertical-align: top\">1</td>\n",
       "    </tr>\n",
       "    <tr>\n",
       "        <td style=\"padding-left: 1em; padding-right: 1em; text-align: center; vertical-align: top\">1</td>\n",
       "        <td style=\"padding-left: 1em; padding-right: 1em; text-align: center; vertical-align: top\">1</td>\n",
       "        <td style=\"padding-left: 1em; padding-right: 1em; text-align: center; vertical-align: top\">0</td>\n",
       "        <td style=\"padding-left: 1em; padding-right: 1em; text-align: center; vertical-align: top\">1</td>\n",
       "        <td style=\"padding-left: 1em; padding-right: 1em; text-align: center; vertical-align: top\">1</td>\n",
       "        <td style=\"padding-left: 1em; padding-right: 1em; text-align: center; vertical-align: top\">1</td>\n",
       "    </tr>\n",
       "    <tr>\n",
       "        <td style=\"padding-left: 1em; padding-right: 1em; text-align: center; vertical-align: top\">1</td>\n",
       "        <td style=\"padding-left: 1em; padding-right: 1em; text-align: center; vertical-align: top\">1</td>\n",
       "        <td style=\"padding-left: 1em; padding-right: 1em; text-align: center; vertical-align: top\">0</td>\n",
       "        <td style=\"padding-left: 1em; padding-right: 1em; text-align: center; vertical-align: top\">1</td>\n",
       "        <td style=\"padding-left: 1em; padding-right: 1em; text-align: center; vertical-align: top\">1</td>\n",
       "        <td style=\"padding-left: 1em; padding-right: 1em; text-align: center; vertical-align: top\">1</td>\n",
       "    </tr>\n",
       "    <tr>\n",
       "        <td style=\"padding-left: 1em; padding-right: 1em; text-align: center; vertical-align: top\">1</td>\n",
       "        <td style=\"padding-left: 1em; padding-right: 1em; text-align: center; vertical-align: top\">1</td>\n",
       "        <td style=\"padding-left: 1em; padding-right: 1em; text-align: center; vertical-align: top\">0</td>\n",
       "        <td style=\"padding-left: 1em; padding-right: 1em; text-align: center; vertical-align: top\">1</td>\n",
       "        <td style=\"padding-left: 1em; padding-right: 1em; text-align: center; vertical-align: top\">1</td>\n",
       "        <td style=\"padding-left: 1em; padding-right: 1em; text-align: center; vertical-align: top\">1</td>\n",
       "    </tr>\n",
       "    <tr>\n",
       "        <td style=\"padding-left: 1em; padding-right: 1em; text-align: center; vertical-align: top\">1</td>\n",
       "        <td style=\"padding-left: 1em; padding-right: 1em; text-align: center; vertical-align: top\">1</td>\n",
       "        <td style=\"padding-left: 1em; padding-right: 1em; text-align: center; vertical-align: top\">0</td>\n",
       "        <td style=\"padding-left: 1em; padding-right: 1em; text-align: center; vertical-align: top\">1</td>\n",
       "        <td style=\"padding-left: 1em; padding-right: 1em; text-align: center; vertical-align: top\">1</td>\n",
       "        <td style=\"padding-left: 1em; padding-right: 1em; text-align: center; vertical-align: top\">1</td>\n",
       "    </tr>\n",
       "    <tr>\n",
       "        <td style=\"padding-left: 1em; padding-right: 1em; text-align: center; vertical-align: top\">0</td>\n",
       "        <td style=\"padding-left: 1em; padding-right: 1em; text-align: center; vertical-align: top\">0</td>\n",
       "        <td style=\"padding-left: 1em; padding-right: 1em; text-align: center; vertical-align: top\">0</td>\n",
       "        <td style=\"padding-left: 1em; padding-right: 1em; text-align: center; vertical-align: top\">0</td>\n",
       "        <td style=\"padding-left: 1em; padding-right: 1em; text-align: center; vertical-align: top\">1</td>\n",
       "        <td style=\"padding-left: 1em; padding-right: 1em; text-align: center; vertical-align: top\">0</td>\n",
       "    </tr>\n",
       "    <tr>\n",
       "        <td style=\"padding-left: 1em; padding-right: 1em; text-align: center; vertical-align: top\">1</td>\n",
       "        <td style=\"padding-left: 1em; padding-right: 1em; text-align: center; vertical-align: top\">1</td>\n",
       "        <td style=\"padding-left: 1em; padding-right: 1em; text-align: center; vertical-align: top\">0</td>\n",
       "        <td style=\"padding-left: 1em; padding-right: 1em; text-align: center; vertical-align: top\">1</td>\n",
       "        <td style=\"padding-left: 1em; padding-right: 1em; text-align: center; vertical-align: top\">1</td>\n",
       "        <td style=\"padding-left: 1em; padding-right: 1em; text-align: center; vertical-align: top\">1</td>\n",
       "    </tr>\n",
       "    <tr>\n",
       "        <td style=\"padding-left: 1em; padding-right: 1em; text-align: center; vertical-align: top\">1</td>\n",
       "        <td style=\"padding-left: 1em; padding-right: 1em; text-align: center; vertical-align: top\">0</td>\n",
       "        <td style=\"padding-left: 1em; padding-right: 1em; text-align: center; vertical-align: top\">0</td>\n",
       "        <td style=\"padding-left: 1em; padding-right: 1em; text-align: center; vertical-align: top\">1</td>\n",
       "        <td style=\"padding-left: 1em; padding-right: 1em; text-align: center; vertical-align: top\">1</td>\n",
       "        <td style=\"padding-left: 1em; padding-right: 1em; text-align: center; vertical-align: top\">0</td>\n",
       "    </tr>\n",
       "</table>\n",
       "<table frame=\"box\" rules=\"cols\">\n",
       "    <tr>\n",
       "        <th style=\"padding-left: 1em; padding-right: 1em; text-align: center\">computervideo_predictions</th>\n",
       "        <th style=\"padding-left: 1em; padding-right: 1em; text-align: center\">gourmet_predictions</th>\n",
       "        <th style=\"padding-left: 1em; padding-right: 1em; text-align: center\">grocery_predictions</th>\n",
       "        <th style=\"padding-left: 1em; padding-right: 1em; text-align: center\">healthpersonal_prediction<br>s ...</th>\n",
       "        <th style=\"padding-left: 1em; padding-right: 1em; text-align: center\">jewelrywatches_prediction<br>s ...</th>\n",
       "    </tr>\n",
       "    <tr>\n",
       "        <td style=\"padding-left: 1em; padding-right: 1em; text-align: center; vertical-align: top\">1</td>\n",
       "        <td style=\"padding-left: 1em; padding-right: 1em; text-align: center; vertical-align: top\">1</td>\n",
       "        <td style=\"padding-left: 1em; padding-right: 1em; text-align: center; vertical-align: top\">1</td>\n",
       "        <td style=\"padding-left: 1em; padding-right: 1em; text-align: center; vertical-align: top\">1</td>\n",
       "        <td style=\"padding-left: 1em; padding-right: 1em; text-align: center; vertical-align: top\">1</td>\n",
       "    </tr>\n",
       "    <tr>\n",
       "        <td style=\"padding-left: 1em; padding-right: 1em; text-align: center; vertical-align: top\">1</td>\n",
       "        <td style=\"padding-left: 1em; padding-right: 1em; text-align: center; vertical-align: top\">1</td>\n",
       "        <td style=\"padding-left: 1em; padding-right: 1em; text-align: center; vertical-align: top\">1</td>\n",
       "        <td style=\"padding-left: 1em; padding-right: 1em; text-align: center; vertical-align: top\">0</td>\n",
       "        <td style=\"padding-left: 1em; padding-right: 1em; text-align: center; vertical-align: top\">1</td>\n",
       "    </tr>\n",
       "    <tr>\n",
       "        <td style=\"padding-left: 1em; padding-right: 1em; text-align: center; vertical-align: top\">1</td>\n",
       "        <td style=\"padding-left: 1em; padding-right: 1em; text-align: center; vertical-align: top\">1</td>\n",
       "        <td style=\"padding-left: 1em; padding-right: 1em; text-align: center; vertical-align: top\">1</td>\n",
       "        <td style=\"padding-left: 1em; padding-right: 1em; text-align: center; vertical-align: top\">1</td>\n",
       "        <td style=\"padding-left: 1em; padding-right: 1em; text-align: center; vertical-align: top\">1</td>\n",
       "    </tr>\n",
       "    <tr>\n",
       "        <td style=\"padding-left: 1em; padding-right: 1em; text-align: center; vertical-align: top\">1</td>\n",
       "        <td style=\"padding-left: 1em; padding-right: 1em; text-align: center; vertical-align: top\">1</td>\n",
       "        <td style=\"padding-left: 1em; padding-right: 1em; text-align: center; vertical-align: top\">1</td>\n",
       "        <td style=\"padding-left: 1em; padding-right: 1em; text-align: center; vertical-align: top\">1</td>\n",
       "        <td style=\"padding-left: 1em; padding-right: 1em; text-align: center; vertical-align: top\">1</td>\n",
       "    </tr>\n",
       "    <tr>\n",
       "        <td style=\"padding-left: 1em; padding-right: 1em; text-align: center; vertical-align: top\">1</td>\n",
       "        <td style=\"padding-left: 1em; padding-right: 1em; text-align: center; vertical-align: top\">1</td>\n",
       "        <td style=\"padding-left: 1em; padding-right: 1em; text-align: center; vertical-align: top\">1</td>\n",
       "        <td style=\"padding-left: 1em; padding-right: 1em; text-align: center; vertical-align: top\">1</td>\n",
       "        <td style=\"padding-left: 1em; padding-right: 1em; text-align: center; vertical-align: top\">1</td>\n",
       "    </tr>\n",
       "    <tr>\n",
       "        <td style=\"padding-left: 1em; padding-right: 1em; text-align: center; vertical-align: top\">1</td>\n",
       "        <td style=\"padding-left: 1em; padding-right: 1em; text-align: center; vertical-align: top\">1</td>\n",
       "        <td style=\"padding-left: 1em; padding-right: 1em; text-align: center; vertical-align: top\">1</td>\n",
       "        <td style=\"padding-left: 1em; padding-right: 1em; text-align: center; vertical-align: top\">1</td>\n",
       "        <td style=\"padding-left: 1em; padding-right: 1em; text-align: center; vertical-align: top\">1</td>\n",
       "    </tr>\n",
       "    <tr>\n",
       "        <td style=\"padding-left: 1em; padding-right: 1em; text-align: center; vertical-align: top\">1</td>\n",
       "        <td style=\"padding-left: 1em; padding-right: 1em; text-align: center; vertical-align: top\">1</td>\n",
       "        <td style=\"padding-left: 1em; padding-right: 1em; text-align: center; vertical-align: top\">1</td>\n",
       "        <td style=\"padding-left: 1em; padding-right: 1em; text-align: center; vertical-align: top\">1</td>\n",
       "        <td style=\"padding-left: 1em; padding-right: 1em; text-align: center; vertical-align: top\">1</td>\n",
       "    </tr>\n",
       "    <tr>\n",
       "        <td style=\"padding-left: 1em; padding-right: 1em; text-align: center; vertical-align: top\">1</td>\n",
       "        <td style=\"padding-left: 1em; padding-right: 1em; text-align: center; vertical-align: top\">1</td>\n",
       "        <td style=\"padding-left: 1em; padding-right: 1em; text-align: center; vertical-align: top\">1</td>\n",
       "        <td style=\"padding-left: 1em; padding-right: 1em; text-align: center; vertical-align: top\">0</td>\n",
       "        <td style=\"padding-left: 1em; padding-right: 1em; text-align: center; vertical-align: top\">1</td>\n",
       "    </tr>\n",
       "    <tr>\n",
       "        <td style=\"padding-left: 1em; padding-right: 1em; text-align: center; vertical-align: top\">1</td>\n",
       "        <td style=\"padding-left: 1em; padding-right: 1em; text-align: center; vertical-align: top\">1</td>\n",
       "        <td style=\"padding-left: 1em; padding-right: 1em; text-align: center; vertical-align: top\">1</td>\n",
       "        <td style=\"padding-left: 1em; padding-right: 1em; text-align: center; vertical-align: top\">1</td>\n",
       "        <td style=\"padding-left: 1em; padding-right: 1em; text-align: center; vertical-align: top\">1</td>\n",
       "    </tr>\n",
       "    <tr>\n",
       "        <td style=\"padding-left: 1em; padding-right: 1em; text-align: center; vertical-align: top\">1</td>\n",
       "        <td style=\"padding-left: 1em; padding-right: 1em; text-align: center; vertical-align: top\">1</td>\n",
       "        <td style=\"padding-left: 1em; padding-right: 1em; text-align: center; vertical-align: top\">1</td>\n",
       "        <td style=\"padding-left: 1em; padding-right: 1em; text-align: center; vertical-align: top\">1</td>\n",
       "        <td style=\"padding-left: 1em; padding-right: 1em; text-align: center; vertical-align: top\">1</td>\n",
       "    </tr>\n",
       "</table>\n",
       "[400 rows x 20 columns]<br/>Note: Only the head of the SFrame is printed.<br/>You can use print_rows(num_rows=m, num_columns=n) to print more rows and columns.\n",
       "</div>"
      ],
      "text/plain": [
       "Columns:\n",
       "\treview\tstr\n",
       "\tlabel\tint\n",
       "\tword_count\tstr\n",
       "\t3-grams\tstr\n",
       "\t2-grams\tstr\n",
       "\t1-grams\tstr\n",
       "\ttfidf\tstr\n",
       "\tbook_predictions\tint\n",
       "\tdvd_predictions\tint\n",
       "\telectronics_predictions\tint\n",
       "\tapparel_predictions\tint\n",
       "\tautomotive_predictions\tint\n",
       "\tbaby_predictions\tint\n",
       "\tbeauty_predictions\tint\n",
       "\tcameraphoto_predictions\tint\n",
       "\tcomputervideo_predictions\tint\n",
       "\tgourmet_predictions\tint\n",
       "\tgrocery_predictions\tint\n",
       "\thealthpersonal_predictions\tint\n",
       "\tjewelrywatches_predictions\tint\n",
       "\n",
       "Rows: 400\n",
       "\n",
       "Data:\n",
       "+-------------------------------+-------+-------------------------------+\n",
       "|             review            | label |           word_count          |\n",
       "+-------------------------------+-------+-------------------------------+\n",
       "| Its a traditional servewar... |   1   | {\"little\":1,\"elegant\":1,\"b... |\n",
       "| I used metal muffin pans b... |   1   | {\"sprayed.</text>\":1,\"was\"... |\n",
       "| I've had my Keurig for abo... |   1   | {\"extra\":1,\"the\":1,\"well\":... |\n",
       "| I ordered these just to ma... |   1   | {\"gifts</text>\":1,\"use\":1,... |\n",
       "| This is the Best Blender I... |   1   | {\"to\":1,\"easy\":1,\"plastic\"... |\n",
       "| this is the best steam cle... |   1   | {\"cleaner.</text>\":1,\"bree... |\n",
       "| How many men do you know w... |   1   | {\"too</text>\":1,\"beat\":1,\"... |\n",
       "| They are very big, the spo... |   1   | {\"a\":1,\"smaller.\":1,\"been\"... |\n",
       "| I have several of these pi... |   1   | {\"them</text>\":1,\"clean\":1... |\n",
       "| I splurged and bought this... |   1   | {\"on\":1,\"stock\":1,\"to\":1,\"... |\n",
       "+-------------------------------+-------+-------------------------------+\n",
       "+-------------------------------+-------------------------------+\n",
       "|            3-grams            |            2-grams            |\n",
       "+-------------------------------+-------------------------------+\n",
       "| {\"little overpriced text\":... | {\"overpriced text\":1,\"appe... |\n",
       "| {\"was sprayed text\":1,\"pan... | {\"sprayed text\":1,\"of a\":1... |\n",
       "| {\"the extra money\":1,\"was ... | {\"the extra\":1,\"so it\":1,\"... |\n",
       "| {\"for gifts text\":1,\"them ... | {\"gifts text\":1,\"them for\"... |\n",
       "| {\"and clean text\":1,\"to ha... | {\"clean text\":1,\"and clean... |\n",
       "| {\"love my cleaner\":1,\"bree... | {\"cleaner text\":1,\"my clea... |\n",
       "| {\"t beat the\":1,\"you can t... | {\"too text\":1,\"price too\":... |\n",
       "| {\"and a better\":1,\"smaller... | {\"and a\":1,\"smaller and\":1... |\n",
       "| {\"recommend them text\":1,\"... | {\"them text\":1,\"highly rec... |\n",
       "| {\"on chargers text\":1,\"for... | {\"on chargers\":1,\"model fo... |\n",
       "+-------------------------------+-------------------------------+\n",
       "+-------------------------------+-------------------------------+------------------+\n",
       "|            1-grams            |             tfidf             | book_predictions |\n",
       "+-------------------------------+-------------------------------+------------------+\n",
       "| {\"text\":1,\"dinnerwares\":1,... | {\"little\":2.4651,\"elegant\"... |        0         |\n",
       "| {\"sprayed\":1,\"pan\":1,\"text... | {\"sprayed.</text>\":5.99146... |        0         |\n",
       "| {\"text\":1,\"money\":1,\"extra... | {\"extra\":3.42652,\"the\":0.1... |        1         |\n",
       "| {\"text\":1,\"gifts\":1,\"famil... | {\"gifts</text>\":5.99146,\"u... |        1         |\n",
       "| {\"text\":1,\"to\":1,\"easy\":1,... | {\"to\":0.360253,\"easy\":2.38... |        1         |\n",
       "| {\"text\":1,\"soooo\":1,\"but\":... | {\"cleaner.</text>\":5.99146... |        1         |\n",
       "| {\"text\":1,\"price\":1,\"beat\"... | {\"too</text>\":4.38203,\"bea... |        1         |\n",
       "| {\"text\":1,\"grip\":1,\"a\":1,\"... | {\"a\":0.381993,\"smaller.\":5... |        0         |\n",
       "| {\"recommend\":1,\"beautifull... | {\"them</text>\":4.89285,\"cl... |        1         |\n",
       "| {\"text\":1,\"on\":1,\"chargers... | {\"on\":1.17928,\"stock\":5.99... |        0         |\n",
       "+-------------------------------+-------------------------------+------------------+\n",
       "+-----------------+-------------------------+---------------------+------------------------+\n",
       "| dvd_predictions | electronics_predictions | apparel_predictions | automotive_predictions |\n",
       "+-----------------+-------------------------+---------------------+------------------------+\n",
       "|        1        |            1            |          1          |           0            |\n",
       "|        1        |            0            |          0          |           0            |\n",
       "|        1        |            1            |          1          |           0            |\n",
       "|        1        |            1            |          1          |           0            |\n",
       "|        1        |            1            |          1          |           0            |\n",
       "|        1        |            1            |          1          |           0            |\n",
       "|        1        |            1            |          1          |           0            |\n",
       "|        0        |            0            |          0          |           0            |\n",
       "|        1        |            1            |          1          |           0            |\n",
       "|        1        |            1            |          0          |           0            |\n",
       "+-----------------+-------------------------+---------------------+------------------------+\n",
       "+------------------+--------------------+-------------------------+---------------------------+\n",
       "| baby_predictions | beauty_predictions | cameraphoto_predictions | computervideo_predictions |\n",
       "+------------------+--------------------+-------------------------+---------------------------+\n",
       "|        1         |         1          |            1            |             1             |\n",
       "|        1         |         1          |            0            |             1             |\n",
       "|        1         |         1          |            1            |             1             |\n",
       "|        1         |         1          |            1            |             1             |\n",
       "|        1         |         1          |            1            |             1             |\n",
       "|        1         |         1          |            1            |             1             |\n",
       "|        1         |         1          |            1            |             1             |\n",
       "|        0         |         1          |            0            |             1             |\n",
       "|        1         |         1          |            1            |             1             |\n",
       "|        1         |         1          |            0            |             1             |\n",
       "+------------------+--------------------+-------------------------+---------------------------+\n",
       "+---------------------+---------------------+----------------------------+----------------------------+\n",
       "| gourmet_predictions | grocery_predictions | healthpersonal_predictions | jewelrywatches_predictions |\n",
       "+---------------------+---------------------+----------------------------+----------------------------+\n",
       "|          1          |          1          |             1              |             1              |\n",
       "|          1          |          1          |             0              |             1              |\n",
       "|          1          |          1          |             1              |             1              |\n",
       "|          1          |          1          |             1              |             1              |\n",
       "|          1          |          1          |             1              |             1              |\n",
       "|          1          |          1          |             1              |             1              |\n",
       "|          1          |          1          |             1              |             1              |\n",
       "|          1          |          1          |             0              |             1              |\n",
       "|          1          |          1          |             1              |             1              |\n",
       "|          1          |          1          |             1              |             1              |\n",
       "+---------------------+---------------------+----------------------------+----------------------------+\n",
       "[400 rows x 20 columns]\n",
       "Note: Only the head of the SFrame is printed.\n",
       "You can use print_rows(num_rows=m, num_columns=n) to print more rows and columns."
      ]
     },
     "execution_count": 7,
     "metadata": {},
     "output_type": "execute_result"
    }
   ],
   "source": [
    "kitchentestgl"
   ]
  },
  {
   "cell_type": "code",
   "execution_count": 8,
   "metadata": {
    "collapsed": false
   },
   "outputs": [],
   "source": [
    "Fscores={}\n",
    "Accuracies={}\n",
    "import graphlab\n",
    "kitchen_dist_domains = ['electronics','dvd','book','apparel','automotive','baby','beauty','cameraphoto','computervideo','gourmet','grocery','healthpersonal','jewelrywatches']\n",
    "for d in kitchen_dist_domains:\n",
    "    Fscores[d] = graphlab.evaluation.f1_score(kitchentestgl['label'], kitchentestgl[str(d)+'_predictions'])\n",
    "    Accuracies[d] = graphlab.evaluation.accuracy(kitchentestgl['label'], kitchentestgl[str(d)+'_predictions'])\n",
    "\n",
    "\n",
    "#domains=['electronics','dvd','books','apparel','automotive','baby','beauty','cameraphoto','computervideo','gourmet','grocery','healthpersonal','jewelrywatches']\n",
    "\n"
   ]
  },
  {
   "cell_type": "code",
   "execution_count": null,
   "metadata": {
    "collapsed": true
   },
   "outputs": [],
   "source": []
  },
  {
   "cell_type": "code",
   "execution_count": 10,
   "metadata": {
    "collapsed": false
   },
   "outputs": [],
   "source": [
    "#dvd_electronics_distance = gl.distances.cosine(electronics_wordcount,dvdgl_wordcount)\n",
    "import graphlab as gl\n",
    "fscore={}\n",
    "accuracies={}\n",
    "cosine_distances_tokitchen={}\n",
    "#kitchen_electronics_distance = gl.distances.euclidean(electronics_wordcount,kitchengl_wordcount)\n",
    "cosine_distances_tokitchen['electronics'] = gl.distances.cosine(kitchengl_wordcount,electronics_wordcount)\n",
    "#dvd_kitchen_distance = gl.distances.euclidean(kitchengl_wordcount,dvdgl_wordcount)\n",
    "cosine_distances_tokitchen['dvd'] = gl.distances.cosine(kitchengl_wordcount,dvdgl_wordcount)\n",
    "#books_kitchen_distance = gl.distances.euclidean(kitchengl_wordcount,booksgl_wordcount)\n",
    "cosine_distances_tokitchen['book'] = gl.distances.cosine(kitchengl_wordcount,booksgl_wordcount)\n",
    "\n",
    "#apparel_kitchen_distance = gl.distances.euclidean(kitchengl_wordcount,apparelgl_wordcount)\n",
    "cosine_distances_tokitchen['apparel'] = gl.distances.cosine(kitchengl_wordcount,apparelgl_wordcount)\n",
    "#automotive_kitchen_distance = gl.distances.euclidean(kitchengl_wordcount,automotivegl_wordcount)\n",
    "cosine_distances_tokitchen['automotive'] = gl.distances.cosine(kitchengl_wordcount,automotivegl_wordcount)\n",
    "#baby_kitchen_distance = gl.distances.euclidean(kitchengl_wordcount,babygl_wordcount)\n",
    "cosine_distances_tokitchen['baby'] = gl.distances.cosine(kitchengl_wordcount,babygl_wordcount)\n",
    "#beauty_kitchen_distance = gl.distances.euclidean(kitchengl_wordcount,beautygl_wordcount)\n",
    "cosine_distances_tokitchen['beauty'] = gl.distances.cosine(kitchengl_wordcount,beautygl_wordcount)\n",
    "#cameraphoto_kitchen_distance = gl.distances.euclidean(kitchengl_wordcount,cameraphotogl_wordcount)\n",
    "cosine_distances_tokitchen['cameraphoto'] = gl.distances.cosine(kitchengl_wordcount,cameraphotogl_wordcount)\n",
    "#computervideo_games_kitchen_distance = gl.distances.euclidean(kitchengl_wordcount,computervideo_gamesgl_wordcount)\n",
    "cosine_distances_tokitchen['computervideo'] = gl.distances.cosine(kitchengl_wordcount,computervideo_gamesgl_wordcount)\n",
    "#gourmet_food_kitchen_distance = gl.distances.euclidean(kitchengl_wordcount,gourmet_foodgl_wordcount)\n",
    "cosine_distances_tokitchen['gourmet'] = gl.distances.cosine(kitchengl_wordcount,gourmet_foodgl_wordcount)\n",
    "#grocery_kitchen_distance = gl.distances.euclidean(kitchengl_wordcount,grocerygl_wordcount)\n",
    "cosine_distances_tokitchen['grocery'] = gl.distances.cosine(kitchengl_wordcount,grocerygl_wordcount)\n",
    "#healthpersonal_care_kitchen_distance = gl.distances.euclidean(kitchengl_wordcount,healthpersonal_caregl_wordcount)\n",
    "cosine_distances_tokitchen['healthpersonal'] = gl.distances.cosine(kitchengl_wordcount,healthpersonal_caregl_wordcount)\n",
    "#jewelrywatches_kitchen_distance = gl.distances.euclidean(kitchengl_wordcount,jewelrywatchesgl_wordcount)\n",
    "cosine_distances_tokitchen['jewelrywatches'] = gl.distances.cosine(kitchengl_wordcount,jewelrywatchesgl_wordcount)\n",
    "\n",
    "kitchen_dist_domains = ['electronics','dvd','book','apparel','automotive','baby','beauty','cameraphoto','computervideo','gourmet','grocery','healthpersonal','jewelrywatches']\n",
    "    \n",
    "\n",
    "\n",
    "\n",
    "\n",
    "\n",
    "\n",
    "\n",
    "\n",
    "\n",
    "\n",
    "\n",
    "\n",
    "\n",
    "\n",
    "#apparelgl_wordcount\n",
    "#automotivegl_wordcount\n",
    "#babygl_wordcount\n",
    "#beautygl_wordcount\n",
    "#cameraphotogl_wordcount\n",
    "#computervideo_gamesgl_wordcount\n",
    "#gourmet_foodgl_wordcount\n",
    "#grocerygl_wordcount\n",
    "#healthpersonal_caregl_wordcount\n",
    "#jewelrywatchesgl_wordcount\n",
    "\n",
    "\n",
    "\n"
   ]
  },
  {
   "cell_type": "code",
   "execution_count": null,
   "metadata": {
    "collapsed": true
   },
   "outputs": [],
   "source": [
    "print \"euclidean distances\"\n",
    "print \"kitchen_electronics distance\"\n",
    "print kitchen_electronics_distance\n",
    "print \"dvd_kitchen distance\"\n",
    "print dvd_kitchen_distance\n",
    "print \"books_kitchen distance\"\n",
    "print books_kitchen_distance\n",
    "\n",
    "\n",
    "print \"apparel_kitchen distance\"\n",
    "print apparel_kitchen_distance\n",
    "print \"automotive_kitchen distance\"\n",
    "print automotive_kitchen_distance\n",
    "print \"baby_kitchen distance\"\n",
    "print baby_kitchen_distance\n",
    "print \"beauty_kitchen distance\"\n",
    "print beauty_kitchen_distance\n",
    "print \"cameraphoto_kitchen distance\"\n",
    "print cameraphoto_kitchen_distance\n",
    "print \"computervideo_games_kitchen distance\"\n",
    "print computervideo_games_kitchen_distance\n",
    "print \"gourmet_food_kitchen distance\"\n",
    "print gourmet_food_kitchen_distance\n",
    "print \"grocery_kitchen distance\"\n",
    "print grocery_kitchen_distance\n",
    "print \"healthpersonal_care_kitchen distance\"\n",
    "print healthpersonal_care_kitchen_distance\n",
    "print \"jewelrywatches_kitchen distance\"\n",
    "print jewelrywatches_kitchen_distance"
   ]
  },
  {
   "cell_type": "code",
   "execution_count": null,
   "metadata": {
    "collapsed": true
   },
   "outputs": [],
   "source": []
  },
  {
   "cell_type": "code",
   "execution_count": 47,
   "metadata": {
    "collapsed": false
   },
   "outputs": [
    {
     "data": {
      "text/plain": [
       "0.6477272727272728"
      ]
     },
     "execution_count": 47,
     "metadata": {},
     "output_type": "execute_result"
    }
   ],
   "source": [
    "Fscores['book']"
   ]
  },
  {
   "cell_type": "code",
   "execution_count": 13,
   "metadata": {
    "collapsed": false
   },
   "outputs": [
    {
     "name": "stdout",
     "output_type": "stream",
     "text": [
      "accuracies\n",
      "('gourmet', 0.5)\n",
      "('automotive', 0.5)\n",
      "('beauty', 0.5025)\n",
      "('jewelrywatches', 0.5025)\n",
      "('grocery', 0.505)\n",
      "('computervideo', 0.505)\n",
      "('book', 0.7)\n",
      "('dvd', 0.745)\n",
      "('baby', 0.785)\n",
      "('apparel', 0.795)\n",
      "('cameraphoto', 0.805)\n",
      "('electronics', 0.8175)\n",
      "('healthpersonal', 0.82)\n",
      "fscores\n",
      "('automotive', 0.0)\n",
      "('book', 0.6363636363636364)\n",
      "('gourmet', 0.6666666666666666)\n",
      "('beauty', 0.6666666666666667)\n",
      "('jewelrywatches', 0.667779632721202)\n",
      "('grocery', 0.6688963210702341)\n",
      "('computervideo', 0.6688963210702341)\n",
      "('dvd', 0.7371134020618557)\n",
      "('apparel', 0.7929292929292928)\n",
      "('cameraphoto', 0.7979274611398963)\n",
      "('baby', 0.8063063063063064)\n",
      "('healthpersonal', 0.8095238095238095)\n",
      "('electronics', 0.8170426065162906)\n",
      "distances\n",
      "('healthpersonal', 88.91006692158093)\n",
      "('baby', 90.62008607367353)\n",
      "('cameraphoto', 91.81503144910424)\n",
      "('apparel', 91.98369420718001)\n",
      "('electronics', 94.66255859631093)\n",
      "('beauty', 94.75230867899737)\n",
      "('grocery', 95.81753492967766)\n",
      "('gourmet', 96.97422337920526)\n",
      "('computervideo', 97.01030873056739)\n",
      "('jewelrywatches', 97.77013859047148)\n",
      "('automotive', 99.84487968844472)\n",
      "('dvd', 167.77067681809)\n",
      "('book', 215.7683943491261)\n"
     ]
    }
   ],
   "source": [
    "sorted_Fscores = sorted(Fscores.items(), key=lambda x:x[1])\n",
    "sorted_Accuracies = sorted(Accuracies.items(), key=lambda x:x[1])\n",
    "sorted_euclideandistances = sorted(euclidean_distances_tokitchen.items(), key=lambda x:x[1])\n",
    "print \"accuracies\"\n",
    "for d in range(len(sorted_Fscores)):\n",
    "    print sorted_Accuracies[d]\n",
    "print \"fscores\"\n",
    "for d in range(len(sorted_Fscores)):\n",
    "    print sorted_Fscores[d]\n",
    "print \"distances\"\n",
    "for d in range(len(sorted_Fscores)):\n",
    "    #print \"euclidean_distance\"\n",
    "    print sorted_euclideandistances[d]\n",
    "    #print sorted_Fscores[d]\n",
    "    #print sorted_Accuracies[d]\n",
    "    #print sorted_euclideandistances[d]"
   ]
  },
  {
   "cell_type": "code",
   "execution_count": 2,
   "metadata": {
    "collapsed": true
   },
   "outputs": [],
   "source": [
    "from numpy import linalg as LA\n",
    "import numpy as np\n",
    "def euclidean_norm_dict(vec):\n",
    "    vector=[]\n",
    "    #for v in vec:\n",
    "        #vector.append(v)\n",
    "    enorm = LA.norm(vec)\n",
    "    #for i in vec:\n",
    "        #vec[i] = float(vec[i]/enorm)\n",
    "    return vec / enorm\n",
    "def compute_weights(vec):\n",
    "    newvec=[]\n",
    "    for v in vec:\n",
    "        e = (1-v) / v\n",
    "        weight = (1/2) * np.log(e)\n",
    "        newvec.append(weight)\n",
    "    return newvec"
   ]
  },
  {
   "cell_type": "code",
   "execution_count": 17,
   "metadata": {
    "collapsed": true
   },
   "outputs": [],
   "source": [
    "from numpy import linalg as LA\n",
    "import numpy as np\n",
    "def euclidean_norm_dict(vec):\n",
    "    vector=[]\n",
    "    #for v in vec:\n",
    "        #vector.append(v)\n",
    "    enorm = LA.norm(vec)\n",
    "    #for i in vec:\n",
    "        #vec[i] = float(vec[i]/enorm)\n",
    "    return vec / enorm\n",
    "def compute_weights(vec):\n",
    "    newvec=[]\n",
    "    for v in vec:\n",
    "        e = (1-v) / v\n",
    "        weight = (1/2) * np.log(e)\n",
    "        newvec.append(weight)\n",
    "    return newvec\n",
    "\n",
    "##largestdistances=[0.743533140113,0.60353417065,0.584761632679,0.572767971981,0.544679039307,0.55875,0.543115351339]\n",
    "##lowestdistances=[0.339159452128,0.457601529338,0.462982751863,0.488780265727,0.491315411726,0.503708849348]\n",
    "##lowestdist_errors =[0.21,0.2125,0.255,0.225,0.20375,0.23]\n",
    "##highestdist_errors =[0.4925,0.4625,0.485,0.45125,0.44125,0.47125]\n",
    "##lowestdist_weights = compute_weights(lowestdist_errors)\n",
    "#largestdistances=[200.7959162931358,167.20346886353764,101.68579055108928,99.70957827611147,98.82813364624468,98.47842403288143]\n",
    "#lowestdistances=[90.46546302318913,92.32009532057471,93.24698386543128,93.50935782048768,95.66085928947116,96.60745312862771]\n",
    "#############################\n",
    "#euclidean\n",
    "largestdistances=[215.7683943491261,167.77067681809,99.84487968844472,97.77013859047148,97.01030873056739,96.97422337920526]\n",
    "lowestdistances=[88.91006692158093,90.62008607367353,91.81503144910424,91.98369420718001,94.66255859631093,94.75230867899737]\n",
    "lowestdist_errors =[0.21,0.2125,0.255,0.225,0.20375,0.23]\n",
    "highestdist_errors =[0.4925,0.4625,0.485,0.45125,0.44125,0.47125]\n",
    "lowestdist_weights = compute_weights(lowestdist_errors)\n",
    "\n",
    "##############################\n",
    "highestdist_weights = compute_weights(highestdist_errors)\n",
    "Minor_domains = ['book_predictions','dvd_predictions','automotive_predictions','jewelrywatches_predictions','computervideo_predictions','gourmet_predictions']\n",
    "Major_domains = ['healthpersonal_predictions','baby_predictions','cameraphoto_predictions','apparel_predictions','electronics_predictions','beauty_predictions']\n",
    "###Major_domains = ['electronics_predictions','healthpersonal_predictions','baby_predictions']\n",
    "###lowestdistances=[113.12824580978881,116.66619047521866,119.10499569707393]\n",
    "###Minor_domains = ['book_predictions','dvd_predictions','automotive_predictions']\n",
    "###largestdistances=[216.13190416965284,195.2255106280939,132.53678734600442]\n",
    "normalized_largestdistances = euclidean_norm_dict(largestdistances)\n",
    "normalized_smallestdistances = euclidean_norm_dict(lowestdistances)"
   ]
  },
  {
   "cell_type": "code",
   "execution_count": 3,
   "metadata": {
    "collapsed": true
   },
   "outputs": [],
   "source": [
    "#largestdistances\n",
    "#Minor_domains\n",
    "\n",
    "def weighted_predict_largedist(sframe,normalized_largestdistances,threshold):\n",
    "    weighted_pos_predictions=0\n",
    "    weighted_neg_predictions=0\n",
    "    for i in range(len(Minor_domains)):\n",
    "        weighted_pos_predictions+=normalized_largestdistances[i]*sframe[Minor_domains[i]]\n",
    "        weighted_neg_predictions+= normalized_largestdistances[i]*sframe[Minor_domains[i]]\n",
    "    weighted_neg_predictions = weighted_neg_predictions*-1\n",
    "    totalweight=sum(normalized_largestdistances)\n",
    "    if weighted_pos_predictions>(totalweight*threshold): #weighted_neg_predictions<weighted_pos_predictions:\n",
    "        return 1\n",
    "    else:\n",
    "        return 0\n",
    "    Major_domains\n",
    "\n",
    "def weighted_predict_smalldist(sframe,normalized_smallestdistances,threshold):\n",
    "    weighted_pos_predictions=0\n",
    "    weighted_neg_predictions=0\n",
    "    for i in range(len(Major_domains)):\n",
    "        weighted_pos_predictions+=normalized_smallestdistances[i]*sframe[Major_domains[i]]\n",
    "        weighted_neg_predictions+= normalized_smallestdistances[i]*sframe[Major_domains[i]]\n",
    "    weighted_neg_predictions = weighted_neg_predictions*-1\n",
    "    totalweight=sum(normalized_smallestdistances)\n",
    "    if weighted_pos_predictions>(totalweight*threshold): #weighted_neg_predictions<weighted_pos_predictions:\n",
    "        return 1\n",
    "    else:\n",
    "        return 0\n",
    "    \n",
    "def weighted_predict_smalldist_largedistances(sframe,normalized_smallestdistances,normalized_largestdistances,threshold):\n",
    "    weighted_pos_predictions=0\n",
    "    weighted_neg_predictions=0\n",
    "    for i in range(len(Major_domains)):\n",
    "        weighted_pos_predictions+=normalized_smallestdistances[i]*sframe[Major_domains[i]]\n",
    "        weighted_neg_predictions+= normalized_smallestdistances[i]*sframe[Major_domains[i]]\n",
    "    for i in range(len(Minor_domains)):\n",
    "        weighted_pos_predictions+=normalized_largestdistances[i]*sframe[Minor_domains[i]]\n",
    "        weighted_neg_predictions+= normalized_largestdistances[i]*sframe[Minor_domains[i]]\n",
    "    weight1=sum(normalized_smallestdistances)\n",
    "    weight2=sum(normalized_largestdistances)\n",
    "    totalweight = weight1 + weight2\n",
    "    if weighted_pos_predictions>(totalweight*threshold): #weighted_neg_predictions<weighted_pos_predictions:\n",
    "        return 1\n",
    "    else:\n",
    "        return 0"
   ]
  },
  {
   "cell_type": "code",
   "execution_count": 19,
   "metadata": {
    "collapsed": false
   },
   "outputs": [
    {
     "name": "stdout",
     "output_type": "stream",
     "text": [
      "minority_predictions' model Fscore\n",
      "0.636363636364\n",
      "minority_predictions' model Accuracy\n",
      "0.7\n"
     ]
    }
   ],
   "source": [
    "#0.6 threshold\n",
    "threshold = 0.6\n",
    "kitchentestgl['minority_predictions'] = kitchentestgl.apply(lambda x: weighted_predict_largedist(x,normalized_largestdistances,threshold) )\n",
    "print \"minority_predictions' model Fscore\"\n",
    "print graphlab.evaluation.f1_score(kitchentestgl['label'], kitchentestgl['minority_predictions'])\n",
    "print \"minority_predictions' model Accuracy\"\n",
    "print graphlab.evaluation.accuracy(kitchentestgl['label'], kitchentestgl['minority_predictions'])"
   ]
  },
  {
   "cell_type": "code",
   "execution_count": 20,
   "metadata": {
    "collapsed": false
   },
   "outputs": [
    {
     "name": "stdout",
     "output_type": "stream",
     "text": [
      "minority_predictions' model Fscore\n",
      "0.757142857143\n",
      "minority_predictions' model Accuracy\n",
      "0.745\n"
     ]
    }
   ],
   "source": [
    "#0.5 threshold\n",
    "threshold=0.5\n",
    "kitchentestgl['minority_predictions'] = kitchentestgl.apply(lambda x: weighted_predict_largedist(x,normalized_largestdistances,threshold) )\n",
    "print \"minority_predictions' model Fscore\"\n",
    "print graphlab.evaluation.f1_score(kitchentestgl['label'], kitchentestgl['minority_predictions'])\n",
    "print \"minority_predictions' model Accuracy\"\n",
    "print graphlab.evaluation.accuracy(kitchentestgl['label'], kitchentestgl['minority_predictions'])"
   ]
  },
  {
   "cell_type": "code",
   "execution_count": 21,
   "metadata": {
    "collapsed": false
   },
   "outputs": [
    {
     "name": "stdout",
     "output_type": "stream",
     "text": [
      "minority_predictions' model Fscore\n",
      "0.599326599327\n",
      "minority_predictions' model Accuracy\n",
      "0.7025\n"
     ]
    }
   ],
   "source": [
    "#0.7 threshold\n",
    "threshold=0.7\n",
    "kitchentestgl['minority_predictions'] = kitchentestgl.apply(lambda x: weighted_predict_largedist(x,normalized_largestdistances,threshold) )\n",
    "print \"minority_predictions' model Fscore\"\n",
    "print graphlab.evaluation.f1_score(kitchentestgl['label'], kitchentestgl['minority_predictions'])\n",
    "print \"minority_predictions' model Accuracy\"\n",
    "print graphlab.evaluation.accuracy(kitchentestgl['label'], kitchentestgl['minority_predictions'])"
   ]
  },
  {
   "cell_type": "code",
   "execution_count": 22,
   "metadata": {
    "collapsed": false
   },
   "outputs": [
    {
     "name": "stdout",
     "output_type": "stream",
     "text": [
      "minority_predictions' model Fscore\n",
      "0.599326599327\n",
      "minority_predictions' model Accuracy\n",
      "0.7025\n"
     ]
    }
   ],
   "source": [
    "#0.8 threshold\n",
    "threshold=0.8\n",
    "kitchentestgl['minority_predictions'] = kitchentestgl.apply(lambda x: weighted_predict_largedist(x,normalized_largestdistances,threshold) )\n",
    "print \"minority_predictions' model Fscore\"\n",
    "print graphlab.evaluation.f1_score(kitchentestgl['label'], kitchentestgl['minority_predictions'])\n",
    "print \"minority_predictions' model Accuracy\"\n",
    "print graphlab.evaluation.accuracy(kitchentestgl['label'], kitchentestgl['minority_predictions'])"
   ]
  },
  {
   "cell_type": "code",
   "execution_count": 23,
   "metadata": {
    "collapsed": false
   },
   "outputs": [
    {
     "name": "stdout",
     "output_type": "stream",
     "text": [
      "minority_predictions' model Fscore\n",
      "0.0\n",
      "minority_predictions' model Accuracy\n",
      "0.5\n"
     ]
    }
   ],
   "source": [
    "#0.9 threshold\n",
    "threshold=0.9\n",
    "kitchentestgl['minority_predictions'] = kitchentestgl.apply(lambda x: weighted_predict_largedist(x,normalized_largestdistances,threshold) )\n",
    "print \"minority_predictions' model Fscore\"\n",
    "print graphlab.evaluation.f1_score(kitchentestgl['label'], kitchentestgl['minority_predictions'])\n",
    "print \"minority_predictions' model Accuracy\"\n",
    "print graphlab.evaluation.accuracy(kitchentestgl['label'], kitchentestgl['minority_predictions'])"
   ]
  },
  {
   "cell_type": "code",
   "execution_count": 25,
   "metadata": {
    "collapsed": false
   },
   "outputs": [
    {
     "name": "stdout",
     "output_type": "stream",
     "text": [
      "majority_predictions' model Fscore\n",
      "0.873737373737\n",
      "majority_predictions' model Accuracy\n",
      "0.875\n"
     ]
    }
   ],
   "source": [
    "#0.6 threshold\n",
    "threshold=0.6\n",
    "kitchentestgl['majority_predictions'] = kitchentestgl.apply(lambda x: weighted_predict_smalldist(x,normalized_smallestdistances,threshold) )\n",
    "print \"majority_predictions' model Fscore\"\n",
    "print graphlab.evaluation.f1_score(kitchentestgl['label'], kitchentestgl['majority_predictions'])\n",
    "print \"majority_predictions' model Accuracy\"\n",
    "print graphlab.evaluation.accuracy(kitchentestgl['label'], kitchentestgl['majority_predictions'])"
   ]
  },
  {
   "cell_type": "code",
   "execution_count": null,
   "metadata": {
    "collapsed": false
   },
   "outputs": [],
   "source": []
  },
  {
   "cell_type": "code",
   "execution_count": 26,
   "metadata": {
    "collapsed": false
   },
   "outputs": [
    {
     "name": "stdout",
     "output_type": "stream",
     "text": [
      "majority_predictions' model Fscore\n",
      "0.858490566038\n",
      "majority_predictions' model Accuracy\n",
      "0.85\n"
     ]
    }
   ],
   "source": [
    "#0.5 threshold\n",
    "threshold=0.5\n",
    "kitchentestgl['majority_predictions'] = kitchentestgl.apply(lambda x: weighted_predict_smalldist(x,normalized_smallestdistances,threshold) )\n",
    "print \"majority_predictions' model Fscore\"\n",
    "print graphlab.evaluation.f1_score(kitchentestgl['label'], kitchentestgl['majority_predictions'])\n",
    "print \"majority_predictions' model Accuracy\"\n",
    "print graphlab.evaluation.accuracy(kitchentestgl['label'], kitchentestgl['majority_predictions'])"
   ]
  },
  {
   "cell_type": "code",
   "execution_count": null,
   "metadata": {
    "collapsed": false
   },
   "outputs": [],
   "source": []
  },
  {
   "cell_type": "code",
   "execution_count": 27,
   "metadata": {
    "collapsed": false
   },
   "outputs": [
    {
     "name": "stdout",
     "output_type": "stream",
     "text": [
      "majority_predictions' model Fscore\n",
      "0.808988764045\n",
      "majority_predictions' model Accuracy\n",
      "0.83\n"
     ]
    }
   ],
   "source": [
    "#0.7 threshold\n",
    "threshold=0.7\n",
    "kitchentestgl['majority_predictions'] = kitchentestgl.apply(lambda x: weighted_predict_smalldist(x,normalized_smallestdistances,threshold) )\n",
    "print \"majority_predictions' model Fscore\"\n",
    "print graphlab.evaluation.f1_score(kitchentestgl['label'], kitchentestgl['majority_predictions'])\n",
    "print \"majority_predictions' model Accuracy\"\n",
    "print graphlab.evaluation.accuracy(kitchentestgl['label'], kitchentestgl['majority_predictions'])"
   ]
  },
  {
   "cell_type": "code",
   "execution_count": null,
   "metadata": {
    "collapsed": false
   },
   "outputs": [],
   "source": []
  },
  {
   "cell_type": "code",
   "execution_count": 28,
   "metadata": {
    "collapsed": false
   },
   "outputs": [
    {
     "name": "stdout",
     "output_type": "stream",
     "text": [
      "majority_predictions' model Fscore\n",
      "0.808988764045\n",
      "majority_predictions' model Accuracy\n",
      "0.83\n"
     ]
    }
   ],
   "source": [
    "#0.8 threshold\n",
    "threshold=0.8\n",
    "kitchentestgl['majority_predictions'] = kitchentestgl.apply(lambda x: weighted_predict_smalldist(x,normalized_smallestdistances,threshold) )\n",
    "print \"majority_predictions' model Fscore\"\n",
    "print graphlab.evaluation.f1_score(kitchentestgl['label'], kitchentestgl['majority_predictions'])\n",
    "print \"majority_predictions' model Accuracy\"\n",
    "print graphlab.evaluation.accuracy(kitchentestgl['label'], kitchentestgl['majority_predictions'])"
   ]
  },
  {
   "cell_type": "code",
   "execution_count": null,
   "metadata": {
    "collapsed": false
   },
   "outputs": [],
   "source": []
  },
  {
   "cell_type": "code",
   "execution_count": 29,
   "metadata": {
    "collapsed": false
   },
   "outputs": [
    {
     "name": "stdout",
     "output_type": "stream",
     "text": [
      "majority_predictions' model Fscore\n",
      "0.707006369427\n",
      "majority_predictions' model Accuracy\n",
      "0.77\n"
     ]
    }
   ],
   "source": [
    "#0.9 threshold\n",
    "threshold=0.9\n",
    "kitchentestgl['majority_predictions'] = kitchentestgl.apply(lambda x: weighted_predict_smalldist(x,normalized_smallestdistances,threshold) )\n",
    "print \"majority_predictions' model Fscore\"\n",
    "print graphlab.evaluation.f1_score(kitchentestgl['label'], kitchentestgl['majority_predictions'])\n",
    "print \"majority_predictions' model Accuracy\"\n",
    "print graphlab.evaluation.accuracy(kitchentestgl['label'], kitchentestgl['majority_predictions'])"
   ]
  },
  {
   "cell_type": "code",
   "execution_count": 30,
   "metadata": {
    "collapsed": false
   },
   "outputs": [
    {
     "name": "stdout",
     "output_type": "stream",
     "text": [
      "majority_predictions' model Fscore\n",
      "0.861904761905\n",
      "majority_predictions' model Accuracy\n",
      "0.855\n"
     ]
    }
   ],
   "source": [
    "#threshold 0.5 using all models\n",
    "threshold=0.5\n",
    "kitchentestgl['majority_minority_predictions'] = kitchentestgl.apply(lambda x: weighted_predict_smalldist_largedistances(x,normalized_smallestdistances,normalized_largestdistances,threshold) )\n",
    "\n",
    "print \"majority_predictions' model Fscore\"\n",
    "print graphlab.evaluation.f1_score(kitchentestgl['label'], kitchentestgl['majority_minority_predictions'])\n",
    "print \"majority_predictions' model Accuracy\"\n",
    "print graphlab.evaluation.accuracy(kitchentestgl['label'], kitchentestgl['majority_minority_predictions'])"
   ]
  },
  {
   "cell_type": "code",
   "execution_count": 31,
   "metadata": {
    "collapsed": false
   },
   "outputs": [
    {
     "name": "stdout",
     "output_type": "stream",
     "text": [
      "majority_predictions' model Fscore\n",
      "0.850393700787\n",
      "majority_predictions' model Accuracy\n",
      "0.8575\n"
     ]
    }
   ],
   "source": [
    "#threshold 0.6 using all models\n",
    "threshold=0.6\n",
    "kitchentestgl['majority_minority_predictions'] = kitchentestgl.apply(lambda x: weighted_predict_smalldist_largedistances(x,normalized_smallestdistances,normalized_largestdistances,threshold) )\n",
    "\n",
    "print \"majority_predictions' model Fscore\"\n",
    "print graphlab.evaluation.f1_score(kitchentestgl['label'], kitchentestgl['majority_minority_predictions'])\n",
    "print \"majority_predictions' model Accuracy\"\n",
    "print graphlab.evaluation.accuracy(kitchentestgl['label'], kitchentestgl['majority_minority_predictions'])"
   ]
  },
  {
   "cell_type": "code",
   "execution_count": 32,
   "metadata": {
    "collapsed": false
   },
   "outputs": [
    {
     "name": "stdout",
     "output_type": "stream",
     "text": [
      "majority_predictions' model Fscore\n",
      "0.794202898551\n",
      "majority_predictions' model Accuracy\n",
      "0.8225\n"
     ]
    }
   ],
   "source": [
    "#threshold 0.7 using all models\n",
    "threshold=0.7\n",
    "kitchentestgl['majority_minority_predictions'] = kitchentestgl.apply(lambda x: weighted_predict_smalldist_largedistances(x,normalized_smallestdistances,normalized_largestdistances,threshold) )\n",
    "\n",
    "print \"majority_predictions' model Fscore\"\n",
    "print graphlab.evaluation.f1_score(kitchentestgl['label'], kitchentestgl['majority_minority_predictions'])\n",
    "print \"majority_predictions' model Accuracy\"\n",
    "print graphlab.evaluation.accuracy(kitchentestgl['label'], kitchentestgl['majority_minority_predictions'])"
   ]
  },
  {
   "cell_type": "code",
   "execution_count": 33,
   "metadata": {
    "collapsed": false
   },
   "outputs": [
    {
     "name": "stdout",
     "output_type": "stream",
     "text": [
      "majority_predictions' model Fscore\n",
      "0.7125\n",
      "majority_predictions' model Accuracy\n",
      "0.77\n"
     ]
    }
   ],
   "source": [
    "#threshold 0.8 using all models\n",
    "threshold=0.8\n",
    "kitchentestgl['majority_minority_predictions'] = kitchentestgl.apply(lambda x: weighted_predict_smalldist_largedistances(x,normalized_smallestdistances,normalized_largestdistances,threshold) )\n",
    "\n",
    "print \"majority_predictions' model Fscore\"\n",
    "print graphlab.evaluation.f1_score(kitchentestgl['label'], kitchentestgl['majority_minority_predictions'])\n",
    "print \"majority_predictions' model Accuracy\"\n",
    "print graphlab.evaluation.accuracy(kitchentestgl['label'], kitchentestgl['majority_minority_predictions'])"
   ]
  },
  {
   "cell_type": "code",
   "execution_count": 34,
   "metadata": {
    "collapsed": false
   },
   "outputs": [
    {
     "name": "stdout",
     "output_type": "stream",
     "text": [
      "majority_predictions' model Fscore\n",
      "0.511111111111\n",
      "majority_predictions' model Accuracy\n",
      "0.67\n"
     ]
    }
   ],
   "source": [
    "#threshold 0.9 using all models\n",
    "threshold=0.9\n",
    "kitchentestgl['majority_minority_predictions'] = kitchentestgl.apply(lambda x: weighted_predict_smalldist_largedistances(x,normalized_smallestdistances,normalized_largestdistances,threshold) )\n",
    "\n",
    "print \"majority_predictions' model Fscore\"\n",
    "print graphlab.evaluation.f1_score(kitchentestgl['label'], kitchentestgl['majority_minority_predictions'])\n",
    "print \"majority_predictions' model Accuracy\"\n",
    "print graphlab.evaluation.accuracy(kitchentestgl['label'], kitchentestgl['majority_minority_predictions'])"
   ]
  },
  {
   "cell_type": "code",
   "execution_count": null,
   "metadata": {
    "collapsed": false
   },
   "outputs": [],
   "source": []
  },
  {
   "cell_type": "markdown",
   "metadata": {
    "collapsed": true
   },
   "source": [
    "## Lets repeat the above using Cosine Distances instead of Euclidean"
   ]
  },
  {
   "cell_type": "code",
   "execution_count": 35,
   "metadata": {
    "collapsed": false
   },
   "outputs": [
    {
     "name": "stdout",
     "output_type": "stream",
     "text": [
      "accuracies\n",
      "('gourmet', 0.5)\n",
      "('automotive', 0.5)\n",
      "('beauty', 0.5025)\n",
      "('jewelrywatches', 0.5025)\n",
      "('grocery', 0.505)\n",
      "('computervideo', 0.505)\n",
      "('book', 0.7)\n",
      "('dvd', 0.745)\n",
      "('baby', 0.785)\n",
      "('apparel', 0.795)\n",
      "('cameraphoto', 0.805)\n",
      "('electronics', 0.8175)\n",
      "('healthpersonal', 0.82)\n",
      "fscores\n",
      "('automotive', 0.0)\n",
      "('book', 0.6363636363636364)\n",
      "('gourmet', 0.6666666666666666)\n",
      "('beauty', 0.6666666666666667)\n",
      "('jewelrywatches', 0.667779632721202)\n",
      "('grocery', 0.6688963210702341)\n",
      "('computervideo', 0.6688963210702341)\n",
      "('dvd', 0.7371134020618557)\n",
      "('apparel', 0.7929292929292928)\n",
      "('cameraphoto', 0.7979274611398963)\n",
      "('baby', 0.8063063063063064)\n",
      "('healthpersonal', 0.8095238095238095)\n",
      "('electronics', 0.8170426065162906)\n",
      "distances\n",
      "('electronics', 0.36080598790800533)\n",
      "('healthpersonal', 0.3686636285328633)\n",
      "('cameraphoto', 0.4070498131725162)\n",
      "('apparel', 0.40863691553859804)\n",
      "('baby', 0.4114316511076972)\n",
      "('beauty', 0.4613234524061305)\n",
      "('computervideo', 0.4686882075377312)\n",
      "('grocery', 0.487554486027983)\n",
      "('dvd', 0.49261932743957626)\n",
      "('gourmet', 0.5039841842356722)\n",
      "('jewelrywatches', 0.5240471587804418)\n",
      "('book', 0.5546099411237762)\n",
      "('automotive', 0.5633181597498838)\n"
     ]
    }
   ],
   "source": [
    "sorted_Fscores = sorted(Fscores.items(), key=lambda x:x[1])\n",
    "sorted_Accuracies = sorted(Accuracies.items(), key=lambda x:x[1])\n",
    "sorted_cosinedistances = sorted(cosine_distances_tokitchen.items(), key=lambda x:x[1])\n",
    "print \"accuracies\"\n",
    "for d in range(len(sorted_Fscores)):\n",
    "    print sorted_Accuracies[d]\n",
    "print \"fscores\"\n",
    "for d in range(len(sorted_Fscores)):\n",
    "    print sorted_Fscores[d]\n",
    "print \"distances\"\n",
    "for d in range(len(sorted_Fscores)):\n",
    "    #print \"euclidean_distance\"\n",
    "    print sorted_cosinedistances[d]\n",
    "    #print sorted_Fscores[d]\n",
    "    #print sorted_Accuracies[d]\n",
    "    #print sorted_euclideandistances[d]"
   ]
  },
  {
   "cell_type": "code",
   "execution_count": null,
   "metadata": {
    "collapsed": true
   },
   "outputs": [],
   "source": []
  },
  {
   "cell_type": "code",
   "execution_count": 81,
   "metadata": {
    "collapsed": true
   },
   "outputs": [],
   "source": [
    "from numpy import linalg as LA\n",
    "import numpy as np\n",
    "def euclidean_norm_dict(vec):\n",
    "    vector=[]\n",
    "    #for v in vec:\n",
    "        #vector.append(v)\n",
    "    enorm = LA.norm(vec)\n",
    "    #for i in vec:\n",
    "        #vec[i] = float(vec[i]/enorm)\n",
    "    return vec / enorm\n",
    "def compute_weights(vec):\n",
    "    newvec=[]\n",
    "    for v in vec:\n",
    "        e = (1-v) / v\n",
    "        weight = (1/2) * np.log(e)\n",
    "        newvec.append(weight)\n",
    "    return newvec\n",
    "\n",
    "##largestdistances=[0.743533140113,0.60353417065,0.584761632679,0.572767971981,0.544679039307,0.55875,0.543115351339]\n",
    "##lowestdistances=[0.339159452128,0.457601529338,0.462982751863,0.488780265727,0.491315411726,0.503708849348]\n",
    "##lowestdist_errors =[0.21,0.2125,0.255,0.225,0.20375,0.23]\n",
    "##highestdist_errors =[0.4925,0.4625,0.485,0.45125,0.44125,0.47125]\n",
    "##lowestdist_weights = compute_weights(lowestdist_errors)\n",
    "#############################\n",
    "#euclidean\n",
    "largestdistances=[0.5633181597498838,0.5546099411237762,0.5240471587804418,0.5039841842356722,0.49261932743957626,0.487554486027983]\n",
    "lowestdistances=[ 0.36080598790800533,0.3686636285328633,0.4070498131725162,0.40863691553859804,0.4114316511076972,0.4613234524061305]\n",
    "lowestdist_errors =[0.21,0.2125,0.255,0.225,0.20375,0.23]\n",
    "highestdist_errors =[0.4925,0.4625,0.485,0.45125,0.44125,0.47125]\n",
    "lowestdist_weights = compute_weights(lowestdist_errors)\n",
    "\n",
    "##############################\n",
    "highestdist_weights = compute_weights(highestdist_errors)\n",
    "Minor_domains = ['automotive_predictions','book_predictions','jewelrywatches_predictions','gourmet_predictions','dvd_predictions','grocery_predictions']\n",
    "\n",
    "Major_domains = ['electronics_predictions','healthpersonal_predictions','cameraphoto_predictions','apparel_predictions','baby_predictions','beauty_predictions']\n",
    "normalized_largestdistances = euclidean_norm_dict(largestdistances)\n",
    "normalized_smallestdistances = euclidean_norm_dict(lowestdistances)"
   ]
  },
  {
   "cell_type": "code",
   "execution_count": 82,
   "metadata": {
    "collapsed": true
   },
   "outputs": [],
   "source": [
    "#largestdistances\n",
    "#Minor_domains\n",
    "\n",
    "def weighted_predict_largedist(sframe,normalized_largestdistances,threshold):\n",
    "    weighted_pos_predictions=0\n",
    "    weighted_neg_predictions=0\n",
    "    for i in range(len(Minor_domains)):\n",
    "        weighted_pos_predictions+=normalized_largestdistances[i]*sframe[Minor_domains[i]]\n",
    "        weighted_neg_predictions+= normalized_largestdistances[i]*sframe[Minor_domains[i]]\n",
    "    weighted_neg_predictions = weighted_neg_predictions*-1\n",
    "    totalweight=sum(normalized_largestdistances)\n",
    "    if weighted_pos_predictions>(totalweight*threshold): #weighted_neg_predictions<weighted_pos_predictions:\n",
    "        return 1\n",
    "    else:\n",
    "        return 0\n",
    "    Major_domains\n",
    "\n",
    "def weighted_predict_smalldist(sframe,normalized_smallestdistances,threshold):\n",
    "    weighted_pos_predictions=0\n",
    "    weighted_neg_predictions=0\n",
    "    for i in range(len(Major_domains)):\n",
    "        weighted_pos_predictions+=normalized_smallestdistances[i]*sframe[Major_domains[i]]\n",
    "        weighted_neg_predictions+= normalized_smallestdistances[i]*sframe[Major_domains[i]]\n",
    "    weighted_neg_predictions = weighted_neg_predictions*-1\n",
    "    totalweight=sum(normalized_smallestdistances)\n",
    "    if weighted_pos_predictions>(totalweight*threshold): #weighted_neg_predictions<weighted_pos_predictions:\n",
    "        return 1\n",
    "    else:\n",
    "        return 0\n",
    "    \n",
    "def weighted_predict_smalldist_largedistances(sframe,normalized_smallestdistances,normalized_largestdistances,threshold):\n",
    "    weighted_pos_predictions=0\n",
    "    weighted_neg_predictions=0\n",
    "    for i in range(len(Major_domains)):\n",
    "        weighted_pos_predictions+=normalized_smallestdistances[i]*sframe[Major_domains[i]]\n",
    "        weighted_neg_predictions+= normalized_smallestdistances[i]*sframe[Major_domains[i]]\n",
    "    for i in range(len(Minor_domains)):\n",
    "        weighted_pos_predictions+=normalized_largestdistances[i]*sframe[Minor_domains[i]]\n",
    "        weighted_neg_predictions+= normalized_largestdistances[i]*sframe[Minor_domains[i]]\n",
    "    weight1=sum(normalized_smallestdistances)\n",
    "    weight2=sum(normalized_largestdistances)\n",
    "    totalweight = weight1 + weight2\n",
    "    if weighted_pos_predictions>(totalweight*threshold): #weighted_neg_predictions<weighted_pos_predictions:\n",
    "        return 1\n",
    "    else:\n",
    "        return 0"
   ]
  },
  {
   "cell_type": "code",
   "execution_count": 83,
   "metadata": {
    "collapsed": false
   },
   "outputs": [
    {
     "name": "stdout",
     "output_type": "stream",
     "text": [
      "minority_predictions' model Fscore\n",
      "0.74733785092\n",
      "minority_predictions' model Accuracy\n",
      "0.739\n"
     ]
    }
   ],
   "source": [
    "#0.5 threshold\n",
    "threshold = 0.5\n",
    "kitchentestgl['minority_predictions'] = kitchentestgl.apply(lambda x: weighted_predict_largedist(x,normalized_largestdistances,threshold) )\n",
    "print \"minority_predictions' model Fscore\"\n",
    "print graphlab.evaluation.f1_score(kitchentestgl['label'], kitchentestgl['minority_predictions'])\n",
    "print \"minority_predictions' model Accuracy\"\n",
    "print graphlab.evaluation.accuracy(kitchentestgl['label'], kitchentestgl['minority_predictions'])"
   ]
  },
  {
   "cell_type": "code",
   "execution_count": 84,
   "metadata": {
    "collapsed": false
   },
   "outputs": [
    {
     "name": "stdout",
     "output_type": "stream",
     "text": [
      "minority_predictions' model Fscore\n",
      "0.74733785092\n",
      "minority_predictions' model Accuracy\n",
      "0.739\n"
     ]
    }
   ],
   "source": [
    "#0.6 threshold\n",
    "threshold=0.6\n",
    "kitchentestgl['minority_predictions'] = kitchentestgl.apply(lambda x: weighted_predict_largedist(x,normalized_largestdistances,threshold) )\n",
    "print \"minority_predictions' model Fscore\"\n",
    "print graphlab.evaluation.f1_score(kitchentestgl['label'], kitchentestgl['minority_predictions'])\n",
    "print \"minority_predictions' model Accuracy\"\n",
    "print graphlab.evaluation.accuracy(kitchentestgl['label'], kitchentestgl['minority_predictions'])"
   ]
  },
  {
   "cell_type": "code",
   "execution_count": 85,
   "metadata": {
    "collapsed": false
   },
   "outputs": [
    {
     "name": "stdout",
     "output_type": "stream",
     "text": [
      "minority_predictions' model Fscore\n",
      "0.515492957746\n",
      "minority_predictions' model Accuracy\n",
      "0.656\n"
     ]
    }
   ],
   "source": [
    "#0.7 threshold\n",
    "threshold=0.7\n",
    "kitchentestgl['minority_predictions'] = kitchentestgl.apply(lambda x: weighted_predict_largedist(x,normalized_largestdistances,threshold) )\n",
    "print \"minority_predictions' model Fscore\"\n",
    "print graphlab.evaluation.f1_score(kitchentestgl['label'], kitchentestgl['minority_predictions'])\n",
    "print \"minority_predictions' model Accuracy\"\n",
    "print graphlab.evaluation.accuracy(kitchentestgl['label'], kitchentestgl['minority_predictions'])"
   ]
  },
  {
   "cell_type": "code",
   "execution_count": 86,
   "metadata": {
    "collapsed": false
   },
   "outputs": [
    {
     "name": "stdout",
     "output_type": "stream",
     "text": [
      "minority_predictions' model Fscore\n",
      "0.515492957746\n",
      "minority_predictions' model Accuracy\n",
      "0.656\n"
     ]
    }
   ],
   "source": [
    "#0.8 threshold\n",
    "threshold=0.8\n",
    "kitchentestgl['minority_predictions'] = kitchentestgl.apply(lambda x: weighted_predict_largedist(x,normalized_largestdistances,threshold) )\n",
    "print \"minority_predictions' model Fscore\"\n",
    "print graphlab.evaluation.f1_score(kitchentestgl['label'], kitchentestgl['minority_predictions'])\n",
    "print \"minority_predictions' model Accuracy\"\n",
    "print graphlab.evaluation.accuracy(kitchentestgl['label'], kitchentestgl['minority_predictions'])"
   ]
  },
  {
   "cell_type": "code",
   "execution_count": 87,
   "metadata": {
    "collapsed": false
   },
   "outputs": [
    {
     "name": "stdout",
     "output_type": "stream",
     "text": [
      "minority_predictions' model Fscore\n",
      "0.0\n",
      "minority_predictions' model Accuracy\n",
      "0.5\n"
     ]
    }
   ],
   "source": [
    "#0.9 threshold\n",
    "threshold=0.9\n",
    "kitchentestgl['minority_predictions'] = kitchentestgl.apply(lambda x: weighted_predict_largedist(x,normalized_largestdistances,threshold) )\n",
    "print \"minority_predictions' model Fscore\"\n",
    "print graphlab.evaluation.f1_score(kitchentestgl['label'], kitchentestgl['minority_predictions'])\n",
    "print \"minority_predictions' model Accuracy\"\n",
    "print graphlab.evaluation.accuracy(kitchentestgl['label'], kitchentestgl['minority_predictions'])"
   ]
  },
  {
   "cell_type": "code",
   "execution_count": 88,
   "metadata": {
    "collapsed": false
   },
   "outputs": [
    {
     "name": "stdout",
     "output_type": "stream",
     "text": [
      "majority_predictions' model Fscore\n",
      "0.875984251969\n",
      "majority_predictions' model Accuracy\n",
      "0.874\n"
     ]
    }
   ],
   "source": [
    "#0.6 threshold\n",
    "threshold=0.6\n",
    "kitchentestgl['majority_predictions'] = kitchentestgl.apply(lambda x: weighted_predict_smalldist(x,normalized_smallestdistances,threshold) )\n",
    "print \"majority_predictions' model Fscore\"\n",
    "print graphlab.evaluation.f1_score(kitchentestgl['label'], kitchentestgl['majority_predictions'])\n",
    "print \"majority_predictions' model Accuracy\"\n",
    "print graphlab.evaluation.accuracy(kitchentestgl['label'], kitchentestgl['majority_predictions'])"
   ]
  },
  {
   "cell_type": "code",
   "execution_count": 89,
   "metadata": {
    "collapsed": false
   },
   "outputs": [
    {
     "name": "stdout",
     "output_type": "stream",
     "text": [
      "majority_predictions' model Fscore\n",
      "0.852727272727\n",
      "majority_predictions' model Accuracy\n",
      "0.838\n"
     ]
    }
   ],
   "source": [
    "#0.5 threshold\n",
    "threshold=0.5\n",
    "kitchentestgl['majority_predictions'] = kitchentestgl.apply(lambda x: weighted_predict_smalldist(x,normalized_smallestdistances,threshold) )\n",
    "print \"majority_predictions' model Fscore\"\n",
    "print graphlab.evaluation.f1_score(kitchentestgl['label'], kitchentestgl['majority_predictions'])\n",
    "print \"majority_predictions' model Accuracy\"\n",
    "print graphlab.evaluation.accuracy(kitchentestgl['label'], kitchentestgl['majority_predictions'])"
   ]
  },
  {
   "cell_type": "code",
   "execution_count": 90,
   "metadata": {
    "collapsed": false
   },
   "outputs": [
    {
     "name": "stdout",
     "output_type": "stream",
     "text": [
      "majority_predictions' model Fscore\n",
      "0.848017621145\n",
      "majority_predictions' model Accuracy\n",
      "0.862\n"
     ]
    }
   ],
   "source": [
    "#0.7 threshold\n",
    "threshold=0.7\n",
    "kitchentestgl['majority_predictions'] = kitchentestgl.apply(lambda x: weighted_predict_smalldist(x,normalized_smallestdistances,threshold) )\n",
    "print \"majority_predictions' model Fscore\"\n",
    "print graphlab.evaluation.f1_score(kitchentestgl['label'], kitchentestgl['majority_predictions'])\n",
    "print \"majority_predictions' model Accuracy\"\n",
    "print graphlab.evaluation.accuracy(kitchentestgl['label'], kitchentestgl['majority_predictions'])"
   ]
  },
  {
   "cell_type": "code",
   "execution_count": 91,
   "metadata": {
    "collapsed": false
   },
   "outputs": [
    {
     "name": "stdout",
     "output_type": "stream",
     "text": [
      "majority_predictions' model Fscore\n",
      "0.848017621145\n",
      "majority_predictions' model Accuracy\n",
      "0.862\n"
     ]
    }
   ],
   "source": [
    "#0.8 threshold\n",
    "threshold=0.8\n",
    "kitchentestgl['majority_predictions'] = kitchentestgl.apply(lambda x: weighted_predict_smalldist(x,normalized_smallestdistances,threshold) )\n",
    "print \"majority_predictions' model Fscore\"\n",
    "print graphlab.evaluation.f1_score(kitchentestgl['label'], kitchentestgl['majority_predictions'])\n",
    "print \"majority_predictions' model Accuracy\"\n",
    "print graphlab.evaluation.accuracy(kitchentestgl['label'], kitchentestgl['majority_predictions'])"
   ]
  },
  {
   "cell_type": "code",
   "execution_count": 92,
   "metadata": {
    "collapsed": false
   },
   "outputs": [
    {
     "name": "stdout",
     "output_type": "stream",
     "text": [
      "majority_predictions' model Fscore\n",
      "0.715736040609\n",
      "majority_predictions' model Accuracy\n",
      "0.776\n"
     ]
    }
   ],
   "source": [
    "#0.9 threshold\n",
    "threshold=0.9\n",
    "kitchentestgl['majority_predictions'] = kitchentestgl.apply(lambda x: weighted_predict_smalldist(x,normalized_smallestdistances,threshold) )\n",
    "print \"majority_predictions' model Fscore\"\n",
    "print graphlab.evaluation.f1_score(kitchentestgl['label'], kitchentestgl['majority_predictions'])\n",
    "print \"majority_predictions' model Accuracy\"\n",
    "print graphlab.evaluation.accuracy(kitchentestgl['label'], kitchentestgl['majority_predictions'])"
   ]
  },
  {
   "cell_type": "code",
   "execution_count": null,
   "metadata": {
    "collapsed": false
   },
   "outputs": [],
   "source": []
  },
  {
   "cell_type": "code",
   "execution_count": 75,
   "metadata": {
    "collapsed": false
   },
   "outputs": [
    {
     "name": "stdout",
     "output_type": "stream",
     "text": [
      "majority_predictions' model Fscore\n",
      "0.850393700787\n",
      "majority_predictions' model Accuracy\n",
      "0.8575\n"
     ]
    }
   ],
   "source": [
    "#threshold 0.6 using all models\n",
    "threshold=0.6\n",
    "kitchentestgl['majority_minority_predictions'] = kitchentestgl.apply(lambda x: weighted_predict_smalldist_largedistances(x,normalized_smallestdistances,normalized_largestdistances,threshold) )\n",
    "\n",
    "print \"majority_predictions' model Fscore\"\n",
    "print graphlab.evaluation.f1_score(kitchentestgl['label'], kitchentestgl['majority_minority_predictions'])\n",
    "print \"majority_predictions' model Accuracy\"\n",
    "print graphlab.evaluation.accuracy(kitchentestgl['label'], kitchentestgl['majority_minority_predictions'])"
   ]
  },
  {
   "cell_type": "code",
   "execution_count": 76,
   "metadata": {
    "collapsed": false
   },
   "outputs": [
    {
     "name": "stdout",
     "output_type": "stream",
     "text": [
      "majority_predictions' model Fscore\n",
      "0.839002267574\n",
      "majority_predictions' model Accuracy\n",
      "0.8225\n"
     ]
    }
   ],
   "source": [
    "#threshold 0.5 using all models\n",
    "threshold=0.5\n",
    "kitchentestgl['majority_minority_predictions'] = kitchentestgl.apply(lambda x: weighted_predict_smalldist_largedistances(x,normalized_smallestdistances,normalized_largestdistances,threshold) )\n",
    "\n",
    "print \"majority_predictions' model Fscore\"\n",
    "print graphlab.evaluation.f1_score(kitchentestgl['label'], kitchentestgl['majority_minority_predictions'])\n",
    "print \"majority_predictions' model Accuracy\"\n",
    "print graphlab.evaluation.accuracy(kitchentestgl['label'], kitchentestgl['majority_minority_predictions'])"
   ]
  },
  {
   "cell_type": "code",
   "execution_count": 77,
   "metadata": {
    "collapsed": false
   },
   "outputs": [
    {
     "name": "stdout",
     "output_type": "stream",
     "text": [
      "majority_predictions' model Fscore\n",
      "0.818181818182\n",
      "majority_predictions' model Accuracy\n",
      "0.84\n"
     ]
    }
   ],
   "source": [
    "#threshold 0.7 using all models\n",
    "threshold=0.7\n",
    "kitchentestgl['majority_minority_predictions'] = kitchentestgl.apply(lambda x: weighted_predict_smalldist_largedistances(x,normalized_smallestdistances,normalized_largestdistances,threshold) )\n",
    "\n",
    "print \"majority_predictions' model Fscore\"\n",
    "print graphlab.evaluation.f1_score(kitchentestgl['label'], kitchentestgl['majority_minority_predictions'])\n",
    "print \"majority_predictions' model Accuracy\"\n",
    "print graphlab.evaluation.accuracy(kitchentestgl['label'], kitchentestgl['majority_minority_predictions'])"
   ]
  },
  {
   "cell_type": "code",
   "execution_count": 78,
   "metadata": {
    "collapsed": false
   },
   "outputs": [
    {
     "name": "stdout",
     "output_type": "stream",
     "text": [
      "majority_predictions' model Fscore\n",
      "0.7125\n",
      "majority_predictions' model Accuracy\n",
      "0.77\n"
     ]
    }
   ],
   "source": [
    "#threshold 0.8 using all models\n",
    "threshold=0.8\n",
    "kitchentestgl['majority_minority_predictions'] = kitchentestgl.apply(lambda x: weighted_predict_smalldist_largedistances(x,normalized_smallestdistances,normalized_largestdistances,threshold) )\n",
    "\n",
    "print \"majority_predictions' model Fscore\"\n",
    "print graphlab.evaluation.f1_score(kitchentestgl['label'], kitchentestgl['majority_minority_predictions'])\n",
    "print \"majority_predictions' model Accuracy\"\n",
    "print graphlab.evaluation.accuracy(kitchentestgl['label'], kitchentestgl['majority_minority_predictions'])"
   ]
  },
  {
   "cell_type": "code",
   "execution_count": 79,
   "metadata": {
    "collapsed": false
   },
   "outputs": [
    {
     "name": "stdout",
     "output_type": "stream",
     "text": [
      "majority_predictions' model Fscore\n",
      "0.511111111111\n",
      "majority_predictions' model Accuracy\n",
      "0.67\n"
     ]
    }
   ],
   "source": [
    "#threshold 0.9 using all models\n",
    "threshold=0.9\n",
    "kitchentestgl['majority_minority_predictions'] = kitchentestgl.apply(lambda x: weighted_predict_smalldist_largedistances(x,normalized_smallestdistances,normalized_largestdistances,threshold) )\n",
    "\n",
    "print \"majority_predictions' model Fscore\"\n",
    "print graphlab.evaluation.f1_score(kitchentestgl['label'], kitchentestgl['majority_minority_predictions'])\n",
    "print \"majority_predictions' model Accuracy\"\n",
    "print graphlab.evaluation.accuracy(kitchentestgl['label'], kitchentestgl['majority_minority_predictions'])"
   ]
  },
  {
   "cell_type": "code",
   "execution_count": null,
   "metadata": {
    "collapsed": true
   },
   "outputs": [],
   "source": []
  },
  {
   "cell_type": "code",
   "execution_count": null,
   "metadata": {
    "collapsed": true
   },
   "outputs": [],
   "source": []
  },
  {
   "cell_type": "code",
   "execution_count": null,
   "metadata": {
    "collapsed": true
   },
   "outputs": [],
   "source": []
  },
  {
   "cell_type": "markdown",
   "metadata": {},
   "source": [
    "## Randomly sampled test set"
   ]
  },
  {
   "cell_type": "code",
   "execution_count": 118,
   "metadata": {
    "collapsed": false
   },
   "outputs": [
    {
     "data": {
      "text/html": [
       "<pre>Finished parsing file C:\\Users\\Omar\\kitchentestgl_random.csv</pre>"
      ],
      "text/plain": [
       "Finished parsing file C:\\Users\\Omar\\kitchentestgl_random.csv"
      ]
     },
     "metadata": {},
     "output_type": "display_data"
    },
    {
     "data": {
      "text/html": [
       "<pre>Parsing completed. Parsed 100 lines in 0.119942 secs.</pre>"
      ],
      "text/plain": [
       "Parsing completed. Parsed 100 lines in 0.119942 secs."
      ]
     },
     "metadata": {},
     "output_type": "display_data"
    },
    {
     "name": "stdout",
     "output_type": "stream",
     "text": [
      "------------------------------------------------------\n",
      "Inferred types from first 100 line(s) of file as \n",
      "column_type_hints=[str,long,str,str,str,str,str,long,long,long,long,long,long,long,long,long,long,long,long,long]\n",
      "If parsing fails due to incorrect types, you can correct\n",
      "the inferred type list above and pass it to read_csv in\n",
      "the column_type_hints argument\n",
      "------------------------------------------------------\n"
     ]
    },
    {
     "data": {
      "text/html": [
       "<pre>Finished parsing file C:\\Users\\Omar\\kitchentestgl_random.csv</pre>"
      ],
      "text/plain": [
       "Finished parsing file C:\\Users\\Omar\\kitchentestgl_random.csv"
      ]
     },
     "metadata": {},
     "output_type": "display_data"
    },
    {
     "data": {
      "text/html": [
       "<pre>Parsing completed. Parsed 1000 lines in 0.057966 secs.</pre>"
      ],
      "text/plain": [
       "Parsing completed. Parsed 1000 lines in 0.057966 secs."
      ]
     },
     "metadata": {},
     "output_type": "display_data"
    }
   ],
   "source": [
    "kitchentestgl = graphlab.SFrame('kitchentestgl_random.csv')"
   ]
  },
  {
   "cell_type": "code",
   "execution_count": 120,
   "metadata": {
    "collapsed": true
   },
   "outputs": [],
   "source": [
    "from numpy import linalg as LA\n",
    "import numpy as np\n",
    "def euclidean_norm_dict(vec):\n",
    "    vector=[]\n",
    "    #for v in vec:\n",
    "        #vector.append(v)\n",
    "    enorm = LA.norm(vec)\n",
    "    #for i in vec:\n",
    "        #vec[i] = float(vec[i]/enorm)\n",
    "    return vec / enorm\n",
    "def compute_weights(vec):\n",
    "    newvec=[]\n",
    "    for v in vec:\n",
    "        e = (1-v) / v\n",
    "        weight = (1/2) * np.log(e)\n",
    "        newvec.append(weight)\n",
    "    return newvec\n",
    "\n",
    "##largestdistances=[0.743533140113,0.60353417065,0.584761632679,0.572767971981,0.544679039307,0.55875,0.543115351339]\n",
    "##lowestdistances=[0.339159452128,0.457601529338,0.462982751863,0.488780265727,0.491315411726,0.503708849348]\n",
    "##lowestdist_errors =[0.21,0.2125,0.255,0.225,0.20375,0.23]\n",
    "##highestdist_errors =[0.4925,0.4625,0.485,0.45125,0.44125,0.47125]\n",
    "##lowestdist_weights = compute_weights(lowestdist_errors)\n",
    "#############################\n",
    "#euclidean\n",
    "largestdistances=[200.7959162931358,167.20346886353764,101.68579055108928,99.70957827611147,98.82813364624468,98.47842403288143]\n",
    "lowestdistances=[90.46546302318913,92.32009532057471,93.24698386543128,93.50935782048768,95.66085928947116,96.60745312862771]\n",
    "lowestdist_errors =[0.21,0.2125,0.255,0.225,0.20375,0.23]\n",
    "highestdist_errors =[0.4925,0.4625,0.485,0.45125,0.44125,0.47125]\n",
    "lowestdist_weights = compute_weights(lowestdist_errors)\n",
    "\n",
    "##############################\n",
    "highestdist_weights = compute_weights(highestdist_errors)\n",
    "Minor_domains = ['book_predictions','dvd_predictions','automotive_predictions','jewelrywatches_predictions','gourmet_predictions','computervideo_predictions']\n",
    "Major_domains = ['healthpersonal_predictions','baby_predictions','cameraphoto_predictions','apparel_predictions','electronics_predictions','beauty_predictions']\n",
    "###Major_domains = ['electronics_predictions','healthpersonal_predictions','baby_predictions']\n",
    "###lowestdistances=[113.12824580978881,116.66619047521866,119.10499569707393]\n",
    "###Minor_domains = ['book_predictions','dvd_predictions','automotive_predictions']\n",
    "###largestdistances=[216.13190416965284,195.2255106280939,132.53678734600442]\n",
    "normalized_largestdistances = euclidean_norm_dict(largestdistances)\n",
    "normalized_smallestdistances = euclidean_norm_dict(lowestdistances)"
   ]
  },
  {
   "cell_type": "code",
   "execution_count": 128,
   "metadata": {
    "collapsed": true
   },
   "outputs": [],
   "source": [
    "#largestdistances\n",
    "#Minor_domains\n",
    "\n",
    "def weighted_predict_largedist(sframe,normalized_largestdistances,threshold):\n",
    "    weighted_pos_predictions=0\n",
    "    weighted_neg_predictions=0\n",
    "    for i in range(len(Minor_domains)):\n",
    "        weighted_pos_predictions+=normalized_largestdistances[i]*sframe[Minor_domains[i]]\n",
    "        weighted_neg_predictions+= normalized_largestdistances[i]*sframe[Minor_domains[i]]\n",
    "    weighted_neg_predictions = weighted_neg_predictions*-1\n",
    "    totalweight=sum(normalized_largestdistances)\n",
    "    if weighted_pos_predictions>(totalweight*threshold): #weighted_neg_predictions<weighted_pos_predictions:\n",
    "        return 1\n",
    "    else:\n",
    "        return 0\n",
    "    #Major_domains\n",
    "\n",
    "def weighted_predict_smalldist(sframe,normalized_smallestdistances,threshold):\n",
    "    weighted_pos_predictions=0\n",
    "    weighted_neg_predictions=0\n",
    "    for i in range(len(Major_domains)):\n",
    "        weighted_pos_predictions+=normalized_smallestdistances[i]*sframe[Major_domains[i]]\n",
    "        weighted_neg_predictions+= normalized_smallestdistances[i]*sframe[Major_domains[i]]\n",
    "    weighted_neg_predictions = weighted_neg_predictions*-1\n",
    "    totalweight=sum(normalized_smallestdistances)\n",
    "    if weighted_pos_predictions>(totalweight*threshold): #weighted_neg_predictions<weighted_pos_predictions:\n",
    "        return 1\n",
    "    else:\n",
    "        return 0\n",
    "    \n",
    "def weighted_predict_smalldist_largedistances(sframe,normalized_smallestdistances,normalized_largestdistances,threshold):\n",
    "    weighted_pos_predictions=0\n",
    "    weighted_neg_predictions=0\n",
    "    for i in range(len(Major_domains)):\n",
    "        weighted_pos_predictions+=normalized_smallestdistances[i]*sframe[Major_domains[i]]\n",
    "        weighted_neg_predictions+= normalized_smallestdistances[i]*sframe[Major_domains[i]]\n",
    "    for i in range(len(Minor_domains)):\n",
    "        weighted_pos_predictions+=normalized_largestdistances[i]*sframe[Minor_domains[i]]\n",
    "        weighted_neg_predictions+= normalized_largestdistances[i]*sframe[Minor_domains[i]]\n",
    "    weight1=sum(normalized_smallestdistances)\n",
    "    weight2=sum(normalized_largestdistances)\n",
    "    totalweight = weight1 + weight2\n",
    "    if weighted_pos_predictions>(totalweight*threshold): #weighted_neg_predictions<weighted_pos_predictions:\n",
    "        return 1\n",
    "    else:\n",
    "        return 0"
   ]
  },
  {
   "cell_type": "code",
   "execution_count": 130,
   "metadata": {
    "collapsed": false
   },
   "outputs": [
    {
     "name": "stdout",
     "output_type": "stream",
     "text": [
      "minority_predictions' model Fscore\n",
      "0.765873015873\n",
      "minority_predictions' model Accuracy\n",
      "0.764\n"
     ]
    }
   ],
   "source": [
    "## Euclidean distance - random test set - best classifiers ensemble\n",
    "#0.5 threshold\n",
    "threshold=0.5\n",
    "kitchentestgl['minority_predictions'] = kitchentestgl.apply(lambda x: weighted_predict_largedist(x,normalized_largestdistances,threshold) )\n",
    "print \"minority_predictions' model Fscore\"\n",
    "print graphlab.evaluation.f1_score(kitchentestgl['label'], kitchentestgl['minority_predictions'])\n",
    "print \"minority_predictions' model Accuracy\"\n",
    "print graphlab.evaluation.accuracy(kitchentestgl['label'], kitchentestgl['minority_predictions'])\n"
   ]
  },
  {
   "cell_type": "code",
   "execution_count": 131,
   "metadata": {
    "collapsed": false
   },
   "outputs": [
    {
     "name": "stdout",
     "output_type": "stream",
     "text": [
      "minority_predictions' model Fscore\n",
      "0.766633565045\n",
      "minority_predictions' model Accuracy\n",
      "0.765\n"
     ]
    }
   ],
   "source": [
    "## Euclidean distance - random test set - best classifiers ensemble\n",
    "#0.6 threshold\n",
    "threshold=0.6\n",
    "kitchentestgl['minority_predictions'] = kitchentestgl.apply(lambda x: weighted_predict_largedist(x,normalized_largestdistances,threshold) )\n",
    "print \"minority_predictions' model Fscore\"\n",
    "print graphlab.evaluation.f1_score(kitchentestgl['label'], kitchentestgl['minority_predictions'])\n",
    "print \"minority_predictions' model Accuracy\"\n",
    "print graphlab.evaluation.accuracy(kitchentestgl['label'], kitchentestgl['minority_predictions'])\n"
   ]
  },
  {
   "cell_type": "code",
   "execution_count": 132,
   "metadata": {
    "collapsed": false
   },
   "outputs": [
    {
     "name": "stdout",
     "output_type": "stream",
     "text": [
      "minority_predictions' model Fscore\n",
      "0.51493598862\n",
      "minority_predictions' model Accuracy\n",
      "0.659\n"
     ]
    }
   ],
   "source": [
    "## Euclidean distance - random test set - best classifiers ensemble\n",
    "#0.7 threshold\n",
    "threshold=0.7\n",
    "kitchentestgl['minority_predictions'] = kitchentestgl.apply(lambda x: weighted_predict_largedist(x,normalized_largestdistances,threshold) )\n",
    "print \"minority_predictions' model Fscore\"\n",
    "print graphlab.evaluation.f1_score(kitchentestgl['label'], kitchentestgl['minority_predictions'])\n",
    "print \"minority_predictions' model Accuracy\"\n",
    "print graphlab.evaluation.accuracy(kitchentestgl['label'], kitchentestgl['minority_predictions'])\n"
   ]
  },
  {
   "cell_type": "code",
   "execution_count": 133,
   "metadata": {
    "collapsed": false
   },
   "outputs": [
    {
     "name": "stdout",
     "output_type": "stream",
     "text": [
      "minority_predictions' model Fscore\n",
      "0.512820512821\n",
      "minority_predictions' model Accuracy\n",
      "0.658\n"
     ]
    }
   ],
   "source": [
    "## Euclidean distance - random test set - best classifiers ensemble\n",
    "#0.8 threshold\n",
    "threshold=0.8\n",
    "kitchentestgl['minority_predictions'] = kitchentestgl.apply(lambda x: weighted_predict_largedist(x,normalized_largestdistances,threshold) )\n",
    "print \"minority_predictions' model Fscore\"\n",
    "print graphlab.evaluation.f1_score(kitchentestgl['label'], kitchentestgl['minority_predictions'])\n",
    "print \"minority_predictions' model Accuracy\"\n",
    "print graphlab.evaluation.accuracy(kitchentestgl['label'], kitchentestgl['minority_predictions'])\n"
   ]
  },
  {
   "cell_type": "code",
   "execution_count": 134,
   "metadata": {
    "collapsed": false
   },
   "outputs": [
    {
     "name": "stdout",
     "output_type": "stream",
     "text": [
      "minority_predictions' model Fscore\n",
      "0.0\n",
      "minority_predictions' model Accuracy\n",
      "0.5\n"
     ]
    }
   ],
   "source": [
    "## Euclidean distance - random test set - best classifiers ensemble\n",
    "#0.9 threshold\n",
    "threshold=0.9\n",
    "kitchentestgl['minority_predictions'] = kitchentestgl.apply(lambda x: weighted_predict_largedist(x,normalized_largestdistances,threshold) )\n",
    "print \"minority_predictions' model Fscore\"\n",
    "print graphlab.evaluation.f1_score(kitchentestgl['label'], kitchentestgl['minority_predictions'])\n",
    "print \"minority_predictions' model Accuracy\"\n",
    "print graphlab.evaluation.accuracy(kitchentestgl['label'], kitchentestgl['minority_predictions'])\n"
   ]
  },
  {
   "cell_type": "code",
   "execution_count": 135,
   "metadata": {
    "collapsed": false
   },
   "outputs": [
    {
     "name": "stdout",
     "output_type": "stream",
     "text": [
      "majority_predictions' model Fscore\n",
      "0.85504587156\n",
      "majority_predictions' model Accuracy\n",
      "0.842\n"
     ]
    }
   ],
   "source": [
    "#0.5 threshold\n",
    "threshold=0.5\n",
    "kitchentestgl['majority_predictions'] = kitchentestgl.apply(lambda x: weighted_predict_smalldist(x,normalized_smallestdistances,threshold) )\n",
    "print \"majority_predictions' model Fscore\"\n",
    "print graphlab.evaluation.f1_score(kitchentestgl['label'], kitchentestgl['majority_predictions'])\n",
    "print \"majority_predictions' model Accuracy\"\n",
    "print graphlab.evaluation.accuracy(kitchentestgl['label'], kitchentestgl['majority_predictions'])\n"
   ]
  },
  {
   "cell_type": "code",
   "execution_count": 136,
   "metadata": {
    "collapsed": false
   },
   "outputs": [
    {
     "name": "stdout",
     "output_type": "stream",
     "text": [
      "majority_predictions' model Fscore\n",
      "0.86626746507\n",
      "majority_predictions' model Accuracy\n",
      "0.866\n"
     ]
    }
   ],
   "source": [
    "#0.6 threshold\n",
    "threshold=0.6\n",
    "kitchentestgl['majority_predictions'] = kitchentestgl.apply(lambda x: weighted_predict_smalldist(x,normalized_smallestdistances,threshold) )\n",
    "print \"majority_predictions' model Fscore\"\n",
    "print graphlab.evaluation.f1_score(kitchentestgl['label'], kitchentestgl['majority_predictions'])\n",
    "print \"majority_predictions' model Accuracy\"\n",
    "print graphlab.evaluation.accuracy(kitchentestgl['label'], kitchentestgl['majority_predictions'])\n"
   ]
  },
  {
   "cell_type": "code",
   "execution_count": 137,
   "metadata": {
    "collapsed": false
   },
   "outputs": [
    {
     "name": "stdout",
     "output_type": "stream",
     "text": [
      "majority_predictions' model Fscore\n",
      "0.832962138085\n",
      "majority_predictions' model Accuracy\n",
      "0.85\n"
     ]
    }
   ],
   "source": [
    "#0.7 threshold\n",
    "threshold=0.7\n",
    "kitchentestgl['majority_predictions'] = kitchentestgl.apply(lambda x: weighted_predict_smalldist(x,normalized_smallestdistances,threshold) )\n",
    "print \"majority_predictions' model Fscore\"\n",
    "print graphlab.evaluation.f1_score(kitchentestgl['label'], kitchentestgl['majority_predictions'])\n",
    "print \"majority_predictions' model Accuracy\"\n",
    "print graphlab.evaluation.accuracy(kitchentestgl['label'], kitchentestgl['majority_predictions'])\n"
   ]
  },
  {
   "cell_type": "code",
   "execution_count": 138,
   "metadata": {
    "collapsed": false
   },
   "outputs": [
    {
     "name": "stdout",
     "output_type": "stream",
     "text": [
      "majority_predictions' model Fscore\n",
      "0.832962138085\n",
      "majority_predictions' model Accuracy\n",
      "0.85\n"
     ]
    }
   ],
   "source": [
    "#0.8 threshold\n",
    "threshold=0.8\n",
    "kitchentestgl['majority_predictions'] = kitchentestgl.apply(lambda x: weighted_predict_smalldist(x,normalized_smallestdistances,threshold) )\n",
    "print \"majority_predictions' model Fscore\"\n",
    "print graphlab.evaluation.f1_score(kitchentestgl['label'], kitchentestgl['majority_predictions'])\n",
    "print \"majority_predictions' model Accuracy\"\n",
    "print graphlab.evaluation.accuracy(kitchentestgl['label'], kitchentestgl['majority_predictions'])\n"
   ]
  },
  {
   "cell_type": "code",
   "execution_count": 100,
   "metadata": {
    "collapsed": false
   },
   "outputs": [
    {
     "name": "stdout",
     "output_type": "stream",
     "text": [
      "minority_predictions' model Fscore\n",
      "0.0\n",
      "minority_predictions' model Accuracy\n",
      "0.5\n"
     ]
    }
   ],
   "source": [
    "#0.9 threshold\n",
    "threshold=0.9\n",
    "kitchentestgl['majority_predictions'] = kitchentestgl.apply(lambda x: weighted_predict_smalldist(x,normalized_smallestdistances,threshold) )\n",
    "print \"majority_predictions' model Fscore\"\n",
    "print graphlab.evaluation.f1_score(kitchentestgl['label'], kitchentestgl['majority_predictions'])\n",
    "print \"majority_predictions' model Accuracy\"\n",
    "print graphlab.evaluation.accuracy(kitchentestgl['label'], kitchentestgl['majority_predictions'])\n"
   ]
  },
  {
   "cell_type": "code",
   "execution_count": 139,
   "metadata": {
    "collapsed": false
   },
   "outputs": [
    {
     "name": "stdout",
     "output_type": "stream",
     "text": [
      "majority_predictions' model Fscore\n",
      "0.868347338936\n",
      "majority_predictions' model Accuracy\n",
      "0.859\n"
     ]
    }
   ],
   "source": [
    "#threshold 0.5 using all models\n",
    "threshold=0.5\n",
    "kitchentestgl['majority_minority_predictions'] = kitchentestgl.apply(lambda x: weighted_predict_smalldist_largedistances(x,normalized_smallestdistances,normalized_largestdistances,threshold) )\n",
    "\n",
    "print \"majority_predictions' model Fscore\"\n",
    "print graphlab.evaluation.f1_score(kitchentestgl['label'], kitchentestgl['majority_minority_predictions'])\n",
    "print \"majority_predictions' model Accuracy\"\n",
    "print graphlab.evaluation.accuracy(kitchentestgl['label'], kitchentestgl['majority_minority_predictions'])"
   ]
  },
  {
   "cell_type": "code",
   "execution_count": 140,
   "metadata": {
    "collapsed": false
   },
   "outputs": [
    {
     "name": "stdout",
     "output_type": "stream",
     "text": [
      "majority_predictions' model Fscore\n",
      "0.859228362878\n",
      "majority_predictions' model Accuracy\n",
      "0.865\n"
     ]
    }
   ],
   "source": [
    "#threshold 0.6 using all models\n",
    "threshold=0.6\n",
    "kitchentestgl['majority_minority_predictions'] = kitchentestgl.apply(lambda x: weighted_predict_smalldist_largedistances(x,normalized_smallestdistances,normalized_largestdistances,threshold) )\n",
    "\n",
    "print \"majority_predictions' model Fscore\"\n",
    "print graphlab.evaluation.f1_score(kitchentestgl['label'], kitchentestgl['majority_minority_predictions'])\n",
    "print \"majority_predictions' model Accuracy\"\n",
    "print graphlab.evaluation.accuracy(kitchentestgl['label'], kitchentestgl['majority_minority_predictions'])"
   ]
  },
  {
   "cell_type": "code",
   "execution_count": 141,
   "metadata": {
    "collapsed": false
   },
   "outputs": [
    {
     "name": "stdout",
     "output_type": "stream",
     "text": [
      "majority_predictions' model Fscore\n",
      "0.808656036446\n",
      "majority_predictions' model Accuracy\n",
      "0.832\n"
     ]
    }
   ],
   "source": [
    "#threshold 0.7 using all models\n",
    "threshold=0.7\n",
    "kitchentestgl['majority_minority_predictions'] = kitchentestgl.apply(lambda x: weighted_predict_smalldist_largedistances(x,normalized_smallestdistances,normalized_largestdistances,threshold) )\n",
    "\n",
    "print \"majority_predictions' model Fscore\"\n",
    "print graphlab.evaluation.f1_score(kitchentestgl['label'], kitchentestgl['majority_minority_predictions'])\n",
    "print \"majority_predictions' model Accuracy\"\n",
    "print graphlab.evaluation.accuracy(kitchentestgl['label'], kitchentestgl['majority_minority_predictions'])"
   ]
  },
  {
   "cell_type": "code",
   "execution_count": 142,
   "metadata": {
    "collapsed": false
   },
   "outputs": [
    {
     "name": "stdout",
     "output_type": "stream",
     "text": [
      "majority_predictions' model Fscore\n",
      "0.714285714286\n",
      "majority_predictions' model Accuracy\n",
      "0.776\n"
     ]
    }
   ],
   "source": [
    "#threshold 0.8 using all models\n",
    "threshold=0.8\n",
    "kitchentestgl['majority_minority_predictions'] = kitchentestgl.apply(lambda x: weighted_predict_smalldist_largedistances(x,normalized_smallestdistances,normalized_largestdistances,threshold) )\n",
    "\n",
    "print \"majority_predictions' model Fscore\"\n",
    "print graphlab.evaluation.f1_score(kitchentestgl['label'], kitchentestgl['majority_minority_predictions'])\n",
    "print \"majority_predictions' model Accuracy\"\n",
    "print graphlab.evaluation.accuracy(kitchentestgl['label'], kitchentestgl['majority_minority_predictions'])"
   ]
  },
  {
   "cell_type": "code",
   "execution_count": 143,
   "metadata": {
    "collapsed": false
   },
   "outputs": [
    {
     "name": "stdout",
     "output_type": "stream",
     "text": [
      "majority_predictions' model Fscore\n",
      "0.405103668262\n",
      "majority_predictions' model Accuracy\n",
      "0.627\n"
     ]
    }
   ],
   "source": [
    "#threshold 0.9 using all models\n",
    "threshold=0.9\n",
    "kitchentestgl['majority_minority_predictions'] = kitchentestgl.apply(lambda x: weighted_predict_smalldist_largedistances(x,normalized_smallestdistances,normalized_largestdistances,threshold) )\n",
    "\n",
    "print \"majority_predictions' model Fscore\"\n",
    "print graphlab.evaluation.f1_score(kitchentestgl['label'], kitchentestgl['majority_minority_predictions'])\n",
    "print \"majority_predictions' model Accuracy\"\n",
    "print graphlab.evaluation.accuracy(kitchentestgl['label'], kitchentestgl['majority_minority_predictions'])"
   ]
  },
  {
   "cell_type": "markdown",
   "metadata": {},
   "source": [
    "## Cosine distances"
   ]
  },
  {
   "cell_type": "code",
   "execution_count": 144,
   "metadata": {
    "collapsed": true
   },
   "outputs": [],
   "source": [
    "from numpy import linalg as LA\n",
    "import numpy as np\n",
    "def euclidean_norm_dict(vec):\n",
    "    vector=[]\n",
    "    #for v in vec:\n",
    "        #vector.append(v)\n",
    "    enorm = LA.norm(vec)\n",
    "    #for i in vec:\n",
    "        #vec[i] = float(vec[i]/enorm)\n",
    "    return vec / enorm\n",
    "def compute_weights(vec):\n",
    "    newvec=[]\n",
    "    for v in vec:\n",
    "        e = (1-v) / v\n",
    "        weight = (1/2) * np.log(e)\n",
    "        newvec.append(weight)\n",
    "    return newvec\n",
    "\n",
    "##largestdistances=[0.743533140113,0.60353417065,0.584761632679,0.572767971981,0.544679039307,0.55875,0.543115351339]\n",
    "##lowestdistances=[0.339159452128,0.457601529338,0.462982751863,0.488780265727,0.491315411726,0.503708849348]\n",
    "##lowestdist_errors =[0.21,0.2125,0.255,0.225,0.20375,0.23]\n",
    "##highestdist_errors =[0.4925,0.4625,0.485,0.45125,0.44125,0.47125]\n",
    "##lowestdist_weights = compute_weights(lowestdist_errors)\n",
    "#############################\n",
    "#euclidean\n",
    "largestdistances=[0.6350605759053847,0.603534170649985,0.5847616326788285,0.5727679719812935,0.5446790393073166,0.5430607582457809]\n",
    "lowestdistances=[ 0.33915945212803433,0.45760152933765286,0.462982751863136,0.48878026572745203,0.49131541172587234,0.49886896922937907]\n",
    "lowestdist_errors =[0.21,0.2125,0.255,0.225,0.20375,0.23]\n",
    "highestdist_errors =[0.4925,0.4625,0.485,0.45125,0.44125,0.47125]\n",
    "lowestdist_weights = compute_weights(lowestdist_errors)\n",
    "\n",
    "##############################\n",
    "highestdist_weights = compute_weights(highestdist_errors)\n",
    "Minor_domains = ['automotive_predictions','jewelrywatches_predictions','gourmet_predictions','grocery_predictions','beauty_predictions','computervideo_predictions']\n",
    "Major_domains = ['electronics_predictions','healthpersonal_predictions','dvd_predictions','cameraphoto_predictions','apparel_predictions','baby_predictions']\n",
    "normalized_largestdistances = euclidean_norm_dict(largestdistances)\n",
    "normalized_smallestdistances = euclidean_norm_dict(lowestdistances)"
   ]
  },
  {
   "cell_type": "code",
   "execution_count": 145,
   "metadata": {
    "collapsed": false
   },
   "outputs": [
    {
     "name": "stdout",
     "output_type": "stream",
     "text": [
      "minority_predictions' model Fscore\n",
      "0.667556742323\n",
      "minority_predictions' model Accuracy\n",
      "0.502\n"
     ]
    }
   ],
   "source": [
    "#0.5 threshold\n",
    "\n",
    "threshold=0.5\n",
    "kitchentestgl['minority_predictions'] = kitchentestgl.apply(lambda x: weighted_predict_largedist(x,normalized_largestdistances,threshold) )\n",
    "print \"minority_predictions' model Fscore\"\n",
    "print graphlab.evaluation.f1_score(kitchentestgl['label'], kitchentestgl['minority_predictions'])\n",
    "print \"minority_predictions' model Accuracy\"\n",
    "print graphlab.evaluation.accuracy(kitchentestgl['label'], kitchentestgl['minority_predictions'])"
   ]
  },
  {
   "cell_type": "code",
   "execution_count": 146,
   "metadata": {
    "collapsed": false
   },
   "outputs": [
    {
     "name": "stdout",
     "output_type": "stream",
     "text": [
      "minority_predictions' model Fscore\n",
      "0.667556742323\n",
      "minority_predictions' model Accuracy\n",
      "0.502\n"
     ]
    }
   ],
   "source": [
    "#0.6 threshold\n",
    "\n",
    "threshold=0.6\n",
    "kitchentestgl['minority_predictions'] = kitchentestgl.apply(lambda x: weighted_predict_largedist(x,normalized_largestdistances,threshold) )\n",
    "print \"minority_predictions' model Fscore\"\n",
    "print graphlab.evaluation.f1_score(kitchentestgl['label'], kitchentestgl['minority_predictions'])\n",
    "print \"minority_predictions' model Accuracy\"\n",
    "print graphlab.evaluation.accuracy(kitchentestgl['label'], kitchentestgl['minority_predictions'])"
   ]
  },
  {
   "cell_type": "code",
   "execution_count": 147,
   "metadata": {
    "collapsed": false
   },
   "outputs": [
    {
     "name": "stdout",
     "output_type": "stream",
     "text": [
      "minority_predictions' model Fscore\n",
      "0.669344042838\n",
      "minority_predictions' model Accuracy\n",
      "0.506\n"
     ]
    }
   ],
   "source": [
    "#0.7 threshold\n",
    "\n",
    "threshold=0.7\n",
    "kitchentestgl['minority_predictions'] = kitchentestgl.apply(lambda x: weighted_predict_largedist(x,normalized_largestdistances,threshold) )\n",
    "print \"minority_predictions' model Fscore\"\n",
    "print graphlab.evaluation.f1_score(kitchentestgl['label'], kitchentestgl['minority_predictions'])\n",
    "print \"minority_predictions' model Accuracy\"\n",
    "print graphlab.evaluation.accuracy(kitchentestgl['label'], kitchentestgl['minority_predictions'])"
   ]
  },
  {
   "cell_type": "code",
   "execution_count": 148,
   "metadata": {
    "collapsed": false
   },
   "outputs": [
    {
     "name": "stdout",
     "output_type": "stream",
     "text": [
      "minority_predictions' model Fscore\n",
      "0.669344042838\n",
      "minority_predictions' model Accuracy\n",
      "0.506\n"
     ]
    }
   ],
   "source": [
    "#0.8 threshold\n",
    "\n",
    "threshold=0.8\n",
    "kitchentestgl['minority_predictions'] = kitchentestgl.apply(lambda x: weighted_predict_largedist(x,normalized_largestdistances,threshold) )\n",
    "print \"minority_predictions' model Fscore\"\n",
    "print graphlab.evaluation.f1_score(kitchentestgl['label'], kitchentestgl['minority_predictions'])\n",
    "print \"minority_predictions' model Accuracy\"\n",
    "print graphlab.evaluation.accuracy(kitchentestgl['label'], kitchentestgl['minority_predictions'])"
   ]
  },
  {
   "cell_type": "code",
   "execution_count": 149,
   "metadata": {
    "collapsed": false
   },
   "outputs": [
    {
     "name": "stdout",
     "output_type": "stream",
     "text": [
      "minority_predictions' model Fscore\n",
      "0.00399201596806\n",
      "minority_predictions' model Accuracy\n",
      "0.501\n"
     ]
    }
   ],
   "source": [
    "#0.9 threshold\n",
    "\n",
    "threshold=0.9\n",
    "kitchentestgl['minority_predictions'] = kitchentestgl.apply(lambda x: weighted_predict_largedist(x,normalized_largestdistances,threshold) )\n",
    "print \"minority_predictions' model Fscore\"\n",
    "print graphlab.evaluation.f1_score(kitchentestgl['label'], kitchentestgl['minority_predictions'])\n",
    "print \"minority_predictions' model Accuracy\"\n",
    "print graphlab.evaluation.accuracy(kitchentestgl['label'], kitchentestgl['minority_predictions'])"
   ]
  },
  {
   "cell_type": "code",
   "execution_count": 150,
   "metadata": {
    "collapsed": false
   },
   "outputs": [
    {
     "name": "stdout",
     "output_type": "stream",
     "text": [
      "majority_predictions' model Fscore\n",
      "0.860346585117\n",
      "majority_predictions' model Accuracy\n",
      "0.863\n"
     ]
    }
   ],
   "source": [
    "#0.5 threshold\n",
    "threshold=0.5\n",
    "kitchentestgl['majority_predictions'] = kitchentestgl.apply(lambda x: weighted_predict_smalldist(x,normalized_smallestdistances,threshold) )\n",
    "print \"majority_predictions' model Fscore\"\n",
    "print graphlab.evaluation.f1_score(kitchentestgl['label'], kitchentestgl['majority_predictions'])\n",
    "print \"majority_predictions' model Accuracy\"\n",
    "print graphlab.evaluation.accuracy(kitchentestgl['label'], kitchentestgl['majority_predictions'])\n"
   ]
  },
  {
   "cell_type": "code",
   "execution_count": 151,
   "metadata": {
    "collapsed": false
   },
   "outputs": [
    {
     "name": "stdout",
     "output_type": "stream",
     "text": [
      "majority_predictions' model Fscore\n",
      "0.845493562232\n",
      "majority_predictions' model Accuracy\n",
      "0.856\n"
     ]
    }
   ],
   "source": [
    "#0.6 threshold\n",
    "threshold=0.6\n",
    "kitchentestgl['majority_predictions'] = kitchentestgl.apply(lambda x: weighted_predict_smalldist(x,normalized_smallestdistances,threshold) )\n",
    "print \"majority_predictions' model Fscore\"\n",
    "print graphlab.evaluation.f1_score(kitchentestgl['label'], kitchentestgl['majority_predictions'])\n",
    "print \"majority_predictions' model Accuracy\"\n",
    "print graphlab.evaluation.accuracy(kitchentestgl['label'], kitchentestgl['majority_predictions'])\n"
   ]
  },
  {
   "cell_type": "code",
   "execution_count": 152,
   "metadata": {
    "collapsed": false
   },
   "outputs": [
    {
     "name": "stdout",
     "output_type": "stream",
     "text": [
      "majority_predictions' model Fscore\n",
      "0.8\n",
      "majority_predictions' model Accuracy\n",
      "0.827\n"
     ]
    }
   ],
   "source": [
    "#0.7 threshold\n",
    "threshold=0.7\n",
    "kitchentestgl['majority_predictions'] = kitchentestgl.apply(lambda x: weighted_predict_smalldist(x,normalized_smallestdistances,threshold) )\n",
    "print \"majority_predictions' model Fscore\"\n",
    "print graphlab.evaluation.f1_score(kitchentestgl['label'], kitchentestgl['majority_predictions'])\n",
    "print \"majority_predictions' model Accuracy\"\n",
    "print graphlab.evaluation.accuracy(kitchentestgl['label'], kitchentestgl['majority_predictions'])\n"
   ]
  },
  {
   "cell_type": "code",
   "execution_count": 153,
   "metadata": {
    "collapsed": false
   },
   "outputs": [
    {
     "name": "stdout",
     "output_type": "stream",
     "text": [
      "majority_predictions' model Fscore\n",
      "0.797202797203\n",
      "majority_predictions' model Accuracy\n",
      "0.826\n"
     ]
    }
   ],
   "source": [
    "#0.8 threshold\n",
    "threshold=0.8\n",
    "kitchentestgl['majority_predictions'] = kitchentestgl.apply(lambda x: weighted_predict_smalldist(x,normalized_smallestdistances,threshold) )\n",
    "print \"majority_predictions' model Fscore\"\n",
    "print graphlab.evaluation.f1_score(kitchentestgl['label'], kitchentestgl['majority_predictions'])\n",
    "print \"majority_predictions' model Accuracy\"\n",
    "print graphlab.evaluation.accuracy(kitchentestgl['label'], kitchentestgl['majority_predictions'])\n"
   ]
  },
  {
   "cell_type": "code",
   "execution_count": 154,
   "metadata": {
    "collapsed": false
   },
   "outputs": [
    {
     "name": "stdout",
     "output_type": "stream",
     "text": [
      "majority_predictions' model Fscore\n",
      "0.621917808219\n",
      "majority_predictions' model Accuracy\n",
      "0.724\n"
     ]
    }
   ],
   "source": [
    "#0.9 threshold\n",
    "threshold=0.9\n",
    "kitchentestgl['majority_predictions'] = kitchentestgl.apply(lambda x: weighted_predict_smalldist(x,normalized_smallestdistances,threshold) )\n",
    "print \"majority_predictions' model Fscore\"\n",
    "print graphlab.evaluation.f1_score(kitchentestgl['label'], kitchentestgl['majority_predictions'])\n",
    "print \"majority_predictions' model Accuracy\"\n",
    "print graphlab.evaluation.accuracy(kitchentestgl['label'], kitchentestgl['majority_predictions'])\n"
   ]
  },
  {
   "cell_type": "code",
   "execution_count": 155,
   "metadata": {
    "collapsed": false
   },
   "outputs": [
    {
     "name": "stdout",
     "output_type": "stream",
     "text": [
      "majority_predictions' model Fscore\n",
      "0.824129141886\n",
      "majority_predictions' model Accuracy\n",
      "0.793\n"
     ]
    }
   ],
   "source": [
    "#threshold 0.5 using all models\n",
    "threshold=0.5\n",
    "kitchentestgl['majority_minority_predictions'] = kitchentestgl.apply(lambda x: weighted_predict_smalldist_largedistances(x,normalized_smallestdistances,normalized_largestdistances,threshold) )\n",
    "\n",
    "print \"majority_predictions' model Fscore\"\n",
    "print graphlab.evaluation.f1_score(kitchentestgl['label'], kitchentestgl['majority_minority_predictions'])\n",
    "print \"majority_predictions' model Accuracy\"\n",
    "print graphlab.evaluation.accuracy(kitchentestgl['label'], kitchentestgl['majority_minority_predictions'])"
   ]
  },
  {
   "cell_type": "code",
   "execution_count": 156,
   "metadata": {
    "collapsed": false
   },
   "outputs": [
    {
     "name": "stdout",
     "output_type": "stream",
     "text": [
      "majority_predictions' model Fscore\n",
      "0.874400767018\n",
      "majority_predictions' model Accuracy\n",
      "0.869\n"
     ]
    }
   ],
   "source": [
    "#threshold 0.6 using all models\n",
    "threshold=0.6\n",
    "kitchentestgl['majority_minority_predictions'] = kitchentestgl.apply(lambda x: weighted_predict_smalldist_largedistances(x,normalized_smallestdistances,normalized_largestdistances,threshold) )\n",
    "\n",
    "print \"majority_predictions' model Fscore\"\n",
    "print graphlab.evaluation.f1_score(kitchentestgl['label'], kitchentestgl['majority_minority_predictions'])\n",
    "print \"majority_predictions' model Accuracy\"\n",
    "print graphlab.evaluation.accuracy(kitchentestgl['label'], kitchentestgl['majority_minority_predictions'])"
   ]
  },
  {
   "cell_type": "code",
   "execution_count": 157,
   "metadata": {
    "collapsed": false
   },
   "outputs": [
    {
     "name": "stdout",
     "output_type": "stream",
     "text": [
      "majority_predictions' model Fscore\n",
      "0.845493562232\n",
      "majority_predictions' model Accuracy\n",
      "0.856\n"
     ]
    }
   ],
   "source": [
    "#threshold 0.7 using all models\n",
    "threshold=0.7\n",
    "kitchentestgl['majority_minority_predictions'] = kitchentestgl.apply(lambda x: weighted_predict_smalldist_largedistances(x,normalized_smallestdistances,normalized_largestdistances,threshold) )\n",
    "\n",
    "print \"majority_predictions' model Fscore\"\n",
    "print graphlab.evaluation.f1_score(kitchentestgl['label'], kitchentestgl['majority_minority_predictions'])\n",
    "print \"majority_predictions' model Accuracy\"\n",
    "print graphlab.evaluation.accuracy(kitchentestgl['label'], kitchentestgl['majority_minority_predictions'])"
   ]
  },
  {
   "cell_type": "code",
   "execution_count": 158,
   "metadata": {
    "collapsed": false
   },
   "outputs": [
    {
     "name": "stdout",
     "output_type": "stream",
     "text": [
      "majority_predictions' model Fscore\n",
      "0.798603026775\n",
      "majority_predictions' model Accuracy\n",
      "0.827\n"
     ]
    }
   ],
   "source": [
    "#threshold 0.8 using all models\n",
    "threshold=0.8\n",
    "kitchentestgl['majority_minority_predictions'] = kitchentestgl.apply(lambda x: weighted_predict_smalldist_largedistances(x,normalized_smallestdistances,normalized_largestdistances,threshold) )\n",
    "\n",
    "print \"majority_predictions' model Fscore\"\n",
    "print graphlab.evaluation.f1_score(kitchentestgl['label'], kitchentestgl['majority_minority_predictions'])\n",
    "print \"majority_predictions' model Accuracy\"\n",
    "print graphlab.evaluation.accuracy(kitchentestgl['label'], kitchentestgl['majority_minority_predictions'])"
   ]
  },
  {
   "cell_type": "code",
   "execution_count": 159,
   "metadata": {
    "collapsed": false
   },
   "outputs": [
    {
     "name": "stdout",
     "output_type": "stream",
     "text": [
      "majority_predictions' model Fscore\n",
      "0.621917808219\n",
      "majority_predictions' model Accuracy\n",
      "0.724\n"
     ]
    }
   ],
   "source": [
    "#threshold 0.9 using all models\n",
    "threshold=0.9\n",
    "kitchentestgl['majority_minority_predictions'] = kitchentestgl.apply(lambda x: weighted_predict_smalldist_largedistances(x,normalized_smallestdistances,normalized_largestdistances,threshold) )\n",
    "\n",
    "print \"majority_predictions' model Fscore\"\n",
    "print graphlab.evaluation.f1_score(kitchentestgl['label'], kitchentestgl['majority_minority_predictions'])\n",
    "print \"majority_predictions' model Accuracy\"\n",
    "print graphlab.evaluation.accuracy(kitchentestgl['label'], kitchentestgl['majority_minority_predictions'])"
   ]
  },
  {
   "cell_type": "code",
   "execution_count": null,
   "metadata": {
    "collapsed": true
   },
   "outputs": [],
   "source": []
  },
  {
   "cell_type": "code",
   "execution_count": null,
   "metadata": {
    "collapsed": true
   },
   "outputs": [],
   "source": []
  },
  {
   "cell_type": "markdown",
   "metadata": {
    "collapsed": false
   },
   "source": [
    "## Random Dataset 2"
   ]
  },
  {
   "cell_type": "code",
   "execution_count": null,
   "metadata": {
    "collapsed": true
   },
   "outputs": [],
   "source": []
  },
  {
   "cell_type": "code",
   "execution_count": 2,
   "metadata": {
    "collapsed": false
   },
   "outputs": [
    {
     "name": "stdout",
     "output_type": "stream",
     "text": [
      "This non-commercial license of GraphLab Create for academic use is assigned to oaabde01@louisville.edu and will expire on September 24, 2019.\n"
     ]
    },
    {
     "name": "stderr",
     "output_type": "stream",
     "text": [
      "[INFO] graphlab.cython.cy_server: GraphLab Create v2.1 started. Logging: C:\\Users\\Omar\\AppData\\Local\\Temp\\graphlab_server_1537756521.log.0\n"
     ]
    },
    {
     "data": {
      "text/html": [
       "<pre>Finished parsing file C:\\Users\\Omar\\kitchentestgl_random_2.csv</pre>"
      ],
      "text/plain": [
       "Finished parsing file C:\\Users\\Omar\\kitchentestgl_random_2.csv"
      ]
     },
     "metadata": {},
     "output_type": "display_data"
    },
    {
     "data": {
      "text/html": [
       "<pre>Parsing completed. Parsed 100 lines in 0.136922 secs.</pre>"
      ],
      "text/plain": [
       "Parsing completed. Parsed 100 lines in 0.136922 secs."
      ]
     },
     "metadata": {},
     "output_type": "display_data"
    },
    {
     "name": "stdout",
     "output_type": "stream",
     "text": [
      "------------------------------------------------------\n",
      "Inferred types from first 100 line(s) of file as \n",
      "column_type_hints=[str,long,str,str,str,str,str,long,long,long,long,long,long,long,long,long,long,long,long,long]\n",
      "If parsing fails due to incorrect types, you can correct\n",
      "the inferred type list above and pass it to read_csv in\n",
      "the column_type_hints argument\n",
      "------------------------------------------------------\n"
     ]
    },
    {
     "data": {
      "text/html": [
       "<pre>Finished parsing file C:\\Users\\Omar\\kitchentestgl_random_2.csv</pre>"
      ],
      "text/plain": [
       "Finished parsing file C:\\Users\\Omar\\kitchentestgl_random_2.csv"
      ]
     },
     "metadata": {},
     "output_type": "display_data"
    },
    {
     "data": {
      "text/html": [
       "<pre>Parsing completed. Parsed 1000 lines in 0.059968 secs.</pre>"
      ],
      "text/plain": [
       "Parsing completed. Parsed 1000 lines in 0.059968 secs."
      ]
     },
     "metadata": {},
     "output_type": "display_data"
    }
   ],
   "source": [
    "kitchentestgl = graphlab.SFrame('kitchentestgl_random_2.csv')"
   ]
  },
  {
   "cell_type": "code",
   "execution_count": 3,
   "metadata": {
    "collapsed": true
   },
   "outputs": [],
   "source": [
    "domainnames = ['booksgl','electronicsgl','dvdgl','apparelgl','automotivegl','babygl','beautygl','cameraphotogl','computervideo_gamesgl',\n",
    "           'gourmet_foodgl','grocerygl','healthpersonal_caregl','jewelrywatchesgl']\n",
    "from numpy import linalg as LA\n",
    "import numpy as np\n",
    "def euclidean_norm_dict(vec):\n",
    "    vector=[]\n",
    "    #for v in vec:\n",
    "        #vector.append(v)\n",
    "    enorm = LA.norm(vec)\n",
    "    #for i in vec:\n",
    "        #vec[i] = float(vec[i]/enorm)\n",
    "    return vec / enorm\n",
    "def compute_weights(vec):\n",
    "    newvec=[]\n",
    "    for v in vec:\n",
    "        e = (1-v) / v\n",
    "        weight = (1/2) * np.log(e)\n",
    "        newvec.append(weight)\n",
    "    return newvec\n",
    "\n",
    "##largestdistances=[0.743533140113,0.60353417065,0.584761632679,0.572767971981,0.544679039307,0.55875,0.543115351339]\n",
    "##lowestdistances=[0.339159452128,0.457601529338,0.462982751863,0.488780265727,0.491315411726,0.503708849348]\n",
    "##lowestdist_errors =[0.21,0.2125,0.255,0.225,0.20375,0.23]\n",
    "##highestdist_errors =[0.4925,0.4625,0.485,0.45125,0.44125,0.47125]\n",
    "##lowestdist_weights = compute_weights(lowestdist_errors)\n",
    "#############################\n",
    "#euclidean\n",
    "largestdistances=[200.7959162931358,167.20346886353764,101.68579055108928,99.70957827611147,98.82813364624468,98.47842403288143]\n",
    "lowestdistances=[90.46546302318913,92.32009532057471,93.24698386543128,93.50935782048768,95.66085928947116,96.60745312862771]\n",
    "lowestdist_errors =[0.21,0.2125,0.255,0.225,0.20375,0.23]\n",
    "highestdist_errors =[0.4925,0.4625,0.485,0.45125,0.44125,0.47125]\n",
    "lowestdist_weights = compute_weights(lowestdist_errors)\n",
    "\n",
    "##############################\n",
    "highestdist_weights = compute_weights(highestdist_errors)\n",
    "Minor_domains = ['book_predictions','dvd_predictions','automotive_predictions','jewelrywatches_predictions','gourmet_predictions','computervideo_predictions']\n",
    "Major_domains = ['healthpersonal_predictions','baby_predictions','cameraphoto_predictions','apparel_predictions','electronics_predictions','beauty_predictions']\n",
    "###Major_domains = ['electronics_predictions','healthpersonal_predictions','baby_predictions']\n",
    "###lowestdistances=[113.12824580978881,116.66619047521866,119.10499569707393]\n",
    "###Minor_domains = ['book_predictions','dvd_predictions','automotive_predictions']\n",
    "###largestdistances=[216.13190416965284,195.2255106280939,132.53678734600442]\n",
    "normalized_largestdistances = euclidean_norm_dict(largestdistances)\n",
    "normalized_smallestdistances = euclidean_norm_dict(lowestdistances)"
   ]
  },
  {
   "cell_type": "code",
   "execution_count": 3,
   "metadata": {
    "collapsed": true
   },
   "outputs": [],
   "source": [
    "#largestdistances\n",
    "#Minor_domains\n",
    "\n",
    "def weighted_predict_largedist(sframe,normalized_largestdistances,threshold):\n",
    "    weighted_pos_predictions=0\n",
    "    weighted_neg_predictions=0\n",
    "    for i in range(len(Minor_domains)):\n",
    "        weighted_pos_predictions+=normalized_largestdistances[i]*sframe[Minor_domains[i]]\n",
    "        weighted_neg_predictions+= normalized_largestdistances[i]*sframe[Minor_domains[i]]\n",
    "    weighted_neg_predictions = weighted_neg_predictions*-1\n",
    "    totalweight=sum(normalized_largestdistances)\n",
    "    if weighted_pos_predictions>(totalweight*threshold): #weighted_neg_predictions<weighted_pos_predictions:\n",
    "        return 1\n",
    "    else:\n",
    "        return 0\n",
    "    #Major_domains\n",
    "\n",
    "def weighted_predict_smalldist(sframe,normalized_smallestdistances,threshold):\n",
    "    weighted_pos_predictions=0\n",
    "    weighted_neg_predictions=0\n",
    "    for i in range(len(Major_domains)):\n",
    "        weighted_pos_predictions+=normalized_smallestdistances[i]*sframe[Major_domains[i]]\n",
    "        weighted_neg_predictions+= normalized_smallestdistances[i]*sframe[Major_domains[i]]\n",
    "    weighted_neg_predictions = weighted_neg_predictions*-1\n",
    "    totalweight=sum(normalized_smallestdistances)\n",
    "    if weighted_pos_predictions>(totalweight*threshold): #weighted_neg_predictions<weighted_pos_predictions:\n",
    "        return 1\n",
    "    else:\n",
    "        return 0\n",
    "    \n",
    "def weighted_predict_smalldist_largedistances(sframe,normalized_smallestdistances,normalized_largestdistances,threshold):\n",
    "    weighted_pos_predictions=0\n",
    "    weighted_neg_predictions=0\n",
    "    for i in range(len(Major_domains)):\n",
    "        weighted_pos_predictions+=normalized_smallestdistances[i]*sframe[Major_domains[i]]\n",
    "        weighted_neg_predictions+= normalized_smallestdistances[i]*sframe[Major_domains[i]]\n",
    "    for i in range(len(Minor_domains)):\n",
    "        weighted_pos_predictions+=normalized_largestdistances[i]*sframe[Minor_domains[i]]\n",
    "        weighted_neg_predictions+= normalized_largestdistances[i]*sframe[Minor_domains[i]]\n",
    "    weight1=sum(normalized_smallestdistances)\n",
    "    weight2=sum(normalized_largestdistances)\n",
    "    totalweight = weight1 + weight2\n",
    "    if weighted_pos_predictions>(totalweight*threshold): #weighted_neg_predictions<weighted_pos_predictions:\n",
    "        return 1\n",
    "    else:\n",
    "        return 0"
   ]
  },
  {
   "cell_type": "code",
   "execution_count": 13,
   "metadata": {
    "collapsed": false
   },
   "outputs": [
    {
     "data": {
      "text/html": [
       "<pre>Finished parsing file C:\\Users\\Omar\\kitchentestgl_random_2.csv</pre>"
      ],
      "text/plain": [
       "Finished parsing file C:\\Users\\Omar\\kitchentestgl_random_2.csv"
      ]
     },
     "metadata": {},
     "output_type": "display_data"
    },
    {
     "data": {
      "text/html": [
       "<pre>Parsing completed. Parsed 100 lines in 0.111364 secs.</pre>"
      ],
      "text/plain": [
       "Parsing completed. Parsed 100 lines in 0.111364 secs."
      ]
     },
     "metadata": {},
     "output_type": "display_data"
    },
    {
     "name": "stdout",
     "output_type": "stream",
     "text": [
      "------------------------------------------------------\n",
      "Inferred types from first 100 line(s) of file as \n",
      "column_type_hints=[str,long,str,str,str,str,str,long,long,long,long,long,long,long,long,long,long,long,long,long]\n",
      "If parsing fails due to incorrect types, you can correct\n",
      "the inferred type list above and pass it to read_csv in\n",
      "the column_type_hints argument\n",
      "------------------------------------------------------\n"
     ]
    },
    {
     "data": {
      "text/html": [
       "<pre>Finished parsing file C:\\Users\\Omar\\kitchentestgl_random_2.csv</pre>"
      ],
      "text/plain": [
       "Finished parsing file C:\\Users\\Omar\\kitchentestgl_random_2.csv"
      ]
     },
     "metadata": {},
     "output_type": "display_data"
    },
    {
     "data": {
      "text/html": [
       "<pre>Parsing completed. Parsed 1000 lines in 0.071959 secs.</pre>"
      ],
      "text/plain": [
       "Parsing completed. Parsed 1000 lines in 0.071959 secs."
      ]
     },
     "metadata": {},
     "output_type": "display_data"
    },
    {
     "name": "stdout",
     "output_type": "stream",
     "text": [
      "results for random dataset 2\n",
      "euclidean distance results for the minority classifiers of random dataset 2\n",
      "minority_predictions' model Fscore when using a threshold of 0.5\n",
      "0.74749498998\n",
      "minority_predictions' model Accuracy when using a threshold of 0.5\n",
      "0.748\n",
      "minority_predictions' model Fscore when using a threshold of 0.6\n",
      "0.74749498998\n",
      "minority_predictions' model Accuracy when using a threshold of 0.6\n",
      "0.748\n",
      "minority_predictions' model Fscore when using a threshold of 0.7\n",
      "0.497142857143\n",
      "minority_predictions' model Accuracy when using a threshold of 0.7\n",
      "0.648\n",
      "minority_predictions' model Fscore when using a threshold of 0.8\n",
      "0.494992846924\n",
      "minority_predictions' model Accuracy when using a threshold of 0.8\n",
      "0.647\n",
      "minority_predictions' model Fscore when using a threshold of 0.9\n",
      "0.0\n",
      "minority_predictions' model Accuracy when using a threshold of 0.9\n",
      "0.5\n",
      "euclidean distance results for the Majority classifiers of random dataset 2\n",
      "majority_predictions' model Fscore when using a threshold of 0.5\n",
      "0.873477038425\n",
      "majority_predictions' model Accuracy when using a threshold of 0.5\n",
      "0.865\n",
      "majority_predictions' model Fscore when using a threshold of 0.6\n",
      "0.889332003988\n",
      "majority_predictions' model Accuracy when using a threshold of 0.6\n",
      "0.889\n",
      "majority_predictions' model Fscore when using a threshold of 0.7\n",
      "0.848017621145\n",
      "majority_predictions' model Accuracy when using a threshold of 0.7\n",
      "0.862\n",
      "majority_predictions' model Fscore when using a threshold of 0.8\n",
      "0.848017621145\n",
      "majority_predictions' model Accuracy when using a threshold of 0.8\n",
      "0.862\n",
      "majority_predictions' model Fscore when using a threshold of 0.9\n",
      "0.692406692407\n",
      "majority_predictions' model Accuracy when using a threshold of 0.9\n",
      "0.761\n",
      "euclidean distance results for the Majority-Minority classifiers of random dataset 2\n",
      "majority_minority_predictions' model Fscore when using a threshold of 0.5\n",
      "0.881132075472\n",
      "majority_minority_predictions' model Accuracy when using a threshold of 0.5\n",
      "0.874\n",
      "majority_minority_predictions' model Fscore when using a threshold of 0.6\n",
      "0.871101871102\n",
      "majority_minority_predictions' model Accuracy when using a threshold of 0.6\n",
      "0.876\n",
      "majority_minority_predictions' model Fscore when using a threshold of 0.7\n",
      "0.814058956916\n",
      "majority_minority_predictions' model Accuracy when using a threshold of 0.7\n",
      "0.836\n",
      "majority_minority_predictions' model Fscore when using a threshold of 0.8\n",
      "0.705882352941\n",
      "majority_minority_predictions' model Accuracy when using a threshold of 0.8\n",
      "0.77\n",
      "majority_minority_predictions' model Fscore when using a threshold of 0.9\n",
      "0.37925445705\n",
      "majority_minority_predictions' model Accuracy when using a threshold of 0.9\n",
      "0.617\n",
      "Cosine distance results for the minority classifiers of random dataset 2\n",
      "minority_predictions' model Fscore when using a threshold of 0.5\n",
      "0.667111407605\n",
      "minority_predictions' model Accuracy when using a threshold of 0.5\n",
      "0.501\n",
      "minority_predictions' model Fscore when using a threshold of 0.6\n",
      "0.667111407605\n",
      "minority_predictions' model Accuracy when using a threshold of 0.6\n",
      "0.501\n",
      "minority_predictions' model Fscore when using a threshold of 0.7\n",
      "0.669792364367\n",
      "minority_predictions' model Accuracy when using a threshold of 0.7\n",
      "0.507\n",
      "minority_predictions' model Fscore when using a threshold of 0.8\n",
      "0.00399201596806\n",
      "minority_predictions' model Accuracy when using a threshold of 0.8\n",
      "0.501\n",
      "minority_predictions' model Fscore when using a threshold of 0.9\n",
      "0.00399201596806\n",
      "minority_predictions' model Accuracy when using a threshold of 0.9\n",
      "0.501\n",
      "Cosine distance results for the Majority classifiers of random dataset 2\n",
      "majority_predictions' model Fscore when using a threshold of 0.5\n",
      "0.870090634441\n",
      "majority_predictions' model Accuracy when using a threshold of 0.5\n",
      "0.871\n",
      "majority_predictions' model Fscore when using a threshold of 0.6\n",
      "0.861375661376\n",
      "majority_predictions' model Accuracy when using a threshold of 0.6\n",
      "0.869\n",
      "majority_predictions' model Fscore when using a threshold of 0.7\n",
      "0.796274738068\n",
      "majority_predictions' model Accuracy when using a threshold of 0.7\n",
      "0.825\n",
      "majority_predictions' model Fscore when using a threshold of 0.8\n",
      "0.796274738068\n",
      "majority_predictions' model Accuracy when using a threshold of 0.8\n",
      "0.825\n",
      "majority_predictions' model Fscore when using a threshold of 0.9\n",
      "0.597765363128\n",
      "majority_predictions' model Accuracy when using a threshold of 0.9\n",
      "0.712\n",
      "Cosine distance results for the Majority-Minority classifiers of random dataset 2\n",
      "majority_minority_predictions' model Fscore when using a threshold of 0.5\n",
      "0.857908847185\n",
      "majority_minority_predictions' model Accuracy when using a threshold of 0.5\n",
      "0.841\n",
      "majority_minority_predictions' model Fscore when using a threshold of 0.6\n",
      "0.889103182257\n",
      "majority_minority_predictions' model Accuracy when using a threshold of 0.6\n",
      "0.885\n",
      "majority_minority_predictions' model Fscore when using a threshold of 0.7\n",
      "0.856531049251\n",
      "majority_minority_predictions' model Accuracy when using a threshold of 0.7\n",
      "0.866\n",
      "majority_minority_predictions' model Fscore when using a threshold of 0.8\n",
      "0.599721059972\n",
      "majority_minority_predictions' model Accuracy when using a threshold of 0.8\n",
      "0.713\n",
      "majority_minority_predictions' model Fscore when using a threshold of 0.9\n",
      "0.0\n",
      "majority_minority_predictions' model Accuracy when using a threshold of 0.9\n",
      "0.5\n",
      "data set 1 was tested!\n"
     ]
    },
    {
     "data": {
      "text/html": [
       "<pre>Finished parsing file C:\\Users\\Omar\\kitchentestgl_random_3.csv</pre>"
      ],
      "text/plain": [
       "Finished parsing file C:\\Users\\Omar\\kitchentestgl_random_3.csv"
      ]
     },
     "metadata": {},
     "output_type": "display_data"
    },
    {
     "data": {
      "text/html": [
       "<pre>Parsing completed. Parsed 100 lines in 0.151913 secs.</pre>"
      ],
      "text/plain": [
       "Parsing completed. Parsed 100 lines in 0.151913 secs."
      ]
     },
     "metadata": {},
     "output_type": "display_data"
    },
    {
     "name": "stdout",
     "output_type": "stream",
     "text": [
      "------------------------------------------------------\n",
      "Inferred types from first 100 line(s) of file as \n",
      "column_type_hints=[str,long,str,str,str,str,str,long,long,long,long,long,long,long,long,long,long,long,long,long]\n",
      "If parsing fails due to incorrect types, you can correct\n",
      "the inferred type list above and pass it to read_csv in\n",
      "the column_type_hints argument\n",
      "------------------------------------------------------\n"
     ]
    },
    {
     "data": {
      "text/html": [
       "<pre>Finished parsing file C:\\Users\\Omar\\kitchentestgl_random_3.csv</pre>"
      ],
      "text/plain": [
       "Finished parsing file C:\\Users\\Omar\\kitchentestgl_random_3.csv"
      ]
     },
     "metadata": {},
     "output_type": "display_data"
    },
    {
     "data": {
      "text/html": [
       "<pre>Parsing completed. Parsed 1000 lines in 0.059966 secs.</pre>"
      ],
      "text/plain": [
       "Parsing completed. Parsed 1000 lines in 0.059966 secs."
      ]
     },
     "metadata": {},
     "output_type": "display_data"
    },
    {
     "name": "stdout",
     "output_type": "stream",
     "text": [
      "results for random dataset 3\n",
      "euclidean distance results for the minority classifiers of random dataset 3\n",
      "minority_predictions' model Fscore when using a threshold of 0.5\n",
      "0.750996015936\n",
      "minority_predictions' model Accuracy when using a threshold of 0.5\n",
      "0.75\n",
      "minority_predictions' model Fscore when using a threshold of 0.6\n",
      "0.751744765703\n",
      "minority_predictions' model Accuracy when using a threshold of 0.6\n",
      "0.751\n",
      "minority_predictions' model Fscore when using a threshold of 0.7\n",
      "0.486171761281\n",
      "minority_predictions' model Accuracy when using a threshold of 0.7\n",
      "0.647\n",
      "minority_predictions' model Fscore when using a threshold of 0.8\n",
      "0.486171761281\n",
      "minority_predictions' model Accuracy when using a threshold of 0.8\n",
      "0.647\n",
      "minority_predictions' model Fscore when using a threshold of 0.9\n",
      "0.0\n",
      "minority_predictions' model Accuracy when using a threshold of 0.9\n",
      "0.5\n",
      "euclidean distance results for the Majority classifiers of random dataset 3\n",
      "majority_predictions' model Fscore when using a threshold of 0.5\n",
      "0.86267281106\n",
      "majority_predictions' model Accuracy when using a threshold of 0.5\n",
      "0.851\n",
      "majority_predictions' model Fscore when using a threshold of 0.6\n",
      "0.873767258383\n",
      "majority_predictions' model Accuracy when using a threshold of 0.6\n",
      "0.872\n",
      "majority_predictions' model Fscore when using a threshold of 0.7\n",
      "0.830769230769\n",
      "majority_predictions' model Accuracy when using a threshold of 0.7\n",
      "0.846\n",
      "majority_predictions' model Fscore when using a threshold of 0.8\n",
      "0.830769230769\n",
      "majority_predictions' model Accuracy when using a threshold of 0.8\n",
      "0.846\n",
      "majority_predictions' model Fscore when using a threshold of 0.9\n",
      "0.696542893726\n",
      "majority_predictions' model Accuracy when using a threshold of 0.9\n",
      "0.763\n",
      "euclidean distance results for the Majority-Minority classifiers of random dataset 3\n",
      "majority_minority_predictions' model Fscore when using a threshold of 0.5\n",
      "0.876865671642\n",
      "majority_minority_predictions' model Accuracy when using a threshold of 0.5\n",
      "0.868\n",
      "majority_minority_predictions' model Fscore when using a threshold of 0.6\n",
      "0.862422997947\n",
      "majority_minority_predictions' model Accuracy when using a threshold of 0.6\n",
      "0.866\n",
      "majority_minority_predictions' model Fscore when using a threshold of 0.7\n",
      "0.811363636364\n",
      "majority_minority_predictions' model Accuracy when using a threshold of 0.7\n",
      "0.834\n",
      "majority_minority_predictions' model Fscore when using a threshold of 0.8\n",
      "0.683937823834\n",
      "majority_minority_predictions' model Accuracy when using a threshold of 0.8\n",
      "0.756\n",
      "majority_minority_predictions' model Fscore when using a threshold of 0.9\n",
      "0.383252818035\n",
      "majority_minority_predictions' model Accuracy when using a threshold of 0.9\n",
      "0.617\n",
      "Cosine distance results for the minority classifiers of random dataset 3\n",
      "minority_predictions' model Fscore when using a threshold of 0.5\n",
      "0.667111407605\n",
      "minority_predictions' model Accuracy when using a threshold of 0.5\n",
      "0.501\n",
      "minority_predictions' model Fscore when using a threshold of 0.6\n",
      "0.667556742323\n",
      "minority_predictions' model Accuracy when using a threshold of 0.6\n",
      "0.502\n",
      "minority_predictions' model Fscore when using a threshold of 0.7\n",
      "0.668456375839\n",
      "minority_predictions' model Accuracy when using a threshold of 0.7\n",
      "0.506\n",
      "minority_predictions' model Fscore when using a threshold of 0.8\n",
      "0.0\n",
      "minority_predictions' model Accuracy when using a threshold of 0.8\n",
      "0.5\n",
      "minority_predictions' model Fscore when using a threshold of 0.9\n",
      "0.0\n",
      "minority_predictions' model Accuracy when using a threshold of 0.9\n",
      "0.5\n",
      "Cosine distance results for the Majority classifiers of random dataset 3\n",
      "majority_predictions' model Fscore when using a threshold of 0.5\n",
      "0.86739780658\n",
      "majority_predictions' model Accuracy when using a threshold of 0.5\n",
      "0.867\n",
      "majority_predictions' model Fscore when using a threshold of 0.6\n",
      "0.851735015773\n",
      "majority_predictions' model Accuracy when using a threshold of 0.6\n",
      "0.859\n",
      "majority_predictions' model Fscore when using a threshold of 0.7\n",
      "0.785046728972\n",
      "majority_predictions' model Accuracy when using a threshold of 0.7\n",
      "0.816\n",
      "majority_predictions' model Fscore when using a threshold of 0.8\n",
      "0.785046728972\n",
      "majority_predictions' model Accuracy when using a threshold of 0.8\n",
      "0.816\n",
      "majority_predictions' model Fscore when using a threshold of 0.9\n",
      "0.608815426997\n",
      "majority_predictions' model Accuracy when using a threshold of 0.9\n",
      "0.716\n",
      "Cosine distance results for the Majority-Minority classifiers of random dataset 3\n",
      "majority_minority_predictions' model Fscore when using a threshold of 0.5\n",
      "0.845542806708\n",
      "majority_minority_predictions' model Accuracy when using a threshold of 0.5\n",
      "0.825\n",
      "majority_minority_predictions' model Fscore when using a threshold of 0.6\n",
      "0.877394636015\n",
      "majority_minority_predictions' model Accuracy when using a threshold of 0.6\n",
      "0.872\n",
      "majority_minority_predictions' model Fscore when using a threshold of 0.7\n",
      "0.843783209352\n",
      "majority_minority_predictions' model Accuracy when using a threshold of 0.7\n",
      "0.853\n",
      "majority_minority_predictions' model Fscore when using a threshold of 0.8\n",
      "0.608815426997\n",
      "majority_minority_predictions' model Accuracy when using a threshold of 0.8\n",
      "0.716\n",
      "majority_minority_predictions' model Fscore when using a threshold of 0.9\n",
      "0.0\n",
      "majority_minority_predictions' model Accuracy when using a threshold of 0.9\n",
      "0.5\n",
      "data set 2 was tested!\n"
     ]
    },
    {
     "data": {
      "text/html": [
       "<pre>Finished parsing file C:\\Users\\Omar\\kitchentestgl_random_4.csv</pre>"
      ],
      "text/plain": [
       "Finished parsing file C:\\Users\\Omar\\kitchentestgl_random_4.csv"
      ]
     },
     "metadata": {},
     "output_type": "display_data"
    },
    {
     "data": {
      "text/html": [
       "<pre>Parsing completed. Parsed 100 lines in 0.127925 secs.</pre>"
      ],
      "text/plain": [
       "Parsing completed. Parsed 100 lines in 0.127925 secs."
      ]
     },
     "metadata": {},
     "output_type": "display_data"
    },
    {
     "name": "stdout",
     "output_type": "stream",
     "text": [
      "------------------------------------------------------\n",
      "Inferred types from first 100 line(s) of file as \n",
      "column_type_hints=[str,long,str,str,str,str,str,long,long,long,long,long,long,long,long,long,long,long,long,long]\n",
      "If parsing fails due to incorrect types, you can correct\n",
      "the inferred type list above and pass it to read_csv in\n",
      "the column_type_hints argument\n",
      "------------------------------------------------------\n"
     ]
    },
    {
     "data": {
      "text/html": [
       "<pre>Finished parsing file C:\\Users\\Omar\\kitchentestgl_random_4.csv</pre>"
      ],
      "text/plain": [
       "Finished parsing file C:\\Users\\Omar\\kitchentestgl_random_4.csv"
      ]
     },
     "metadata": {},
     "output_type": "display_data"
    },
    {
     "data": {
      "text/html": [
       "<pre>Parsing completed. Parsed 1000 lines in 0.055953 secs.</pre>"
      ],
      "text/plain": [
       "Parsing completed. Parsed 1000 lines in 0.055953 secs."
      ]
     },
     "metadata": {},
     "output_type": "display_data"
    },
    {
     "name": "stdout",
     "output_type": "stream",
     "text": [
      "results for random dataset 4\n",
      "euclidean distance results for the minority classifiers of random dataset 4\n",
      "minority_predictions' model Fscore when using a threshold of 0.5\n",
      "0.757338551859\n",
      "minority_predictions' model Accuracy when using a threshold of 0.5\n",
      "0.752\n",
      "minority_predictions' model Fscore when using a threshold of 0.6\n",
      "0.757338551859\n",
      "minority_predictions' model Accuracy when using a threshold of 0.6\n",
      "0.752\n",
      "minority_predictions' model Fscore when using a threshold of 0.7\n",
      "0.507082152975\n",
      "minority_predictions' model Accuracy when using a threshold of 0.7\n",
      "0.652\n",
      "minority_predictions' model Fscore when using a threshold of 0.8\n",
      "0.504964539007\n",
      "minority_predictions' model Accuracy when using a threshold of 0.8\n",
      "0.651\n",
      "minority_predictions' model Fscore when using a threshold of 0.9\n",
      "0.0\n",
      "minority_predictions' model Accuracy when using a threshold of 0.9\n",
      "0.5\n",
      "euclidean distance results for the Majority classifiers of random dataset 4\n",
      "majority_predictions' model Fscore when using a threshold of 0.5\n",
      "0.860829493088\n",
      "majority_predictions' model Accuracy when using a threshold of 0.5\n",
      "0.849\n",
      "majority_predictions' model Fscore when using a threshold of 0.6\n",
      "0.882352941176\n",
      "majority_predictions' model Accuracy when using a threshold of 0.6\n",
      "0.88\n",
      "majority_predictions' model Fscore when using a threshold of 0.7\n",
      "0.843715846995\n",
      "majority_predictions' model Accuracy when using a threshold of 0.7\n",
      "0.857\n",
      "majority_predictions' model Fscore when using a threshold of 0.8\n",
      "0.843715846995\n",
      "majority_predictions' model Accuracy when using a threshold of 0.8\n",
      "0.857\n",
      "majority_predictions' model Fscore when using a threshold of 0.9\n",
      "0.696542893726\n",
      "majority_predictions' model Accuracy when using a threshold of 0.9\n",
      "0.763\n",
      "euclidean distance results for the Majority-Minority classifiers of random dataset 4\n",
      "majority_minority_predictions' model Fscore when using a threshold of 0.5\n",
      "0.864564007421\n",
      "majority_minority_predictions' model Accuracy when using a threshold of 0.5\n",
      "0.854\n",
      "majority_minority_predictions' model Fscore when using a threshold of 0.6\n",
      "0.870275791624\n",
      "majority_minority_predictions' model Accuracy when using a threshold of 0.6\n",
      "0.873\n",
      "majority_minority_predictions' model Fscore when using a threshold of 0.7\n",
      "0.82774049217\n",
      "majority_minority_predictions' model Accuracy when using a threshold of 0.7\n",
      "0.846\n",
      "majority_minority_predictions' model Fscore when using a threshold of 0.8\n",
      "0.703324808184\n",
      "majority_minority_predictions' model Accuracy when using a threshold of 0.8\n",
      "0.768\n",
      "majority_minority_predictions' model Fscore when using a threshold of 0.9\n",
      "0.394230769231\n",
      "majority_minority_predictions' model Accuracy when using a threshold of 0.9\n",
      "0.622\n",
      "Cosine distance results for the minority classifiers of random dataset 4\n",
      "minority_predictions' model Fscore when using a threshold of 0.5\n",
      "0.667111407605\n",
      "minority_predictions' model Accuracy when using a threshold of 0.5\n",
      "0.501\n",
      "minority_predictions' model Fscore when using a threshold of 0.6\n",
      "0.667111407605\n",
      "minority_predictions' model Accuracy when using a threshold of 0.6\n",
      "0.501\n",
      "minority_predictions' model Fscore when using a threshold of 0.7\n",
      "0.668452779638\n",
      "minority_predictions' model Accuracy when using a threshold of 0.7\n",
      "0.505\n",
      "minority_predictions' model Fscore when using a threshold of 0.8\n",
      "0.00399201596806\n",
      "minority_predictions' model Accuracy when using a threshold of 0.8\n",
      "0.501\n",
      "minority_predictions' model Fscore when using a threshold of 0.9\n",
      "0.00399201596806\n",
      "minority_predictions' model Accuracy when using a threshold of 0.9\n",
      "0.501\n",
      "Cosine distance results for the Majority classifiers of random dataset 4\n",
      "majority_predictions' model Fscore when using a threshold of 0.5\n",
      "0.861691542289\n",
      "majority_predictions' model Accuracy when using a threshold of 0.5\n",
      "0.861\n",
      "majority_predictions' model Fscore when using a threshold of 0.6\n",
      "0.864016736402\n",
      "majority_predictions' model Accuracy when using a threshold of 0.6\n",
      "0.87\n",
      "majority_predictions' model Fscore when using a threshold of 0.7\n",
      "0.808755760369\n",
      "majority_predictions' model Accuracy when using a threshold of 0.7\n",
      "0.834\n",
      "majority_predictions' model Fscore when using a threshold of 0.8\n",
      "0.808755760369\n",
      "majority_predictions' model Accuracy when using a threshold of 0.8\n",
      "0.834\n",
      "majority_predictions' model Fscore when using a threshold of 0.9\n",
      "0.611570247934\n",
      "majority_predictions' model Accuracy when using a threshold of 0.9\n",
      "0.718\n",
      "Cosine distance results for the Majority-Minority classifiers of random dataset 4\n",
      "majority_minority_predictions' model Fscore when using a threshold of 0.5\n",
      "0.840630472855\n",
      "majority_minority_predictions' model Accuracy when using a threshold of 0.5\n",
      "0.818\n",
      "majority_minority_predictions' model Fscore when using a threshold of 0.6\n",
      "0.873694207028\n",
      "majority_minority_predictions' model Accuracy when using a threshold of 0.6\n",
      "0.867\n",
      "majority_minority_predictions' model Fscore when using a threshold of 0.7\n",
      "0.853813559322\n",
      "majority_minority_predictions' model Accuracy when using a threshold of 0.7\n",
      "0.862\n",
      "majority_minority_predictions' model Fscore when using a threshold of 0.8\n",
      "0.613480055021\n",
      "majority_minority_predictions' model Accuracy when using a threshold of 0.8\n",
      "0.719\n",
      "majority_minority_predictions' model Fscore when using a threshold of 0.9\n",
      "0.0\n",
      "majority_minority_predictions' model Accuracy when using a threshold of 0.9\n",
      "0.5\n",
      "data set 3 was tested!\n"
     ]
    },
    {
     "data": {
      "text/html": [
       "<pre>Finished parsing file C:\\Users\\Omar\\kitchentestgl_random_5.csv</pre>"
      ],
      "text/plain": [
       "Finished parsing file C:\\Users\\Omar\\kitchentestgl_random_5.csv"
      ]
     },
     "metadata": {},
     "output_type": "display_data"
    },
    {
     "data": {
      "text/html": [
       "<pre>Parsing completed. Parsed 100 lines in 0.110936 secs.</pre>"
      ],
      "text/plain": [
       "Parsing completed. Parsed 100 lines in 0.110936 secs."
      ]
     },
     "metadata": {},
     "output_type": "display_data"
    },
    {
     "name": "stdout",
     "output_type": "stream",
     "text": [
      "------------------------------------------------------\n",
      "Inferred types from first 100 line(s) of file as \n",
      "column_type_hints=[str,long,str,str,str,str,str,long,long,long,long,long,long,long,long,long,long,long,long,long]\n",
      "If parsing fails due to incorrect types, you can correct\n",
      "the inferred type list above and pass it to read_csv in\n",
      "the column_type_hints argument\n",
      "------------------------------------------------------\n"
     ]
    },
    {
     "data": {
      "text/html": [
       "<pre>Finished parsing file C:\\Users\\Omar\\kitchentestgl_random_5.csv</pre>"
      ],
      "text/plain": [
       "Finished parsing file C:\\Users\\Omar\\kitchentestgl_random_5.csv"
      ]
     },
     "metadata": {},
     "output_type": "display_data"
    },
    {
     "data": {
      "text/html": [
       "<pre>Parsing completed. Parsed 1000 lines in 0.072957 secs.</pre>"
      ],
      "text/plain": [
       "Parsing completed. Parsed 1000 lines in 0.072957 secs."
      ]
     },
     "metadata": {},
     "output_type": "display_data"
    },
    {
     "name": "stdout",
     "output_type": "stream",
     "text": [
      "results for random dataset 5\n",
      "euclidean distance results for the minority classifiers of random dataset 5\n",
      "minority_predictions' model Fscore when using a threshold of 0.5\n",
      "0.74733785092\n",
      "minority_predictions' model Accuracy when using a threshold of 0.5\n",
      "0.739\n",
      "minority_predictions' model Fscore when using a threshold of 0.6\n",
      "0.74733785092\n",
      "minority_predictions' model Accuracy when using a threshold of 0.6\n",
      "0.739\n",
      "minority_predictions' model Fscore when using a threshold of 0.7\n",
      "0.515492957746\n",
      "minority_predictions' model Accuracy when using a threshold of 0.7\n",
      "0.656\n",
      "minority_predictions' model Fscore when using a threshold of 0.8\n",
      "0.515492957746\n",
      "minority_predictions' model Accuracy when using a threshold of 0.8\n",
      "0.656\n",
      "minority_predictions' model Fscore when using a threshold of 0.9\n",
      "0.0\n",
      "minority_predictions' model Accuracy when using a threshold of 0.9\n",
      "0.5\n",
      "euclidean distance results for the Majority classifiers of random dataset 5\n",
      "majority_predictions' model Fscore when using a threshold of 0.5\n",
      "0.858986175115\n",
      "majority_predictions' model Accuracy when using a threshold of 0.5\n",
      "0.847\n",
      "majority_predictions' model Fscore when using a threshold of 0.6\n",
      "0.875984251969\n",
      "majority_predictions' model Accuracy when using a threshold of 0.6\n",
      "0.874\n",
      "majority_predictions' model Fscore when using a threshold of 0.7\n",
      "0.848017621145\n",
      "majority_predictions' model Accuracy when using a threshold of 0.7\n",
      "0.862\n",
      "majority_predictions' model Fscore when using a threshold of 0.8\n",
      "0.848017621145\n",
      "majority_predictions' model Accuracy when using a threshold of 0.8\n",
      "0.862\n",
      "majority_predictions' model Fscore when using a threshold of 0.9\n",
      "0.715736040609\n",
      "majority_predictions' model Accuracy when using a threshold of 0.9\n",
      "0.776\n",
      "euclidean distance results for the Majority-Minority classifiers of random dataset 5\n",
      "majority_minority_predictions' model Fscore when using a threshold of 0.5\n",
      "0.870937790158\n",
      "majority_minority_predictions' model Accuracy when using a threshold of 0.5\n",
      "0.861\n",
      "majority_minority_predictions' model Fscore when using a threshold of 0.6\n",
      "0.865641025641\n",
      "majority_minority_predictions' model Accuracy when using a threshold of 0.6\n",
      "0.869\n",
      "majority_minority_predictions' model Fscore when using a threshold of 0.7\n",
      "0.831460674157\n",
      "majority_minority_predictions' model Accuracy when using a threshold of 0.7\n",
      "0.85\n",
      "majority_minority_predictions' model Fscore when using a threshold of 0.8\n",
      "0.711562897078\n",
      "majority_minority_predictions' model Accuracy when using a threshold of 0.8\n",
      "0.773\n",
      "majority_minority_predictions' model Fscore when using a threshold of 0.9\n",
      "0.406349206349\n",
      "majority_minority_predictions' model Accuracy when using a threshold of 0.9\n",
      "0.626\n",
      "Cosine distance results for the minority classifiers of random dataset 5\n",
      "minority_predictions' model Fscore when using a threshold of 0.5\n",
      "0.666666666667\n",
      "minority_predictions' model Accuracy when using a threshold of 0.5\n",
      "0.5\n",
      "minority_predictions' model Fscore when using a threshold of 0.6\n",
      "0.666666666667\n",
      "minority_predictions' model Accuracy when using a threshold of 0.6\n",
      "0.5\n",
      "minority_predictions' model Fscore when using a threshold of 0.7\n",
      "0.666220735786\n",
      "minority_predictions' model Accuracy when using a threshold of 0.7\n",
      "0.501\n",
      "minority_predictions' model Fscore when using a threshold of 0.8\n",
      "0.0\n",
      "minority_predictions' model Accuracy when using a threshold of 0.8\n",
      "0.5\n",
      "minority_predictions' model Fscore when using a threshold of 0.9\n",
      "0.0\n",
      "minority_predictions' model Accuracy when using a threshold of 0.9\n",
      "0.5\n",
      "Cosine distance results for the Majority classifiers of random dataset 5\n",
      "majority_predictions' model Fscore when using a threshold of 0.5\n",
      "0.871743486974\n",
      "majority_predictions' model Accuracy when using a threshold of 0.5\n",
      "0.872\n",
      "majority_predictions' model Fscore when using a threshold of 0.6\n",
      "0.859259259259\n",
      "majority_predictions' model Accuracy when using a threshold of 0.6\n",
      "0.867\n",
      "majority_predictions' model Fscore when using a threshold of 0.7\n",
      "0.819747416762\n",
      "majority_predictions' model Accuracy when using a threshold of 0.7\n",
      "0.843\n",
      "majority_predictions' model Fscore when using a threshold of 0.8\n",
      "0.819747416762\n",
      "majority_predictions' model Accuracy when using a threshold of 0.8\n",
      "0.843\n",
      "majority_predictions' model Fscore when using a threshold of 0.9\n",
      "0.613480055021\n",
      "majority_predictions' model Accuracy when using a threshold of 0.9\n",
      "0.719\n",
      "Cosine distance results for the Majority-Minority classifiers of random dataset 5\n",
      "majority_minority_predictions' model Fscore when using a threshold of 0.5\n",
      "0.840989399293\n",
      "majority_minority_predictions' model Accuracy when using a threshold of 0.5\n",
      "0.82\n",
      "majority_minority_predictions' model Fscore when using a threshold of 0.6\n",
      "0.879541108987\n",
      "majority_minority_predictions' model Accuracy when using a threshold of 0.6\n",
      "0.874\n",
      "majority_minority_predictions' model Fscore when using a threshold of 0.7\n",
      "0.852846401719\n",
      "majority_minority_predictions' model Accuracy when using a threshold of 0.7\n",
      "0.863\n",
      "majority_minority_predictions' model Fscore when using a threshold of 0.8\n",
      "0.613480055021\n",
      "majority_minority_predictions' model Accuracy when using a threshold of 0.8\n",
      "0.719\n",
      "majority_minority_predictions' model Fscore when using a threshold of 0.9\n",
      "0.0\n",
      "majority_minority_predictions' model Accuracy when using a threshold of 0.9\n",
      "0.5\n",
      "data set 4 was tested!\n"
     ]
    }
   ],
   "source": [
    "counter=0\n",
    "for d in range(2,6):\n",
    "    i=d\n",
    "    counter+=1\n",
    "    kitchentestgl = graphlab.SFrame('kitchentestgl_random_'+str(i)+'.csv')\n",
    "    print \"results for random dataset \"+str(d)\n",
    "    print \"euclidean distance results for the minority classifiers of random dataset \"+str(d)\n",
    "    largestdistances=[200.7959162931358,167.20346886353764,101.68579055108928,99.70957827611147,98.82813364624468,98.47842403288143]\n",
    "    lowestdistances=[90.46546302318913,92.32009532057471,93.24698386543128,93.50935782048768,95.66085928947116,96.60745312862771]\n",
    "    Minor_domains = ['book_predictions','dvd_predictions','automotive_predictions','jewelrywatches_predictions','gourmet_predictions','computervideo_predictions']\n",
    "    Major_domains = ['healthpersonal_predictions','baby_predictions','cameraphoto_predictions','apparel_predictions','electronics_predictions','beauty_predictions']\n",
    "    thresholds = [0.5,0.6,0.7,0.8,0.9]\n",
    "    for i in range(len(thresholds)):\n",
    "        threshold=thresholds[i]\n",
    "        kitchentestgl['minority_predictions'] = kitchentestgl.apply(lambda x: weighted_predict_largedist(x,normalized_largestdistances,threshold) )\n",
    "        print \"minority_predictions' model Fscore when using a threshold of \"+str(thresholds[i])\n",
    "        print graphlab.evaluation.f1_score(kitchentestgl['label'], kitchentestgl['minority_predictions'])\n",
    "        print \"minority_predictions' model Accuracy when using a threshold of \"+str(thresholds[i])\n",
    "        print graphlab.evaluation.accuracy(kitchentestgl['label'], kitchentestgl['minority_predictions'])\n",
    "        \n",
    "    print \"euclidean distance results for the Majority classifiers of random dataset \"+str(d)\n",
    "\n",
    "    \n",
    "    for i in range(len(thresholds)):\n",
    "        threshold=thresholds[i]\n",
    "        kitchentestgl['majority_predictions'] = kitchentestgl.apply(lambda x: weighted_predict_smalldist(x,normalized_smallestdistances,threshold) )\n",
    "        print \"majority_predictions' model Fscore when using a threshold of \"+str(thresholds[i])\n",
    "        print graphlab.evaluation.f1_score(kitchentestgl['label'], kitchentestgl['majority_predictions'])\n",
    "        print \"majority_predictions' model Accuracy when using a threshold of \"+str(thresholds[i])\n",
    "        print graphlab.evaluation.accuracy(kitchentestgl['label'], kitchentestgl['majority_predictions'])\n",
    "    \n",
    "    \n",
    "    print \"euclidean distance results for the Majority-Minority classifiers of random dataset \"+str(d)\n",
    "    \n",
    "    #threshold using all models\n",
    "    for i in range(len(thresholds)):\n",
    "        threshold=thresholds[i]\n",
    "        kitchentestgl['majority_minority_predictions'] = kitchentestgl.apply(lambda x: weighted_predict_smalldist_largedistances(x,normalized_smallestdistances,normalized_largestdistances,threshold) )\n",
    "\n",
    "        print \"majority_minority_predictions' model Fscore when using a threshold of \"+str(thresholds[i])\n",
    "        print graphlab.evaluation.f1_score(kitchentestgl['label'], kitchentestgl['majority_minority_predictions'])\n",
    "        print \"majority_minority_predictions' model Accuracy when using a threshold of \"+str(thresholds[i])\n",
    "        print graphlab.evaluation.accuracy(kitchentestgl['label'], kitchentestgl['majority_minority_predictions'])\n",
    "    \n",
    "    largestdistances=[0.6350605759053847,0.603534170649985,0.5847616326788285,0.5727679719812935,0.5446790393073166,0.5430607582457809]\n",
    "    lowestdistances=[ 0.33915945212803433,0.45760152933765286,0.462982751863136,0.48878026572745203,0.49131541172587234,0.49886896922937907]\n",
    "    Minor_domains = ['automotive_predictions','jewelrywatches_predictions','gourmet_predictions','grocery_predictions','beauty_predictions','computervideo_predictions']\n",
    "    Major_domains = ['electronics_predictions','healthpersonal_predictions','dvd_predictions','cameraphoto_predictions','apparel_predictions','baby_predictions']\n",
    "    print \"Cosine distance results for the minority classifiers of random dataset \"+str(d)\n",
    "    for i in range(len(thresholds)):\n",
    "        threshold=thresholds[i]\n",
    "        kitchentestgl['minority_predictions'] = kitchentestgl.apply(lambda x: weighted_predict_largedist(x,normalized_largestdistances,threshold) )\n",
    "        print \"minority_predictions' model Fscore when using a threshold of \"+str(thresholds[i])\n",
    "        print graphlab.evaluation.f1_score(kitchentestgl['label'], kitchentestgl['minority_predictions'])\n",
    "        print \"minority_predictions' model Accuracy when using a threshold of \"+str(thresholds[i])\n",
    "        print graphlab.evaluation.accuracy(kitchentestgl['label'], kitchentestgl['minority_predictions'])\n",
    "    \n",
    "    \n",
    "    print \"Cosine distance results for the Majority classifiers of random dataset \"+str(d)\n",
    "    for i in range(len(thresholds)):\n",
    "        threshold=thresholds[i]\n",
    "        kitchentestgl['majority_predictions'] = kitchentestgl.apply(lambda x: weighted_predict_smalldist(x,normalized_smallestdistances,threshold) )\n",
    "        print \"majority_predictions' model Fscore when using a threshold of \"+str(thresholds[i])\n",
    "        print graphlab.evaluation.f1_score(kitchentestgl['label'], kitchentestgl['majority_predictions'])\n",
    "        print \"majority_predictions' model Accuracy when using a threshold of \"+str(thresholds[i])\n",
    "        print graphlab.evaluation.accuracy(kitchentestgl['label'], kitchentestgl['majority_predictions'])\n",
    "    \n",
    "    \n",
    "    print \"Cosine distance results for the Majority-Minority classifiers of random dataset \"+str(d)\n",
    "    \n",
    "    \n",
    "    for i in range(len(thresholds)):\n",
    "        threshold=thresholds[i]\n",
    "        kitchentestgl['majority_minority_predictions'] = kitchentestgl.apply(lambda x: weighted_predict_smalldist_largedistances(x,normalized_smallestdistances,normalized_largestdistances,threshold) )\n",
    "\n",
    "        print \"majority_minority_predictions' model Fscore when using a threshold of \"+str(thresholds[i])\n",
    "        print graphlab.evaluation.f1_score(kitchentestgl['label'], kitchentestgl['majority_minority_predictions'])\n",
    "        print \"majority_minority_predictions' model Accuracy when using a threshold of \"+str(thresholds[i])\n",
    "        print graphlab.evaluation.accuracy(kitchentestgl['label'], kitchentestgl['majority_minority_predictions'])\n",
    "    \n",
    "    print \"data set \"+str(counter)+' was tested!'\n",
    "        \n",
    "    \n",
    "\n",
    "\n",
    "\n",
    "\n",
    "\n",
    "\n"
   ]
  },
  {
   "cell_type": "code",
   "execution_count": 2,
   "metadata": {
    "collapsed": true
   },
   "outputs": [],
   "source": [
    "from numpy import linalg as LA\n",
    "import numpy as np\n",
    "def euclidean_norm_dict(vec):\n",
    "    vector=[]\n",
    "    #for v in vec:\n",
    "        #vector.append(v)\n",
    "    enorm = LA.norm(vec)\n",
    "    #for i in vec:\n",
    "        #vec[i] = float(vec[i]/enorm)\n",
    "    return vec / enorm\n",
    "def compute_weights(vec):\n",
    "    newvec=[]\n",
    "    for v in vec:\n",
    "        e = (1-v) / v\n",
    "        weight = (1/2) * np.log(e)\n",
    "        newvec.append(weight)\n",
    "    return newvec"
   ]
  },
  {
   "cell_type": "code",
   "execution_count": 5,
   "metadata": {
    "collapsed": false
   },
   "outputs": [
    {
     "data": {
      "text/html": [
       "<pre>Finished parsing file C:\\Users\\Omar\\kitchentestgl_random.csv</pre>"
      ],
      "text/plain": [
       "Finished parsing file C:\\Users\\Omar\\kitchentestgl_random.csv"
      ]
     },
     "metadata": {},
     "output_type": "display_data"
    },
    {
     "data": {
      "text/html": [
       "<pre>Parsing completed. Parsed 100 lines in 0.092928 secs.</pre>"
      ],
      "text/plain": [
       "Parsing completed. Parsed 100 lines in 0.092928 secs."
      ]
     },
     "metadata": {},
     "output_type": "display_data"
    },
    {
     "name": "stdout",
     "output_type": "stream",
     "text": [
      "------------------------------------------------------\n",
      "Inferred types from first 100 line(s) of file as \n",
      "column_type_hints=[str,long,str,str,str,str,str,long,long,long,long,long,long,long,long,long,long,long,long,long]\n",
      "If parsing fails due to incorrect types, you can correct\n",
      "the inferred type list above and pass it to read_csv in\n",
      "the column_type_hints argument\n",
      "------------------------------------------------------\n"
     ]
    },
    {
     "data": {
      "text/html": [
       "<pre>Finished parsing file C:\\Users\\Omar\\kitchentestgl_random.csv</pre>"
      ],
      "text/plain": [
       "Finished parsing file C:\\Users\\Omar\\kitchentestgl_random.csv"
      ]
     },
     "metadata": {},
     "output_type": "display_data"
    },
    {
     "data": {
      "text/html": [
       "<pre>Parsing completed. Parsed 1000 lines in 0.052971 secs.</pre>"
      ],
      "text/plain": [
       "Parsing completed. Parsed 1000 lines in 0.052971 secs."
      ]
     },
     "metadata": {},
     "output_type": "display_data"
    },
    {
     "name": "stdout",
     "output_type": "stream",
     "text": [
      "results for random dataset 1\n",
      "euclidean distance results for the minority classifiers of random dataset 1\n",
      "euclidean distance results for the Majority classifiers of random dataset 1\n",
      "euclidean distance results for the Majority-Minority classifiers of random dataset 1\n",
      "max euc acc\n",
      "0.866\n",
      "Cosine distance results for the minority classifiers of random dataset 1\n",
      "Cosine distance results for the Majority classifiers of random dataset 1\n",
      "Cosine distance results for the Majority-Minority classifiers of random dataset 1\n",
      "max euc acc\n",
      "max euc acc\n",
      "max euc acc\n",
      "max euc acc\n",
      "max euc acc\n",
      "0.863\n",
      "data set 1 was tested!\n"
     ]
    },
    {
     "data": {
      "text/html": [
       "<pre>Finished parsing file C:\\Users\\Omar\\kitchentestgl_random_2.csv</pre>"
      ],
      "text/plain": [
       "Finished parsing file C:\\Users\\Omar\\kitchentestgl_random_2.csv"
      ]
     },
     "metadata": {},
     "output_type": "display_data"
    },
    {
     "data": {
      "text/html": [
       "<pre>Parsing completed. Parsed 100 lines in 0.114934 secs.</pre>"
      ],
      "text/plain": [
       "Parsing completed. Parsed 100 lines in 0.114934 secs."
      ]
     },
     "metadata": {},
     "output_type": "display_data"
    },
    {
     "name": "stdout",
     "output_type": "stream",
     "text": [
      "------------------------------------------------------\n",
      "Inferred types from first 100 line(s) of file as \n",
      "column_type_hints=[str,long,str,str,str,str,str,long,long,long,long,long,long,long,long,long,long,long,long,long]\n",
      "If parsing fails due to incorrect types, you can correct\n",
      "the inferred type list above and pass it to read_csv in\n",
      "the column_type_hints argument\n",
      "------------------------------------------------------\n"
     ]
    },
    {
     "data": {
      "text/html": [
       "<pre>Finished parsing file C:\\Users\\Omar\\kitchentestgl_random_2.csv</pre>"
      ],
      "text/plain": [
       "Finished parsing file C:\\Users\\Omar\\kitchentestgl_random_2.csv"
      ]
     },
     "metadata": {},
     "output_type": "display_data"
    },
    {
     "data": {
      "text/html": [
       "<pre>Parsing completed. Parsed 1000 lines in 0.055968 secs.</pre>"
      ],
      "text/plain": [
       "Parsing completed. Parsed 1000 lines in 0.055968 secs."
      ]
     },
     "metadata": {},
     "output_type": "display_data"
    },
    {
     "name": "stdout",
     "output_type": "stream",
     "text": [
      "results for random dataset 2\n",
      "euclidean distance results for the minority classifiers of random dataset 2\n",
      "euclidean distance results for the Majority classifiers of random dataset 2\n",
      "euclidean distance results for the Majority-Minority classifiers of random dataset 2\n",
      "max euc acc\n",
      "0.889\n",
      "Cosine distance results for the minority classifiers of random dataset 2\n",
      "Cosine distance results for the Majority classifiers of random dataset 2\n",
      "Cosine distance results for the Majority-Minority classifiers of random dataset 2\n",
      "max euc acc\n",
      "max euc acc\n",
      "max euc acc\n",
      "max euc acc\n",
      "max euc acc\n",
      "0.869\n",
      "data set 2 was tested!\n"
     ]
    },
    {
     "data": {
      "text/html": [
       "<pre>Finished parsing file C:\\Users\\Omar\\kitchentestgl_random_3.csv</pre>"
      ],
      "text/plain": [
       "Finished parsing file C:\\Users\\Omar\\kitchentestgl_random_3.csv"
      ]
     },
     "metadata": {},
     "output_type": "display_data"
    },
    {
     "data": {
      "text/html": [
       "<pre>Parsing completed. Parsed 100 lines in 0.110934 secs.</pre>"
      ],
      "text/plain": [
       "Parsing completed. Parsed 100 lines in 0.110934 secs."
      ]
     },
     "metadata": {},
     "output_type": "display_data"
    },
    {
     "name": "stdout",
     "output_type": "stream",
     "text": [
      "------------------------------------------------------\n",
      "Inferred types from first 100 line(s) of file as \n",
      "column_type_hints=[str,long,str,str,str,str,str,long,long,long,long,long,long,long,long,long,long,long,long,long]\n",
      "If parsing fails due to incorrect types, you can correct\n",
      "the inferred type list above and pass it to read_csv in\n",
      "the column_type_hints argument\n",
      "------------------------------------------------------\n"
     ]
    },
    {
     "data": {
      "text/html": [
       "<pre>Finished parsing file C:\\Users\\Omar\\kitchentestgl_random_3.csv</pre>"
      ],
      "text/plain": [
       "Finished parsing file C:\\Users\\Omar\\kitchentestgl_random_3.csv"
      ]
     },
     "metadata": {},
     "output_type": "display_data"
    },
    {
     "data": {
      "text/html": [
       "<pre>Parsing completed. Parsed 1000 lines in 0.054975 secs.</pre>"
      ],
      "text/plain": [
       "Parsing completed. Parsed 1000 lines in 0.054975 secs."
      ]
     },
     "metadata": {},
     "output_type": "display_data"
    },
    {
     "name": "stdout",
     "output_type": "stream",
     "text": [
      "results for random dataset 3\n",
      "euclidean distance results for the minority classifiers of random dataset 3\n",
      "euclidean distance results for the Majority classifiers of random dataset 3\n",
      "euclidean distance results for the Majority-Minority classifiers of random dataset 3\n",
      "max euc acc\n",
      "0.872\n",
      "Cosine distance results for the minority classifiers of random dataset 3\n",
      "Cosine distance results for the Majority classifiers of random dataset 3\n",
      "Cosine distance results for the Majority-Minority classifiers of random dataset 3\n",
      "max euc acc\n",
      "max euc acc\n",
      "max euc acc\n",
      "max euc acc\n",
      "max euc acc\n",
      "0.867\n",
      "data set 3 was tested!\n"
     ]
    },
    {
     "data": {
      "text/html": [
       "<pre>Finished parsing file C:\\Users\\Omar\\kitchentestgl_random_4.csv</pre>"
      ],
      "text/plain": [
       "Finished parsing file C:\\Users\\Omar\\kitchentestgl_random_4.csv"
      ]
     },
     "metadata": {},
     "output_type": "display_data"
    },
    {
     "data": {
      "text/html": [
       "<pre>Parsing completed. Parsed 100 lines in 0.110934 secs.</pre>"
      ],
      "text/plain": [
       "Parsing completed. Parsed 100 lines in 0.110934 secs."
      ]
     },
     "metadata": {},
     "output_type": "display_data"
    },
    {
     "name": "stdout",
     "output_type": "stream",
     "text": [
      "------------------------------------------------------\n",
      "Inferred types from first 100 line(s) of file as \n",
      "column_type_hints=[str,long,str,str,str,str,str,long,long,long,long,long,long,long,long,long,long,long,long,long]\n",
      "If parsing fails due to incorrect types, you can correct\n",
      "the inferred type list above and pass it to read_csv in\n",
      "the column_type_hints argument\n",
      "------------------------------------------------------\n"
     ]
    },
    {
     "data": {
      "text/html": [
       "<pre>Finished parsing file C:\\Users\\Omar\\kitchentestgl_random_4.csv</pre>"
      ],
      "text/plain": [
       "Finished parsing file C:\\Users\\Omar\\kitchentestgl_random_4.csv"
      ]
     },
     "metadata": {},
     "output_type": "display_data"
    },
    {
     "data": {
      "text/html": [
       "<pre>Parsing completed. Parsed 1000 lines in 0.055969 secs.</pre>"
      ],
      "text/plain": [
       "Parsing completed. Parsed 1000 lines in 0.055969 secs."
      ]
     },
     "metadata": {},
     "output_type": "display_data"
    },
    {
     "name": "stdout",
     "output_type": "stream",
     "text": [
      "results for random dataset 4\n",
      "euclidean distance results for the minority classifiers of random dataset 4\n",
      "euclidean distance results for the Majority classifiers of random dataset 4\n",
      "euclidean distance results for the Majority-Minority classifiers of random dataset 4\n",
      "max euc acc\n",
      "0.88\n",
      "Cosine distance results for the minority classifiers of random dataset 4\n",
      "Cosine distance results for the Majority classifiers of random dataset 4\n",
      "Cosine distance results for the Majority-Minority classifiers of random dataset 4\n",
      "max euc acc\n",
      "max euc acc\n",
      "max euc acc\n",
      "max euc acc\n",
      "max euc acc\n",
      "0.87\n",
      "data set 4 was tested!\n"
     ]
    },
    {
     "data": {
      "text/html": [
       "<pre>Finished parsing file C:\\Users\\Omar\\kitchentestgl_random_5.csv</pre>"
      ],
      "text/plain": [
       "Finished parsing file C:\\Users\\Omar\\kitchentestgl_random_5.csv"
      ]
     },
     "metadata": {},
     "output_type": "display_data"
    },
    {
     "data": {
      "text/html": [
       "<pre>Parsing completed. Parsed 100 lines in 0.113933 secs.</pre>"
      ],
      "text/plain": [
       "Parsing completed. Parsed 100 lines in 0.113933 secs."
      ]
     },
     "metadata": {},
     "output_type": "display_data"
    },
    {
     "name": "stdout",
     "output_type": "stream",
     "text": [
      "------------------------------------------------------\n",
      "Inferred types from first 100 line(s) of file as \n",
      "column_type_hints=[str,long,str,str,str,str,str,long,long,long,long,long,long,long,long,long,long,long,long,long]\n",
      "If parsing fails due to incorrect types, you can correct\n",
      "the inferred type list above and pass it to read_csv in\n",
      "the column_type_hints argument\n",
      "------------------------------------------------------\n"
     ]
    },
    {
     "data": {
      "text/html": [
       "<pre>Finished parsing file C:\\Users\\Omar\\kitchentestgl_random_5.csv</pre>"
      ],
      "text/plain": [
       "Finished parsing file C:\\Users\\Omar\\kitchentestgl_random_5.csv"
      ]
     },
     "metadata": {},
     "output_type": "display_data"
    },
    {
     "data": {
      "text/html": [
       "<pre>Parsing completed. Parsed 1000 lines in 0.056968 secs.</pre>"
      ],
      "text/plain": [
       "Parsing completed. Parsed 1000 lines in 0.056968 secs."
      ]
     },
     "metadata": {},
     "output_type": "display_data"
    },
    {
     "name": "stdout",
     "output_type": "stream",
     "text": [
      "results for random dataset 5\n",
      "euclidean distance results for the minority classifiers of random dataset 5\n",
      "euclidean distance results for the Majority classifiers of random dataset 5\n",
      "euclidean distance results for the Majority-Minority classifiers of random dataset 5\n",
      "max euc acc\n",
      "0.874\n",
      "Cosine distance results for the minority classifiers of random dataset 5\n",
      "Cosine distance results for the Majority classifiers of random dataset 5\n",
      "Cosine distance results for the Majority-Minority classifiers of random dataset 5\n",
      "max euc acc\n",
      "max euc acc\n",
      "max euc acc\n",
      "max euc acc\n",
      "max euc acc\n",
      "0.872\n",
      "data set 5 was tested!\n",
      "max cosine acc\n",
      "[0.863, 0.869, 0.867, 0.87, 0.872]\n",
      "max euc acc\n",
      "[0.866, 0.889, 0.872, 0.88, 0.874]\n"
     ]
    }
   ],
   "source": [
    "counter=0\n",
    "max_euc_accs=[]\n",
    "max_cosine_accs=[]\n",
    "for d in range(1,6):\n",
    "    i=d\n",
    "    counter+=1\n",
    "    if i==1:\n",
    "        kitchentestgl = graphlab.SFrame('kitchentestgl_random.csv')\n",
    "    else:\n",
    "        kitchentestgl = graphlab.SFrame('kitchentestgl_random_'+str(i)+'.csv')\n",
    "    print \"results for random dataset \"+str(d)\n",
    "    print \"euclidean distance results for the minority classifiers of random dataset \"+str(d)\n",
    "    largestdistances=[200.7959162931358,167.20346886353764,101.68579055108928,99.70957827611147,98.82813364624468,98.47842403288143]\n",
    "    lowestdistances=[90.46546302318913,92.32009532057471,93.24698386543128,93.50935782048768,95.66085928947116,96.60745312862771]\n",
    "    Minor_domains = ['book_predictions','dvd_predictions','automotive_predictions','jewelrywatches_predictions','gourmet_predictions','computervideo_predictions']\n",
    "    Major_domains = ['healthpersonal_predictions','baby_predictions','cameraphoto_predictions','apparel_predictions','electronics_predictions','beauty_predictions']\n",
    "    normalized_largestdistances = euclidean_norm_dict(largestdistances)\n",
    "    normalized_smallestdistances = euclidean_norm_dict(lowestdistances)\n",
    "    thresholds = [0.5,0.6,0.7,0.8,0.9]\n",
    "    euc_Fscores = []\n",
    "    euc_Accs = []\n",
    "    for i in range(len(thresholds)):\n",
    "        threshold=thresholds[i]\n",
    "        kitchentestgl['minority_predictions'] = kitchentestgl.apply(lambda x: weighted_predict_largedist(x,normalized_largestdistances,threshold) )\n",
    "        #print \"minority_predictions' model Fscore when using a threshold of \"+str(thresholds[i])\n",
    "        #print graphlab.evaluation.f1_score(kitchentestgl['label'], kitchentestgl['minority_predictions'])\n",
    "        #print \"minority_predictions' model Accuracy when using a threshold of \"+str(thresholds[i])\n",
    "        #print graphlab.evaluation.accuracy(kitchentestgl['label'], kitchentestgl['minority_predictions'])\n",
    "        euc_Fscores.append(graphlab.evaluation.f1_score(kitchentestgl['label'], kitchentestgl['minority_predictions']))\n",
    "        euc_Accs.append(graphlab.evaluation.accuracy(kitchentestgl['label'], kitchentestgl['minority_predictions']))\n",
    "    print \"euclidean distance results for the Majority classifiers of random dataset \"+str(d)\n",
    "\n",
    "    euc_major_Fscores=[]\n",
    "    euc_major_Accs = []\n",
    "    for i in range(len(thresholds)):\n",
    "        threshold=thresholds[i]\n",
    "        kitchentestgl['majority_predictions'] = kitchentestgl.apply(lambda x: weighted_predict_smalldist(x,normalized_smallestdistances,threshold) )\n",
    "        #print \"majority_predictions' model Fscore when using a threshold of \"+str(thresholds[i])\n",
    "        #print graphlab.evaluation.f1_score(kitchentestgl['label'], kitchentestgl['majority_predictions'])\n",
    "        #print \"majority_predictions' model Accuracy when using a threshold of \"+str(thresholds[i])\n",
    "        #print graphlab.evaluation.accuracy(kitchentestgl['label'], kitchentestgl['majority_predictions'])\n",
    "        euc_Fscores.append(graphlab.evaluation.f1_score(kitchentestgl['label'], kitchentestgl['majority_predictions']))\n",
    "        euc_Accs.append(graphlab.evaluation.accuracy(kitchentestgl['label'], kitchentestgl['majority_predictions']))\n",
    "    \n",
    "    print \"euclidean distance results for the Majority-Minority classifiers of random dataset \"+str(d)\n",
    "\n",
    "    #threshold using all models\n",
    "    for i in range(len(thresholds)):\n",
    "        threshold=thresholds[i]\n",
    "        kitchentestgl['majority_minority_predictions'] = kitchentestgl.apply(lambda x: weighted_predict_smalldist_largedistances(x,normalized_smallestdistances,normalized_largestdistances,threshold) )\n",
    "\n",
    "        #print \"majority_minority_predictions' model Fscore when using a threshold of \"+str(thresholds[i])\n",
    "        #print graphlab.evaluation.f1_score(kitchentestgl['label'], kitchentestgl['majority_minority_predictions'])\n",
    "        #print \"majority_minority_predictions' model Accuracy when using a threshold of \"+str(thresholds[i])\n",
    "        #print graphlab.evaluation.accuracy(kitchentestgl['label'], kitchentestgl['majority_minority_predictions'])\n",
    "        euc_Fscores.append(graphlab.evaluation.f1_score(kitchentestgl['label'], kitchentestgl['majority_minority_predictions']))\n",
    "        euc_Accs.append(graphlab.evaluation.accuracy(kitchentestgl['label'], kitchentestgl['majority_minority_predictions']))\n",
    "    print \"max euc acc\"\n",
    "    print max(euc_Accs)\n",
    "    max_euc_accs.append(max(euc_Accs))\n",
    "    largestdistances=[0.6350605759053847,0.603534170649985,0.5847616326788285,0.5727679719812935,0.5446790393073166,0.5430607582457809]\n",
    "    lowestdistances=[ 0.33915945212803433,0.45760152933765286,0.462982751863136,0.48878026572745203,0.49131541172587234,0.49886896922937907]\n",
    "    Minor_domains = ['automotive_predictions','jewelrywatches_predictions','gourmet_predictions','grocery_predictions','beauty_predictions','computervideo_predictions']\n",
    "    Major_domains = ['electronics_predictions','healthpersonal_predictions','dvd_predictions','cameraphoto_predictions','apparel_predictions','baby_predictions']\n",
    "    normalized_largestdistances = euclidean_norm_dict(largestdistances)\n",
    "    normalized_smallestdistances = euclidean_norm_dict(lowestdistances)\n",
    "    print \"Cosine distance results for the minority classifiers of random dataset \"+str(d)\n",
    "    cosine_Accs=[]\n",
    "    cosine_Fscores=[]\n",
    "    for i in range(len(thresholds)):\n",
    "        threshold=thresholds[i]\n",
    "        kitchentestgl['minority_predictions'] = kitchentestgl.apply(lambda x: weighted_predict_largedist(x,normalized_largestdistances,threshold) )\n",
    "        #print \"minority_predictions' model Fscore when using a threshold of \"+str(thresholds[i])\n",
    "        #print graphlab.evaluation.f1_score(kitchentestgl['label'], kitchentestgl['minority_predictions'])\n",
    "        #print \"minority_predictions' model Accuracy when using a threshold of \"+str(thresholds[i])\n",
    "        #print graphlab.evaluation.accuracy(kitchentestgl['label'], kitchentestgl['minority_predictions'])\n",
    "        cosine_Accs.append(graphlab.evaluation.accuracy(kitchentestgl['label'], kitchentestgl['minority_predictions']))\n",
    "        cosine_Fscores.append(graphlab.evaluation.f1_score(kitchentestgl['label'], kitchentestgl['minority_predictions']))\n",
    "    \n",
    "    print \"Cosine distance results for the Majority classifiers of random dataset \"+str(d)\n",
    "    for i in range(len(thresholds)):\n",
    "        threshold=thresholds[i]\n",
    "        kitchentestgl['majority_predictions'] = kitchentestgl.apply(lambda x: weighted_predict_smalldist(x,normalized_smallestdistances,threshold) )\n",
    "        #print \"majority_predictions' model Fscore when using a threshold of \"+str(thresholds[i])\n",
    "        #print graphlab.evaluation.f1_score(kitchentestgl['label'], kitchentestgl['majority_predictions'])\n",
    "        #print \"majority_predictions' model Accuracy when using a threshold of \"+str(thresholds[i])\n",
    "        #print graphlab.evaluation.accuracy(kitchentestgl['label'], kitchentestgl['majority_predictions'])\n",
    "        cosine_Accs.append(graphlab.evaluation.accuracy(kitchentestgl['label'], kitchentestgl['majority_predictions']))\n",
    "        cosine_Fscores.append(graphlab.evaluation.f1_score(kitchentestgl['label'], kitchentestgl['majority_predictions']))\n",
    "    \n",
    "    \n",
    "    print \"Cosine distance results for the Majority-Minority classifiers of random dataset \"+str(d)\n",
    "    \n",
    "    \n",
    "    for i in range(len(thresholds)):\n",
    "        threshold=thresholds[i]\n",
    "        kitchentestgl['majority_minority_predictions'] = kitchentestgl.apply(lambda x: weighted_predict_smalldist_largedistances(x,normalized_smallestdistances,normalized_largestdistances,threshold) )\n",
    "\n",
    "        #print \"majority_minority_predictions' model Fscore when using a threshold of \"+str(thresholds[i])\n",
    "        #print graphlab.evaluation.f1_score(kitchentestgl['label'], kitchentestgl['majority_minority_predictions'])\n",
    "        #print \"majority_minority_predictions' model Accuracy when using a threshold of \"+str(thresholds[i])\n",
    "        #print graphlab.evaluation.accuracy(kitchentestgl['label'], kitchentestgl['majority_minority_predictions'])\n",
    "        print \"max euc acc\"\n",
    "        cosine_Accs.append(graphlab.evaluation.accuracy(kitchentestgl['label'], kitchentestgl['majority_predictions']))\n",
    "        cosine_Fscores.append(graphlab.evaluation.f1_score(kitchentestgl['label'], kitchentestgl['majority_predictions']))\n",
    "    print max(cosine_Accs)\n",
    "    max_cosine_accs.append(max(cosine_Accs))\n",
    "    print \"data set \"+str(counter)+' was tested!'\n",
    "print \"max cosine acc\"\n",
    "print max_cosine_accs\n",
    "print \"max euc acc\"\n",
    "print max_euc_accs\n",
    "\n",
    "\n",
    "\n",
    "\n",
    "\n",
    "\n"
   ]
  },
  {
   "cell_type": "code",
   "execution_count": null,
   "metadata": {
    "collapsed": true
   },
   "outputs": [],
   "source": [
    "avg_euc_acc = 0.8762\n",
    "\n",
    "avg_cosine_acc = 0.8682"
   ]
  },
  {
   "cell_type": "code",
   "execution_count": null,
   "metadata": {
    "collapsed": true
   },
   "outputs": [],
   "source": []
  },
  {
   "cell_type": "code",
   "execution_count": null,
   "metadata": {
    "collapsed": true
   },
   "outputs": [],
   "source": [
    "max cosine acc\n",
    "[0.871, 0.867, 0.87, 0.872]\n",
    "max euc acc\n",
    "[0.889, 0.872, 0.88, 0.874]"
   ]
  },
  {
   "cell_type": "code",
   "execution_count": null,
   "metadata": {
    "collapsed": false
   },
   "outputs": [],
   "source": [
    "largestdistances=[0.5633181597498838,0.5546099411237762,0.5240471587804418,0.5039841842356722,0.49261932743957626,0.487554486027983]\n",
    "lowestdistances=[ 0.36080598790800533,0.3686636285328633,0.4070498131725162,0.40863691553859804,0.4114316511076972,0.4613234524061305]\n",
    "Minor_domains = ['automotive_predictions','book_predictions','jewelrywatches_predictions','gourmet_predictions','dvd_predictions','grocery_predictions']\n",
    "\n",
    "Major_domains = ['electronics_predictions','healthpersonal_predictions','cameraphoto_predictions','apparel_predictions','baby_predictions','beauty_predictions']"
   ]
  },
  {
   "cell_type": "code",
   "execution_count": null,
   "metadata": {
    "collapsed": false
   },
   "outputs": [],
   "source": []
  },
  {
   "cell_type": "code",
   "execution_count": 80,
   "metadata": {
    "collapsed": false
   },
   "outputs": [
    {
     "data": {
      "text/html": [
       "<pre>Finished parsing file C:\\Users\\Omar\\kitchentestgl_random.csv</pre>"
      ],
      "text/plain": [
       "Finished parsing file C:\\Users\\Omar\\kitchentestgl_random.csv"
      ]
     },
     "metadata": {},
     "output_type": "display_data"
    },
    {
     "data": {
      "text/html": [
       "<pre>Parsing completed. Parsed 100 lines in 0.116956 secs.</pre>"
      ],
      "text/plain": [
       "Parsing completed. Parsed 100 lines in 0.116956 secs."
      ]
     },
     "metadata": {},
     "output_type": "display_data"
    },
    {
     "name": "stdout",
     "output_type": "stream",
     "text": [
      "------------------------------------------------------\n",
      "Inferred types from first 100 line(s) of file as \n",
      "column_type_hints=[str,long,str,str,str,str,str,long,long,long,long,long,long,long,long,long,long,long,long,long]\n",
      "If parsing fails due to incorrect types, you can correct\n",
      "the inferred type list above and pass it to read_csv in\n",
      "the column_type_hints argument\n",
      "------------------------------------------------------\n"
     ]
    },
    {
     "data": {
      "text/html": [
       "<pre>Finished parsing file C:\\Users\\Omar\\kitchentestgl_random.csv</pre>"
      ],
      "text/plain": [
       "Finished parsing file C:\\Users\\Omar\\kitchentestgl_random.csv"
      ]
     },
     "metadata": {},
     "output_type": "display_data"
    },
    {
     "data": {
      "text/html": [
       "<pre>Parsing completed. Parsed 1000 lines in 0.054968 secs.</pre>"
      ],
      "text/plain": [
       "Parsing completed. Parsed 1000 lines in 0.054968 secs."
      ]
     },
     "metadata": {},
     "output_type": "display_data"
    },
    {
     "name": "stdout",
     "output_type": "stream",
     "text": [
      "results for random dataset 1\n",
      "euclidean distance results for the minority classifiers of random dataset 1\n",
      "euclidean distance results for the Majority classifiers of random dataset 1\n",
      "euclidean distance results for the Majority-Minority classifiers of random dataset 1\n",
      "max euc acc\n",
      "0.866\n",
      "Cosine distance results for the minority classifiers of random dataset 1\n",
      "Cosine distance results for the Majority classifiers of random dataset 1\n",
      "Cosine distance results for the Majority-Minority classifiers of random dataset 1\n",
      "max euc acc\n",
      "max euc acc\n",
      "max euc acc\n",
      "max euc acc\n",
      "max euc acc\n",
      "0.866\n",
      "data set 1 was tested!\n"
     ]
    },
    {
     "data": {
      "text/html": [
       "<pre>Finished parsing file C:\\Users\\Omar\\kitchentestgl_random_2.csv</pre>"
      ],
      "text/plain": [
       "Finished parsing file C:\\Users\\Omar\\kitchentestgl_random_2.csv"
      ]
     },
     "metadata": {},
     "output_type": "display_data"
    },
    {
     "data": {
      "text/html": [
       "<pre>Parsing completed. Parsed 100 lines in 0.12293 secs.</pre>"
      ],
      "text/plain": [
       "Parsing completed. Parsed 100 lines in 0.12293 secs."
      ]
     },
     "metadata": {},
     "output_type": "display_data"
    },
    {
     "name": "stdout",
     "output_type": "stream",
     "text": [
      "------------------------------------------------------\n",
      "Inferred types from first 100 line(s) of file as \n",
      "column_type_hints=[str,long,str,str,str,str,str,long,long,long,long,long,long,long,long,long,long,long,long,long]\n",
      "If parsing fails due to incorrect types, you can correct\n",
      "the inferred type list above and pass it to read_csv in\n",
      "the column_type_hints argument\n",
      "------------------------------------------------------\n"
     ]
    },
    {
     "data": {
      "text/html": [
       "<pre>Finished parsing file C:\\Users\\Omar\\kitchentestgl_random_2.csv</pre>"
      ],
      "text/plain": [
       "Finished parsing file C:\\Users\\Omar\\kitchentestgl_random_2.csv"
      ]
     },
     "metadata": {},
     "output_type": "display_data"
    },
    {
     "data": {
      "text/html": [
       "<pre>Parsing completed. Parsed 1000 lines in 0.054968 secs.</pre>"
      ],
      "text/plain": [
       "Parsing completed. Parsed 1000 lines in 0.054968 secs."
      ]
     },
     "metadata": {},
     "output_type": "display_data"
    },
    {
     "name": "stdout",
     "output_type": "stream",
     "text": [
      "results for random dataset 2\n",
      "euclidean distance results for the minority classifiers of random dataset 2\n",
      "euclidean distance results for the Majority classifiers of random dataset 2\n",
      "euclidean distance results for the Majority-Minority classifiers of random dataset 2\n",
      "max euc acc\n",
      "0.889\n",
      "Cosine distance results for the minority classifiers of random dataset 2\n",
      "Cosine distance results for the Majority classifiers of random dataset 2\n",
      "Cosine distance results for the Majority-Minority classifiers of random dataset 2\n",
      "max euc acc\n",
      "max euc acc\n",
      "max euc acc\n",
      "max euc acc\n",
      "max euc acc\n",
      "0.889\n",
      "data set 2 was tested!\n"
     ]
    },
    {
     "data": {
      "text/html": [
       "<pre>Finished parsing file C:\\Users\\Omar\\kitchentestgl_random_3.csv</pre>"
      ],
      "text/plain": [
       "Finished parsing file C:\\Users\\Omar\\kitchentestgl_random_3.csv"
      ]
     },
     "metadata": {},
     "output_type": "display_data"
    },
    {
     "data": {
      "text/html": [
       "<pre>Parsing completed. Parsed 100 lines in 0.104939 secs.</pre>"
      ],
      "text/plain": [
       "Parsing completed. Parsed 100 lines in 0.104939 secs."
      ]
     },
     "metadata": {},
     "output_type": "display_data"
    },
    {
     "name": "stdout",
     "output_type": "stream",
     "text": [
      "------------------------------------------------------\n",
      "Inferred types from first 100 line(s) of file as \n",
      "column_type_hints=[str,long,str,str,str,str,str,long,long,long,long,long,long,long,long,long,long,long,long,long]\n",
      "If parsing fails due to incorrect types, you can correct\n",
      "the inferred type list above and pass it to read_csv in\n",
      "the column_type_hints argument\n",
      "------------------------------------------------------\n"
     ]
    },
    {
     "data": {
      "text/html": [
       "<pre>Finished parsing file C:\\Users\\Omar\\kitchentestgl_random_3.csv</pre>"
      ],
      "text/plain": [
       "Finished parsing file C:\\Users\\Omar\\kitchentestgl_random_3.csv"
      ]
     },
     "metadata": {},
     "output_type": "display_data"
    },
    {
     "data": {
      "text/html": [
       "<pre>Parsing completed. Parsed 1000 lines in 0.05197 secs.</pre>"
      ],
      "text/plain": [
       "Parsing completed. Parsed 1000 lines in 0.05197 secs."
      ]
     },
     "metadata": {},
     "output_type": "display_data"
    },
    {
     "name": "stdout",
     "output_type": "stream",
     "text": [
      "results for random dataset 3\n",
      "euclidean distance results for the minority classifiers of random dataset 3\n",
      "euclidean distance results for the Majority classifiers of random dataset 3\n",
      "euclidean distance results for the Majority-Minority classifiers of random dataset 3\n",
      "max euc acc\n",
      "0.872\n",
      "Cosine distance results for the minority classifiers of random dataset 3\n",
      "Cosine distance results for the Majority classifiers of random dataset 3\n",
      "Cosine distance results for the Majority-Minority classifiers of random dataset 3\n",
      "max euc acc\n",
      "max euc acc\n",
      "max euc acc\n",
      "max euc acc\n",
      "max euc acc\n",
      "0.872\n",
      "data set 3 was tested!\n"
     ]
    },
    {
     "data": {
      "text/html": [
       "<pre>Finished parsing file C:\\Users\\Omar\\kitchentestgl_random_4.csv</pre>"
      ],
      "text/plain": [
       "Finished parsing file C:\\Users\\Omar\\kitchentestgl_random_4.csv"
      ]
     },
     "metadata": {},
     "output_type": "display_data"
    },
    {
     "data": {
      "text/html": [
       "<pre>Parsing completed. Parsed 100 lines in 0.108936 secs.</pre>"
      ],
      "text/plain": [
       "Parsing completed. Parsed 100 lines in 0.108936 secs."
      ]
     },
     "metadata": {},
     "output_type": "display_data"
    },
    {
     "name": "stdout",
     "output_type": "stream",
     "text": [
      "------------------------------------------------------\n",
      "Inferred types from first 100 line(s) of file as \n",
      "column_type_hints=[str,long,str,str,str,str,str,long,long,long,long,long,long,long,long,long,long,long,long,long]\n",
      "If parsing fails due to incorrect types, you can correct\n",
      "the inferred type list above and pass it to read_csv in\n",
      "the column_type_hints argument\n",
      "------------------------------------------------------\n"
     ]
    },
    {
     "data": {
      "text/html": [
       "<pre>Finished parsing file C:\\Users\\Omar\\kitchentestgl_random_4.csv</pre>"
      ],
      "text/plain": [
       "Finished parsing file C:\\Users\\Omar\\kitchentestgl_random_4.csv"
      ]
     },
     "metadata": {},
     "output_type": "display_data"
    },
    {
     "data": {
      "text/html": [
       "<pre>Parsing completed. Parsed 1000 lines in 0.05297 secs.</pre>"
      ],
      "text/plain": [
       "Parsing completed. Parsed 1000 lines in 0.05297 secs."
      ]
     },
     "metadata": {},
     "output_type": "display_data"
    },
    {
     "name": "stdout",
     "output_type": "stream",
     "text": [
      "results for random dataset 4\n",
      "euclidean distance results for the minority classifiers of random dataset 4\n",
      "euclidean distance results for the Majority classifiers of random dataset 4\n",
      "euclidean distance results for the Majority-Minority classifiers of random dataset 4\n",
      "max euc acc\n",
      "0.88\n",
      "Cosine distance results for the minority classifiers of random dataset 4\n",
      "Cosine distance results for the Majority classifiers of random dataset 4\n",
      "Cosine distance results for the Majority-Minority classifiers of random dataset 4\n",
      "max euc acc\n",
      "max euc acc\n",
      "max euc acc\n",
      "max euc acc\n",
      "max euc acc\n",
      "0.88\n",
      "data set 4 was tested!\n"
     ]
    },
    {
     "data": {
      "text/html": [
       "<pre>Finished parsing file C:\\Users\\Omar\\kitchentestgl_random_5.csv</pre>"
      ],
      "text/plain": [
       "Finished parsing file C:\\Users\\Omar\\kitchentestgl_random_5.csv"
      ]
     },
     "metadata": {},
     "output_type": "display_data"
    },
    {
     "data": {
      "text/html": [
       "<pre>Parsing completed. Parsed 100 lines in 0.123928 secs.</pre>"
      ],
      "text/plain": [
       "Parsing completed. Parsed 100 lines in 0.123928 secs."
      ]
     },
     "metadata": {},
     "output_type": "display_data"
    },
    {
     "name": "stdout",
     "output_type": "stream",
     "text": [
      "------------------------------------------------------\n",
      "Inferred types from first 100 line(s) of file as \n",
      "column_type_hints=[str,long,str,str,str,str,str,long,long,long,long,long,long,long,long,long,long,long,long,long]\n",
      "If parsing fails due to incorrect types, you can correct\n",
      "the inferred type list above and pass it to read_csv in\n",
      "the column_type_hints argument\n",
      "------------------------------------------------------\n"
     ]
    },
    {
     "data": {
      "text/html": [
       "<pre>Finished parsing file C:\\Users\\Omar\\kitchentestgl_random_5.csv</pre>"
      ],
      "text/plain": [
       "Finished parsing file C:\\Users\\Omar\\kitchentestgl_random_5.csv"
      ]
     },
     "metadata": {},
     "output_type": "display_data"
    },
    {
     "data": {
      "text/html": [
       "<pre>Parsing completed. Parsed 1000 lines in 0.054969 secs.</pre>"
      ],
      "text/plain": [
       "Parsing completed. Parsed 1000 lines in 0.054969 secs."
      ]
     },
     "metadata": {},
     "output_type": "display_data"
    },
    {
     "name": "stdout",
     "output_type": "stream",
     "text": [
      "results for random dataset 5\n",
      "euclidean distance results for the minority classifiers of random dataset 5\n",
      "euclidean distance results for the Majority classifiers of random dataset 5\n",
      "euclidean distance results for the Majority-Minority classifiers of random dataset 5\n",
      "max euc acc\n",
      "0.874\n",
      "Cosine distance results for the minority classifiers of random dataset 5\n",
      "Cosine distance results for the Majority classifiers of random dataset 5\n",
      "Cosine distance results for the Majority-Minority classifiers of random dataset 5\n",
      "max euc acc\n",
      "max euc acc\n",
      "max euc acc\n",
      "max euc acc\n",
      "max euc acc\n",
      "0.874\n",
      "data set 5 was tested!\n",
      "max cosine acc\n",
      "[0.866, 0.889, 0.872, 0.88, 0.874]\n",
      "max euc acc\n",
      "[0.866, 0.889, 0.872, 0.88, 0.874]\n"
     ]
    }
   ],
   "source": [
    "counter=0\n",
    "max_euc_accs=[]\n",
    "max_cosine_accs=[]\n",
    "for d in range(1,6):\n",
    "    i=d\n",
    "    counter+=1\n",
    "    if i==1:\n",
    "        kitchentestgl = graphlab.SFrame('kitchentestgl_random.csv')\n",
    "    else:\n",
    "        kitchentestgl = graphlab.SFrame('kitchentestgl_random_'+str(i)+'.csv')\n",
    "    print \"results for random dataset \"+str(d)\n",
    "    print \"euclidean distance results for the minority classifiers of random dataset \"+str(d)\n",
    "    largestdistances=[215.7683943491261,167.77067681809,99.84487968844472,97.77013859047148,97.01030873056739,96.97422337920526]\n",
    "    lowestdistances=[88.91006692158093,90.62008607367353,91.81503144910424,91.98369420718001,94.66255859631093,94.75230867899737]\n",
    "    Minor_domains = ['book_predictions','dvd_predictions','automotive_predictions','jewelrywatches_predictions','computervideo_predictions','gourmet_predictions']\n",
    "    Major_domains = ['healthpersonal_predictions','baby_predictions','cameraphoto_predictions','apparel_predictions','electronics_predictions','beauty_predictions']\n",
    "    normalized_largestdistances = euclidean_norm_dict(largestdistances)\n",
    "    normalized_smallestdistances = euclidean_norm_dict(lowestdistances)\n",
    "    thresholds = [0.5,0.6,0.7,0.8,0.9]\n",
    "    euc_Fscores = []\n",
    "    euc_Accs = []\n",
    "    for i in range(len(thresholds)):\n",
    "        threshold=thresholds[i]\n",
    "        kitchentestgl['minority_predictions'] = kitchentestgl.apply(lambda x: weighted_predict_largedist(x,normalized_largestdistances,threshold) )\n",
    "        #print \"minority_predictions' model Fscore when using a threshold of \"+str(thresholds[i])\n",
    "        #print graphlab.evaluation.f1_score(kitchentestgl['label'], kitchentestgl['minority_predictions'])\n",
    "        #print \"minority_predictions' model Accuracy when using a threshold of \"+str(thresholds[i])\n",
    "        #print graphlab.evaluation.accuracy(kitchentestgl['label'], kitchentestgl['minority_predictions'])\n",
    "        euc_Fscores.append(graphlab.evaluation.f1_score(kitchentestgl['label'], kitchentestgl['minority_predictions']))\n",
    "        euc_Accs.append(graphlab.evaluation.accuracy(kitchentestgl['label'], kitchentestgl['minority_predictions']))\n",
    "    print \"euclidean distance results for the Majority classifiers of random dataset \"+str(d)\n",
    "\n",
    "    euc_major_Fscores=[]\n",
    "    euc_major_Accs = []\n",
    "    for i in range(len(thresholds)):\n",
    "        threshold=thresholds[i]\n",
    "        kitchentestgl['majority_predictions'] = kitchentestgl.apply(lambda x: weighted_predict_smalldist(x,normalized_smallestdistances,threshold) )\n",
    "        #print \"majority_predictions' model Fscore when using a threshold of \"+str(thresholds[i])\n",
    "        #print graphlab.evaluation.f1_score(kitchentestgl['label'], kitchentestgl['majority_predictions'])\n",
    "        #print \"majority_predictions' model Accuracy when using a threshold of \"+str(thresholds[i])\n",
    "        #print graphlab.evaluation.accuracy(kitchentestgl['label'], kitchentestgl['majority_predictions'])\n",
    "        euc_Fscores.append(graphlab.evaluation.f1_score(kitchentestgl['label'], kitchentestgl['majority_predictions']))\n",
    "        euc_Accs.append(graphlab.evaluation.accuracy(kitchentestgl['label'], kitchentestgl['majority_predictions']))\n",
    "    \n",
    "    print \"euclidean distance results for the Majority-Minority classifiers of random dataset \"+str(d)\n",
    "\n",
    "    #threshold using all models\n",
    "    for i in range(len(thresholds)):\n",
    "        threshold=thresholds[i]\n",
    "        kitchentestgl['majority_minority_predictions'] = kitchentestgl.apply(lambda x: weighted_predict_smalldist_largedistances(x,normalized_smallestdistances,normalized_largestdistances,threshold) )\n",
    "\n",
    "        #print \"majority_minority_predictions' model Fscore when using a threshold of \"+str(thresholds[i])\n",
    "        #print graphlab.evaluation.f1_score(kitchentestgl['label'], kitchentestgl['majority_minority_predictions'])\n",
    "        #print \"majority_minority_predictions' model Accuracy when using a threshold of \"+str(thresholds[i])\n",
    "        #print graphlab.evaluation.accuracy(kitchentestgl['label'], kitchentestgl['majority_minority_predictions'])\n",
    "        euc_Fscores.append(graphlab.evaluation.f1_score(kitchentestgl['label'], kitchentestgl['majority_minority_predictions']))\n",
    "        euc_Accs.append(graphlab.evaluation.accuracy(kitchentestgl['label'], kitchentestgl['majority_minority_predictions']))\n",
    "    print \"max euc acc\"\n",
    "    print max(euc_Accs)\n",
    "    max_euc_accs.append(max(euc_Accs))\n",
    "    largestdistances=[0.5633181597498838,0.5546099411237762,0.5240471587804418,0.5039841842356722,0.49261932743957626,0.487554486027983]\n",
    "    lowestdistances=[ 0.36080598790800533,0.3686636285328633,0.4070498131725162,0.40863691553859804,0.4114316511076972,0.4613234524061305]\n",
    "    Minor_domains = ['automotive_predictions','book_predictions','jewelrywatches_predictions','gourmet_predictions','dvd_predictions','grocery_predictions']\n",
    "\n",
    "    Major_domains = ['electronics_predictions','healthpersonal_predictions','cameraphoto_predictions','apparel_predictions','baby_predictions','beauty_predictions']\n",
    "    normalized_largestdistances = euclidean_norm_dict(largestdistances)\n",
    "    normalized_smallestdistances = euclidean_norm_dict(lowestdistances)\n",
    "    print \"Cosine distance results for the minority classifiers of random dataset \"+str(d)\n",
    "    cosine_Accs=[]\n",
    "    cosine_Fscores=[]\n",
    "    for i in range(len(thresholds)):\n",
    "        threshold=thresholds[i]\n",
    "        kitchentestgl['minority_predictions'] = kitchentestgl.apply(lambda x: weighted_predict_largedist(x,normalized_largestdistances,threshold) )\n",
    "        #print \"minority_predictions' model Fscore when using a threshold of \"+str(thresholds[i])\n",
    "        #print graphlab.evaluation.f1_score(kitchentestgl['label'], kitchentestgl['minority_predictions'])\n",
    "        #print \"minority_predictions' model Accuracy when using a threshold of \"+str(thresholds[i])\n",
    "        #print graphlab.evaluation.accuracy(kitchentestgl['label'], kitchentestgl['minority_predictions'])\n",
    "        cosine_Accs.append(graphlab.evaluation.accuracy(kitchentestgl['label'], kitchentestgl['minority_predictions']))\n",
    "        cosine_Fscores.append(graphlab.evaluation.f1_score(kitchentestgl['label'], kitchentestgl['minority_predictions']))\n",
    "    \n",
    "    print \"Cosine distance results for the Majority classifiers of random dataset \"+str(d)\n",
    "    for i in range(len(thresholds)):\n",
    "        threshold=thresholds[i]\n",
    "        kitchentestgl['majority_predictions'] = kitchentestgl.apply(lambda x: weighted_predict_smalldist(x,normalized_smallestdistances,threshold) )\n",
    "        #print \"majority_predictions' model Fscore when using a threshold of \"+str(thresholds[i])\n",
    "        #print graphlab.evaluation.f1_score(kitchentestgl['label'], kitchentestgl['majority_predictions'])\n",
    "        #print \"majority_predictions' model Accuracy when using a threshold of \"+str(thresholds[i])\n",
    "        #print graphlab.evaluation.accuracy(kitchentestgl['label'], kitchentestgl['majority_predictions'])\n",
    "        cosine_Accs.append(graphlab.evaluation.accuracy(kitchentestgl['label'], kitchentestgl['majority_predictions']))\n",
    "        cosine_Fscores.append(graphlab.evaluation.f1_score(kitchentestgl['label'], kitchentestgl['majority_predictions']))\n",
    "    \n",
    "    \n",
    "    print \"Cosine distance results for the Majority-Minority classifiers of random dataset \"+str(d)\n",
    "    \n",
    "    \n",
    "    for i in range(len(thresholds)):\n",
    "        threshold=thresholds[i]\n",
    "        kitchentestgl['majority_minority_predictions'] = kitchentestgl.apply(lambda x: weighted_predict_smalldist_largedistances(x,normalized_smallestdistances,normalized_largestdistances,threshold) )\n",
    "\n",
    "        #print \"majority_minority_predictions' model Fscore when using a threshold of \"+str(thresholds[i])\n",
    "        #print graphlab.evaluation.f1_score(kitchentestgl['label'], kitchentestgl['majority_minority_predictions'])\n",
    "        #print \"majority_minority_predictions' model Accuracy when using a threshold of \"+str(thresholds[i])\n",
    "        #print graphlab.evaluation.accuracy(kitchentestgl['label'], kitchentestgl['majority_minority_predictions'])\n",
    "        print \"max euc acc\"\n",
    "        cosine_Accs.append(graphlab.evaluation.accuracy(kitchentestgl['label'], kitchentestgl['majority_predictions']))\n",
    "        cosine_Fscores.append(graphlab.evaluation.f1_score(kitchentestgl['label'], kitchentestgl['majority_predictions']))\n",
    "    print max(cosine_Accs)\n",
    "    max_cosine_accs.append(max(cosine_Accs))\n",
    "    print \"data set \"+str(counter)+' was tested!'\n",
    "print \"max cosine acc\"\n",
    "print max_cosine_accs\n",
    "print \"max euc acc\"\n",
    "print max_euc_accs\n",
    "\n",
    "\n",
    "\n",
    "\n",
    "\n",
    "\n"
   ]
  },
  {
   "cell_type": "code",
   "execution_count": null,
   "metadata": {
    "collapsed": true
   },
   "outputs": [],
   "source": []
  },
  {
   "cell_type": "code",
   "execution_count": 93,
   "metadata": {
    "collapsed": false
   },
   "outputs": [
    {
     "data": {
      "text/html": [
       "<pre>Finished parsing file C:\\Users\\Omar\\kitchentestgl_random.csv</pre>"
      ],
      "text/plain": [
       "Finished parsing file C:\\Users\\Omar\\kitchentestgl_random.csv"
      ]
     },
     "metadata": {},
     "output_type": "display_data"
    },
    {
     "data": {
      "text/html": [
       "<pre>Parsing completed. Parsed 100 lines in 0.095929 secs.</pre>"
      ],
      "text/plain": [
       "Parsing completed. Parsed 100 lines in 0.095929 secs."
      ]
     },
     "metadata": {},
     "output_type": "display_data"
    },
    {
     "name": "stdout",
     "output_type": "stream",
     "text": [
      "------------------------------------------------------\n",
      "Inferred types from first 100 line(s) of file as \n",
      "column_type_hints=[str,long,str,str,str,str,str,long,long,long,long,long,long,long,long,long,long,long,long,long]\n",
      "If parsing fails due to incorrect types, you can correct\n",
      "the inferred type list above and pass it to read_csv in\n",
      "the column_type_hints argument\n",
      "------------------------------------------------------\n"
     ]
    },
    {
     "data": {
      "text/html": [
       "<pre>Finished parsing file C:\\Users\\Omar\\kitchentestgl_random.csv</pre>"
      ],
      "text/plain": [
       "Finished parsing file C:\\Users\\Omar\\kitchentestgl_random.csv"
      ]
     },
     "metadata": {},
     "output_type": "display_data"
    },
    {
     "data": {
      "text/html": [
       "<pre>Parsing completed. Parsed 1000 lines in 0.057974 secs.</pre>"
      ],
      "text/plain": [
       "Parsing completed. Parsed 1000 lines in 0.057974 secs."
      ]
     },
     "metadata": {},
     "output_type": "display_data"
    },
    {
     "name": "stdout",
     "output_type": "stream",
     "text": [
      "results for random dataset 1\n",
      "euclidean distance results for the minority classifiers of random dataset 1\n",
      "euclidean distance results for the Majority classifiers of random dataset 1\n",
      "euclidean distance results for the Majority-Minority classifiers of random dataset 1\n",
      "max euc acc\n",
      "0.866\n",
      "Cosine distance results for the minority classifiers of random dataset 1\n",
      "Cosine distance results for the Majority classifiers of random dataset 1\n",
      "Cosine distance results for the Majority-Minority classifiers of random dataset 1\n",
      "max euc acc\n",
      "max euc acc\n",
      "max euc acc\n",
      "max euc acc\n",
      "max euc acc\n",
      "0.866\n",
      "data set 1 was tested!\n"
     ]
    },
    {
     "data": {
      "text/html": [
       "<pre>Finished parsing file C:\\Users\\Omar\\kitchentestgl_random_2.csv</pre>"
      ],
      "text/plain": [
       "Finished parsing file C:\\Users\\Omar\\kitchentestgl_random_2.csv"
      ]
     },
     "metadata": {},
     "output_type": "display_data"
    },
    {
     "data": {
      "text/html": [
       "<pre>Parsing completed. Parsed 100 lines in 0.092945 secs.</pre>"
      ],
      "text/plain": [
       "Parsing completed. Parsed 100 lines in 0.092945 secs."
      ]
     },
     "metadata": {},
     "output_type": "display_data"
    },
    {
     "name": "stdout",
     "output_type": "stream",
     "text": [
      "------------------------------------------------------\n",
      "Inferred types from first 100 line(s) of file as \n",
      "column_type_hints=[str,long,str,str,str,str,str,long,long,long,long,long,long,long,long,long,long,long,long,long]\n",
      "If parsing fails due to incorrect types, you can correct\n",
      "the inferred type list above and pass it to read_csv in\n",
      "the column_type_hints argument\n",
      "------------------------------------------------------\n"
     ]
    },
    {
     "data": {
      "text/html": [
       "<pre>Finished parsing file C:\\Users\\Omar\\kitchentestgl_random_2.csv</pre>"
      ],
      "text/plain": [
       "Finished parsing file C:\\Users\\Omar\\kitchentestgl_random_2.csv"
      ]
     },
     "metadata": {},
     "output_type": "display_data"
    },
    {
     "data": {
      "text/html": [
       "<pre>Parsing completed. Parsed 1000 lines in 0.057966 secs.</pre>"
      ],
      "text/plain": [
       "Parsing completed. Parsed 1000 lines in 0.057966 secs."
      ]
     },
     "metadata": {},
     "output_type": "display_data"
    },
    {
     "name": "stdout",
     "output_type": "stream",
     "text": [
      "results for random dataset 2\n",
      "euclidean distance results for the minority classifiers of random dataset 2\n",
      "euclidean distance results for the Majority classifiers of random dataset 2\n",
      "euclidean distance results for the Majority-Minority classifiers of random dataset 2\n",
      "max euc acc\n",
      "0.889\n",
      "Cosine distance results for the minority classifiers of random dataset 2\n",
      "Cosine distance results for the Majority classifiers of random dataset 2\n",
      "Cosine distance results for the Majority-Minority classifiers of random dataset 2\n",
      "max euc acc\n",
      "max euc acc\n",
      "max euc acc\n",
      "max euc acc\n",
      "max euc acc\n",
      "0.889\n",
      "data set 2 was tested!\n"
     ]
    },
    {
     "data": {
      "text/html": [
       "<pre>Finished parsing file C:\\Users\\Omar\\kitchentestgl_random_3.csv</pre>"
      ],
      "text/plain": [
       "Finished parsing file C:\\Users\\Omar\\kitchentestgl_random_3.csv"
      ]
     },
     "metadata": {},
     "output_type": "display_data"
    },
    {
     "data": {
      "text/html": [
       "<pre>Parsing completed. Parsed 100 lines in 0.098942 secs.</pre>"
      ],
      "text/plain": [
       "Parsing completed. Parsed 100 lines in 0.098942 secs."
      ]
     },
     "metadata": {},
     "output_type": "display_data"
    },
    {
     "name": "stdout",
     "output_type": "stream",
     "text": [
      "------------------------------------------------------\n",
      "Inferred types from first 100 line(s) of file as \n",
      "column_type_hints=[str,long,str,str,str,str,str,long,long,long,long,long,long,long,long,long,long,long,long,long]\n",
      "If parsing fails due to incorrect types, you can correct\n",
      "the inferred type list above and pass it to read_csv in\n",
      "the column_type_hints argument\n",
      "------------------------------------------------------\n"
     ]
    },
    {
     "data": {
      "text/html": [
       "<pre>Finished parsing file C:\\Users\\Omar\\kitchentestgl_random_3.csv</pre>"
      ],
      "text/plain": [
       "Finished parsing file C:\\Users\\Omar\\kitchentestgl_random_3.csv"
      ]
     },
     "metadata": {},
     "output_type": "display_data"
    },
    {
     "data": {
      "text/html": [
       "<pre>Parsing completed. Parsed 1000 lines in 0.057967 secs.</pre>"
      ],
      "text/plain": [
       "Parsing completed. Parsed 1000 lines in 0.057967 secs."
      ]
     },
     "metadata": {},
     "output_type": "display_data"
    },
    {
     "name": "stdout",
     "output_type": "stream",
     "text": [
      "results for random dataset 3\n",
      "euclidean distance results for the minority classifiers of random dataset 3\n",
      "euclidean distance results for the Majority classifiers of random dataset 3\n",
      "euclidean distance results for the Majority-Minority classifiers of random dataset 3\n",
      "max euc acc\n",
      "0.872\n",
      "Cosine distance results for the minority classifiers of random dataset 3\n",
      "Cosine distance results for the Majority classifiers of random dataset 3\n",
      "Cosine distance results for the Majority-Minority classifiers of random dataset 3\n",
      "max euc acc\n",
      "max euc acc\n",
      "max euc acc\n",
      "max euc acc\n",
      "max euc acc\n",
      "0.872\n",
      "data set 3 was tested!\n"
     ]
    },
    {
     "data": {
      "text/html": [
       "<pre>Finished parsing file C:\\Users\\Omar\\kitchentestgl_random_4.csv</pre>"
      ],
      "text/plain": [
       "Finished parsing file C:\\Users\\Omar\\kitchentestgl_random_4.csv"
      ]
     },
     "metadata": {},
     "output_type": "display_data"
    },
    {
     "data": {
      "text/html": [
       "<pre>Parsing completed. Parsed 100 lines in 0.088949 secs.</pre>"
      ],
      "text/plain": [
       "Parsing completed. Parsed 100 lines in 0.088949 secs."
      ]
     },
     "metadata": {},
     "output_type": "display_data"
    },
    {
     "name": "stdout",
     "output_type": "stream",
     "text": [
      "------------------------------------------------------\n",
      "Inferred types from first 100 line(s) of file as \n",
      "column_type_hints=[str,long,str,str,str,str,str,long,long,long,long,long,long,long,long,long,long,long,long,long]\n",
      "If parsing fails due to incorrect types, you can correct\n",
      "the inferred type list above and pass it to read_csv in\n",
      "the column_type_hints argument\n",
      "------------------------------------------------------\n"
     ]
    },
    {
     "data": {
      "text/html": [
       "<pre>Finished parsing file C:\\Users\\Omar\\kitchentestgl_random_4.csv</pre>"
      ],
      "text/plain": [
       "Finished parsing file C:\\Users\\Omar\\kitchentestgl_random_4.csv"
      ]
     },
     "metadata": {},
     "output_type": "display_data"
    },
    {
     "data": {
      "text/html": [
       "<pre>Parsing completed. Parsed 1000 lines in 0.060963 secs.</pre>"
      ],
      "text/plain": [
       "Parsing completed. Parsed 1000 lines in 0.060963 secs."
      ]
     },
     "metadata": {},
     "output_type": "display_data"
    },
    {
     "name": "stdout",
     "output_type": "stream",
     "text": [
      "results for random dataset 4\n",
      "euclidean distance results for the minority classifiers of random dataset 4\n",
      "euclidean distance results for the Majority classifiers of random dataset 4\n",
      "euclidean distance results for the Majority-Minority classifiers of random dataset 4\n",
      "max euc acc\n",
      "0.88\n",
      "Cosine distance results for the minority classifiers of random dataset 4\n",
      "Cosine distance results for the Majority classifiers of random dataset 4\n",
      "Cosine distance results for the Majority-Minority classifiers of random dataset 4\n",
      "max euc acc\n",
      "max euc acc\n",
      "max euc acc\n",
      "max euc acc\n",
      "max euc acc\n",
      "0.88\n",
      "data set 4 was tested!\n"
     ]
    },
    {
     "data": {
      "text/html": [
       "<pre>Finished parsing file C:\\Users\\Omar\\kitchentestgl_random_5.csv</pre>"
      ],
      "text/plain": [
       "Finished parsing file C:\\Users\\Omar\\kitchentestgl_random_5.csv"
      ]
     },
     "metadata": {},
     "output_type": "display_data"
    },
    {
     "data": {
      "text/html": [
       "<pre>Parsing completed. Parsed 100 lines in 0.088948 secs.</pre>"
      ],
      "text/plain": [
       "Parsing completed. Parsed 100 lines in 0.088948 secs."
      ]
     },
     "metadata": {},
     "output_type": "display_data"
    },
    {
     "name": "stdout",
     "output_type": "stream",
     "text": [
      "------------------------------------------------------\n",
      "Inferred types from first 100 line(s) of file as \n",
      "column_type_hints=[str,long,str,str,str,str,str,long,long,long,long,long,long,long,long,long,long,long,long,long]\n",
      "If parsing fails due to incorrect types, you can correct\n",
      "the inferred type list above and pass it to read_csv in\n",
      "the column_type_hints argument\n",
      "------------------------------------------------------\n"
     ]
    },
    {
     "data": {
      "text/html": [
       "<pre>Finished parsing file C:\\Users\\Omar\\kitchentestgl_random_5.csv</pre>"
      ],
      "text/plain": [
       "Finished parsing file C:\\Users\\Omar\\kitchentestgl_random_5.csv"
      ]
     },
     "metadata": {},
     "output_type": "display_data"
    },
    {
     "data": {
      "text/html": [
       "<pre>Parsing completed. Parsed 1000 lines in 0.058965 secs.</pre>"
      ],
      "text/plain": [
       "Parsing completed. Parsed 1000 lines in 0.058965 secs."
      ]
     },
     "metadata": {},
     "output_type": "display_data"
    },
    {
     "name": "stdout",
     "output_type": "stream",
     "text": [
      "results for random dataset 5\n",
      "euclidean distance results for the minority classifiers of random dataset 5\n",
      "euclidean distance results for the Majority classifiers of random dataset 5\n",
      "euclidean distance results for the Majority-Minority classifiers of random dataset 5\n",
      "max euc acc\n",
      "0.874\n",
      "Cosine distance results for the minority classifiers of random dataset 5\n",
      "Cosine distance results for the Majority classifiers of random dataset 5\n",
      "Cosine distance results for the Majority-Minority classifiers of random dataset 5\n",
      "max euc acc\n",
      "max euc acc\n",
      "max euc acc\n",
      "max euc acc\n",
      "max euc acc\n",
      "0.874\n",
      "data set 5 was tested!\n",
      "max cosine acc\n",
      "[0.866, 0.889, 0.872, 0.88, 0.874]\n",
      "max euc acc\n",
      "[0.866, 0.889, 0.872, 0.88, 0.874]\n"
     ]
    }
   ],
   "source": [
    "from collections import defaultdict\n",
    "counter=0\n",
    "max_euc_accs=[]\n",
    "max_cosine_accs=[]\n",
    "euc_threshold_acc = defaultdict(list)\n",
    "cosine_threshold_acc = defaultdict(list)\n",
    "\n",
    "euc_threshold_fscore = defaultdict(list)\n",
    "cosine_threshold_fscore = defaultdict(list)\n",
    "for d in range(1,6):\n",
    "    i=d\n",
    "    counter+=1\n",
    "    if i==1:\n",
    "        kitchentestgl = graphlab.SFrame('kitchentestgl_random.csv')\n",
    "    else:\n",
    "        kitchentestgl = graphlab.SFrame('kitchentestgl_random_'+str(i)+'.csv')\n",
    "    print \"results for random dataset \"+str(d)\n",
    "    print \"euclidean distance results for the minority classifiers of random dataset \"+str(d)\n",
    "    largestdistances=[215.7683943491261,167.77067681809,99.84487968844472,97.77013859047148,97.01030873056739,96.97422337920526]\n",
    "    lowestdistances=[88.91006692158093,90.62008607367353,91.81503144910424,91.98369420718001,94.66255859631093,94.75230867899737]\n",
    "    Minor_domains = ['book_predictions','dvd_predictions','automotive_predictions','jewelrywatches_predictions','computervideo_predictions','gourmet_predictions']\n",
    "    Major_domains = ['healthpersonal_predictions','baby_predictions','cameraphoto_predictions','apparel_predictions','electronics_predictions','beauty_predictions']\n",
    "    normalized_largestdistances = euclidean_norm_dict(largestdistances)\n",
    "    normalized_smallestdistances = euclidean_norm_dict(lowestdistances)\n",
    "    thresholds = [0.5,0.6,0.7,0.8,0.9]\n",
    "    euc_Fscores = []\n",
    "    euc_Accs = []\n",
    "    for i in range(len(thresholds)):\n",
    "        threshold=thresholds[i]\n",
    "        \n",
    "        kitchentestgl['minority_predictions'] = kitchentestgl.apply(lambda x: weighted_predict_largedist(x,normalized_largestdistances,threshold) )\n",
    "        #print \"minority_predictions' model Fscore when using a threshold of \"+str(thresholds[i])\n",
    "        #print graphlab.evaluation.f1_score(kitchentestgl['label'], kitchentestgl['minority_predictions'])\n",
    "        #print \"minority_predictions' model Accuracy when using a threshold of \"+str(thresholds[i])\n",
    "        #print graphlab.evaluation.accuracy(kitchentestgl['label'], kitchentestgl['minority_predictions'])\n",
    "        euc_Fscores.append(graphlab.evaluation.f1_score(kitchentestgl['label'], kitchentestgl['minority_predictions']))\n",
    "        euc_Accs.append(graphlab.evaluation.accuracy(kitchentestgl['label'], kitchentestgl['minority_predictions']))\n",
    "        euc_threshold_acc[threshold].append(graphlab.evaluation.accuracy(kitchentestgl['label'], kitchentestgl['minority_predictions']))\n",
    "        euc_threshold_fscore[threshold].append(graphlab.evaluation.f1_score(kitchentestgl['label'], kitchentestgl['minority_predictions']))\n",
    "    print \"euclidean distance results for the Majority classifiers of random dataset \"+str(d)\n",
    "\n",
    "    euc_major_Fscores=[]\n",
    "    euc_major_Accs = []\n",
    "    for i in range(len(thresholds)):\n",
    "        threshold=thresholds[i]\n",
    "        kitchentestgl['majority_predictions'] = kitchentestgl.apply(lambda x: weighted_predict_smalldist(x,normalized_smallestdistances,threshold) )\n",
    "        #print \"majority_predictions' model Fscore when using a threshold of \"+str(thresholds[i])\n",
    "        #print graphlab.evaluation.f1_score(kitchentestgl['label'], kitchentestgl['majority_predictions'])\n",
    "        #print \"majority_predictions' model Accuracy when using a threshold of \"+str(thresholds[i])\n",
    "        #print graphlab.evaluation.accuracy(kitchentestgl['label'], kitchentestgl['majority_predictions'])\n",
    "        euc_Fscores.append(graphlab.evaluation.f1_score(kitchentestgl['label'], kitchentestgl['majority_predictions']))\n",
    "        euc_Accs.append(graphlab.evaluation.accuracy(kitchentestgl['label'], kitchentestgl['majority_predictions']))\n",
    "        euc_threshold_acc[threshold].append(graphlab.evaluation.accuracy(kitchentestgl['label'], kitchentestgl['majority_predictions']))\n",
    "        euc_threshold_fscore[threshold].append(graphlab.evaluation.f1_score(kitchentestgl['label'], kitchentestgl['majority_predictions']))\n",
    "    print \"euclidean distance results for the Majority-Minority classifiers of random dataset \"+str(d)\n",
    "\n",
    "    #threshold using all models\n",
    "    for i in range(len(thresholds)):\n",
    "        threshold=thresholds[i]\n",
    "        kitchentestgl['majority_minority_predictions'] = kitchentestgl.apply(lambda x: weighted_predict_smalldist_largedistances(x,normalized_smallestdistances,normalized_largestdistances,threshold) )\n",
    "\n",
    "        #print \"majority_minority_predictions' model Fscore when using a threshold of \"+str(thresholds[i])\n",
    "        #print graphlab.evaluation.f1_score(kitchentestgl['label'], kitchentestgl['majority_minority_predictions'])\n",
    "        #print \"majority_minority_predictions' model Accuracy when using a threshold of \"+str(thresholds[i])\n",
    "        #print graphlab.evaluation.accuracy(kitchentestgl['label'], kitchentestgl['majority_minority_predictions'])\n",
    "        euc_Fscores.append(graphlab.evaluation.f1_score(kitchentestgl['label'], kitchentestgl['majority_minority_predictions']))\n",
    "        euc_Accs.append(graphlab.evaluation.accuracy(kitchentestgl['label'], kitchentestgl['majority_minority_predictions']))\n",
    "        euc_threshold_acc[threshold].append(graphlab.evaluation.accuracy(kitchentestgl['label'], kitchentestgl['majority_minority_predictions']))\n",
    "        euc_threshold_fscore[threshold].append(graphlab.evaluation.f1_score(kitchentestgl['label'], kitchentestgl['majority_minority_predictions']))\n",
    "    print \"max euc acc\"\n",
    "    print max(euc_Accs)\n",
    "    max_euc_accs.append(max(euc_Accs))\n",
    "    largestdistances=[0.5633181597498838,0.5546099411237762,0.5240471587804418,0.5039841842356722,0.49261932743957626,0.487554486027983]\n",
    "    lowestdistances=[ 0.36080598790800533,0.3686636285328633,0.4070498131725162,0.40863691553859804,0.4114316511076972,0.4613234524061305]\n",
    "    Minor_domains = ['automotive_predictions','book_predictions','jewelrywatches_predictions','gourmet_predictions','dvd_predictions','grocery_predictions']\n",
    "\n",
    "    Major_domains = ['electronics_predictions','healthpersonal_predictions','cameraphoto_predictions','apparel_predictions','baby_predictions','beauty_predictions']\n",
    "    normalized_largestdistances = euclidean_norm_dict(largestdistances)\n",
    "    normalized_smallestdistances = euclidean_norm_dict(lowestdistances)\n",
    "    print \"Cosine distance results for the minority classifiers of random dataset \"+str(d)\n",
    "    cosine_Accs=[]\n",
    "    cosine_Fscores=[]\n",
    "    for i in range(len(thresholds)):\n",
    "        threshold=thresholds[i]\n",
    "        kitchentestgl['minority_predictions'] = kitchentestgl.apply(lambda x: weighted_predict_largedist(x,normalized_largestdistances,threshold) )\n",
    "        #print \"minority_predictions' model Fscore when using a threshold of \"+str(thresholds[i])\n",
    "        #print graphlab.evaluation.f1_score(kitchentestgl['label'], kitchentestgl['minority_predictions'])\n",
    "        #print \"minority_predictions' model Accuracy when using a threshold of \"+str(thresholds[i])\n",
    "        #print graphlab.evaluation.accuracy(kitchentestgl['label'], kitchentestgl['minority_predictions'])\n",
    "        cosine_Accs.append(graphlab.evaluation.accuracy(kitchentestgl['label'], kitchentestgl['minority_predictions']))\n",
    "        cosine_Fscores.append(graphlab.evaluation.f1_score(kitchentestgl['label'], kitchentestgl['minority_predictions']))\n",
    "        cosine_threshold_acc[threshold].append(graphlab.evaluation.accuracy(kitchentestgl['label'], kitchentestgl['minority_predictions']))\n",
    "        cosine_threshold_fscore[threshold].append(graphlab.evaluation.f1_score(kitchentestgl['label'], kitchentestgl['minority_predictions']))\n",
    "    \n",
    "    print \"Cosine distance results for the Majority classifiers of random dataset \"+str(d)\n",
    "    for i in range(len(thresholds)):\n",
    "        threshold=thresholds[i]\n",
    "        kitchentestgl['majority_predictions'] = kitchentestgl.apply(lambda x: weighted_predict_smalldist(x,normalized_smallestdistances,threshold) )\n",
    "        #print \"majority_predictions' model Fscore when using a threshold of \"+str(thresholds[i])\n",
    "        #print graphlab.evaluation.f1_score(kitchentestgl['label'], kitchentestgl['majority_predictions'])\n",
    "        #print \"majority_predictions' model Accuracy when using a threshold of \"+str(thresholds[i])\n",
    "        #print graphlab.evaluation.accuracy(kitchentestgl['label'], kitchentestgl['majority_predictions'])\n",
    "        cosine_Accs.append(graphlab.evaluation.accuracy(kitchentestgl['label'], kitchentestgl['majority_predictions']))\n",
    "        cosine_Fscores.append(graphlab.evaluation.f1_score(kitchentestgl['label'], kitchentestgl['majority_predictions']))\n",
    "        cosine_threshold_acc[threshold].append(graphlab.evaluation.accuracy(kitchentestgl['label'], kitchentestgl['majority_predictions']))\n",
    "        cosine_threshold_fscore[threshold].append(graphlab.evaluation.f1_score(kitchentestgl['label'], kitchentestgl['majority_predictions']))\n",
    "    \n",
    "    print \"Cosine distance results for the Majority-Minority classifiers of random dataset \"+str(d)\n",
    "    \n",
    "    \n",
    "    for i in range(len(thresholds)):\n",
    "        threshold=thresholds[i]\n",
    "        kitchentestgl['majority_minority_predictions'] = kitchentestgl.apply(lambda x: weighted_predict_smalldist_largedistances(x,normalized_smallestdistances,normalized_largestdistances,threshold) )\n",
    "\n",
    "        #print \"majority_minority_predictions' model Fscore when using a threshold of \"+str(thresholds[i])\n",
    "        #print graphlab.evaluation.f1_score(kitchentestgl['label'], kitchentestgl['majority_minority_predictions'])\n",
    "        #print \"majority_minority_predictions' model Accuracy when using a threshold of \"+str(thresholds[i])\n",
    "        #print graphlab.evaluation.accuracy(kitchentestgl['label'], kitchentestgl['majority_minority_predictions'])\n",
    "        print \"max euc acc\"\n",
    "        cosine_Accs.append(graphlab.evaluation.accuracy(kitchentestgl['label'], kitchentestgl['majority_minority_predictions']))\n",
    "        cosine_Fscores.append(graphlab.evaluation.f1_score(kitchentestgl['label'], kitchentestgl['majority_minority_predictions']))\n",
    "        cosine_threshold_acc[threshold].append(graphlab.evaluation.accuracy(kitchentestgl['label'], kitchentestgl['majority_minority_predictions']))\n",
    "        cosine_threshold_fscore[threshold].append(graphlab.evaluation.f1_score(kitchentestgl['label'], kitchentestgl['majority_minority_predictions']))\n",
    "    print max(cosine_Accs)\n",
    "    max_cosine_accs.append(max(cosine_Accs))\n",
    "    print \"data set \"+str(counter)+' was tested!'\n",
    "print \"max cosine acc\"\n",
    "print max_cosine_accs\n",
    "print \"max euc acc\"\n",
    "print max_euc_accs\n",
    "\n",
    "\n",
    "\n",
    "\n",
    "\n",
    "\n"
   ]
  },
  {
   "cell_type": "code",
   "execution_count": 94,
   "metadata": {
    "collapsed": true
   },
   "outputs": [],
   "source": [
    "thresholds = [0.5,0.6,0.7,0.8,0.9]\n",
    "euc_avg_th_acc = {}\n",
    "cosine_avg_th_acc = {}\n",
    "euc_avg_th_fscore = {}\n",
    "cosine_avg_th_fscore = {}\n",
    "\n",
    "for t in thresholds:\n",
    "    \n",
    "    euc_avg_th_acc[t] = sum(euc_threshold_acc[t]) / len(euc_threshold_acc[t])\n",
    "    cosine_avg_th_acc[t] = sum(cosine_threshold_acc[t]) / len(cosine_threshold_acc[t])\n",
    "    euc_avg_th_fscore[t] = sum(euc_threshold_fscore[t]) / len(euc_threshold_fscore[t])\n",
    "    cosine_avg_th_fscore[t] = sum(cosine_threshold_fscore[t]) / len(cosine_threshold_fscore[t])"
   ]
  },
  {
   "cell_type": "code",
   "execution_count": 95,
   "metadata": {
    "collapsed": false
   },
   "outputs": [
    {
     "name": "stdout",
     "output_type": "stream",
     "text": [
      "0.5\n",
      "average euclidean accuracy\n",
      "0.821533333333\n",
      "average euclidean fscore\n",
      "0.829459913163\n",
      "average cosine accuracy\n",
      "0.813266666667\n",
      "average cosine fscore\n",
      "0.82401206488\n",
      "0.6\n",
      "average euclidean accuracy\n",
      "0.802266666667\n",
      "average euclidean fscore\n",
      "0.768417102762\n",
      "average cosine accuracy\n",
      "0.832466666667\n",
      "average cosine fscore\n",
      "0.832561578786\n",
      "0.7\n",
      "average euclidean accuracy\n",
      "0.7722\n",
      "average euclidean fscore\n",
      "0.706310384372\n",
      "average cosine accuracy\n",
      "0.782466666667\n",
      "average cosine fscore\n",
      "0.721172531464\n",
      "0.8\n",
      "average euclidean accuracy\n",
      "0.7586\n",
      "average euclidean fscore\n",
      "0.682461244816\n",
      "average cosine accuracy\n",
      "0.7588\n",
      "average cosine fscore\n",
      "0.682886784815\n",
      "0.9\n",
      "average euclidean accuracy\n",
      "0.629066666667\n",
      "average euclidean fscore\n",
      "0.364457022455\n",
      "average cosine accuracy\n",
      "0.629066666667\n",
      "average cosine fscore\n",
      "0.364457022455\n"
     ]
    }
   ],
   "source": [
    "# across all classifiers.\n",
    "for t in thresholds:\n",
    "    print t\n",
    "    print \"average euclidean accuracy\"\n",
    "    print euc_avg_th_acc[t]\n",
    "    \n",
    "    print \"average euclidean fscore\"\n",
    "    print euc_avg_th_fscore[t]\n",
    "    \n",
    "    print \"average cosine accuracy\"\n",
    "    print cosine_avg_th_acc[t]\n",
    "    \n",
    "    print \"average cosine fscore\"\n",
    "    print cosine_avg_th_fscore[t]"
   ]
  },
  {
   "cell_type": "code",
   "execution_count": 14,
   "metadata": {
    "collapsed": false
   },
   "outputs": [
    {
     "data": {
      "text/html": [
       "<pre>Finished parsing file C:\\Users\\Omar\\kitchentestgl_random.csv</pre>"
      ],
      "text/plain": [
       "Finished parsing file C:\\Users\\Omar\\kitchentestgl_random.csv"
      ]
     },
     "metadata": {},
     "output_type": "display_data"
    },
    {
     "data": {
      "text/html": [
       "<pre>Parsing completed. Parsed 100 lines in 0.093743 secs.</pre>"
      ],
      "text/plain": [
       "Parsing completed. Parsed 100 lines in 0.093743 secs."
      ]
     },
     "metadata": {},
     "output_type": "display_data"
    },
    {
     "name": "stdout",
     "output_type": "stream",
     "text": [
      "------------------------------------------------------\n",
      "Inferred types from first 100 line(s) of file as \n",
      "column_type_hints=[str,long,str,str,str,str,str,long,long,long,long,long,long,long,long,long,long,long,long,long]\n",
      "If parsing fails due to incorrect types, you can correct\n",
      "the inferred type list above and pass it to read_csv in\n",
      "the column_type_hints argument\n",
      "------------------------------------------------------\n"
     ]
    },
    {
     "data": {
      "text/html": [
       "<pre>Finished parsing file C:\\Users\\Omar\\kitchentestgl_random.csv</pre>"
      ],
      "text/plain": [
       "Finished parsing file C:\\Users\\Omar\\kitchentestgl_random.csv"
      ]
     },
     "metadata": {},
     "output_type": "display_data"
    },
    {
     "data": {
      "text/html": [
       "<pre>Parsing completed. Parsed 1000 lines in 0.046867 secs.</pre>"
      ],
      "text/plain": [
       "Parsing completed. Parsed 1000 lines in 0.046867 secs."
      ]
     },
     "metadata": {},
     "output_type": "display_data"
    },
    {
     "name": "stdout",
     "output_type": "stream",
     "text": [
      "results for random dataset 1\n",
      "euclidean distance results for the minority classifiers of random dataset 1\n",
      "euclidean distance results for the Majority classifiers of random dataset 1\n",
      "euclidean distance results for the Majority-Minority classifiers of random dataset 1\n",
      "max euc acc\n",
      "0.866\n",
      "Cosine distance results for the minority classifiers of random dataset 1\n",
      "Cosine distance results for the Majority classifiers of random dataset 1\n",
      "Cosine distance results for the Majority-Minority classifiers of random dataset 1\n",
      "max euc acc\n",
      "max euc acc\n",
      "max euc acc\n",
      "max euc acc\n",
      "max euc acc\n",
      "0.866\n",
      "data set 1 was tested!\n"
     ]
    },
    {
     "data": {
      "text/html": [
       "<pre>Finished parsing file C:\\Users\\Omar\\kitchentestgl_random_2.csv</pre>"
      ],
      "text/plain": [
       "Finished parsing file C:\\Users\\Omar\\kitchentestgl_random_2.csv"
      ]
     },
     "metadata": {},
     "output_type": "display_data"
    },
    {
     "data": {
      "text/html": [
       "<pre>Parsing completed. Parsed 100 lines in 0.109367 secs.</pre>"
      ],
      "text/plain": [
       "Parsing completed. Parsed 100 lines in 0.109367 secs."
      ]
     },
     "metadata": {},
     "output_type": "display_data"
    },
    {
     "name": "stdout",
     "output_type": "stream",
     "text": [
      "------------------------------------------------------\n",
      "Inferred types from first 100 line(s) of file as \n",
      "column_type_hints=[str,long,str,str,str,str,str,long,long,long,long,long,long,long,long,long,long,long,long,long]\n",
      "If parsing fails due to incorrect types, you can correct\n",
      "the inferred type list above and pass it to read_csv in\n",
      "the column_type_hints argument\n",
      "------------------------------------------------------\n"
     ]
    },
    {
     "data": {
      "text/html": [
       "<pre>Finished parsing file C:\\Users\\Omar\\kitchentestgl_random_2.csv</pre>"
      ],
      "text/plain": [
       "Finished parsing file C:\\Users\\Omar\\kitchentestgl_random_2.csv"
      ]
     },
     "metadata": {},
     "output_type": "display_data"
    },
    {
     "data": {
      "text/html": [
       "<pre>Parsing completed. Parsed 1000 lines in 0.059983 secs.</pre>"
      ],
      "text/plain": [
       "Parsing completed. Parsed 1000 lines in 0.059983 secs."
      ]
     },
     "metadata": {},
     "output_type": "display_data"
    },
    {
     "name": "stdout",
     "output_type": "stream",
     "text": [
      "results for random dataset 2\n",
      "euclidean distance results for the minority classifiers of random dataset 2\n",
      "euclidean distance results for the Majority classifiers of random dataset 2\n",
      "euclidean distance results for the Majority-Minority classifiers of random dataset 2\n",
      "max euc acc\n",
      "0.889\n",
      "Cosine distance results for the minority classifiers of random dataset 2\n",
      "Cosine distance results for the Majority classifiers of random dataset 2\n",
      "Cosine distance results for the Majority-Minority classifiers of random dataset 2\n",
      "max euc acc\n",
      "max euc acc\n",
      "max euc acc\n",
      "max euc acc\n",
      "max euc acc\n",
      "0.889\n",
      "data set 2 was tested!\n"
     ]
    },
    {
     "data": {
      "text/html": [
       "<pre>Finished parsing file C:\\Users\\Omar\\kitchentestgl_random_3.csv</pre>"
      ],
      "text/plain": [
       "Finished parsing file C:\\Users\\Omar\\kitchentestgl_random_3.csv"
      ]
     },
     "metadata": {},
     "output_type": "display_data"
    },
    {
     "data": {
      "text/html": [
       "<pre>Parsing completed. Parsed 100 lines in 0.089948 secs.</pre>"
      ],
      "text/plain": [
       "Parsing completed. Parsed 100 lines in 0.089948 secs."
      ]
     },
     "metadata": {},
     "output_type": "display_data"
    },
    {
     "name": "stdout",
     "output_type": "stream",
     "text": [
      "------------------------------------------------------\n",
      "Inferred types from first 100 line(s) of file as \n",
      "column_type_hints=[str,long,str,str,str,str,str,long,long,long,long,long,long,long,long,long,long,long,long,long]\n",
      "If parsing fails due to incorrect types, you can correct\n",
      "the inferred type list above and pass it to read_csv in\n",
      "the column_type_hints argument\n",
      "------------------------------------------------------\n"
     ]
    },
    {
     "data": {
      "text/html": [
       "<pre>Finished parsing file C:\\Users\\Omar\\kitchentestgl_random_3.csv</pre>"
      ],
      "text/plain": [
       "Finished parsing file C:\\Users\\Omar\\kitchentestgl_random_3.csv"
      ]
     },
     "metadata": {},
     "output_type": "display_data"
    },
    {
     "data": {
      "text/html": [
       "<pre>Parsing completed. Parsed 1000 lines in 0.052128 secs.</pre>"
      ],
      "text/plain": [
       "Parsing completed. Parsed 1000 lines in 0.052128 secs."
      ]
     },
     "metadata": {},
     "output_type": "display_data"
    },
    {
     "name": "stdout",
     "output_type": "stream",
     "text": [
      "results for random dataset 3\n",
      "euclidean distance results for the minority classifiers of random dataset 3\n",
      "euclidean distance results for the Majority classifiers of random dataset 3\n",
      "euclidean distance results for the Majority-Minority classifiers of random dataset 3\n",
      "max euc acc\n",
      "0.872\n",
      "Cosine distance results for the minority classifiers of random dataset 3\n",
      "Cosine distance results for the Majority classifiers of random dataset 3\n",
      "Cosine distance results for the Majority-Minority classifiers of random dataset 3\n",
      "max euc acc\n",
      "max euc acc\n",
      "max euc acc\n",
      "max euc acc\n",
      "max euc acc\n",
      "0.872\n",
      "data set 3 was tested!\n"
     ]
    },
    {
     "data": {
      "text/html": [
       "<pre>Finished parsing file C:\\Users\\Omar\\kitchentestgl_random_4.csv</pre>"
      ],
      "text/plain": [
       "Finished parsing file C:\\Users\\Omar\\kitchentestgl_random_4.csv"
      ]
     },
     "metadata": {},
     "output_type": "display_data"
    },
    {
     "data": {
      "text/html": [
       "<pre>Parsing completed. Parsed 100 lines in 0.093743 secs.</pre>"
      ],
      "text/plain": [
       "Parsing completed. Parsed 100 lines in 0.093743 secs."
      ]
     },
     "metadata": {},
     "output_type": "display_data"
    },
    {
     "name": "stdout",
     "output_type": "stream",
     "text": [
      "------------------------------------------------------\n",
      "Inferred types from first 100 line(s) of file as \n",
      "column_type_hints=[str,long,str,str,str,str,str,long,long,long,long,long,long,long,long,long,long,long,long,long]\n",
      "If parsing fails due to incorrect types, you can correct\n",
      "the inferred type list above and pass it to read_csv in\n",
      "the column_type_hints argument\n",
      "------------------------------------------------------\n"
     ]
    },
    {
     "data": {
      "text/html": [
       "<pre>Finished parsing file C:\\Users\\Omar\\kitchentestgl_random_4.csv</pre>"
      ],
      "text/plain": [
       "Finished parsing file C:\\Users\\Omar\\kitchentestgl_random_4.csv"
      ]
     },
     "metadata": {},
     "output_type": "display_data"
    },
    {
     "data": {
      "text/html": [
       "<pre>Parsing completed. Parsed 1000 lines in 0.065766 secs.</pre>"
      ],
      "text/plain": [
       "Parsing completed. Parsed 1000 lines in 0.065766 secs."
      ]
     },
     "metadata": {},
     "output_type": "display_data"
    },
    {
     "name": "stdout",
     "output_type": "stream",
     "text": [
      "results for random dataset 4\n",
      "euclidean distance results for the minority classifiers of random dataset 4\n",
      "euclidean distance results for the Majority classifiers of random dataset 4\n",
      "euclidean distance results for the Majority-Minority classifiers of random dataset 4\n",
      "max euc acc\n",
      "0.88\n",
      "Cosine distance results for the minority classifiers of random dataset 4\n",
      "Cosine distance results for the Majority classifiers of random dataset 4\n",
      "Cosine distance results for the Majority-Minority classifiers of random dataset 4\n",
      "max euc acc\n",
      "max euc acc\n",
      "max euc acc\n",
      "max euc acc\n",
      "max euc acc\n",
      "0.88\n",
      "data set 4 was tested!\n"
     ]
    },
    {
     "data": {
      "text/html": [
       "<pre>Finished parsing file C:\\Users\\Omar\\kitchentestgl_random_5.csv</pre>"
      ],
      "text/plain": [
       "Finished parsing file C:\\Users\\Omar\\kitchentestgl_random_5.csv"
      ]
     },
     "metadata": {},
     "output_type": "display_data"
    },
    {
     "data": {
      "text/html": [
       "<pre>Parsing completed. Parsed 100 lines in 0.096412 secs.</pre>"
      ],
      "text/plain": [
       "Parsing completed. Parsed 100 lines in 0.096412 secs."
      ]
     },
     "metadata": {},
     "output_type": "display_data"
    },
    {
     "name": "stdout",
     "output_type": "stream",
     "text": [
      "------------------------------------------------------\n",
      "Inferred types from first 100 line(s) of file as \n",
      "column_type_hints=[str,long,str,str,str,str,str,long,long,long,long,long,long,long,long,long,long,long,long,long]\n",
      "If parsing fails due to incorrect types, you can correct\n",
      "the inferred type list above and pass it to read_csv in\n",
      "the column_type_hints argument\n",
      "------------------------------------------------------\n"
     ]
    },
    {
     "data": {
      "text/html": [
       "<pre>Finished parsing file C:\\Users\\Omar\\kitchentestgl_random_5.csv</pre>"
      ],
      "text/plain": [
       "Finished parsing file C:\\Users\\Omar\\kitchentestgl_random_5.csv"
      ]
     },
     "metadata": {},
     "output_type": "display_data"
    },
    {
     "data": {
      "text/html": [
       "<pre>Parsing completed. Parsed 1000 lines in 0.051328 secs.</pre>"
      ],
      "text/plain": [
       "Parsing completed. Parsed 1000 lines in 0.051328 secs."
      ]
     },
     "metadata": {},
     "output_type": "display_data"
    },
    {
     "name": "stdout",
     "output_type": "stream",
     "text": [
      "results for random dataset 5\n",
      "euclidean distance results for the minority classifiers of random dataset 5\n",
      "euclidean distance results for the Majority classifiers of random dataset 5\n",
      "euclidean distance results for the Majority-Minority classifiers of random dataset 5\n",
      "max euc acc\n",
      "0.874\n",
      "Cosine distance results for the minority classifiers of random dataset 5\n",
      "Cosine distance results for the Majority classifiers of random dataset 5\n",
      "Cosine distance results for the Majority-Minority classifiers of random dataset 5\n",
      "max euc acc\n",
      "max euc acc\n",
      "max euc acc\n",
      "max euc acc\n",
      "max euc acc\n",
      "0.874\n",
      "data set 5 was tested!\n",
      "max cosine acc\n",
      "[0.866, 0.889, 0.872, 0.88, 0.874]\n",
      "max euc acc\n",
      "[0.866, 0.889, 0.872, 0.88, 0.874]\n"
     ]
    }
   ],
   "source": [
    "from collections import defaultdict\n",
    "counter=0\n",
    "max_euc_accs=[]\n",
    "max_cosine_accs=[]\n",
    "euc_threshold_acc = defaultdict(list)\n",
    "cosine_threshold_acc = defaultdict(list)\n",
    "\n",
    "euc_threshold_fscore = defaultdict(list)\n",
    "cosine_threshold_fscore = defaultdict(list)\n",
    "for d in range(1,6):\n",
    "    i=d\n",
    "    counter+=1\n",
    "    if i==1:\n",
    "        kitchentestgl = graphlab.SFrame('kitchentestgl_random.csv')\n",
    "    else:\n",
    "        kitchentestgl = graphlab.SFrame('kitchentestgl_random_'+str(i)+'.csv')\n",
    "    print \"results for random dataset \"+str(d)\n",
    "    print \"euclidean distance results for the minority classifiers of random dataset \"+str(d)\n",
    "    largestdistances=[215.7683943491261,167.77067681809,99.84487968844472,97.77013859047148,97.01030873056739,96.97422337920526]\n",
    "    lowestdistances=[88.91006692158093,90.62008607367353,91.81503144910424,91.98369420718001,94.66255859631093,94.75230867899737]\n",
    "    Minor_domains = ['book_predictions','dvd_predictions','automotive_predictions','jewelrywatches_predictions','computervideo_predictions','gourmet_predictions']\n",
    "    Major_domains = ['healthpersonal_predictions','baby_predictions','cameraphoto_predictions','apparel_predictions','electronics_predictions','beauty_predictions']\n",
    "    normalized_largestdistances = euclidean_norm_dict(largestdistances)\n",
    "    normalized_smallestdistances = euclidean_norm_dict(lowestdistances)\n",
    "    thresholds = [0.5,0.6,0.7,0.8,0.9]\n",
    "    euc_Fscores = []\n",
    "    euc_Accs = []\n",
    "    for i in range(len(thresholds)):\n",
    "        threshold=thresholds[i]\n",
    "        \n",
    "        kitchentestgl['minority_predictions'] = kitchentestgl.apply(lambda x: weighted_predict_largedist(x,normalized_largestdistances,threshold) )\n",
    "        #print \"minority_predictions' model Fscore when using a threshold of \"+str(thresholds[i])\n",
    "        #print graphlab.evaluation.f1_score(kitchentestgl['label'], kitchentestgl['minority_predictions'])\n",
    "        #print \"minority_predictions' model Accuracy when using a threshold of \"+str(thresholds[i])\n",
    "        #print graphlab.evaluation.accuracy(kitchentestgl['label'], kitchentestgl['minority_predictions'])\n",
    "        euc_Fscores.append(graphlab.evaluation.f1_score(kitchentestgl['label'], kitchentestgl['minority_predictions']))\n",
    "        euc_Accs.append(graphlab.evaluation.accuracy(kitchentestgl['label'], kitchentestgl['minority_predictions']))\n",
    "        #euc_threshold_acc[threshold].append(graphlab.evaluation.accuracy(kitchentestgl['label'], kitchentestgl['minority_predictions']))\n",
    "        #euc_threshold_fscore[threshold].append(graphlab.evaluation.f1_score(kitchentestgl['label'], kitchentestgl['minority_predictions']))\n",
    "    print \"euclidean distance results for the Majority classifiers of random dataset \"+str(d)\n",
    "\n",
    "    euc_major_Fscores=[]\n",
    "    euc_major_Accs = []\n",
    "    for i in range(len(thresholds)):\n",
    "        threshold=thresholds[i]\n",
    "        kitchentestgl['majority_predictions'] = kitchentestgl.apply(lambda x: weighted_predict_smalldist(x,normalized_smallestdistances,threshold) )\n",
    "        #print \"majority_predictions' model Fscore when using a threshold of \"+str(thresholds[i])\n",
    "        #print graphlab.evaluation.f1_score(kitchentestgl['label'], kitchentestgl['majority_predictions'])\n",
    "        #print \"majority_predictions' model Accuracy when using a threshold of \"+str(thresholds[i])\n",
    "        #print graphlab.evaluation.accuracy(kitchentestgl['label'], kitchentestgl['majority_predictions'])\n",
    "        euc_Fscores.append(graphlab.evaluation.f1_score(kitchentestgl['label'], kitchentestgl['majority_predictions']))\n",
    "        euc_Accs.append(graphlab.evaluation.accuracy(kitchentestgl['label'], kitchentestgl['majority_predictions']))\n",
    "        euc_threshold_acc[threshold].append(graphlab.evaluation.accuracy(kitchentestgl['label'], kitchentestgl['majority_predictions']))\n",
    "        euc_threshold_fscore[threshold].append(graphlab.evaluation.f1_score(kitchentestgl['label'], kitchentestgl['majority_predictions']))\n",
    "    print \"euclidean distance results for the Majority-Minority classifiers of random dataset \"+str(d)\n",
    "\n",
    "    #threshold using all models\n",
    "    for i in range(len(thresholds)):\n",
    "        threshold=thresholds[i]\n",
    "        kitchentestgl['majority_minority_predictions'] = kitchentestgl.apply(lambda x: weighted_predict_smalldist_largedistances(x,normalized_smallestdistances,normalized_largestdistances,threshold) )\n",
    "\n",
    "        #print \"majority_minority_predictions' model Fscore when using a threshold of \"+str(thresholds[i])\n",
    "        #print graphlab.evaluation.f1_score(kitchentestgl['label'], kitchentestgl['majority_minority_predictions'])\n",
    "        #print \"majority_minority_predictions' model Accuracy when using a threshold of \"+str(thresholds[i])\n",
    "        #print graphlab.evaluation.accuracy(kitchentestgl['label'], kitchentestgl['majority_minority_predictions'])\n",
    "        euc_Fscores.append(graphlab.evaluation.f1_score(kitchentestgl['label'], kitchentestgl['majority_minority_predictions']))\n",
    "        euc_Accs.append(graphlab.evaluation.accuracy(kitchentestgl['label'], kitchentestgl['majority_minority_predictions']))\n",
    "        euc_threshold_acc[threshold].append(graphlab.evaluation.accuracy(kitchentestgl['label'], kitchentestgl['majority_minority_predictions']))\n",
    "        euc_threshold_fscore[threshold].append(graphlab.evaluation.f1_score(kitchentestgl['label'], kitchentestgl['majority_minority_predictions']))\n",
    "    print \"max euc acc\"\n",
    "    print max(euc_Accs)\n",
    "    max_euc_accs.append(max(euc_Accs))\n",
    "    largestdistances=[0.5633181597498838,0.5546099411237762,0.5240471587804418,0.5039841842356722,0.49261932743957626,0.487554486027983]\n",
    "    lowestdistances=[ 0.36080598790800533,0.3686636285328633,0.4070498131725162,0.40863691553859804,0.4114316511076972,0.4613234524061305]\n",
    "    Minor_domains = ['automotive_predictions','book_predictions','jewelrywatches_predictions','gourmet_predictions','dvd_predictions','grocery_predictions']\n",
    "\n",
    "    Major_domains = ['electronics_predictions','healthpersonal_predictions','cameraphoto_predictions','apparel_predictions','baby_predictions','beauty_predictions']\n",
    "    normalized_largestdistances = euclidean_norm_dict(largestdistances)\n",
    "    normalized_smallestdistances = euclidean_norm_dict(lowestdistances)\n",
    "    print \"Cosine distance results for the minority classifiers of random dataset \"+str(d)\n",
    "    cosine_Accs=[]\n",
    "    cosine_Fscores=[]\n",
    "    for i in range(len(thresholds)):\n",
    "        threshold=thresholds[i]\n",
    "        kitchentestgl['minority_predictions'] = kitchentestgl.apply(lambda x: weighted_predict_largedist(x,normalized_largestdistances,threshold) )\n",
    "        #print \"minority_predictions' model Fscore when using a threshold of \"+str(thresholds[i])\n",
    "        #print graphlab.evaluation.f1_score(kitchentestgl['label'], kitchentestgl['minority_predictions'])\n",
    "        #print \"minority_predictions' model Accuracy when using a threshold of \"+str(thresholds[i])\n",
    "        #print graphlab.evaluation.accuracy(kitchentestgl['label'], kitchentestgl['minority_predictions'])\n",
    "        cosine_Accs.append(graphlab.evaluation.accuracy(kitchentestgl['label'], kitchentestgl['minority_predictions']))\n",
    "        cosine_Fscores.append(graphlab.evaluation.f1_score(kitchentestgl['label'], kitchentestgl['minority_predictions']))\n",
    "        #cosine_threshold_acc[threshold].append(graphlab.evaluation.accuracy(kitchentestgl['label'], kitchentestgl['minority_predictions']))\n",
    "        #cosine_threshold_fscore[threshold].append(graphlab.evaluation.f1_score(kitchentestgl['label'], kitchentestgl['minority_predictions']))\n",
    "    \n",
    "    print \"Cosine distance results for the Majority classifiers of random dataset \"+str(d)\n",
    "    for i in range(len(thresholds)):\n",
    "        threshold=thresholds[i]\n",
    "        kitchentestgl['majority_predictions'] = kitchentestgl.apply(lambda x: weighted_predict_smalldist(x,normalized_smallestdistances,threshold) )\n",
    "        #print \"majority_predictions' model Fscore when using a threshold of \"+str(thresholds[i])\n",
    "        #print graphlab.evaluation.f1_score(kitchentestgl['label'], kitchentestgl['majority_predictions'])\n",
    "        #print \"majority_predictions' model Accuracy when using a threshold of \"+str(thresholds[i])\n",
    "        #print graphlab.evaluation.accuracy(kitchentestgl['label'], kitchentestgl['majority_predictions'])\n",
    "        cosine_Accs.append(graphlab.evaluation.accuracy(kitchentestgl['label'], kitchentestgl['majority_predictions']))\n",
    "        cosine_Fscores.append(graphlab.evaluation.f1_score(kitchentestgl['label'], kitchentestgl['majority_predictions']))\n",
    "        #cosine_threshold_acc[threshold].append(graphlab.evaluation.accuracy(kitchentestgl['label'], kitchentestgl['majority_predictions']))\n",
    "        #cosine_threshold_fscore[threshold].append(graphlab.evaluation.f1_score(kitchentestgl['label'], kitchentestgl['majority_predictions']))\n",
    "    \n",
    "    print \"Cosine distance results for the Majority-Minority classifiers of random dataset \"+str(d)\n",
    "    \n",
    "    \n",
    "    for i in range(len(thresholds)):\n",
    "        threshold=thresholds[i]\n",
    "        kitchentestgl['majority_minority_predictions'] = kitchentestgl.apply(lambda x: weighted_predict_smalldist_largedistances(x,normalized_smallestdistances,normalized_largestdistances,threshold) )\n",
    "\n",
    "        #print \"majority_minority_predictions' model Fscore when using a threshold of \"+str(thresholds[i])\n",
    "        #print graphlab.evaluation.f1_score(kitchentestgl['label'], kitchentestgl['majority_minority_predictions'])\n",
    "        #print \"majority_minority_predictions' model Accuracy when using a threshold of \"+str(thresholds[i])\n",
    "        #print graphlab.evaluation.accuracy(kitchentestgl['label'], kitchentestgl['majority_minority_predictions'])\n",
    "        print \"max euc acc\"\n",
    "        cosine_Accs.append(graphlab.evaluation.accuracy(kitchentestgl['label'], kitchentestgl['majority_minority_predictions']))\n",
    "        cosine_Fscores.append(graphlab.evaluation.f1_score(kitchentestgl['label'], kitchentestgl['majority_minority_predictions']))\n",
    "        cosine_threshold_acc[threshold].append(graphlab.evaluation.accuracy(kitchentestgl['label'], kitchentestgl['majority_minority_predictions']))\n",
    "        cosine_threshold_fscore[threshold].append(graphlab.evaluation.f1_score(kitchentestgl['label'], kitchentestgl['majority_minority_predictions']))\n",
    "    print max(cosine_Accs)\n",
    "    max_cosine_accs.append(max(cosine_Accs))\n",
    "    print \"data set \"+str(counter)+' was tested!'\n",
    "print \"max cosine acc\"\n",
    "print max_cosine_accs\n",
    "print \"max euc acc\"\n",
    "print max_euc_accs\n",
    "\n",
    "\n",
    "\n",
    "\n",
    "\n",
    "\n"
   ]
  },
  {
   "cell_type": "code",
   "execution_count": 103,
   "metadata": {
    "collapsed": true
   },
   "outputs": [],
   "source": [
    "thresholds = [0.5,0.6,0.7,0.8,0.9]\n",
    "euc_avg_th_acc = {}\n",
    "cosine_avg_th_acc = {}\n",
    "euc_avg_th_fscore = {}\n",
    "cosine_avg_th_fscore = {}\n",
    "\n",
    "for t in thresholds:\n",
    "    \n",
    "    euc_avg_th_acc[t] = sum(euc_threshold_acc[t]) / len(euc_threshold_acc[t])\n",
    "    cosine_avg_th_acc[t] = sum(cosine_threshold_acc[t]) / len(cosine_threshold_acc[t])\n",
    "    euc_avg_th_fscore[t] = sum(euc_threshold_fscore[t]) / len(euc_threshold_fscore[t])\n",
    "    cosine_avg_th_fscore[t] = sum(cosine_threshold_fscore[t]) / len(cosine_threshold_fscore[t])"
   ]
  },
  {
   "cell_type": "code",
   "execution_count": 104,
   "metadata": {
    "collapsed": false
   },
   "outputs": [
    {
     "name": "stdout",
     "output_type": "stream",
     "text": [
      "0.5\n",
      "average euclidean accuracy\n",
      "0.8508\n",
      "average euclidean fscore\n",
      "0.86220227785\n",
      "average cosine accuracy\n",
      "0.8438\n",
      "average cosine fscore\n",
      "0.857847656577\n",
      "0.6\n",
      "average euclidean accuracy\n",
      "0.8762\n",
      "average euclidean fscore\n",
      "0.877540784117\n",
      "average cosine accuracy\n",
      "0.8762\n",
      "average cosine fscore\n",
      "0.877540784117\n",
      "0.7\n",
      "average euclidean accuracy\n",
      "0.8554\n",
      "average euclidean fscore\n",
      "0.840696491628\n",
      "average cosine accuracy\n",
      "0.8554\n",
      "average cosine fscore\n",
      "0.840696491628\n",
      "0.8\n",
      "average euclidean accuracy\n",
      "0.8554\n",
      "average euclidean fscore\n",
      "0.840696491628\n",
      "average cosine accuracy\n",
      "0.8554\n",
      "average cosine fscore\n",
      "0.840696491628\n",
      "0.9\n",
      "average euclidean accuracy\n",
      "0.7654\n",
      "average euclidean fscore\n",
      "0.699732883581\n",
      "average cosine accuracy\n",
      "0.7654\n",
      "average cosine fscore\n",
      "0.699732883581\n"
     ]
    }
   ],
   "source": [
    "# across all majority classifiers\n",
    "for t in thresholds:\n",
    "    print t\n",
    "    print \"average euclidean accuracy\"\n",
    "    print euc_avg_th_acc[t]\n",
    "    \n",
    "    print \"average euclidean fscore\"\n",
    "    print euc_avg_th_fscore[t]\n",
    "    \n",
    "    print \"average cosine accuracy\"\n",
    "    print cosine_avg_th_acc[t]\n",
    "    \n",
    "    print \"average cosine fscore\"\n",
    "    print cosine_avg_th_fscore[t]"
   ]
  },
  {
   "cell_type": "code",
   "execution_count": 100,
   "metadata": {
    "collapsed": true
   },
   "outputs": [],
   "source": [
    "thresholds = [0.5,0.6,0.7,0.8,0.9]\n",
    "euc_avg_th_acc = {}\n",
    "cosine_avg_th_acc = {}\n",
    "euc_avg_th_fscore = {}\n",
    "cosine_avg_th_fscore = {}\n",
    "\n",
    "for t in thresholds:\n",
    "    \n",
    "    euc_avg_th_acc[t] = sum(euc_threshold_acc[t]) / len(euc_threshold_acc[t])\n",
    "    cosine_avg_th_acc[t] = sum(cosine_threshold_acc[t]) / len(cosine_threshold_acc[t])\n",
    "    euc_avg_th_fscore[t] = sum(euc_threshold_fscore[t]) / len(euc_threshold_fscore[t])\n",
    "    cosine_avg_th_fscore[t] = sum(cosine_threshold_fscore[t]) / len(cosine_threshold_fscore[t])"
   ]
  },
  {
   "cell_type": "code",
   "execution_count": 101,
   "metadata": {
    "collapsed": false
   },
   "outputs": [
    {
     "name": "stdout",
     "output_type": "stream",
     "text": [
      "0.5\n",
      "average euclidean accuracy\n",
      "0.8632\n",
      "average euclidean fscore\n",
      "0.872369376726\n",
      "average cosine accuracy\n",
      "0.845\n",
      "average cosine fscore\n",
      "0.860078593361\n",
      "0.6\n",
      "average euclidean accuracy\n",
      "0.8698\n",
      "average euclidean fscore\n",
      "0.865734009838\n",
      "average cosine accuracy\n",
      "0.8698\n",
      "average cosine fscore\n",
      "0.865734009838\n",
      "0.7\n",
      "average euclidean accuracy\n",
      "0.8088\n",
      "average euclidean fscore\n",
      "0.774069517935\n",
      "average cosine accuracy\n",
      "0.8396\n",
      "average cosine fscore\n",
      "0.818655959211\n",
      "0.8\n",
      "average euclidean accuracy\n",
      "0.7686\n",
      "average euclidean fscore\n",
      "0.703798719265\n",
      "average cosine accuracy\n",
      "0.7686\n",
      "average cosine fscore\n",
      "0.703798719265\n",
      "0.9\n",
      "average euclidean accuracy\n",
      "0.6218\n",
      "average euclidean fscore\n",
      "0.393638183785\n",
      "average cosine accuracy\n",
      "0.6218\n",
      "average cosine fscore\n",
      "0.393638183785\n"
     ]
    }
   ],
   "source": [
    "# across all majority-minority classifiers\n",
    "for t in thresholds:\n",
    "    print t\n",
    "    print \"average euclidean accuracy\"\n",
    "    print euc_avg_th_acc[t]\n",
    "    \n",
    "    print \"average euclidean fscore\"\n",
    "    print euc_avg_th_fscore[t]\n",
    "    \n",
    "    print \"average cosine accuracy\"\n",
    "    print cosine_avg_th_acc[t]\n",
    "    \n",
    "    print \"average cosine fscore\"\n",
    "    print cosine_avg_th_fscore[t]"
   ]
  },
  {
   "cell_type": "code",
   "execution_count": 106,
   "metadata": {
    "collapsed": true
   },
   "outputs": [],
   "source": [
    "thresholds = [0.5,0.6,0.7,0.8,0.9]\n",
    "euc_avg_th_acc = {}\n",
    "cosine_avg_th_acc = {}\n",
    "euc_avg_th_fscore = {}\n",
    "cosine_avg_th_fscore = {}\n",
    "\n",
    "for t in thresholds:\n",
    "    \n",
    "    euc_avg_th_acc[t] = sum(euc_threshold_acc[t]) / len(euc_threshold_acc[t])\n",
    "    cosine_avg_th_acc[t] = sum(cosine_threshold_acc[t]) / len(cosine_threshold_acc[t])\n",
    "    euc_avg_th_fscore[t] = sum(euc_threshold_fscore[t]) / len(euc_threshold_fscore[t])\n",
    "    cosine_avg_th_fscore[t] = sum(cosine_threshold_fscore[t]) / len(cosine_threshold_fscore[t])"
   ]
  },
  {
   "cell_type": "code",
   "execution_count": 107,
   "metadata": {
    "collapsed": false
   },
   "outputs": [
    {
     "name": "stdout",
     "output_type": "stream",
     "text": [
      "0.5\n",
      "average euclidean accuracy\n",
      "0.857\n",
      "average euclidean fscore\n",
      "0.867285827288\n",
      "average cosine accuracy\n",
      "0.8444\n",
      "average cosine fscore\n",
      "0.858963124969\n",
      "0.6\n",
      "average euclidean accuracy\n",
      "0.873\n",
      "average euclidean fscore\n",
      "0.871637396978\n",
      "average cosine accuracy\n",
      "0.873\n",
      "average cosine fscore\n",
      "0.871637396978\n",
      "0.7\n",
      "average euclidean accuracy\n",
      "0.8321\n",
      "average euclidean fscore\n",
      "0.807383004781\n",
      "average cosine accuracy\n",
      "0.8475\n",
      "average cosine fscore\n",
      "0.829676225419\n",
      "0.8\n",
      "average euclidean accuracy\n",
      "0.812\n",
      "average euclidean fscore\n",
      "0.772247605446\n",
      "average cosine accuracy\n",
      "0.812\n",
      "average cosine fscore\n",
      "0.772247605446\n",
      "0.9\n",
      "average euclidean accuracy\n",
      "0.6936\n",
      "average euclidean fscore\n",
      "0.546685533683\n",
      "average cosine accuracy\n",
      "0.6936\n",
      "average cosine fscore\n",
      "0.546685533683\n"
     ]
    }
   ],
   "source": [
    "# across all majority-minority and majority classifiers\n",
    "for t in thresholds:\n",
    "    print t\n",
    "    print \"average euclidean accuracy\"\n",
    "    print euc_avg_th_acc[t]\n",
    "    \n",
    "    print \"average euclidean fscore\"\n",
    "    print euc_avg_th_fscore[t]\n",
    "    \n",
    "    print \"average cosine accuracy\"\n",
    "    print cosine_avg_th_acc[t]\n",
    "    \n",
    "    print \"average cosine fscore\"\n",
    "    print cosine_avg_th_fscore[t]"
   ]
  },
  {
   "cell_type": "code",
   "execution_count": null,
   "metadata": {
    "collapsed": true
   },
   "outputs": [],
   "source": []
  },
  {
   "cell_type": "markdown",
   "metadata": {},
   "source": [
    "## Least performing classifiers    "
   ]
  },
  {
   "cell_type": "code",
   "execution_count": 11,
   "metadata": {
    "collapsed": false
   },
   "outputs": [
    {
     "data": {
      "text/html": [
       "<pre>Finished parsing file C:\\Users\\Omar\\kitchentestgl_random.csv</pre>"
      ],
      "text/plain": [
       "Finished parsing file C:\\Users\\Omar\\kitchentestgl_random.csv"
      ]
     },
     "metadata": {},
     "output_type": "display_data"
    },
    {
     "data": {
      "text/html": [
       "<pre>Parsing completed. Parsed 100 lines in 0.093741 secs.</pre>"
      ],
      "text/plain": [
       "Parsing completed. Parsed 100 lines in 0.093741 secs."
      ]
     },
     "metadata": {},
     "output_type": "display_data"
    },
    {
     "name": "stdout",
     "output_type": "stream",
     "text": [
      "------------------------------------------------------\n",
      "Inferred types from first 100 line(s) of file as \n",
      "column_type_hints=[str,long,str,str,str,str,str,long,long,long,long,long,long,long,long,long,long,long,long,long]\n",
      "If parsing fails due to incorrect types, you can correct\n",
      "the inferred type list above and pass it to read_csv in\n",
      "the column_type_hints argument\n",
      "------------------------------------------------------\n"
     ]
    },
    {
     "data": {
      "text/html": [
       "<pre>Finished parsing file C:\\Users\\Omar\\kitchentestgl_random.csv</pre>"
      ],
      "text/plain": [
       "Finished parsing file C:\\Users\\Omar\\kitchentestgl_random.csv"
      ]
     },
     "metadata": {},
     "output_type": "display_data"
    },
    {
     "data": {
      "text/html": [
       "<pre>Parsing completed. Parsed 1000 lines in 0.056728 secs.</pre>"
      ],
      "text/plain": [
       "Parsing completed. Parsed 1000 lines in 0.056728 secs."
      ]
     },
     "metadata": {},
     "output_type": "display_data"
    },
    {
     "name": "stdout",
     "output_type": "stream",
     "text": [
      "results for random dataset 1\n",
      "euclidean distance results for the minority classifiers of random dataset 1\n",
      "euclidean distance results for the Majority classifiers of random dataset 1\n",
      "euclidean distance results for the Majority-Minority classifiers of random dataset 1\n",
      "max euc acc\n",
      "0.764\n",
      "Cosine distance results for the minority classifiers of random dataset 1\n",
      "Cosine distance results for the Majority classifiers of random dataset 1\n",
      "Cosine distance results for the Majority-Minority classifiers of random dataset 1\n",
      "max euc acc\n",
      "max euc acc\n",
      "max euc acc\n",
      "max euc acc\n",
      "max euc acc\n",
      "0.765\n",
      "data set 1 was tested!\n"
     ]
    },
    {
     "data": {
      "text/html": [
       "<pre>Finished parsing file C:\\Users\\Omar\\kitchentestgl_random_2.csv</pre>"
      ],
      "text/plain": [
       "Finished parsing file C:\\Users\\Omar\\kitchentestgl_random_2.csv"
      ]
     },
     "metadata": {},
     "output_type": "display_data"
    },
    {
     "data": {
      "text/html": [
       "<pre>Parsing completed. Parsed 100 lines in 0.093743 secs.</pre>"
      ],
      "text/plain": [
       "Parsing completed. Parsed 100 lines in 0.093743 secs."
      ]
     },
     "metadata": {},
     "output_type": "display_data"
    },
    {
     "name": "stdout",
     "output_type": "stream",
     "text": [
      "------------------------------------------------------\n",
      "Inferred types from first 100 line(s) of file as \n",
      "column_type_hints=[str,long,str,str,str,str,str,long,long,long,long,long,long,long,long,long,long,long,long,long]\n",
      "If parsing fails due to incorrect types, you can correct\n",
      "the inferred type list above and pass it to read_csv in\n",
      "the column_type_hints argument\n",
      "------------------------------------------------------\n"
     ]
    },
    {
     "data": {
      "text/html": [
       "<pre>Finished parsing file C:\\Users\\Omar\\kitchentestgl_random_2.csv</pre>"
      ],
      "text/plain": [
       "Finished parsing file C:\\Users\\Omar\\kitchentestgl_random_2.csv"
      ]
     },
     "metadata": {},
     "output_type": "display_data"
    },
    {
     "data": {
      "text/html": [
       "<pre>Parsing completed. Parsed 1000 lines in 0.055138 secs.</pre>"
      ],
      "text/plain": [
       "Parsing completed. Parsed 1000 lines in 0.055138 secs."
      ]
     },
     "metadata": {},
     "output_type": "display_data"
    },
    {
     "name": "stdout",
     "output_type": "stream",
     "text": [
      "results for random dataset 2\n",
      "euclidean distance results for the minority classifiers of random dataset 2\n",
      "euclidean distance results for the Majority classifiers of random dataset 2\n",
      "euclidean distance results for the Majority-Minority classifiers of random dataset 2\n",
      "max euc acc\n",
      "0.748\n",
      "Cosine distance results for the minority classifiers of random dataset 2\n",
      "Cosine distance results for the Majority classifiers of random dataset 2\n",
      "Cosine distance results for the Majority-Minority classifiers of random dataset 2\n",
      "max euc acc\n",
      "max euc acc\n",
      "max euc acc\n",
      "max euc acc\n",
      "max euc acc\n",
      "0.749\n",
      "data set 2 was tested!\n"
     ]
    },
    {
     "data": {
      "text/html": [
       "<pre>Finished parsing file C:\\Users\\Omar\\kitchentestgl_random_3.csv</pre>"
      ],
      "text/plain": [
       "Finished parsing file C:\\Users\\Omar\\kitchentestgl_random_3.csv"
      ]
     },
     "metadata": {},
     "output_type": "display_data"
    },
    {
     "data": {
      "text/html": [
       "<pre>Parsing completed. Parsed 100 lines in 0.090961 secs.</pre>"
      ],
      "text/plain": [
       "Parsing completed. Parsed 100 lines in 0.090961 secs."
      ]
     },
     "metadata": {},
     "output_type": "display_data"
    },
    {
     "name": "stdout",
     "output_type": "stream",
     "text": [
      "------------------------------------------------------\n",
      "Inferred types from first 100 line(s) of file as \n",
      "column_type_hints=[str,long,str,str,str,str,str,long,long,long,long,long,long,long,long,long,long,long,long,long]\n",
      "If parsing fails due to incorrect types, you can correct\n",
      "the inferred type list above and pass it to read_csv in\n",
      "the column_type_hints argument\n",
      "------------------------------------------------------\n"
     ]
    },
    {
     "data": {
      "text/html": [
       "<pre>Finished parsing file C:\\Users\\Omar\\kitchentestgl_random_3.csv</pre>"
      ],
      "text/plain": [
       "Finished parsing file C:\\Users\\Omar\\kitchentestgl_random_3.csv"
      ]
     },
     "metadata": {},
     "output_type": "display_data"
    },
    {
     "data": {
      "text/html": [
       "<pre>Parsing completed. Parsed 1000 lines in 0.045446 secs.</pre>"
      ],
      "text/plain": [
       "Parsing completed. Parsed 1000 lines in 0.045446 secs."
      ]
     },
     "metadata": {},
     "output_type": "display_data"
    },
    {
     "name": "stdout",
     "output_type": "stream",
     "text": [
      "results for random dataset 3\n",
      "euclidean distance results for the minority classifiers of random dataset 3\n",
      "euclidean distance results for the Majority classifiers of random dataset 3\n",
      "euclidean distance results for the Majority-Minority classifiers of random dataset 3\n",
      "max euc acc\n",
      "0.75\n",
      "Cosine distance results for the minority classifiers of random dataset 3\n",
      "Cosine distance results for the Majority classifiers of random dataset 3\n",
      "Cosine distance results for the Majority-Minority classifiers of random dataset 3\n",
      "max euc acc\n",
      "max euc acc\n",
      "max euc acc\n",
      "max euc acc\n",
      "max euc acc\n",
      "0.752\n",
      "data set 3 was tested!\n"
     ]
    },
    {
     "data": {
      "text/html": [
       "<pre>Finished parsing file C:\\Users\\Omar\\kitchentestgl_random_4.csv</pre>"
      ],
      "text/plain": [
       "Finished parsing file C:\\Users\\Omar\\kitchentestgl_random_4.csv"
      ]
     },
     "metadata": {},
     "output_type": "display_data"
    },
    {
     "data": {
      "text/html": [
       "<pre>Parsing completed. Parsed 100 lines in 0.101941 secs.</pre>"
      ],
      "text/plain": [
       "Parsing completed. Parsed 100 lines in 0.101941 secs."
      ]
     },
     "metadata": {},
     "output_type": "display_data"
    },
    {
     "name": "stdout",
     "output_type": "stream",
     "text": [
      "------------------------------------------------------\n",
      "Inferred types from first 100 line(s) of file as \n",
      "column_type_hints=[str,long,str,str,str,str,str,long,long,long,long,long,long,long,long,long,long,long,long,long]\n",
      "If parsing fails due to incorrect types, you can correct\n",
      "the inferred type list above and pass it to read_csv in\n",
      "the column_type_hints argument\n",
      "------------------------------------------------------\n"
     ]
    },
    {
     "data": {
      "text/html": [
       "<pre>Finished parsing file C:\\Users\\Omar\\kitchentestgl_random_4.csv</pre>"
      ],
      "text/plain": [
       "Finished parsing file C:\\Users\\Omar\\kitchentestgl_random_4.csv"
      ]
     },
     "metadata": {},
     "output_type": "display_data"
    },
    {
     "data": {
      "text/html": [
       "<pre>Parsing completed. Parsed 1000 lines in 0.044775 secs.</pre>"
      ],
      "text/plain": [
       "Parsing completed. Parsed 1000 lines in 0.044775 secs."
      ]
     },
     "metadata": {},
     "output_type": "display_data"
    },
    {
     "name": "stdout",
     "output_type": "stream",
     "text": [
      "results for random dataset 4\n",
      "euclidean distance results for the minority classifiers of random dataset 4\n",
      "euclidean distance results for the Majority classifiers of random dataset 4\n",
      "euclidean distance results for the Majority-Minority classifiers of random dataset 4\n",
      "max euc acc\n",
      "0.752\n",
      "Cosine distance results for the minority classifiers of random dataset 4\n",
      "Cosine distance results for the Majority classifiers of random dataset 4\n",
      "Cosine distance results for the Majority-Minority classifiers of random dataset 4\n",
      "max euc acc\n",
      "max euc acc\n",
      "max euc acc\n",
      "max euc acc\n",
      "max euc acc\n",
      "0.752\n",
      "data set 4 was tested!\n"
     ]
    },
    {
     "data": {
      "text/html": [
       "<pre>Finished parsing file C:\\Users\\Omar\\kitchentestgl_random_5.csv</pre>"
      ],
      "text/plain": [
       "Finished parsing file C:\\Users\\Omar\\kitchentestgl_random_5.csv"
      ]
     },
     "metadata": {},
     "output_type": "display_data"
    },
    {
     "data": {
      "text/html": [
       "<pre>Parsing completed. Parsed 100 lines in 0.11081 secs.</pre>"
      ],
      "text/plain": [
       "Parsing completed. Parsed 100 lines in 0.11081 secs."
      ]
     },
     "metadata": {},
     "output_type": "display_data"
    },
    {
     "name": "stdout",
     "output_type": "stream",
     "text": [
      "------------------------------------------------------\n",
      "Inferred types from first 100 line(s) of file as \n",
      "column_type_hints=[str,long,str,str,str,str,str,long,long,long,long,long,long,long,long,long,long,long,long,long]\n",
      "If parsing fails due to incorrect types, you can correct\n",
      "the inferred type list above and pass it to read_csv in\n",
      "the column_type_hints argument\n",
      "------------------------------------------------------\n"
     ]
    },
    {
     "data": {
      "text/html": [
       "<pre>Finished parsing file C:\\Users\\Omar\\kitchentestgl_random_5.csv</pre>"
      ],
      "text/plain": [
       "Finished parsing file C:\\Users\\Omar\\kitchentestgl_random_5.csv"
      ]
     },
     "metadata": {},
     "output_type": "display_data"
    },
    {
     "data": {
      "text/html": [
       "<pre>Parsing completed. Parsed 1000 lines in 0.040411 secs.</pre>"
      ],
      "text/plain": [
       "Parsing completed. Parsed 1000 lines in 0.040411 secs."
      ]
     },
     "metadata": {},
     "output_type": "display_data"
    },
    {
     "name": "stdout",
     "output_type": "stream",
     "text": [
      "results for random dataset 5\n",
      "euclidean distance results for the minority classifiers of random dataset 5\n",
      "euclidean distance results for the Majority classifiers of random dataset 5\n",
      "euclidean distance results for the Majority-Minority classifiers of random dataset 5\n",
      "max euc acc\n",
      "0.739\n",
      "Cosine distance results for the minority classifiers of random dataset 5\n",
      "Cosine distance results for the Majority classifiers of random dataset 5\n",
      "Cosine distance results for the Majority-Minority classifiers of random dataset 5\n",
      "max euc acc\n",
      "max euc acc\n",
      "max euc acc\n",
      "max euc acc\n",
      "max euc acc\n",
      "0.739\n",
      "data set 5 was tested!\n",
      "max cosine acc\n",
      "[0.765, 0.749, 0.752, 0.752, 0.739]\n",
      "max euc acc\n",
      "[0.764, 0.748, 0.75, 0.752, 0.739]\n"
     ]
    }
   ],
   "source": [
    "from collections import defaultdict\n",
    "counter=0\n",
    "max_euc_accs=[]\n",
    "max_cosine_accs=[]\n",
    "euc_threshold_acc = defaultdict(list)\n",
    "cosine_threshold_acc = defaultdict(list)\n",
    "\n",
    "euc_threshold_fscore = defaultdict(list)\n",
    "cosine_threshold_fscore = defaultdict(list)\n",
    "for d in range(1,6):\n",
    "    i=d\n",
    "    counter+=1\n",
    "    if i==1:\n",
    "        kitchentestgl = graphlab.SFrame('kitchentestgl_random.csv')\n",
    "    else:\n",
    "        kitchentestgl = graphlab.SFrame('kitchentestgl_random_'+str(i)+'.csv')\n",
    "    print \"results for random dataset \"+str(d)\n",
    "    print \"euclidean distance results for the minority classifiers of random dataset \"+str(d)\n",
    "    largestdistances=[215.7683943491261,167.77067681809,99.84487968844472,97.77013859047148,97.01030873056739,96.97422337920526]\n",
    "    lowestdistances=[88.91006692158093,90.62008607367353,91.81503144910424,91.98369420718001,94.66255859631093,94.75230867899737]\n",
    "    Minor_domains = ['book_predictions','dvd_predictions','automotive_predictions','jewelrywatches_predictions','computervideo_predictions','gourmet_predictions']\n",
    "    Major_domains = ['healthpersonal_predictions','baby_predictions','cameraphoto_predictions','apparel_predictions','electronics_predictions','beauty_predictions']\n",
    "    normalized_largestdistances = euclidean_norm_dict(largestdistances)\n",
    "    normalized_smallestdistances = euclidean_norm_dict(lowestdistances)\n",
    "    thresholds = [0.5,0.6,0.7,0.8,0.9]\n",
    "    euc_Fscores = []\n",
    "    euc_Accs = []\n",
    "    for i in range(len(thresholds)):\n",
    "        threshold=thresholds[i]\n",
    "        \n",
    "        kitchentestgl['minority_predictions'] = kitchentestgl.apply(lambda x: weighted_predict_largedist(x,normalized_largestdistances,threshold) )\n",
    "        #print \"minority_predictions' model Fscore when using a threshold of \"+str(thresholds[i])\n",
    "        #print graphlab.evaluation.f1_score(kitchentestgl['label'], kitchentestgl['minority_predictions'])\n",
    "        #print \"minority_predictions' model Accuracy when using a threshold of \"+str(thresholds[i])\n",
    "        #print graphlab.evaluation.accuracy(kitchentestgl['label'], kitchentestgl['minority_predictions'])\n",
    "        euc_Fscores.append(graphlab.evaluation.f1_score(kitchentestgl['label'], kitchentestgl['minority_predictions']))\n",
    "        euc_Accs.append(graphlab.evaluation.accuracy(kitchentestgl['label'], kitchentestgl['minority_predictions']))\n",
    "        #euc_threshold_acc[threshold].append(graphlab.evaluation.accuracy(kitchentestgl['label'], kitchentestgl['minority_predictions']))\n",
    "        #euc_threshold_fscore[threshold].append(graphlab.evaluation.f1_score(kitchentestgl['label'], kitchentestgl['minority_predictions']))\n",
    "    print \"euclidean distance results for the Majority classifiers of random dataset \"+str(d)\n",
    "\n",
    "    euc_major_Fscores=[]\n",
    "    euc_major_Accs = []\n",
    "    for i in range(len(thresholds)):\n",
    "        threshold=thresholds[i]\n",
    "        kitchentestgl['majority_predictions'] = kitchentestgl.apply(lambda x: weighted_predict_smalldist(x,normalized_smallestdistances,threshold) )\n",
    "        #print \"majority_predictions' model Fscore when using a threshold of \"+str(thresholds[i])\n",
    "        #print graphlab.evaluation.f1_score(kitchentestgl['label'], kitchentestgl['majority_predictions'])\n",
    "        #print \"majority_predictions' model Accuracy when using a threshold of \"+str(thresholds[i])\n",
    "        #print graphlab.evaluation.accuracy(kitchentestgl['label'], kitchentestgl['majority_predictions'])\n",
    "        ##euc_Fscores.append(graphlab.evaluation.f1_score(kitchentestgl['label'], kitchentestgl['majority_predictions']))\n",
    "        ##euc_Accs.append(graphlab.evaluation.accuracy(kitchentestgl['label'], kitchentestgl['majority_predictions']))\n",
    "        euc_threshold_acc[threshold].append(graphlab.evaluation.accuracy(kitchentestgl['label'], kitchentestgl['majority_predictions']))\n",
    "        euc_threshold_fscore[threshold].append(graphlab.evaluation.f1_score(kitchentestgl['label'], kitchentestgl['majority_predictions']))\n",
    "    print \"euclidean distance results for the Majority-Minority classifiers of random dataset \"+str(d)\n",
    "\n",
    "    #threshold using all models\n",
    "    for i in range(len(thresholds)):\n",
    "        threshold=thresholds[i]\n",
    "        kitchentestgl['majority_minority_predictions'] = kitchentestgl.apply(lambda x: weighted_predict_smalldist_largedistances(x,normalized_smallestdistances,normalized_largestdistances,threshold) )\n",
    "\n",
    "        #print \"majority_minority_predictions' model Fscore when using a threshold of \"+str(thresholds[i])\n",
    "        #print graphlab.evaluation.f1_score(kitchentestgl['label'], kitchentestgl['majority_minority_predictions'])\n",
    "        #print \"majority_minority_predictions' model Accuracy when using a threshold of \"+str(thresholds[i])\n",
    "        #print graphlab.evaluation.accuracy(kitchentestgl['label'], kitchentestgl['majority_minority_predictions'])\n",
    "        ##euc_Fscores.append(graphlab.evaluation.f1_score(kitchentestgl['label'], kitchentestgl['majority_minority_predictions']))\n",
    "        ##euc_Accs.append(graphlab.evaluation.accuracy(kitchentestgl['label'], kitchentestgl['majority_minority_predictions']))\n",
    "        euc_threshold_acc[threshold].append(graphlab.evaluation.accuracy(kitchentestgl['label'], kitchentestgl['majority_minority_predictions']))\n",
    "        euc_threshold_fscore[threshold].append(graphlab.evaluation.f1_score(kitchentestgl['label'], kitchentestgl['majority_minority_predictions']))\n",
    "    print \"max euc acc\"\n",
    "    print max(euc_Accs)\n",
    "    max_euc_accs.append(max(euc_Accs))\n",
    "    largestdistances=[0.5633181597498838,0.5546099411237762,0.5240471587804418,0.5039841842356722,0.49261932743957626,0.487554486027983]\n",
    "    lowestdistances=[ 0.36080598790800533,0.3686636285328633,0.4070498131725162,0.40863691553859804,0.4114316511076972,0.4613234524061305]\n",
    "    Minor_domains = ['automotive_predictions','book_predictions','jewelrywatches_predictions','gourmet_predictions','dvd_predictions','grocery_predictions']\n",
    "\n",
    "    Major_domains = ['electronics_predictions','healthpersonal_predictions','cameraphoto_predictions','apparel_predictions','baby_predictions','beauty_predictions']\n",
    "    normalized_largestdistances = euclidean_norm_dict(largestdistances)\n",
    "    normalized_smallestdistances = euclidean_norm_dict(lowestdistances)\n",
    "    print \"Cosine distance results for the minority classifiers of random dataset \"+str(d)\n",
    "    cosine_Accs=[]\n",
    "    cosine_Fscores=[]\n",
    "    for i in range(len(thresholds)):\n",
    "        threshold=thresholds[i]\n",
    "        kitchentestgl['minority_predictions'] = kitchentestgl.apply(lambda x: weighted_predict_largedist(x,normalized_largestdistances,threshold) )\n",
    "        #print \"minority_predictions' model Fscore when using a threshold of \"+str(thresholds[i])\n",
    "        #print graphlab.evaluation.f1_score(kitchentestgl['label'], kitchentestgl['minority_predictions'])\n",
    "        #print \"minority_predictions' model Accuracy when using a threshold of \"+str(thresholds[i])\n",
    "        #print graphlab.evaluation.accuracy(kitchentestgl['label'], kitchentestgl['minority_predictions'])\n",
    "        cosine_Accs.append(graphlab.evaluation.accuracy(kitchentestgl['label'], kitchentestgl['minority_predictions']))\n",
    "        cosine_Fscores.append(graphlab.evaluation.f1_score(kitchentestgl['label'], kitchentestgl['minority_predictions']))\n",
    "        #cosine_threshold_acc[threshold].append(graphlab.evaluation.accuracy(kitchentestgl['label'], kitchentestgl['minority_predictions']))\n",
    "        #cosine_threshold_fscore[threshold].append(graphlab.evaluation.f1_score(kitchentestgl['label'], kitchentestgl['minority_predictions']))\n",
    "    \n",
    "    print \"Cosine distance results for the Majority classifiers of random dataset \"+str(d)\n",
    "    for i in range(len(thresholds)):\n",
    "        threshold=thresholds[i]\n",
    "        kitchentestgl['majority_predictions'] = kitchentestgl.apply(lambda x: weighted_predict_smalldist(x,normalized_smallestdistances,threshold) )\n",
    "        #print \"majority_predictions' model Fscore when using a threshold of \"+str(thresholds[i])\n",
    "        #print graphlab.evaluation.f1_score(kitchentestgl['label'], kitchentestgl['majority_predictions'])\n",
    "        #print \"majority_predictions' model Accuracy when using a threshold of \"+str(thresholds[i])\n",
    "        #print graphlab.evaluation.accuracy(kitchentestgl['label'], kitchentestgl['majority_predictions'])\n",
    "        ##cosine_Accs.append(graphlab.evaluation.accuracy(kitchentestgl['label'], kitchentestgl['majority_predictions']))\n",
    "        ##cosine_Fscores.append(graphlab.evaluation.f1_score(kitchentestgl['label'], kitchentestgl['majority_predictions']))\n",
    "        #cosine_threshold_acc[threshold].append(graphlab.evaluation.accuracy(kitchentestgl['label'], kitchentestgl['majority_predictions']))\n",
    "        #cosine_threshold_fscore[threshold].append(graphlab.evaluation.f1_score(kitchentestgl['label'], kitchentestgl['majority_predictions']))\n",
    "    \n",
    "    print \"Cosine distance results for the Majority-Minority classifiers of random dataset \"+str(d)\n",
    "    \n",
    "    \n",
    "    for i in range(len(thresholds)):\n",
    "        threshold=thresholds[i]\n",
    "        kitchentestgl['majority_minority_predictions'] = kitchentestgl.apply(lambda x: weighted_predict_smalldist_largedistances(x,normalized_smallestdistances,normalized_largestdistances,threshold) )\n",
    "\n",
    "        #print \"majority_minority_predictions' model Fscore when using a threshold of \"+str(thresholds[i])\n",
    "        #print graphlab.evaluation.f1_score(kitchentestgl['label'], kitchentestgl['majority_minority_predictions'])\n",
    "        #print \"majority_minority_predictions' model Accuracy when using a threshold of \"+str(thresholds[i])\n",
    "        #print graphlab.evaluation.accuracy(kitchentestgl['label'], kitchentestgl['majority_minority_predictions'])\n",
    "        print \"max euc acc\"\n",
    "        ##cosine_Accs.append(graphlab.evaluation.accuracy(kitchentestgl['label'], kitchentestgl['majority_minority_predictions']))\n",
    "        ##cosine_Fscores.append(graphlab.evaluation.f1_score(kitchentestgl['label'], kitchentestgl['majority_minority_predictions']))\n",
    "        cosine_threshold_acc[threshold].append(graphlab.evaluation.accuracy(kitchentestgl['label'], kitchentestgl['majority_minority_predictions']))\n",
    "        cosine_threshold_fscore[threshold].append(graphlab.evaluation.f1_score(kitchentestgl['label'], kitchentestgl['majority_minority_predictions']))\n",
    "    print max(cosine_Accs)\n",
    "    max_cosine_accs.append(max(cosine_Accs))\n",
    "    print \"data set \"+str(counter)+' was tested!'\n",
    "print \"max cosine acc\"\n",
    "print max_cosine_accs\n",
    "print \"max euc acc\"\n",
    "print max_euc_accs\n",
    "\n",
    "\n",
    "\n",
    "\n",
    "\n",
    "\n"
   ]
  },
  {
   "cell_type": "code",
   "execution_count": 6,
   "metadata": {
    "collapsed": false
   },
   "outputs": [
    {
     "data": {
      "text/html": [
       "<pre>Finished parsing file C:\\Users\\Omar\\kitchentestgl_random.csv</pre>"
      ],
      "text/plain": [
       "Finished parsing file C:\\Users\\Omar\\kitchentestgl_random.csv"
      ]
     },
     "metadata": {},
     "output_type": "display_data"
    },
    {
     "data": {
      "text/html": [
       "<pre>Parsing completed. Parsed 100 lines in 0.113935 secs.</pre>"
      ],
      "text/plain": [
       "Parsing completed. Parsed 100 lines in 0.113935 secs."
      ]
     },
     "metadata": {},
     "output_type": "display_data"
    },
    {
     "name": "stdout",
     "output_type": "stream",
     "text": [
      "------------------------------------------------------\n",
      "Inferred types from first 100 line(s) of file as \n",
      "column_type_hints=[str,long,str,str,str,str,str,long,long,long,long,long,long,long,long,long,long,long,long,long]\n",
      "If parsing fails due to incorrect types, you can correct\n",
      "the inferred type list above and pass it to read_csv in\n",
      "the column_type_hints argument\n",
      "------------------------------------------------------\n"
     ]
    },
    {
     "data": {
      "text/html": [
       "<pre>Finished parsing file C:\\Users\\Omar\\kitchentestgl_random.csv</pre>"
      ],
      "text/plain": [
       "Finished parsing file C:\\Users\\Omar\\kitchentestgl_random.csv"
      ]
     },
     "metadata": {},
     "output_type": "display_data"
    },
    {
     "data": {
      "text/html": [
       "<pre>Parsing completed. Parsed 1000 lines in 0.061964 secs.</pre>"
      ],
      "text/plain": [
       "Parsing completed. Parsed 1000 lines in 0.061964 secs."
      ]
     },
     "metadata": {},
     "output_type": "display_data"
    },
    {
     "name": "stdout",
     "output_type": "stream",
     "text": [
      "results for random dataset 1\n",
      "euclidean distance results for the minority classifiers of random dataset 1\n",
      "euclidean distance results for the Majority classifiers of random dataset 1\n",
      "euclidean distance results for the Majority-Minority classifiers of random dataset 1\n",
      "max euc acc\n",
      "0.765\n",
      "Cosine distance results for the minority classifiers of random dataset 1\n",
      "Cosine distance results for the Majority classifiers of random dataset 1\n",
      "Cosine distance results for the Majority-Minority classifiers of random dataset 1\n",
      "max euc acc\n",
      "max euc acc\n",
      "max euc acc\n",
      "max euc acc\n",
      "max euc acc\n",
      "0.765\n",
      "data set 1 was tested!\n"
     ]
    },
    {
     "data": {
      "text/html": [
       "<pre>Finished parsing file C:\\Users\\Omar\\kitchentestgl_random_2.csv</pre>"
      ],
      "text/plain": [
       "Finished parsing file C:\\Users\\Omar\\kitchentestgl_random_2.csv"
      ]
     },
     "metadata": {},
     "output_type": "display_data"
    },
    {
     "data": {
      "text/html": [
       "<pre>Parsing completed. Parsed 100 lines in 0.116055 secs.</pre>"
      ],
      "text/plain": [
       "Parsing completed. Parsed 100 lines in 0.116055 secs."
      ]
     },
     "metadata": {},
     "output_type": "display_data"
    },
    {
     "name": "stdout",
     "output_type": "stream",
     "text": [
      "------------------------------------------------------\n",
      "Inferred types from first 100 line(s) of file as \n",
      "column_type_hints=[str,long,str,str,str,str,str,long,long,long,long,long,long,long,long,long,long,long,long,long]\n",
      "If parsing fails due to incorrect types, you can correct\n",
      "the inferred type list above and pass it to read_csv in\n",
      "the column_type_hints argument\n",
      "------------------------------------------------------\n"
     ]
    },
    {
     "data": {
      "text/html": [
       "<pre>Finished parsing file C:\\Users\\Omar\\kitchentestgl_random_2.csv</pre>"
      ],
      "text/plain": [
       "Finished parsing file C:\\Users\\Omar\\kitchentestgl_random_2.csv"
      ]
     },
     "metadata": {},
     "output_type": "display_data"
    },
    {
     "data": {
      "text/html": [
       "<pre>Parsing completed. Parsed 1000 lines in 0.065276 secs.</pre>"
      ],
      "text/plain": [
       "Parsing completed. Parsed 1000 lines in 0.065276 secs."
      ]
     },
     "metadata": {},
     "output_type": "display_data"
    },
    {
     "name": "stdout",
     "output_type": "stream",
     "text": [
      "results for random dataset 2\n",
      "euclidean distance results for the minority classifiers of random dataset 2\n",
      "euclidean distance results for the Majority classifiers of random dataset 2\n",
      "euclidean distance results for the Majority-Minority classifiers of random dataset 2\n",
      "max euc acc\n",
      "0.748\n",
      "Cosine distance results for the minority classifiers of random dataset 2\n",
      "Cosine distance results for the Majority classifiers of random dataset 2\n",
      "Cosine distance results for the Majority-Minority classifiers of random dataset 2\n",
      "max euc acc\n",
      "max euc acc\n",
      "max euc acc\n",
      "max euc acc\n",
      "max euc acc\n",
      "0.749\n",
      "data set 2 was tested!\n"
     ]
    },
    {
     "data": {
      "text/html": [
       "<pre>Finished parsing file C:\\Users\\Omar\\kitchentestgl_random_3.csv</pre>"
      ],
      "text/plain": [
       "Finished parsing file C:\\Users\\Omar\\kitchentestgl_random_3.csv"
      ]
     },
     "metadata": {},
     "output_type": "display_data"
    },
    {
     "data": {
      "text/html": [
       "<pre>Parsing completed. Parsed 100 lines in 0.119931 secs.</pre>"
      ],
      "text/plain": [
       "Parsing completed. Parsed 100 lines in 0.119931 secs."
      ]
     },
     "metadata": {},
     "output_type": "display_data"
    },
    {
     "name": "stdout",
     "output_type": "stream",
     "text": [
      "------------------------------------------------------\n",
      "Inferred types from first 100 line(s) of file as \n",
      "column_type_hints=[str,long,str,str,str,str,str,long,long,long,long,long,long,long,long,long,long,long,long,long]\n",
      "If parsing fails due to incorrect types, you can correct\n",
      "the inferred type list above and pass it to read_csv in\n",
      "the column_type_hints argument\n",
      "------------------------------------------------------\n"
     ]
    },
    {
     "data": {
      "text/html": [
       "<pre>Finished parsing file C:\\Users\\Omar\\kitchentestgl_random_3.csv</pre>"
      ],
      "text/plain": [
       "Finished parsing file C:\\Users\\Omar\\kitchentestgl_random_3.csv"
      ]
     },
     "metadata": {},
     "output_type": "display_data"
    },
    {
     "data": {
      "text/html": [
       "<pre>Parsing completed. Parsed 1000 lines in 0.067961 secs.</pre>"
      ],
      "text/plain": [
       "Parsing completed. Parsed 1000 lines in 0.067961 secs."
      ]
     },
     "metadata": {},
     "output_type": "display_data"
    },
    {
     "name": "stdout",
     "output_type": "stream",
     "text": [
      "results for random dataset 3\n",
      "euclidean distance results for the minority classifiers of random dataset 3\n",
      "euclidean distance results for the Majority classifiers of random dataset 3\n",
      "euclidean distance results for the Majority-Minority classifiers of random dataset 3\n",
      "max euc acc\n",
      "0.751\n",
      "Cosine distance results for the minority classifiers of random dataset 3\n",
      "Cosine distance results for the Majority classifiers of random dataset 3\n",
      "Cosine distance results for the Majority-Minority classifiers of random dataset 3\n",
      "max euc acc\n",
      "max euc acc\n",
      "max euc acc\n",
      "max euc acc\n",
      "max euc acc\n",
      "0.752\n",
      "data set 3 was tested!\n"
     ]
    },
    {
     "data": {
      "text/html": [
       "<pre>Finished parsing file C:\\Users\\Omar\\kitchentestgl_random_4.csv</pre>"
      ],
      "text/plain": [
       "Finished parsing file C:\\Users\\Omar\\kitchentestgl_random_4.csv"
      ]
     },
     "metadata": {},
     "output_type": "display_data"
    },
    {
     "data": {
      "text/html": [
       "<pre>Parsing completed. Parsed 100 lines in 0.117931 secs.</pre>"
      ],
      "text/plain": [
       "Parsing completed. Parsed 100 lines in 0.117931 secs."
      ]
     },
     "metadata": {},
     "output_type": "display_data"
    },
    {
     "name": "stdout",
     "output_type": "stream",
     "text": [
      "------------------------------------------------------\n",
      "Inferred types from first 100 line(s) of file as \n",
      "column_type_hints=[str,long,str,str,str,str,str,long,long,long,long,long,long,long,long,long,long,long,long,long]\n",
      "If parsing fails due to incorrect types, you can correct\n",
      "the inferred type list above and pass it to read_csv in\n",
      "the column_type_hints argument\n",
      "------------------------------------------------------\n"
     ]
    },
    {
     "data": {
      "text/html": [
       "<pre>Finished parsing file C:\\Users\\Omar\\kitchentestgl_random_4.csv</pre>"
      ],
      "text/plain": [
       "Finished parsing file C:\\Users\\Omar\\kitchentestgl_random_4.csv"
      ]
     },
     "metadata": {},
     "output_type": "display_data"
    },
    {
     "data": {
      "text/html": [
       "<pre>Parsing completed. Parsed 1000 lines in 0.057967 secs.</pre>"
      ],
      "text/plain": [
       "Parsing completed. Parsed 1000 lines in 0.057967 secs."
      ]
     },
     "metadata": {},
     "output_type": "display_data"
    },
    {
     "name": "stdout",
     "output_type": "stream",
     "text": [
      "results for random dataset 4\n",
      "euclidean distance results for the minority classifiers of random dataset 4\n",
      "euclidean distance results for the Majority classifiers of random dataset 4\n",
      "euclidean distance results for the Majority-Minority classifiers of random dataset 4\n",
      "max euc acc\n",
      "0.752\n",
      "Cosine distance results for the minority classifiers of random dataset 4\n",
      "Cosine distance results for the Majority classifiers of random dataset 4\n",
      "Cosine distance results for the Majority-Minority classifiers of random dataset 4\n",
      "max euc acc\n",
      "max euc acc\n",
      "max euc acc\n",
      "max euc acc\n",
      "max euc acc\n",
      "0.752\n",
      "data set 4 was tested!\n"
     ]
    },
    {
     "data": {
      "text/html": [
       "<pre>Finished parsing file C:\\Users\\Omar\\kitchentestgl_random_5.csv</pre>"
      ],
      "text/plain": [
       "Finished parsing file C:\\Users\\Omar\\kitchentestgl_random_5.csv"
      ]
     },
     "metadata": {},
     "output_type": "display_data"
    },
    {
     "data": {
      "text/html": [
       "<pre>Parsing completed. Parsed 100 lines in 0.109937 secs.</pre>"
      ],
      "text/plain": [
       "Parsing completed. Parsed 100 lines in 0.109937 secs."
      ]
     },
     "metadata": {},
     "output_type": "display_data"
    },
    {
     "name": "stdout",
     "output_type": "stream",
     "text": [
      "------------------------------------------------------\n",
      "Inferred types from first 100 line(s) of file as \n",
      "column_type_hints=[str,long,str,str,str,str,str,long,long,long,long,long,long,long,long,long,long,long,long,long]\n",
      "If parsing fails due to incorrect types, you can correct\n",
      "the inferred type list above and pass it to read_csv in\n",
      "the column_type_hints argument\n",
      "------------------------------------------------------\n"
     ]
    },
    {
     "data": {
      "text/html": [
       "<pre>Finished parsing file C:\\Users\\Omar\\kitchentestgl_random_5.csv</pre>"
      ],
      "text/plain": [
       "Finished parsing file C:\\Users\\Omar\\kitchentestgl_random_5.csv"
      ]
     },
     "metadata": {},
     "output_type": "display_data"
    },
    {
     "data": {
      "text/html": [
       "<pre>Parsing completed. Parsed 1000 lines in 0.056966 secs.</pre>"
      ],
      "text/plain": [
       "Parsing completed. Parsed 1000 lines in 0.056966 secs."
      ]
     },
     "metadata": {},
     "output_type": "display_data"
    },
    {
     "name": "stdout",
     "output_type": "stream",
     "text": [
      "results for random dataset 5\n",
      "euclidean distance results for the minority classifiers of random dataset 5\n",
      "euclidean distance results for the Majority classifiers of random dataset 5\n",
      "euclidean distance results for the Majority-Minority classifiers of random dataset 5\n",
      "max euc acc\n",
      "0.743\n",
      "Cosine distance results for the minority classifiers of random dataset 5\n",
      "Cosine distance results for the Majority classifiers of random dataset 5\n",
      "Cosine distance results for the Majority-Minority classifiers of random dataset 5\n",
      "max euc acc\n",
      "max euc acc\n",
      "max euc acc\n",
      "max euc acc\n",
      "max euc acc\n",
      "0.739\n",
      "data set 5 was tested!\n",
      "max cosine acc\n",
      "[0.765, 0.749, 0.752, 0.752, 0.739]\n",
      "max euc acc\n",
      "[0.765, 0.748, 0.751, 0.752, 0.743]\n"
     ]
    }
   ],
   "source": [
    "##inverted weights\n",
    "\n",
    "from collections import defaultdict\n",
    "counter=0\n",
    "max_euc_accs=[]\n",
    "max_cosine_accs=[]\n",
    "euc_threshold_acc = defaultdict(list)\n",
    "cosine_threshold_acc = defaultdict(list)\n",
    "\n",
    "euc_threshold_fscore = defaultdict(list)\n",
    "cosine_threshold_fscore = defaultdict(list)\n",
    "for d in range(1,6):\n",
    "    i=d\n",
    "    counter+=1\n",
    "    if i==1:\n",
    "        kitchentestgl = graphlab.SFrame('kitchentestgl_random.csv')\n",
    "    else:\n",
    "        kitchentestgl = graphlab.SFrame('kitchentestgl_random_'+str(i)+'.csv')\n",
    "    print \"results for random dataset \"+str(d)\n",
    "    print \"euclidean distance results for the minority classifiers of random dataset \"+str(d)\n",
    "    largestdistances=[215.7683943491261,167.77067681809,99.84487968844472,97.77013859047148,97.01030873056739,96.97422337920526]\n",
    "    lowestdistances=[88.91006692158093,90.62008607367353,91.81503144910424,91.98369420718001,94.66255859631093,94.75230867899737]\n",
    "    Minor_domains = ['book_predictions','dvd_predictions','automotive_predictions','jewelrywatches_predictions','computervideo_predictions','gourmet_predictions']\n",
    "    Major_domains = ['healthpersonal_predictions','baby_predictions','cameraphoto_predictions','apparel_predictions','electronics_predictions','beauty_predictions']\n",
    "    normalized_largestdistances = euclidean_norm_dict(largestdistances)\n",
    "    normalized_smallestdistances = euclidean_norm_dict(lowestdistances)\n",
    "    normalized_largestdistances_inverted = [0] * len(normalized_largestdistances)\n",
    "    normalized_smallestdistances_inverted = [0] * len(normalized_smallestdistances)\n",
    "    for i in range(len(normalized_largestdistances)):\n",
    "        normalized_largestdistances_inverted[i] = 1 - normalized_largestdistances[i]\n",
    "    \n",
    "    for j in range(len(normalized_smallestdistances)):\n",
    "        normalized_smallestdistances_inverted[j] = 1 - normalized_smallestdistances[j]\n",
    "    thresholds = [0.5,0.6,0.7,0.8,0.9]\n",
    "    euc_Fscores = []\n",
    "    euc_Accs = []\n",
    "    for i in range(len(thresholds)):\n",
    "        threshold=thresholds[i]\n",
    "        \n",
    "        kitchentestgl['minority_predictions'] = kitchentestgl.apply(lambda x: weighted_predict_largedist(x,normalized_largestdistances_inverted,threshold) )\n",
    "        #print \"minority_predictions' model Fscore when using a threshold of \"+str(thresholds[i])\n",
    "        #print graphlab.evaluation.f1_score(kitchentestgl['label'], kitchentestgl['minority_predictions'])\n",
    "        #print \"minority_predictions' model Accuracy when using a threshold of \"+str(thresholds[i])\n",
    "        #print graphlab.evaluation.accuracy(kitchentestgl['label'], kitchentestgl['minority_predictions'])\n",
    "        euc_Fscores.append(graphlab.evaluation.f1_score(kitchentestgl['label'], kitchentestgl['minority_predictions']))\n",
    "        euc_Accs.append(graphlab.evaluation.accuracy(kitchentestgl['label'], kitchentestgl['minority_predictions']))\n",
    "        #euc_threshold_acc[threshold].append(graphlab.evaluation.accuracy(kitchentestgl['label'], kitchentestgl['minority_predictions']))\n",
    "        #euc_threshold_fscore[threshold].append(graphlab.evaluation.f1_score(kitchentestgl['label'], kitchentestgl['minority_predictions']))\n",
    "    print \"euclidean distance results for the Majority classifiers of random dataset \"+str(d)\n",
    "\n",
    "    euc_major_Fscores=[]\n",
    "    euc_major_Accs = []\n",
    "    for i in range(len(thresholds)):\n",
    "        threshold=thresholds[i]\n",
    "        kitchentestgl['majority_predictions'] = kitchentestgl.apply(lambda x: weighted_predict_smalldist(x,normalized_smallestdistances,threshold) )\n",
    "        #print \"majority_predictions' model Fscore when using a threshold of \"+str(thresholds[i])\n",
    "        #print graphlab.evaluation.f1_score(kitchentestgl['label'], kitchentestgl['majority_predictions'])\n",
    "        #print \"majority_predictions' model Accuracy when using a threshold of \"+str(thresholds[i])\n",
    "        #print graphlab.evaluation.accuracy(kitchentestgl['label'], kitchentestgl['majority_predictions'])\n",
    "        ##euc_Fscores.append(graphlab.evaluation.f1_score(kitchentestgl['label'], kitchentestgl['majority_predictions']))\n",
    "        ##euc_Accs.append(graphlab.evaluation.accuracy(kitchentestgl['label'], kitchentestgl['majority_predictions']))\n",
    "        euc_threshold_acc[threshold].append(graphlab.evaluation.accuracy(kitchentestgl['label'], kitchentestgl['majority_predictions']))\n",
    "        euc_threshold_fscore[threshold].append(graphlab.evaluation.f1_score(kitchentestgl['label'], kitchentestgl['majority_predictions']))\n",
    "    print \"euclidean distance results for the Majority-Minority classifiers of random dataset \"+str(d)\n",
    "\n",
    "    #threshold using all models\n",
    "    for i in range(len(thresholds)):\n",
    "        threshold=thresholds[i]\n",
    "        kitchentestgl['majority_minority_predictions'] = kitchentestgl.apply(lambda x: weighted_predict_smalldist_largedistances(x,normalized_smallestdistances,normalized_largestdistances,threshold) )\n",
    "\n",
    "        #print \"majority_minority_predictions' model Fscore when using a threshold of \"+str(thresholds[i])\n",
    "        #print graphlab.evaluation.f1_score(kitchentestgl['label'], kitchentestgl['majority_minority_predictions'])\n",
    "        #print \"majority_minority_predictions' model Accuracy when using a threshold of \"+str(thresholds[i])\n",
    "        #print graphlab.evaluation.accuracy(kitchentestgl['label'], kitchentestgl['majority_minority_predictions'])\n",
    "        ##euc_Fscores.append(graphlab.evaluation.f1_score(kitchentestgl['label'], kitchentestgl['majority_minority_predictions']))\n",
    "        ##euc_Accs.append(graphlab.evaluation.accuracy(kitchentestgl['label'], kitchentestgl['majority_minority_predictions']))\n",
    "        euc_threshold_acc[threshold].append(graphlab.evaluation.accuracy(kitchentestgl['label'], kitchentestgl['majority_minority_predictions']))\n",
    "        euc_threshold_fscore[threshold].append(graphlab.evaluation.f1_score(kitchentestgl['label'], kitchentestgl['majority_minority_predictions']))\n",
    "    print \"max euc acc\"\n",
    "    print max(euc_Accs)\n",
    "    max_euc_accs.append(max(euc_Accs))\n",
    "    largestdistances=[0.5633181597498838,0.5546099411237762,0.5240471587804418,0.5039841842356722,0.49261932743957626,0.487554486027983]\n",
    "    lowestdistances=[ 0.36080598790800533,0.3686636285328633,0.4070498131725162,0.40863691553859804,0.4114316511076972,0.4613234524061305]\n",
    "    Minor_domains = ['automotive_predictions','book_predictions','jewelrywatches_predictions','gourmet_predictions','dvd_predictions','grocery_predictions']\n",
    "\n",
    "    Major_domains = ['electronics_predictions','healthpersonal_predictions','cameraphoto_predictions','apparel_predictions','baby_predictions','beauty_predictions']\n",
    "    normalized_largestdistances = euclidean_norm_dict(largestdistances)\n",
    "    normalized_smallestdistances = euclidean_norm_dict(lowestdistances)\n",
    "    normalized_largestdistances_inverted = [0] * len(normalized_largestdistances)\n",
    "    normalized_smallestdistances_inverted = [0] * len(normalized_smallestdistances)\n",
    "    for i in range(len(normalized_largestdistances)):\n",
    "        normalized_largestdistances_inverted[i] = 1 - normalized_largestdistances[i]\n",
    "    \n",
    "    for j in range(len(normalized_smallestdistances)):\n",
    "        normalized_smallestdistances_inverted[j] = 1 - normalized_smallestdistances[j]\n",
    "    print \"Cosine distance results for the minority classifiers of random dataset \"+str(d)\n",
    "    cosine_Accs=[]\n",
    "    cosine_Fscores=[]\n",
    "    for i in range(len(thresholds)):\n",
    "        threshold=thresholds[i]\n",
    "        kitchentestgl['minority_predictions'] = kitchentestgl.apply(lambda x: weighted_predict_largedist(x,normalized_largestdistances_inverted,threshold) )\n",
    "        #print \"minority_predictions' model Fscore when using a threshold of \"+str(thresholds[i])\n",
    "        #print graphlab.evaluation.f1_score(kitchentestgl['label'], kitchentestgl['minority_predictions'])\n",
    "        #print \"minority_predictions' model Accuracy when using a threshold of \"+str(thresholds[i])\n",
    "        #print graphlab.evaluation.accuracy(kitchentestgl['label'], kitchentestgl['minority_predictions'])\n",
    "        cosine_Accs.append(graphlab.evaluation.accuracy(kitchentestgl['label'], kitchentestgl['minority_predictions']))\n",
    "        cosine_Fscores.append(graphlab.evaluation.f1_score(kitchentestgl['label'], kitchentestgl['minority_predictions']))\n",
    "        #cosine_threshold_acc[threshold].append(graphlab.evaluation.accuracy(kitchentestgl['label'], kitchentestgl['minority_predictions']))\n",
    "        #cosine_threshold_fscore[threshold].append(graphlab.evaluation.f1_score(kitchentestgl['label'], kitchentestgl['minority_predictions']))\n",
    "    \n",
    "    print \"Cosine distance results for the Majority classifiers of random dataset \"+str(d)\n",
    "    for i in range(len(thresholds)):\n",
    "        threshold=thresholds[i]\n",
    "        kitchentestgl['majority_predictions'] = kitchentestgl.apply(lambda x: weighted_predict_smalldist(x,normalized_smallestdistances,threshold) )\n",
    "        #print \"majority_predictions' model Fscore when using a threshold of \"+str(thresholds[i])\n",
    "        #print graphlab.evaluation.f1_score(kitchentestgl['label'], kitchentestgl['majority_predictions'])\n",
    "        #print \"majority_predictions' model Accuracy when using a threshold of \"+str(thresholds[i])\n",
    "        #print graphlab.evaluation.accuracy(kitchentestgl['label'], kitchentestgl['majority_predictions'])\n",
    "        ##cosine_Accs.append(graphlab.evaluation.accuracy(kitchentestgl['label'], kitchentestgl['majority_predictions']))\n",
    "        ##cosine_Fscores.append(graphlab.evaluation.f1_score(kitchentestgl['label'], kitchentestgl['majority_predictions']))\n",
    "        #cosine_threshold_acc[threshold].append(graphlab.evaluation.accuracy(kitchentestgl['label'], kitchentestgl['majority_predictions']))\n",
    "        #cosine_threshold_fscore[threshold].append(graphlab.evaluation.f1_score(kitchentestgl['label'], kitchentestgl['majority_predictions']))\n",
    "    \n",
    "    print \"Cosine distance results for the Majority-Minority classifiers of random dataset \"+str(d)\n",
    "    \n",
    "    \n",
    "    for i in range(len(thresholds)):\n",
    "        threshold=thresholds[i]\n",
    "        kitchentestgl['majority_minority_predictions'] = kitchentestgl.apply(lambda x: weighted_predict_smalldist_largedistances(x,normalized_smallestdistances,normalized_largestdistances,threshold) )\n",
    "\n",
    "        #print \"majority_minority_predictions' model Fscore when using a threshold of \"+str(thresholds[i])\n",
    "        #print graphlab.evaluation.f1_score(kitchentestgl['label'], kitchentestgl['majority_minority_predictions'])\n",
    "        #print \"majority_minority_predictions' model Accuracy when using a threshold of \"+str(thresholds[i])\n",
    "        #print graphlab.evaluation.accuracy(kitchentestgl['label'], kitchentestgl['majority_minority_predictions'])\n",
    "        print \"max euc acc\"\n",
    "        ##cosine_Accs.append(graphlab.evaluation.accuracy(kitchentestgl['label'], kitchentestgl['majority_minority_predictions']))\n",
    "        ##cosine_Fscores.append(graphlab.evaluation.f1_score(kitchentestgl['label'], kitchentestgl['majority_minority_predictions']))\n",
    "        cosine_threshold_acc[threshold].append(graphlab.evaluation.accuracy(kitchentestgl['label'], kitchentestgl['majority_minority_predictions']))\n",
    "        cosine_threshold_fscore[threshold].append(graphlab.evaluation.f1_score(kitchentestgl['label'], kitchentestgl['majority_minority_predictions']))\n",
    "    print max(cosine_Accs)\n",
    "    max_cosine_accs.append(max(cosine_Accs))\n",
    "    print \"data set \"+str(counter)+' was tested!'\n",
    "print \"max cosine acc\"\n",
    "print max_cosine_accs\n",
    "print \"max euc acc\"\n",
    "print max_euc_accs\n",
    "\n",
    "\n",
    "\n",
    "\n",
    "\n",
    "\n"
   ]
  },
  {
   "cell_type": "code",
   "execution_count": null,
   "metadata": {
    "collapsed": true
   },
   "outputs": [],
   "source": [
    "max cosine acc\n",
    "[0.765, 0.749, 0.752, 0.752, 0.739]\n",
    "max euc acc\n",
    "[0.764, 0.748, 0.75, 0.752, 0.739]"
   ]
  },
  {
   "cell_type": "markdown",
   "metadata": {},
   "source": [
    "## Top performing classifiers"
   ]
  },
  {
   "cell_type": "code",
   "execution_count": 12,
   "metadata": {
    "collapsed": false
   },
   "outputs": [
    {
     "data": {
      "text/html": [
       "<pre>Finished parsing file C:\\Users\\Omar\\kitchentestgl_random.csv</pre>"
      ],
      "text/plain": [
       "Finished parsing file C:\\Users\\Omar\\kitchentestgl_random.csv"
      ]
     },
     "metadata": {},
     "output_type": "display_data"
    },
    {
     "data": {
      "text/html": [
       "<pre>Parsing completed. Parsed 100 lines in 0.078119 secs.</pre>"
      ],
      "text/plain": [
       "Parsing completed. Parsed 100 lines in 0.078119 secs."
      ]
     },
     "metadata": {},
     "output_type": "display_data"
    },
    {
     "name": "stdout",
     "output_type": "stream",
     "text": [
      "------------------------------------------------------\n",
      "Inferred types from first 100 line(s) of file as \n",
      "column_type_hints=[str,long,str,str,str,str,str,long,long,long,long,long,long,long,long,long,long,long,long,long]\n",
      "If parsing fails due to incorrect types, you can correct\n",
      "the inferred type list above and pass it to read_csv in\n",
      "the column_type_hints argument\n",
      "------------------------------------------------------\n"
     ]
    },
    {
     "data": {
      "text/html": [
       "<pre>Finished parsing file C:\\Users\\Omar\\kitchentestgl_random.csv</pre>"
      ],
      "text/plain": [
       "Finished parsing file C:\\Users\\Omar\\kitchentestgl_random.csv"
      ]
     },
     "metadata": {},
     "output_type": "display_data"
    },
    {
     "data": {
      "text/html": [
       "<pre>Parsing completed. Parsed 1000 lines in 0.055985 secs.</pre>"
      ],
      "text/plain": [
       "Parsing completed. Parsed 1000 lines in 0.055985 secs."
      ]
     },
     "metadata": {},
     "output_type": "display_data"
    },
    {
     "name": "stdout",
     "output_type": "stream",
     "text": [
      "results for random dataset 1\n",
      "euclidean distance results for the minority classifiers of random dataset 1\n",
      "euclidean distance results for the Majority classifiers of random dataset 1\n",
      "euclidean distance results for the Majority-Minority classifiers of random dataset 1\n",
      "max euc acc\n",
      "0.866\n",
      "Cosine distance results for the minority classifiers of random dataset 1\n",
      "Cosine distance results for the Majority classifiers of random dataset 1\n",
      "Cosine distance results for the Majority-Minority classifiers of random dataset 1\n",
      "max euc acc\n",
      "max euc acc\n",
      "max euc acc\n",
      "max euc acc\n",
      "max euc acc\n",
      "0.866\n",
      "data set 1 was tested!\n"
     ]
    },
    {
     "data": {
      "text/html": [
       "<pre>Finished parsing file C:\\Users\\Omar\\kitchentestgl_random_2.csv</pre>"
      ],
      "text/plain": [
       "Finished parsing file C:\\Users\\Omar\\kitchentestgl_random_2.csv"
      ]
     },
     "metadata": {},
     "output_type": "display_data"
    },
    {
     "data": {
      "text/html": [
       "<pre>Parsing completed. Parsed 100 lines in 0.093743 secs.</pre>"
      ],
      "text/plain": [
       "Parsing completed. Parsed 100 lines in 0.093743 secs."
      ]
     },
     "metadata": {},
     "output_type": "display_data"
    },
    {
     "name": "stdout",
     "output_type": "stream",
     "text": [
      "------------------------------------------------------\n",
      "Inferred types from first 100 line(s) of file as \n",
      "column_type_hints=[str,long,str,str,str,str,str,long,long,long,long,long,long,long,long,long,long,long,long,long]\n",
      "If parsing fails due to incorrect types, you can correct\n",
      "the inferred type list above and pass it to read_csv in\n",
      "the column_type_hints argument\n",
      "------------------------------------------------------\n"
     ]
    },
    {
     "data": {
      "text/html": [
       "<pre>Finished parsing file C:\\Users\\Omar\\kitchentestgl_random_2.csv</pre>"
      ],
      "text/plain": [
       "Finished parsing file C:\\Users\\Omar\\kitchentestgl_random_2.csv"
      ]
     },
     "metadata": {},
     "output_type": "display_data"
    },
    {
     "data": {
      "text/html": [
       "<pre>Parsing completed. Parsed 1000 lines in 0.046874 secs.</pre>"
      ],
      "text/plain": [
       "Parsing completed. Parsed 1000 lines in 0.046874 secs."
      ]
     },
     "metadata": {},
     "output_type": "display_data"
    },
    {
     "name": "stdout",
     "output_type": "stream",
     "text": [
      "results for random dataset 2\n",
      "euclidean distance results for the minority classifiers of random dataset 2\n",
      "euclidean distance results for the Majority classifiers of random dataset 2\n",
      "euclidean distance results for the Majority-Minority classifiers of random dataset 2\n",
      "max euc acc\n",
      "0.889\n",
      "Cosine distance results for the minority classifiers of random dataset 2\n",
      "Cosine distance results for the Majority classifiers of random dataset 2\n",
      "Cosine distance results for the Majority-Minority classifiers of random dataset 2\n",
      "max euc acc\n",
      "max euc acc\n",
      "max euc acc\n",
      "max euc acc\n",
      "max euc acc\n",
      "0.889\n",
      "data set 2 was tested!\n"
     ]
    },
    {
     "data": {
      "text/html": [
       "<pre>Finished parsing file C:\\Users\\Omar\\kitchentestgl_random_3.csv</pre>"
      ],
      "text/plain": [
       "Finished parsing file C:\\Users\\Omar\\kitchentestgl_random_3.csv"
      ]
     },
     "metadata": {},
     "output_type": "display_data"
    },
    {
     "data": {
      "text/html": [
       "<pre>Parsing completed. Parsed 100 lines in 0.093745 secs.</pre>"
      ],
      "text/plain": [
       "Parsing completed. Parsed 100 lines in 0.093745 secs."
      ]
     },
     "metadata": {},
     "output_type": "display_data"
    },
    {
     "name": "stdout",
     "output_type": "stream",
     "text": [
      "------------------------------------------------------\n",
      "Inferred types from first 100 line(s) of file as \n",
      "column_type_hints=[str,long,str,str,str,str,str,long,long,long,long,long,long,long,long,long,long,long,long,long]\n",
      "If parsing fails due to incorrect types, you can correct\n",
      "the inferred type list above and pass it to read_csv in\n",
      "the column_type_hints argument\n",
      "------------------------------------------------------\n"
     ]
    },
    {
     "data": {
      "text/html": [
       "<pre>Finished parsing file C:\\Users\\Omar\\kitchentestgl_random_3.csv</pre>"
      ],
      "text/plain": [
       "Finished parsing file C:\\Users\\Omar\\kitchentestgl_random_3.csv"
      ]
     },
     "metadata": {},
     "output_type": "display_data"
    },
    {
     "data": {
      "text/html": [
       "<pre>Parsing completed. Parsed 1000 lines in 0.062497 secs.</pre>"
      ],
      "text/plain": [
       "Parsing completed. Parsed 1000 lines in 0.062497 secs."
      ]
     },
     "metadata": {},
     "output_type": "display_data"
    },
    {
     "name": "stdout",
     "output_type": "stream",
     "text": [
      "results for random dataset 3\n",
      "euclidean distance results for the minority classifiers of random dataset 3\n",
      "euclidean distance results for the Majority classifiers of random dataset 3\n",
      "euclidean distance results for the Majority-Minority classifiers of random dataset 3\n",
      "max euc acc\n",
      "0.872\n",
      "Cosine distance results for the minority classifiers of random dataset 3\n",
      "Cosine distance results for the Majority classifiers of random dataset 3\n",
      "Cosine distance results for the Majority-Minority classifiers of random dataset 3\n",
      "max euc acc\n",
      "max euc acc\n",
      "max euc acc\n",
      "max euc acc\n",
      "max euc acc\n",
      "0.872\n",
      "data set 3 was tested!\n"
     ]
    },
    {
     "data": {
      "text/html": [
       "<pre>Finished parsing file C:\\Users\\Omar\\kitchentestgl_random_4.csv</pre>"
      ],
      "text/plain": [
       "Finished parsing file C:\\Users\\Omar\\kitchentestgl_random_4.csv"
      ]
     },
     "metadata": {},
     "output_type": "display_data"
    },
    {
     "data": {
      "text/html": [
       "<pre>Parsing completed. Parsed 100 lines in 0.078122 secs.</pre>"
      ],
      "text/plain": [
       "Parsing completed. Parsed 100 lines in 0.078122 secs."
      ]
     },
     "metadata": {},
     "output_type": "display_data"
    },
    {
     "name": "stdout",
     "output_type": "stream",
     "text": [
      "------------------------------------------------------\n",
      "Inferred types from first 100 line(s) of file as \n",
      "column_type_hints=[str,long,str,str,str,str,str,long,long,long,long,long,long,long,long,long,long,long,long,long]\n",
      "If parsing fails due to incorrect types, you can correct\n",
      "the inferred type list above and pass it to read_csv in\n",
      "the column_type_hints argument\n",
      "------------------------------------------------------\n"
     ]
    },
    {
     "data": {
      "text/html": [
       "<pre>Finished parsing file C:\\Users\\Omar\\kitchentestgl_random_4.csv</pre>"
      ],
      "text/plain": [
       "Finished parsing file C:\\Users\\Omar\\kitchentestgl_random_4.csv"
      ]
     },
     "metadata": {},
     "output_type": "display_data"
    },
    {
     "data": {
      "text/html": [
       "<pre>Parsing completed. Parsed 1000 lines in 0.047988 secs.</pre>"
      ],
      "text/plain": [
       "Parsing completed. Parsed 1000 lines in 0.047988 secs."
      ]
     },
     "metadata": {},
     "output_type": "display_data"
    },
    {
     "name": "stdout",
     "output_type": "stream",
     "text": [
      "results for random dataset 4\n",
      "euclidean distance results for the minority classifiers of random dataset 4\n",
      "euclidean distance results for the Majority classifiers of random dataset 4\n",
      "euclidean distance results for the Majority-Minority classifiers of random dataset 4\n",
      "max euc acc\n",
      "0.88\n",
      "Cosine distance results for the minority classifiers of random dataset 4\n",
      "Cosine distance results for the Majority classifiers of random dataset 4\n",
      "Cosine distance results for the Majority-Minority classifiers of random dataset 4\n",
      "max euc acc\n",
      "max euc acc\n",
      "max euc acc\n",
      "max euc acc\n",
      "max euc acc\n",
      "0.88\n",
      "data set 4 was tested!\n"
     ]
    },
    {
     "data": {
      "text/html": [
       "<pre>Finished parsing file C:\\Users\\Omar\\kitchentestgl_random_5.csv</pre>"
      ],
      "text/plain": [
       "Finished parsing file C:\\Users\\Omar\\kitchentestgl_random_5.csv"
      ]
     },
     "metadata": {},
     "output_type": "display_data"
    },
    {
     "data": {
      "text/html": [
       "<pre>Parsing completed. Parsed 100 lines in 0.093744 secs.</pre>"
      ],
      "text/plain": [
       "Parsing completed. Parsed 100 lines in 0.093744 secs."
      ]
     },
     "metadata": {},
     "output_type": "display_data"
    },
    {
     "name": "stdout",
     "output_type": "stream",
     "text": [
      "------------------------------------------------------\n",
      "Inferred types from first 100 line(s) of file as \n",
      "column_type_hints=[str,long,str,str,str,str,str,long,long,long,long,long,long,long,long,long,long,long,long,long]\n",
      "If parsing fails due to incorrect types, you can correct\n",
      "the inferred type list above and pass it to read_csv in\n",
      "the column_type_hints argument\n",
      "------------------------------------------------------\n"
     ]
    },
    {
     "data": {
      "text/html": [
       "<pre>Finished parsing file C:\\Users\\Omar\\kitchentestgl_random_5.csv</pre>"
      ],
      "text/plain": [
       "Finished parsing file C:\\Users\\Omar\\kitchentestgl_random_5.csv"
      ]
     },
     "metadata": {},
     "output_type": "display_data"
    },
    {
     "data": {
      "text/html": [
       "<pre>Parsing completed. Parsed 1000 lines in 0.046891 secs.</pre>"
      ],
      "text/plain": [
       "Parsing completed. Parsed 1000 lines in 0.046891 secs."
      ]
     },
     "metadata": {},
     "output_type": "display_data"
    },
    {
     "name": "stdout",
     "output_type": "stream",
     "text": [
      "results for random dataset 5\n",
      "euclidean distance results for the minority classifiers of random dataset 5\n",
      "euclidean distance results for the Majority classifiers of random dataset 5\n",
      "euclidean distance results for the Majority-Minority classifiers of random dataset 5\n",
      "max euc acc\n",
      "0.874\n",
      "Cosine distance results for the minority classifiers of random dataset 5\n",
      "Cosine distance results for the Majority classifiers of random dataset 5\n",
      "Cosine distance results for the Majority-Minority classifiers of random dataset 5\n",
      "max euc acc\n",
      "max euc acc\n",
      "max euc acc\n",
      "max euc acc\n",
      "max euc acc\n",
      "0.874\n",
      "data set 5 was tested!\n",
      "max cosine acc\n",
      "[0.866, 0.889, 0.872, 0.88, 0.874]\n",
      "max euc acc\n",
      "[0.866, 0.889, 0.872, 0.88, 0.874]\n"
     ]
    }
   ],
   "source": [
    "from collections import defaultdict\n",
    "counter=0\n",
    "max_euc_accs=[]\n",
    "max_cosine_accs=[]\n",
    "euc_threshold_acc = defaultdict(list)\n",
    "cosine_threshold_acc = defaultdict(list)\n",
    "\n",
    "euc_threshold_fscore = defaultdict(list)\n",
    "cosine_threshold_fscore = defaultdict(list)\n",
    "for d in range(1,6):\n",
    "    i=d\n",
    "    counter+=1\n",
    "    if i==1:\n",
    "        kitchentestgl = graphlab.SFrame('kitchentestgl_random.csv')\n",
    "    else:\n",
    "        kitchentestgl = graphlab.SFrame('kitchentestgl_random_'+str(i)+'.csv')\n",
    "    print \"results for random dataset \"+str(d)\n",
    "    print \"euclidean distance results for the minority classifiers of random dataset \"+str(d)\n",
    "    largestdistances=[215.7683943491261,167.77067681809,99.84487968844472,97.77013859047148,97.01030873056739,96.97422337920526]\n",
    "    lowestdistances=[88.91006692158093,90.62008607367353,91.81503144910424,91.98369420718001,94.66255859631093,94.75230867899737]\n",
    "    Minor_domains = ['book_predictions','dvd_predictions','automotive_predictions','jewelrywatches_predictions','computervideo_predictions','gourmet_predictions']\n",
    "    Major_domains = ['healthpersonal_predictions','baby_predictions','cameraphoto_predictions','apparel_predictions','electronics_predictions','beauty_predictions']\n",
    "    normalized_largestdistances = euclidean_norm_dict(largestdistances)\n",
    "    normalized_smallestdistances = euclidean_norm_dict(lowestdistances)\n",
    "    thresholds = [0.5,0.6,0.7,0.8,0.9]\n",
    "    euc_Fscores = []\n",
    "    euc_Accs = []\n",
    "    for i in range(len(thresholds)):\n",
    "        threshold=thresholds[i]\n",
    "        \n",
    "        kitchentestgl['minority_predictions'] = kitchentestgl.apply(lambda x: weighted_predict_largedist(x,normalized_largestdistances,threshold) )\n",
    "        #print \"minority_predictions' model Fscore when using a threshold of \"+str(thresholds[i])\n",
    "        #print graphlab.evaluation.f1_score(kitchentestgl['label'], kitchentestgl['minority_predictions'])\n",
    "        #print \"minority_predictions' model Accuracy when using a threshold of \"+str(thresholds[i])\n",
    "        #print graphlab.evaluation.accuracy(kitchentestgl['label'], kitchentestgl['minority_predictions'])\n",
    "        ##euc_Fscores.append(graphlab.evaluation.f1_score(kitchentestgl['label'], kitchentestgl['minority_predictions']))\n",
    "        ##euc_Accs.append(graphlab.evaluation.accuracy(kitchentestgl['label'], kitchentestgl['minority_predictions']))\n",
    "        #euc_threshold_acc[threshold].append(graphlab.evaluation.accuracy(kitchentestgl['label'], kitchentestgl['minority_predictions']))\n",
    "        #euc_threshold_fscore[threshold].append(graphlab.evaluation.f1_score(kitchentestgl['label'], kitchentestgl['minority_predictions']))\n",
    "    print \"euclidean distance results for the Majority classifiers of random dataset \"+str(d)\n",
    "\n",
    "    euc_major_Fscores=[]\n",
    "    euc_major_Accs = []\n",
    "    for i in range(len(thresholds)):\n",
    "        threshold=thresholds[i]\n",
    "        kitchentestgl['majority_predictions'] = kitchentestgl.apply(lambda x: weighted_predict_smalldist(x,normalized_smallestdistances,threshold) )\n",
    "        #print \"majority_predictions' model Fscore when using a threshold of \"+str(thresholds[i])\n",
    "        #print graphlab.evaluation.f1_score(kitchentestgl['label'], kitchentestgl['majority_predictions'])\n",
    "        #print \"majority_predictions' model Accuracy when using a threshold of \"+str(thresholds[i])\n",
    "        #print graphlab.evaluation.accuracy(kitchentestgl['label'], kitchentestgl['majority_predictions'])\n",
    "        euc_Fscores.append(graphlab.evaluation.f1_score(kitchentestgl['label'], kitchentestgl['majority_predictions']))\n",
    "        euc_Accs.append(graphlab.evaluation.accuracy(kitchentestgl['label'], kitchentestgl['majority_predictions']))\n",
    "        euc_threshold_acc[threshold].append(graphlab.evaluation.accuracy(kitchentestgl['label'], kitchentestgl['majority_predictions']))\n",
    "        euc_threshold_fscore[threshold].append(graphlab.evaluation.f1_score(kitchentestgl['label'], kitchentestgl['majority_predictions']))\n",
    "    print \"euclidean distance results for the Majority-Minority classifiers of random dataset \"+str(d)\n",
    "\n",
    "    #threshold using all models\n",
    "    for i in range(len(thresholds)):\n",
    "        threshold=thresholds[i]\n",
    "        kitchentestgl['majority_minority_predictions'] = kitchentestgl.apply(lambda x: weighted_predict_smalldist_largedistances(x,normalized_smallestdistances,normalized_largestdistances,threshold) )\n",
    "\n",
    "        #print \"majority_minority_predictions' model Fscore when using a threshold of \"+str(thresholds[i])\n",
    "        #print graphlab.evaluation.f1_score(kitchentestgl['label'], kitchentestgl['majority_minority_predictions'])\n",
    "        #print \"majority_minority_predictions' model Accuracy when using a threshold of \"+str(thresholds[i])\n",
    "        #print graphlab.evaluation.accuracy(kitchentestgl['label'], kitchentestgl['majority_minority_predictions'])\n",
    "        ##euc_Fscores.append(graphlab.evaluation.f1_score(kitchentestgl['label'], kitchentestgl['majority_minority_predictions']))\n",
    "        ##euc_Accs.append(graphlab.evaluation.accuracy(kitchentestgl['label'], kitchentestgl['majority_minority_predictions']))\n",
    "        euc_threshold_acc[threshold].append(graphlab.evaluation.accuracy(kitchentestgl['label'], kitchentestgl['majority_minority_predictions']))\n",
    "        euc_threshold_fscore[threshold].append(graphlab.evaluation.f1_score(kitchentestgl['label'], kitchentestgl['majority_minority_predictions']))\n",
    "    print \"max euc acc\"\n",
    "    print max(euc_Accs)\n",
    "    max_euc_accs.append(max(euc_Accs))\n",
    "    largestdistances=[0.5633181597498838,0.5546099411237762,0.5240471587804418,0.5039841842356722,0.49261932743957626,0.487554486027983]\n",
    "    lowestdistances=[ 0.36080598790800533,0.3686636285328633,0.4070498131725162,0.40863691553859804,0.4114316511076972,0.4613234524061305]\n",
    "    Minor_domains = ['automotive_predictions','book_predictions','jewelrywatches_predictions','gourmet_predictions','dvd_predictions','grocery_predictions']\n",
    "\n",
    "    Major_domains = ['electronics_predictions','healthpersonal_predictions','cameraphoto_predictions','apparel_predictions','baby_predictions','beauty_predictions']\n",
    "    normalized_largestdistances = euclidean_norm_dict(largestdistances)\n",
    "    normalized_smallestdistances = euclidean_norm_dict(lowestdistances)\n",
    "    print \"Cosine distance results for the minority classifiers of random dataset \"+str(d)\n",
    "    cosine_Accs=[]\n",
    "    cosine_Fscores=[]\n",
    "    for i in range(len(thresholds)):\n",
    "        threshold=thresholds[i]\n",
    "        kitchentestgl['minority_predictions'] = kitchentestgl.apply(lambda x: weighted_predict_largedist(x,normalized_largestdistances,threshold) )\n",
    "        #print \"minority_predictions' model Fscore when using a threshold of \"+str(thresholds[i])\n",
    "        #print graphlab.evaluation.f1_score(kitchentestgl['label'], kitchentestgl['minority_predictions'])\n",
    "        #print \"minority_predictions' model Accuracy when using a threshold of \"+str(thresholds[i])\n",
    "        #print graphlab.evaluation.accuracy(kitchentestgl['label'], kitchentestgl['minority_predictions'])\n",
    "        ##cosine_Accs.append(graphlab.evaluation.accuracy(kitchentestgl['label'], kitchentestgl['minority_predictions']))\n",
    "        ##cosine_Fscores.append(graphlab.evaluation.f1_score(kitchentestgl['label'], kitchentestgl['minority_predictions']))\n",
    "        #cosine_threshold_acc[threshold].append(graphlab.evaluation.accuracy(kitchentestgl['label'], kitchentestgl['minority_predictions']))\n",
    "        #cosine_threshold_fscore[threshold].append(graphlab.evaluation.f1_score(kitchentestgl['label'], kitchentestgl['minority_predictions']))\n",
    "    \n",
    "    print \"Cosine distance results for the Majority classifiers of random dataset \"+str(d)\n",
    "    for i in range(len(thresholds)):\n",
    "        threshold=thresholds[i]\n",
    "        kitchentestgl['majority_predictions'] = kitchentestgl.apply(lambda x: weighted_predict_smalldist(x,normalized_smallestdistances,threshold) )\n",
    "        #print \"majority_predictions' model Fscore when using a threshold of \"+str(thresholds[i])\n",
    "        #print graphlab.evaluation.f1_score(kitchentestgl['label'], kitchentestgl['majority_predictions'])\n",
    "        #print \"majority_predictions' model Accuracy when using a threshold of \"+str(thresholds[i])\n",
    "        #print graphlab.evaluation.accuracy(kitchentestgl['label'], kitchentestgl['majority_predictions'])\n",
    "        cosine_Accs.append(graphlab.evaluation.accuracy(kitchentestgl['label'], kitchentestgl['majority_predictions']))\n",
    "        cosine_Fscores.append(graphlab.evaluation.f1_score(kitchentestgl['label'], kitchentestgl['majority_predictions']))\n",
    "        #cosine_threshold_acc[threshold].append(graphlab.evaluation.accuracy(kitchentestgl['label'], kitchentestgl['majority_predictions']))\n",
    "        #cosine_threshold_fscore[threshold].append(graphlab.evaluation.f1_score(kitchentestgl['label'], kitchentestgl['majority_predictions']))\n",
    "    \n",
    "    print \"Cosine distance results for the Majority-Minority classifiers of random dataset \"+str(d)\n",
    "    \n",
    "    \n",
    "    for i in range(len(thresholds)):\n",
    "        threshold=thresholds[i]\n",
    "        kitchentestgl['majority_minority_predictions'] = kitchentestgl.apply(lambda x: weighted_predict_smalldist_largedistances(x,normalized_smallestdistances,normalized_largestdistances,threshold) )\n",
    "\n",
    "        #print \"majority_minority_predictions' model Fscore when using a threshold of \"+str(thresholds[i])\n",
    "        #print graphlab.evaluation.f1_score(kitchentestgl['label'], kitchentestgl['majority_minority_predictions'])\n",
    "        #print \"majority_minority_predictions' model Accuracy when using a threshold of \"+str(thresholds[i])\n",
    "        #print graphlab.evaluation.accuracy(kitchentestgl['label'], kitchentestgl['majority_minority_predictions'])\n",
    "        print \"max euc acc\"\n",
    "        ##cosine_Accs.append(graphlab.evaluation.accuracy(kitchentestgl['label'], kitchentestgl['majority_minority_predictions']))\n",
    "        ##cosine_Fscores.append(graphlab.evaluation.f1_score(kitchentestgl['label'], kitchentestgl['majority_minority_predictions']))\n",
    "        cosine_threshold_acc[threshold].append(graphlab.evaluation.accuracy(kitchentestgl['label'], kitchentestgl['majority_minority_predictions']))\n",
    "        cosine_threshold_fscore[threshold].append(graphlab.evaluation.f1_score(kitchentestgl['label'], kitchentestgl['majority_minority_predictions']))\n",
    "    print max(cosine_Accs)\n",
    "    max_cosine_accs.append(max(cosine_Accs))\n",
    "    print \"data set \"+str(counter)+' was tested!'\n",
    "print \"max cosine acc\"\n",
    "print max_cosine_accs\n",
    "print \"max euc acc\"\n",
    "print max_euc_accs\n",
    "\n",
    "\n",
    "\n",
    "\n",
    "\n",
    "\n"
   ]
  },
  {
   "cell_type": "code",
   "execution_count": 5,
   "metadata": {
    "collapsed": false
   },
   "outputs": [
    {
     "data": {
      "text/html": [
       "<pre>Finished parsing file C:\\Users\\Omar\\kitchentestgl_random.csv</pre>"
      ],
      "text/plain": [
       "Finished parsing file C:\\Users\\Omar\\kitchentestgl_random.csv"
      ]
     },
     "metadata": {},
     "output_type": "display_data"
    },
    {
     "data": {
      "text/html": [
       "<pre>Parsing completed. Parsed 100 lines in 0.184892 secs.</pre>"
      ],
      "text/plain": [
       "Parsing completed. Parsed 100 lines in 0.184892 secs."
      ]
     },
     "metadata": {},
     "output_type": "display_data"
    },
    {
     "name": "stdout",
     "output_type": "stream",
     "text": [
      "------------------------------------------------------\n",
      "Inferred types from first 100 line(s) of file as \n",
      "column_type_hints=[str,long,str,str,str,str,str,long,long,long,long,long,long,long,long,long,long,long,long,long]\n",
      "If parsing fails due to incorrect types, you can correct\n",
      "the inferred type list above and pass it to read_csv in\n",
      "the column_type_hints argument\n",
      "------------------------------------------------------\n"
     ]
    },
    {
     "data": {
      "text/html": [
       "<pre>Finished parsing file C:\\Users\\Omar\\kitchentestgl_random.csv</pre>"
      ],
      "text/plain": [
       "Finished parsing file C:\\Users\\Omar\\kitchentestgl_random.csv"
      ]
     },
     "metadata": {},
     "output_type": "display_data"
    },
    {
     "name": "stdout",
     "output_type": "stream",
     "text": [
      "results for random dataset 1\n",
      "euclidean distance results for the minority classifiers of random dataset 1\n"
     ]
    },
    {
     "data": {
      "text/html": [
       "<pre>Parsing completed. Parsed 1000 lines in 0.113934 secs.</pre>"
      ],
      "text/plain": [
       "Parsing completed. Parsed 1000 lines in 0.113934 secs."
      ]
     },
     "metadata": {},
     "output_type": "display_data"
    },
    {
     "name": "stdout",
     "output_type": "stream",
     "text": [
      "euclidean distance results for the Majority classifiers of random dataset 1\n",
      "euclidean distance results for the Majority-Minority classifiers of random dataset 1\n",
      "max euc acc\n",
      "0.866\n",
      "Cosine distance results for the minority classifiers of random dataset 1\n",
      "Cosine distance results for the Majority classifiers of random dataset 1\n",
      "Cosine distance results for the Majority-Minority classifiers of random dataset 1\n",
      "max euc acc\n",
      "max euc acc\n",
      "max euc acc\n",
      "max euc acc\n",
      "max euc acc\n",
      "0.866\n",
      "data set 1 was tested!\n"
     ]
    },
    {
     "data": {
      "text/html": [
       "<pre>Finished parsing file C:\\Users\\Omar\\kitchentestgl_random_2.csv</pre>"
      ],
      "text/plain": [
       "Finished parsing file C:\\Users\\Omar\\kitchentestgl_random_2.csv"
      ]
     },
     "metadata": {},
     "output_type": "display_data"
    },
    {
     "data": {
      "text/html": [
       "<pre>Parsing completed. Parsed 100 lines in 0.250855 secs.</pre>"
      ],
      "text/plain": [
       "Parsing completed. Parsed 100 lines in 0.250855 secs."
      ]
     },
     "metadata": {},
     "output_type": "display_data"
    },
    {
     "name": "stdout",
     "output_type": "stream",
     "text": [
      "------------------------------------------------------\n",
      "Inferred types from first 100 line(s) of file as \n",
      "column_type_hints=[str,long,str,str,str,str,str,long,long,long,long,long,long,long,long,long,long,long,long,long]\n",
      "If parsing fails due to incorrect types, you can correct\n",
      "the inferred type list above and pass it to read_csv in\n",
      "the column_type_hints argument\n",
      "------------------------------------------------------\n"
     ]
    },
    {
     "data": {
      "text/html": [
       "<pre>Finished parsing file C:\\Users\\Omar\\kitchentestgl_random_2.csv</pre>"
      ],
      "text/plain": [
       "Finished parsing file C:\\Users\\Omar\\kitchentestgl_random_2.csv"
      ]
     },
     "metadata": {},
     "output_type": "display_data"
    },
    {
     "name": "stdout",
     "output_type": "stream",
     "text": [
      "results for random dataset 2\n",
      "euclidean distance results for the minority classifiers of random dataset 2\n"
     ]
    },
    {
     "data": {
      "text/html": [
       "<pre>Parsing completed. Parsed 1000 lines in 0.144915 secs.</pre>"
      ],
      "text/plain": [
       "Parsing completed. Parsed 1000 lines in 0.144915 secs."
      ]
     },
     "metadata": {},
     "output_type": "display_data"
    },
    {
     "name": "stdout",
     "output_type": "stream",
     "text": [
      "euclidean distance results for the Majority classifiers of random dataset 2\n",
      "euclidean distance results for the Majority-Minority classifiers of random dataset 2\n",
      "max euc acc\n",
      "0.889\n",
      "Cosine distance results for the minority classifiers of random dataset 2\n",
      "Cosine distance results for the Majority classifiers of random dataset 2\n",
      "Cosine distance results for the Majority-Minority classifiers of random dataset 2\n",
      "max euc acc\n",
      "max euc acc\n",
      "max euc acc\n",
      "max euc acc\n",
      "max euc acc\n",
      "0.889\n",
      "data set 2 was tested!\n"
     ]
    },
    {
     "data": {
      "text/html": [
       "<pre>Finished parsing file C:\\Users\\Omar\\kitchentestgl_random_3.csv</pre>"
      ],
      "text/plain": [
       "Finished parsing file C:\\Users\\Omar\\kitchentestgl_random_3.csv"
      ]
     },
     "metadata": {},
     "output_type": "display_data"
    },
    {
     "data": {
      "text/html": [
       "<pre>Parsing completed. Parsed 100 lines in 0.1729 secs.</pre>"
      ],
      "text/plain": [
       "Parsing completed. Parsed 100 lines in 0.1729 secs."
      ]
     },
     "metadata": {},
     "output_type": "display_data"
    },
    {
     "name": "stdout",
     "output_type": "stream",
     "text": [
      "------------------------------------------------------\n",
      "Inferred types from first 100 line(s) of file as \n",
      "column_type_hints=[str,long,str,str,str,str,str,long,long,long,long,long,long,long,long,long,long,long,long,long]\n",
      "If parsing fails due to incorrect types, you can correct\n",
      "the inferred type list above and pass it to read_csv in\n",
      "the column_type_hints argument\n",
      "------------------------------------------------------\n"
     ]
    },
    {
     "data": {
      "text/html": [
       "<pre>Finished parsing file C:\\Users\\Omar\\kitchentestgl_random_3.csv</pre>"
      ],
      "text/plain": [
       "Finished parsing file C:\\Users\\Omar\\kitchentestgl_random_3.csv"
      ]
     },
     "metadata": {},
     "output_type": "display_data"
    },
    {
     "data": {
      "text/html": [
       "<pre>Parsing completed. Parsed 1000 lines in 0.101941 secs.</pre>"
      ],
      "text/plain": [
       "Parsing completed. Parsed 1000 lines in 0.101941 secs."
      ]
     },
     "metadata": {},
     "output_type": "display_data"
    },
    {
     "name": "stdout",
     "output_type": "stream",
     "text": [
      "results for random dataset 3\n",
      "euclidean distance results for the minority classifiers of random dataset 3\n",
      "euclidean distance results for the Majority classifiers of random dataset 3\n",
      "euclidean distance results for the Majority-Minority classifiers of random dataset 3\n",
      "max euc acc\n",
      "0.872\n",
      "Cosine distance results for the minority classifiers of random dataset 3\n",
      "Cosine distance results for the Majority classifiers of random dataset 3\n",
      "Cosine distance results for the Majority-Minority classifiers of random dataset 3\n",
      "max euc acc\n",
      "max euc acc\n",
      "max euc acc\n",
      "max euc acc\n",
      "max euc acc\n",
      "0.872\n",
      "data set 3 was tested!\n"
     ]
    },
    {
     "data": {
      "text/html": [
       "<pre>Finished parsing file C:\\Users\\Omar\\kitchentestgl_random_4.csv</pre>"
      ],
      "text/plain": [
       "Finished parsing file C:\\Users\\Omar\\kitchentestgl_random_4.csv"
      ]
     },
     "metadata": {},
     "output_type": "display_data"
    },
    {
     "data": {
      "text/html": [
       "<pre>Parsing completed. Parsed 100 lines in 0.229867 secs.</pre>"
      ],
      "text/plain": [
       "Parsing completed. Parsed 100 lines in 0.229867 secs."
      ]
     },
     "metadata": {},
     "output_type": "display_data"
    },
    {
     "name": "stdout",
     "output_type": "stream",
     "text": [
      "------------------------------------------------------\n",
      "Inferred types from first 100 line(s) of file as \n",
      "column_type_hints=[str,long,str,str,str,str,str,long,long,long,long,long,long,long,long,long,long,long,long,long]\n",
      "If parsing fails due to incorrect types, you can correct\n",
      "the inferred type list above and pass it to read_csv in\n",
      "the column_type_hints argument\n",
      "------------------------------------------------------\n"
     ]
    },
    {
     "data": {
      "text/html": [
       "<pre>Finished parsing file C:\\Users\\Omar\\kitchentestgl_random_4.csv</pre>"
      ],
      "text/plain": [
       "Finished parsing file C:\\Users\\Omar\\kitchentestgl_random_4.csv"
      ]
     },
     "metadata": {},
     "output_type": "display_data"
    },
    {
     "data": {
      "text/html": [
       "<pre>Parsing completed. Parsed 1000 lines in 0.10194 secs.</pre>"
      ],
      "text/plain": [
       "Parsing completed. Parsed 1000 lines in 0.10194 secs."
      ]
     },
     "metadata": {},
     "output_type": "display_data"
    },
    {
     "name": "stdout",
     "output_type": "stream",
     "text": [
      "results for random dataset 4\n",
      "euclidean distance results for the minority classifiers of random dataset 4\n",
      "euclidean distance results for the Majority classifiers of random dataset 4\n",
      "euclidean distance results for the Majority-Minority classifiers of random dataset 4\n",
      "max euc acc\n",
      "0.88\n",
      "Cosine distance results for the minority classifiers of random dataset 4\n",
      "Cosine distance results for the Majority classifiers of random dataset 4\n",
      "Cosine distance results for the Majority-Minority classifiers of random dataset 4\n",
      "max euc acc\n",
      "max euc acc\n",
      "max euc acc\n",
      "max euc acc\n",
      "max euc acc\n",
      "0.881\n",
      "data set 4 was tested!\n"
     ]
    },
    {
     "data": {
      "text/html": [
       "<pre>Finished parsing file C:\\Users\\Omar\\kitchentestgl_random_5.csv</pre>"
      ],
      "text/plain": [
       "Finished parsing file C:\\Users\\Omar\\kitchentestgl_random_5.csv"
      ]
     },
     "metadata": {},
     "output_type": "display_data"
    },
    {
     "data": {
      "text/html": [
       "<pre>Parsing completed. Parsed 100 lines in 0.161907 secs.</pre>"
      ],
      "text/plain": [
       "Parsing completed. Parsed 100 lines in 0.161907 secs."
      ]
     },
     "metadata": {},
     "output_type": "display_data"
    },
    {
     "name": "stdout",
     "output_type": "stream",
     "text": [
      "------------------------------------------------------\n",
      "Inferred types from first 100 line(s) of file as \n",
      "column_type_hints=[str,long,str,str,str,str,str,long,long,long,long,long,long,long,long,long,long,long,long,long]\n",
      "If parsing fails due to incorrect types, you can correct\n",
      "the inferred type list above and pass it to read_csv in\n",
      "the column_type_hints argument\n",
      "------------------------------------------------------\n"
     ]
    },
    {
     "data": {
      "text/html": [
       "<pre>Finished parsing file C:\\Users\\Omar\\kitchentestgl_random_5.csv</pre>"
      ],
      "text/plain": [
       "Finished parsing file C:\\Users\\Omar\\kitchentestgl_random_5.csv"
      ]
     },
     "metadata": {},
     "output_type": "display_data"
    },
    {
     "data": {
      "text/html": [
       "<pre>Parsing completed. Parsed 1000 lines in 0.089948 secs.</pre>"
      ],
      "text/plain": [
       "Parsing completed. Parsed 1000 lines in 0.089948 secs."
      ]
     },
     "metadata": {},
     "output_type": "display_data"
    },
    {
     "name": "stdout",
     "output_type": "stream",
     "text": [
      "results for random dataset 5\n",
      "euclidean distance results for the minority classifiers of random dataset 5\n",
      "euclidean distance results for the Majority classifiers of random dataset 5\n",
      "euclidean distance results for the Majority-Minority classifiers of random dataset 5\n",
      "max euc acc\n",
      "0.874\n",
      "Cosine distance results for the minority classifiers of random dataset 5\n",
      "Cosine distance results for the Majority classifiers of random dataset 5\n",
      "Cosine distance results for the Majority-Minority classifiers of random dataset 5\n",
      "max euc acc\n",
      "max euc acc\n",
      "max euc acc\n",
      "max euc acc\n",
      "max euc acc\n",
      "0.874\n",
      "data set 5 was tested!\n",
      "max cosine acc\n",
      "[0.866, 0.889, 0.872, 0.881, 0.874]\n",
      "max euc acc\n",
      "[0.866, 0.889, 0.872, 0.88, 0.874]\n"
     ]
    }
   ],
   "source": [
    "from collections import defaultdict\n",
    "counter=0\n",
    "max_euc_accs=[]\n",
    "max_cosine_accs=[]\n",
    "euc_threshold_acc = defaultdict(list)\n",
    "cosine_threshold_acc = defaultdict(list)\n",
    "\n",
    "euc_threshold_fscore = defaultdict(list)\n",
    "cosine_threshold_fscore = defaultdict(list)\n",
    "for d in range(1,6):\n",
    "    i=d\n",
    "    counter+=1\n",
    "    if i==1:\n",
    "        kitchentestgl = graphlab.SFrame('kitchentestgl_random.csv')\n",
    "    else:\n",
    "        kitchentestgl = graphlab.SFrame('kitchentestgl_random_'+str(i)+'.csv')\n",
    "    print \"results for random dataset \"+str(d)\n",
    "    print \"euclidean distance results for the minority classifiers of random dataset \"+str(d)\n",
    "    largestdistances=[215.7683943491261,167.77067681809,99.84487968844472,97.77013859047148,97.01030873056739,96.97422337920526]\n",
    "    lowestdistances=[88.91006692158093,90.62008607367353,91.81503144910424,91.98369420718001,94.66255859631093,94.75230867899737]\n",
    "    Minor_domains = ['book_predictions','dvd_predictions','automotive_predictions','jewelrywatches_predictions','computervideo_predictions','gourmet_predictions']\n",
    "    Major_domains = ['healthpersonal_predictions','baby_predictions','cameraphoto_predictions','apparel_predictions','electronics_predictions','beauty_predictions']\n",
    "    normalized_largestdistances = euclidean_norm_dict(largestdistances)\n",
    "    normalized_smallestdistances = euclidean_norm_dict(lowestdistances)\n",
    "    normalized_largestdistances_inverted = [0] * len(normalized_largestdistances)\n",
    "    normalized_smallestdistances_inverted = [0] * len(normalized_smallestdistances)\n",
    "    for i in range(len(normalized_largestdistances)):\n",
    "        normalized_largestdistances_inverted[i] = 1 - normalized_largestdistances[i]\n",
    "    \n",
    "    for j in range(len(normalized_smallestdistances)):\n",
    "        normalized_smallestdistances_inverted[j] = 1 - normalized_smallestdistances[j]\n",
    "    thresholds = [0.5,0.6,0.7,0.8,0.9]\n",
    "    euc_Fscores = []\n",
    "    euc_Accs = []\n",
    "    for i in range(len(thresholds)):\n",
    "        threshold=thresholds[i]\n",
    "        \n",
    "        kitchentestgl['minority_predictions'] = kitchentestgl.apply(lambda x: weighted_predict_largedist(x,normalized_largestdistances,threshold) )\n",
    "        #print \"minority_predictions' model Fscore when using a threshold of \"+str(thresholds[i])\n",
    "        #print graphlab.evaluation.f1_score(kitchentestgl['label'], kitchentestgl['minority_predictions'])\n",
    "        #print \"minority_predictions' model Accuracy when using a threshold of \"+str(thresholds[i])\n",
    "        #print graphlab.evaluation.accuracy(kitchentestgl['label'], kitchentestgl['minority_predictions'])\n",
    "        ##euc_Fscores.append(graphlab.evaluation.f1_score(kitchentestgl['label'], kitchentestgl['minority_predictions']))\n",
    "        ##euc_Accs.append(graphlab.evaluation.accuracy(kitchentestgl['label'], kitchentestgl['minority_predictions']))\n",
    "        #euc_threshold_acc[threshold].append(graphlab.evaluation.accuracy(kitchentestgl['label'], kitchentestgl['minority_predictions']))\n",
    "        #euc_threshold_fscore[threshold].append(graphlab.evaluation.f1_score(kitchentestgl['label'], kitchentestgl['minority_predictions']))\n",
    "    print \"euclidean distance results for the Majority classifiers of random dataset \"+str(d)\n",
    "\n",
    "    euc_major_Fscores=[]\n",
    "    euc_major_Accs = []\n",
    "    for i in range(len(thresholds)):\n",
    "        threshold=thresholds[i]\n",
    "        kitchentestgl['majority_predictions'] = kitchentestgl.apply(lambda x: weighted_predict_smalldist(x,normalized_smallestdistances_inverted,threshold) )\n",
    "        #print \"majority_predictions' model Fscore when using a threshold of \"+str(thresholds[i])\n",
    "        #print graphlab.evaluation.f1_score(kitchentestgl['label'], kitchentestgl['majority_predictions'])\n",
    "        #print \"majority_predictions' model Accuracy when using a threshold of \"+str(thresholds[i])\n",
    "        #print graphlab.evaluation.accuracy(kitchentestgl['label'], kitchentestgl['majority_predictions'])\n",
    "        euc_Fscores.append(graphlab.evaluation.f1_score(kitchentestgl['label'], kitchentestgl['majority_predictions']))\n",
    "        euc_Accs.append(graphlab.evaluation.accuracy(kitchentestgl['label'], kitchentestgl['majority_predictions']))\n",
    "        euc_threshold_acc[threshold].append(graphlab.evaluation.accuracy(kitchentestgl['label'], kitchentestgl['majority_predictions']))\n",
    "        euc_threshold_fscore[threshold].append(graphlab.evaluation.f1_score(kitchentestgl['label'], kitchentestgl['majority_predictions']))\n",
    "    print \"euclidean distance results for the Majority-Minority classifiers of random dataset \"+str(d)\n",
    "\n",
    "    #threshold using all models\n",
    "    for i in range(len(thresholds)):\n",
    "        threshold=thresholds[i]\n",
    "        kitchentestgl['majority_minority_predictions'] = kitchentestgl.apply(lambda x: weighted_predict_smalldist_largedistances(x,normalized_smallestdistances,normalized_largestdistances,threshold) )\n",
    "\n",
    "        #print \"majority_minority_predictions' model Fscore when using a threshold of \"+str(thresholds[i])\n",
    "        #print graphlab.evaluation.f1_score(kitchentestgl['label'], kitchentestgl['majority_minority_predictions'])\n",
    "        #print \"majority_minority_predictions' model Accuracy when using a threshold of \"+str(thresholds[i])\n",
    "        #print graphlab.evaluation.accuracy(kitchentestgl['label'], kitchentestgl['majority_minority_predictions'])\n",
    "        ##euc_Fscores.append(graphlab.evaluation.f1_score(kitchentestgl['label'], kitchentestgl['majority_minority_predictions']))\n",
    "        ##euc_Accs.append(graphlab.evaluation.accuracy(kitchentestgl['label'], kitchentestgl['majority_minority_predictions']))\n",
    "        euc_threshold_acc[threshold].append(graphlab.evaluation.accuracy(kitchentestgl['label'], kitchentestgl['majority_minority_predictions']))\n",
    "        euc_threshold_fscore[threshold].append(graphlab.evaluation.f1_score(kitchentestgl['label'], kitchentestgl['majority_minority_predictions']))\n",
    "    print \"max euc acc\"\n",
    "    print max(euc_Accs)\n",
    "    max_euc_accs.append(max(euc_Accs))\n",
    "    largestdistances=[0.5633181597498838,0.5546099411237762,0.5240471587804418,0.5039841842356722,0.49261932743957626,0.487554486027983]\n",
    "    lowestdistances=[ 0.36080598790800533,0.3686636285328633,0.4070498131725162,0.40863691553859804,0.4114316511076972,0.4613234524061305]\n",
    "    Minor_domains = ['automotive_predictions','book_predictions','jewelrywatches_predictions','gourmet_predictions','dvd_predictions','grocery_predictions']\n",
    "\n",
    "    Major_domains = ['electronics_predictions','healthpersonal_predictions','cameraphoto_predictions','apparel_predictions','baby_predictions','beauty_predictions']\n",
    "    normalized_largestdistances = euclidean_norm_dict(largestdistances)\n",
    "    normalized_smallestdistances = euclidean_norm_dict(lowestdistances)\n",
    "    normalized_largestdistances_inverted = [0] * len(normalized_largestdistances)\n",
    "    normalized_smallestdistances_inverted = [0] * len(normalized_smallestdistances)\n",
    "    for i in range(len(normalized_largestdistances)):\n",
    "        normalized_largestdistances_inverted[i] = 1 - normalized_largestdistances[i]\n",
    "    \n",
    "    for j in range(len(normalized_smallestdistances)):\n",
    "        normalized_smallestdistances_inverted[j] = 1 - normalized_smallestdistances[j]\n",
    "    print \"Cosine distance results for the minority classifiers of random dataset \"+str(d)\n",
    "    cosine_Accs=[]\n",
    "    cosine_Fscores=[]\n",
    "    for i in range(len(thresholds)):\n",
    "        threshold=thresholds[i]\n",
    "        kitchentestgl['minority_predictions'] = kitchentestgl.apply(lambda x: weighted_predict_largedist(x,normalized_largestdistances,threshold) )\n",
    "        #print \"minority_predictions' model Fscore when using a threshold of \"+str(thresholds[i])\n",
    "        #print graphlab.evaluation.f1_score(kitchentestgl['label'], kitchentestgl['minority_predictions'])\n",
    "        #print \"minority_predictions' model Accuracy when using a threshold of \"+str(thresholds[i])\n",
    "        #print graphlab.evaluation.accuracy(kitchentestgl['label'], kitchentestgl['minority_predictions'])\n",
    "        ##cosine_Accs.append(graphlab.evaluation.accuracy(kitchentestgl['label'], kitchentestgl['minority_predictions']))\n",
    "        ##cosine_Fscores.append(graphlab.evaluation.f1_score(kitchentestgl['label'], kitchentestgl['minority_predictions']))\n",
    "        #cosine_threshold_acc[threshold].append(graphlab.evaluation.accuracy(kitchentestgl['label'], kitchentestgl['minority_predictions']))\n",
    "        #cosine_threshold_fscore[threshold].append(graphlab.evaluation.f1_score(kitchentestgl['label'], kitchentestgl['minority_predictions']))\n",
    "    \n",
    "    print \"Cosine distance results for the Majority classifiers of random dataset \"+str(d)\n",
    "    for i in range(len(thresholds)):\n",
    "        threshold=thresholds[i]\n",
    "        kitchentestgl['majority_predictions'] = kitchentestgl.apply(lambda x: weighted_predict_smalldist(x,normalized_smallestdistances_inverted,threshold) )\n",
    "        #print \"majority_predictions' model Fscore when using a threshold of \"+str(thresholds[i])\n",
    "        #print graphlab.evaluation.f1_score(kitchentestgl['label'], kitchentestgl['majority_predictions'])\n",
    "        #print \"majority_predictions' model Accuracy when using a threshold of \"+str(thresholds[i])\n",
    "        #print graphlab.evaluation.accuracy(kitchentestgl['label'], kitchentestgl['majority_predictions'])\n",
    "        cosine_Accs.append(graphlab.evaluation.accuracy(kitchentestgl['label'], kitchentestgl['majority_predictions']))\n",
    "        cosine_Fscores.append(graphlab.evaluation.f1_score(kitchentestgl['label'], kitchentestgl['majority_predictions']))\n",
    "        #cosine_threshold_acc[threshold].append(graphlab.evaluation.accuracy(kitchentestgl['label'], kitchentestgl['majority_predictions']))\n",
    "        #cosine_threshold_fscore[threshold].append(graphlab.evaluation.f1_score(kitchentestgl['label'], kitchentestgl['majority_predictions']))\n",
    "    \n",
    "    print \"Cosine distance results for the Majority-Minority classifiers of random dataset \"+str(d)\n",
    "    \n",
    "    \n",
    "    for i in range(len(thresholds)):\n",
    "        threshold=thresholds[i]\n",
    "        kitchentestgl['majority_minority_predictions'] = kitchentestgl.apply(lambda x: weighted_predict_smalldist_largedistances(x,normalized_smallestdistances,normalized_largestdistances,threshold) )\n",
    "\n",
    "        #print \"majority_minority_predictions' model Fscore when using a threshold of \"+str(thresholds[i])\n",
    "        #print graphlab.evaluation.f1_score(kitchentestgl['label'], kitchentestgl['majority_minority_predictions'])\n",
    "        #print \"majority_minority_predictions' model Accuracy when using a threshold of \"+str(thresholds[i])\n",
    "        #print graphlab.evaluation.accuracy(kitchentestgl['label'], kitchentestgl['majority_minority_predictions'])\n",
    "        print \"max euc acc\"\n",
    "        ##cosine_Accs.append(graphlab.evaluation.accuracy(kitchentestgl['label'], kitchentestgl['majority_minority_predictions']))\n",
    "        ##cosine_Fscores.append(graphlab.evaluation.f1_score(kitchentestgl['label'], kitchentestgl['majority_minority_predictions']))\n",
    "        cosine_threshold_acc[threshold].append(graphlab.evaluation.accuracy(kitchentestgl['label'], kitchentestgl['majority_minority_predictions']))\n",
    "        cosine_threshold_fscore[threshold].append(graphlab.evaluation.f1_score(kitchentestgl['label'], kitchentestgl['majority_minority_predictions']))\n",
    "    print max(cosine_Accs)\n",
    "    max_cosine_accs.append(max(cosine_Accs))\n",
    "    print \"data set \"+str(counter)+' was tested!'\n",
    "print \"max cosine acc\"\n",
    "print max_cosine_accs\n",
    "print \"max euc acc\"\n",
    "print max_euc_accs\n",
    "\n",
    "\n",
    "\n",
    "\n",
    "\n",
    "\n"
   ]
  },
  {
   "cell_type": "code",
   "execution_count": null,
   "metadata": {
    "collapsed": true
   },
   "outputs": [],
   "source": [
    "max cosine acc\n",
    "[0.866, 0.889, 0.872, 0.88, 0.874]\n",
    "max euc acc\n",
    "[0.866, 0.889, 0.872, 0.88, 0.874]"
   ]
  },
  {
   "cell_type": "markdown",
   "metadata": {},
   "source": [
    "## Top and Least performing classifiers"
   ]
  },
  {
   "cell_type": "code",
   "execution_count": 13,
   "metadata": {
    "collapsed": false
   },
   "outputs": [
    {
     "data": {
      "text/html": [
       "<pre>Finished parsing file C:\\Users\\Omar\\kitchentestgl_random.csv</pre>"
      ],
      "text/plain": [
       "Finished parsing file C:\\Users\\Omar\\kitchentestgl_random.csv"
      ]
     },
     "metadata": {},
     "output_type": "display_data"
    },
    {
     "data": {
      "text/html": [
       "<pre>Parsing completed. Parsed 100 lines in 0.07812 secs.</pre>"
      ],
      "text/plain": [
       "Parsing completed. Parsed 100 lines in 0.07812 secs."
      ]
     },
     "metadata": {},
     "output_type": "display_data"
    },
    {
     "name": "stdout",
     "output_type": "stream",
     "text": [
      "------------------------------------------------------\n",
      "Inferred types from first 100 line(s) of file as \n",
      "column_type_hints=[str,long,str,str,str,str,str,long,long,long,long,long,long,long,long,long,long,long,long,long]\n",
      "If parsing fails due to incorrect types, you can correct\n",
      "the inferred type list above and pass it to read_csv in\n",
      "the column_type_hints argument\n",
      "------------------------------------------------------\n"
     ]
    },
    {
     "data": {
      "text/html": [
       "<pre>Finished parsing file C:\\Users\\Omar\\kitchentestgl_random.csv</pre>"
      ],
      "text/plain": [
       "Finished parsing file C:\\Users\\Omar\\kitchentestgl_random.csv"
      ]
     },
     "metadata": {},
     "output_type": "display_data"
    },
    {
     "data": {
      "text/html": [
       "<pre>Parsing completed. Parsed 1000 lines in 0.058325 secs.</pre>"
      ],
      "text/plain": [
       "Parsing completed. Parsed 1000 lines in 0.058325 secs."
      ]
     },
     "metadata": {},
     "output_type": "display_data"
    },
    {
     "name": "stdout",
     "output_type": "stream",
     "text": [
      "results for random dataset 1\n",
      "euclidean distance results for the minority classifiers of random dataset 1\n",
      "euclidean distance results for the Majority classifiers of random dataset 1\n",
      "euclidean distance results for the Majority-Minority classifiers of random dataset 1\n",
      "max euc acc\n",
      "0.865\n",
      "Cosine distance results for the minority classifiers of random dataset 1\n",
      "Cosine distance results for the Majority classifiers of random dataset 1\n",
      "Cosine distance results for the Majority-Minority classifiers of random dataset 1\n",
      "max euc acc\n",
      "max euc acc\n",
      "max euc acc\n",
      "max euc acc\n",
      "max euc acc\n",
      "0.865\n",
      "data set 1 was tested!\n"
     ]
    },
    {
     "data": {
      "text/html": [
       "<pre>Finished parsing file C:\\Users\\Omar\\kitchentestgl_random_2.csv</pre>"
      ],
      "text/plain": [
       "Finished parsing file C:\\Users\\Omar\\kitchentestgl_random_2.csv"
      ]
     },
     "metadata": {},
     "output_type": "display_data"
    },
    {
     "data": {
      "text/html": [
       "<pre>Parsing completed. Parsed 100 lines in 0.093743 secs.</pre>"
      ],
      "text/plain": [
       "Parsing completed. Parsed 100 lines in 0.093743 secs."
      ]
     },
     "metadata": {},
     "output_type": "display_data"
    },
    {
     "name": "stdout",
     "output_type": "stream",
     "text": [
      "------------------------------------------------------\n",
      "Inferred types from first 100 line(s) of file as \n",
      "column_type_hints=[str,long,str,str,str,str,str,long,long,long,long,long,long,long,long,long,long,long,long,long]\n",
      "If parsing fails due to incorrect types, you can correct\n",
      "the inferred type list above and pass it to read_csv in\n",
      "the column_type_hints argument\n",
      "------------------------------------------------------\n"
     ]
    },
    {
     "data": {
      "text/html": [
       "<pre>Finished parsing file C:\\Users\\Omar\\kitchentestgl_random_2.csv</pre>"
      ],
      "text/plain": [
       "Finished parsing file C:\\Users\\Omar\\kitchentestgl_random_2.csv"
      ]
     },
     "metadata": {},
     "output_type": "display_data"
    },
    {
     "data": {
      "text/html": [
       "<pre>Parsing completed. Parsed 1000 lines in 0.055984 secs.</pre>"
      ],
      "text/plain": [
       "Parsing completed. Parsed 1000 lines in 0.055984 secs."
      ]
     },
     "metadata": {},
     "output_type": "display_data"
    },
    {
     "name": "stdout",
     "output_type": "stream",
     "text": [
      "results for random dataset 2\n",
      "euclidean distance results for the minority classifiers of random dataset 2\n",
      "euclidean distance results for the Majority classifiers of random dataset 2\n",
      "euclidean distance results for the Majority-Minority classifiers of random dataset 2\n",
      "max euc acc\n",
      "0.876\n",
      "Cosine distance results for the minority classifiers of random dataset 2\n",
      "Cosine distance results for the Majority classifiers of random dataset 2\n",
      "Cosine distance results for the Majority-Minority classifiers of random dataset 2\n",
      "max euc acc\n",
      "max euc acc\n",
      "max euc acc\n",
      "max euc acc\n",
      "max euc acc\n",
      "0.876\n",
      "data set 2 was tested!\n"
     ]
    },
    {
     "data": {
      "text/html": [
       "<pre>Finished parsing file C:\\Users\\Omar\\kitchentestgl_random_3.csv</pre>"
      ],
      "text/plain": [
       "Finished parsing file C:\\Users\\Omar\\kitchentestgl_random_3.csv"
      ]
     },
     "metadata": {},
     "output_type": "display_data"
    },
    {
     "data": {
      "text/html": [
       "<pre>Parsing completed. Parsed 100 lines in 0.093743 secs.</pre>"
      ],
      "text/plain": [
       "Parsing completed. Parsed 100 lines in 0.093743 secs."
      ]
     },
     "metadata": {},
     "output_type": "display_data"
    },
    {
     "name": "stdout",
     "output_type": "stream",
     "text": [
      "------------------------------------------------------\n",
      "Inferred types from first 100 line(s) of file as \n",
      "column_type_hints=[str,long,str,str,str,str,str,long,long,long,long,long,long,long,long,long,long,long,long,long]\n",
      "If parsing fails due to incorrect types, you can correct\n",
      "the inferred type list above and pass it to read_csv in\n",
      "the column_type_hints argument\n",
      "------------------------------------------------------\n"
     ]
    },
    {
     "data": {
      "text/html": [
       "<pre>Finished parsing file C:\\Users\\Omar\\kitchentestgl_random_3.csv</pre>"
      ],
      "text/plain": [
       "Finished parsing file C:\\Users\\Omar\\kitchentestgl_random_3.csv"
      ]
     },
     "metadata": {},
     "output_type": "display_data"
    },
    {
     "data": {
      "text/html": [
       "<pre>Parsing completed. Parsed 1000 lines in 0.047025 secs.</pre>"
      ],
      "text/plain": [
       "Parsing completed. Parsed 1000 lines in 0.047025 secs."
      ]
     },
     "metadata": {},
     "output_type": "display_data"
    },
    {
     "name": "stdout",
     "output_type": "stream",
     "text": [
      "results for random dataset 3\n",
      "euclidean distance results for the minority classifiers of random dataset 3\n",
      "euclidean distance results for the Majority classifiers of random dataset 3\n",
      "euclidean distance results for the Majority-Minority classifiers of random dataset 3\n",
      "max euc acc\n",
      "0.868\n",
      "Cosine distance results for the minority classifiers of random dataset 3\n",
      "Cosine distance results for the Majority classifiers of random dataset 3\n",
      "Cosine distance results for the Majority-Minority classifiers of random dataset 3\n",
      "max euc acc\n",
      "max euc acc\n",
      "max euc acc\n",
      "max euc acc\n",
      "max euc acc\n",
      "0.866\n",
      "data set 3 was tested!\n"
     ]
    },
    {
     "data": {
      "text/html": [
       "<pre>Finished parsing file C:\\Users\\Omar\\kitchentestgl_random_4.csv</pre>"
      ],
      "text/plain": [
       "Finished parsing file C:\\Users\\Omar\\kitchentestgl_random_4.csv"
      ]
     },
     "metadata": {},
     "output_type": "display_data"
    },
    {
     "data": {
      "text/html": [
       "<pre>Parsing completed. Parsed 100 lines in 0.091017 secs.</pre>"
      ],
      "text/plain": [
       "Parsing completed. Parsed 100 lines in 0.091017 secs."
      ]
     },
     "metadata": {},
     "output_type": "display_data"
    },
    {
     "name": "stdout",
     "output_type": "stream",
     "text": [
      "------------------------------------------------------\n",
      "Inferred types from first 100 line(s) of file as \n",
      "column_type_hints=[str,long,str,str,str,str,str,long,long,long,long,long,long,long,long,long,long,long,long,long]\n",
      "If parsing fails due to incorrect types, you can correct\n",
      "the inferred type list above and pass it to read_csv in\n",
      "the column_type_hints argument\n",
      "------------------------------------------------------\n"
     ]
    },
    {
     "data": {
      "text/html": [
       "<pre>Finished parsing file C:\\Users\\Omar\\kitchentestgl_random_4.csv</pre>"
      ],
      "text/plain": [
       "Finished parsing file C:\\Users\\Omar\\kitchentestgl_random_4.csv"
      ]
     },
     "metadata": {},
     "output_type": "display_data"
    },
    {
     "data": {
      "text/html": [
       "<pre>Parsing completed. Parsed 1000 lines in 0.055177 secs.</pre>"
      ],
      "text/plain": [
       "Parsing completed. Parsed 1000 lines in 0.055177 secs."
      ]
     },
     "metadata": {},
     "output_type": "display_data"
    },
    {
     "name": "stdout",
     "output_type": "stream",
     "text": [
      "results for random dataset 4\n",
      "euclidean distance results for the minority classifiers of random dataset 4\n",
      "euclidean distance results for the Majority classifiers of random dataset 4\n",
      "euclidean distance results for the Majority-Minority classifiers of random dataset 4\n",
      "max euc acc\n",
      "0.873\n",
      "Cosine distance results for the minority classifiers of random dataset 4\n",
      "Cosine distance results for the Majority classifiers of random dataset 4\n",
      "Cosine distance results for the Majority-Minority classifiers of random dataset 4\n",
      "max euc acc\n",
      "max euc acc\n",
      "max euc acc\n",
      "max euc acc\n",
      "max euc acc\n",
      "0.873\n",
      "data set 4 was tested!\n"
     ]
    },
    {
     "data": {
      "text/html": [
       "<pre>Finished parsing file C:\\Users\\Omar\\kitchentestgl_random_5.csv</pre>"
      ],
      "text/plain": [
       "Finished parsing file C:\\Users\\Omar\\kitchentestgl_random_5.csv"
      ]
     },
     "metadata": {},
     "output_type": "display_data"
    },
    {
     "data": {
      "text/html": [
       "<pre>Parsing completed. Parsed 100 lines in 0.093744 secs.</pre>"
      ],
      "text/plain": [
       "Parsing completed. Parsed 100 lines in 0.093744 secs."
      ]
     },
     "metadata": {},
     "output_type": "display_data"
    },
    {
     "name": "stdout",
     "output_type": "stream",
     "text": [
      "------------------------------------------------------\n",
      "Inferred types from first 100 line(s) of file as \n",
      "column_type_hints=[str,long,str,str,str,str,str,long,long,long,long,long,long,long,long,long,long,long,long,long]\n",
      "If parsing fails due to incorrect types, you can correct\n",
      "the inferred type list above and pass it to read_csv in\n",
      "the column_type_hints argument\n",
      "------------------------------------------------------\n"
     ]
    },
    {
     "data": {
      "text/html": [
       "<pre>Finished parsing file C:\\Users\\Omar\\kitchentestgl_random_5.csv</pre>"
      ],
      "text/plain": [
       "Finished parsing file C:\\Users\\Omar\\kitchentestgl_random_5.csv"
      ]
     },
     "metadata": {},
     "output_type": "display_data"
    },
    {
     "data": {
      "text/html": [
       "<pre>Parsing completed. Parsed 1000 lines in 0.062508 secs.</pre>"
      ],
      "text/plain": [
       "Parsing completed. Parsed 1000 lines in 0.062508 secs."
      ]
     },
     "metadata": {},
     "output_type": "display_data"
    },
    {
     "name": "stdout",
     "output_type": "stream",
     "text": [
      "results for random dataset 5\n",
      "euclidean distance results for the minority classifiers of random dataset 5\n",
      "euclidean distance results for the Majority classifiers of random dataset 5\n",
      "euclidean distance results for the Majority-Minority classifiers of random dataset 5\n",
      "max euc acc\n",
      "0.869\n",
      "Cosine distance results for the minority classifiers of random dataset 5\n",
      "Cosine distance results for the Majority classifiers of random dataset 5\n",
      "Cosine distance results for the Majority-Minority classifiers of random dataset 5\n",
      "max euc acc\n",
      "max euc acc\n",
      "max euc acc\n",
      "max euc acc\n",
      "max euc acc\n",
      "0.869\n",
      "data set 5 was tested!\n",
      "max cosine acc\n",
      "[0.865, 0.876, 0.866, 0.873, 0.869]\n",
      "max euc acc\n",
      "[0.865, 0.876, 0.868, 0.873, 0.869]\n"
     ]
    }
   ],
   "source": [
    "from collections import defaultdict\n",
    "counter=0\n",
    "max_euc_accs=[]\n",
    "max_cosine_accs=[]\n",
    "euc_threshold_acc = defaultdict(list)\n",
    "cosine_threshold_acc = defaultdict(list)\n",
    "\n",
    "euc_threshold_fscore = defaultdict(list)\n",
    "cosine_threshold_fscore = defaultdict(list)\n",
    "for d in range(1,6):\n",
    "    i=d\n",
    "    counter+=1\n",
    "    if i==1:\n",
    "        kitchentestgl = graphlab.SFrame('kitchentestgl_random.csv')\n",
    "    else:\n",
    "        kitchentestgl = graphlab.SFrame('kitchentestgl_random_'+str(i)+'.csv')\n",
    "    print \"results for random dataset \"+str(d)\n",
    "    print \"euclidean distance results for the minority classifiers of random dataset \"+str(d)\n",
    "    largestdistances=[215.7683943491261,167.77067681809,99.84487968844472,97.77013859047148,97.01030873056739,96.97422337920526]\n",
    "    lowestdistances=[88.91006692158093,90.62008607367353,91.81503144910424,91.98369420718001,94.66255859631093,94.75230867899737]\n",
    "    Minor_domains = ['book_predictions','dvd_predictions','automotive_predictions','jewelrywatches_predictions','computervideo_predictions','gourmet_predictions']\n",
    "    Major_domains = ['healthpersonal_predictions','baby_predictions','cameraphoto_predictions','apparel_predictions','electronics_predictions','beauty_predictions']\n",
    "    normalized_largestdistances = euclidean_norm_dict(largestdistances)\n",
    "    normalized_smallestdistances = euclidean_norm_dict(lowestdistances)\n",
    "    thresholds = [0.5,0.6,0.7,0.8,0.9]\n",
    "    euc_Fscores = []\n",
    "    euc_Accs = []\n",
    "    for i in range(len(thresholds)):\n",
    "        threshold=thresholds[i]\n",
    "        \n",
    "        kitchentestgl['minority_predictions'] = kitchentestgl.apply(lambda x: weighted_predict_largedist(x,normalized_largestdistances,threshold) )\n",
    "        #print \"minority_predictions' model Fscore when using a threshold of \"+str(thresholds[i])\n",
    "        #print graphlab.evaluation.f1_score(kitchentestgl['label'], kitchentestgl['minority_predictions'])\n",
    "        #print \"minority_predictions' model Accuracy when using a threshold of \"+str(thresholds[i])\n",
    "        #print graphlab.evaluation.accuracy(kitchentestgl['label'], kitchentestgl['minority_predictions'])\n",
    "        ##euc_Fscores.append(graphlab.evaluation.f1_score(kitchentestgl['label'], kitchentestgl['minority_predictions']))\n",
    "        ##euc_Accs.append(graphlab.evaluation.accuracy(kitchentestgl['label'], kitchentestgl['minority_predictions']))\n",
    "        #euc_threshold_acc[threshold].append(graphlab.evaluation.accuracy(kitchentestgl['label'], kitchentestgl['minority_predictions']))\n",
    "        #euc_threshold_fscore[threshold].append(graphlab.evaluation.f1_score(kitchentestgl['label'], kitchentestgl['minority_predictions']))\n",
    "    print \"euclidean distance results for the Majority classifiers of random dataset \"+str(d)\n",
    "\n",
    "    euc_major_Fscores=[]\n",
    "    euc_major_Accs = []\n",
    "    for i in range(len(thresholds)):\n",
    "        threshold=thresholds[i]\n",
    "        kitchentestgl['majority_predictions'] = kitchentestgl.apply(lambda x: weighted_predict_smalldist(x,normalized_smallestdistances,threshold) )\n",
    "        #print \"majority_predictions' model Fscore when using a threshold of \"+str(thresholds[i])\n",
    "        #print graphlab.evaluation.f1_score(kitchentestgl['label'], kitchentestgl['majority_predictions'])\n",
    "        #print \"majority_predictions' model Accuracy when using a threshold of \"+str(thresholds[i])\n",
    "        #print graphlab.evaluation.accuracy(kitchentestgl['label'], kitchentestgl['majority_predictions'])\n",
    "        ##euc_Fscores.append(graphlab.evaluation.f1_score(kitchentestgl['label'], kitchentestgl['majority_predictions']))\n",
    "        ##euc_Accs.append(graphlab.evaluation.accuracy(kitchentestgl['label'], kitchentestgl['majority_predictions']))\n",
    "        euc_threshold_acc[threshold].append(graphlab.evaluation.accuracy(kitchentestgl['label'], kitchentestgl['majority_predictions']))\n",
    "        euc_threshold_fscore[threshold].append(graphlab.evaluation.f1_score(kitchentestgl['label'], kitchentestgl['majority_predictions']))\n",
    "    print \"euclidean distance results for the Majority-Minority classifiers of random dataset \"+str(d)\n",
    "\n",
    "    #threshold using all models\n",
    "    for i in range(len(thresholds)):\n",
    "        threshold=thresholds[i]\n",
    "        kitchentestgl['majority_minority_predictions'] = kitchentestgl.apply(lambda x: weighted_predict_smalldist_largedistances(x,normalized_smallestdistances,normalized_largestdistances,threshold) )\n",
    "\n",
    "        #print \"majority_minority_predictions' model Fscore when using a threshold of \"+str(thresholds[i])\n",
    "        #print graphlab.evaluation.f1_score(kitchentestgl['label'], kitchentestgl['majority_minority_predictions'])\n",
    "        #print \"majority_minority_predictions' model Accuracy when using a threshold of \"+str(thresholds[i])\n",
    "        #print graphlab.evaluation.accuracy(kitchentestgl['label'], kitchentestgl['majority_minority_predictions'])\n",
    "        euc_Fscores.append(graphlab.evaluation.f1_score(kitchentestgl['label'], kitchentestgl['majority_minority_predictions']))\n",
    "        euc_Accs.append(graphlab.evaluation.accuracy(kitchentestgl['label'], kitchentestgl['majority_minority_predictions']))\n",
    "        euc_threshold_acc[threshold].append(graphlab.evaluation.accuracy(kitchentestgl['label'], kitchentestgl['majority_minority_predictions']))\n",
    "        euc_threshold_fscore[threshold].append(graphlab.evaluation.f1_score(kitchentestgl['label'], kitchentestgl['majority_minority_predictions']))\n",
    "    print \"max euc acc\"\n",
    "    print max(euc_Accs)\n",
    "    max_euc_accs.append(max(euc_Accs))\n",
    "    largestdistances=[0.5633181597498838,0.5546099411237762,0.5240471587804418,0.5039841842356722,0.49261932743957626,0.487554486027983]\n",
    "    lowestdistances=[ 0.36080598790800533,0.3686636285328633,0.4070498131725162,0.40863691553859804,0.4114316511076972,0.4613234524061305]\n",
    "    Minor_domains = ['automotive_predictions','book_predictions','jewelrywatches_predictions','gourmet_predictions','dvd_predictions','grocery_predictions']\n",
    "\n",
    "    Major_domains = ['electronics_predictions','healthpersonal_predictions','cameraphoto_predictions','apparel_predictions','baby_predictions','beauty_predictions']\n",
    "    normalized_largestdistances = euclidean_norm_dict(largestdistances)\n",
    "    normalized_smallestdistances = euclidean_norm_dict(lowestdistances)\n",
    "    print \"Cosine distance results for the minority classifiers of random dataset \"+str(d)\n",
    "    cosine_Accs=[]\n",
    "    cosine_Fscores=[]\n",
    "    for i in range(len(thresholds)):\n",
    "        threshold=thresholds[i]\n",
    "        kitchentestgl['minority_predictions'] = kitchentestgl.apply(lambda x: weighted_predict_largedist(x,normalized_largestdistances,threshold) )\n",
    "        #print \"minority_predictions' model Fscore when using a threshold of \"+str(thresholds[i])\n",
    "        #print graphlab.evaluation.f1_score(kitchentestgl['label'], kitchentestgl['minority_predictions'])\n",
    "        #print \"minority_predictions' model Accuracy when using a threshold of \"+str(thresholds[i])\n",
    "        #print graphlab.evaluation.accuracy(kitchentestgl['label'], kitchentestgl['minority_predictions'])\n",
    "        ##cosine_Accs.append(graphlab.evaluation.accuracy(kitchentestgl['label'], kitchentestgl['minority_predictions']))\n",
    "        ##cosine_Fscores.append(graphlab.evaluation.f1_score(kitchentestgl['label'], kitchentestgl['minority_predictions']))\n",
    "        #cosine_threshold_acc[threshold].append(graphlab.evaluation.accuracy(kitchentestgl['label'], kitchentestgl['minority_predictions']))\n",
    "        #cosine_threshold_fscore[threshold].append(graphlab.evaluation.f1_score(kitchentestgl['label'], kitchentestgl['minority_predictions']))\n",
    "    \n",
    "    print \"Cosine distance results for the Majority classifiers of random dataset \"+str(d)\n",
    "    for i in range(len(thresholds)):\n",
    "        threshold=thresholds[i]\n",
    "        kitchentestgl['majority_predictions'] = kitchentestgl.apply(lambda x: weighted_predict_smalldist(x,normalized_smallestdistances,threshold) )\n",
    "        #print \"majority_predictions' model Fscore when using a threshold of \"+str(thresholds[i])\n",
    "        #print graphlab.evaluation.f1_score(kitchentestgl['label'], kitchentestgl['majority_predictions'])\n",
    "        #print \"majority_predictions' model Accuracy when using a threshold of \"+str(thresholds[i])\n",
    "        #print graphlab.evaluation.accuracy(kitchentestgl['label'], kitchentestgl['majority_predictions'])\n",
    "        ##cosine_Accs.append(graphlab.evaluation.accuracy(kitchentestgl['label'], kitchentestgl['majority_predictions']))\n",
    "        ##cosine_Fscores.append(graphlab.evaluation.f1_score(kitchentestgl['label'], kitchentestgl['majority_predictions']))\n",
    "        #cosine_threshold_acc[threshold].append(graphlab.evaluation.accuracy(kitchentestgl['label'], kitchentestgl['majority_predictions']))\n",
    "        #cosine_threshold_fscore[threshold].append(graphlab.evaluation.f1_score(kitchentestgl['label'], kitchentestgl['majority_predictions']))\n",
    "    \n",
    "    print \"Cosine distance results for the Majority-Minority classifiers of random dataset \"+str(d)\n",
    "    \n",
    "    \n",
    "    for i in range(len(thresholds)):\n",
    "        threshold=thresholds[i]\n",
    "        kitchentestgl['majority_minority_predictions'] = kitchentestgl.apply(lambda x: weighted_predict_smalldist_largedistances(x,normalized_smallestdistances,normalized_largestdistances,threshold) )\n",
    "\n",
    "        #print \"majority_minority_predictions' model Fscore when using a threshold of \"+str(thresholds[i])\n",
    "        #print graphlab.evaluation.f1_score(kitchentestgl['label'], kitchentestgl['majority_minority_predictions'])\n",
    "        #print \"majority_minority_predictions' model Accuracy when using a threshold of \"+str(thresholds[i])\n",
    "        #print graphlab.evaluation.accuracy(kitchentestgl['label'], kitchentestgl['majority_minority_predictions'])\n",
    "        print \"max euc acc\"\n",
    "        cosine_Accs.append(graphlab.evaluation.accuracy(kitchentestgl['label'], kitchentestgl['majority_minority_predictions']))\n",
    "        cosine_Fscores.append(graphlab.evaluation.f1_score(kitchentestgl['label'], kitchentestgl['majority_minority_predictions']))\n",
    "        cosine_threshold_acc[threshold].append(graphlab.evaluation.accuracy(kitchentestgl['label'], kitchentestgl['majority_minority_predictions']))\n",
    "        cosine_threshold_fscore[threshold].append(graphlab.evaluation.f1_score(kitchentestgl['label'], kitchentestgl['majority_minority_predictions']))\n",
    "    print max(cosine_Accs)\n",
    "    max_cosine_accs.append(max(cosine_Accs))\n",
    "    print \"data set \"+str(counter)+' was tested!'\n",
    "print \"max cosine acc\"\n",
    "print max_cosine_accs\n",
    "print \"max euc acc\"\n",
    "print max_euc_accs\n",
    "\n",
    "\n",
    "\n",
    "\n",
    "\n",
    "\n"
   ]
  },
  {
   "cell_type": "code",
   "execution_count": 4,
   "metadata": {
    "collapsed": false
   },
   "outputs": [
    {
     "name": "stdout",
     "output_type": "stream",
     "text": [
      "This non-commercial license of GraphLab Create for academic use is assigned to oaabde01@louisville.edu and will expire on September 24, 2019.\n"
     ]
    },
    {
     "name": "stderr",
     "output_type": "stream",
     "text": [
      "[INFO] graphlab.cython.cy_server: GraphLab Create v2.1 started. Logging: C:\\Users\\Omar\\AppData\\Local\\Temp\\graphlab_server_1538538005.log.0\n"
     ]
    },
    {
     "data": {
      "text/html": [
       "<pre>Finished parsing file C:\\Users\\Omar\\kitchentestgl_random.csv</pre>"
      ],
      "text/plain": [
       "Finished parsing file C:\\Users\\Omar\\kitchentestgl_random.csv"
      ]
     },
     "metadata": {},
     "output_type": "display_data"
    },
    {
     "data": {
      "text/html": [
       "<pre>Parsing completed. Parsed 100 lines in 0.188892 secs.</pre>"
      ],
      "text/plain": [
       "Parsing completed. Parsed 100 lines in 0.188892 secs."
      ]
     },
     "metadata": {},
     "output_type": "display_data"
    },
    {
     "name": "stdout",
     "output_type": "stream",
     "text": [
      "------------------------------------------------------\n",
      "Inferred types from first 100 line(s) of file as \n",
      "column_type_hints=[str,long,str,str,str,str,str,long,long,long,long,long,long,long,long,long,long,long,long,long]\n",
      "If parsing fails due to incorrect types, you can correct\n",
      "the inferred type list above and pass it to read_csv in\n",
      "the column_type_hints argument\n",
      "------------------------------------------------------\n"
     ]
    },
    {
     "data": {
      "text/html": [
       "<pre>Finished parsing file C:\\Users\\Omar\\kitchentestgl_random.csv</pre>"
      ],
      "text/plain": [
       "Finished parsing file C:\\Users\\Omar\\kitchentestgl_random.csv"
      ]
     },
     "metadata": {},
     "output_type": "display_data"
    },
    {
     "data": {
      "text/html": [
       "<pre>Parsing completed. Parsed 1000 lines in 0.106938 secs.</pre>"
      ],
      "text/plain": [
       "Parsing completed. Parsed 1000 lines in 0.106938 secs."
      ]
     },
     "metadata": {},
     "output_type": "display_data"
    },
    {
     "name": "stdout",
     "output_type": "stream",
     "text": [
      "results for random dataset 1\n",
      "euclidean distance results for the minority classifiers of random dataset 1\n",
      "euclidean distance results for the Majority classifiers of random dataset 1\n",
      "euclidean distance results for the Majority-Minority classifiers of random dataset 1\n",
      "max euc acc\n",
      "0.869\n",
      "Cosine distance results for the minority classifiers of random dataset 1\n",
      "Cosine distance results for the Majority classifiers of random dataset 1\n",
      "Cosine distance results for the Majority-Minority classifiers of random dataset 1\n",
      "max euc acc\n",
      "max euc acc\n",
      "max euc acc\n",
      "max euc acc\n",
      "max euc acc\n",
      "0.865\n",
      "data set 1 was tested!\n"
     ]
    },
    {
     "data": {
      "text/html": [
       "<pre>Finished parsing file C:\\Users\\Omar\\kitchentestgl_random_2.csv</pre>"
      ],
      "text/plain": [
       "Finished parsing file C:\\Users\\Omar\\kitchentestgl_random_2.csv"
      ]
     },
     "metadata": {},
     "output_type": "display_data"
    },
    {
     "data": {
      "text/html": [
       "<pre>Parsing completed. Parsed 100 lines in 0.158908 secs.</pre>"
      ],
      "text/plain": [
       "Parsing completed. Parsed 100 lines in 0.158908 secs."
      ]
     },
     "metadata": {},
     "output_type": "display_data"
    },
    {
     "name": "stdout",
     "output_type": "stream",
     "text": [
      "------------------------------------------------------\n",
      "Inferred types from first 100 line(s) of file as \n",
      "column_type_hints=[str,long,str,str,str,str,str,long,long,long,long,long,long,long,long,long,long,long,long,long]\n",
      "If parsing fails due to incorrect types, you can correct\n",
      "the inferred type list above and pass it to read_csv in\n",
      "the column_type_hints argument\n",
      "------------------------------------------------------\n"
     ]
    },
    {
     "data": {
      "text/html": [
       "<pre>Finished parsing file C:\\Users\\Omar\\kitchentestgl_random_2.csv</pre>"
      ],
      "text/plain": [
       "Finished parsing file C:\\Users\\Omar\\kitchentestgl_random_2.csv"
      ]
     },
     "metadata": {},
     "output_type": "display_data"
    },
    {
     "data": {
      "text/html": [
       "<pre>Parsing completed. Parsed 1000 lines in 0.100942 secs.</pre>"
      ],
      "text/plain": [
       "Parsing completed. Parsed 1000 lines in 0.100942 secs."
      ]
     },
     "metadata": {},
     "output_type": "display_data"
    },
    {
     "name": "stdout",
     "output_type": "stream",
     "text": [
      "results for random dataset 2\n",
      "euclidean distance results for the minority classifiers of random dataset 2\n",
      "euclidean distance results for the Majority classifiers of random dataset 2\n",
      "euclidean distance results for the Majority-Minority classifiers of random dataset 2\n",
      "max euc acc\n",
      "0.885\n",
      "Cosine distance results for the minority classifiers of random dataset 2\n",
      "Cosine distance results for the Majority classifiers of random dataset 2\n",
      "Cosine distance results for the Majority-Minority classifiers of random dataset 2\n",
      "max euc acc\n",
      "max euc acc\n",
      "max euc acc\n",
      "max euc acc\n",
      "max euc acc\n",
      "0.876\n",
      "data set 2 was tested!\n"
     ]
    },
    {
     "data": {
      "text/html": [
       "<pre>Finished parsing file C:\\Users\\Omar\\kitchentestgl_random_3.csv</pre>"
      ],
      "text/plain": [
       "Finished parsing file C:\\Users\\Omar\\kitchentestgl_random_3.csv"
      ]
     },
     "metadata": {},
     "output_type": "display_data"
    },
    {
     "data": {
      "text/html": [
       "<pre>Parsing completed. Parsed 100 lines in 0.185294 secs.</pre>"
      ],
      "text/plain": [
       "Parsing completed. Parsed 100 lines in 0.185294 secs."
      ]
     },
     "metadata": {},
     "output_type": "display_data"
    },
    {
     "name": "stdout",
     "output_type": "stream",
     "text": [
      "------------------------------------------------------\n",
      "Inferred types from first 100 line(s) of file as \n",
      "column_type_hints=[str,long,str,str,str,str,str,long,long,long,long,long,long,long,long,long,long,long,long,long]\n",
      "If parsing fails due to incorrect types, you can correct\n",
      "the inferred type list above and pass it to read_csv in\n",
      "the column_type_hints argument\n",
      "------------------------------------------------------\n"
     ]
    },
    {
     "data": {
      "text/html": [
       "<pre>Finished parsing file C:\\Users\\Omar\\kitchentestgl_random_3.csv</pre>"
      ],
      "text/plain": [
       "Finished parsing file C:\\Users\\Omar\\kitchentestgl_random_3.csv"
      ]
     },
     "metadata": {},
     "output_type": "display_data"
    },
    {
     "data": {
      "text/html": [
       "<pre>Parsing completed. Parsed 1000 lines in 0.082952 secs.</pre>"
      ],
      "text/plain": [
       "Parsing completed. Parsed 1000 lines in 0.082952 secs."
      ]
     },
     "metadata": {},
     "output_type": "display_data"
    },
    {
     "name": "stdout",
     "output_type": "stream",
     "text": [
      "results for random dataset 3\n",
      "euclidean distance results for the minority classifiers of random dataset 3\n",
      "euclidean distance results for the Majority classifiers of random dataset 3\n",
      "euclidean distance results for the Majority-Minority classifiers of random dataset 3\n",
      "max euc acc\n",
      "0.872\n",
      "Cosine distance results for the minority classifiers of random dataset 3\n",
      "Cosine distance results for the Majority classifiers of random dataset 3\n",
      "Cosine distance results for the Majority-Minority classifiers of random dataset 3\n",
      "max euc acc\n",
      "max euc acc\n",
      "max euc acc\n",
      "max euc acc\n",
      "max euc acc\n",
      "0.866\n",
      "data set 3 was tested!\n"
     ]
    },
    {
     "data": {
      "text/html": [
       "<pre>Finished parsing file C:\\Users\\Omar\\kitchentestgl_random_4.csv</pre>"
      ],
      "text/plain": [
       "Finished parsing file C:\\Users\\Omar\\kitchentestgl_random_4.csv"
      ]
     },
     "metadata": {},
     "output_type": "display_data"
    },
    {
     "data": {
      "text/html": [
       "<pre>Parsing completed. Parsed 100 lines in 0.132865 secs.</pre>"
      ],
      "text/plain": [
       "Parsing completed. Parsed 100 lines in 0.132865 secs."
      ]
     },
     "metadata": {},
     "output_type": "display_data"
    },
    {
     "name": "stdout",
     "output_type": "stream",
     "text": [
      "------------------------------------------------------\n",
      "Inferred types from first 100 line(s) of file as \n",
      "column_type_hints=[str,long,str,str,str,str,str,long,long,long,long,long,long,long,long,long,long,long,long,long]\n",
      "If parsing fails due to incorrect types, you can correct\n",
      "the inferred type list above and pass it to read_csv in\n",
      "the column_type_hints argument\n",
      "------------------------------------------------------\n"
     ]
    },
    {
     "data": {
      "text/html": [
       "<pre>Finished parsing file C:\\Users\\Omar\\kitchentestgl_random_4.csv</pre>"
      ],
      "text/plain": [
       "Finished parsing file C:\\Users\\Omar\\kitchentestgl_random_4.csv"
      ]
     },
     "metadata": {},
     "output_type": "display_data"
    },
    {
     "data": {
      "text/html": [
       "<pre>Parsing completed. Parsed 1000 lines in 0.064962 secs.</pre>"
      ],
      "text/plain": [
       "Parsing completed. Parsed 1000 lines in 0.064962 secs."
      ]
     },
     "metadata": {},
     "output_type": "display_data"
    },
    {
     "name": "stdout",
     "output_type": "stream",
     "text": [
      "results for random dataset 4\n",
      "euclidean distance results for the minority classifiers of random dataset 4\n",
      "euclidean distance results for the Majority classifiers of random dataset 4\n",
      "euclidean distance results for the Majority-Minority classifiers of random dataset 4\n",
      "max euc acc\n",
      "0.867\n",
      "Cosine distance results for the minority classifiers of random dataset 4\n",
      "Cosine distance results for the Majority classifiers of random dataset 4\n",
      "Cosine distance results for the Majority-Minority classifiers of random dataset 4\n",
      "max euc acc\n",
      "max euc acc\n",
      "max euc acc\n",
      "max euc acc\n",
      "max euc acc\n",
      "0.873\n",
      "data set 4 was tested!\n"
     ]
    },
    {
     "data": {
      "text/html": [
       "<pre>Finished parsing file C:\\Users\\Omar\\kitchentestgl_random_5.csv</pre>"
      ],
      "text/plain": [
       "Finished parsing file C:\\Users\\Omar\\kitchentestgl_random_5.csv"
      ]
     },
     "metadata": {},
     "output_type": "display_data"
    },
    {
     "data": {
      "text/html": [
       "<pre>Parsing completed. Parsed 100 lines in 0.118856 secs.</pre>"
      ],
      "text/plain": [
       "Parsing completed. Parsed 100 lines in 0.118856 secs."
      ]
     },
     "metadata": {},
     "output_type": "display_data"
    },
    {
     "name": "stdout",
     "output_type": "stream",
     "text": [
      "------------------------------------------------------\n",
      "Inferred types from first 100 line(s) of file as \n",
      "column_type_hints=[str,long,str,str,str,str,str,long,long,long,long,long,long,long,long,long,long,long,long,long]\n",
      "If parsing fails due to incorrect types, you can correct\n",
      "the inferred type list above and pass it to read_csv in\n",
      "the column_type_hints argument\n",
      "------------------------------------------------------\n"
     ]
    },
    {
     "data": {
      "text/html": [
       "<pre>Finished parsing file C:\\Users\\Omar\\kitchentestgl_random_5.csv</pre>"
      ],
      "text/plain": [
       "Finished parsing file C:\\Users\\Omar\\kitchentestgl_random_5.csv"
      ]
     },
     "metadata": {},
     "output_type": "display_data"
    },
    {
     "data": {
      "text/html": [
       "<pre>Parsing completed. Parsed 1000 lines in 0.067962 secs.</pre>"
      ],
      "text/plain": [
       "Parsing completed. Parsed 1000 lines in 0.067962 secs."
      ]
     },
     "metadata": {},
     "output_type": "display_data"
    },
    {
     "name": "stdout",
     "output_type": "stream",
     "text": [
      "results for random dataset 5\n",
      "euclidean distance results for the minority classifiers of random dataset 5\n",
      "euclidean distance results for the Majority classifiers of random dataset 5\n",
      "euclidean distance results for the Majority-Minority classifiers of random dataset 5\n",
      "max euc acc\n",
      "0.874\n",
      "Cosine distance results for the minority classifiers of random dataset 5\n",
      "Cosine distance results for the Majority classifiers of random dataset 5\n",
      "Cosine distance results for the Majority-Minority classifiers of random dataset 5\n",
      "max euc acc\n",
      "max euc acc\n",
      "max euc acc\n",
      "max euc acc\n",
      "max euc acc\n",
      "0.869\n",
      "data set 5 was tested!\n",
      "max cosine acc\n",
      "[0.865, 0.876, 0.866, 0.873, 0.869]\n",
      "max euc acc\n",
      "[0.869, 0.885, 0.872, 0.867, 0.874]\n"
     ]
    }
   ],
   "source": [
    "## inverted weights\n",
    "        \n",
    "from collections import defaultdict\n",
    "counter=0\n",
    "max_euc_accs=[]\n",
    "max_cosine_accs=[]\n",
    "euc_threshold_acc = defaultdict(list)\n",
    "cosine_threshold_acc = defaultdict(list)\n",
    "\n",
    "euc_threshold_fscore = defaultdict(list)\n",
    "cosine_threshold_fscore = defaultdict(list)\n",
    "for d in range(1,6):\n",
    "    i=d\n",
    "    counter+=1\n",
    "    if i==1:\n",
    "        kitchentestgl = graphlab.SFrame('kitchentestgl_random.csv')\n",
    "    else:\n",
    "        kitchentestgl = graphlab.SFrame('kitchentestgl_random_'+str(i)+'.csv')\n",
    "    print \"results for random dataset \"+str(d)\n",
    "    print \"euclidean distance results for the minority classifiers of random dataset \"+str(d)\n",
    "    largestdistances=[215.7683943491261,167.77067681809,99.84487968844472,97.77013859047148,97.01030873056739,96.97422337920526]\n",
    "    lowestdistances=[88.91006692158093,90.62008607367353,91.81503144910424,91.98369420718001,94.66255859631093,94.75230867899737]\n",
    "    Minor_domains = ['book_predictions','dvd_predictions','automotive_predictions','jewelrywatches_predictions','computervideo_predictions','gourmet_predictions']\n",
    "    Major_domains = ['healthpersonal_predictions','baby_predictions','cameraphoto_predictions','apparel_predictions','electronics_predictions','beauty_predictions']\n",
    "    normalized_largestdistances = euclidean_norm_dict(largestdistances)\n",
    "    normalized_smallestdistances = euclidean_norm_dict(lowestdistances)\n",
    "    normalized_largestdistances_inverted = [0] * len(normalized_largestdistances)\n",
    "    normalized_smallestdistances_inverted = [0] * len(normalized_smallestdistances)\n",
    "    for i in range(len(normalized_largestdistances)):\n",
    "        normalized_largestdistances_inverted[i] = 1 - normalized_largestdistances[i]\n",
    "    \n",
    "    for j in range(len(normalized_smallestdistances)):\n",
    "        normalized_smallestdistances_inverted[j] = 1 - normalized_smallestdistances[j]\n",
    "    thresholds = [0.5,0.6,0.7,0.8,0.9]\n",
    "    euc_Fscores = []\n",
    "    euc_Accs = []\n",
    "    for i in range(len(thresholds)):\n",
    "        threshold=thresholds[i]\n",
    "        \n",
    "        kitchentestgl['minority_predictions'] = kitchentestgl.apply(lambda x: weighted_predict_largedist(x,normalized_largestdistances,threshold) )\n",
    "        #print \"minority_predictions' model Fscore when using a threshold of \"+str(thresholds[i])\n",
    "        #print graphlab.evaluation.f1_score(kitchentestgl['label'], kitchentestgl['minority_predictions'])\n",
    "        #print \"minority_predictions' model Accuracy when using a threshold of \"+str(thresholds[i])\n",
    "        #print graphlab.evaluation.accuracy(kitchentestgl['label'], kitchentestgl['minority_predictions'])\n",
    "        ##euc_Fscores.append(graphlab.evaluation.f1_score(kitchentestgl['label'], kitchentestgl['minority_predictions']))\n",
    "        ##euc_Accs.append(graphlab.evaluation.accuracy(kitchentestgl['label'], kitchentestgl['minority_predictions']))\n",
    "        #euc_threshold_acc[threshold].append(graphlab.evaluation.accuracy(kitchentestgl['label'], kitchentestgl['minority_predictions']))\n",
    "        #euc_threshold_fscore[threshold].append(graphlab.evaluation.f1_score(kitchentestgl['label'], kitchentestgl['minority_predictions']))\n",
    "    print \"euclidean distance results for the Majority classifiers of random dataset \"+str(d)\n",
    "\n",
    "    euc_major_Fscores=[]\n",
    "    euc_major_Accs = []\n",
    "    for i in range(len(thresholds)):\n",
    "        threshold=thresholds[i]\n",
    "        kitchentestgl['majority_predictions'] = kitchentestgl.apply(lambda x: weighted_predict_smalldist(x,normalized_smallestdistances,threshold) )\n",
    "        #print \"majority_predictions' model Fscore when using a threshold of \"+str(thresholds[i])\n",
    "        #print graphlab.evaluation.f1_score(kitchentestgl['label'], kitchentestgl['majority_predictions'])\n",
    "        #print \"majority_predictions' model Accuracy when using a threshold of \"+str(thresholds[i])\n",
    "        #print graphlab.evaluation.accuracy(kitchentestgl['label'], kitchentestgl['majority_predictions'])\n",
    "        ##euc_Fscores.append(graphlab.evaluation.f1_score(kitchentestgl['label'], kitchentestgl['majority_predictions']))\n",
    "        ##euc_Accs.append(graphlab.evaluation.accuracy(kitchentestgl['label'], kitchentestgl['majority_predictions']))\n",
    "        euc_threshold_acc[threshold].append(graphlab.evaluation.accuracy(kitchentestgl['label'], kitchentestgl['majority_predictions']))\n",
    "        euc_threshold_fscore[threshold].append(graphlab.evaluation.f1_score(kitchentestgl['label'], kitchentestgl['majority_predictions']))\n",
    "    print \"euclidean distance results for the Majority-Minority classifiers of random dataset \"+str(d)\n",
    "\n",
    "    #threshold using all models\n",
    "    for i in range(len(thresholds)):\n",
    "        threshold=thresholds[i]\n",
    "        kitchentestgl['majority_minority_predictions'] = kitchentestgl.apply(lambda x: weighted_predict_smalldist_largedistances(x,normalized_smallestdistances_inverted,normalized_largestdistances_inverted,threshold) )\n",
    "\n",
    "        #print \"majority_minority_predictions' model Fscore when using a threshold of \"+str(thresholds[i])\n",
    "        #print graphlab.evaluation.f1_score(kitchentestgl['label'], kitchentestgl['majority_minority_predictions'])\n",
    "        #print \"majority_minority_predictions' model Accuracy when using a threshold of \"+str(thresholds[i])\n",
    "        #print graphlab.evaluation.accuracy(kitchentestgl['label'], kitchentestgl['majority_minority_predictions'])\n",
    "        euc_Fscores.append(graphlab.evaluation.f1_score(kitchentestgl['label'], kitchentestgl['majority_minority_predictions']))\n",
    "        euc_Accs.append(graphlab.evaluation.accuracy(kitchentestgl['label'], kitchentestgl['majority_minority_predictions']))\n",
    "        euc_threshold_acc[threshold].append(graphlab.evaluation.accuracy(kitchentestgl['label'], kitchentestgl['majority_minority_predictions']))\n",
    "        euc_threshold_fscore[threshold].append(graphlab.evaluation.f1_score(kitchentestgl['label'], kitchentestgl['majority_minority_predictions']))\n",
    "    print \"max euc acc\"\n",
    "    print max(euc_Accs)\n",
    "    max_euc_accs.append(max(euc_Accs))\n",
    "    largestdistances=[0.5633181597498838,0.5546099411237762,0.5240471587804418,0.5039841842356722,0.49261932743957626,0.487554486027983]\n",
    "    lowestdistances=[ 0.36080598790800533,0.3686636285328633,0.4070498131725162,0.40863691553859804,0.4114316511076972,0.4613234524061305]\n",
    "    Minor_domains = ['automotive_predictions','book_predictions','jewelrywatches_predictions','gourmet_predictions','dvd_predictions','grocery_predictions']\n",
    "\n",
    "    Major_domains = ['electronics_predictions','healthpersonal_predictions','cameraphoto_predictions','apparel_predictions','baby_predictions','beauty_predictions']\n",
    "    normalized_largestdistances = euclidean_norm_dict(largestdistances)\n",
    "    normalized_smallestdistances = euclidean_norm_dict(lowestdistances)\n",
    "    normalized_largestdistances_inverted = [0] * len(normalized_largestdistances)\n",
    "    normalized_smallestdistances_inverted = [0] * len(normalized_smallestdistances)\n",
    "    for i in range(len(normalized_largestdistances)):\n",
    "        normalized_largestdistances_inverted[i] = 1 - normalized_largestdistances[i]\n",
    "    \n",
    "    for j in range(len(normalized_smallestdistances)):\n",
    "        normalized_smallestdistances_inverted[j] = 1 - normalized_smallestdistances[j]\n",
    "    print \"Cosine distance results for the minority classifiers of random dataset \"+str(d)\n",
    "    cosine_Accs=[]\n",
    "    cosine_Fscores=[]\n",
    "    for i in range(len(thresholds)):\n",
    "        threshold=thresholds[i]\n",
    "        kitchentestgl['minority_predictions'] = kitchentestgl.apply(lambda x: weighted_predict_largedist(x,normalized_largestdistances,threshold) )\n",
    "        #print \"minority_predictions' model Fscore when using a threshold of \"+str(thresholds[i])\n",
    "        #print graphlab.evaluation.f1_score(kitchentestgl['label'], kitchentestgl['minority_predictions'])\n",
    "        #print \"minority_predictions' model Accuracy when using a threshold of \"+str(thresholds[i])\n",
    "        #print graphlab.evaluation.accuracy(kitchentestgl['label'], kitchentestgl['minority_predictions'])\n",
    "        ##cosine_Accs.append(graphlab.evaluation.accuracy(kitchentestgl['label'], kitchentestgl['minority_predictions']))\n",
    "        ##cosine_Fscores.append(graphlab.evaluation.f1_score(kitchentestgl['label'], kitchentestgl['minority_predictions']))\n",
    "        #cosine_threshold_acc[threshold].append(graphlab.evaluation.accuracy(kitchentestgl['label'], kitchentestgl['minority_predictions']))\n",
    "        #cosine_threshold_fscore[threshold].append(graphlab.evaluation.f1_score(kitchentestgl['label'], kitchentestgl['minority_predictions']))\n",
    "    \n",
    "    print \"Cosine distance results for the Majority classifiers of random dataset \"+str(d)\n",
    "    for i in range(len(thresholds)):\n",
    "        threshold=thresholds[i]\n",
    "        kitchentestgl['majority_predictions'] = kitchentestgl.apply(lambda x: weighted_predict_smalldist(x,normalized_smallestdistances,threshold) )\n",
    "        #print \"majority_predictions' model Fscore when using a threshold of \"+str(thresholds[i])\n",
    "        #print graphlab.evaluation.f1_score(kitchentestgl['label'], kitchentestgl['majority_predictions'])\n",
    "        #print \"majority_predictions' model Accuracy when using a threshold of \"+str(thresholds[i])\n",
    "        #print graphlab.evaluation.accuracy(kitchentestgl['label'], kitchentestgl['majority_predictions'])\n",
    "        ##cosine_Accs.append(graphlab.evaluation.accuracy(kitchentestgl['label'], kitchentestgl['majority_predictions']))\n",
    "        ##cosine_Fscores.append(graphlab.evaluation.f1_score(kitchentestgl['label'], kitchentestgl['majority_predictions']))\n",
    "        #cosine_threshold_acc[threshold].append(graphlab.evaluation.accuracy(kitchentestgl['label'], kitchentestgl['majority_predictions']))\n",
    "        #cosine_threshold_fscore[threshold].append(graphlab.evaluation.f1_score(kitchentestgl['label'], kitchentestgl['majority_predictions']))\n",
    "    \n",
    "    print \"Cosine distance results for the Majority-Minority classifiers of random dataset \"+str(d)\n",
    "    \n",
    "    \n",
    "    for i in range(len(thresholds)):\n",
    "        threshold=thresholds[i]\n",
    "        kitchentestgl['majority_minority_predictions'] = kitchentestgl.apply(lambda x: weighted_predict_smalldist_largedistances(x,normalized_smallestdistances_inverted,normalized_largestdistances_inverted,threshold) )\n",
    "\n",
    "        #print \"majority_minority_predictions' model Fscore when using a threshold of \"+str(thresholds[i])\n",
    "        #print graphlab.evaluation.f1_score(kitchentestgl['label'], kitchentestgl['majority_minority_predictions'])\n",
    "        #print \"majority_minority_predictions' model Accuracy when using a threshold of \"+str(thresholds[i])\n",
    "        #print graphlab.evaluation.accuracy(kitchentestgl['label'], kitchentestgl['majority_minority_predictions'])\n",
    "        print \"max euc acc\"\n",
    "        cosine_Accs.append(graphlab.evaluation.accuracy(kitchentestgl['label'], kitchentestgl['majority_minority_predictions']))\n",
    "        cosine_Fscores.append(graphlab.evaluation.f1_score(kitchentestgl['label'], kitchentestgl['majority_minority_predictions']))\n",
    "        cosine_threshold_acc[threshold].append(graphlab.evaluation.accuracy(kitchentestgl['label'], kitchentestgl['majority_minority_predictions']))\n",
    "        cosine_threshold_fscore[threshold].append(graphlab.evaluation.f1_score(kitchentestgl['label'], kitchentestgl['majority_minority_predictions']))\n",
    "    print max(cosine_Accs)\n",
    "    max_cosine_accs.append(max(cosine_Accs))\n",
    "    print \"data set \"+str(counter)+' was tested!'\n",
    "print \"max cosine acc\"\n",
    "print max_cosine_accs\n",
    "print \"max euc acc\"\n",
    "print max_euc_accs\n",
    "\n",
    "\n",
    "\n",
    "\n",
    "\n",
    "\n"
   ]
  },
  {
   "cell_type": "code",
   "execution_count": null,
   "metadata": {
    "collapsed": true
   },
   "outputs": [],
   "source": [
    "max cosine acc\n",
    "[0.865, 0.876, 0.866, 0.873, 0.869]\n",
    "max euc acc\n",
    "[0.865, 0.876, 0.868, 0.873, 0.869]"
   ]
  },
  {
   "cell_type": "code",
   "execution_count": 3,
   "metadata": {
    "collapsed": false
   },
   "outputs": [
    {
     "name": "stderr",
     "output_type": "stream",
     "text": [
      "[INFO] graphlab.cython.cy_server: GraphLab Create v2.1 started. Logging: C:\\Users\\Omar\\AppData\\Local\\Temp\\graphlab_server_1538083492.log.0\n"
     ]
    },
    {
     "name": "stdout",
     "output_type": "stream",
     "text": [
      "This non-commercial license of GraphLab Create for academic use is assigned to oaabde01@louisville.edu and will expire on September 24, 2019.\n"
     ]
    },
    {
     "data": {
      "text/html": [
       "<pre>Finished parsing file C:\\Users\\Omar\\kitchentestgl_random.csv</pre>"
      ],
      "text/plain": [
       "Finished parsing file C:\\Users\\Omar\\kitchentestgl_random.csv"
      ]
     },
     "metadata": {},
     "output_type": "display_data"
    },
    {
     "data": {
      "text/html": [
       "<pre>Parsing completed. Parsed 100 lines in 0.141771 secs.</pre>"
      ],
      "text/plain": [
       "Parsing completed. Parsed 100 lines in 0.141771 secs."
      ]
     },
     "metadata": {},
     "output_type": "display_data"
    },
    {
     "name": "stdout",
     "output_type": "stream",
     "text": [
      "------------------------------------------------------\n",
      "Inferred types from first 100 line(s) of file as \n",
      "column_type_hints=[str,long,str,str,str,str,str,long,long,long,long,long,long,long,long,long,long,long,long,long]\n",
      "If parsing fails due to incorrect types, you can correct\n",
      "the inferred type list above and pass it to read_csv in\n",
      "the column_type_hints argument\n",
      "------------------------------------------------------\n"
     ]
    },
    {
     "data": {
      "text/html": [
       "<pre>Finished parsing file C:\\Users\\Omar\\kitchentestgl_random.csv</pre>"
      ],
      "text/plain": [
       "Finished parsing file C:\\Users\\Omar\\kitchentestgl_random.csv"
      ]
     },
     "metadata": {},
     "output_type": "display_data"
    },
    {
     "data": {
      "text/html": [
       "<pre>Parsing completed. Parsed 1000 lines in 0.05607 secs.</pre>"
      ],
      "text/plain": [
       "Parsing completed. Parsed 1000 lines in 0.05607 secs."
      ]
     },
     "metadata": {},
     "output_type": "display_data"
    },
    {
     "data": {
      "text/html": [
       "<pre>Finished parsing file C:\\Users\\Omar\\kitchentestgl_random_2.csv</pre>"
      ],
      "text/plain": [
       "Finished parsing file C:\\Users\\Omar\\kitchentestgl_random_2.csv"
      ]
     },
     "metadata": {},
     "output_type": "display_data"
    },
    {
     "data": {
      "text/html": [
       "<pre>Parsing completed. Parsed 100 lines in 0.138221 secs.</pre>"
      ],
      "text/plain": [
       "Parsing completed. Parsed 100 lines in 0.138221 secs."
      ]
     },
     "metadata": {},
     "output_type": "display_data"
    },
    {
     "name": "stdout",
     "output_type": "stream",
     "text": [
      "------------------------------------------------------\n",
      "Inferred types from first 100 line(s) of file as \n",
      "column_type_hints=[str,long,str,str,str,str,str,long,long,long,long,long,long,long,long,long,long,long,long,long]\n",
      "If parsing fails due to incorrect types, you can correct\n",
      "the inferred type list above and pass it to read_csv in\n",
      "the column_type_hints argument\n",
      "------------------------------------------------------\n"
     ]
    },
    {
     "data": {
      "text/html": [
       "<pre>Finished parsing file C:\\Users\\Omar\\kitchentestgl_random_2.csv</pre>"
      ],
      "text/plain": [
       "Finished parsing file C:\\Users\\Omar\\kitchentestgl_random_2.csv"
      ]
     },
     "metadata": {},
     "output_type": "display_data"
    },
    {
     "data": {
      "text/html": [
       "<pre>Parsing completed. Parsed 1000 lines in 0.05021 secs.</pre>"
      ],
      "text/plain": [
       "Parsing completed. Parsed 1000 lines in 0.05021 secs."
      ]
     },
     "metadata": {},
     "output_type": "display_data"
    },
    {
     "data": {
      "text/html": [
       "<pre>Finished parsing file C:\\Users\\Omar\\kitchentestgl_random_3.csv</pre>"
      ],
      "text/plain": [
       "Finished parsing file C:\\Users\\Omar\\kitchentestgl_random_3.csv"
      ]
     },
     "metadata": {},
     "output_type": "display_data"
    },
    {
     "data": {
      "text/html": [
       "<pre>Parsing completed. Parsed 100 lines in 0.126335 secs.</pre>"
      ],
      "text/plain": [
       "Parsing completed. Parsed 100 lines in 0.126335 secs."
      ]
     },
     "metadata": {},
     "output_type": "display_data"
    },
    {
     "name": "stdout",
     "output_type": "stream",
     "text": [
      "------------------------------------------------------\n",
      "Inferred types from first 100 line(s) of file as \n",
      "column_type_hints=[str,long,str,str,str,str,str,long,long,long,long,long,long,long,long,long,long,long,long,long]\n",
      "If parsing fails due to incorrect types, you can correct\n",
      "the inferred type list above and pass it to read_csv in\n",
      "the column_type_hints argument\n",
      "------------------------------------------------------\n"
     ]
    },
    {
     "data": {
      "text/html": [
       "<pre>Finished parsing file C:\\Users\\Omar\\kitchentestgl_random_3.csv</pre>"
      ],
      "text/plain": [
       "Finished parsing file C:\\Users\\Omar\\kitchentestgl_random_3.csv"
      ]
     },
     "metadata": {},
     "output_type": "display_data"
    },
    {
     "data": {
      "text/html": [
       "<pre>Parsing completed. Parsed 1000 lines in 0.046871 secs.</pre>"
      ],
      "text/plain": [
       "Parsing completed. Parsed 1000 lines in 0.046871 secs."
      ]
     },
     "metadata": {},
     "output_type": "display_data"
    },
    {
     "data": {
      "text/html": [
       "<pre>Finished parsing file C:\\Users\\Omar\\kitchentestgl_random_4.csv</pre>"
      ],
      "text/plain": [
       "Finished parsing file C:\\Users\\Omar\\kitchentestgl_random_4.csv"
      ]
     },
     "metadata": {},
     "output_type": "display_data"
    },
    {
     "data": {
      "text/html": [
       "<pre>Parsing completed. Parsed 100 lines in 0.142958 secs.</pre>"
      ],
      "text/plain": [
       "Parsing completed. Parsed 100 lines in 0.142958 secs."
      ]
     },
     "metadata": {},
     "output_type": "display_data"
    },
    {
     "name": "stdout",
     "output_type": "stream",
     "text": [
      "------------------------------------------------------\n",
      "Inferred types from first 100 line(s) of file as \n",
      "column_type_hints=[str,long,str,str,str,str,str,long,long,long,long,long,long,long,long,long,long,long,long,long]\n",
      "If parsing fails due to incorrect types, you can correct\n",
      "the inferred type list above and pass it to read_csv in\n",
      "the column_type_hints argument\n",
      "------------------------------------------------------\n"
     ]
    },
    {
     "data": {
      "text/html": [
       "<pre>Finished parsing file C:\\Users\\Omar\\kitchentestgl_random_4.csv</pre>"
      ],
      "text/plain": [
       "Finished parsing file C:\\Users\\Omar\\kitchentestgl_random_4.csv"
      ]
     },
     "metadata": {},
     "output_type": "display_data"
    },
    {
     "data": {
      "text/html": [
       "<pre>Parsing completed. Parsed 1000 lines in 0.062497 secs.</pre>"
      ],
      "text/plain": [
       "Parsing completed. Parsed 1000 lines in 0.062497 secs."
      ]
     },
     "metadata": {},
     "output_type": "display_data"
    },
    {
     "data": {
      "text/html": [
       "<pre>Finished parsing file C:\\Users\\Omar\\kitchentestgl_random_5.csv</pre>"
      ],
      "text/plain": [
       "Finished parsing file C:\\Users\\Omar\\kitchentestgl_random_5.csv"
      ]
     },
     "metadata": {},
     "output_type": "display_data"
    },
    {
     "data": {
      "text/html": [
       "<pre>Parsing completed. Parsed 100 lines in 0.136626 secs.</pre>"
      ],
      "text/plain": [
       "Parsing completed. Parsed 100 lines in 0.136626 secs."
      ]
     },
     "metadata": {},
     "output_type": "display_data"
    },
    {
     "name": "stdout",
     "output_type": "stream",
     "text": [
      "------------------------------------------------------\n",
      "Inferred types from first 100 line(s) of file as \n",
      "column_type_hints=[str,long,str,str,str,str,str,long,long,long,long,long,long,long,long,long,long,long,long,long]\n",
      "If parsing fails due to incorrect types, you can correct\n",
      "the inferred type list above and pass it to read_csv in\n",
      "the column_type_hints argument\n",
      "------------------------------------------------------\n"
     ]
    },
    {
     "data": {
      "text/html": [
       "<pre>Finished parsing file C:\\Users\\Omar\\kitchentestgl_random_5.csv</pre>"
      ],
      "text/plain": [
       "Finished parsing file C:\\Users\\Omar\\kitchentestgl_random_5.csv"
      ]
     },
     "metadata": {},
     "output_type": "display_data"
    },
    {
     "data": {
      "text/html": [
       "<pre>Parsing completed. Parsed 1000 lines in 0.072574 secs.</pre>"
      ],
      "text/plain": [
       "Parsing completed. Parsed 1000 lines in 0.072574 secs."
      ]
     },
     "metadata": {},
     "output_type": "display_data"
    }
   ],
   "source": [
    "from collections import defaultdict\n",
    "Fscoress = defaultdict(list)\n",
    "Accuraciess = defaultdict(list)\n",
    "counter=0\n",
    "for d in range(1,6):\n",
    "    i=d\n",
    "    counter+=1\n",
    "    if i==1:\n",
    "        kitchentestgl = graphlab.SFrame('kitchentestgl_random.csv')\n",
    "    else:\n",
    "        kitchentestgl = graphlab.SFrame('kitchentestgl_random_'+str(i)+'.csv')\n",
    "    Fscores={}\n",
    "    Accuracies={}\n",
    "    book_dist_domains = ['electronics','dvd','kitchen','apparel','automotive','baby','beauty','cameraphoto','computervideo','gourmet','grocery','healthpersonal','jewelrywatches']\n",
    "    Minor_domains = ['book_predictions','dvd_predictions','automotive_predictions','jewelrywatches_predictions','computervideo_predictions','gourmet_predictions']\n",
    "    Major_domains = ['healthpersonal_predictions','baby_predictions','cameraphoto_predictions','apparel_predictions','electronics_predictions','beauty_predictions']\n",
    "    for domain in Minor_domains:\n",
    "        Fscoress[domain].append(graphlab.evaluation.f1_score(kitchentestgl['label'], kitchentestgl[str(domain)]))\n",
    "        Accuraciess[domain].append(graphlab.evaluation.accuracy(kitchentestgl['label'], kitchentestgl[str(domain)]))"
   ]
  },
  {
   "cell_type": "code",
   "execution_count": 4,
   "metadata": {
    "collapsed": false
   },
   "outputs": [
    {
     "name": "stdout",
     "output_type": "stream",
     "text": [
      "average accuracies for the least performing classifiers\n",
      "book_predictions\n",
      "0.6604\n",
      "dvd_predictions\n",
      "0.742\n",
      "automotive_predictions\n",
      "0.5006\n",
      "jewelrywatches_predictions\n",
      "0.501\n",
      "computervideo_predictions\n",
      "0.5028\n",
      "gourmet_predictions\n",
      "0.5\n"
     ]
    }
   ],
   "source": [
    "print \"average accuracies for the least performing classifiers\"\n",
    "\n",
    "for d in Minor_domains:\n",
    "    print d\n",
    "    print sum(Accuraciess[d]) / len(Accuraciess[d])"
   ]
  },
  {
   "cell_type": "code",
   "execution_count": 4,
   "metadata": {
    "collapsed": false
   },
   "outputs": [
    {
     "data": {
      "text/html": [
       "<pre>Finished parsing file C:\\Users\\Omar\\kitchentestgl_random.csv</pre>"
      ],
      "text/plain": [
       "Finished parsing file C:\\Users\\Omar\\kitchentestgl_random.csv"
      ]
     },
     "metadata": {},
     "output_type": "display_data"
    },
    {
     "data": {
      "text/html": [
       "<pre>Parsing completed. Parsed 100 lines in 0.092947 secs.</pre>"
      ],
      "text/plain": [
       "Parsing completed. Parsed 100 lines in 0.092947 secs."
      ]
     },
     "metadata": {},
     "output_type": "display_data"
    },
    {
     "name": "stdout",
     "output_type": "stream",
     "text": [
      "------------------------------------------------------\n",
      "Inferred types from first 100 line(s) of file as \n",
      "column_type_hints=[str,long,str,str,str,str,str,long,long,long,long,long,long,long,long,long,long,long,long,long]\n",
      "If parsing fails due to incorrect types, you can correct\n",
      "the inferred type list above and pass it to read_csv in\n",
      "the column_type_hints argument\n",
      "------------------------------------------------------\n"
     ]
    },
    {
     "data": {
      "text/html": [
       "<pre>Finished parsing file C:\\Users\\Omar\\kitchentestgl_random.csv</pre>"
      ],
      "text/plain": [
       "Finished parsing file C:\\Users\\Omar\\kitchentestgl_random.csv"
      ]
     },
     "metadata": {},
     "output_type": "display_data"
    },
    {
     "data": {
      "text/html": [
       "<pre>Parsing completed. Parsed 1000 lines in 0.057994 secs.</pre>"
      ],
      "text/plain": [
       "Parsing completed. Parsed 1000 lines in 0.057994 secs."
      ]
     },
     "metadata": {},
     "output_type": "display_data"
    },
    {
     "data": {
      "text/html": [
       "<pre>Finished parsing file C:\\Users\\Omar\\kitchentestgl_random_2.csv</pre>"
      ],
      "text/plain": [
       "Finished parsing file C:\\Users\\Omar\\kitchentestgl_random_2.csv"
      ]
     },
     "metadata": {},
     "output_type": "display_data"
    },
    {
     "data": {
      "text/html": [
       "<pre>Parsing completed. Parsed 100 lines in 0.091947 secs.</pre>"
      ],
      "text/plain": [
       "Parsing completed. Parsed 100 lines in 0.091947 secs."
      ]
     },
     "metadata": {},
     "output_type": "display_data"
    },
    {
     "name": "stdout",
     "output_type": "stream",
     "text": [
      "------------------------------------------------------\n",
      "Inferred types from first 100 line(s) of file as \n",
      "column_type_hints=[str,long,str,str,str,str,str,long,long,long,long,long,long,long,long,long,long,long,long,long]\n",
      "If parsing fails due to incorrect types, you can correct\n",
      "the inferred type list above and pass it to read_csv in\n",
      "the column_type_hints argument\n",
      "------------------------------------------------------\n"
     ]
    },
    {
     "data": {
      "text/html": [
       "<pre>Finished parsing file C:\\Users\\Omar\\kitchentestgl_random_2.csv</pre>"
      ],
      "text/plain": [
       "Finished parsing file C:\\Users\\Omar\\kitchentestgl_random_2.csv"
      ]
     },
     "metadata": {},
     "output_type": "display_data"
    },
    {
     "data": {
      "text/html": [
       "<pre>Parsing completed. Parsed 1000 lines in 0.056026 secs.</pre>"
      ],
      "text/plain": [
       "Parsing completed. Parsed 1000 lines in 0.056026 secs."
      ]
     },
     "metadata": {},
     "output_type": "display_data"
    },
    {
     "data": {
      "text/html": [
       "<pre>Finished parsing file C:\\Users\\Omar\\kitchentestgl_random_3.csv</pre>"
      ],
      "text/plain": [
       "Finished parsing file C:\\Users\\Omar\\kitchentestgl_random_3.csv"
      ]
     },
     "metadata": {},
     "output_type": "display_data"
    },
    {
     "data": {
      "text/html": [
       "<pre>Parsing completed. Parsed 100 lines in 0.107973 secs.</pre>"
      ],
      "text/plain": [
       "Parsing completed. Parsed 100 lines in 0.107973 secs."
      ]
     },
     "metadata": {},
     "output_type": "display_data"
    },
    {
     "name": "stdout",
     "output_type": "stream",
     "text": [
      "------------------------------------------------------\n",
      "Inferred types from first 100 line(s) of file as \n",
      "column_type_hints=[str,long,str,str,str,str,str,long,long,long,long,long,long,long,long,long,long,long,long,long]\n",
      "If parsing fails due to incorrect types, you can correct\n",
      "the inferred type list above and pass it to read_csv in\n",
      "the column_type_hints argument\n",
      "------------------------------------------------------\n"
     ]
    },
    {
     "data": {
      "text/html": [
       "<pre>Finished parsing file C:\\Users\\Omar\\kitchentestgl_random_3.csv</pre>"
      ],
      "text/plain": [
       "Finished parsing file C:\\Users\\Omar\\kitchentestgl_random_3.csv"
      ]
     },
     "metadata": {},
     "output_type": "display_data"
    },
    {
     "data": {
      "text/html": [
       "<pre>Parsing completed. Parsed 1000 lines in 0.056966 secs.</pre>"
      ],
      "text/plain": [
       "Parsing completed. Parsed 1000 lines in 0.056966 secs."
      ]
     },
     "metadata": {},
     "output_type": "display_data"
    },
    {
     "data": {
      "text/html": [
       "<pre>Finished parsing file C:\\Users\\Omar\\kitchentestgl_random_4.csv</pre>"
      ],
      "text/plain": [
       "Finished parsing file C:\\Users\\Omar\\kitchentestgl_random_4.csv"
      ]
     },
     "metadata": {},
     "output_type": "display_data"
    },
    {
     "data": {
      "text/html": [
       "<pre>Parsing completed. Parsed 100 lines in 0.098943 secs.</pre>"
      ],
      "text/plain": [
       "Parsing completed. Parsed 100 lines in 0.098943 secs."
      ]
     },
     "metadata": {},
     "output_type": "display_data"
    },
    {
     "name": "stdout",
     "output_type": "stream",
     "text": [
      "------------------------------------------------------\n",
      "Inferred types from first 100 line(s) of file as \n",
      "column_type_hints=[str,long,str,str,str,str,str,long,long,long,long,long,long,long,long,long,long,long,long,long]\n",
      "If parsing fails due to incorrect types, you can correct\n",
      "the inferred type list above and pass it to read_csv in\n",
      "the column_type_hints argument\n",
      "------------------------------------------------------\n"
     ]
    },
    {
     "data": {
      "text/html": [
       "<pre>Finished parsing file C:\\Users\\Omar\\kitchentestgl_random_4.csv</pre>"
      ],
      "text/plain": [
       "Finished parsing file C:\\Users\\Omar\\kitchentestgl_random_4.csv"
      ]
     },
     "metadata": {},
     "output_type": "display_data"
    },
    {
     "data": {
      "text/html": [
       "<pre>Parsing completed. Parsed 1000 lines in 0.060948 secs.</pre>"
      ],
      "text/plain": [
       "Parsing completed. Parsed 1000 lines in 0.060948 secs."
      ]
     },
     "metadata": {},
     "output_type": "display_data"
    },
    {
     "data": {
      "text/html": [
       "<pre>Finished parsing file C:\\Users\\Omar\\kitchentestgl_random_5.csv</pre>"
      ],
      "text/plain": [
       "Finished parsing file C:\\Users\\Omar\\kitchentestgl_random_5.csv"
      ]
     },
     "metadata": {},
     "output_type": "display_data"
    },
    {
     "data": {
      "text/html": [
       "<pre>Parsing completed. Parsed 100 lines in 0.119931 secs.</pre>"
      ],
      "text/plain": [
       "Parsing completed. Parsed 100 lines in 0.119931 secs."
      ]
     },
     "metadata": {},
     "output_type": "display_data"
    },
    {
     "name": "stdout",
     "output_type": "stream",
     "text": [
      "------------------------------------------------------\n",
      "Inferred types from first 100 line(s) of file as \n",
      "column_type_hints=[str,long,str,str,str,str,str,long,long,long,long,long,long,long,long,long,long,long,long,long]\n",
      "If parsing fails due to incorrect types, you can correct\n",
      "the inferred type list above and pass it to read_csv in\n",
      "the column_type_hints argument\n",
      "------------------------------------------------------\n"
     ]
    },
    {
     "data": {
      "text/html": [
       "<pre>Finished parsing file C:\\Users\\Omar\\kitchentestgl_random_5.csv</pre>"
      ],
      "text/plain": [
       "Finished parsing file C:\\Users\\Omar\\kitchentestgl_random_5.csv"
      ]
     },
     "metadata": {},
     "output_type": "display_data"
    },
    {
     "data": {
      "text/html": [
       "<pre>Parsing completed. Parsed 1000 lines in 0.056967 secs.</pre>"
      ],
      "text/plain": [
       "Parsing completed. Parsed 1000 lines in 0.056967 secs."
      ]
     },
     "metadata": {},
     "output_type": "display_data"
    }
   ],
   "source": [
    "from collections import defaultdict\n",
    "Fscoress = defaultdict(list)\n",
    "Accuraciess = defaultdict(list)\n",
    "counter=0\n",
    "for d in range(1,6):\n",
    "    i=d\n",
    "    counter+=1\n",
    "    if i==1:\n",
    "        kitchentestgl = graphlab.SFrame('kitchentestgl_random.csv')\n",
    "    else:\n",
    "        kitchentestgl = graphlab.SFrame('kitchentestgl_random_'+str(i)+'.csv')\n",
    "    Fscores={}\n",
    "    Accuracies={}\n",
    "    book_dist_domains = ['electronics','dvd','kitchen','apparel','automotive','baby','beauty','cameraphoto','computervideo','gourmet','grocery','healthpersonal','jewelrywatches']\n",
    "    Minor_domains = ['book_predictions','dvd_predictions','automotive_predictions','jewelrywatches_predictions','computervideo_predictions','gourmet_predictions']\n",
    "    Major_domains = ['grocery_predictions','healthpersonal_predictions','baby_predictions','cameraphoto_predictions','apparel_predictions','electronics_predictions','beauty_predictions']\n",
    "    for domain in Major_domains:\n",
    "        Fscoress[domain].append(graphlab.evaluation.f1_score(kitchentestgl['label'], kitchentestgl[str(domain)]))\n",
    "        Accuraciess[domain].append(graphlab.evaluation.accuracy(kitchentestgl['label'], kitchentestgl[str(domain)]))"
   ]
  },
  {
   "cell_type": "code",
   "execution_count": 5,
   "metadata": {
    "collapsed": false
   },
   "outputs": [
    {
     "name": "stdout",
     "output_type": "stream",
     "text": [
      "average accuracies for the least performing classifiers\n",
      "grocery_predictions\n",
      "0.5018\n",
      "healthpersonal_predictions\n",
      "0.8216\n",
      "baby_predictions\n",
      "0.805\n",
      "cameraphoto_predictions\n",
      "0.812\n",
      "apparel_predictions\n",
      "0.8326\n",
      "electronics_predictions\n",
      "0.8244\n",
      "beauty_predictions\n",
      "0.5004\n"
     ]
    }
   ],
   "source": [
    "print \"average accuracies for the least performing classifiers\"\n",
    "\n",
    "for d in Major_domains:\n",
    "    print d\n",
    "    print sum(Accuraciess[d]) / len(Accuraciess[d])"
   ]
  },
  {
   "cell_type": "code",
   "execution_count": null,
   "metadata": {
    "collapsed": true
   },
   "outputs": [],
   "source": []
  },
  {
   "cell_type": "markdown",
   "metadata": {
    "collapsed": true
   },
   "source": [
    "## Least performing classifiers (th=0.5)"
   ]
  },
  {
   "cell_type": "code",
   "execution_count": 4,
   "metadata": {
    "collapsed": false
   },
   "outputs": [
    {
     "name": "stderr",
     "output_type": "stream",
     "text": [
      "[INFO] graphlab.cython.cy_server: GraphLab Create v2.1 started. Logging: C:\\Users\\Omar\\AppData\\Local\\Temp\\graphlab_server_1538693740.log.0\n"
     ]
    },
    {
     "name": "stdout",
     "output_type": "stream",
     "text": [
      "This non-commercial license of GraphLab Create for academic use is assigned to oaabde01@louisville.edu and will expire on September 24, 2019.\n"
     ]
    },
    {
     "data": {
      "text/html": [
       "<pre>Finished parsing file C:\\Users\\Omar\\kitchentestgl_random.csv</pre>"
      ],
      "text/plain": [
       "Finished parsing file C:\\Users\\Omar\\kitchentestgl_random.csv"
      ]
     },
     "metadata": {},
     "output_type": "display_data"
    },
    {
     "data": {
      "text/html": [
       "<pre>Parsing completed. Parsed 100 lines in 0.10383 secs.</pre>"
      ],
      "text/plain": [
       "Parsing completed. Parsed 100 lines in 0.10383 secs."
      ]
     },
     "metadata": {},
     "output_type": "display_data"
    },
    {
     "name": "stdout",
     "output_type": "stream",
     "text": [
      "------------------------------------------------------\n",
      "Inferred types from first 100 line(s) of file as \n",
      "column_type_hints=[str,long,str,str,str,str,str,long,long,long,long,long,long,long,long,long,long,long,long,long]\n",
      "If parsing fails due to incorrect types, you can correct\n",
      "the inferred type list above and pass it to read_csv in\n",
      "the column_type_hints argument\n",
      "------------------------------------------------------\n"
     ]
    },
    {
     "data": {
      "text/html": [
       "<pre>Finished parsing file C:\\Users\\Omar\\kitchentestgl_random.csv</pre>"
      ],
      "text/plain": [
       "Finished parsing file C:\\Users\\Omar\\kitchentestgl_random.csv"
      ]
     },
     "metadata": {},
     "output_type": "display_data"
    },
    {
     "data": {
      "text/html": [
       "<pre>Parsing completed. Parsed 1000 lines in 0.054979 secs.</pre>"
      ],
      "text/plain": [
       "Parsing completed. Parsed 1000 lines in 0.054979 secs."
      ]
     },
     "metadata": {},
     "output_type": "display_data"
    },
    {
     "name": "stdout",
     "output_type": "stream",
     "text": [
      "results for random dataset 1\n",
      "euclidean distance results for the minority classifiers of random dataset 1\n",
      "euclidean distance results for the Majority classifiers of random dataset 1\n",
      "euclidean distance results for the Majority-Minority classifiers of random dataset 1\n",
      "max euc acc\n",
      "0.504\n",
      "Cosine distance results for the minority classifiers of random dataset 1\n",
      "Cosine distance results for the Majority classifiers of random dataset 1\n",
      "Cosine distance results for the Majority-Minority classifiers of random dataset 1\n",
      "max euc acc\n",
      "0.502\n",
      "data set 1 was tested!\n"
     ]
    },
    {
     "data": {
      "text/html": [
       "<pre>Finished parsing file C:\\Users\\Omar\\kitchentestgl_random_2.csv</pre>"
      ],
      "text/plain": [
       "Finished parsing file C:\\Users\\Omar\\kitchentestgl_random_2.csv"
      ]
     },
     "metadata": {},
     "output_type": "display_data"
    },
    {
     "data": {
      "text/html": [
       "<pre>Parsing completed. Parsed 100 lines in 0.100943 secs.</pre>"
      ],
      "text/plain": [
       "Parsing completed. Parsed 100 lines in 0.100943 secs."
      ]
     },
     "metadata": {},
     "output_type": "display_data"
    },
    {
     "name": "stdout",
     "output_type": "stream",
     "text": [
      "------------------------------------------------------\n",
      "Inferred types from first 100 line(s) of file as \n",
      "column_type_hints=[str,long,str,str,str,str,str,long,long,long,long,long,long,long,long,long,long,long,long,long]\n",
      "If parsing fails due to incorrect types, you can correct\n",
      "the inferred type list above and pass it to read_csv in\n",
      "the column_type_hints argument\n",
      "------------------------------------------------------\n"
     ]
    },
    {
     "data": {
      "text/html": [
       "<pre>Finished parsing file C:\\Users\\Omar\\kitchentestgl_random_2.csv</pre>"
      ],
      "text/plain": [
       "Finished parsing file C:\\Users\\Omar\\kitchentestgl_random_2.csv"
      ]
     },
     "metadata": {},
     "output_type": "display_data"
    },
    {
     "data": {
      "text/html": [
       "<pre>Parsing completed. Parsed 1000 lines in 0.062963 secs.</pre>"
      ],
      "text/plain": [
       "Parsing completed. Parsed 1000 lines in 0.062963 secs."
      ]
     },
     "metadata": {},
     "output_type": "display_data"
    },
    {
     "name": "stdout",
     "output_type": "stream",
     "text": [
      "results for random dataset 2\n",
      "euclidean distance results for the minority classifiers of random dataset 2\n",
      "euclidean distance results for the Majority classifiers of random dataset 2\n",
      "euclidean distance results for the Majority-Minority classifiers of random dataset 2\n",
      "max euc acc\n",
      "0.505\n",
      "Cosine distance results for the minority classifiers of random dataset 2\n",
      "Cosine distance results for the Majority classifiers of random dataset 2\n",
      "Cosine distance results for the Majority-Minority classifiers of random dataset 2\n",
      "max euc acc\n",
      "0.503\n",
      "data set 2 was tested!\n"
     ]
    },
    {
     "data": {
      "text/html": [
       "<pre>Finished parsing file C:\\Users\\Omar\\kitchentestgl_random_3.csv</pre>"
      ],
      "text/plain": [
       "Finished parsing file C:\\Users\\Omar\\kitchentestgl_random_3.csv"
      ]
     },
     "metadata": {},
     "output_type": "display_data"
    },
    {
     "data": {
      "text/html": [
       "<pre>Parsing completed. Parsed 100 lines in 0.111937 secs.</pre>"
      ],
      "text/plain": [
       "Parsing completed. Parsed 100 lines in 0.111937 secs."
      ]
     },
     "metadata": {},
     "output_type": "display_data"
    },
    {
     "name": "stdout",
     "output_type": "stream",
     "text": [
      "------------------------------------------------------\n",
      "Inferred types from first 100 line(s) of file as \n",
      "column_type_hints=[str,long,str,str,str,str,str,long,long,long,long,long,long,long,long,long,long,long,long,long]\n",
      "If parsing fails due to incorrect types, you can correct\n",
      "the inferred type list above and pass it to read_csv in\n",
      "the column_type_hints argument\n",
      "------------------------------------------------------\n"
     ]
    },
    {
     "data": {
      "text/html": [
       "<pre>Finished parsing file C:\\Users\\Omar\\kitchentestgl_random_3.csv</pre>"
      ],
      "text/plain": [
       "Finished parsing file C:\\Users\\Omar\\kitchentestgl_random_3.csv"
      ]
     },
     "metadata": {},
     "output_type": "display_data"
    },
    {
     "data": {
      "text/html": [
       "<pre>Parsing completed. Parsed 1000 lines in 0.061964 secs.</pre>"
      ],
      "text/plain": [
       "Parsing completed. Parsed 1000 lines in 0.061964 secs."
      ]
     },
     "metadata": {},
     "output_type": "display_data"
    },
    {
     "name": "stdout",
     "output_type": "stream",
     "text": [
      "results for random dataset 3\n",
      "euclidean distance results for the minority classifiers of random dataset 3\n",
      "euclidean distance results for the Majority classifiers of random dataset 3\n",
      "euclidean distance results for the Majority-Minority classifiers of random dataset 3\n",
      "max euc acc\n",
      "0.506\n",
      "Cosine distance results for the minority classifiers of random dataset 3\n",
      "Cosine distance results for the Majority classifiers of random dataset 3\n",
      "Cosine distance results for the Majority-Minority classifiers of random dataset 3\n",
      "max euc acc\n",
      "0.503\n",
      "data set 3 was tested!\n"
     ]
    },
    {
     "data": {
      "text/html": [
       "<pre>Finished parsing file C:\\Users\\Omar\\kitchentestgl_random_4.csv</pre>"
      ],
      "text/plain": [
       "Finished parsing file C:\\Users\\Omar\\kitchentestgl_random_4.csv"
      ]
     },
     "metadata": {},
     "output_type": "display_data"
    },
    {
     "data": {
      "text/html": [
       "<pre>Parsing completed. Parsed 100 lines in 0.112934 secs.</pre>"
      ],
      "text/plain": [
       "Parsing completed. Parsed 100 lines in 0.112934 secs."
      ]
     },
     "metadata": {},
     "output_type": "display_data"
    },
    {
     "name": "stdout",
     "output_type": "stream",
     "text": [
      "------------------------------------------------------\n",
      "Inferred types from first 100 line(s) of file as \n",
      "column_type_hints=[str,long,str,str,str,str,str,long,long,long,long,long,long,long,long,long,long,long,long,long]\n",
      "If parsing fails due to incorrect types, you can correct\n",
      "the inferred type list above and pass it to read_csv in\n",
      "the column_type_hints argument\n",
      "------------------------------------------------------\n"
     ]
    },
    {
     "data": {
      "text/html": [
       "<pre>Finished parsing file C:\\Users\\Omar\\kitchentestgl_random_4.csv</pre>"
      ],
      "text/plain": [
       "Finished parsing file C:\\Users\\Omar\\kitchentestgl_random_4.csv"
      ]
     },
     "metadata": {},
     "output_type": "display_data"
    },
    {
     "data": {
      "text/html": [
       "<pre>Parsing completed. Parsed 1000 lines in 0.064961 secs.</pre>"
      ],
      "text/plain": [
       "Parsing completed. Parsed 1000 lines in 0.064961 secs."
      ]
     },
     "metadata": {},
     "output_type": "display_data"
    },
    {
     "name": "stdout",
     "output_type": "stream",
     "text": [
      "results for random dataset 4\n",
      "euclidean distance results for the minority classifiers of random dataset 4\n",
      "euclidean distance results for the Majority classifiers of random dataset 4\n",
      "euclidean distance results for the Majority-Minority classifiers of random dataset 4\n",
      "max euc acc\n",
      "0.503\n",
      "Cosine distance results for the minority classifiers of random dataset 4\n",
      "Cosine distance results for the Majority classifiers of random dataset 4\n",
      "Cosine distance results for the Majority-Minority classifiers of random dataset 4\n",
      "max euc acc\n",
      "0.501\n",
      "data set 4 was tested!\n"
     ]
    },
    {
     "data": {
      "text/html": [
       "<pre>Finished parsing file C:\\Users\\Omar\\kitchentestgl_random_5.csv</pre>"
      ],
      "text/plain": [
       "Finished parsing file C:\\Users\\Omar\\kitchentestgl_random_5.csv"
      ]
     },
     "metadata": {},
     "output_type": "display_data"
    },
    {
     "data": {
      "text/html": [
       "<pre>Parsing completed. Parsed 100 lines in 0.105682 secs.</pre>"
      ],
      "text/plain": [
       "Parsing completed. Parsed 100 lines in 0.105682 secs."
      ]
     },
     "metadata": {},
     "output_type": "display_data"
    },
    {
     "name": "stdout",
     "output_type": "stream",
     "text": [
      "------------------------------------------------------\n",
      "Inferred types from first 100 line(s) of file as \n",
      "column_type_hints=[str,long,str,str,str,str,str,long,long,long,long,long,long,long,long,long,long,long,long,long]\n",
      "If parsing fails due to incorrect types, you can correct\n",
      "the inferred type list above and pass it to read_csv in\n",
      "the column_type_hints argument\n",
      "------------------------------------------------------\n"
     ]
    },
    {
     "data": {
      "text/html": [
       "<pre>Finished parsing file C:\\Users\\Omar\\kitchentestgl_random_5.csv</pre>"
      ],
      "text/plain": [
       "Finished parsing file C:\\Users\\Omar\\kitchentestgl_random_5.csv"
      ]
     },
     "metadata": {},
     "output_type": "display_data"
    },
    {
     "data": {
      "text/html": [
       "<pre>Parsing completed. Parsed 1000 lines in 0.049281 secs.</pre>"
      ],
      "text/plain": [
       "Parsing completed. Parsed 1000 lines in 0.049281 secs."
      ]
     },
     "metadata": {},
     "output_type": "display_data"
    },
    {
     "name": "stdout",
     "output_type": "stream",
     "text": [
      "results for random dataset 5\n",
      "euclidean distance results for the minority classifiers of random dataset 5\n",
      "euclidean distance results for the Majority classifiers of random dataset 5\n",
      "euclidean distance results for the Majority-Minority classifiers of random dataset 5\n",
      "max euc acc\n",
      "0.501\n",
      "Cosine distance results for the minority classifiers of random dataset 5\n",
      "Cosine distance results for the Majority classifiers of random dataset 5\n",
      "Cosine distance results for the Majority-Minority classifiers of random dataset 5\n",
      "max euc acc\n",
      "0.501\n",
      "data set 5 was tested!\n",
      "max cosine acc\n",
      "[0.502, 0.503, 0.503, 0.501, 0.501]\n",
      "average cosine accuracy for threshold 0.5\n",
      "0.502\n",
      "average cosine fscore for threshold 0.5\n",
      "0.667556980311\n",
      "max euc acc\n",
      "[0.504, 0.505, 0.506, 0.503, 0.501]\n",
      "average euclidean accuracy for threshold 0.5\n",
      "0.5038\n",
      "average euclidean fscore for threshold 0.5\n",
      "0.668360728277\n"
     ]
    }
   ],
   "source": [
    "##inverted weights\n",
    "\n",
    "from collections import defaultdict\n",
    "counter=0\n",
    "max_euc_accs=[]\n",
    "max_cosine_accs=[]\n",
    "max_cosine_fscores=[]\n",
    "max_euc_fscores=[]\n",
    "euc_threshold_acc = defaultdict(list)\n",
    "cosine_threshold_acc = defaultdict(list)\n",
    "\n",
    "euc_threshold_fscore = defaultdict(list)\n",
    "cosine_threshold_fscore = defaultdict(list)\n",
    "for d in range(1,6):\n",
    "    i=d\n",
    "    counter+=1\n",
    "    if i==1:\n",
    "        kitchentestgl = graphlab.SFrame('kitchentestgl_random.csv')\n",
    "    else:\n",
    "        kitchentestgl = graphlab.SFrame('kitchentestgl_random_'+str(i)+'.csv')\n",
    "    print \"results for random dataset \"+str(d)\n",
    "    print \"euclidean distance results for the minority classifiers of random dataset \"+str(d)\n",
    "    largestdistances=[215.7683943491261,167.77067681809,99.84487968844472,97.77013859047148,97.01030873056739,96.97422337920526]\n",
    "    lowestdistances=[88.91006692158093,90.62008607367353,91.81503144910424,91.98369420718001,94.66255859631093,94.75230867899737]\n",
    "    Minor_domains = ['book_predictions','dvd_predictions','automotive_predictions','jewelrywatches_predictions','computervideo_predictions','gourmet_predictions']\n",
    "    Major_domains = ['healthpersonal_predictions','baby_predictions','cameraphoto_predictions','apparel_predictions','electronics_predictions','beauty_predictions']\n",
    "    normalized_largestdistances = euclidean_norm_dict(largestdistances)\n",
    "    normalized_smallestdistances = euclidean_norm_dict(lowestdistances)\n",
    "    normalized_largestdistances_inverted = [0] * len(normalized_largestdistances)\n",
    "    normalized_smallestdistances_inverted = [0] * len(normalized_smallestdistances)\n",
    "    for i in range(len(normalized_largestdistances)):\n",
    "        normalized_largestdistances_inverted[i] = 1 - normalized_largestdistances[i]\n",
    "    \n",
    "    for j in range(len(normalized_smallestdistances)):\n",
    "        normalized_smallestdistances_inverted[j] = 1 - normalized_smallestdistances[j]\n",
    "    thresholds = [0.5]\n",
    "    euc_Fscores = []\n",
    "    euc_Accs = []\n",
    "    for i in range(len(thresholds)):\n",
    "        threshold=thresholds[i]\n",
    "        \n",
    "        kitchentestgl['minority_predictions'] = kitchentestgl.apply(lambda x: weighted_predict_largedist(x,normalized_largestdistances_inverted,threshold) )\n",
    "        #print \"minority_predictions' model Fscore when using a threshold of \"+str(thresholds[i])\n",
    "        #print graphlab.evaluation.f1_score(kitchentestgl['label'], kitchentestgl['minority_predictions'])\n",
    "        #print \"minority_predictions' model Accuracy when using a threshold of \"+str(thresholds[i])\n",
    "        #print graphlab.evaluation.accuracy(kitchentestgl['label'], kitchentestgl['minority_predictions'])\n",
    "        euc_Fscores.append(graphlab.evaluation.f1_score(kitchentestgl['label'], kitchentestgl['minority_predictions']))\n",
    "        euc_Accs.append(graphlab.evaluation.accuracy(kitchentestgl['label'], kitchentestgl['minority_predictions']))\n",
    "        #euc_threshold_acc[threshold].append(graphlab.evaluation.accuracy(kitchentestgl['label'], kitchentestgl['minority_predictions']))\n",
    "        #euc_threshold_fscore[threshold].append(graphlab.evaluation.f1_score(kitchentestgl['label'], kitchentestgl['minority_predictions']))\n",
    "    print \"euclidean distance results for the Majority classifiers of random dataset \"+str(d)\n",
    "\n",
    "    euc_major_Fscores=[]\n",
    "    euc_major_Accs = []\n",
    "    for i in range(len(thresholds)):\n",
    "        threshold=thresholds[i]\n",
    "        kitchentestgl['majority_predictions'] = kitchentestgl.apply(lambda x: weighted_predict_smalldist(x,normalized_smallestdistances,threshold) )\n",
    "        #print \"majority_predictions' model Fscore when using a threshold of \"+str(thresholds[i])\n",
    "        #print graphlab.evaluation.f1_score(kitchentestgl['label'], kitchentestgl['majority_predictions'])\n",
    "        #print \"majority_predictions' model Accuracy when using a threshold of \"+str(thresholds[i])\n",
    "        #print graphlab.evaluation.accuracy(kitchentestgl['label'], kitchentestgl['majority_predictions'])\n",
    "        ##euc_Fscores.append(graphlab.evaluation.f1_score(kitchentestgl['label'], kitchentestgl['majority_predictions']))\n",
    "        ##euc_Accs.append(graphlab.evaluation.accuracy(kitchentestgl['label'], kitchentestgl['majority_predictions']))\n",
    "        euc_threshold_acc[threshold].append(graphlab.evaluation.accuracy(kitchentestgl['label'], kitchentestgl['majority_predictions']))\n",
    "        euc_threshold_fscore[threshold].append(graphlab.evaluation.f1_score(kitchentestgl['label'], kitchentestgl['majority_predictions']))\n",
    "    print \"euclidean distance results for the Majority-Minority classifiers of random dataset \"+str(d)\n",
    "\n",
    "    #threshold using all models\n",
    "    for i in range(len(thresholds)):\n",
    "        threshold=thresholds[i]\n",
    "        kitchentestgl['majority_minority_predictions'] = kitchentestgl.apply(lambda x: weighted_predict_smalldist_largedistances(x,normalized_smallestdistances,normalized_largestdistances,threshold) )\n",
    "\n",
    "        #print \"majority_minority_predictions' model Fscore when using a threshold of \"+str(thresholds[i])\n",
    "        #print graphlab.evaluation.f1_score(kitchentestgl['label'], kitchentestgl['majority_minority_predictions'])\n",
    "        #print \"majority_minority_predictions' model Accuracy when using a threshold of \"+str(thresholds[i])\n",
    "        #print graphlab.evaluation.accuracy(kitchentestgl['label'], kitchentestgl['majority_minority_predictions'])\n",
    "        ##euc_Fscores.append(graphlab.evaluation.f1_score(kitchentestgl['label'], kitchentestgl['majority_minority_predictions']))\n",
    "        ##euc_Accs.append(graphlab.evaluation.accuracy(kitchentestgl['label'], kitchentestgl['majority_minority_predictions']))\n",
    "        euc_threshold_acc[threshold].append(graphlab.evaluation.accuracy(kitchentestgl['label'], kitchentestgl['majority_minority_predictions']))\n",
    "        euc_threshold_fscore[threshold].append(graphlab.evaluation.f1_score(kitchentestgl['label'], kitchentestgl['majority_minority_predictions']))\n",
    "    print \"max euc acc\"\n",
    "    print max(euc_Accs)\n",
    "    max_euc_accs.append(max(euc_Accs))\n",
    "    max_euc_fscores.append(max(euc_Fscores))\n",
    "    largestdistances=[0.5633181597498838,0.5546099411237762,0.5240471587804418,0.5039841842356722,0.49261932743957626,0.487554486027983]\n",
    "    lowestdistances=[ 0.36080598790800533,0.3686636285328633,0.4070498131725162,0.40863691553859804,0.4114316511076972,0.4613234524061305]\n",
    "    Minor_domains = ['automotive_predictions','book_predictions','jewelrywatches_predictions','gourmet_predictions','dvd_predictions','grocery_predictions']\n",
    "\n",
    "    Major_domains = ['electronics_predictions','healthpersonal_predictions','cameraphoto_predictions','apparel_predictions','baby_predictions','beauty_predictions']\n",
    "    normalized_largestdistances = euclidean_norm_dict(largestdistances)\n",
    "    normalized_smallestdistances = euclidean_norm_dict(lowestdistances)\n",
    "    normalized_largestdistances_inverted = [0] * len(normalized_largestdistances)\n",
    "    normalized_smallestdistances_inverted = [0] * len(normalized_smallestdistances)\n",
    "    for i in range(len(normalized_largestdistances)):\n",
    "        normalized_largestdistances_inverted[i] = 1 - normalized_largestdistances[i]\n",
    "    \n",
    "    for j in range(len(normalized_smallestdistances)):\n",
    "        normalized_smallestdistances_inverted[j] = 1 - normalized_smallestdistances[j]\n",
    "    print \"Cosine distance results for the minority classifiers of random dataset \"+str(d)\n",
    "    cosine_Accs=[]\n",
    "    cosine_Fscores=[]\n",
    "    for i in range(len(thresholds)):\n",
    "        threshold=thresholds[i]\n",
    "        kitchentestgl['minority_predictions'] = kitchentestgl.apply(lambda x: weighted_predict_largedist(x,normalized_largestdistances_inverted,threshold) )\n",
    "        #print \"minority_predictions' model Fscore when using a threshold of \"+str(thresholds[i])\n",
    "        #print graphlab.evaluation.f1_score(kitchentestgl['label'], kitchentestgl['minority_predictions'])\n",
    "        #print \"minority_predictions' model Accuracy when using a threshold of \"+str(thresholds[i])\n",
    "        #print graphlab.evaluation.accuracy(kitchentestgl['label'], kitchentestgl['minority_predictions'])\n",
    "        cosine_Accs.append(graphlab.evaluation.accuracy(kitchentestgl['label'], kitchentestgl['minority_predictions']))\n",
    "        cosine_Fscores.append(graphlab.evaluation.f1_score(kitchentestgl['label'], kitchentestgl['minority_predictions']))\n",
    "        #cosine_threshold_acc[threshold].append(graphlab.evaluation.accuracy(kitchentestgl['label'], kitchentestgl['minority_predictions']))\n",
    "        #cosine_threshold_fscore[threshold].append(graphlab.evaluation.f1_score(kitchentestgl['label'], kitchentestgl['minority_predictions']))\n",
    "    \n",
    "    print \"Cosine distance results for the Majority classifiers of random dataset \"+str(d)\n",
    "    for i in range(len(thresholds)):\n",
    "        threshold=thresholds[i]\n",
    "        kitchentestgl['majority_predictions'] = kitchentestgl.apply(lambda x: weighted_predict_smalldist(x,normalized_smallestdistances,threshold) )\n",
    "        #print \"majority_predictions' model Fscore when using a threshold of \"+str(thresholds[i])\n",
    "        #print graphlab.evaluation.f1_score(kitchentestgl['label'], kitchentestgl['majority_predictions'])\n",
    "        #print \"majority_predictions' model Accuracy when using a threshold of \"+str(thresholds[i])\n",
    "        #print graphlab.evaluation.accuracy(kitchentestgl['label'], kitchentestgl['majority_predictions'])\n",
    "        ##cosine_Accs.append(graphlab.evaluation.accuracy(kitchentestgl['label'], kitchentestgl['majority_predictions']))\n",
    "        ##cosine_Fscores.append(graphlab.evaluation.f1_score(kitchentestgl['label'], kitchentestgl['majority_predictions']))\n",
    "        #cosine_threshold_acc[threshold].append(graphlab.evaluation.accuracy(kitchentestgl['label'], kitchentestgl['majority_predictions']))\n",
    "        #cosine_threshold_fscore[threshold].append(graphlab.evaluation.f1_score(kitchentestgl['label'], kitchentestgl['majority_predictions']))\n",
    "    \n",
    "    print \"Cosine distance results for the Majority-Minority classifiers of random dataset \"+str(d)\n",
    "    \n",
    "    \n",
    "    for i in range(len(thresholds)):\n",
    "        threshold=thresholds[i]\n",
    "        kitchentestgl['majority_minority_predictions'] = kitchentestgl.apply(lambda x: weighted_predict_smalldist_largedistances(x,normalized_smallestdistances,normalized_largestdistances,threshold) )\n",
    "\n",
    "        #print \"majority_minority_predictions' model Fscore when using a threshold of \"+str(thresholds[i])\n",
    "        #print graphlab.evaluation.f1_score(kitchentestgl['label'], kitchentestgl['majority_minority_predictions'])\n",
    "        #print \"majority_minority_predictions' model Accuracy when using a threshold of \"+str(thresholds[i])\n",
    "        #print graphlab.evaluation.accuracy(kitchentestgl['label'], kitchentestgl['majority_minority_predictions'])\n",
    "        print \"max euc acc\"\n",
    "        ##cosine_Accs.append(graphlab.evaluation.accuracy(kitchentestgl['label'], kitchentestgl['majority_minority_predictions']))\n",
    "        ##cosine_Fscores.append(graphlab.evaluation.f1_score(kitchentestgl['label'], kitchentestgl['majority_minority_predictions']))\n",
    "        cosine_threshold_acc[threshold].append(graphlab.evaluation.accuracy(kitchentestgl['label'], kitchentestgl['majority_minority_predictions']))\n",
    "        cosine_threshold_fscore[threshold].append(graphlab.evaluation.f1_score(kitchentestgl['label'], kitchentestgl['majority_minority_predictions']))\n",
    "    print max(cosine_Accs)\n",
    "    max_cosine_accs.append(max(cosine_Accs))\n",
    "    max_cosine_fscores.append(max(cosine_Fscores))\n",
    "    print \"data set \"+str(counter)+' was tested!'\n",
    "print \"max cosine acc\"\n",
    "print max_cosine_accs\n",
    "max_cosine_accs_mean = sum(max_cosine_accs) / len(max_cosine_accs)\n",
    "print \"average cosine accuracy for threshold \" + str(thresholds[0])\n",
    "print max_cosine_accs_mean\n",
    "max_cosine_fscores_mean = sum(max_cosine_fscores) / len(max_cosine_fscores)\n",
    "print \"average cosine fscore for threshold \" + str(thresholds[0])\n",
    "print max_cosine_fscores_mean\n",
    "\n",
    "print \"max euc acc\"\n",
    "print max_euc_accs\n",
    "max_euc_accs_mean = sum(max_euc_accs) / len(max_euc_accs)\n",
    "\n",
    "print \"average euclidean accuracy for threshold \" + str(thresholds[0])\n",
    "print max_euc_accs_mean\n",
    "max_euc_fscores_mean = sum(max_euc_fscores) / len(max_euc_fscores)\n",
    "print \"average euclidean fscore for threshold \" + str(thresholds[0])\n",
    "print max_euc_fscores_mean\n",
    "\n",
    "\n",
    "\n"
   ]
  },
  {
   "cell_type": "markdown",
   "metadata": {},
   "source": [
    "## Top performing classifiers (th=0.5)"
   ]
  },
  {
   "cell_type": "code",
   "execution_count": 5,
   "metadata": {
    "collapsed": false
   },
   "outputs": [
    {
     "data": {
      "text/html": [
       "<pre>Finished parsing file C:\\Users\\Omar\\kitchentestgl_random.csv</pre>"
      ],
      "text/plain": [
       "Finished parsing file C:\\Users\\Omar\\kitchentestgl_random.csv"
      ]
     },
     "metadata": {},
     "output_type": "display_data"
    },
    {
     "data": {
      "text/html": [
       "<pre>Parsing completed. Parsed 100 lines in 0.087946 secs.</pre>"
      ],
      "text/plain": [
       "Parsing completed. Parsed 100 lines in 0.087946 secs."
      ]
     },
     "metadata": {},
     "output_type": "display_data"
    },
    {
     "name": "stdout",
     "output_type": "stream",
     "text": [
      "------------------------------------------------------\n",
      "Inferred types from first 100 line(s) of file as \n",
      "column_type_hints=[str,long,str,str,str,str,str,long,long,long,long,long,long,long,long,long,long,long,long,long]\n",
      "If parsing fails due to incorrect types, you can correct\n",
      "the inferred type list above and pass it to read_csv in\n",
      "the column_type_hints argument\n",
      "------------------------------------------------------\n"
     ]
    },
    {
     "data": {
      "text/html": [
       "<pre>Finished parsing file C:\\Users\\Omar\\kitchentestgl_random.csv</pre>"
      ],
      "text/plain": [
       "Finished parsing file C:\\Users\\Omar\\kitchentestgl_random.csv"
      ]
     },
     "metadata": {},
     "output_type": "display_data"
    },
    {
     "data": {
      "text/html": [
       "<pre>Parsing completed. Parsed 1000 lines in 0.051486 secs.</pre>"
      ],
      "text/plain": [
       "Parsing completed. Parsed 1000 lines in 0.051486 secs."
      ]
     },
     "metadata": {},
     "output_type": "display_data"
    },
    {
     "name": "stdout",
     "output_type": "stream",
     "text": [
      "results for random dataset 1\n",
      "euclidean distance results for the minority classifiers of random dataset 1\n",
      "euclidean distance results for the Majority classifiers of random dataset 1\n",
      "euclidean distance results for the Majority-Minority classifiers of random dataset 1\n",
      "max euc acc\n",
      "0.865\n",
      "Cosine distance results for the minority classifiers of random dataset 1\n",
      "Cosine distance results for the Majority classifiers of random dataset 1\n",
      "Cosine distance results for the Majority-Minority classifiers of random dataset 1\n",
      "max euc acc\n",
      "0.864\n",
      "data set 1 was tested!\n"
     ]
    },
    {
     "data": {
      "text/html": [
       "<pre>Finished parsing file C:\\Users\\Omar\\kitchentestgl_random_2.csv</pre>"
      ],
      "text/plain": [
       "Finished parsing file C:\\Users\\Omar\\kitchentestgl_random_2.csv"
      ]
     },
     "metadata": {},
     "output_type": "display_data"
    },
    {
     "data": {
      "text/html": [
       "<pre>Parsing completed. Parsed 100 lines in 0.09023 secs.</pre>"
      ],
      "text/plain": [
       "Parsing completed. Parsed 100 lines in 0.09023 secs."
      ]
     },
     "metadata": {},
     "output_type": "display_data"
    },
    {
     "name": "stdout",
     "output_type": "stream",
     "text": [
      "------------------------------------------------------\n",
      "Inferred types from first 100 line(s) of file as \n",
      "column_type_hints=[str,long,str,str,str,str,str,long,long,long,long,long,long,long,long,long,long,long,long,long]\n",
      "If parsing fails due to incorrect types, you can correct\n",
      "the inferred type list above and pass it to read_csv in\n",
      "the column_type_hints argument\n",
      "------------------------------------------------------\n"
     ]
    },
    {
     "data": {
      "text/html": [
       "<pre>Finished parsing file C:\\Users\\Omar\\kitchentestgl_random_2.csv</pre>"
      ],
      "text/plain": [
       "Finished parsing file C:\\Users\\Omar\\kitchentestgl_random_2.csv"
      ]
     },
     "metadata": {},
     "output_type": "display_data"
    },
    {
     "data": {
      "text/html": [
       "<pre>Parsing completed. Parsed 1000 lines in 0.053139 secs.</pre>"
      ],
      "text/plain": [
       "Parsing completed. Parsed 1000 lines in 0.053139 secs."
      ]
     },
     "metadata": {},
     "output_type": "display_data"
    },
    {
     "name": "stdout",
     "output_type": "stream",
     "text": [
      "results for random dataset 2\n",
      "euclidean distance results for the minority classifiers of random dataset 2\n",
      "euclidean distance results for the Majority classifiers of random dataset 2\n",
      "euclidean distance results for the Majority-Minority classifiers of random dataset 2\n",
      "max euc acc\n",
      "0.882\n",
      "Cosine distance results for the minority classifiers of random dataset 2\n",
      "Cosine distance results for the Majority classifiers of random dataset 2\n",
      "Cosine distance results for the Majority-Minority classifiers of random dataset 2\n",
      "max euc acc\n",
      "0.889\n",
      "data set 2 was tested!\n"
     ]
    },
    {
     "data": {
      "text/html": [
       "<pre>Finished parsing file C:\\Users\\Omar\\kitchentestgl_random_3.csv</pre>"
      ],
      "text/plain": [
       "Finished parsing file C:\\Users\\Omar\\kitchentestgl_random_3.csv"
      ]
     },
     "metadata": {},
     "output_type": "display_data"
    },
    {
     "data": {
      "text/html": [
       "<pre>Parsing completed. Parsed 100 lines in 0.091974 secs.</pre>"
      ],
      "text/plain": [
       "Parsing completed. Parsed 100 lines in 0.091974 secs."
      ]
     },
     "metadata": {},
     "output_type": "display_data"
    },
    {
     "name": "stdout",
     "output_type": "stream",
     "text": [
      "------------------------------------------------------\n",
      "Inferred types from first 100 line(s) of file as \n",
      "column_type_hints=[str,long,str,str,str,str,str,long,long,long,long,long,long,long,long,long,long,long,long,long]\n",
      "If parsing fails due to incorrect types, you can correct\n",
      "the inferred type list above and pass it to read_csv in\n",
      "the column_type_hints argument\n",
      "------------------------------------------------------\n"
     ]
    },
    {
     "data": {
      "text/html": [
       "<pre>Finished parsing file C:\\Users\\Omar\\kitchentestgl_random_3.csv</pre>"
      ],
      "text/plain": [
       "Finished parsing file C:\\Users\\Omar\\kitchentestgl_random_3.csv"
      ]
     },
     "metadata": {},
     "output_type": "display_data"
    },
    {
     "data": {
      "text/html": [
       "<pre>Parsing completed. Parsed 1000 lines in 0.058965 secs.</pre>"
      ],
      "text/plain": [
       "Parsing completed. Parsed 1000 lines in 0.058965 secs."
      ]
     },
     "metadata": {},
     "output_type": "display_data"
    },
    {
     "name": "stdout",
     "output_type": "stream",
     "text": [
      "results for random dataset 3\n",
      "euclidean distance results for the minority classifiers of random dataset 3\n",
      "euclidean distance results for the Majority classifiers of random dataset 3\n",
      "euclidean distance results for the Majority-Minority classifiers of random dataset 3\n",
      "max euc acc\n",
      "0.864\n",
      "Cosine distance results for the minority classifiers of random dataset 3\n",
      "Cosine distance results for the Majority classifiers of random dataset 3\n",
      "Cosine distance results for the Majority-Minority classifiers of random dataset 3\n",
      "max euc acc\n",
      "0.869\n",
      "data set 3 was tested!\n"
     ]
    },
    {
     "data": {
      "text/html": [
       "<pre>Finished parsing file C:\\Users\\Omar\\kitchentestgl_random_4.csv</pre>"
      ],
      "text/plain": [
       "Finished parsing file C:\\Users\\Omar\\kitchentestgl_random_4.csv"
      ]
     },
     "metadata": {},
     "output_type": "display_data"
    },
    {
     "data": {
      "text/html": [
       "<pre>Parsing completed. Parsed 100 lines in 0.092946 secs.</pre>"
      ],
      "text/plain": [
       "Parsing completed. Parsed 100 lines in 0.092946 secs."
      ]
     },
     "metadata": {},
     "output_type": "display_data"
    },
    {
     "name": "stdout",
     "output_type": "stream",
     "text": [
      "------------------------------------------------------\n",
      "Inferred types from first 100 line(s) of file as \n",
      "column_type_hints=[str,long,str,str,str,str,str,long,long,long,long,long,long,long,long,long,long,long,long,long]\n",
      "If parsing fails due to incorrect types, you can correct\n",
      "the inferred type list above and pass it to read_csv in\n",
      "the column_type_hints argument\n",
      "------------------------------------------------------\n"
     ]
    },
    {
     "data": {
      "text/html": [
       "<pre>Finished parsing file C:\\Users\\Omar\\kitchentestgl_random_4.csv</pre>"
      ],
      "text/plain": [
       "Finished parsing file C:\\Users\\Omar\\kitchentestgl_random_4.csv"
      ]
     },
     "metadata": {},
     "output_type": "display_data"
    },
    {
     "data": {
      "text/html": [
       "<pre>Parsing completed. Parsed 1000 lines in 0.054984 secs.</pre>"
      ],
      "text/plain": [
       "Parsing completed. Parsed 1000 lines in 0.054984 secs."
      ]
     },
     "metadata": {},
     "output_type": "display_data"
    },
    {
     "name": "stdout",
     "output_type": "stream",
     "text": [
      "results for random dataset 4\n",
      "euclidean distance results for the minority classifiers of random dataset 4\n",
      "euclidean distance results for the Majority classifiers of random dataset 4\n",
      "euclidean distance results for the Majority-Minority classifiers of random dataset 4\n",
      "max euc acc\n",
      "0.866\n",
      "Cosine distance results for the minority classifiers of random dataset 4\n",
      "Cosine distance results for the Majority classifiers of random dataset 4\n",
      "Cosine distance results for the Majority-Minority classifiers of random dataset 4\n",
      "max euc acc\n",
      "0.881\n",
      "data set 4 was tested!\n"
     ]
    },
    {
     "data": {
      "text/html": [
       "<pre>Finished parsing file C:\\Users\\Omar\\kitchentestgl_random_5.csv</pre>"
      ],
      "text/plain": [
       "Finished parsing file C:\\Users\\Omar\\kitchentestgl_random_5.csv"
      ]
     },
     "metadata": {},
     "output_type": "display_data"
    },
    {
     "data": {
      "text/html": [
       "<pre>Parsing completed. Parsed 100 lines in 0.111781 secs.</pre>"
      ],
      "text/plain": [
       "Parsing completed. Parsed 100 lines in 0.111781 secs."
      ]
     },
     "metadata": {},
     "output_type": "display_data"
    },
    {
     "name": "stdout",
     "output_type": "stream",
     "text": [
      "------------------------------------------------------\n",
      "Inferred types from first 100 line(s) of file as \n",
      "column_type_hints=[str,long,str,str,str,str,str,long,long,long,long,long,long,long,long,long,long,long,long,long]\n",
      "If parsing fails due to incorrect types, you can correct\n",
      "the inferred type list above and pass it to read_csv in\n",
      "the column_type_hints argument\n",
      "------------------------------------------------------\n"
     ]
    },
    {
     "data": {
      "text/html": [
       "<pre>Finished parsing file C:\\Users\\Omar\\kitchentestgl_random_5.csv</pre>"
      ],
      "text/plain": [
       "Finished parsing file C:\\Users\\Omar\\kitchentestgl_random_5.csv"
      ]
     },
     "metadata": {},
     "output_type": "display_data"
    },
    {
     "data": {
      "text/html": [
       "<pre>Parsing completed. Parsed 1000 lines in 0.054969 secs.</pre>"
      ],
      "text/plain": [
       "Parsing completed. Parsed 1000 lines in 0.054969 secs."
      ]
     },
     "metadata": {},
     "output_type": "display_data"
    },
    {
     "name": "stdout",
     "output_type": "stream",
     "text": [
      "results for random dataset 5\n",
      "euclidean distance results for the minority classifiers of random dataset 5\n",
      "euclidean distance results for the Majority classifiers of random dataset 5\n",
      "euclidean distance results for the Majority-Minority classifiers of random dataset 5\n",
      "max euc acc\n",
      "0.862\n",
      "Cosine distance results for the minority classifiers of random dataset 5\n",
      "Cosine distance results for the Majority classifiers of random dataset 5\n",
      "Cosine distance results for the Majority-Minority classifiers of random dataset 5\n",
      "max euc acc\n",
      "0.871\n",
      "data set 5 was tested!\n",
      "max cosine acc\n",
      "[0.864, 0.889, 0.869, 0.881, 0.871]\n",
      "average cosine accuracy for threshold 0.5\n",
      "0.8748\n",
      "average cosine fscore for threshold 0.5\n",
      "0.876775397313\n",
      "max euc acc\n",
      "[0.865, 0.882, 0.864, 0.866, 0.862]\n",
      "average euclidean accuracy for threshold 0.5\n",
      "0.8678\n",
      "average euclidean fscore for threshold 0.5\n",
      "0.871932213291\n"
     ]
    }
   ],
   "source": [
    "from collections import defaultdict\n",
    "counter=0\n",
    "max_euc_accs=[]\n",
    "max_cosine_accs=[]\n",
    "max_cosine_fscores=[]\n",
    "max_euc_fscores=[]\n",
    "euc_threshold_acc = defaultdict(list)\n",
    "cosine_threshold_acc = defaultdict(list)\n",
    "\n",
    "euc_threshold_fscore = defaultdict(list)\n",
    "cosine_threshold_fscore = defaultdict(list)\n",
    "for d in range(1,6):\n",
    "    i=d\n",
    "    counter+=1\n",
    "    if i==1:\n",
    "        kitchentestgl = graphlab.SFrame('kitchentestgl_random.csv')\n",
    "    else:\n",
    "        kitchentestgl = graphlab.SFrame('kitchentestgl_random_'+str(i)+'.csv')\n",
    "    print \"results for random dataset \"+str(d)\n",
    "    print \"euclidean distance results for the minority classifiers of random dataset \"+str(d)\n",
    "    largestdistances=[215.7683943491261,167.77067681809,99.84487968844472,97.77013859047148,97.01030873056739,96.97422337920526]\n",
    "    lowestdistances=[88.91006692158093,90.62008607367353,91.81503144910424,91.98369420718001,94.66255859631093,94.75230867899737]\n",
    "    Minor_domains = ['book_predictions','dvd_predictions','automotive_predictions','jewelrywatches_predictions','computervideo_predictions','gourmet_predictions']\n",
    "    Major_domains = ['healthpersonal_predictions','baby_predictions','cameraphoto_predictions','apparel_predictions','electronics_predictions','beauty_predictions']\n",
    "    normalized_largestdistances = euclidean_norm_dict(largestdistances)\n",
    "    normalized_smallestdistances = euclidean_norm_dict(lowestdistances)\n",
    "    normalized_largestdistances_inverted = [0] * len(normalized_largestdistances)\n",
    "    normalized_smallestdistances_inverted = [0] * len(normalized_smallestdistances)\n",
    "    for i in range(len(normalized_largestdistances)):\n",
    "        normalized_largestdistances_inverted[i] = 1 - normalized_largestdistances[i]\n",
    "    \n",
    "    for j in range(len(normalized_smallestdistances)):\n",
    "        normalized_smallestdistances_inverted[j] = 1 - normalized_smallestdistances[j]\n",
    "    thresholds = [0.5]\n",
    "    euc_Fscores = []\n",
    "    euc_Accs = []\n",
    "    for i in range(len(thresholds)):\n",
    "        threshold=thresholds[i]\n",
    "        \n",
    "        kitchentestgl['minority_predictions'] = kitchentestgl.apply(lambda x: weighted_predict_largedist(x,normalized_largestdistances,threshold) )\n",
    "        #print \"minority_predictions' model Fscore when using a threshold of \"+str(thresholds[i])\n",
    "        #print graphlab.evaluation.f1_score(kitchentestgl['label'], kitchentestgl['minority_predictions'])\n",
    "        #print \"minority_predictions' model Accuracy when using a threshold of \"+str(thresholds[i])\n",
    "        #print graphlab.evaluation.accuracy(kitchentestgl['label'], kitchentestgl['minority_predictions'])\n",
    "        ##euc_Fscores.append(graphlab.evaluation.f1_score(kitchentestgl['label'], kitchentestgl['minority_predictions']))\n",
    "        ##euc_Accs.append(graphlab.evaluation.accuracy(kitchentestgl['label'], kitchentestgl['minority_predictions']))\n",
    "        #euc_threshold_acc[threshold].append(graphlab.evaluation.accuracy(kitchentestgl['label'], kitchentestgl['minority_predictions']))\n",
    "        #euc_threshold_fscore[threshold].append(graphlab.evaluation.f1_score(kitchentestgl['label'], kitchentestgl['minority_predictions']))\n",
    "    print \"euclidean distance results for the Majority classifiers of random dataset \"+str(d)\n",
    "\n",
    "    euc_major_Fscores=[]\n",
    "    euc_major_Accs = []\n",
    "    for i in range(len(thresholds)):\n",
    "        threshold=thresholds[i]\n",
    "        kitchentestgl['majority_predictions'] = kitchentestgl.apply(lambda x: weighted_predict_smalldist(x,normalized_smallestdistances_inverted,threshold) )\n",
    "        #print \"majority_predictions' model Fscore when using a threshold of \"+str(thresholds[i])\n",
    "        #print graphlab.evaluation.f1_score(kitchentestgl['label'], kitchentestgl['majority_predictions'])\n",
    "        #print \"majority_predictions' model Accuracy when using a threshold of \"+str(thresholds[i])\n",
    "        #print graphlab.evaluation.accuracy(kitchentestgl['label'], kitchentestgl['majority_predictions'])\n",
    "        euc_Fscores.append(graphlab.evaluation.f1_score(kitchentestgl['label'], kitchentestgl['majority_predictions']))\n",
    "        euc_Accs.append(graphlab.evaluation.accuracy(kitchentestgl['label'], kitchentestgl['majority_predictions']))\n",
    "        euc_threshold_acc[threshold].append(graphlab.evaluation.accuracy(kitchentestgl['label'], kitchentestgl['majority_predictions']))\n",
    "        euc_threshold_fscore[threshold].append(graphlab.evaluation.f1_score(kitchentestgl['label'], kitchentestgl['majority_predictions']))\n",
    "    print \"euclidean distance results for the Majority-Minority classifiers of random dataset \"+str(d)\n",
    "\n",
    "    #threshold using all models\n",
    "    for i in range(len(thresholds)):\n",
    "        threshold=thresholds[i]\n",
    "        kitchentestgl['majority_minority_predictions'] = kitchentestgl.apply(lambda x: weighted_predict_smalldist_largedistances(x,normalized_smallestdistances,normalized_largestdistances,threshold) )\n",
    "\n",
    "        #print \"majority_minority_predictions' model Fscore when using a threshold of \"+str(thresholds[i])\n",
    "        #print graphlab.evaluation.f1_score(kitchentestgl['label'], kitchentestgl['majority_minority_predictions'])\n",
    "        #print \"majority_minority_predictions' model Accuracy when using a threshold of \"+str(thresholds[i])\n",
    "        #print graphlab.evaluation.accuracy(kitchentestgl['label'], kitchentestgl['majority_minority_predictions'])\n",
    "        ##euc_Fscores.append(graphlab.evaluation.f1_score(kitchentestgl['label'], kitchentestgl['majority_minority_predictions']))\n",
    "        ##euc_Accs.append(graphlab.evaluation.accuracy(kitchentestgl['label'], kitchentestgl['majority_minority_predictions']))\n",
    "        euc_threshold_acc[threshold].append(graphlab.evaluation.accuracy(kitchentestgl['label'], kitchentestgl['majority_minority_predictions']))\n",
    "        euc_threshold_fscore[threshold].append(graphlab.evaluation.f1_score(kitchentestgl['label'], kitchentestgl['majority_minority_predictions']))\n",
    "    print \"max euc acc\"\n",
    "    print max(euc_Accs)\n",
    "    max_euc_accs.append(max(euc_Accs))\n",
    "    max_euc_fscores.append(max(euc_Fscores))\n",
    "    largestdistances=[0.5633181597498838,0.5546099411237762,0.5240471587804418,0.5039841842356722,0.49261932743957626,0.487554486027983]\n",
    "    lowestdistances=[ 0.36080598790800533,0.3686636285328633,0.4070498131725162,0.40863691553859804,0.4114316511076972,0.4613234524061305]\n",
    "    Minor_domains = ['automotive_predictions','book_predictions','jewelrywatches_predictions','gourmet_predictions','dvd_predictions','grocery_predictions']\n",
    "\n",
    "    Major_domains = ['electronics_predictions','healthpersonal_predictions','cameraphoto_predictions','apparel_predictions','baby_predictions','beauty_predictions']\n",
    "    normalized_largestdistances = euclidean_norm_dict(largestdistances)\n",
    "    normalized_smallestdistances = euclidean_norm_dict(lowestdistances)\n",
    "    normalized_largestdistances_inverted = [0] * len(normalized_largestdistances)\n",
    "    normalized_smallestdistances_inverted = [0] * len(normalized_smallestdistances)\n",
    "    for i in range(len(normalized_largestdistances)):\n",
    "        normalized_largestdistances_inverted[i] = 1 - normalized_largestdistances[i]\n",
    "    \n",
    "    for j in range(len(normalized_smallestdistances)):\n",
    "        normalized_smallestdistances_inverted[j] = 1 - normalized_smallestdistances[j]\n",
    "    print \"Cosine distance results for the minority classifiers of random dataset \"+str(d)\n",
    "    cosine_Accs=[]\n",
    "    cosine_Fscores=[]\n",
    "    for i in range(len(thresholds)):\n",
    "        threshold=thresholds[i]\n",
    "        kitchentestgl['minority_predictions'] = kitchentestgl.apply(lambda x: weighted_predict_largedist(x,normalized_largestdistances,threshold) )\n",
    "        #print \"minority_predictions' model Fscore when using a threshold of \"+str(thresholds[i])\n",
    "        #print graphlab.evaluation.f1_score(kitchentestgl['label'], kitchentestgl['minority_predictions'])\n",
    "        #print \"minority_predictions' model Accuracy when using a threshold of \"+str(thresholds[i])\n",
    "        #print graphlab.evaluation.accuracy(kitchentestgl['label'], kitchentestgl['minority_predictions'])\n",
    "        ##cosine_Accs.append(graphlab.evaluation.accuracy(kitchentestgl['label'], kitchentestgl['minority_predictions']))\n",
    "        ##cosine_Fscores.append(graphlab.evaluation.f1_score(kitchentestgl['label'], kitchentestgl['minority_predictions']))\n",
    "        #cosine_threshold_acc[threshold].append(graphlab.evaluation.accuracy(kitchentestgl['label'], kitchentestgl['minority_predictions']))\n",
    "        #cosine_threshold_fscore[threshold].append(graphlab.evaluation.f1_score(kitchentestgl['label'], kitchentestgl['minority_predictions']))\n",
    "    \n",
    "    print \"Cosine distance results for the Majority classifiers of random dataset \"+str(d)\n",
    "    for i in range(len(thresholds)):\n",
    "        threshold=thresholds[i]\n",
    "        kitchentestgl['majority_predictions'] = kitchentestgl.apply(lambda x: weighted_predict_smalldist(x,normalized_smallestdistances_inverted,threshold) )\n",
    "        #print \"majority_predictions' model Fscore when using a threshold of \"+str(thresholds[i])\n",
    "        #print graphlab.evaluation.f1_score(kitchentestgl['label'], kitchentestgl['majority_predictions'])\n",
    "        #print \"majority_predictions' model Accuracy when using a threshold of \"+str(thresholds[i])\n",
    "        #print graphlab.evaluation.accuracy(kitchentestgl['label'], kitchentestgl['majority_predictions'])\n",
    "        cosine_Accs.append(graphlab.evaluation.accuracy(kitchentestgl['label'], kitchentestgl['majority_predictions']))\n",
    "        cosine_Fscores.append(graphlab.evaluation.f1_score(kitchentestgl['label'], kitchentestgl['majority_predictions']))\n",
    "        #cosine_threshold_acc[threshold].append(graphlab.evaluation.accuracy(kitchentestgl['label'], kitchentestgl['majority_predictions']))\n",
    "        #cosine_threshold_fscore[threshold].append(graphlab.evaluation.f1_score(kitchentestgl['label'], kitchentestgl['majority_predictions']))\n",
    "    \n",
    "    print \"Cosine distance results for the Majority-Minority classifiers of random dataset \"+str(d)\n",
    "    \n",
    "    \n",
    "    for i in range(len(thresholds)):\n",
    "        threshold=thresholds[i]\n",
    "        kitchentestgl['majority_minority_predictions'] = kitchentestgl.apply(lambda x: weighted_predict_smalldist_largedistances(x,normalized_smallestdistances,normalized_largestdistances,threshold) )\n",
    "\n",
    "        #print \"majority_minority_predictions' model Fscore when using a threshold of \"+str(thresholds[i])\n",
    "        #print graphlab.evaluation.f1_score(kitchentestgl['label'], kitchentestgl['majority_minority_predictions'])\n",
    "        #print \"majority_minority_predictions' model Accuracy when using a threshold of \"+str(thresholds[i])\n",
    "        #print graphlab.evaluation.accuracy(kitchentestgl['label'], kitchentestgl['majority_minority_predictions'])\n",
    "        print \"max euc acc\"\n",
    "        ##cosine_Accs.append(graphlab.evaluation.accuracy(kitchentestgl['label'], kitchentestgl['majority_minority_predictions']))\n",
    "        ##cosine_Fscores.append(graphlab.evaluation.f1_score(kitchentestgl['label'], kitchentestgl['majority_minority_predictions']))\n",
    "        cosine_threshold_acc[threshold].append(graphlab.evaluation.accuracy(kitchentestgl['label'], kitchentestgl['majority_minority_predictions']))\n",
    "        cosine_threshold_fscore[threshold].append(graphlab.evaluation.f1_score(kitchentestgl['label'], kitchentestgl['majority_minority_predictions']))\n",
    "    print max(cosine_Accs)\n",
    "    max_cosine_accs.append(max(cosine_Accs))\n",
    "    max_cosine_fscores.append(max(cosine_Fscores))\n",
    "    print \"data set \"+str(counter)+' was tested!'\n",
    "print \"max cosine acc\"\n",
    "print max_cosine_accs\n",
    "max_cosine_accs_mean = sum(max_cosine_accs) / len(max_cosine_accs)\n",
    "print \"average cosine accuracy for threshold \" + str(thresholds[0])\n",
    "print max_cosine_accs_mean\n",
    "max_cosine_fscores_mean = sum(max_cosine_fscores) / len(max_cosine_fscores)\n",
    "print \"average cosine fscore for threshold \" + str(thresholds[0])\n",
    "print max_cosine_fscores_mean\n",
    "\n",
    "print \"max euc acc\"\n",
    "print max_euc_accs\n",
    "max_euc_accs_mean = sum(max_euc_accs) / len(max_euc_accs)\n",
    "\n",
    "print \"average euclidean accuracy for threshold \" + str(thresholds[0])\n",
    "print max_euc_accs_mean\n",
    "max_euc_fscores_mean = sum(max_euc_fscores) / len(max_euc_fscores)\n",
    "print \"average euclidean fscore for threshold \" + str(thresholds[0])\n",
    "print max_euc_fscores_mean\n",
    "\n",
    "\n",
    "\n",
    "\n",
    "\n"
   ]
  },
  {
   "cell_type": "markdown",
   "metadata": {},
   "source": [
    "## Top and Least performing classifiers (th=0.5)"
   ]
  },
  {
   "cell_type": "code",
   "execution_count": 6,
   "metadata": {
    "collapsed": false
   },
   "outputs": [
    {
     "data": {
      "text/html": [
       "<pre>Finished parsing file C:\\Users\\Omar\\kitchentestgl_random.csv</pre>"
      ],
      "text/plain": [
       "Finished parsing file C:\\Users\\Omar\\kitchentestgl_random.csv"
      ]
     },
     "metadata": {},
     "output_type": "display_data"
    },
    {
     "data": {
      "text/html": [
       "<pre>Parsing completed. Parsed 100 lines in 0.094739 secs.</pre>"
      ],
      "text/plain": [
       "Parsing completed. Parsed 100 lines in 0.094739 secs."
      ]
     },
     "metadata": {},
     "output_type": "display_data"
    },
    {
     "name": "stdout",
     "output_type": "stream",
     "text": [
      "------------------------------------------------------\n",
      "Inferred types from first 100 line(s) of file as \n",
      "column_type_hints=[str,long,str,str,str,str,str,long,long,long,long,long,long,long,long,long,long,long,long,long]\n",
      "If parsing fails due to incorrect types, you can correct\n",
      "the inferred type list above and pass it to read_csv in\n",
      "the column_type_hints argument\n",
      "------------------------------------------------------\n"
     ]
    },
    {
     "data": {
      "text/html": [
       "<pre>Finished parsing file C:\\Users\\Omar\\kitchentestgl_random.csv</pre>"
      ],
      "text/plain": [
       "Finished parsing file C:\\Users\\Omar\\kitchentestgl_random.csv"
      ]
     },
     "metadata": {},
     "output_type": "display_data"
    },
    {
     "data": {
      "text/html": [
       "<pre>Parsing completed. Parsed 1000 lines in 0.050656 secs.</pre>"
      ],
      "text/plain": [
       "Parsing completed. Parsed 1000 lines in 0.050656 secs."
      ]
     },
     "metadata": {},
     "output_type": "display_data"
    },
    {
     "name": "stdout",
     "output_type": "stream",
     "text": [
      "results for random dataset 1\n",
      "euclidean distance results for the minority classifiers of random dataset 1\n",
      "euclidean distance results for the Majority classifiers of random dataset 1\n",
      "euclidean distance results for the Majority-Minority classifiers of random dataset 1\n",
      "max euc acc\n",
      "0.817\n",
      "Cosine distance results for the minority classifiers of random dataset 1\n",
      "Cosine distance results for the Majority classifiers of random dataset 1\n",
      "Cosine distance results for the Majority-Minority classifiers of random dataset 1\n",
      "max euc acc\n",
      "0.833\n",
      "data set 1 was tested!\n"
     ]
    },
    {
     "data": {
      "text/html": [
       "<pre>Finished parsing file C:\\Users\\Omar\\kitchentestgl_random_2.csv</pre>"
      ],
      "text/plain": [
       "Finished parsing file C:\\Users\\Omar\\kitchentestgl_random_2.csv"
      ]
     },
     "metadata": {},
     "output_type": "display_data"
    },
    {
     "data": {
      "text/html": [
       "<pre>Parsing completed. Parsed 100 lines in 0.091946 secs.</pre>"
      ],
      "text/plain": [
       "Parsing completed. Parsed 100 lines in 0.091946 secs."
      ]
     },
     "metadata": {},
     "output_type": "display_data"
    },
    {
     "name": "stdout",
     "output_type": "stream",
     "text": [
      "------------------------------------------------------\n",
      "Inferred types from first 100 line(s) of file as \n",
      "column_type_hints=[str,long,str,str,str,str,str,long,long,long,long,long,long,long,long,long,long,long,long,long]\n",
      "If parsing fails due to incorrect types, you can correct\n",
      "the inferred type list above and pass it to read_csv in\n",
      "the column_type_hints argument\n",
      "------------------------------------------------------\n"
     ]
    },
    {
     "data": {
      "text/html": [
       "<pre>Finished parsing file C:\\Users\\Omar\\kitchentestgl_random_2.csv</pre>"
      ],
      "text/plain": [
       "Finished parsing file C:\\Users\\Omar\\kitchentestgl_random_2.csv"
      ]
     },
     "metadata": {},
     "output_type": "display_data"
    },
    {
     "data": {
      "text/html": [
       "<pre>Parsing completed. Parsed 1000 lines in 0.053984 secs.</pre>"
      ],
      "text/plain": [
       "Parsing completed. Parsed 1000 lines in 0.053984 secs."
      ]
     },
     "metadata": {},
     "output_type": "display_data"
    },
    {
     "name": "stdout",
     "output_type": "stream",
     "text": [
      "results for random dataset 2\n",
      "euclidean distance results for the minority classifiers of random dataset 2\n",
      "euclidean distance results for the Majority classifiers of random dataset 2\n",
      "euclidean distance results for the Majority-Minority classifiers of random dataset 2\n",
      "max euc acc\n",
      "0.84\n",
      "Cosine distance results for the minority classifiers of random dataset 2\n",
      "Cosine distance results for the Majority classifiers of random dataset 2\n",
      "Cosine distance results for the Majority-Minority classifiers of random dataset 2\n",
      "max euc acc\n",
      "0.856\n",
      "data set 2 was tested!\n"
     ]
    },
    {
     "data": {
      "text/html": [
       "<pre>Finished parsing file C:\\Users\\Omar\\kitchentestgl_random_3.csv</pre>"
      ],
      "text/plain": [
       "Finished parsing file C:\\Users\\Omar\\kitchentestgl_random_3.csv"
      ]
     },
     "metadata": {},
     "output_type": "display_data"
    },
    {
     "data": {
      "text/html": [
       "<pre>Parsing completed. Parsed 100 lines in 0.088949 secs.</pre>"
      ],
      "text/plain": [
       "Parsing completed. Parsed 100 lines in 0.088949 secs."
      ]
     },
     "metadata": {},
     "output_type": "display_data"
    },
    {
     "name": "stdout",
     "output_type": "stream",
     "text": [
      "------------------------------------------------------\n",
      "Inferred types from first 100 line(s) of file as \n",
      "column_type_hints=[str,long,str,str,str,str,str,long,long,long,long,long,long,long,long,long,long,long,long,long]\n",
      "If parsing fails due to incorrect types, you can correct\n",
      "the inferred type list above and pass it to read_csv in\n",
      "the column_type_hints argument\n",
      "------------------------------------------------------\n"
     ]
    },
    {
     "data": {
      "text/html": [
       "<pre>Finished parsing file C:\\Users\\Omar\\kitchentestgl_random_3.csv</pre>"
      ],
      "text/plain": [
       "Finished parsing file C:\\Users\\Omar\\kitchentestgl_random_3.csv"
      ]
     },
     "metadata": {},
     "output_type": "display_data"
    },
    {
     "data": {
      "text/html": [
       "<pre>Parsing completed. Parsed 1000 lines in 0.053032 secs.</pre>"
      ],
      "text/plain": [
       "Parsing completed. Parsed 1000 lines in 0.053032 secs."
      ]
     },
     "metadata": {},
     "output_type": "display_data"
    },
    {
     "name": "stdout",
     "output_type": "stream",
     "text": [
      "results for random dataset 3\n",
      "euclidean distance results for the minority classifiers of random dataset 3\n",
      "euclidean distance results for the Majority classifiers of random dataset 3\n",
      "euclidean distance results for the Majority-Minority classifiers of random dataset 3\n",
      "max euc acc\n",
      "0.82\n",
      "Cosine distance results for the minority classifiers of random dataset 3\n",
      "Cosine distance results for the Majority classifiers of random dataset 3\n",
      "Cosine distance results for the Majority-Minority classifiers of random dataset 3\n",
      "max euc acc\n",
      "0.84\n",
      "data set 3 was tested!\n"
     ]
    },
    {
     "data": {
      "text/html": [
       "<pre>Finished parsing file C:\\Users\\Omar\\kitchentestgl_random_4.csv</pre>"
      ],
      "text/plain": [
       "Finished parsing file C:\\Users\\Omar\\kitchentestgl_random_4.csv"
      ]
     },
     "metadata": {},
     "output_type": "display_data"
    },
    {
     "data": {
      "text/html": [
       "<pre>Parsing completed. Parsed 100 lines in 0.099942 secs.</pre>"
      ],
      "text/plain": [
       "Parsing completed. Parsed 100 lines in 0.099942 secs."
      ]
     },
     "metadata": {},
     "output_type": "display_data"
    },
    {
     "name": "stdout",
     "output_type": "stream",
     "text": [
      "------------------------------------------------------\n",
      "Inferred types from first 100 line(s) of file as \n",
      "column_type_hints=[str,long,str,str,str,str,str,long,long,long,long,long,long,long,long,long,long,long,long,long]\n",
      "If parsing fails due to incorrect types, you can correct\n",
      "the inferred type list above and pass it to read_csv in\n",
      "the column_type_hints argument\n",
      "------------------------------------------------------\n"
     ]
    },
    {
     "data": {
      "text/html": [
       "<pre>Finished parsing file C:\\Users\\Omar\\kitchentestgl_random_4.csv</pre>"
      ],
      "text/plain": [
       "Finished parsing file C:\\Users\\Omar\\kitchentestgl_random_4.csv"
      ]
     },
     "metadata": {},
     "output_type": "display_data"
    },
    {
     "data": {
      "text/html": [
       "<pre>Parsing completed. Parsed 1000 lines in 0.05297 secs.</pre>"
      ],
      "text/plain": [
       "Parsing completed. Parsed 1000 lines in 0.05297 secs."
      ]
     },
     "metadata": {},
     "output_type": "display_data"
    },
    {
     "name": "stdout",
     "output_type": "stream",
     "text": [
      "results for random dataset 4\n",
      "euclidean distance results for the minority classifiers of random dataset 4\n",
      "euclidean distance results for the Majority classifiers of random dataset 4\n",
      "euclidean distance results for the Majority-Minority classifiers of random dataset 4\n",
      "max euc acc\n",
      "0.813\n",
      "Cosine distance results for the minority classifiers of random dataset 4\n",
      "Cosine distance results for the Majority classifiers of random dataset 4\n",
      "Cosine distance results for the Majority-Minority classifiers of random dataset 4\n",
      "max euc acc\n",
      "0.831\n",
      "data set 4 was tested!\n"
     ]
    },
    {
     "data": {
      "text/html": [
       "<pre>Finished parsing file C:\\Users\\Omar\\kitchentestgl_random_5.csv</pre>"
      ],
      "text/plain": [
       "Finished parsing file C:\\Users\\Omar\\kitchentestgl_random_5.csv"
      ]
     },
     "metadata": {},
     "output_type": "display_data"
    },
    {
     "data": {
      "text/html": [
       "<pre>Parsing completed. Parsed 100 lines in 0.104586 secs.</pre>"
      ],
      "text/plain": [
       "Parsing completed. Parsed 100 lines in 0.104586 secs."
      ]
     },
     "metadata": {},
     "output_type": "display_data"
    },
    {
     "name": "stdout",
     "output_type": "stream",
     "text": [
      "------------------------------------------------------\n",
      "Inferred types from first 100 line(s) of file as \n",
      "column_type_hints=[str,long,str,str,str,str,str,long,long,long,long,long,long,long,long,long,long,long,long,long]\n",
      "If parsing fails due to incorrect types, you can correct\n",
      "the inferred type list above and pass it to read_csv in\n",
      "the column_type_hints argument\n",
      "------------------------------------------------------\n"
     ]
    },
    {
     "data": {
      "text/html": [
       "<pre>Finished parsing file C:\\Users\\Omar\\kitchentestgl_random_5.csv</pre>"
      ],
      "text/plain": [
       "Finished parsing file C:\\Users\\Omar\\kitchentestgl_random_5.csv"
      ]
     },
     "metadata": {},
     "output_type": "display_data"
    },
    {
     "data": {
      "text/html": [
       "<pre>Parsing completed. Parsed 1000 lines in 0.054969 secs.</pre>"
      ],
      "text/plain": [
       "Parsing completed. Parsed 1000 lines in 0.054969 secs."
      ]
     },
     "metadata": {},
     "output_type": "display_data"
    },
    {
     "name": "stdout",
     "output_type": "stream",
     "text": [
      "results for random dataset 5\n",
      "euclidean distance results for the minority classifiers of random dataset 5\n",
      "euclidean distance results for the Majority classifiers of random dataset 5\n",
      "euclidean distance results for the Majority-Minority classifiers of random dataset 5\n",
      "max euc acc\n",
      "0.812\n",
      "Cosine distance results for the minority classifiers of random dataset 5\n",
      "Cosine distance results for the Majority classifiers of random dataset 5\n",
      "Cosine distance results for the Majority-Minority classifiers of random dataset 5\n",
      "max euc acc\n",
      "0.833\n",
      "data set 5 was tested!\n",
      "max cosine acc\n",
      "[0.833, 0.856, 0.84, 0.831, 0.833]\n",
      "average cosine accuracy for threshold 0.5\n",
      "0.8386\n",
      "average cosine fscore for threshold 0.5\n",
      "0.85371001499\n",
      "max euc acc\n",
      "[0.817, 0.84, 0.82, 0.813, 0.812]\n",
      "average euclidean accuracy for threshold 0.5\n",
      "0.8204\n",
      "average euclidean fscore for threshold 0.5\n",
      "0.842342305681\n"
     ]
    }
   ],
   "source": [
    "## inverted weights\n",
    "        \n",
    "from collections import defaultdict\n",
    "counter=0\n",
    "max_euc_accs=[]\n",
    "max_cosine_accs=[]\n",
    "max_cosine_fscores=[]\n",
    "max_euc_fscores=[]\n",
    "euc_threshold_acc = defaultdict(list)\n",
    "cosine_threshold_acc = defaultdict(list)\n",
    "\n",
    "euc_threshold_fscore = defaultdict(list)\n",
    "cosine_threshold_fscore = defaultdict(list)\n",
    "for d in range(1,6):\n",
    "    i=d\n",
    "    counter+=1\n",
    "    if i==1:\n",
    "        kitchentestgl = graphlab.SFrame('kitchentestgl_random.csv')\n",
    "    else:\n",
    "        kitchentestgl = graphlab.SFrame('kitchentestgl_random_'+str(i)+'.csv')\n",
    "    print \"results for random dataset \"+str(d)\n",
    "    print \"euclidean distance results for the minority classifiers of random dataset \"+str(d)\n",
    "    largestdistances=[215.7683943491261,167.77067681809,99.84487968844472,97.77013859047148,97.01030873056739,96.97422337920526]\n",
    "    lowestdistances=[88.91006692158093,90.62008607367353,91.81503144910424,91.98369420718001,94.66255859631093,94.75230867899737]\n",
    "    Minor_domains = ['book_predictions','dvd_predictions','automotive_predictions','jewelrywatches_predictions','computervideo_predictions','gourmet_predictions']\n",
    "    Major_domains = ['healthpersonal_predictions','baby_predictions','cameraphoto_predictions','apparel_predictions','electronics_predictions','beauty_predictions']\n",
    "    normalized_largestdistances = euclidean_norm_dict(largestdistances)\n",
    "    normalized_smallestdistances = euclidean_norm_dict(lowestdistances)\n",
    "    normalized_largestdistances_inverted = [0] * len(normalized_largestdistances)\n",
    "    normalized_smallestdistances_inverted = [0] * len(normalized_smallestdistances)\n",
    "    for i in range(len(normalized_largestdistances)):\n",
    "        normalized_largestdistances_inverted[i] = 1 - normalized_largestdistances[i]\n",
    "    \n",
    "    for j in range(len(normalized_smallestdistances)):\n",
    "        normalized_smallestdistances_inverted[j] = 1 - normalized_smallestdistances[j]\n",
    "    thresholds = [0.5]\n",
    "    euc_Fscores = []\n",
    "    euc_Accs = []\n",
    "    for i in range(len(thresholds)):\n",
    "        threshold=thresholds[i]\n",
    "        \n",
    "        kitchentestgl['minority_predictions'] = kitchentestgl.apply(lambda x: weighted_predict_largedist(x,normalized_largestdistances,threshold) )\n",
    "        #print \"minority_predictions' model Fscore when using a threshold of \"+str(thresholds[i])\n",
    "        #print graphlab.evaluation.f1_score(kitchentestgl['label'], kitchentestgl['minority_predictions'])\n",
    "        #print \"minority_predictions' model Accuracy when using a threshold of \"+str(thresholds[i])\n",
    "        #print graphlab.evaluation.accuracy(kitchentestgl['label'], kitchentestgl['minority_predictions'])\n",
    "        ##euc_Fscores.append(graphlab.evaluation.f1_score(kitchentestgl['label'], kitchentestgl['minority_predictions']))\n",
    "        ##euc_Accs.append(graphlab.evaluation.accuracy(kitchentestgl['label'], kitchentestgl['minority_predictions']))\n",
    "        #euc_threshold_acc[threshold].append(graphlab.evaluation.accuracy(kitchentestgl['label'], kitchentestgl['minority_predictions']))\n",
    "        #euc_threshold_fscore[threshold].append(graphlab.evaluation.f1_score(kitchentestgl['label'], kitchentestgl['minority_predictions']))\n",
    "    print \"euclidean distance results for the Majority classifiers of random dataset \"+str(d)\n",
    "\n",
    "    euc_major_Fscores=[]\n",
    "    euc_major_Accs = []\n",
    "    for i in range(len(thresholds)):\n",
    "        threshold=thresholds[i]\n",
    "        kitchentestgl['majority_predictions'] = kitchentestgl.apply(lambda x: weighted_predict_smalldist(x,normalized_smallestdistances,threshold) )\n",
    "        #print \"majority_predictions' model Fscore when using a threshold of \"+str(thresholds[i])\n",
    "        #print graphlab.evaluation.f1_score(kitchentestgl['label'], kitchentestgl['majority_predictions'])\n",
    "        #print \"majority_predictions' model Accuracy when using a threshold of \"+str(thresholds[i])\n",
    "        #print graphlab.evaluation.accuracy(kitchentestgl['label'], kitchentestgl['majority_predictions'])\n",
    "        ##euc_Fscores.append(graphlab.evaluation.f1_score(kitchentestgl['label'], kitchentestgl['majority_predictions']))\n",
    "        ##euc_Accs.append(graphlab.evaluation.accuracy(kitchentestgl['label'], kitchentestgl['majority_predictions']))\n",
    "        euc_threshold_acc[threshold].append(graphlab.evaluation.accuracy(kitchentestgl['label'], kitchentestgl['majority_predictions']))\n",
    "        euc_threshold_fscore[threshold].append(graphlab.evaluation.f1_score(kitchentestgl['label'], kitchentestgl['majority_predictions']))\n",
    "    print \"euclidean distance results for the Majority-Minority classifiers of random dataset \"+str(d)\n",
    "\n",
    "    #threshold using all models\n",
    "    for i in range(len(thresholds)):\n",
    "        threshold=thresholds[i]\n",
    "        kitchentestgl['majority_minority_predictions'] = kitchentestgl.apply(lambda x: weighted_predict_smalldist_largedistances(x,normalized_smallestdistances_inverted,normalized_largestdistances_inverted,threshold) )\n",
    "\n",
    "        #print \"majority_minority_predictions' model Fscore when using a threshold of \"+str(thresholds[i])\n",
    "        #print graphlab.evaluation.f1_score(kitchentestgl['label'], kitchentestgl['majority_minority_predictions'])\n",
    "        #print \"majority_minority_predictions' model Accuracy when using a threshold of \"+str(thresholds[i])\n",
    "        #print graphlab.evaluation.accuracy(kitchentestgl['label'], kitchentestgl['majority_minority_predictions'])\n",
    "        euc_Fscores.append(graphlab.evaluation.f1_score(kitchentestgl['label'], kitchentestgl['majority_minority_predictions']))\n",
    "        euc_Accs.append(graphlab.evaluation.accuracy(kitchentestgl['label'], kitchentestgl['majority_minority_predictions']))\n",
    "        euc_threshold_acc[threshold].append(graphlab.evaluation.accuracy(kitchentestgl['label'], kitchentestgl['majority_minority_predictions']))\n",
    "        euc_threshold_fscore[threshold].append(graphlab.evaluation.f1_score(kitchentestgl['label'], kitchentestgl['majority_minority_predictions']))\n",
    "    print \"max euc acc\"\n",
    "    print max(euc_Accs)\n",
    "    max_euc_accs.append(max(euc_Accs))\n",
    "    max_euc_fscores.append(max(euc_Fscores))\n",
    "    largestdistances=[0.5633181597498838,0.5546099411237762,0.5240471587804418,0.5039841842356722,0.49261932743957626,0.487554486027983]\n",
    "    lowestdistances=[ 0.36080598790800533,0.3686636285328633,0.4070498131725162,0.40863691553859804,0.4114316511076972,0.4613234524061305]\n",
    "    Minor_domains = ['automotive_predictions','book_predictions','jewelrywatches_predictions','gourmet_predictions','dvd_predictions','grocery_predictions']\n",
    "\n",
    "    Major_domains = ['electronics_predictions','healthpersonal_predictions','cameraphoto_predictions','apparel_predictions','baby_predictions','beauty_predictions']\n",
    "    normalized_largestdistances = euclidean_norm_dict(largestdistances)\n",
    "    normalized_smallestdistances = euclidean_norm_dict(lowestdistances)\n",
    "    normalized_largestdistances_inverted = [0] * len(normalized_largestdistances)\n",
    "    normalized_smallestdistances_inverted = [0] * len(normalized_smallestdistances)\n",
    "    for i in range(len(normalized_largestdistances)):\n",
    "        normalized_largestdistances_inverted[i] = 1 - normalized_largestdistances[i]\n",
    "    \n",
    "    for j in range(len(normalized_smallestdistances)):\n",
    "        normalized_smallestdistances_inverted[j] = 1 - normalized_smallestdistances[j]\n",
    "    print \"Cosine distance results for the minority classifiers of random dataset \"+str(d)\n",
    "    cosine_Accs=[]\n",
    "    cosine_Fscores=[]\n",
    "    for i in range(len(thresholds)):\n",
    "        threshold=thresholds[i]\n",
    "        kitchentestgl['minority_predictions'] = kitchentestgl.apply(lambda x: weighted_predict_largedist(x,normalized_largestdistances,threshold) )\n",
    "        #print \"minority_predictions' model Fscore when using a threshold of \"+str(thresholds[i])\n",
    "        #print graphlab.evaluation.f1_score(kitchentestgl['label'], kitchentestgl['minority_predictions'])\n",
    "        #print \"minority_predictions' model Accuracy when using a threshold of \"+str(thresholds[i])\n",
    "        #print graphlab.evaluation.accuracy(kitchentestgl['label'], kitchentestgl['minority_predictions'])\n",
    "        ##cosine_Accs.append(graphlab.evaluation.accuracy(kitchentestgl['label'], kitchentestgl['minority_predictions']))\n",
    "        ##cosine_Fscores.append(graphlab.evaluation.f1_score(kitchentestgl['label'], kitchentestgl['minority_predictions']))\n",
    "        #cosine_threshold_acc[threshold].append(graphlab.evaluation.accuracy(kitchentestgl['label'], kitchentestgl['minority_predictions']))\n",
    "        #cosine_threshold_fscore[threshold].append(graphlab.evaluation.f1_score(kitchentestgl['label'], kitchentestgl['minority_predictions']))\n",
    "    \n",
    "    print \"Cosine distance results for the Majority classifiers of random dataset \"+str(d)\n",
    "    for i in range(len(thresholds)):\n",
    "        threshold=thresholds[i]\n",
    "        kitchentestgl['majority_predictions'] = kitchentestgl.apply(lambda x: weighted_predict_smalldist(x,normalized_smallestdistances,threshold) )\n",
    "        #print \"majority_predictions' model Fscore when using a threshold of \"+str(thresholds[i])\n",
    "        #print graphlab.evaluation.f1_score(kitchentestgl['label'], kitchentestgl['majority_predictions'])\n",
    "        #print \"majority_predictions' model Accuracy when using a threshold of \"+str(thresholds[i])\n",
    "        #print graphlab.evaluation.accuracy(kitchentestgl['label'], kitchentestgl['majority_predictions'])\n",
    "        ##cosine_Accs.append(graphlab.evaluation.accuracy(kitchentestgl['label'], kitchentestgl['majority_predictions']))\n",
    "        ##cosine_Fscores.append(graphlab.evaluation.f1_score(kitchentestgl['label'], kitchentestgl['majority_predictions']))\n",
    "        #cosine_threshold_acc[threshold].append(graphlab.evaluation.accuracy(kitchentestgl['label'], kitchentestgl['majority_predictions']))\n",
    "        #cosine_threshold_fscore[threshold].append(graphlab.evaluation.f1_score(kitchentestgl['label'], kitchentestgl['majority_predictions']))\n",
    "    \n",
    "    print \"Cosine distance results for the Majority-Minority classifiers of random dataset \"+str(d)\n",
    "    \n",
    "    \n",
    "    for i in range(len(thresholds)):\n",
    "        threshold=thresholds[i]\n",
    "        kitchentestgl['majority_minority_predictions'] = kitchentestgl.apply(lambda x: weighted_predict_smalldist_largedistances(x,normalized_smallestdistances_inverted,normalized_largestdistances_inverted,threshold) )\n",
    "\n",
    "        #print \"majority_minority_predictions' model Fscore when using a threshold of \"+str(thresholds[i])\n",
    "        #print graphlab.evaluation.f1_score(kitchentestgl['label'], kitchentestgl['majority_minority_predictions'])\n",
    "        #print \"majority_minority_predictions' model Accuracy when using a threshold of \"+str(thresholds[i])\n",
    "        #print graphlab.evaluation.accuracy(kitchentestgl['label'], kitchentestgl['majority_minority_predictions'])\n",
    "        print \"max euc acc\"\n",
    "        cosine_Accs.append(graphlab.evaluation.accuracy(kitchentestgl['label'], kitchentestgl['majority_minority_predictions']))\n",
    "        cosine_Fscores.append(graphlab.evaluation.f1_score(kitchentestgl['label'], kitchentestgl['majority_minority_predictions']))\n",
    "        cosine_threshold_acc[threshold].append(graphlab.evaluation.accuracy(kitchentestgl['label'], kitchentestgl['majority_minority_predictions']))\n",
    "        cosine_threshold_fscore[threshold].append(graphlab.evaluation.f1_score(kitchentestgl['label'], kitchentestgl['majority_minority_predictions']))\n",
    "    print max(cosine_Accs)\n",
    "    max_cosine_accs.append(max(cosine_Accs))\n",
    "    max_cosine_fscores.append(max(cosine_Fscores))\n",
    "    print \"data set \"+str(counter)+' was tested!'\n",
    "print \"max cosine acc\"\n",
    "print max_cosine_accs\n",
    "max_cosine_accs_mean = sum(max_cosine_accs) / len(max_cosine_accs)\n",
    "print \"average cosine accuracy for threshold \" + str(thresholds[0])\n",
    "print max_cosine_accs_mean\n",
    "max_cosine_fscores_mean = sum(max_cosine_fscores) / len(max_cosine_fscores)\n",
    "print \"average cosine fscore for threshold \" + str(thresholds[0])\n",
    "print max_cosine_fscores_mean\n",
    "\n",
    "print \"max euc acc\"\n",
    "print max_euc_accs\n",
    "max_euc_accs_mean = sum(max_euc_accs) / len(max_euc_accs)\n",
    "\n",
    "print \"average euclidean accuracy for threshold \" + str(thresholds[0])\n",
    "print max_euc_accs_mean\n",
    "max_euc_fscores_mean = sum(max_euc_fscores) / len(max_euc_fscores)\n",
    "print \"average euclidean fscore for threshold \" + str(thresholds[0])\n",
    "print max_euc_fscores_mean\n",
    "\n",
    "\n"
   ]
  },
  {
   "cell_type": "code",
   "execution_count": null,
   "metadata": {
    "collapsed": true
   },
   "outputs": [],
   "source": []
  },
  {
   "cell_type": "markdown",
   "metadata": {},
   "source": [
    "## Least performing classifiers (th=0.6)"
   ]
  },
  {
   "cell_type": "code",
   "execution_count": 7,
   "metadata": {
    "collapsed": false
   },
   "outputs": [
    {
     "data": {
      "text/html": [
       "<pre>Finished parsing file C:\\Users\\Omar\\kitchentestgl_random.csv</pre>"
      ],
      "text/plain": [
       "Finished parsing file C:\\Users\\Omar\\kitchentestgl_random.csv"
      ]
     },
     "metadata": {},
     "output_type": "display_data"
    },
    {
     "data": {
      "text/html": [
       "<pre>Parsing completed. Parsed 100 lines in 0.087949 secs.</pre>"
      ],
      "text/plain": [
       "Parsing completed. Parsed 100 lines in 0.087949 secs."
      ]
     },
     "metadata": {},
     "output_type": "display_data"
    },
    {
     "name": "stdout",
     "output_type": "stream",
     "text": [
      "------------------------------------------------------\n",
      "Inferred types from first 100 line(s) of file as \n",
      "column_type_hints=[str,long,str,str,str,str,str,long,long,long,long,long,long,long,long,long,long,long,long,long]\n",
      "If parsing fails due to incorrect types, you can correct\n",
      "the inferred type list above and pass it to read_csv in\n",
      "the column_type_hints argument\n",
      "------------------------------------------------------\n"
     ]
    },
    {
     "data": {
      "text/html": [
       "<pre>Finished parsing file C:\\Users\\Omar\\kitchentestgl_random.csv</pre>"
      ],
      "text/plain": [
       "Finished parsing file C:\\Users\\Omar\\kitchentestgl_random.csv"
      ]
     },
     "metadata": {},
     "output_type": "display_data"
    },
    {
     "data": {
      "text/html": [
       "<pre>Parsing completed. Parsed 1000 lines in 0.065851 secs.</pre>"
      ],
      "text/plain": [
       "Parsing completed. Parsed 1000 lines in 0.065851 secs."
      ]
     },
     "metadata": {},
     "output_type": "display_data"
    },
    {
     "name": "stdout",
     "output_type": "stream",
     "text": [
      "results for random dataset 1\n",
      "euclidean distance results for the minority classifiers of random dataset 1\n",
      "euclidean distance results for the Majority classifiers of random dataset 1\n",
      "euclidean distance results for the Majority-Minority classifiers of random dataset 1\n",
      "max euc acc\n",
      "0.765\n",
      "Cosine distance results for the minority classifiers of random dataset 1\n",
      "Cosine distance results for the Majority classifiers of random dataset 1\n",
      "Cosine distance results for the Majority-Minority classifiers of random dataset 1\n",
      "max euc acc\n",
      "0.765\n",
      "data set 1 was tested!\n"
     ]
    },
    {
     "data": {
      "text/html": [
       "<pre>Finished parsing file C:\\Users\\Omar\\kitchentestgl_random_2.csv</pre>"
      ],
      "text/plain": [
       "Finished parsing file C:\\Users\\Omar\\kitchentestgl_random_2.csv"
      ]
     },
     "metadata": {},
     "output_type": "display_data"
    },
    {
     "data": {
      "text/html": [
       "<pre>Parsing completed. Parsed 100 lines in 0.099975 secs.</pre>"
      ],
      "text/plain": [
       "Parsing completed. Parsed 100 lines in 0.099975 secs."
      ]
     },
     "metadata": {},
     "output_type": "display_data"
    },
    {
     "name": "stdout",
     "output_type": "stream",
     "text": [
      "------------------------------------------------------\n",
      "Inferred types from first 100 line(s) of file as \n",
      "column_type_hints=[str,long,str,str,str,str,str,long,long,long,long,long,long,long,long,long,long,long,long,long]\n",
      "If parsing fails due to incorrect types, you can correct\n",
      "the inferred type list above and pass it to read_csv in\n",
      "the column_type_hints argument\n",
      "------------------------------------------------------\n"
     ]
    },
    {
     "data": {
      "text/html": [
       "<pre>Finished parsing file C:\\Users\\Omar\\kitchentestgl_random_2.csv</pre>"
      ],
      "text/plain": [
       "Finished parsing file C:\\Users\\Omar\\kitchentestgl_random_2.csv"
      ]
     },
     "metadata": {},
     "output_type": "display_data"
    },
    {
     "data": {
      "text/html": [
       "<pre>Parsing completed. Parsed 1000 lines in 0.05821 secs.</pre>"
      ],
      "text/plain": [
       "Parsing completed. Parsed 1000 lines in 0.05821 secs."
      ]
     },
     "metadata": {},
     "output_type": "display_data"
    },
    {
     "name": "stdout",
     "output_type": "stream",
     "text": [
      "results for random dataset 2\n",
      "euclidean distance results for the minority classifiers of random dataset 2\n",
      "euclidean distance results for the Majority classifiers of random dataset 2\n",
      "euclidean distance results for the Majority-Minority classifiers of random dataset 2\n",
      "max euc acc\n",
      "0.748\n",
      "Cosine distance results for the minority classifiers of random dataset 2\n",
      "Cosine distance results for the Majority classifiers of random dataset 2\n",
      "Cosine distance results for the Majority-Minority classifiers of random dataset 2\n",
      "max euc acc\n",
      "0.749\n",
      "data set 2 was tested!\n"
     ]
    },
    {
     "data": {
      "text/html": [
       "<pre>Finished parsing file C:\\Users\\Omar\\kitchentestgl_random_3.csv</pre>"
      ],
      "text/plain": [
       "Finished parsing file C:\\Users\\Omar\\kitchentestgl_random_3.csv"
      ]
     },
     "metadata": {},
     "output_type": "display_data"
    },
    {
     "data": {
      "text/html": [
       "<pre>Parsing completed. Parsed 100 lines in 0.10394 secs.</pre>"
      ],
      "text/plain": [
       "Parsing completed. Parsed 100 lines in 0.10394 secs."
      ]
     },
     "metadata": {},
     "output_type": "display_data"
    },
    {
     "name": "stdout",
     "output_type": "stream",
     "text": [
      "------------------------------------------------------\n",
      "Inferred types from first 100 line(s) of file as \n",
      "column_type_hints=[str,long,str,str,str,str,str,long,long,long,long,long,long,long,long,long,long,long,long,long]\n",
      "If parsing fails due to incorrect types, you can correct\n",
      "the inferred type list above and pass it to read_csv in\n",
      "the column_type_hints argument\n",
      "------------------------------------------------------\n"
     ]
    },
    {
     "data": {
      "text/html": [
       "<pre>Finished parsing file C:\\Users\\Omar\\kitchentestgl_random_3.csv</pre>"
      ],
      "text/plain": [
       "Finished parsing file C:\\Users\\Omar\\kitchentestgl_random_3.csv"
      ]
     },
     "metadata": {},
     "output_type": "display_data"
    },
    {
     "data": {
      "text/html": [
       "<pre>Parsing completed. Parsed 1000 lines in 0.056967 secs.</pre>"
      ],
      "text/plain": [
       "Parsing completed. Parsed 1000 lines in 0.056967 secs."
      ]
     },
     "metadata": {},
     "output_type": "display_data"
    },
    {
     "name": "stdout",
     "output_type": "stream",
     "text": [
      "results for random dataset 3\n",
      "euclidean distance results for the minority classifiers of random dataset 3\n",
      "euclidean distance results for the Majority classifiers of random dataset 3\n",
      "euclidean distance results for the Majority-Minority classifiers of random dataset 3\n",
      "max euc acc\n",
      "0.751\n",
      "Cosine distance results for the minority classifiers of random dataset 3\n",
      "Cosine distance results for the Majority classifiers of random dataset 3\n",
      "Cosine distance results for the Majority-Minority classifiers of random dataset 3\n",
      "max euc acc\n",
      "0.752\n",
      "data set 3 was tested!\n"
     ]
    },
    {
     "data": {
      "text/html": [
       "<pre>Finished parsing file C:\\Users\\Omar\\kitchentestgl_random_4.csv</pre>"
      ],
      "text/plain": [
       "Finished parsing file C:\\Users\\Omar\\kitchentestgl_random_4.csv"
      ]
     },
     "metadata": {},
     "output_type": "display_data"
    },
    {
     "data": {
      "text/html": [
       "<pre>Parsing completed. Parsed 100 lines in 0.09206 secs.</pre>"
      ],
      "text/plain": [
       "Parsing completed. Parsed 100 lines in 0.09206 secs."
      ]
     },
     "metadata": {},
     "output_type": "display_data"
    },
    {
     "name": "stdout",
     "output_type": "stream",
     "text": [
      "------------------------------------------------------\n",
      "Inferred types from first 100 line(s) of file as \n",
      "column_type_hints=[str,long,str,str,str,str,str,long,long,long,long,long,long,long,long,long,long,long,long,long]\n",
      "If parsing fails due to incorrect types, you can correct\n",
      "the inferred type list above and pass it to read_csv in\n",
      "the column_type_hints argument\n",
      "------------------------------------------------------\n"
     ]
    },
    {
     "data": {
      "text/html": [
       "<pre>Finished parsing file C:\\Users\\Omar\\kitchentestgl_random_4.csv</pre>"
      ],
      "text/plain": [
       "Finished parsing file C:\\Users\\Omar\\kitchentestgl_random_4.csv"
      ]
     },
     "metadata": {},
     "output_type": "display_data"
    },
    {
     "data": {
      "text/html": [
       "<pre>Parsing completed. Parsed 1000 lines in 0.054154 secs.</pre>"
      ],
      "text/plain": [
       "Parsing completed. Parsed 1000 lines in 0.054154 secs."
      ]
     },
     "metadata": {},
     "output_type": "display_data"
    },
    {
     "name": "stdout",
     "output_type": "stream",
     "text": [
      "results for random dataset 4\n",
      "euclidean distance results for the minority classifiers of random dataset 4\n",
      "euclidean distance results for the Majority classifiers of random dataset 4\n",
      "euclidean distance results for the Majority-Minority classifiers of random dataset 4\n",
      "max euc acc\n",
      "0.752\n",
      "Cosine distance results for the minority classifiers of random dataset 4\n",
      "Cosine distance results for the Majority classifiers of random dataset 4\n",
      "Cosine distance results for the Majority-Minority classifiers of random dataset 4\n",
      "max euc acc\n",
      "0.752\n",
      "data set 4 was tested!\n"
     ]
    },
    {
     "data": {
      "text/html": [
       "<pre>Finished parsing file C:\\Users\\Omar\\kitchentestgl_random_5.csv</pre>"
      ],
      "text/plain": [
       "Finished parsing file C:\\Users\\Omar\\kitchentestgl_random_5.csv"
      ]
     },
     "metadata": {},
     "output_type": "display_data"
    },
    {
     "data": {
      "text/html": [
       "<pre>Parsing completed. Parsed 100 lines in 0.092947 secs.</pre>"
      ],
      "text/plain": [
       "Parsing completed. Parsed 100 lines in 0.092947 secs."
      ]
     },
     "metadata": {},
     "output_type": "display_data"
    },
    {
     "name": "stdout",
     "output_type": "stream",
     "text": [
      "------------------------------------------------------\n",
      "Inferred types from first 100 line(s) of file as \n",
      "column_type_hints=[str,long,str,str,str,str,str,long,long,long,long,long,long,long,long,long,long,long,long,long]\n",
      "If parsing fails due to incorrect types, you can correct\n",
      "the inferred type list above and pass it to read_csv in\n",
      "the column_type_hints argument\n",
      "------------------------------------------------------\n"
     ]
    },
    {
     "data": {
      "text/html": [
       "<pre>Finished parsing file C:\\Users\\Omar\\kitchentestgl_random_5.csv</pre>"
      ],
      "text/plain": [
       "Finished parsing file C:\\Users\\Omar\\kitchentestgl_random_5.csv"
      ]
     },
     "metadata": {},
     "output_type": "display_data"
    },
    {
     "data": {
      "text/html": [
       "<pre>Parsing completed. Parsed 1000 lines in 0.055824 secs.</pre>"
      ],
      "text/plain": [
       "Parsing completed. Parsed 1000 lines in 0.055824 secs."
      ]
     },
     "metadata": {},
     "output_type": "display_data"
    },
    {
     "name": "stdout",
     "output_type": "stream",
     "text": [
      "results for random dataset 5\n",
      "euclidean distance results for the minority classifiers of random dataset 5\n",
      "euclidean distance results for the Majority classifiers of random dataset 5\n",
      "euclidean distance results for the Majority-Minority classifiers of random dataset 5\n",
      "max euc acc\n",
      "0.739\n",
      "Cosine distance results for the minority classifiers of random dataset 5\n",
      "Cosine distance results for the Majority classifiers of random dataset 5\n",
      "Cosine distance results for the Majority-Minority classifiers of random dataset 5\n",
      "max euc acc\n",
      "0.739\n",
      "data set 5 was tested!\n",
      "max cosine acc\n",
      "[0.765, 0.749, 0.752, 0.752, 0.739]\n",
      "average cosine accuracy for threshold 0.6\n",
      "0.7514\n",
      "average cosine fscore for threshold 0.6\n",
      "0.754409942401\n",
      "max euc acc\n",
      "[0.765, 0.748, 0.751, 0.752, 0.739]\n",
      "average euclidean accuracy for threshold 0.6\n",
      "0.751\n",
      "average euclidean fscore for threshold 0.6\n",
      "0.754109944701\n"
     ]
    }
   ],
   "source": [
    "##inverted weights\n",
    "\n",
    "from collections import defaultdict\n",
    "counter=0\n",
    "max_euc_accs=[]\n",
    "max_cosine_accs=[]\n",
    "max_cosine_fscores=[]\n",
    "max_euc_fscores=[]\n",
    "euc_threshold_acc = defaultdict(list)\n",
    "cosine_threshold_acc = defaultdict(list)\n",
    "\n",
    "euc_threshold_fscore = defaultdict(list)\n",
    "cosine_threshold_fscore = defaultdict(list)\n",
    "for d in range(1,6):\n",
    "    i=d\n",
    "    counter+=1\n",
    "    if i==1:\n",
    "        kitchentestgl = graphlab.SFrame('kitchentestgl_random.csv')\n",
    "    else:\n",
    "        kitchentestgl = graphlab.SFrame('kitchentestgl_random_'+str(i)+'.csv')\n",
    "    print \"results for random dataset \"+str(d)\n",
    "    print \"euclidean distance results for the minority classifiers of random dataset \"+str(d)\n",
    "    largestdistances=[215.7683943491261,167.77067681809,99.84487968844472,97.77013859047148,97.01030873056739,96.97422337920526]\n",
    "    lowestdistances=[88.91006692158093,90.62008607367353,91.81503144910424,91.98369420718001,94.66255859631093,94.75230867899737]\n",
    "    Minor_domains = ['book_predictions','dvd_predictions','automotive_predictions','jewelrywatches_predictions','computervideo_predictions','gourmet_predictions']\n",
    "    Major_domains = ['healthpersonal_predictions','baby_predictions','cameraphoto_predictions','apparel_predictions','electronics_predictions','beauty_predictions']\n",
    "    normalized_largestdistances = euclidean_norm_dict(largestdistances)\n",
    "    normalized_smallestdistances = euclidean_norm_dict(lowestdistances)\n",
    "    normalized_largestdistances_inverted = [0] * len(normalized_largestdistances)\n",
    "    normalized_smallestdistances_inverted = [0] * len(normalized_smallestdistances)\n",
    "    for i in range(len(normalized_largestdistances)):\n",
    "        normalized_largestdistances_inverted[i] = 1 - normalized_largestdistances[i]\n",
    "    \n",
    "    for j in range(len(normalized_smallestdistances)):\n",
    "        normalized_smallestdistances_inverted[j] = 1 - normalized_smallestdistances[j]\n",
    "    thresholds = [0.6]\n",
    "    euc_Fscores = []\n",
    "    euc_Accs = []\n",
    "    for i in range(len(thresholds)):\n",
    "        threshold=thresholds[i]\n",
    "        \n",
    "        kitchentestgl['minority_predictions'] = kitchentestgl.apply(lambda x: weighted_predict_largedist(x,normalized_largestdistances_inverted,threshold) )\n",
    "        #print \"minority_predictions' model Fscore when using a threshold of \"+str(thresholds[i])\n",
    "        #print graphlab.evaluation.f1_score(kitchentestgl['label'], kitchentestgl['minority_predictions'])\n",
    "        #print \"minority_predictions' model Accuracy when using a threshold of \"+str(thresholds[i])\n",
    "        #print graphlab.evaluation.accuracy(kitchentestgl['label'], kitchentestgl['minority_predictions'])\n",
    "        euc_Fscores.append(graphlab.evaluation.f1_score(kitchentestgl['label'], kitchentestgl['minority_predictions']))\n",
    "        euc_Accs.append(graphlab.evaluation.accuracy(kitchentestgl['label'], kitchentestgl['minority_predictions']))\n",
    "        #euc_threshold_acc[threshold].append(graphlab.evaluation.accuracy(kitchentestgl['label'], kitchentestgl['minority_predictions']))\n",
    "        #euc_threshold_fscore[threshold].append(graphlab.evaluation.f1_score(kitchentestgl['label'], kitchentestgl['minority_predictions']))\n",
    "    print \"euclidean distance results for the Majority classifiers of random dataset \"+str(d)\n",
    "\n",
    "    euc_major_Fscores=[]\n",
    "    euc_major_Accs = []\n",
    "    for i in range(len(thresholds)):\n",
    "        threshold=thresholds[i]\n",
    "        kitchentestgl['majority_predictions'] = kitchentestgl.apply(lambda x: weighted_predict_smalldist(x,normalized_smallestdistances,threshold) )\n",
    "        #print \"majority_predictions' model Fscore when using a threshold of \"+str(thresholds[i])\n",
    "        #print graphlab.evaluation.f1_score(kitchentestgl['label'], kitchentestgl['majority_predictions'])\n",
    "        #print \"majority_predictions' model Accuracy when using a threshold of \"+str(thresholds[i])\n",
    "        #print graphlab.evaluation.accuracy(kitchentestgl['label'], kitchentestgl['majority_predictions'])\n",
    "        ##euc_Fscores.append(graphlab.evaluation.f1_score(kitchentestgl['label'], kitchentestgl['majority_predictions']))\n",
    "        ##euc_Accs.append(graphlab.evaluation.accuracy(kitchentestgl['label'], kitchentestgl['majority_predictions']))\n",
    "        euc_threshold_acc[threshold].append(graphlab.evaluation.accuracy(kitchentestgl['label'], kitchentestgl['majority_predictions']))\n",
    "        euc_threshold_fscore[threshold].append(graphlab.evaluation.f1_score(kitchentestgl['label'], kitchentestgl['majority_predictions']))\n",
    "    print \"euclidean distance results for the Majority-Minority classifiers of random dataset \"+str(d)\n",
    "\n",
    "    #threshold using all models\n",
    "    for i in range(len(thresholds)):\n",
    "        threshold=thresholds[i]\n",
    "        kitchentestgl['majority_minority_predictions'] = kitchentestgl.apply(lambda x: weighted_predict_smalldist_largedistances(x,normalized_smallestdistances,normalized_largestdistances,threshold) )\n",
    "\n",
    "        #print \"majority_minority_predictions' model Fscore when using a threshold of \"+str(thresholds[i])\n",
    "        #print graphlab.evaluation.f1_score(kitchentestgl['label'], kitchentestgl['majority_minority_predictions'])\n",
    "        #print \"majority_minority_predictions' model Accuracy when using a threshold of \"+str(thresholds[i])\n",
    "        #print graphlab.evaluation.accuracy(kitchentestgl['label'], kitchentestgl['majority_minority_predictions'])\n",
    "        ##euc_Fscores.append(graphlab.evaluation.f1_score(kitchentestgl['label'], kitchentestgl['majority_minority_predictions']))\n",
    "        ##euc_Accs.append(graphlab.evaluation.accuracy(kitchentestgl['label'], kitchentestgl['majority_minority_predictions']))\n",
    "        euc_threshold_acc[threshold].append(graphlab.evaluation.accuracy(kitchentestgl['label'], kitchentestgl['majority_minority_predictions']))\n",
    "        euc_threshold_fscore[threshold].append(graphlab.evaluation.f1_score(kitchentestgl['label'], kitchentestgl['majority_minority_predictions']))\n",
    "    print \"max euc acc\"\n",
    "    print max(euc_Accs)\n",
    "    max_euc_accs.append(max(euc_Accs))\n",
    "    max_euc_fscores.append(max(euc_Fscores))\n",
    "    largestdistances=[0.5633181597498838,0.5546099411237762,0.5240471587804418,0.5039841842356722,0.49261932743957626,0.487554486027983]\n",
    "    lowestdistances=[ 0.36080598790800533,0.3686636285328633,0.4070498131725162,0.40863691553859804,0.4114316511076972,0.4613234524061305]\n",
    "    Minor_domains = ['automotive_predictions','book_predictions','jewelrywatches_predictions','gourmet_predictions','dvd_predictions','grocery_predictions']\n",
    "\n",
    "    Major_domains = ['electronics_predictions','healthpersonal_predictions','cameraphoto_predictions','apparel_predictions','baby_predictions','beauty_predictions']\n",
    "    normalized_largestdistances = euclidean_norm_dict(largestdistances)\n",
    "    normalized_smallestdistances = euclidean_norm_dict(lowestdistances)\n",
    "    normalized_largestdistances_inverted = [0] * len(normalized_largestdistances)\n",
    "    normalized_smallestdistances_inverted = [0] * len(normalized_smallestdistances)\n",
    "    for i in range(len(normalized_largestdistances)):\n",
    "        normalized_largestdistances_inverted[i] = 1 - normalized_largestdistances[i]\n",
    "    \n",
    "    for j in range(len(normalized_smallestdistances)):\n",
    "        normalized_smallestdistances_inverted[j] = 1 - normalized_smallestdistances[j]\n",
    "    print \"Cosine distance results for the minority classifiers of random dataset \"+str(d)\n",
    "    cosine_Accs=[]\n",
    "    cosine_Fscores=[]\n",
    "    for i in range(len(thresholds)):\n",
    "        threshold=thresholds[i]\n",
    "        kitchentestgl['minority_predictions'] = kitchentestgl.apply(lambda x: weighted_predict_largedist(x,normalized_largestdistances_inverted,threshold) )\n",
    "        #print \"minority_predictions' model Fscore when using a threshold of \"+str(thresholds[i])\n",
    "        #print graphlab.evaluation.f1_score(kitchentestgl['label'], kitchentestgl['minority_predictions'])\n",
    "        #print \"minority_predictions' model Accuracy when using a threshold of \"+str(thresholds[i])\n",
    "        #print graphlab.evaluation.accuracy(kitchentestgl['label'], kitchentestgl['minority_predictions'])\n",
    "        cosine_Accs.append(graphlab.evaluation.accuracy(kitchentestgl['label'], kitchentestgl['minority_predictions']))\n",
    "        cosine_Fscores.append(graphlab.evaluation.f1_score(kitchentestgl['label'], kitchentestgl['minority_predictions']))\n",
    "        #cosine_threshold_acc[threshold].append(graphlab.evaluation.accuracy(kitchentestgl['label'], kitchentestgl['minority_predictions']))\n",
    "        #cosine_threshold_fscore[threshold].append(graphlab.evaluation.f1_score(kitchentestgl['label'], kitchentestgl['minority_predictions']))\n",
    "    \n",
    "    print \"Cosine distance results for the Majority classifiers of random dataset \"+str(d)\n",
    "    for i in range(len(thresholds)):\n",
    "        threshold=thresholds[i]\n",
    "        kitchentestgl['majority_predictions'] = kitchentestgl.apply(lambda x: weighted_predict_smalldist(x,normalized_smallestdistances,threshold) )\n",
    "        #print \"majority_predictions' model Fscore when using a threshold of \"+str(thresholds[i])\n",
    "        #print graphlab.evaluation.f1_score(kitchentestgl['label'], kitchentestgl['majority_predictions'])\n",
    "        #print \"majority_predictions' model Accuracy when using a threshold of \"+str(thresholds[i])\n",
    "        #print graphlab.evaluation.accuracy(kitchentestgl['label'], kitchentestgl['majority_predictions'])\n",
    "        ##cosine_Accs.append(graphlab.evaluation.accuracy(kitchentestgl['label'], kitchentestgl['majority_predictions']))\n",
    "        ##cosine_Fscores.append(graphlab.evaluation.f1_score(kitchentestgl['label'], kitchentestgl['majority_predictions']))\n",
    "        #cosine_threshold_acc[threshold].append(graphlab.evaluation.accuracy(kitchentestgl['label'], kitchentestgl['majority_predictions']))\n",
    "        #cosine_threshold_fscore[threshold].append(graphlab.evaluation.f1_score(kitchentestgl['label'], kitchentestgl['majority_predictions']))\n",
    "    \n",
    "    print \"Cosine distance results for the Majority-Minority classifiers of random dataset \"+str(d)\n",
    "    \n",
    "    \n",
    "    for i in range(len(thresholds)):\n",
    "        threshold=thresholds[i]\n",
    "        kitchentestgl['majority_minority_predictions'] = kitchentestgl.apply(lambda x: weighted_predict_smalldist_largedistances(x,normalized_smallestdistances,normalized_largestdistances,threshold) )\n",
    "\n",
    "        #print \"majority_minority_predictions' model Fscore when using a threshold of \"+str(thresholds[i])\n",
    "        #print graphlab.evaluation.f1_score(kitchentestgl['label'], kitchentestgl['majority_minority_predictions'])\n",
    "        #print \"majority_minority_predictions' model Accuracy when using a threshold of \"+str(thresholds[i])\n",
    "        #print graphlab.evaluation.accuracy(kitchentestgl['label'], kitchentestgl['majority_minority_predictions'])\n",
    "        print \"max euc acc\"\n",
    "        ##cosine_Accs.append(graphlab.evaluation.accuracy(kitchentestgl['label'], kitchentestgl['majority_minority_predictions']))\n",
    "        ##cosine_Fscores.append(graphlab.evaluation.f1_score(kitchentestgl['label'], kitchentestgl['majority_minority_predictions']))\n",
    "        cosine_threshold_acc[threshold].append(graphlab.evaluation.accuracy(kitchentestgl['label'], kitchentestgl['majority_minority_predictions']))\n",
    "        cosine_threshold_fscore[threshold].append(graphlab.evaluation.f1_score(kitchentestgl['label'], kitchentestgl['majority_minority_predictions']))\n",
    "    print max(cosine_Accs)\n",
    "    max_cosine_accs.append(max(cosine_Accs))\n",
    "    max_cosine_fscores.append(max(cosine_Fscores))\n",
    "    print \"data set \"+str(counter)+' was tested!'\n",
    "print \"max cosine acc\"\n",
    "print max_cosine_accs\n",
    "max_cosine_accs_mean = sum(max_cosine_accs) / len(max_cosine_accs)\n",
    "print \"average cosine accuracy for threshold \" + str(thresholds[0])\n",
    "print max_cosine_accs_mean\n",
    "max_cosine_fscores_mean = sum(max_cosine_fscores) / len(max_cosine_fscores)\n",
    "print \"average cosine fscore for threshold \" + str(thresholds[0])\n",
    "print max_cosine_fscores_mean\n",
    "\n",
    "print \"max euc acc\"\n",
    "print max_euc_accs\n",
    "max_euc_accs_mean = sum(max_euc_accs) / len(max_euc_accs)\n",
    "\n",
    "print \"average euclidean accuracy for threshold \" + str(thresholds[0])\n",
    "print max_euc_accs_mean\n",
    "max_euc_fscores_mean = sum(max_euc_fscores) / len(max_euc_fscores)\n",
    "print \"average euclidean fscore for threshold \" + str(thresholds[0])\n",
    "print max_euc_fscores_mean\n",
    "\n",
    "\n",
    "\n",
    "\n",
    "\n"
   ]
  },
  {
   "cell_type": "markdown",
   "metadata": {},
   "source": [
    "## Top performing classifiers (th=0.6)"
   ]
  },
  {
   "cell_type": "code",
   "execution_count": 8,
   "metadata": {
    "collapsed": false
   },
   "outputs": [
    {
     "data": {
      "text/html": [
       "<pre>Finished parsing file C:\\Users\\Omar\\kitchentestgl_random.csv</pre>"
      ],
      "text/plain": [
       "Finished parsing file C:\\Users\\Omar\\kitchentestgl_random.csv"
      ]
     },
     "metadata": {},
     "output_type": "display_data"
    },
    {
     "data": {
      "text/html": [
       "<pre>Parsing completed. Parsed 100 lines in 0.088216 secs.</pre>"
      ],
      "text/plain": [
       "Parsing completed. Parsed 100 lines in 0.088216 secs."
      ]
     },
     "metadata": {},
     "output_type": "display_data"
    },
    {
     "name": "stdout",
     "output_type": "stream",
     "text": [
      "------------------------------------------------------\n",
      "Inferred types from first 100 line(s) of file as \n",
      "column_type_hints=[str,long,str,str,str,str,str,long,long,long,long,long,long,long,long,long,long,long,long,long]\n",
      "If parsing fails due to incorrect types, you can correct\n",
      "the inferred type list above and pass it to read_csv in\n",
      "the column_type_hints argument\n",
      "------------------------------------------------------\n"
     ]
    },
    {
     "data": {
      "text/html": [
       "<pre>Finished parsing file C:\\Users\\Omar\\kitchentestgl_random.csv</pre>"
      ],
      "text/plain": [
       "Finished parsing file C:\\Users\\Omar\\kitchentestgl_random.csv"
      ]
     },
     "metadata": {},
     "output_type": "display_data"
    },
    {
     "data": {
      "text/html": [
       "<pre>Parsing completed. Parsed 1000 lines in 0.051969 secs.</pre>"
      ],
      "text/plain": [
       "Parsing completed. Parsed 1000 lines in 0.051969 secs."
      ]
     },
     "metadata": {},
     "output_type": "display_data"
    },
    {
     "name": "stdout",
     "output_type": "stream",
     "text": [
      "results for random dataset 1\n",
      "euclidean distance results for the minority classifiers of random dataset 1\n",
      "euclidean distance results for the Majority classifiers of random dataset 1\n",
      "euclidean distance results for the Majority-Minority classifiers of random dataset 1\n",
      "max euc acc\n",
      "0.866\n",
      "Cosine distance results for the minority classifiers of random dataset 1\n",
      "Cosine distance results for the Majority classifiers of random dataset 1\n",
      "Cosine distance results for the Majority-Minority classifiers of random dataset 1\n",
      "max euc acc\n",
      "0.866\n",
      "data set 1 was tested!\n"
     ]
    },
    {
     "data": {
      "text/html": [
       "<pre>Finished parsing file C:\\Users\\Omar\\kitchentestgl_random_2.csv</pre>"
      ],
      "text/plain": [
       "Finished parsing file C:\\Users\\Omar\\kitchentestgl_random_2.csv"
      ]
     },
     "metadata": {},
     "output_type": "display_data"
    },
    {
     "data": {
      "text/html": [
       "<pre>Parsing completed. Parsed 100 lines in 0.099601 secs.</pre>"
      ],
      "text/plain": [
       "Parsing completed. Parsed 100 lines in 0.099601 secs."
      ]
     },
     "metadata": {},
     "output_type": "display_data"
    },
    {
     "name": "stdout",
     "output_type": "stream",
     "text": [
      "------------------------------------------------------\n",
      "Inferred types from first 100 line(s) of file as \n",
      "column_type_hints=[str,long,str,str,str,str,str,long,long,long,long,long,long,long,long,long,long,long,long,long]\n",
      "If parsing fails due to incorrect types, you can correct\n",
      "the inferred type list above and pass it to read_csv in\n",
      "the column_type_hints argument\n",
      "------------------------------------------------------\n"
     ]
    },
    {
     "data": {
      "text/html": [
       "<pre>Finished parsing file C:\\Users\\Omar\\kitchentestgl_random_2.csv</pre>"
      ],
      "text/plain": [
       "Finished parsing file C:\\Users\\Omar\\kitchentestgl_random_2.csv"
      ]
     },
     "metadata": {},
     "output_type": "display_data"
    },
    {
     "data": {
      "text/html": [
       "<pre>Parsing completed. Parsed 1000 lines in 0.059286 secs.</pre>"
      ],
      "text/plain": [
       "Parsing completed. Parsed 1000 lines in 0.059286 secs."
      ]
     },
     "metadata": {},
     "output_type": "display_data"
    },
    {
     "name": "stdout",
     "output_type": "stream",
     "text": [
      "results for random dataset 2\n",
      "euclidean distance results for the minority classifiers of random dataset 2\n",
      "euclidean distance results for the Majority classifiers of random dataset 2\n",
      "euclidean distance results for the Majority-Minority classifiers of random dataset 2\n",
      "max euc acc\n",
      "0.889\n",
      "Cosine distance results for the minority classifiers of random dataset 2\n",
      "Cosine distance results for the Majority classifiers of random dataset 2\n",
      "Cosine distance results for the Majority-Minority classifiers of random dataset 2\n",
      "max euc acc\n",
      "0.889\n",
      "data set 2 was tested!\n"
     ]
    },
    {
     "data": {
      "text/html": [
       "<pre>Finished parsing file C:\\Users\\Omar\\kitchentestgl_random_3.csv</pre>"
      ],
      "text/plain": [
       "Finished parsing file C:\\Users\\Omar\\kitchentestgl_random_3.csv"
      ]
     },
     "metadata": {},
     "output_type": "display_data"
    },
    {
     "data": {
      "text/html": [
       "<pre>Parsing completed. Parsed 100 lines in 0.098162 secs.</pre>"
      ],
      "text/plain": [
       "Parsing completed. Parsed 100 lines in 0.098162 secs."
      ]
     },
     "metadata": {},
     "output_type": "display_data"
    },
    {
     "name": "stdout",
     "output_type": "stream",
     "text": [
      "------------------------------------------------------\n",
      "Inferred types from first 100 line(s) of file as \n",
      "column_type_hints=[str,long,str,str,str,str,str,long,long,long,long,long,long,long,long,long,long,long,long,long]\n",
      "If parsing fails due to incorrect types, you can correct\n",
      "the inferred type list above and pass it to read_csv in\n",
      "the column_type_hints argument\n",
      "------------------------------------------------------\n"
     ]
    },
    {
     "data": {
      "text/html": [
       "<pre>Finished parsing file C:\\Users\\Omar\\kitchentestgl_random_3.csv</pre>"
      ],
      "text/plain": [
       "Finished parsing file C:\\Users\\Omar\\kitchentestgl_random_3.csv"
      ]
     },
     "metadata": {},
     "output_type": "display_data"
    },
    {
     "data": {
      "text/html": [
       "<pre>Parsing completed. Parsed 1000 lines in 0.056285 secs.</pre>"
      ],
      "text/plain": [
       "Parsing completed. Parsed 1000 lines in 0.056285 secs."
      ]
     },
     "metadata": {},
     "output_type": "display_data"
    },
    {
     "name": "stdout",
     "output_type": "stream",
     "text": [
      "results for random dataset 3\n",
      "euclidean distance results for the minority classifiers of random dataset 3\n",
      "euclidean distance results for the Majority classifiers of random dataset 3\n",
      "euclidean distance results for the Majority-Minority classifiers of random dataset 3\n",
      "max euc acc\n",
      "0.872\n",
      "Cosine distance results for the minority classifiers of random dataset 3\n",
      "Cosine distance results for the Majority classifiers of random dataset 3\n",
      "Cosine distance results for the Majority-Minority classifiers of random dataset 3\n",
      "max euc acc\n",
      "0.872\n",
      "data set 3 was tested!\n"
     ]
    },
    {
     "data": {
      "text/html": [
       "<pre>Finished parsing file C:\\Users\\Omar\\kitchentestgl_random_4.csv</pre>"
      ],
      "text/plain": [
       "Finished parsing file C:\\Users\\Omar\\kitchentestgl_random_4.csv"
      ]
     },
     "metadata": {},
     "output_type": "display_data"
    },
    {
     "data": {
      "text/html": [
       "<pre>Parsing completed. Parsed 100 lines in 0.091948 secs.</pre>"
      ],
      "text/plain": [
       "Parsing completed. Parsed 100 lines in 0.091948 secs."
      ]
     },
     "metadata": {},
     "output_type": "display_data"
    },
    {
     "name": "stdout",
     "output_type": "stream",
     "text": [
      "------------------------------------------------------\n",
      "Inferred types from first 100 line(s) of file as \n",
      "column_type_hints=[str,long,str,str,str,str,str,long,long,long,long,long,long,long,long,long,long,long,long,long]\n",
      "If parsing fails due to incorrect types, you can correct\n",
      "the inferred type list above and pass it to read_csv in\n",
      "the column_type_hints argument\n",
      "------------------------------------------------------\n"
     ]
    },
    {
     "data": {
      "text/html": [
       "<pre>Finished parsing file C:\\Users\\Omar\\kitchentestgl_random_4.csv</pre>"
      ],
      "text/plain": [
       "Finished parsing file C:\\Users\\Omar\\kitchentestgl_random_4.csv"
      ]
     },
     "metadata": {},
     "output_type": "display_data"
    },
    {
     "data": {
      "text/html": [
       "<pre>Parsing completed. Parsed 1000 lines in 0.054968 secs.</pre>"
      ],
      "text/plain": [
       "Parsing completed. Parsed 1000 lines in 0.054968 secs."
      ]
     },
     "metadata": {},
     "output_type": "display_data"
    },
    {
     "name": "stdout",
     "output_type": "stream",
     "text": [
      "results for random dataset 4\n",
      "euclidean distance results for the minority classifiers of random dataset 4\n",
      "euclidean distance results for the Majority classifiers of random dataset 4\n",
      "euclidean distance results for the Majority-Minority classifiers of random dataset 4\n",
      "max euc acc\n",
      "0.88\n",
      "Cosine distance results for the minority classifiers of random dataset 4\n",
      "Cosine distance results for the Majority classifiers of random dataset 4\n",
      "Cosine distance results for the Majority-Minority classifiers of random dataset 4\n",
      "max euc acc\n",
      "0.88\n",
      "data set 4 was tested!\n"
     ]
    },
    {
     "data": {
      "text/html": [
       "<pre>Finished parsing file C:\\Users\\Omar\\kitchentestgl_random_5.csv</pre>"
      ],
      "text/plain": [
       "Finished parsing file C:\\Users\\Omar\\kitchentestgl_random_5.csv"
      ]
     },
     "metadata": {},
     "output_type": "display_data"
    },
    {
     "data": {
      "text/html": [
       "<pre>Parsing completed. Parsed 100 lines in 0.099943 secs.</pre>"
      ],
      "text/plain": [
       "Parsing completed. Parsed 100 lines in 0.099943 secs."
      ]
     },
     "metadata": {},
     "output_type": "display_data"
    },
    {
     "name": "stdout",
     "output_type": "stream",
     "text": [
      "------------------------------------------------------\n",
      "Inferred types from first 100 line(s) of file as \n",
      "column_type_hints=[str,long,str,str,str,str,str,long,long,long,long,long,long,long,long,long,long,long,long,long]\n",
      "If parsing fails due to incorrect types, you can correct\n",
      "the inferred type list above and pass it to read_csv in\n",
      "the column_type_hints argument\n",
      "------------------------------------------------------\n"
     ]
    },
    {
     "data": {
      "text/html": [
       "<pre>Finished parsing file C:\\Users\\Omar\\kitchentestgl_random_5.csv</pre>"
      ],
      "text/plain": [
       "Finished parsing file C:\\Users\\Omar\\kitchentestgl_random_5.csv"
      ]
     },
     "metadata": {},
     "output_type": "display_data"
    },
    {
     "data": {
      "text/html": [
       "<pre>Parsing completed. Parsed 1000 lines in 0.05208 secs.</pre>"
      ],
      "text/plain": [
       "Parsing completed. Parsed 1000 lines in 0.05208 secs."
      ]
     },
     "metadata": {},
     "output_type": "display_data"
    },
    {
     "name": "stdout",
     "output_type": "stream",
     "text": [
      "results for random dataset 5\n",
      "euclidean distance results for the minority classifiers of random dataset 5\n",
      "euclidean distance results for the Majority classifiers of random dataset 5\n",
      "euclidean distance results for the Majority-Minority classifiers of random dataset 5\n",
      "max euc acc\n",
      "0.874\n",
      "Cosine distance results for the minority classifiers of random dataset 5\n",
      "Cosine distance results for the Majority classifiers of random dataset 5\n",
      "Cosine distance results for the Majority-Minority classifiers of random dataset 5\n",
      "max euc acc\n",
      "0.874\n",
      "data set 5 was tested!\n",
      "max cosine acc\n",
      "[0.866, 0.889, 0.872, 0.88, 0.874]\n",
      "average cosine accuracy for threshold 0.6\n",
      "0.8762\n",
      "average cosine fscore for threshold 0.6\n",
      "0.877540784117\n",
      "max euc acc\n",
      "[0.866, 0.889, 0.872, 0.88, 0.874]\n",
      "average euclidean accuracy for threshold 0.6\n",
      "0.8762\n",
      "average euclidean fscore for threshold 0.6\n",
      "0.877540784117\n"
     ]
    }
   ],
   "source": [
    "from collections import defaultdict\n",
    "counter=0\n",
    "max_euc_accs=[]\n",
    "max_cosine_accs=[]\n",
    "max_euc_fscores=[]\n",
    "max_cosine_fscores=[]\n",
    "euc_threshold_acc = defaultdict(list)\n",
    "cosine_threshold_acc = defaultdict(list)\n",
    "\n",
    "euc_threshold_fscore = defaultdict(list)\n",
    "cosine_threshold_fscore = defaultdict(list)\n",
    "for d in range(1,6):\n",
    "    i=d\n",
    "    counter+=1\n",
    "    if i==1:\n",
    "        kitchentestgl = graphlab.SFrame('kitchentestgl_random.csv')\n",
    "    else:\n",
    "        kitchentestgl = graphlab.SFrame('kitchentestgl_random_'+str(i)+'.csv')\n",
    "    print \"results for random dataset \"+str(d)\n",
    "    print \"euclidean distance results for the minority classifiers of random dataset \"+str(d)\n",
    "    largestdistances=[215.7683943491261,167.77067681809,99.84487968844472,97.77013859047148,97.01030873056739,96.97422337920526]\n",
    "    lowestdistances=[88.91006692158093,90.62008607367353,91.81503144910424,91.98369420718001,94.66255859631093,94.75230867899737]\n",
    "    Minor_domains = ['book_predictions','dvd_predictions','automotive_predictions','jewelrywatches_predictions','computervideo_predictions','gourmet_predictions']\n",
    "    Major_domains = ['healthpersonal_predictions','baby_predictions','cameraphoto_predictions','apparel_predictions','electronics_predictions','beauty_predictions']\n",
    "    normalized_largestdistances = euclidean_norm_dict(largestdistances)\n",
    "    normalized_smallestdistances = euclidean_norm_dict(lowestdistances)\n",
    "    normalized_largestdistances_inverted = [0] * len(normalized_largestdistances)\n",
    "    normalized_smallestdistances_inverted = [0] * len(normalized_smallestdistances)\n",
    "    for i in range(len(normalized_largestdistances)):\n",
    "        normalized_largestdistances_inverted[i] = 1 - normalized_largestdistances[i]\n",
    "    \n",
    "    for j in range(len(normalized_smallestdistances)):\n",
    "        normalized_smallestdistances_inverted[j] = 1 - normalized_smallestdistances[j]\n",
    "    thresholds = [0.6]\n",
    "    euc_Fscores = []\n",
    "    euc_Accs = []\n",
    "    for i in range(len(thresholds)):\n",
    "        threshold=thresholds[i]\n",
    "        \n",
    "        kitchentestgl['minority_predictions'] = kitchentestgl.apply(lambda x: weighted_predict_largedist(x,normalized_largestdistances,threshold) )\n",
    "        #print \"minority_predictions' model Fscore when using a threshold of \"+str(thresholds[i])\n",
    "        #print graphlab.evaluation.f1_score(kitchentestgl['label'], kitchentestgl['minority_predictions'])\n",
    "        #print \"minority_predictions' model Accuracy when using a threshold of \"+str(thresholds[i])\n",
    "        #print graphlab.evaluation.accuracy(kitchentestgl['label'], kitchentestgl['minority_predictions'])\n",
    "        ##euc_Fscores.append(graphlab.evaluation.f1_score(kitchentestgl['label'], kitchentestgl['minority_predictions']))\n",
    "        ##euc_Accs.append(graphlab.evaluation.accuracy(kitchentestgl['label'], kitchentestgl['minority_predictions']))\n",
    "        #euc_threshold_acc[threshold].append(graphlab.evaluation.accuracy(kitchentestgl['label'], kitchentestgl['minority_predictions']))\n",
    "        #euc_threshold_fscore[threshold].append(graphlab.evaluation.f1_score(kitchentestgl['label'], kitchentestgl['minority_predictions']))\n",
    "    print \"euclidean distance results for the Majority classifiers of random dataset \"+str(d)\n",
    "\n",
    "    euc_major_Fscores=[]\n",
    "    euc_major_Accs = []\n",
    "    for i in range(len(thresholds)):\n",
    "        threshold=thresholds[i]\n",
    "        kitchentestgl['majority_predictions'] = kitchentestgl.apply(lambda x: weighted_predict_smalldist(x,normalized_smallestdistances_inverted,threshold) )\n",
    "        #print \"majority_predictions' model Fscore when using a threshold of \"+str(thresholds[i])\n",
    "        #print graphlab.evaluation.f1_score(kitchentestgl['label'], kitchentestgl['majority_predictions'])\n",
    "        #print \"majority_predictions' model Accuracy when using a threshold of \"+str(thresholds[i])\n",
    "        #print graphlab.evaluation.accuracy(kitchentestgl['label'], kitchentestgl['majority_predictions'])\n",
    "        euc_Fscores.append(graphlab.evaluation.f1_score(kitchentestgl['label'], kitchentestgl['majority_predictions']))\n",
    "        euc_Accs.append(graphlab.evaluation.accuracy(kitchentestgl['label'], kitchentestgl['majority_predictions']))\n",
    "        euc_threshold_acc[threshold].append(graphlab.evaluation.accuracy(kitchentestgl['label'], kitchentestgl['majority_predictions']))\n",
    "        euc_threshold_fscore[threshold].append(graphlab.evaluation.f1_score(kitchentestgl['label'], kitchentestgl['majority_predictions']))\n",
    "    print \"euclidean distance results for the Majority-Minority classifiers of random dataset \"+str(d)\n",
    "\n",
    "    #threshold using all models\n",
    "    for i in range(len(thresholds)):\n",
    "        threshold=thresholds[i]\n",
    "        kitchentestgl['majority_minority_predictions'] = kitchentestgl.apply(lambda x: weighted_predict_smalldist_largedistances(x,normalized_smallestdistances,normalized_largestdistances,threshold) )\n",
    "\n",
    "        #print \"majority_minority_predictions' model Fscore when using a threshold of \"+str(thresholds[i])\n",
    "        #print graphlab.evaluation.f1_score(kitchentestgl['label'], kitchentestgl['majority_minority_predictions'])\n",
    "        #print \"majority_minority_predictions' model Accuracy when using a threshold of \"+str(thresholds[i])\n",
    "        #print graphlab.evaluation.accuracy(kitchentestgl['label'], kitchentestgl['majority_minority_predictions'])\n",
    "        ##euc_Fscores.append(graphlab.evaluation.f1_score(kitchentestgl['label'], kitchentestgl['majority_minority_predictions']))\n",
    "        ##euc_Accs.append(graphlab.evaluation.accuracy(kitchentestgl['label'], kitchentestgl['majority_minority_predictions']))\n",
    "        euc_threshold_acc[threshold].append(graphlab.evaluation.accuracy(kitchentestgl['label'], kitchentestgl['majority_minority_predictions']))\n",
    "        euc_threshold_fscore[threshold].append(graphlab.evaluation.f1_score(kitchentestgl['label'], kitchentestgl['majority_minority_predictions']))\n",
    "    print \"max euc acc\"\n",
    "    print max(euc_Accs)\n",
    "    max_euc_accs.append(max(euc_Accs))\n",
    "    max_euc_fscores.append(max(euc_Fscores))\n",
    "    largestdistances=[0.5633181597498838,0.5546099411237762,0.5240471587804418,0.5039841842356722,0.49261932743957626,0.487554486027983]\n",
    "    lowestdistances=[ 0.36080598790800533,0.3686636285328633,0.4070498131725162,0.40863691553859804,0.4114316511076972,0.4613234524061305]\n",
    "    Minor_domains = ['automotive_predictions','book_predictions','jewelrywatches_predictions','gourmet_predictions','dvd_predictions','grocery_predictions']\n",
    "\n",
    "    Major_domains = ['electronics_predictions','healthpersonal_predictions','cameraphoto_predictions','apparel_predictions','baby_predictions','beauty_predictions']\n",
    "    normalized_largestdistances = euclidean_norm_dict(largestdistances)\n",
    "    normalized_smallestdistances = euclidean_norm_dict(lowestdistances)\n",
    "    normalized_largestdistances_inverted = [0] * len(normalized_largestdistances)\n",
    "    normalized_smallestdistances_inverted = [0] * len(normalized_smallestdistances)\n",
    "    for i in range(len(normalized_largestdistances)):\n",
    "        normalized_largestdistances_inverted[i] = 1 - normalized_largestdistances[i]\n",
    "    \n",
    "    for j in range(len(normalized_smallestdistances)):\n",
    "        normalized_smallestdistances_inverted[j] = 1 - normalized_smallestdistances[j]\n",
    "    print \"Cosine distance results for the minority classifiers of random dataset \"+str(d)\n",
    "    cosine_Accs=[]\n",
    "    cosine_Fscores=[]\n",
    "    for i in range(len(thresholds)):\n",
    "        threshold=thresholds[i]\n",
    "        kitchentestgl['minority_predictions'] = kitchentestgl.apply(lambda x: weighted_predict_largedist(x,normalized_largestdistances,threshold) )\n",
    "        #print \"minority_predictions' model Fscore when using a threshold of \"+str(thresholds[i])\n",
    "        #print graphlab.evaluation.f1_score(kitchentestgl['label'], kitchentestgl['minority_predictions'])\n",
    "        #print \"minority_predictions' model Accuracy when using a threshold of \"+str(thresholds[i])\n",
    "        #print graphlab.evaluation.accuracy(kitchentestgl['label'], kitchentestgl['minority_predictions'])\n",
    "        ##cosine_Accs.append(graphlab.evaluation.accuracy(kitchentestgl['label'], kitchentestgl['minority_predictions']))\n",
    "        ##cosine_Fscores.append(graphlab.evaluation.f1_score(kitchentestgl['label'], kitchentestgl['minority_predictions']))\n",
    "        #cosine_threshold_acc[threshold].append(graphlab.evaluation.accuracy(kitchentestgl['label'], kitchentestgl['minority_predictions']))\n",
    "        #cosine_threshold_fscore[threshold].append(graphlab.evaluation.f1_score(kitchentestgl['label'], kitchentestgl['minority_predictions']))\n",
    "    \n",
    "    print \"Cosine distance results for the Majority classifiers of random dataset \"+str(d)\n",
    "    for i in range(len(thresholds)):\n",
    "        threshold=thresholds[i]\n",
    "        kitchentestgl['majority_predictions'] = kitchentestgl.apply(lambda x: weighted_predict_smalldist(x,normalized_smallestdistances_inverted,threshold) )\n",
    "        #print \"majority_predictions' model Fscore when using a threshold of \"+str(thresholds[i])\n",
    "        #print graphlab.evaluation.f1_score(kitchentestgl['label'], kitchentestgl['majority_predictions'])\n",
    "        #print \"majority_predictions' model Accuracy when using a threshold of \"+str(thresholds[i])\n",
    "        #print graphlab.evaluation.accuracy(kitchentestgl['label'], kitchentestgl['majority_predictions'])\n",
    "        cosine_Accs.append(graphlab.evaluation.accuracy(kitchentestgl['label'], kitchentestgl['majority_predictions']))\n",
    "        cosine_Fscores.append(graphlab.evaluation.f1_score(kitchentestgl['label'], kitchentestgl['majority_predictions']))\n",
    "        #cosine_threshold_acc[threshold].append(graphlab.evaluation.accuracy(kitchentestgl['label'], kitchentestgl['majority_predictions']))\n",
    "        #cosine_threshold_fscore[threshold].append(graphlab.evaluation.f1_score(kitchentestgl['label'], kitchentestgl['majority_predictions']))\n",
    "    \n",
    "    print \"Cosine distance results for the Majority-Minority classifiers of random dataset \"+str(d)\n",
    "    \n",
    "    \n",
    "    for i in range(len(thresholds)):\n",
    "        threshold=thresholds[i]\n",
    "        kitchentestgl['majority_minority_predictions'] = kitchentestgl.apply(lambda x: weighted_predict_smalldist_largedistances(x,normalized_smallestdistances,normalized_largestdistances,threshold) )\n",
    "\n",
    "        #print \"majority_minority_predictions' model Fscore when using a threshold of \"+str(thresholds[i])\n",
    "        #print graphlab.evaluation.f1_score(kitchentestgl['label'], kitchentestgl['majority_minority_predictions'])\n",
    "        #print \"majority_minority_predictions' model Accuracy when using a threshold of \"+str(thresholds[i])\n",
    "        #print graphlab.evaluation.accuracy(kitchentestgl['label'], kitchentestgl['majority_minority_predictions'])\n",
    "        print \"max euc acc\"\n",
    "        ##cosine_Accs.append(graphlab.evaluation.accuracy(kitchentestgl['label'], kitchentestgl['majority_minority_predictions']))\n",
    "        ##cosine_Fscores.append(graphlab.evaluation.f1_score(kitchentestgl['label'], kitchentestgl['majority_minority_predictions']))\n",
    "        cosine_threshold_acc[threshold].append(graphlab.evaluation.accuracy(kitchentestgl['label'], kitchentestgl['majority_minority_predictions']))\n",
    "        cosine_threshold_fscore[threshold].append(graphlab.evaluation.f1_score(kitchentestgl['label'], kitchentestgl['majority_minority_predictions']))\n",
    "    print max(cosine_Accs)\n",
    "    max_cosine_accs.append(max(cosine_Accs))\n",
    "    max_cosine_fscores.append(max(cosine_Fscores))\n",
    "    print \"data set \"+str(counter)+' was tested!'\n",
    "print \"max cosine acc\"\n",
    "print max_cosine_accs\n",
    "max_cosine_accs_mean = sum(max_cosine_accs) / len(max_cosine_accs)\n",
    "print \"average cosine accuracy for threshold \" + str(thresholds[0])\n",
    "print max_cosine_accs_mean\n",
    "max_cosine_fscores_mean = sum(max_cosine_fscores) / len(max_cosine_fscores)\n",
    "print \"average cosine fscore for threshold \" + str(thresholds[0])\n",
    "print max_cosine_fscores_mean\n",
    "\n",
    "print \"max euc acc\"\n",
    "print max_euc_accs\n",
    "max_euc_accs_mean = sum(max_euc_accs) / len(max_euc_accs)\n",
    "\n",
    "print \"average euclidean accuracy for threshold \" + str(thresholds[0])\n",
    "print max_euc_accs_mean\n",
    "max_euc_fscores_mean = sum(max_euc_fscores) / len(max_euc_fscores)\n",
    "print \"average euclidean fscore for threshold \" + str(thresholds[0])\n",
    "print max_euc_fscores_mean\n",
    "\n",
    "\n",
    "\n",
    "\n",
    "\n",
    "\n"
   ]
  },
  {
   "cell_type": "markdown",
   "metadata": {},
   "source": [
    "## Top and Least performing classifiers (th=0.6)"
   ]
  },
  {
   "cell_type": "code",
   "execution_count": 9,
   "metadata": {
    "collapsed": false
   },
   "outputs": [
    {
     "data": {
      "text/html": [
       "<pre>Finished parsing file C:\\Users\\Omar\\kitchentestgl_random.csv</pre>"
      ],
      "text/plain": [
       "Finished parsing file C:\\Users\\Omar\\kitchentestgl_random.csv"
      ]
     },
     "metadata": {},
     "output_type": "display_data"
    },
    {
     "data": {
      "text/html": [
       "<pre>Parsing completed. Parsed 100 lines in 0.098014 secs.</pre>"
      ],
      "text/plain": [
       "Parsing completed. Parsed 100 lines in 0.098014 secs."
      ]
     },
     "metadata": {},
     "output_type": "display_data"
    },
    {
     "name": "stdout",
     "output_type": "stream",
     "text": [
      "------------------------------------------------------\n",
      "Inferred types from first 100 line(s) of file as \n",
      "column_type_hints=[str,long,str,str,str,str,str,long,long,long,long,long,long,long,long,long,long,long,long,long]\n",
      "If parsing fails due to incorrect types, you can correct\n",
      "the inferred type list above and pass it to read_csv in\n",
      "the column_type_hints argument\n",
      "------------------------------------------------------\n"
     ]
    },
    {
     "data": {
      "text/html": [
       "<pre>Finished parsing file C:\\Users\\Omar\\kitchentestgl_random.csv</pre>"
      ],
      "text/plain": [
       "Finished parsing file C:\\Users\\Omar\\kitchentestgl_random.csv"
      ]
     },
     "metadata": {},
     "output_type": "display_data"
    },
    {
     "data": {
      "text/html": [
       "<pre>Parsing completed. Parsed 1000 lines in 0.054985 secs.</pre>"
      ],
      "text/plain": [
       "Parsing completed. Parsed 1000 lines in 0.054985 secs."
      ]
     },
     "metadata": {},
     "output_type": "display_data"
    },
    {
     "name": "stdout",
     "output_type": "stream",
     "text": [
      "results for random dataset 1\n",
      "euclidean distance results for the minority classifiers of random dataset 1\n",
      "euclidean distance results for the Majority classifiers of random dataset 1\n",
      "euclidean distance results for the Majority-Minority classifiers of random dataset 1\n",
      "max euc acc\n",
      "0.869\n",
      "Cosine distance results for the minority classifiers of random dataset 1\n",
      "Cosine distance results for the Majority classifiers of random dataset 1\n",
      "Cosine distance results for the Majority-Minority classifiers of random dataset 1\n",
      "max euc acc\n",
      "0.865\n",
      "data set 1 was tested!\n"
     ]
    },
    {
     "data": {
      "text/html": [
       "<pre>Finished parsing file C:\\Users\\Omar\\kitchentestgl_random_2.csv</pre>"
      ],
      "text/plain": [
       "Finished parsing file C:\\Users\\Omar\\kitchentestgl_random_2.csv"
      ]
     },
     "metadata": {},
     "output_type": "display_data"
    },
    {
     "data": {
      "text/html": [
       "<pre>Parsing completed. Parsed 100 lines in 0.090506 secs.</pre>"
      ],
      "text/plain": [
       "Parsing completed. Parsed 100 lines in 0.090506 secs."
      ]
     },
     "metadata": {},
     "output_type": "display_data"
    },
    {
     "name": "stdout",
     "output_type": "stream",
     "text": [
      "------------------------------------------------------\n",
      "Inferred types from first 100 line(s) of file as \n",
      "column_type_hints=[str,long,str,str,str,str,str,long,long,long,long,long,long,long,long,long,long,long,long,long]\n",
      "If parsing fails due to incorrect types, you can correct\n",
      "the inferred type list above and pass it to read_csv in\n",
      "the column_type_hints argument\n",
      "------------------------------------------------------\n"
     ]
    },
    {
     "data": {
      "text/html": [
       "<pre>Finished parsing file C:\\Users\\Omar\\kitchentestgl_random_2.csv</pre>"
      ],
      "text/plain": [
       "Finished parsing file C:\\Users\\Omar\\kitchentestgl_random_2.csv"
      ]
     },
     "metadata": {},
     "output_type": "display_data"
    },
    {
     "data": {
      "text/html": [
       "<pre>Parsing completed. Parsed 1000 lines in 0.055969 secs.</pre>"
      ],
      "text/plain": [
       "Parsing completed. Parsed 1000 lines in 0.055969 secs."
      ]
     },
     "metadata": {},
     "output_type": "display_data"
    },
    {
     "name": "stdout",
     "output_type": "stream",
     "text": [
      "results for random dataset 2\n",
      "euclidean distance results for the minority classifiers of random dataset 2\n",
      "euclidean distance results for the Majority classifiers of random dataset 2\n",
      "euclidean distance results for the Majority-Minority classifiers of random dataset 2\n",
      "max euc acc\n",
      "0.885\n",
      "Cosine distance results for the minority classifiers of random dataset 2\n",
      "Cosine distance results for the Majority classifiers of random dataset 2\n",
      "Cosine distance results for the Majority-Minority classifiers of random dataset 2\n",
      "max euc acc\n",
      "0.876\n",
      "data set 2 was tested!\n"
     ]
    },
    {
     "data": {
      "text/html": [
       "<pre>Finished parsing file C:\\Users\\Omar\\kitchentestgl_random_3.csv</pre>"
      ],
      "text/plain": [
       "Finished parsing file C:\\Users\\Omar\\kitchentestgl_random_3.csv"
      ]
     },
     "metadata": {},
     "output_type": "display_data"
    },
    {
     "data": {
      "text/html": [
       "<pre>Parsing completed. Parsed 100 lines in 0.108576 secs.</pre>"
      ],
      "text/plain": [
       "Parsing completed. Parsed 100 lines in 0.108576 secs."
      ]
     },
     "metadata": {},
     "output_type": "display_data"
    },
    {
     "name": "stdout",
     "output_type": "stream",
     "text": [
      "------------------------------------------------------\n",
      "Inferred types from first 100 line(s) of file as \n",
      "column_type_hints=[str,long,str,str,str,str,str,long,long,long,long,long,long,long,long,long,long,long,long,long]\n",
      "If parsing fails due to incorrect types, you can correct\n",
      "the inferred type list above and pass it to read_csv in\n",
      "the column_type_hints argument\n",
      "------------------------------------------------------\n"
     ]
    },
    {
     "data": {
      "text/html": [
       "<pre>Finished parsing file C:\\Users\\Omar\\kitchentestgl_random_3.csv</pre>"
      ],
      "text/plain": [
       "Finished parsing file C:\\Users\\Omar\\kitchentestgl_random_3.csv"
      ]
     },
     "metadata": {},
     "output_type": "display_data"
    },
    {
     "data": {
      "text/html": [
       "<pre>Parsing completed. Parsed 1000 lines in 0.052088 secs.</pre>"
      ],
      "text/plain": [
       "Parsing completed. Parsed 1000 lines in 0.052088 secs."
      ]
     },
     "metadata": {},
     "output_type": "display_data"
    },
    {
     "name": "stdout",
     "output_type": "stream",
     "text": [
      "results for random dataset 3\n",
      "euclidean distance results for the minority classifiers of random dataset 3\n",
      "euclidean distance results for the Majority classifiers of random dataset 3\n",
      "euclidean distance results for the Majority-Minority classifiers of random dataset 3\n",
      "max euc acc\n",
      "0.872\n",
      "Cosine distance results for the minority classifiers of random dataset 3\n",
      "Cosine distance results for the Majority classifiers of random dataset 3\n",
      "Cosine distance results for the Majority-Minority classifiers of random dataset 3\n",
      "max euc acc\n",
      "0.866\n",
      "data set 3 was tested!\n"
     ]
    },
    {
     "data": {
      "text/html": [
       "<pre>Finished parsing file C:\\Users\\Omar\\kitchentestgl_random_4.csv</pre>"
      ],
      "text/plain": [
       "Finished parsing file C:\\Users\\Omar\\kitchentestgl_random_4.csv"
      ]
     },
     "metadata": {},
     "output_type": "display_data"
    },
    {
     "data": {
      "text/html": [
       "<pre>Parsing completed. Parsed 100 lines in 0.111934 secs.</pre>"
      ],
      "text/plain": [
       "Parsing completed. Parsed 100 lines in 0.111934 secs."
      ]
     },
     "metadata": {},
     "output_type": "display_data"
    },
    {
     "name": "stdout",
     "output_type": "stream",
     "text": [
      "------------------------------------------------------\n",
      "Inferred types from first 100 line(s) of file as \n",
      "column_type_hints=[str,long,str,str,str,str,str,long,long,long,long,long,long,long,long,long,long,long,long,long]\n",
      "If parsing fails due to incorrect types, you can correct\n",
      "the inferred type list above and pass it to read_csv in\n",
      "the column_type_hints argument\n",
      "------------------------------------------------------\n"
     ]
    },
    {
     "data": {
      "text/html": [
       "<pre>Finished parsing file C:\\Users\\Omar\\kitchentestgl_random_4.csv</pre>"
      ],
      "text/plain": [
       "Finished parsing file C:\\Users\\Omar\\kitchentestgl_random_4.csv"
      ]
     },
     "metadata": {},
     "output_type": "display_data"
    },
    {
     "data": {
      "text/html": [
       "<pre>Parsing completed. Parsed 1000 lines in 0.060094 secs.</pre>"
      ],
      "text/plain": [
       "Parsing completed. Parsed 1000 lines in 0.060094 secs."
      ]
     },
     "metadata": {},
     "output_type": "display_data"
    },
    {
     "name": "stdout",
     "output_type": "stream",
     "text": [
      "results for random dataset 4\n",
      "euclidean distance results for the minority classifiers of random dataset 4\n",
      "euclidean distance results for the Majority classifiers of random dataset 4\n",
      "euclidean distance results for the Majority-Minority classifiers of random dataset 4\n",
      "max euc acc\n",
      "0.867\n",
      "Cosine distance results for the minority classifiers of random dataset 4\n",
      "Cosine distance results for the Majority classifiers of random dataset 4\n",
      "Cosine distance results for the Majority-Minority classifiers of random dataset 4\n",
      "max euc acc\n",
      "0.873\n",
      "data set 4 was tested!\n"
     ]
    },
    {
     "data": {
      "text/html": [
       "<pre>Finished parsing file C:\\Users\\Omar\\kitchentestgl_random_5.csv</pre>"
      ],
      "text/plain": [
       "Finished parsing file C:\\Users\\Omar\\kitchentestgl_random_5.csv"
      ]
     },
     "metadata": {},
     "output_type": "display_data"
    },
    {
     "data": {
      "text/html": [
       "<pre>Parsing completed. Parsed 100 lines in 0.10397 secs.</pre>"
      ],
      "text/plain": [
       "Parsing completed. Parsed 100 lines in 0.10397 secs."
      ]
     },
     "metadata": {},
     "output_type": "display_data"
    },
    {
     "name": "stdout",
     "output_type": "stream",
     "text": [
      "------------------------------------------------------\n",
      "Inferred types from first 100 line(s) of file as \n",
      "column_type_hints=[str,long,str,str,str,str,str,long,long,long,long,long,long,long,long,long,long,long,long,long]\n",
      "If parsing fails due to incorrect types, you can correct\n",
      "the inferred type list above and pass it to read_csv in\n",
      "the column_type_hints argument\n",
      "------------------------------------------------------\n"
     ]
    },
    {
     "data": {
      "text/html": [
       "<pre>Finished parsing file C:\\Users\\Omar\\kitchentestgl_random_5.csv</pre>"
      ],
      "text/plain": [
       "Finished parsing file C:\\Users\\Omar\\kitchentestgl_random_5.csv"
      ]
     },
     "metadata": {},
     "output_type": "display_data"
    },
    {
     "data": {
      "text/html": [
       "<pre>Parsing completed. Parsed 1000 lines in 0.062103 secs.</pre>"
      ],
      "text/plain": [
       "Parsing completed. Parsed 1000 lines in 0.062103 secs."
      ]
     },
     "metadata": {},
     "output_type": "display_data"
    },
    {
     "name": "stdout",
     "output_type": "stream",
     "text": [
      "results for random dataset 5\n",
      "euclidean distance results for the minority classifiers of random dataset 5\n",
      "euclidean distance results for the Majority classifiers of random dataset 5\n",
      "euclidean distance results for the Majority-Minority classifiers of random dataset 5\n",
      "max euc acc\n",
      "0.874\n",
      "Cosine distance results for the minority classifiers of random dataset 5\n",
      "Cosine distance results for the Majority classifiers of random dataset 5\n",
      "Cosine distance results for the Majority-Minority classifiers of random dataset 5\n",
      "max euc acc\n",
      "0.869\n",
      "data set 5 was tested!\n",
      "max cosine acc\n",
      "[0.865, 0.876, 0.866, 0.873, 0.869]\n",
      "average cosine accuracy for threshold 0.6\n",
      "0.8698\n",
      "average cosine fscore for threshold 0.6\n",
      "0.865734009838\n",
      "max euc acc\n",
      "[0.869, 0.885, 0.872, 0.867, 0.874]\n",
      "average euclidean accuracy for threshold 0.6\n",
      "0.8734\n",
      "average euclidean fscore for threshold 0.6\n",
      "0.878826780261\n"
     ]
    }
   ],
   "source": [
    "## inverted weights\n",
    "        \n",
    "from collections import defaultdict\n",
    "counter=0\n",
    "max_euc_accs=[]\n",
    "max_cosine_accs=[]\n",
    "max_cosine_fscores=[]\n",
    "max_euc_fscores=[]\n",
    "euc_threshold_acc = defaultdict(list)\n",
    "cosine_threshold_acc = defaultdict(list)\n",
    "\n",
    "euc_threshold_fscore = defaultdict(list)\n",
    "cosine_threshold_fscore = defaultdict(list)\n",
    "for d in range(1,6):\n",
    "    i=d\n",
    "    counter+=1\n",
    "    if i==1:\n",
    "        kitchentestgl = graphlab.SFrame('kitchentestgl_random.csv')\n",
    "    else:\n",
    "        kitchentestgl = graphlab.SFrame('kitchentestgl_random_'+str(i)+'.csv')\n",
    "    print \"results for random dataset \"+str(d)\n",
    "    print \"euclidean distance results for the minority classifiers of random dataset \"+str(d)\n",
    "    largestdistances=[215.7683943491261,167.77067681809,99.84487968844472,97.77013859047148,97.01030873056739,96.97422337920526]\n",
    "    lowestdistances=[88.91006692158093,90.62008607367353,91.81503144910424,91.98369420718001,94.66255859631093,94.75230867899737]\n",
    "    Minor_domains = ['book_predictions','dvd_predictions','automotive_predictions','jewelrywatches_predictions','computervideo_predictions','gourmet_predictions']\n",
    "    Major_domains = ['healthpersonal_predictions','baby_predictions','cameraphoto_predictions','apparel_predictions','electronics_predictions','beauty_predictions']\n",
    "    normalized_largestdistances = euclidean_norm_dict(largestdistances)\n",
    "    normalized_smallestdistances = euclidean_norm_dict(lowestdistances)\n",
    "    normalized_largestdistances_inverted = [0] * len(normalized_largestdistances)\n",
    "    normalized_smallestdistances_inverted = [0] * len(normalized_smallestdistances)\n",
    "    for i in range(len(normalized_largestdistances)):\n",
    "        normalized_largestdistances_inverted[i] = 1 - normalized_largestdistances[i]\n",
    "    \n",
    "    for j in range(len(normalized_smallestdistances)):\n",
    "        normalized_smallestdistances_inverted[j] = 1 - normalized_smallestdistances[j]\n",
    "    thresholds = [0.6]\n",
    "    euc_Fscores = []\n",
    "    euc_Accs = []\n",
    "    for i in range(len(thresholds)):\n",
    "        threshold=thresholds[i]\n",
    "        \n",
    "        kitchentestgl['minority_predictions'] = kitchentestgl.apply(lambda x: weighted_predict_largedist(x,normalized_largestdistances,threshold) )\n",
    "        #print \"minority_predictions' model Fscore when using a threshold of \"+str(thresholds[i])\n",
    "        #print graphlab.evaluation.f1_score(kitchentestgl['label'], kitchentestgl['minority_predictions'])\n",
    "        #print \"minority_predictions' model Accuracy when using a threshold of \"+str(thresholds[i])\n",
    "        #print graphlab.evaluation.accuracy(kitchentestgl['label'], kitchentestgl['minority_predictions'])\n",
    "        ##euc_Fscores.append(graphlab.evaluation.f1_score(kitchentestgl['label'], kitchentestgl['minority_predictions']))\n",
    "        ##euc_Accs.append(graphlab.evaluation.accuracy(kitchentestgl['label'], kitchentestgl['minority_predictions']))\n",
    "        #euc_threshold_acc[threshold].append(graphlab.evaluation.accuracy(kitchentestgl['label'], kitchentestgl['minority_predictions']))\n",
    "        #euc_threshold_fscore[threshold].append(graphlab.evaluation.f1_score(kitchentestgl['label'], kitchentestgl['minority_predictions']))\n",
    "    print \"euclidean distance results for the Majority classifiers of random dataset \"+str(d)\n",
    "\n",
    "    euc_major_Fscores=[]\n",
    "    euc_major_Accs = []\n",
    "    for i in range(len(thresholds)):\n",
    "        threshold=thresholds[i]\n",
    "        kitchentestgl['majority_predictions'] = kitchentestgl.apply(lambda x: weighted_predict_smalldist(x,normalized_smallestdistances,threshold) )\n",
    "        #print \"majority_predictions' model Fscore when using a threshold of \"+str(thresholds[i])\n",
    "        #print graphlab.evaluation.f1_score(kitchentestgl['label'], kitchentestgl['majority_predictions'])\n",
    "        #print \"majority_predictions' model Accuracy when using a threshold of \"+str(thresholds[i])\n",
    "        #print graphlab.evaluation.accuracy(kitchentestgl['label'], kitchentestgl['majority_predictions'])\n",
    "        ##euc_Fscores.append(graphlab.evaluation.f1_score(kitchentestgl['label'], kitchentestgl['majority_predictions']))\n",
    "        ##euc_Accs.append(graphlab.evaluation.accuracy(kitchentestgl['label'], kitchentestgl['majority_predictions']))\n",
    "        euc_threshold_acc[threshold].append(graphlab.evaluation.accuracy(kitchentestgl['label'], kitchentestgl['majority_predictions']))\n",
    "        euc_threshold_fscore[threshold].append(graphlab.evaluation.f1_score(kitchentestgl['label'], kitchentestgl['majority_predictions']))\n",
    "    print \"euclidean distance results for the Majority-Minority classifiers of random dataset \"+str(d)\n",
    "\n",
    "    #threshold using all models\n",
    "    for i in range(len(thresholds)):\n",
    "        threshold=thresholds[i]\n",
    "        kitchentestgl['majority_minority_predictions'] = kitchentestgl.apply(lambda x: weighted_predict_smalldist_largedistances(x,normalized_smallestdistances_inverted,normalized_largestdistances_inverted,threshold) )\n",
    "\n",
    "        #print \"majority_minority_predictions' model Fscore when using a threshold of \"+str(thresholds[i])\n",
    "        #print graphlab.evaluation.f1_score(kitchentestgl['label'], kitchentestgl['majority_minority_predictions'])\n",
    "        #print \"majority_minority_predictions' model Accuracy when using a threshold of \"+str(thresholds[i])\n",
    "        #print graphlab.evaluation.accuracy(kitchentestgl['label'], kitchentestgl['majority_minority_predictions'])\n",
    "        euc_Fscores.append(graphlab.evaluation.f1_score(kitchentestgl['label'], kitchentestgl['majority_minority_predictions']))\n",
    "        euc_Accs.append(graphlab.evaluation.accuracy(kitchentestgl['label'], kitchentestgl['majority_minority_predictions']))\n",
    "        euc_threshold_acc[threshold].append(graphlab.evaluation.accuracy(kitchentestgl['label'], kitchentestgl['majority_minority_predictions']))\n",
    "        euc_threshold_fscore[threshold].append(graphlab.evaluation.f1_score(kitchentestgl['label'], kitchentestgl['majority_minority_predictions']))\n",
    "    print \"max euc acc\"\n",
    "    print max(euc_Accs)\n",
    "    max_euc_accs.append(max(euc_Accs))\n",
    "    max_euc_fscores.append(max(euc_Fscores))\n",
    "    largestdistances=[0.5633181597498838,0.5546099411237762,0.5240471587804418,0.5039841842356722,0.49261932743957626,0.487554486027983]\n",
    "    lowestdistances=[ 0.36080598790800533,0.3686636285328633,0.4070498131725162,0.40863691553859804,0.4114316511076972,0.4613234524061305]\n",
    "    Minor_domains = ['automotive_predictions','book_predictions','jewelrywatches_predictions','gourmet_predictions','dvd_predictions','grocery_predictions']\n",
    "\n",
    "    Major_domains = ['electronics_predictions','healthpersonal_predictions','cameraphoto_predictions','apparel_predictions','baby_predictions','beauty_predictions']\n",
    "    normalized_largestdistances = euclidean_norm_dict(largestdistances)\n",
    "    normalized_smallestdistances = euclidean_norm_dict(lowestdistances)\n",
    "    normalized_largestdistances_inverted = [0] * len(normalized_largestdistances)\n",
    "    normalized_smallestdistances_inverted = [0] * len(normalized_smallestdistances)\n",
    "    for i in range(len(normalized_largestdistances)):\n",
    "        normalized_largestdistances_inverted[i] = 1 - normalized_largestdistances[i]\n",
    "    \n",
    "    for j in range(len(normalized_smallestdistances)):\n",
    "        normalized_smallestdistances_inverted[j] = 1 - normalized_smallestdistances[j]\n",
    "    print \"Cosine distance results for the minority classifiers of random dataset \"+str(d)\n",
    "    cosine_Accs=[]\n",
    "    cosine_Fscores=[]\n",
    "    for i in range(len(thresholds)):\n",
    "        threshold=thresholds[i]\n",
    "        kitchentestgl['minority_predictions'] = kitchentestgl.apply(lambda x: weighted_predict_largedist(x,normalized_largestdistances,threshold) )\n",
    "        #print \"minority_predictions' model Fscore when using a threshold of \"+str(thresholds[i])\n",
    "        #print graphlab.evaluation.f1_score(kitchentestgl['label'], kitchentestgl['minority_predictions'])\n",
    "        #print \"minority_predictions' model Accuracy when using a threshold of \"+str(thresholds[i])\n",
    "        #print graphlab.evaluation.accuracy(kitchentestgl['label'], kitchentestgl['minority_predictions'])\n",
    "        ##cosine_Accs.append(graphlab.evaluation.accuracy(kitchentestgl['label'], kitchentestgl['minority_predictions']))\n",
    "        ##cosine_Fscores.append(graphlab.evaluation.f1_score(kitchentestgl['label'], kitchentestgl['minority_predictions']))\n",
    "        #cosine_threshold_acc[threshold].append(graphlab.evaluation.accuracy(kitchentestgl['label'], kitchentestgl['minority_predictions']))\n",
    "        #cosine_threshold_fscore[threshold].append(graphlab.evaluation.f1_score(kitchentestgl['label'], kitchentestgl['minority_predictions']))\n",
    "    \n",
    "    print \"Cosine distance results for the Majority classifiers of random dataset \"+str(d)\n",
    "    for i in range(len(thresholds)):\n",
    "        threshold=thresholds[i]\n",
    "        kitchentestgl['majority_predictions'] = kitchentestgl.apply(lambda x: weighted_predict_smalldist(x,normalized_smallestdistances,threshold) )\n",
    "        #print \"majority_predictions' model Fscore when using a threshold of \"+str(thresholds[i])\n",
    "        #print graphlab.evaluation.f1_score(kitchentestgl['label'], kitchentestgl['majority_predictions'])\n",
    "        #print \"majority_predictions' model Accuracy when using a threshold of \"+str(thresholds[i])\n",
    "        #print graphlab.evaluation.accuracy(kitchentestgl['label'], kitchentestgl['majority_predictions'])\n",
    "        ##cosine_Accs.append(graphlab.evaluation.accuracy(kitchentestgl['label'], kitchentestgl['majority_predictions']))\n",
    "        ##cosine_Fscores.append(graphlab.evaluation.f1_score(kitchentestgl['label'], kitchentestgl['majority_predictions']))\n",
    "        #cosine_threshold_acc[threshold].append(graphlab.evaluation.accuracy(kitchentestgl['label'], kitchentestgl['majority_predictions']))\n",
    "        #cosine_threshold_fscore[threshold].append(graphlab.evaluation.f1_score(kitchentestgl['label'], kitchentestgl['majority_predictions']))\n",
    "    \n",
    "    print \"Cosine distance results for the Majority-Minority classifiers of random dataset \"+str(d)\n",
    "    \n",
    "    \n",
    "    for i in range(len(thresholds)):\n",
    "        threshold=thresholds[i]\n",
    "        kitchentestgl['majority_minority_predictions'] = kitchentestgl.apply(lambda x: weighted_predict_smalldist_largedistances(x,normalized_smallestdistances_inverted,normalized_largestdistances_inverted,threshold) )\n",
    "\n",
    "        #print \"majority_minority_predictions' model Fscore when using a threshold of \"+str(thresholds[i])\n",
    "        #print graphlab.evaluation.f1_score(kitchentestgl['label'], kitchentestgl['majority_minority_predictions'])\n",
    "        #print \"majority_minority_predictions' model Accuracy when using a threshold of \"+str(thresholds[i])\n",
    "        #print graphlab.evaluation.accuracy(kitchentestgl['label'], kitchentestgl['majority_minority_predictions'])\n",
    "        print \"max euc acc\"\n",
    "        cosine_Accs.append(graphlab.evaluation.accuracy(kitchentestgl['label'], kitchentestgl['majority_minority_predictions']))\n",
    "        cosine_Fscores.append(graphlab.evaluation.f1_score(kitchentestgl['label'], kitchentestgl['majority_minority_predictions']))\n",
    "        cosine_threshold_acc[threshold].append(graphlab.evaluation.accuracy(kitchentestgl['label'], kitchentestgl['majority_minority_predictions']))\n",
    "        cosine_threshold_fscore[threshold].append(graphlab.evaluation.f1_score(kitchentestgl['label'], kitchentestgl['majority_minority_predictions']))\n",
    "    print max(cosine_Accs)\n",
    "    max_cosine_accs.append(max(cosine_Accs))\n",
    "    max_cosine_fscores.append(max(cosine_Fscores))\n",
    "    print \"data set \"+str(counter)+' was tested!'\n",
    "print \"max cosine acc\"\n",
    "print max_cosine_accs\n",
    "max_cosine_accs_mean = sum(max_cosine_accs) / len(max_cosine_accs)\n",
    "print \"average cosine accuracy for threshold \" + str(thresholds[0])\n",
    "print max_cosine_accs_mean\n",
    "max_cosine_fscores_mean = sum(max_cosine_fscores) / len(max_cosine_fscores)\n",
    "print \"average cosine fscore for threshold \" + str(thresholds[0])\n",
    "print max_cosine_fscores_mean\n",
    "\n",
    "print \"max euc acc\"\n",
    "print max_euc_accs\n",
    "max_euc_accs_mean = sum(max_euc_accs) / len(max_euc_accs)\n",
    "\n",
    "print \"average euclidean accuracy for threshold \" + str(thresholds[0])\n",
    "print max_euc_accs_mean\n",
    "max_euc_fscores_mean = sum(max_euc_fscores) / len(max_euc_fscores)\n",
    "print \"average euclidean fscore for threshold \" + str(thresholds[0])\n",
    "print max_euc_fscores_mean\n",
    "\n",
    "\n",
    "\n",
    "\n",
    "\n"
   ]
  },
  {
   "cell_type": "code",
   "execution_count": null,
   "metadata": {
    "collapsed": true
   },
   "outputs": [],
   "source": []
  },
  {
   "cell_type": "markdown",
   "metadata": {},
   "source": [
    "## Least performing classifiers (th=0.7)"
   ]
  },
  {
   "cell_type": "code",
   "execution_count": 10,
   "metadata": {
    "collapsed": false
   },
   "outputs": [
    {
     "data": {
      "text/html": [
       "<pre>Finished parsing file C:\\Users\\Omar\\kitchentestgl_random.csv</pre>"
      ],
      "text/plain": [
       "Finished parsing file C:\\Users\\Omar\\kitchentestgl_random.csv"
      ]
     },
     "metadata": {},
     "output_type": "display_data"
    },
    {
     "data": {
      "text/html": [
       "<pre>Parsing completed. Parsed 100 lines in 0.081497 secs.</pre>"
      ],
      "text/plain": [
       "Parsing completed. Parsed 100 lines in 0.081497 secs."
      ]
     },
     "metadata": {},
     "output_type": "display_data"
    },
    {
     "name": "stdout",
     "output_type": "stream",
     "text": [
      "------------------------------------------------------\n",
      "Inferred types from first 100 line(s) of file as \n",
      "column_type_hints=[str,long,str,str,str,str,str,long,long,long,long,long,long,long,long,long,long,long,long,long]\n",
      "If parsing fails due to incorrect types, you can correct\n",
      "the inferred type list above and pass it to read_csv in\n",
      "the column_type_hints argument\n",
      "------------------------------------------------------\n"
     ]
    },
    {
     "data": {
      "text/html": [
       "<pre>Finished parsing file C:\\Users\\Omar\\kitchentestgl_random.csv</pre>"
      ],
      "text/plain": [
       "Finished parsing file C:\\Users\\Omar\\kitchentestgl_random.csv"
      ]
     },
     "metadata": {},
     "output_type": "display_data"
    },
    {
     "data": {
      "text/html": [
       "<pre>Parsing completed. Parsed 1000 lines in 0.054204 secs.</pre>"
      ],
      "text/plain": [
       "Parsing completed. Parsed 1000 lines in 0.054204 secs."
      ]
     },
     "metadata": {},
     "output_type": "display_data"
    },
    {
     "name": "stdout",
     "output_type": "stream",
     "text": [
      "results for random dataset 1\n",
      "euclidean distance results for the minority classifiers of random dataset 1\n",
      "euclidean distance results for the Majority classifiers of random dataset 1\n",
      "euclidean distance results for the Majority-Minority classifiers of random dataset 1\n",
      "max euc acc\n",
      "0.762\n",
      "Cosine distance results for the minority classifiers of random dataset 1\n",
      "Cosine distance results for the Majority classifiers of random dataset 1\n",
      "Cosine distance results for the Majority-Minority classifiers of random dataset 1\n",
      "max euc acc\n",
      "0.659\n",
      "data set 1 was tested!\n"
     ]
    },
    {
     "data": {
      "text/html": [
       "<pre>Finished parsing file C:\\Users\\Omar\\kitchentestgl_random_2.csv</pre>"
      ],
      "text/plain": [
       "Finished parsing file C:\\Users\\Omar\\kitchentestgl_random_2.csv"
      ]
     },
     "metadata": {},
     "output_type": "display_data"
    },
    {
     "data": {
      "text/html": [
       "<pre>Parsing completed. Parsed 100 lines in 0.10294 secs.</pre>"
      ],
      "text/plain": [
       "Parsing completed. Parsed 100 lines in 0.10294 secs."
      ]
     },
     "metadata": {},
     "output_type": "display_data"
    },
    {
     "name": "stdout",
     "output_type": "stream",
     "text": [
      "------------------------------------------------------\n",
      "Inferred types from first 100 line(s) of file as \n",
      "column_type_hints=[str,long,str,str,str,str,str,long,long,long,long,long,long,long,long,long,long,long,long,long]\n",
      "If parsing fails due to incorrect types, you can correct\n",
      "the inferred type list above and pass it to read_csv in\n",
      "the column_type_hints argument\n",
      "------------------------------------------------------\n"
     ]
    },
    {
     "data": {
      "text/html": [
       "<pre>Finished parsing file C:\\Users\\Omar\\kitchentestgl_random_2.csv</pre>"
      ],
      "text/plain": [
       "Finished parsing file C:\\Users\\Omar\\kitchentestgl_random_2.csv"
      ]
     },
     "metadata": {},
     "output_type": "display_data"
    },
    {
     "data": {
      "text/html": [
       "<pre>Parsing completed. Parsed 1000 lines in 0.054969 secs.</pre>"
      ],
      "text/plain": [
       "Parsing completed. Parsed 1000 lines in 0.054969 secs."
      ]
     },
     "metadata": {},
     "output_type": "display_data"
    },
    {
     "name": "stdout",
     "output_type": "stream",
     "text": [
      "results for random dataset 2\n",
      "euclidean distance results for the minority classifiers of random dataset 2\n",
      "euclidean distance results for the Majority classifiers of random dataset 2\n",
      "euclidean distance results for the Majority-Minority classifiers of random dataset 2\n",
      "max euc acc\n",
      "0.724\n",
      "Cosine distance results for the minority classifiers of random dataset 2\n",
      "Cosine distance results for the Majority classifiers of random dataset 2\n",
      "Cosine distance results for the Majority-Minority classifiers of random dataset 2\n",
      "max euc acc\n",
      "0.648\n",
      "data set 2 was tested!\n"
     ]
    },
    {
     "data": {
      "text/html": [
       "<pre>Finished parsing file C:\\Users\\Omar\\kitchentestgl_random_3.csv</pre>"
      ],
      "text/plain": [
       "Finished parsing file C:\\Users\\Omar\\kitchentestgl_random_3.csv"
      ]
     },
     "metadata": {},
     "output_type": "display_data"
    },
    {
     "data": {
      "text/html": [
       "<pre>Parsing completed. Parsed 100 lines in 0.105338 secs.</pre>"
      ],
      "text/plain": [
       "Parsing completed. Parsed 100 lines in 0.105338 secs."
      ]
     },
     "metadata": {},
     "output_type": "display_data"
    },
    {
     "name": "stdout",
     "output_type": "stream",
     "text": [
      "------------------------------------------------------\n",
      "Inferred types from first 100 line(s) of file as \n",
      "column_type_hints=[str,long,str,str,str,str,str,long,long,long,long,long,long,long,long,long,long,long,long,long]\n",
      "If parsing fails due to incorrect types, you can correct\n",
      "the inferred type list above and pass it to read_csv in\n",
      "the column_type_hints argument\n",
      "------------------------------------------------------\n"
     ]
    },
    {
     "data": {
      "text/html": [
       "<pre>Finished parsing file C:\\Users\\Omar\\kitchentestgl_random_3.csv</pre>"
      ],
      "text/plain": [
       "Finished parsing file C:\\Users\\Omar\\kitchentestgl_random_3.csv"
      ]
     },
     "metadata": {},
     "output_type": "display_data"
    },
    {
     "data": {
      "text/html": [
       "<pre>Parsing completed. Parsed 1000 lines in 0.055076 secs.</pre>"
      ],
      "text/plain": [
       "Parsing completed. Parsed 1000 lines in 0.055076 secs."
      ]
     },
     "metadata": {},
     "output_type": "display_data"
    },
    {
     "name": "stdout",
     "output_type": "stream",
     "text": [
      "results for random dataset 3\n",
      "euclidean distance results for the minority classifiers of random dataset 3\n",
      "euclidean distance results for the Majority classifiers of random dataset 3\n",
      "euclidean distance results for the Majority-Minority classifiers of random dataset 3\n",
      "max euc acc\n",
      "0.736\n",
      "Cosine distance results for the minority classifiers of random dataset 3\n",
      "Cosine distance results for the Majority classifiers of random dataset 3\n",
      "Cosine distance results for the Majority-Minority classifiers of random dataset 3\n",
      "max euc acc\n",
      "0.647\n",
      "data set 3 was tested!\n"
     ]
    },
    {
     "data": {
      "text/html": [
       "<pre>Finished parsing file C:\\Users\\Omar\\kitchentestgl_random_4.csv</pre>"
      ],
      "text/plain": [
       "Finished parsing file C:\\Users\\Omar\\kitchentestgl_random_4.csv"
      ]
     },
     "metadata": {},
     "output_type": "display_data"
    },
    {
     "data": {
      "text/html": [
       "<pre>Parsing completed. Parsed 100 lines in 0.091948 secs.</pre>"
      ],
      "text/plain": [
       "Parsing completed. Parsed 100 lines in 0.091948 secs."
      ]
     },
     "metadata": {},
     "output_type": "display_data"
    },
    {
     "name": "stdout",
     "output_type": "stream",
     "text": [
      "------------------------------------------------------\n",
      "Inferred types from first 100 line(s) of file as \n",
      "column_type_hints=[str,long,str,str,str,str,str,long,long,long,long,long,long,long,long,long,long,long,long,long]\n",
      "If parsing fails due to incorrect types, you can correct\n",
      "the inferred type list above and pass it to read_csv in\n",
      "the column_type_hints argument\n",
      "------------------------------------------------------\n"
     ]
    },
    {
     "data": {
      "text/html": [
       "<pre>Finished parsing file C:\\Users\\Omar\\kitchentestgl_random_4.csv</pre>"
      ],
      "text/plain": [
       "Finished parsing file C:\\Users\\Omar\\kitchentestgl_random_4.csv"
      ]
     },
     "metadata": {},
     "output_type": "display_data"
    },
    {
     "data": {
      "text/html": [
       "<pre>Parsing completed. Parsed 1000 lines in 0.06325 secs.</pre>"
      ],
      "text/plain": [
       "Parsing completed. Parsed 1000 lines in 0.06325 secs."
      ]
     },
     "metadata": {},
     "output_type": "display_data"
    },
    {
     "name": "stdout",
     "output_type": "stream",
     "text": [
      "results for random dataset 4\n",
      "euclidean distance results for the minority classifiers of random dataset 4\n",
      "euclidean distance results for the Majority classifiers of random dataset 4\n",
      "euclidean distance results for the Majority-Minority classifiers of random dataset 4\n",
      "max euc acc\n",
      "0.748\n",
      "Cosine distance results for the minority classifiers of random dataset 4\n",
      "Cosine distance results for the Majority classifiers of random dataset 4\n",
      "Cosine distance results for the Majority-Minority classifiers of random dataset 4\n",
      "max euc acc\n",
      "0.652\n",
      "data set 4 was tested!\n"
     ]
    },
    {
     "data": {
      "text/html": [
       "<pre>Finished parsing file C:\\Users\\Omar\\kitchentestgl_random_5.csv</pre>"
      ],
      "text/plain": [
       "Finished parsing file C:\\Users\\Omar\\kitchentestgl_random_5.csv"
      ]
     },
     "metadata": {},
     "output_type": "display_data"
    },
    {
     "data": {
      "text/html": [
       "<pre>Parsing completed. Parsed 100 lines in 0.09542 secs.</pre>"
      ],
      "text/plain": [
       "Parsing completed. Parsed 100 lines in 0.09542 secs."
      ]
     },
     "metadata": {},
     "output_type": "display_data"
    },
    {
     "name": "stdout",
     "output_type": "stream",
     "text": [
      "------------------------------------------------------\n",
      "Inferred types from first 100 line(s) of file as \n",
      "column_type_hints=[str,long,str,str,str,str,str,long,long,long,long,long,long,long,long,long,long,long,long,long]\n",
      "If parsing fails due to incorrect types, you can correct\n",
      "the inferred type list above and pass it to read_csv in\n",
      "the column_type_hints argument\n",
      "------------------------------------------------------\n"
     ]
    },
    {
     "data": {
      "text/html": [
       "<pre>Finished parsing file C:\\Users\\Omar\\kitchentestgl_random_5.csv</pre>"
      ],
      "text/plain": [
       "Finished parsing file C:\\Users\\Omar\\kitchentestgl_random_5.csv"
      ]
     },
     "metadata": {},
     "output_type": "display_data"
    },
    {
     "data": {
      "text/html": [
       "<pre>Parsing completed. Parsed 1000 lines in 0.057141 secs.</pre>"
      ],
      "text/plain": [
       "Parsing completed. Parsed 1000 lines in 0.057141 secs."
      ]
     },
     "metadata": {},
     "output_type": "display_data"
    },
    {
     "name": "stdout",
     "output_type": "stream",
     "text": [
      "results for random dataset 5\n",
      "euclidean distance results for the minority classifiers of random dataset 5\n",
      "euclidean distance results for the Majority classifiers of random dataset 5\n",
      "euclidean distance results for the Majority-Minority classifiers of random dataset 5\n",
      "max euc acc\n",
      "0.743\n",
      "Cosine distance results for the minority classifiers of random dataset 5\n",
      "Cosine distance results for the Majority classifiers of random dataset 5\n",
      "Cosine distance results for the Majority-Minority classifiers of random dataset 5\n",
      "max euc acc\n",
      "0.656\n",
      "data set 5 was tested!\n",
      "max cosine acc\n",
      "[0.659, 0.648, 0.647, 0.652, 0.656]\n",
      "average cosine accuracy for threshold 0.7\n",
      "0.6524\n",
      "average cosine fscore for threshold 0.7\n",
      "0.504165143553\n",
      "max euc acc\n",
      "[0.762, 0.724, 0.736, 0.748, 0.743]\n",
      "average euclidean accuracy for threshold 0.7\n",
      "0.7426\n",
      "average euclidean fscore for threshold 0.7\n",
      "0.7259437688\n"
     ]
    }
   ],
   "source": [
    "##inverted weights\n",
    "\n",
    "from collections import defaultdict\n",
    "counter=0\n",
    "max_euc_accs=[]\n",
    "max_cosine_accs=[]\n",
    "max_euc_fscores=[]\n",
    "max_cosine_fscores=[]\n",
    "euc_threshold_acc = defaultdict(list)\n",
    "cosine_threshold_acc = defaultdict(list)\n",
    "\n",
    "euc_threshold_fscore = defaultdict(list)\n",
    "cosine_threshold_fscore = defaultdict(list)\n",
    "for d in range(1,6):\n",
    "    i=d\n",
    "    counter+=1\n",
    "    if i==1:\n",
    "        kitchentestgl = graphlab.SFrame('kitchentestgl_random.csv')\n",
    "    else:\n",
    "        kitchentestgl = graphlab.SFrame('kitchentestgl_random_'+str(i)+'.csv')\n",
    "    print \"results for random dataset \"+str(d)\n",
    "    print \"euclidean distance results for the minority classifiers of random dataset \"+str(d)\n",
    "    largestdistances=[215.7683943491261,167.77067681809,99.84487968844472,97.77013859047148,97.01030873056739,96.97422337920526]\n",
    "    lowestdistances=[88.91006692158093,90.62008607367353,91.81503144910424,91.98369420718001,94.66255859631093,94.75230867899737]\n",
    "    Minor_domains = ['book_predictions','dvd_predictions','automotive_predictions','jewelrywatches_predictions','computervideo_predictions','gourmet_predictions']\n",
    "    Major_domains = ['healthpersonal_predictions','baby_predictions','cameraphoto_predictions','apparel_predictions','electronics_predictions','beauty_predictions']\n",
    "    normalized_largestdistances = euclidean_norm_dict(largestdistances)\n",
    "    normalized_smallestdistances = euclidean_norm_dict(lowestdistances)\n",
    "    normalized_largestdistances_inverted = [0] * len(normalized_largestdistances)\n",
    "    normalized_smallestdistances_inverted = [0] * len(normalized_smallestdistances)\n",
    "    for i in range(len(normalized_largestdistances)):\n",
    "        normalized_largestdistances_inverted[i] = 1 - normalized_largestdistances[i]\n",
    "    \n",
    "    for j in range(len(normalized_smallestdistances)):\n",
    "        normalized_smallestdistances_inverted[j] = 1 - normalized_smallestdistances[j]\n",
    "    thresholds = [0.7]\n",
    "    euc_Fscores = []\n",
    "    euc_Accs = []\n",
    "    for i in range(len(thresholds)):\n",
    "        threshold=thresholds[i]\n",
    "        \n",
    "        kitchentestgl['minority_predictions'] = kitchentestgl.apply(lambda x: weighted_predict_largedist(x,normalized_largestdistances_inverted,threshold) )\n",
    "        #print \"minority_predictions' model Fscore when using a threshold of \"+str(thresholds[i])\n",
    "        #print graphlab.evaluation.f1_score(kitchentestgl['label'], kitchentestgl['minority_predictions'])\n",
    "        #print \"minority_predictions' model Accuracy when using a threshold of \"+str(thresholds[i])\n",
    "        #print graphlab.evaluation.accuracy(kitchentestgl['label'], kitchentestgl['minority_predictions'])\n",
    "        euc_Fscores.append(graphlab.evaluation.f1_score(kitchentestgl['label'], kitchentestgl['minority_predictions']))\n",
    "        euc_Accs.append(graphlab.evaluation.accuracy(kitchentestgl['label'], kitchentestgl['minority_predictions']))\n",
    "        #euc_threshold_acc[threshold].append(graphlab.evaluation.accuracy(kitchentestgl['label'], kitchentestgl['minority_predictions']))\n",
    "        #euc_threshold_fscore[threshold].append(graphlab.evaluation.f1_score(kitchentestgl['label'], kitchentestgl['minority_predictions']))\n",
    "    print \"euclidean distance results for the Majority classifiers of random dataset \"+str(d)\n",
    "\n",
    "    euc_major_Fscores=[]\n",
    "    euc_major_Accs = []\n",
    "    for i in range(len(thresholds)):\n",
    "        threshold=thresholds[i]\n",
    "        kitchentestgl['majority_predictions'] = kitchentestgl.apply(lambda x: weighted_predict_smalldist(x,normalized_smallestdistances,threshold) )\n",
    "        #print \"majority_predictions' model Fscore when using a threshold of \"+str(thresholds[i])\n",
    "        #print graphlab.evaluation.f1_score(kitchentestgl['label'], kitchentestgl['majority_predictions'])\n",
    "        #print \"majority_predictions' model Accuracy when using a threshold of \"+str(thresholds[i])\n",
    "        #print graphlab.evaluation.accuracy(kitchentestgl['label'], kitchentestgl['majority_predictions'])\n",
    "        ##euc_Fscores.append(graphlab.evaluation.f1_score(kitchentestgl['label'], kitchentestgl['majority_predictions']))\n",
    "        ##euc_Accs.append(graphlab.evaluation.accuracy(kitchentestgl['label'], kitchentestgl['majority_predictions']))\n",
    "        euc_threshold_acc[threshold].append(graphlab.evaluation.accuracy(kitchentestgl['label'], kitchentestgl['majority_predictions']))\n",
    "        euc_threshold_fscore[threshold].append(graphlab.evaluation.f1_score(kitchentestgl['label'], kitchentestgl['majority_predictions']))\n",
    "    print \"euclidean distance results for the Majority-Minority classifiers of random dataset \"+str(d)\n",
    "\n",
    "    #threshold using all models\n",
    "    for i in range(len(thresholds)):\n",
    "        threshold=thresholds[i]\n",
    "        kitchentestgl['majority_minority_predictions'] = kitchentestgl.apply(lambda x: weighted_predict_smalldist_largedistances(x,normalized_smallestdistances,normalized_largestdistances,threshold) )\n",
    "\n",
    "        #print \"majority_minority_predictions' model Fscore when using a threshold of \"+str(thresholds[i])\n",
    "        #print graphlab.evaluation.f1_score(kitchentestgl['label'], kitchentestgl['majority_minority_predictions'])\n",
    "        #print \"majority_minority_predictions' model Accuracy when using a threshold of \"+str(thresholds[i])\n",
    "        #print graphlab.evaluation.accuracy(kitchentestgl['label'], kitchentestgl['majority_minority_predictions'])\n",
    "        ##euc_Fscores.append(graphlab.evaluation.f1_score(kitchentestgl['label'], kitchentestgl['majority_minority_predictions']))\n",
    "        ##euc_Accs.append(graphlab.evaluation.accuracy(kitchentestgl['label'], kitchentestgl['majority_minority_predictions']))\n",
    "        euc_threshold_acc[threshold].append(graphlab.evaluation.accuracy(kitchentestgl['label'], kitchentestgl['majority_minority_predictions']))\n",
    "        euc_threshold_fscore[threshold].append(graphlab.evaluation.f1_score(kitchentestgl['label'], kitchentestgl['majority_minority_predictions']))\n",
    "    print \"max euc acc\"\n",
    "    print max(euc_Accs)\n",
    "    max_euc_accs.append(max(euc_Accs))\n",
    "    max_euc_fscores.append(max(euc_Fscores))\n",
    "    largestdistances=[0.5633181597498838,0.5546099411237762,0.5240471587804418,0.5039841842356722,0.49261932743957626,0.487554486027983]\n",
    "    lowestdistances=[ 0.36080598790800533,0.3686636285328633,0.4070498131725162,0.40863691553859804,0.4114316511076972,0.4613234524061305]\n",
    "    Minor_domains = ['automotive_predictions','book_predictions','jewelrywatches_predictions','gourmet_predictions','dvd_predictions','grocery_predictions']\n",
    "\n",
    "    Major_domains = ['electronics_predictions','healthpersonal_predictions','cameraphoto_predictions','apparel_predictions','baby_predictions','beauty_predictions']\n",
    "    normalized_largestdistances = euclidean_norm_dict(largestdistances)\n",
    "    normalized_smallestdistances = euclidean_norm_dict(lowestdistances)\n",
    "    normalized_largestdistances_inverted = [0] * len(normalized_largestdistances)\n",
    "    normalized_smallestdistances_inverted = [0] * len(normalized_smallestdistances)\n",
    "    for i in range(len(normalized_largestdistances)):\n",
    "        normalized_largestdistances_inverted[i] = 1 - normalized_largestdistances[i]\n",
    "    \n",
    "    for j in range(len(normalized_smallestdistances)):\n",
    "        normalized_smallestdistances_inverted[j] = 1 - normalized_smallestdistances[j]\n",
    "    print \"Cosine distance results for the minority classifiers of random dataset \"+str(d)\n",
    "    cosine_Accs=[]\n",
    "    cosine_Fscores=[]\n",
    "    for i in range(len(thresholds)):\n",
    "        threshold=thresholds[i]\n",
    "        kitchentestgl['minority_predictions'] = kitchentestgl.apply(lambda x: weighted_predict_largedist(x,normalized_largestdistances_inverted,threshold) )\n",
    "        #print \"minority_predictions' model Fscore when using a threshold of \"+str(thresholds[i])\n",
    "        #print graphlab.evaluation.f1_score(kitchentestgl['label'], kitchentestgl['minority_predictions'])\n",
    "        #print \"minority_predictions' model Accuracy when using a threshold of \"+str(thresholds[i])\n",
    "        #print graphlab.evaluation.accuracy(kitchentestgl['label'], kitchentestgl['minority_predictions'])\n",
    "        cosine_Accs.append(graphlab.evaluation.accuracy(kitchentestgl['label'], kitchentestgl['minority_predictions']))\n",
    "        cosine_Fscores.append(graphlab.evaluation.f1_score(kitchentestgl['label'], kitchentestgl['minority_predictions']))\n",
    "        #cosine_threshold_acc[threshold].append(graphlab.evaluation.accuracy(kitchentestgl['label'], kitchentestgl['minority_predictions']))\n",
    "        #cosine_threshold_fscore[threshold].append(graphlab.evaluation.f1_score(kitchentestgl['label'], kitchentestgl['minority_predictions']))\n",
    "    \n",
    "    print \"Cosine distance results for the Majority classifiers of random dataset \"+str(d)\n",
    "    for i in range(len(thresholds)):\n",
    "        threshold=thresholds[i]\n",
    "        kitchentestgl['majority_predictions'] = kitchentestgl.apply(lambda x: weighted_predict_smalldist(x,normalized_smallestdistances,threshold) )\n",
    "        #print \"majority_predictions' model Fscore when using a threshold of \"+str(thresholds[i])\n",
    "        #print graphlab.evaluation.f1_score(kitchentestgl['label'], kitchentestgl['majority_predictions'])\n",
    "        #print \"majority_predictions' model Accuracy when using a threshold of \"+str(thresholds[i])\n",
    "        #print graphlab.evaluation.accuracy(kitchentestgl['label'], kitchentestgl['majority_predictions'])\n",
    "        ##cosine_Accs.append(graphlab.evaluation.accuracy(kitchentestgl['label'], kitchentestgl['majority_predictions']))\n",
    "        ##cosine_Fscores.append(graphlab.evaluation.f1_score(kitchentestgl['label'], kitchentestgl['majority_predictions']))\n",
    "        #cosine_threshold_acc[threshold].append(graphlab.evaluation.accuracy(kitchentestgl['label'], kitchentestgl['majority_predictions']))\n",
    "        #cosine_threshold_fscore[threshold].append(graphlab.evaluation.f1_score(kitchentestgl['label'], kitchentestgl['majority_predictions']))\n",
    "    \n",
    "    print \"Cosine distance results for the Majority-Minority classifiers of random dataset \"+str(d)\n",
    "    \n",
    "    \n",
    "    for i in range(len(thresholds)):\n",
    "        threshold=thresholds[i]\n",
    "        kitchentestgl['majority_minority_predictions'] = kitchentestgl.apply(lambda x: weighted_predict_smalldist_largedistances(x,normalized_smallestdistances,normalized_largestdistances,threshold) )\n",
    "\n",
    "        #print \"majority_minority_predictions' model Fscore when using a threshold of \"+str(thresholds[i])\n",
    "        #print graphlab.evaluation.f1_score(kitchentestgl['label'], kitchentestgl['majority_minority_predictions'])\n",
    "        #print \"majority_minority_predictions' model Accuracy when using a threshold of \"+str(thresholds[i])\n",
    "        #print graphlab.evaluation.accuracy(kitchentestgl['label'], kitchentestgl['majority_minority_predictions'])\n",
    "        print \"max euc acc\"\n",
    "        ##cosine_Accs.append(graphlab.evaluation.accuracy(kitchentestgl['label'], kitchentestgl['majority_minority_predictions']))\n",
    "        ##cosine_Fscores.append(graphlab.evaluation.f1_score(kitchentestgl['label'], kitchentestgl['majority_minority_predictions']))\n",
    "        cosine_threshold_acc[threshold].append(graphlab.evaluation.accuracy(kitchentestgl['label'], kitchentestgl['majority_minority_predictions']))\n",
    "        cosine_threshold_fscore[threshold].append(graphlab.evaluation.f1_score(kitchentestgl['label'], kitchentestgl['majority_minority_predictions']))\n",
    "    print max(cosine_Accs)\n",
    "    max_cosine_accs.append(max(cosine_Accs))\n",
    "    max_cosine_fscores.append(max(cosine_Fscores))\n",
    "    print \"data set \"+str(counter)+' was tested!'\n",
    "print \"max cosine acc\"\n",
    "print max_cosine_accs\n",
    "max_cosine_accs_mean = sum(max_cosine_accs) / len(max_cosine_accs)\n",
    "print \"average cosine accuracy for threshold \" + str(thresholds[0])\n",
    "print max_cosine_accs_mean\n",
    "max_cosine_fscores_mean = sum(max_cosine_fscores) / len(max_cosine_fscores)\n",
    "print \"average cosine fscore for threshold \" + str(thresholds[0])\n",
    "print max_cosine_fscores_mean\n",
    "\n",
    "print \"max euc acc\"\n",
    "print max_euc_accs\n",
    "max_euc_accs_mean = sum(max_euc_accs) / len(max_euc_accs)\n",
    "\n",
    "print \"average euclidean accuracy for threshold \" + str(thresholds[0])\n",
    "print max_euc_accs_mean\n",
    "max_euc_fscores_mean = sum(max_euc_fscores) / len(max_euc_fscores)\n",
    "print \"average euclidean fscore for threshold \" + str(thresholds[0])\n",
    "print max_euc_fscores_mean\n",
    "\n",
    "\n",
    "\n",
    "\n",
    "\n",
    "\n",
    "\n",
    "\n"
   ]
  },
  {
   "cell_type": "markdown",
   "metadata": {},
   "source": [
    "## Top performing classifiers (th=0.7)"
   ]
  },
  {
   "cell_type": "code",
   "execution_count": 11,
   "metadata": {
    "collapsed": false
   },
   "outputs": [
    {
     "data": {
      "text/html": [
       "<pre>Finished parsing file C:\\Users\\Omar\\kitchentestgl_random.csv</pre>"
      ],
      "text/plain": [
       "Finished parsing file C:\\Users\\Omar\\kitchentestgl_random.csv"
      ]
     },
     "metadata": {},
     "output_type": "display_data"
    },
    {
     "data": {
      "text/html": [
       "<pre>Parsing completed. Parsed 100 lines in 0.111299 secs.</pre>"
      ],
      "text/plain": [
       "Parsing completed. Parsed 100 lines in 0.111299 secs."
      ]
     },
     "metadata": {},
     "output_type": "display_data"
    },
    {
     "name": "stdout",
     "output_type": "stream",
     "text": [
      "------------------------------------------------------\n",
      "Inferred types from first 100 line(s) of file as \n",
      "column_type_hints=[str,long,str,str,str,str,str,long,long,long,long,long,long,long,long,long,long,long,long,long]\n",
      "If parsing fails due to incorrect types, you can correct\n",
      "the inferred type list above and pass it to read_csv in\n",
      "the column_type_hints argument\n",
      "------------------------------------------------------\n"
     ]
    },
    {
     "data": {
      "text/html": [
       "<pre>Finished parsing file C:\\Users\\Omar\\kitchentestgl_random.csv</pre>"
      ],
      "text/plain": [
       "Finished parsing file C:\\Users\\Omar\\kitchentestgl_random.csv"
      ]
     },
     "metadata": {},
     "output_type": "display_data"
    },
    {
     "data": {
      "text/html": [
       "<pre>Parsing completed. Parsed 1000 lines in 0.063318 secs.</pre>"
      ],
      "text/plain": [
       "Parsing completed. Parsed 1000 lines in 0.063318 secs."
      ]
     },
     "metadata": {},
     "output_type": "display_data"
    },
    {
     "name": "stdout",
     "output_type": "stream",
     "text": [
      "results for random dataset 1\n",
      "euclidean distance results for the minority classifiers of random dataset 1\n",
      "euclidean distance results for the Majority classifiers of random dataset 1\n",
      "euclidean distance results for the Majority-Minority classifiers of random dataset 1\n",
      "max euc acc\n",
      "0.85\n",
      "Cosine distance results for the minority classifiers of random dataset 1\n",
      "Cosine distance results for the Majority classifiers of random dataset 1\n",
      "Cosine distance results for the Majority-Minority classifiers of random dataset 1\n",
      "max euc acc\n",
      "0.85\n",
      "data set 1 was tested!\n"
     ]
    },
    {
     "data": {
      "text/html": [
       "<pre>Finished parsing file C:\\Users\\Omar\\kitchentestgl_random_2.csv</pre>"
      ],
      "text/plain": [
       "Finished parsing file C:\\Users\\Omar\\kitchentestgl_random_2.csv"
      ]
     },
     "metadata": {},
     "output_type": "display_data"
    },
    {
     "data": {
      "text/html": [
       "<pre>Parsing completed. Parsed 100 lines in 0.10586 secs.</pre>"
      ],
      "text/plain": [
       "Parsing completed. Parsed 100 lines in 0.10586 secs."
      ]
     },
     "metadata": {},
     "output_type": "display_data"
    },
    {
     "name": "stdout",
     "output_type": "stream",
     "text": [
      "------------------------------------------------------\n",
      "Inferred types from first 100 line(s) of file as \n",
      "column_type_hints=[str,long,str,str,str,str,str,long,long,long,long,long,long,long,long,long,long,long,long,long]\n",
      "If parsing fails due to incorrect types, you can correct\n",
      "the inferred type list above and pass it to read_csv in\n",
      "the column_type_hints argument\n",
      "------------------------------------------------------\n"
     ]
    },
    {
     "data": {
      "text/html": [
       "<pre>Finished parsing file C:\\Users\\Omar\\kitchentestgl_random_2.csv</pre>"
      ],
      "text/plain": [
       "Finished parsing file C:\\Users\\Omar\\kitchentestgl_random_2.csv"
      ]
     },
     "metadata": {},
     "output_type": "display_data"
    },
    {
     "data": {
      "text/html": [
       "<pre>Parsing completed. Parsed 1000 lines in 0.05473 secs.</pre>"
      ],
      "text/plain": [
       "Parsing completed. Parsed 1000 lines in 0.05473 secs."
      ]
     },
     "metadata": {},
     "output_type": "display_data"
    },
    {
     "name": "stdout",
     "output_type": "stream",
     "text": [
      "results for random dataset 2\n",
      "euclidean distance results for the minority classifiers of random dataset 2\n",
      "euclidean distance results for the Majority classifiers of random dataset 2\n",
      "euclidean distance results for the Majority-Minority classifiers of random dataset 2\n",
      "max euc acc\n",
      "0.862\n",
      "Cosine distance results for the minority classifiers of random dataset 2\n",
      "Cosine distance results for the Majority classifiers of random dataset 2\n",
      "Cosine distance results for the Majority-Minority classifiers of random dataset 2\n",
      "max euc acc\n",
      "0.862\n",
      "data set 2 was tested!\n"
     ]
    },
    {
     "data": {
      "text/html": [
       "<pre>Finished parsing file C:\\Users\\Omar\\kitchentestgl_random_3.csv</pre>"
      ],
      "text/plain": [
       "Finished parsing file C:\\Users\\Omar\\kitchentestgl_random_3.csv"
      ]
     },
     "metadata": {},
     "output_type": "display_data"
    },
    {
     "data": {
      "text/html": [
       "<pre>Parsing completed. Parsed 100 lines in 0.088948 secs.</pre>"
      ],
      "text/plain": [
       "Parsing completed. Parsed 100 lines in 0.088948 secs."
      ]
     },
     "metadata": {},
     "output_type": "display_data"
    },
    {
     "name": "stdout",
     "output_type": "stream",
     "text": [
      "------------------------------------------------------\n",
      "Inferred types from first 100 line(s) of file as \n",
      "column_type_hints=[str,long,str,str,str,str,str,long,long,long,long,long,long,long,long,long,long,long,long,long]\n",
      "If parsing fails due to incorrect types, you can correct\n",
      "the inferred type list above and pass it to read_csv in\n",
      "the column_type_hints argument\n",
      "------------------------------------------------------\n"
     ]
    },
    {
     "data": {
      "text/html": [
       "<pre>Finished parsing file C:\\Users\\Omar\\kitchentestgl_random_3.csv</pre>"
      ],
      "text/plain": [
       "Finished parsing file C:\\Users\\Omar\\kitchentestgl_random_3.csv"
      ]
     },
     "metadata": {},
     "output_type": "display_data"
    },
    {
     "data": {
      "text/html": [
       "<pre>Parsing completed. Parsed 1000 lines in 0.052969 secs.</pre>"
      ],
      "text/plain": [
       "Parsing completed. Parsed 1000 lines in 0.052969 secs."
      ]
     },
     "metadata": {},
     "output_type": "display_data"
    },
    {
     "name": "stdout",
     "output_type": "stream",
     "text": [
      "results for random dataset 3\n",
      "euclidean distance results for the minority classifiers of random dataset 3\n",
      "euclidean distance results for the Majority classifiers of random dataset 3\n",
      "euclidean distance results for the Majority-Minority classifiers of random dataset 3\n",
      "max euc acc\n",
      "0.846\n",
      "Cosine distance results for the minority classifiers of random dataset 3\n",
      "Cosine distance results for the Majority classifiers of random dataset 3\n",
      "Cosine distance results for the Majority-Minority classifiers of random dataset 3\n",
      "max euc acc\n",
      "0.846\n",
      "data set 3 was tested!\n"
     ]
    },
    {
     "data": {
      "text/html": [
       "<pre>Finished parsing file C:\\Users\\Omar\\kitchentestgl_random_4.csv</pre>"
      ],
      "text/plain": [
       "Finished parsing file C:\\Users\\Omar\\kitchentestgl_random_4.csv"
      ]
     },
     "metadata": {},
     "output_type": "display_data"
    },
    {
     "data": {
      "text/html": [
       "<pre>Parsing completed. Parsed 100 lines in 0.110937 secs.</pre>"
      ],
      "text/plain": [
       "Parsing completed. Parsed 100 lines in 0.110937 secs."
      ]
     },
     "metadata": {},
     "output_type": "display_data"
    },
    {
     "name": "stdout",
     "output_type": "stream",
     "text": [
      "------------------------------------------------------\n",
      "Inferred types from first 100 line(s) of file as \n",
      "column_type_hints=[str,long,str,str,str,str,str,long,long,long,long,long,long,long,long,long,long,long,long,long]\n",
      "If parsing fails due to incorrect types, you can correct\n",
      "the inferred type list above and pass it to read_csv in\n",
      "the column_type_hints argument\n",
      "------------------------------------------------------\n"
     ]
    },
    {
     "data": {
      "text/html": [
       "<pre>Finished parsing file C:\\Users\\Omar\\kitchentestgl_random_4.csv</pre>"
      ],
      "text/plain": [
       "Finished parsing file C:\\Users\\Omar\\kitchentestgl_random_4.csv"
      ]
     },
     "metadata": {},
     "output_type": "display_data"
    },
    {
     "data": {
      "text/html": [
       "<pre>Parsing completed. Parsed 1000 lines in 0.051969 secs.</pre>"
      ],
      "text/plain": [
       "Parsing completed. Parsed 1000 lines in 0.051969 secs."
      ]
     },
     "metadata": {},
     "output_type": "display_data"
    },
    {
     "name": "stdout",
     "output_type": "stream",
     "text": [
      "results for random dataset 4\n",
      "euclidean distance results for the minority classifiers of random dataset 4\n",
      "euclidean distance results for the Majority classifiers of random dataset 4\n",
      "euclidean distance results for the Majority-Minority classifiers of random dataset 4\n",
      "max euc acc\n",
      "0.857\n",
      "Cosine distance results for the minority classifiers of random dataset 4\n",
      "Cosine distance results for the Majority classifiers of random dataset 4\n",
      "Cosine distance results for the Majority-Minority classifiers of random dataset 4\n",
      "max euc acc\n",
      "0.857\n",
      "data set 4 was tested!\n"
     ]
    },
    {
     "data": {
      "text/html": [
       "<pre>Finished parsing file C:\\Users\\Omar\\kitchentestgl_random_5.csv</pre>"
      ],
      "text/plain": [
       "Finished parsing file C:\\Users\\Omar\\kitchentestgl_random_5.csv"
      ]
     },
     "metadata": {},
     "output_type": "display_data"
    },
    {
     "data": {
      "text/html": [
       "<pre>Parsing completed. Parsed 100 lines in 0.089948 secs.</pre>"
      ],
      "text/plain": [
       "Parsing completed. Parsed 100 lines in 0.089948 secs."
      ]
     },
     "metadata": {},
     "output_type": "display_data"
    },
    {
     "name": "stdout",
     "output_type": "stream",
     "text": [
      "------------------------------------------------------\n",
      "Inferred types from first 100 line(s) of file as \n",
      "column_type_hints=[str,long,str,str,str,str,str,long,long,long,long,long,long,long,long,long,long,long,long,long]\n",
      "If parsing fails due to incorrect types, you can correct\n",
      "the inferred type list above and pass it to read_csv in\n",
      "the column_type_hints argument\n",
      "------------------------------------------------------\n"
     ]
    },
    {
     "data": {
      "text/html": [
       "<pre>Finished parsing file C:\\Users\\Omar\\kitchentestgl_random_5.csv</pre>"
      ],
      "text/plain": [
       "Finished parsing file C:\\Users\\Omar\\kitchentestgl_random_5.csv"
      ]
     },
     "metadata": {},
     "output_type": "display_data"
    },
    {
     "data": {
      "text/html": [
       "<pre>Parsing completed. Parsed 1000 lines in 0.054084 secs.</pre>"
      ],
      "text/plain": [
       "Parsing completed. Parsed 1000 lines in 0.054084 secs."
      ]
     },
     "metadata": {},
     "output_type": "display_data"
    },
    {
     "name": "stdout",
     "output_type": "stream",
     "text": [
      "results for random dataset 5\n",
      "euclidean distance results for the minority classifiers of random dataset 5\n",
      "euclidean distance results for the Majority classifiers of random dataset 5\n",
      "euclidean distance results for the Majority-Minority classifiers of random dataset 5\n",
      "max euc acc\n",
      "0.862\n",
      "Cosine distance results for the minority classifiers of random dataset 5\n",
      "Cosine distance results for the Majority classifiers of random dataset 5\n",
      "Cosine distance results for the Majority-Minority classifiers of random dataset 5\n",
      "max euc acc\n",
      "0.862\n",
      "data set 5 was tested!\n",
      "max cosine acc\n",
      "[0.85, 0.862, 0.846, 0.857, 0.862]\n",
      "average cosine accuracy for threshold 0.7\n",
      "0.8554\n",
      "average cosine fscore for threshold 0.7\n",
      "0.840696491628\n",
      "max euc acc\n",
      "[0.85, 0.862, 0.846, 0.857, 0.862]\n",
      "average euclidean accuracy for threshold 0.7\n",
      "0.8554\n",
      "average euclidean fscore for threshold 0.7\n",
      "0.840696491628\n"
     ]
    }
   ],
   "source": [
    "from collections import defaultdict\n",
    "counter=0\n",
    "max_euc_accs=[]\n",
    "max_cosine_accs=[]\n",
    "max_cosine_fscores=[]\n",
    "max_euc_fscores=[]\n",
    "euc_threshold_acc = defaultdict(list)\n",
    "cosine_threshold_acc = defaultdict(list)\n",
    "\n",
    "euc_threshold_fscore = defaultdict(list)\n",
    "cosine_threshold_fscore = defaultdict(list)\n",
    "for d in range(1,6):\n",
    "    i=d\n",
    "    counter+=1\n",
    "    if i==1:\n",
    "        kitchentestgl = graphlab.SFrame('kitchentestgl_random.csv')\n",
    "    else:\n",
    "        kitchentestgl = graphlab.SFrame('kitchentestgl_random_'+str(i)+'.csv')\n",
    "    print \"results for random dataset \"+str(d)\n",
    "    print \"euclidean distance results for the minority classifiers of random dataset \"+str(d)\n",
    "    largestdistances=[215.7683943491261,167.77067681809,99.84487968844472,97.77013859047148,97.01030873056739,96.97422337920526]\n",
    "    lowestdistances=[88.91006692158093,90.62008607367353,91.81503144910424,91.98369420718001,94.66255859631093,94.75230867899737]\n",
    "    Minor_domains = ['book_predictions','dvd_predictions','automotive_predictions','jewelrywatches_predictions','computervideo_predictions','gourmet_predictions']\n",
    "    Major_domains = ['healthpersonal_predictions','baby_predictions','cameraphoto_predictions','apparel_predictions','electronics_predictions','beauty_predictions']\n",
    "    normalized_largestdistances = euclidean_norm_dict(largestdistances)\n",
    "    normalized_smallestdistances = euclidean_norm_dict(lowestdistances)\n",
    "    normalized_largestdistances_inverted = [0] * len(normalized_largestdistances)\n",
    "    normalized_smallestdistances_inverted = [0] * len(normalized_smallestdistances)\n",
    "    for i in range(len(normalized_largestdistances)):\n",
    "        normalized_largestdistances_inverted[i] = 1 - normalized_largestdistances[i]\n",
    "    \n",
    "    for j in range(len(normalized_smallestdistances)):\n",
    "        normalized_smallestdistances_inverted[j] = 1 - normalized_smallestdistances[j]\n",
    "    thresholds = [0.7]\n",
    "    euc_Fscores = []\n",
    "    euc_Accs = []\n",
    "    for i in range(len(thresholds)):\n",
    "        threshold=thresholds[i]\n",
    "        \n",
    "        kitchentestgl['minority_predictions'] = kitchentestgl.apply(lambda x: weighted_predict_largedist(x,normalized_largestdistances,threshold) )\n",
    "        #print \"minority_predictions' model Fscore when using a threshold of \"+str(thresholds[i])\n",
    "        #print graphlab.evaluation.f1_score(kitchentestgl['label'], kitchentestgl['minority_predictions'])\n",
    "        #print \"minority_predictions' model Accuracy when using a threshold of \"+str(thresholds[i])\n",
    "        #print graphlab.evaluation.accuracy(kitchentestgl['label'], kitchentestgl['minority_predictions'])\n",
    "        ##euc_Fscores.append(graphlab.evaluation.f1_score(kitchentestgl['label'], kitchentestgl['minority_predictions']))\n",
    "        ##euc_Accs.append(graphlab.evaluation.accuracy(kitchentestgl['label'], kitchentestgl['minority_predictions']))\n",
    "        #euc_threshold_acc[threshold].append(graphlab.evaluation.accuracy(kitchentestgl['label'], kitchentestgl['minority_predictions']))\n",
    "        #euc_threshold_fscore[threshold].append(graphlab.evaluation.f1_score(kitchentestgl['label'], kitchentestgl['minority_predictions']))\n",
    "    print \"euclidean distance results for the Majority classifiers of random dataset \"+str(d)\n",
    "\n",
    "    euc_major_Fscores=[]\n",
    "    euc_major_Accs = []\n",
    "    for i in range(len(thresholds)):\n",
    "        threshold=thresholds[i]\n",
    "        kitchentestgl['majority_predictions'] = kitchentestgl.apply(lambda x: weighted_predict_smalldist(x,normalized_smallestdistances_inverted,threshold) )\n",
    "        #print \"majority_predictions' model Fscore when using a threshold of \"+str(thresholds[i])\n",
    "        #print graphlab.evaluation.f1_score(kitchentestgl['label'], kitchentestgl['majority_predictions'])\n",
    "        #print \"majority_predictions' model Accuracy when using a threshold of \"+str(thresholds[i])\n",
    "        #print graphlab.evaluation.accuracy(kitchentestgl['label'], kitchentestgl['majority_predictions'])\n",
    "        euc_Fscores.append(graphlab.evaluation.f1_score(kitchentestgl['label'], kitchentestgl['majority_predictions']))\n",
    "        euc_Accs.append(graphlab.evaluation.accuracy(kitchentestgl['label'], kitchentestgl['majority_predictions']))\n",
    "        euc_threshold_acc[threshold].append(graphlab.evaluation.accuracy(kitchentestgl['label'], kitchentestgl['majority_predictions']))\n",
    "        euc_threshold_fscore[threshold].append(graphlab.evaluation.f1_score(kitchentestgl['label'], kitchentestgl['majority_predictions']))\n",
    "    print \"euclidean distance results for the Majority-Minority classifiers of random dataset \"+str(d)\n",
    "\n",
    "    #threshold using all models\n",
    "    for i in range(len(thresholds)):\n",
    "        threshold=thresholds[i]\n",
    "        kitchentestgl['majority_minority_predictions'] = kitchentestgl.apply(lambda x: weighted_predict_smalldist_largedistances(x,normalized_smallestdistances,normalized_largestdistances,threshold) )\n",
    "\n",
    "        #print \"majority_minority_predictions' model Fscore when using a threshold of \"+str(thresholds[i])\n",
    "        #print graphlab.evaluation.f1_score(kitchentestgl['label'], kitchentestgl['majority_minority_predictions'])\n",
    "        #print \"majority_minority_predictions' model Accuracy when using a threshold of \"+str(thresholds[i])\n",
    "        #print graphlab.evaluation.accuracy(kitchentestgl['label'], kitchentestgl['majority_minority_predictions'])\n",
    "        ##euc_Fscores.append(graphlab.evaluation.f1_score(kitchentestgl['label'], kitchentestgl['majority_minority_predictions']))\n",
    "        ##euc_Accs.append(graphlab.evaluation.accuracy(kitchentestgl['label'], kitchentestgl['majority_minority_predictions']))\n",
    "        euc_threshold_acc[threshold].append(graphlab.evaluation.accuracy(kitchentestgl['label'], kitchentestgl['majority_minority_predictions']))\n",
    "        euc_threshold_fscore[threshold].append(graphlab.evaluation.f1_score(kitchentestgl['label'], kitchentestgl['majority_minority_predictions']))\n",
    "    print \"max euc acc\"\n",
    "    print max(euc_Accs)\n",
    "    max_euc_accs.append(max(euc_Accs))\n",
    "    max_euc_fscores.append(max(euc_Fscores))\n",
    "    largestdistances=[0.5633181597498838,0.5546099411237762,0.5240471587804418,0.5039841842356722,0.49261932743957626,0.487554486027983]\n",
    "    lowestdistances=[ 0.36080598790800533,0.3686636285328633,0.4070498131725162,0.40863691553859804,0.4114316511076972,0.4613234524061305]\n",
    "    Minor_domains = ['automotive_predictions','book_predictions','jewelrywatches_predictions','gourmet_predictions','dvd_predictions','grocery_predictions']\n",
    "\n",
    "    Major_domains = ['electronics_predictions','healthpersonal_predictions','cameraphoto_predictions','apparel_predictions','baby_predictions','beauty_predictions']\n",
    "    normalized_largestdistances = euclidean_norm_dict(largestdistances)\n",
    "    normalized_smallestdistances = euclidean_norm_dict(lowestdistances)\n",
    "    normalized_largestdistances_inverted = [0] * len(normalized_largestdistances)\n",
    "    normalized_smallestdistances_inverted = [0] * len(normalized_smallestdistances)\n",
    "    for i in range(len(normalized_largestdistances)):\n",
    "        normalized_largestdistances_inverted[i] = 1 - normalized_largestdistances[i]\n",
    "    \n",
    "    for j in range(len(normalized_smallestdistances)):\n",
    "        normalized_smallestdistances_inverted[j] = 1 - normalized_smallestdistances[j]\n",
    "    print \"Cosine distance results for the minority classifiers of random dataset \"+str(d)\n",
    "    cosine_Accs=[]\n",
    "    cosine_Fscores=[]\n",
    "    for i in range(len(thresholds)):\n",
    "        threshold=thresholds[i]\n",
    "        kitchentestgl['minority_predictions'] = kitchentestgl.apply(lambda x: weighted_predict_largedist(x,normalized_largestdistances,threshold) )\n",
    "        #print \"minority_predictions' model Fscore when using a threshold of \"+str(thresholds[i])\n",
    "        #print graphlab.evaluation.f1_score(kitchentestgl['label'], kitchentestgl['minority_predictions'])\n",
    "        #print \"minority_predictions' model Accuracy when using a threshold of \"+str(thresholds[i])\n",
    "        #print graphlab.evaluation.accuracy(kitchentestgl['label'], kitchentestgl['minority_predictions'])\n",
    "        ##cosine_Accs.append(graphlab.evaluation.accuracy(kitchentestgl['label'], kitchentestgl['minority_predictions']))\n",
    "        ##cosine_Fscores.append(graphlab.evaluation.f1_score(kitchentestgl['label'], kitchentestgl['minority_predictions']))\n",
    "        #cosine_threshold_acc[threshold].append(graphlab.evaluation.accuracy(kitchentestgl['label'], kitchentestgl['minority_predictions']))\n",
    "        #cosine_threshold_fscore[threshold].append(graphlab.evaluation.f1_score(kitchentestgl['label'], kitchentestgl['minority_predictions']))\n",
    "    \n",
    "    print \"Cosine distance results for the Majority classifiers of random dataset \"+str(d)\n",
    "    for i in range(len(thresholds)):\n",
    "        threshold=thresholds[i]\n",
    "        kitchentestgl['majority_predictions'] = kitchentestgl.apply(lambda x: weighted_predict_smalldist(x,normalized_smallestdistances_inverted,threshold) )\n",
    "        #print \"majority_predictions' model Fscore when using a threshold of \"+str(thresholds[i])\n",
    "        #print graphlab.evaluation.f1_score(kitchentestgl['label'], kitchentestgl['majority_predictions'])\n",
    "        #print \"majority_predictions' model Accuracy when using a threshold of \"+str(thresholds[i])\n",
    "        #print graphlab.evaluation.accuracy(kitchentestgl['label'], kitchentestgl['majority_predictions'])\n",
    "        cosine_Accs.append(graphlab.evaluation.accuracy(kitchentestgl['label'], kitchentestgl['majority_predictions']))\n",
    "        cosine_Fscores.append(graphlab.evaluation.f1_score(kitchentestgl['label'], kitchentestgl['majority_predictions']))\n",
    "        #cosine_threshold_acc[threshold].append(graphlab.evaluation.accuracy(kitchentestgl['label'], kitchentestgl['majority_predictions']))\n",
    "        #cosine_threshold_fscore[threshold].append(graphlab.evaluation.f1_score(kitchentestgl['label'], kitchentestgl['majority_predictions']))\n",
    "    \n",
    "    print \"Cosine distance results for the Majority-Minority classifiers of random dataset \"+str(d)\n",
    "    \n",
    "    \n",
    "    for i in range(len(thresholds)):\n",
    "        threshold=thresholds[i]\n",
    "        kitchentestgl['majority_minority_predictions'] = kitchentestgl.apply(lambda x: weighted_predict_smalldist_largedistances(x,normalized_smallestdistances,normalized_largestdistances,threshold) )\n",
    "\n",
    "        #print \"majority_minority_predictions' model Fscore when using a threshold of \"+str(thresholds[i])\n",
    "        #print graphlab.evaluation.f1_score(kitchentestgl['label'], kitchentestgl['majority_minority_predictions'])\n",
    "        #print \"majority_minority_predictions' model Accuracy when using a threshold of \"+str(thresholds[i])\n",
    "        #print graphlab.evaluation.accuracy(kitchentestgl['label'], kitchentestgl['majority_minority_predictions'])\n",
    "        print \"max euc acc\"\n",
    "        ##cosine_Accs.append(graphlab.evaluation.accuracy(kitchentestgl['label'], kitchentestgl['majority_minority_predictions']))\n",
    "        ##cosine_Fscores.append(graphlab.evaluation.f1_score(kitchentestgl['label'], kitchentestgl['majority_minority_predictions']))\n",
    "        cosine_threshold_acc[threshold].append(graphlab.evaluation.accuracy(kitchentestgl['label'], kitchentestgl['majority_minority_predictions']))\n",
    "        cosine_threshold_fscore[threshold].append(graphlab.evaluation.f1_score(kitchentestgl['label'], kitchentestgl['majority_minority_predictions']))\n",
    "    print max(cosine_Accs)\n",
    "    max_cosine_accs.append(max(cosine_Accs))\n",
    "    max_cosine_fscores.append(max(cosine_Fscores))\n",
    "    print \"data set \"+str(counter)+' was tested!'\n",
    "print \"max cosine acc\"\n",
    "print max_cosine_accs\n",
    "max_cosine_accs_mean = sum(max_cosine_accs) / len(max_cosine_accs)\n",
    "print \"average cosine accuracy for threshold \" + str(thresholds[0])\n",
    "print max_cosine_accs_mean\n",
    "max_cosine_fscores_mean = sum(max_cosine_fscores) / len(max_cosine_fscores)\n",
    "print \"average cosine fscore for threshold \" + str(thresholds[0])\n",
    "print max_cosine_fscores_mean\n",
    "\n",
    "print \"max euc acc\"\n",
    "print max_euc_accs\n",
    "max_euc_accs_mean = sum(max_euc_accs) / len(max_euc_accs)\n",
    "\n",
    "print \"average euclidean accuracy for threshold \" + str(thresholds[0])\n",
    "print max_euc_accs_mean\n",
    "max_euc_fscores_mean = sum(max_euc_fscores) / len(max_euc_fscores)\n",
    "print \"average euclidean fscore for threshold \" + str(thresholds[0])\n",
    "print max_euc_fscores_mean\n",
    "\n",
    "\n",
    "\n",
    "\n"
   ]
  },
  {
   "cell_type": "markdown",
   "metadata": {},
   "source": [
    "## Top and Least performing classifiers (th=0.7)"
   ]
  },
  {
   "cell_type": "code",
   "execution_count": 12,
   "metadata": {
    "collapsed": false
   },
   "outputs": [
    {
     "data": {
      "text/html": [
       "<pre>Finished parsing file C:\\Users\\Omar\\kitchentestgl_random.csv</pre>"
      ],
      "text/plain": [
       "Finished parsing file C:\\Users\\Omar\\kitchentestgl_random.csv"
      ]
     },
     "metadata": {},
     "output_type": "display_data"
    },
    {
     "data": {
      "text/html": [
       "<pre>Parsing completed. Parsed 100 lines in 0.095221 secs.</pre>"
      ],
      "text/plain": [
       "Parsing completed. Parsed 100 lines in 0.095221 secs."
      ]
     },
     "metadata": {},
     "output_type": "display_data"
    },
    {
     "name": "stdout",
     "output_type": "stream",
     "text": [
      "------------------------------------------------------\n",
      "Inferred types from first 100 line(s) of file as \n",
      "column_type_hints=[str,long,str,str,str,str,str,long,long,long,long,long,long,long,long,long,long,long,long,long]\n",
      "If parsing fails due to incorrect types, you can correct\n",
      "the inferred type list above and pass it to read_csv in\n",
      "the column_type_hints argument\n",
      "------------------------------------------------------\n"
     ]
    },
    {
     "data": {
      "text/html": [
       "<pre>Finished parsing file C:\\Users\\Omar\\kitchentestgl_random.csv</pre>"
      ],
      "text/plain": [
       "Finished parsing file C:\\Users\\Omar\\kitchentestgl_random.csv"
      ]
     },
     "metadata": {},
     "output_type": "display_data"
    },
    {
     "data": {
      "text/html": [
       "<pre>Parsing completed. Parsed 1000 lines in 0.043343 secs.</pre>"
      ],
      "text/plain": [
       "Parsing completed. Parsed 1000 lines in 0.043343 secs."
      ]
     },
     "metadata": {},
     "output_type": "display_data"
    },
    {
     "name": "stdout",
     "output_type": "stream",
     "text": [
      "results for random dataset 1\n",
      "euclidean distance results for the minority classifiers of random dataset 1\n",
      "euclidean distance results for the Majority classifiers of random dataset 1\n",
      "euclidean distance results for the Majority-Minority classifiers of random dataset 1\n",
      "max euc acc\n",
      "0.85\n",
      "Cosine distance results for the minority classifiers of random dataset 1\n",
      "Cosine distance results for the Majority classifiers of random dataset 1\n",
      "Cosine distance results for the Majority-Minority classifiers of random dataset 1\n",
      "max euc acc\n",
      "0.832\n",
      "data set 1 was tested!\n"
     ]
    },
    {
     "data": {
      "text/html": [
       "<pre>Finished parsing file C:\\Users\\Omar\\kitchentestgl_random_2.csv</pre>"
      ],
      "text/plain": [
       "Finished parsing file C:\\Users\\Omar\\kitchentestgl_random_2.csv"
      ]
     },
     "metadata": {},
     "output_type": "display_data"
    },
    {
     "data": {
      "text/html": [
       "<pre>Parsing completed. Parsed 100 lines in 0.103939 secs.</pre>"
      ],
      "text/plain": [
       "Parsing completed. Parsed 100 lines in 0.103939 secs."
      ]
     },
     "metadata": {},
     "output_type": "display_data"
    },
    {
     "name": "stdout",
     "output_type": "stream",
     "text": [
      "------------------------------------------------------\n",
      "Inferred types from first 100 line(s) of file as \n",
      "column_type_hints=[str,long,str,str,str,str,str,long,long,long,long,long,long,long,long,long,long,long,long,long]\n",
      "If parsing fails due to incorrect types, you can correct\n",
      "the inferred type list above and pass it to read_csv in\n",
      "the column_type_hints argument\n",
      "------------------------------------------------------\n"
     ]
    },
    {
     "data": {
      "text/html": [
       "<pre>Finished parsing file C:\\Users\\Omar\\kitchentestgl_random_2.csv</pre>"
      ],
      "text/plain": [
       "Finished parsing file C:\\Users\\Omar\\kitchentestgl_random_2.csv"
      ]
     },
     "metadata": {},
     "output_type": "display_data"
    },
    {
     "data": {
      "text/html": [
       "<pre>Parsing completed. Parsed 1000 lines in 0.056201 secs.</pre>"
      ],
      "text/plain": [
       "Parsing completed. Parsed 1000 lines in 0.056201 secs."
      ]
     },
     "metadata": {},
     "output_type": "display_data"
    },
    {
     "name": "stdout",
     "output_type": "stream",
     "text": [
      "results for random dataset 2\n",
      "euclidean distance results for the minority classifiers of random dataset 2\n",
      "euclidean distance results for the Majority classifiers of random dataset 2\n",
      "euclidean distance results for the Majority-Minority classifiers of random dataset 2\n",
      "max euc acc\n",
      "0.864\n",
      "Cosine distance results for the minority classifiers of random dataset 2\n",
      "Cosine distance results for the Majority classifiers of random dataset 2\n",
      "Cosine distance results for the Majority-Minority classifiers of random dataset 2\n",
      "max euc acc\n",
      "0.836\n",
      "data set 2 was tested!\n"
     ]
    },
    {
     "data": {
      "text/html": [
       "<pre>Finished parsing file C:\\Users\\Omar\\kitchentestgl_random_3.csv</pre>"
      ],
      "text/plain": [
       "Finished parsing file C:\\Users\\Omar\\kitchentestgl_random_3.csv"
      ]
     },
     "metadata": {},
     "output_type": "display_data"
    },
    {
     "data": {
      "text/html": [
       "<pre>Parsing completed. Parsed 100 lines in 0.087582 secs.</pre>"
      ],
      "text/plain": [
       "Parsing completed. Parsed 100 lines in 0.087582 secs."
      ]
     },
     "metadata": {},
     "output_type": "display_data"
    },
    {
     "name": "stdout",
     "output_type": "stream",
     "text": [
      "------------------------------------------------------\n",
      "Inferred types from first 100 line(s) of file as \n",
      "column_type_hints=[str,long,str,str,str,str,str,long,long,long,long,long,long,long,long,long,long,long,long,long]\n",
      "If parsing fails due to incorrect types, you can correct\n",
      "the inferred type list above and pass it to read_csv in\n",
      "the column_type_hints argument\n",
      "------------------------------------------------------\n"
     ]
    },
    {
     "data": {
      "text/html": [
       "<pre>Finished parsing file C:\\Users\\Omar\\kitchentestgl_random_3.csv</pre>"
      ],
      "text/plain": [
       "Finished parsing file C:\\Users\\Omar\\kitchentestgl_random_3.csv"
      ]
     },
     "metadata": {},
     "output_type": "display_data"
    },
    {
     "data": {
      "text/html": [
       "<pre>Parsing completed. Parsed 1000 lines in 0.05397 secs.</pre>"
      ],
      "text/plain": [
       "Parsing completed. Parsed 1000 lines in 0.05397 secs."
      ]
     },
     "metadata": {},
     "output_type": "display_data"
    },
    {
     "name": "stdout",
     "output_type": "stream",
     "text": [
      "results for random dataset 3\n",
      "euclidean distance results for the minority classifiers of random dataset 3\n",
      "euclidean distance results for the Majority classifiers of random dataset 3\n",
      "euclidean distance results for the Majority-Minority classifiers of random dataset 3\n",
      "max euc acc\n",
      "0.856\n",
      "Cosine distance results for the minority classifiers of random dataset 3\n",
      "Cosine distance results for the Majority classifiers of random dataset 3\n",
      "Cosine distance results for the Majority-Minority classifiers of random dataset 3\n",
      "max euc acc\n",
      "0.834\n",
      "data set 3 was tested!\n"
     ]
    },
    {
     "data": {
      "text/html": [
       "<pre>Finished parsing file C:\\Users\\Omar\\kitchentestgl_random_4.csv</pre>"
      ],
      "text/plain": [
       "Finished parsing file C:\\Users\\Omar\\kitchentestgl_random_4.csv"
      ]
     },
     "metadata": {},
     "output_type": "display_data"
    },
    {
     "data": {
      "text/html": [
       "<pre>Parsing completed. Parsed 100 lines in 0.08795 secs.</pre>"
      ],
      "text/plain": [
       "Parsing completed. Parsed 100 lines in 0.08795 secs."
      ]
     },
     "metadata": {},
     "output_type": "display_data"
    },
    {
     "name": "stdout",
     "output_type": "stream",
     "text": [
      "------------------------------------------------------\n",
      "Inferred types from first 100 line(s) of file as \n",
      "column_type_hints=[str,long,str,str,str,str,str,long,long,long,long,long,long,long,long,long,long,long,long,long]\n",
      "If parsing fails due to incorrect types, you can correct\n",
      "the inferred type list above and pass it to read_csv in\n",
      "the column_type_hints argument\n",
      "------------------------------------------------------\n"
     ]
    },
    {
     "data": {
      "text/html": [
       "<pre>Finished parsing file C:\\Users\\Omar\\kitchentestgl_random_4.csv</pre>"
      ],
      "text/plain": [
       "Finished parsing file C:\\Users\\Omar\\kitchentestgl_random_4.csv"
      ]
     },
     "metadata": {},
     "output_type": "display_data"
    },
    {
     "data": {
      "text/html": [
       "<pre>Parsing completed. Parsed 1000 lines in 0.055968 secs.</pre>"
      ],
      "text/plain": [
       "Parsing completed. Parsed 1000 lines in 0.055968 secs."
      ]
     },
     "metadata": {},
     "output_type": "display_data"
    },
    {
     "name": "stdout",
     "output_type": "stream",
     "text": [
      "results for random dataset 4\n",
      "euclidean distance results for the minority classifiers of random dataset 4\n",
      "euclidean distance results for the Majority classifiers of random dataset 4\n",
      "euclidean distance results for the Majority-Minority classifiers of random dataset 4\n",
      "max euc acc\n",
      "0.862\n",
      "Cosine distance results for the minority classifiers of random dataset 4\n",
      "Cosine distance results for the Majority classifiers of random dataset 4\n",
      "Cosine distance results for the Majority-Minority classifiers of random dataset 4\n",
      "max euc acc\n",
      "0.846\n",
      "data set 4 was tested!\n"
     ]
    },
    {
     "data": {
      "text/html": [
       "<pre>Finished parsing file C:\\Users\\Omar\\kitchentestgl_random_5.csv</pre>"
      ],
      "text/plain": [
       "Finished parsing file C:\\Users\\Omar\\kitchentestgl_random_5.csv"
      ]
     },
     "metadata": {},
     "output_type": "display_data"
    },
    {
     "data": {
      "text/html": [
       "<pre>Parsing completed. Parsed 100 lines in 0.11086 secs.</pre>"
      ],
      "text/plain": [
       "Parsing completed. Parsed 100 lines in 0.11086 secs."
      ]
     },
     "metadata": {},
     "output_type": "display_data"
    },
    {
     "name": "stdout",
     "output_type": "stream",
     "text": [
      "------------------------------------------------------\n",
      "Inferred types from first 100 line(s) of file as \n",
      "column_type_hints=[str,long,str,str,str,str,str,long,long,long,long,long,long,long,long,long,long,long,long,long]\n",
      "If parsing fails due to incorrect types, you can correct\n",
      "the inferred type list above and pass it to read_csv in\n",
      "the column_type_hints argument\n",
      "------------------------------------------------------\n"
     ]
    },
    {
     "data": {
      "text/html": [
       "<pre>Finished parsing file C:\\Users\\Omar\\kitchentestgl_random_5.csv</pre>"
      ],
      "text/plain": [
       "Finished parsing file C:\\Users\\Omar\\kitchentestgl_random_5.csv"
      ]
     },
     "metadata": {},
     "output_type": "display_data"
    },
    {
     "data": {
      "text/html": [
       "<pre>Parsing completed. Parsed 1000 lines in 0.056966 secs.</pre>"
      ],
      "text/plain": [
       "Parsing completed. Parsed 1000 lines in 0.056966 secs."
      ]
     },
     "metadata": {},
     "output_type": "display_data"
    },
    {
     "name": "stdout",
     "output_type": "stream",
     "text": [
      "results for random dataset 5\n",
      "euclidean distance results for the minority classifiers of random dataset 5\n",
      "euclidean distance results for the Majority classifiers of random dataset 5\n",
      "euclidean distance results for the Majority-Minority classifiers of random dataset 5\n",
      "max euc acc\n",
      "0.866\n",
      "Cosine distance results for the minority classifiers of random dataset 5\n",
      "Cosine distance results for the Majority classifiers of random dataset 5\n",
      "Cosine distance results for the Majority-Minority classifiers of random dataset 5\n",
      "max euc acc\n",
      "0.85\n",
      "data set 5 was tested!\n",
      "max cosine acc\n",
      "[0.832, 0.836, 0.834, 0.846, 0.85]\n",
      "average cosine accuracy for threshold 0.7\n",
      "0.8396\n",
      "average cosine fscore for threshold 0.7\n",
      "0.818655959211\n",
      "max euc acc\n",
      "[0.85, 0.864, 0.856, 0.862, 0.866]\n",
      "average euclidean accuracy for threshold 0.7\n",
      "0.8596\n",
      "average euclidean fscore for threshold 0.7\n",
      "0.847409647314\n"
     ]
    }
   ],
   "source": [
    "## inverted weights\n",
    "        \n",
    "from collections import defaultdict\n",
    "counter=0\n",
    "max_euc_accs=[]\n",
    "max_cosine_accs=[]\n",
    "max_cosine_fscores=[]\n",
    "max_euc_fscores=[]\n",
    "euc_threshold_acc = defaultdict(list)\n",
    "cosine_threshold_acc = defaultdict(list)\n",
    "\n",
    "euc_threshold_fscore = defaultdict(list)\n",
    "cosine_threshold_fscore = defaultdict(list)\n",
    "for d in range(1,6):\n",
    "    i=d\n",
    "    counter+=1\n",
    "    if i==1:\n",
    "        kitchentestgl = graphlab.SFrame('kitchentestgl_random.csv')\n",
    "    else:\n",
    "        kitchentestgl = graphlab.SFrame('kitchentestgl_random_'+str(i)+'.csv')\n",
    "    print \"results for random dataset \"+str(d)\n",
    "    print \"euclidean distance results for the minority classifiers of random dataset \"+str(d)\n",
    "    largestdistances=[215.7683943491261,167.77067681809,99.84487968844472,97.77013859047148,97.01030873056739,96.97422337920526]\n",
    "    lowestdistances=[88.91006692158093,90.62008607367353,91.81503144910424,91.98369420718001,94.66255859631093,94.75230867899737]\n",
    "    Minor_domains = ['book_predictions','dvd_predictions','automotive_predictions','jewelrywatches_predictions','computervideo_predictions','gourmet_predictions']\n",
    "    Major_domains = ['healthpersonal_predictions','baby_predictions','cameraphoto_predictions','apparel_predictions','electronics_predictions','beauty_predictions']\n",
    "    normalized_largestdistances = euclidean_norm_dict(largestdistances)\n",
    "    normalized_smallestdistances = euclidean_norm_dict(lowestdistances)\n",
    "    normalized_largestdistances_inverted = [0] * len(normalized_largestdistances)\n",
    "    normalized_smallestdistances_inverted = [0] * len(normalized_smallestdistances)\n",
    "    for i in range(len(normalized_largestdistances)):\n",
    "        normalized_largestdistances_inverted[i] = 1 - normalized_largestdistances[i]\n",
    "    \n",
    "    for j in range(len(normalized_smallestdistances)):\n",
    "        normalized_smallestdistances_inverted[j] = 1 - normalized_smallestdistances[j]\n",
    "    thresholds = [0.7]\n",
    "    euc_Fscores = []\n",
    "    euc_Accs = []\n",
    "    for i in range(len(thresholds)):\n",
    "        threshold=thresholds[i]\n",
    "        \n",
    "        kitchentestgl['minority_predictions'] = kitchentestgl.apply(lambda x: weighted_predict_largedist(x,normalized_largestdistances,threshold) )\n",
    "        #print \"minority_predictions' model Fscore when using a threshold of \"+str(thresholds[i])\n",
    "        #print graphlab.evaluation.f1_score(kitchentestgl['label'], kitchentestgl['minority_predictions'])\n",
    "        #print \"minority_predictions' model Accuracy when using a threshold of \"+str(thresholds[i])\n",
    "        #print graphlab.evaluation.accuracy(kitchentestgl['label'], kitchentestgl['minority_predictions'])\n",
    "        ##euc_Fscores.append(graphlab.evaluation.f1_score(kitchentestgl['label'], kitchentestgl['minority_predictions']))\n",
    "        ##euc_Accs.append(graphlab.evaluation.accuracy(kitchentestgl['label'], kitchentestgl['minority_predictions']))\n",
    "        #euc_threshold_acc[threshold].append(graphlab.evaluation.accuracy(kitchentestgl['label'], kitchentestgl['minority_predictions']))\n",
    "        #euc_threshold_fscore[threshold].append(graphlab.evaluation.f1_score(kitchentestgl['label'], kitchentestgl['minority_predictions']))\n",
    "    print \"euclidean distance results for the Majority classifiers of random dataset \"+str(d)\n",
    "\n",
    "    euc_major_Fscores=[]\n",
    "    euc_major_Accs = []\n",
    "    for i in range(len(thresholds)):\n",
    "        threshold=thresholds[i]\n",
    "        kitchentestgl['majority_predictions'] = kitchentestgl.apply(lambda x: weighted_predict_smalldist(x,normalized_smallestdistances,threshold) )\n",
    "        #print \"majority_predictions' model Fscore when using a threshold of \"+str(thresholds[i])\n",
    "        #print graphlab.evaluation.f1_score(kitchentestgl['label'], kitchentestgl['majority_predictions'])\n",
    "        #print \"majority_predictions' model Accuracy when using a threshold of \"+str(thresholds[i])\n",
    "        #print graphlab.evaluation.accuracy(kitchentestgl['label'], kitchentestgl['majority_predictions'])\n",
    "        ##euc_Fscores.append(graphlab.evaluation.f1_score(kitchentestgl['label'], kitchentestgl['majority_predictions']))\n",
    "        ##euc_Accs.append(graphlab.evaluation.accuracy(kitchentestgl['label'], kitchentestgl['majority_predictions']))\n",
    "        euc_threshold_acc[threshold].append(graphlab.evaluation.accuracy(kitchentestgl['label'], kitchentestgl['majority_predictions']))\n",
    "        euc_threshold_fscore[threshold].append(graphlab.evaluation.f1_score(kitchentestgl['label'], kitchentestgl['majority_predictions']))\n",
    "    print \"euclidean distance results for the Majority-Minority classifiers of random dataset \"+str(d)\n",
    "\n",
    "    #threshold using all models\n",
    "    for i in range(len(thresholds)):\n",
    "        threshold=thresholds[i]\n",
    "        kitchentestgl['majority_minority_predictions'] = kitchentestgl.apply(lambda x: weighted_predict_smalldist_largedistances(x,normalized_smallestdistances_inverted,normalized_largestdistances_inverted,threshold) )\n",
    "\n",
    "        #print \"majority_minority_predictions' model Fscore when using a threshold of \"+str(thresholds[i])\n",
    "        #print graphlab.evaluation.f1_score(kitchentestgl['label'], kitchentestgl['majority_minority_predictions'])\n",
    "        #print \"majority_minority_predictions' model Accuracy when using a threshold of \"+str(thresholds[i])\n",
    "        #print graphlab.evaluation.accuracy(kitchentestgl['label'], kitchentestgl['majority_minority_predictions'])\n",
    "        euc_Fscores.append(graphlab.evaluation.f1_score(kitchentestgl['label'], kitchentestgl['majority_minority_predictions']))\n",
    "        euc_Accs.append(graphlab.evaluation.accuracy(kitchentestgl['label'], kitchentestgl['majority_minority_predictions']))\n",
    "        euc_threshold_acc[threshold].append(graphlab.evaluation.accuracy(kitchentestgl['label'], kitchentestgl['majority_minority_predictions']))\n",
    "        euc_threshold_fscore[threshold].append(graphlab.evaluation.f1_score(kitchentestgl['label'], kitchentestgl['majority_minority_predictions']))\n",
    "    print \"max euc acc\"\n",
    "    print max(euc_Accs)\n",
    "    max_euc_accs.append(max(euc_Accs))\n",
    "    max_euc_fscores.append(max(euc_Fscores))\n",
    "    largestdistances=[0.5633181597498838,0.5546099411237762,0.5240471587804418,0.5039841842356722,0.49261932743957626,0.487554486027983]\n",
    "    lowestdistances=[ 0.36080598790800533,0.3686636285328633,0.4070498131725162,0.40863691553859804,0.4114316511076972,0.4613234524061305]\n",
    "    Minor_domains = ['automotive_predictions','book_predictions','jewelrywatches_predictions','gourmet_predictions','dvd_predictions','grocery_predictions']\n",
    "\n",
    "    Major_domains = ['electronics_predictions','healthpersonal_predictions','cameraphoto_predictions','apparel_predictions','baby_predictions','beauty_predictions']\n",
    "    normalized_largestdistances = euclidean_norm_dict(largestdistances)\n",
    "    normalized_smallestdistances = euclidean_norm_dict(lowestdistances)\n",
    "    normalized_largestdistances_inverted = [0] * len(normalized_largestdistances)\n",
    "    normalized_smallestdistances_inverted = [0] * len(normalized_smallestdistances)\n",
    "    for i in range(len(normalized_largestdistances)):\n",
    "        normalized_largestdistances_inverted[i] = 1 - normalized_largestdistances[i]\n",
    "    \n",
    "    for j in range(len(normalized_smallestdistances)):\n",
    "        normalized_smallestdistances_inverted[j] = 1 - normalized_smallestdistances[j]\n",
    "    print \"Cosine distance results for the minority classifiers of random dataset \"+str(d)\n",
    "    cosine_Accs=[]\n",
    "    cosine_Fscores=[]\n",
    "    for i in range(len(thresholds)):\n",
    "        threshold=thresholds[i]\n",
    "        kitchentestgl['minority_predictions'] = kitchentestgl.apply(lambda x: weighted_predict_largedist(x,normalized_largestdistances,threshold) )\n",
    "        #print \"minority_predictions' model Fscore when using a threshold of \"+str(thresholds[i])\n",
    "        #print graphlab.evaluation.f1_score(kitchentestgl['label'], kitchentestgl['minority_predictions'])\n",
    "        #print \"minority_predictions' model Accuracy when using a threshold of \"+str(thresholds[i])\n",
    "        #print graphlab.evaluation.accuracy(kitchentestgl['label'], kitchentestgl['minority_predictions'])\n",
    "        ##cosine_Accs.append(graphlab.evaluation.accuracy(kitchentestgl['label'], kitchentestgl['minority_predictions']))\n",
    "        ##cosine_Fscores.append(graphlab.evaluation.f1_score(kitchentestgl['label'], kitchentestgl['minority_predictions']))\n",
    "        #cosine_threshold_acc[threshold].append(graphlab.evaluation.accuracy(kitchentestgl['label'], kitchentestgl['minority_predictions']))\n",
    "        #cosine_threshold_fscore[threshold].append(graphlab.evaluation.f1_score(kitchentestgl['label'], kitchentestgl['minority_predictions']))\n",
    "    \n",
    "    print \"Cosine distance results for the Majority classifiers of random dataset \"+str(d)\n",
    "    for i in range(len(thresholds)):\n",
    "        threshold=thresholds[i]\n",
    "        kitchentestgl['majority_predictions'] = kitchentestgl.apply(lambda x: weighted_predict_smalldist(x,normalized_smallestdistances,threshold) )\n",
    "        #print \"majority_predictions' model Fscore when using a threshold of \"+str(thresholds[i])\n",
    "        #print graphlab.evaluation.f1_score(kitchentestgl['label'], kitchentestgl['majority_predictions'])\n",
    "        #print \"majority_predictions' model Accuracy when using a threshold of \"+str(thresholds[i])\n",
    "        #print graphlab.evaluation.accuracy(kitchentestgl['label'], kitchentestgl['majority_predictions'])\n",
    "        ##cosine_Accs.append(graphlab.evaluation.accuracy(kitchentestgl['label'], kitchentestgl['majority_predictions']))\n",
    "        ##cosine_Fscores.append(graphlab.evaluation.f1_score(kitchentestgl['label'], kitchentestgl['majority_predictions']))\n",
    "        #cosine_threshold_acc[threshold].append(graphlab.evaluation.accuracy(kitchentestgl['label'], kitchentestgl['majority_predictions']))\n",
    "        #cosine_threshold_fscore[threshold].append(graphlab.evaluation.f1_score(kitchentestgl['label'], kitchentestgl['majority_predictions']))\n",
    "    \n",
    "    print \"Cosine distance results for the Majority-Minority classifiers of random dataset \"+str(d)\n",
    "    \n",
    "    \n",
    "    for i in range(len(thresholds)):\n",
    "        threshold=thresholds[i]\n",
    "        kitchentestgl['majority_minority_predictions'] = kitchentestgl.apply(lambda x: weighted_predict_smalldist_largedistances(x,normalized_smallestdistances_inverted,normalized_largestdistances_inverted,threshold) )\n",
    "\n",
    "        #print \"majority_minority_predictions' model Fscore when using a threshold of \"+str(thresholds[i])\n",
    "        #print graphlab.evaluation.f1_score(kitchentestgl['label'], kitchentestgl['majority_minority_predictions'])\n",
    "        #print \"majority_minority_predictions' model Accuracy when using a threshold of \"+str(thresholds[i])\n",
    "        #print graphlab.evaluation.accuracy(kitchentestgl['label'], kitchentestgl['majority_minority_predictions'])\n",
    "        print \"max euc acc\"\n",
    "        cosine_Accs.append(graphlab.evaluation.accuracy(kitchentestgl['label'], kitchentestgl['majority_minority_predictions']))\n",
    "        cosine_Fscores.append(graphlab.evaluation.f1_score(kitchentestgl['label'], kitchentestgl['majority_minority_predictions']))\n",
    "        cosine_threshold_acc[threshold].append(graphlab.evaluation.accuracy(kitchentestgl['label'], kitchentestgl['majority_minority_predictions']))\n",
    "        cosine_threshold_fscore[threshold].append(graphlab.evaluation.f1_score(kitchentestgl['label'], kitchentestgl['majority_minority_predictions']))\n",
    "    print max(cosine_Accs)\n",
    "    max_cosine_accs.append(max(cosine_Accs))\n",
    "    max_cosine_fscores.append(max(cosine_Fscores))\n",
    "    print \"data set \"+str(counter)+' was tested!'\n",
    "print \"max cosine acc\"\n",
    "print max_cosine_accs\n",
    "max_cosine_accs_mean = sum(max_cosine_accs) / len(max_cosine_accs)\n",
    "print \"average cosine accuracy for threshold \" + str(thresholds[0])\n",
    "print max_cosine_accs_mean\n",
    "max_cosine_fscores_mean = sum(max_cosine_fscores) / len(max_cosine_fscores)\n",
    "print \"average cosine fscore for threshold \" + str(thresholds[0])\n",
    "print max_cosine_fscores_mean\n",
    "\n",
    "print \"max euc acc\"\n",
    "print max_euc_accs\n",
    "max_euc_accs_mean = sum(max_euc_accs) / len(max_euc_accs)\n",
    "\n",
    "print \"average euclidean accuracy for threshold \" + str(thresholds[0])\n",
    "print max_euc_accs_mean\n",
    "max_euc_fscores_mean = sum(max_euc_fscores) / len(max_euc_fscores)\n",
    "print \"average euclidean fscore for threshold \" + str(thresholds[0])\n",
    "print max_euc_fscores_mean\n",
    "\n",
    "\n",
    "\n",
    "\n",
    "\n",
    "\n",
    "\n",
    "\n",
    "\n"
   ]
  },
  {
   "cell_type": "code",
   "execution_count": null,
   "metadata": {
    "collapsed": true
   },
   "outputs": [],
   "source": []
  },
  {
   "cell_type": "code",
   "execution_count": null,
   "metadata": {
    "collapsed": true
   },
   "outputs": [],
   "source": []
  },
  {
   "cell_type": "code",
   "execution_count": null,
   "metadata": {
    "collapsed": true
   },
   "outputs": [],
   "source": []
  },
  {
   "cell_type": "code",
   "execution_count": null,
   "metadata": {
    "collapsed": true
   },
   "outputs": [],
   "source": []
  },
  {
   "cell_type": "code",
   "execution_count": null,
   "metadata": {
    "collapsed": true
   },
   "outputs": [],
   "source": []
  },
  {
   "cell_type": "code",
   "execution_count": null,
   "metadata": {
    "collapsed": true
   },
   "outputs": [],
   "source": []
  },
  {
   "cell_type": "code",
   "execution_count": null,
   "metadata": {
    "collapsed": true
   },
   "outputs": [],
   "source": []
  },
  {
   "cell_type": "code",
   "execution_count": null,
   "metadata": {
    "collapsed": true
   },
   "outputs": [],
   "source": []
  },
  {
   "cell_type": "code",
   "execution_count": null,
   "metadata": {
    "collapsed": true
   },
   "outputs": [],
   "source": []
  },
  {
   "cell_type": "code",
   "execution_count": null,
   "metadata": {
    "collapsed": true
   },
   "outputs": [],
   "source": []
  },
  {
   "cell_type": "code",
   "execution_count": null,
   "metadata": {
    "collapsed": true
   },
   "outputs": [],
   "source": []
  },
  {
   "cell_type": "code",
   "execution_count": null,
   "metadata": {
    "collapsed": true
   },
   "outputs": [],
   "source": []
  }
 ],
 "metadata": {
  "kernelspec": {
   "display_name": "Python 2",
   "language": "python",
   "name": "python2"
  },
  "language_info": {
   "codemirror_mode": {
    "name": "ipython",
    "version": 2
   },
   "file_extension": ".py",
   "mimetype": "text/x-python",
   "name": "python",
   "nbconvert_exporter": "python",
   "pygments_lexer": "ipython2",
   "version": "2.7.11"
  }
 },
 "nbformat": 4,
 "nbformat_minor": 0
}
